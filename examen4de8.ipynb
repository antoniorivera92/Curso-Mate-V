{
 "cells": [
  {
   "cell_type": "markdown",
   "metadata": {},
   "source": [
    "# Examen 1"
   ]
  },
  {
   "cell_type": "markdown",
   "metadata": {},
   "source": [
    "## Situación 1: Caída libre"
   ]
  },
  {
   "cell_type": "markdown",
   "metadata": {},
   "source": [
    "**En física, el fenómeno conocido como *tiro vertical* puede ser descrito mediante la altura en función del tiempo:\n",
    "$$h(t)=vt-\\dfrac{1}{2}gt^2\\ ,$$\n",
    "donde $v$ es la rapidez inicial del objeto lanzado y $g$ es la aceleración de un objeto cayendo en la Tierra. Tomaremos $g=9.81\\ \\text{m}/\\text{s}^2$.**\n",
    "\n",
    "**En el laboratorio de física de la ENP 6 fabrican un lanzapapas que logra lanzar objetos con una rapidez inicial de $49.05\\ \\text{m}/\\text{s}$. El grupo sale a la explanada del campus para probar su máquina, lanzando la papa hacia el cielo para ver su movimiento.**"
   ]
  },
  {
   "cell_type": "markdown",
   "metadata": {},
   "source": [
    "**1. ¿Cuál sería la altura aproximada que alcanza la papa $2.719\\ \\text{s}$ después de haber sido lanzada?**\n",
    "\n",
    "**(2 puntos)**"
   ]
  },
  {
   "cell_type": "markdown",
   "metadata": {},
   "source": [
    "A. $97.104\\ \\text{m}$\n",
    "\n",
    "B. $118.392\\ \\text{m}$\n",
    "\n",
    "C. $83.405\\ \\text{m}$\n",
    "\n",
    "D. $171.849\\ \\text{m}$"
   ]
  },
  {
   "cell_type": "markdown",
   "metadata": {},
   "source": [
    "Simplemente usamos la función evaluada en el tiempo que nos dan, usando los datos del problema:"
   ]
  },
  {
   "cell_type": "markdown",
   "metadata": {},
   "source": [
    "$$h(t)=v_0t-\\dfrac{1}{2}gt^2$$"
   ]
  },
  {
   "cell_type": "markdown",
   "metadata": {},
   "source": [
    "$$h(t)=49.05t-4.905t^2$$"
   ]
  },
  {
   "cell_type": "markdown",
   "metadata": {},
   "source": [
    "$$h(2.719)=49.05(2.719)-4.905(2.719)^2=97.104$$"
   ]
  },
  {
   "cell_type": "code",
   "execution_count": 1,
   "metadata": {},
   "outputs": [
    {
     "data": {
      "text/plain": [
       "97.10447629499998"
      ]
     },
     "execution_count": 1,
     "metadata": {},
     "output_type": "execute_result"
    }
   ],
   "source": [
    "49.05*(2.719)-4.905*(2.719)^2"
   ]
  },
  {
   "cell_type": "markdown",
   "metadata": {},
   "source": [
    "Entonces, a los $2.719\\ \\text{s}$, la papa se encuentra aproximadamente a $97.104\\ \\text{m}$ sobre el piso."
   ]
  },
  {
   "cell_type": "markdown",
   "metadata": {},
   "source": [
    "A. $97.104\\ \\text{m}$\n",
    "\n",
    "B. $118.392\\ \\text{m}$\n",
    "\n",
    "C. $83.405\\ \\text{m}$\n",
    "\n",
    "D. $171.849\\ \\text{m}$"
   ]
  },
  {
   "cell_type": "markdown",
   "metadata": {},
   "source": [
    "**Solución:** A."
   ]
  },
  {
   "cell_type": "markdown",
   "metadata": {},
   "source": [
    "**2. ¿A cuáles tiempos la papa se encuentra a una altura de $78.48\\ \\text{m}$ con respecto al piso?**\n",
    "\n",
    "**(3 puntos)**"
   ]
  },
  {
   "cell_type": "markdown",
   "metadata": {},
   "source": [
    "A. 2 s y 8 s\n",
    "\n",
    "B. 1 s y 9 s\n",
    "\n",
    "C. 1 s y 14 s\n",
    "\n",
    "B. 7 s y 8 s"
   ]
  },
  {
   "cell_type": "markdown",
   "metadata": {},
   "source": [
    "**1ra manera:**"
   ]
  },
  {
   "cell_type": "markdown",
   "metadata": {},
   "source": [
    "Sustituimos cada tiempo en la ecuación hasta encontrar cuáles son los valores que hacen que la altura sea de $78.48\\ \\text{m}:$"
   ]
  },
  {
   "cell_type": "markdown",
   "metadata": {},
   "source": [
    "Para $t=1$"
   ]
  },
  {
   "cell_type": "markdown",
   "metadata": {},
   "source": [
    "$$h(1)=49.05(1)-\\dfrac{1}{2}9.81(1)^2=44.15$$"
   ]
  },
  {
   "cell_type": "code",
   "execution_count": 2,
   "metadata": {},
   "outputs": [
    {
     "data": {
      "text/plain": [
       "44.144999999999996"
      ]
     },
     "execution_count": 2,
     "metadata": {},
     "output_type": "execute_result"
    }
   ],
   "source": [
    "49.05*(1)-4.905*(1)^2"
   ]
  },
  {
   "cell_type": "markdown",
   "metadata": {},
   "source": [
    "Para $t=2$"
   ]
  },
  {
   "cell_type": "markdown",
   "metadata": {},
   "source": [
    "$$h(2)=49.05(2)-\\dfrac{1}{2}9.81(2)^2=78.48$$"
   ]
  },
  {
   "cell_type": "code",
   "execution_count": 3,
   "metadata": {},
   "outputs": [
    {
     "data": {
      "text/plain": [
       "78.47999999999999"
      ]
     },
     "execution_count": 3,
     "metadata": {},
     "output_type": "execute_result"
    }
   ],
   "source": [
    "49.05*(2)-4.905*(2)^2"
   ]
  },
  {
   "cell_type": "markdown",
   "metadata": {},
   "source": [
    "Para $t=7$"
   ]
  },
  {
   "cell_type": "markdown",
   "metadata": {},
   "source": [
    "$$h(7)=49.05(7)-\\dfrac{1}{2}9.81(7)^2=103.005$$"
   ]
  },
  {
   "cell_type": "code",
   "execution_count": 4,
   "metadata": {},
   "outputs": [
    {
     "data": {
      "text/plain": [
       "103.00499999999997"
      ]
     },
     "execution_count": 4,
     "metadata": {},
     "output_type": "execute_result"
    }
   ],
   "source": [
    "49.05*(7)-4.905*(7)^2"
   ]
  },
  {
   "cell_type": "markdown",
   "metadata": {},
   "source": [
    "Para $t=8$"
   ]
  },
  {
   "cell_type": "markdown",
   "metadata": {},
   "source": [
    "$$h(8)=49.05(8)-\\dfrac{1}{2}9.81(8)^2=78.48$$"
   ]
  },
  {
   "cell_type": "code",
   "execution_count": 5,
   "metadata": {},
   "outputs": [
    {
     "data": {
      "text/plain": [
       "78.47999999999996"
      ]
     },
     "execution_count": 5,
     "metadata": {},
     "output_type": "execute_result"
    }
   ],
   "source": [
    "49.05*(8)-4.905*(8)^2"
   ]
  },
  {
   "cell_type": "markdown",
   "metadata": {},
   "source": [
    "Para $t=9$"
   ]
  },
  {
   "cell_type": "markdown",
   "metadata": {},
   "source": [
    "$$h(9)=49.05(9)-\\dfrac{1}{2}9.81(9)^2=44.145$$"
   ]
  },
  {
   "cell_type": "code",
   "execution_count": 6,
   "metadata": {},
   "outputs": [
    {
     "data": {
      "text/plain": [
       "44.14499999999998"
      ]
     },
     "execution_count": 6,
     "metadata": {},
     "output_type": "execute_result"
    }
   ],
   "source": [
    "49.05*(9)-4.905*(9)^2"
   ]
  },
  {
   "cell_type": "markdown",
   "metadata": {},
   "source": [
    "Para $t=14$"
   ]
  },
  {
   "cell_type": "markdown",
   "metadata": {},
   "source": [
    "$$h(14)=49.05(14)-\\dfrac{1}{2}9.81(14)^2=-274.68$$"
   ]
  },
  {
   "cell_type": "code",
   "execution_count": 7,
   "metadata": {},
   "outputs": [
    {
     "data": {
      "text/plain": [
       "-274.68000000000006"
      ]
     },
     "execution_count": 7,
     "metadata": {},
     "output_type": "execute_result"
    }
   ],
   "source": [
    "49.05*(14)-4.905*(14)^2"
   ]
  },
  {
   "cell_type": "markdown",
   "metadata": {},
   "source": [
    "**2ra manera:**"
   ]
  },
  {
   "cell_type": "markdown",
   "metadata": {},
   "source": [
    "Simplemente usamos la función evaluada en la altura que nos dan, usando los datos del problema:"
   ]
  },
  {
   "cell_type": "markdown",
   "metadata": {},
   "source": [
    "$$ 78.48=49.05t-\\dfrac{1}{2}9.81t^2 $$"
   ]
  },
  {
   "cell_type": "markdown",
   "metadata": {},
   "source": [
    "Ésta es una ecuación cuadrática. La manipularemos para poder resolverla."
   ]
  },
  {
   "cell_type": "markdown",
   "metadata": {},
   "source": [
    "$$ 4.905t^2-49.05+78.58=0 $$"
   ]
  },
  {
   "cell_type": "markdown",
   "metadata": {},
   "source": [
    "Usamos la chicharronera"
   ]
  },
  {
   "cell_type": "markdown",
   "metadata": {},
   "source": [
    "$$ t=\\dfrac{-(-49.05)\\pm\\sqrt{(-49.05)^2-4(4.905)(78.58)}}{2(4.905)} $$"
   ]
  },
  {
   "cell_type": "markdown",
   "metadata": {},
   "source": [
    "$$ t_1=\\dfrac{-(-49.05)+\\sqrt{(-49.05)^2-4(4.905)(78.58)}}{2(4.905)}=8 $$"
   ]
  },
  {
   "cell_type": "code",
   "execution_count": 8,
   "metadata": {},
   "outputs": [
    {
     "data": {
      "text/plain": [
       "7.996600180231439"
      ]
     },
     "execution_count": 8,
     "metadata": {},
     "output_type": "execute_result"
    }
   ],
   "source": [
    "(-(-49.05)+√((-49.05)^2-4*4.905*78.58))/(2*4.905)"
   ]
  },
  {
   "cell_type": "markdown",
   "metadata": {},
   "source": [
    "$$ t_2=\\dfrac{-(-49.05)-\\sqrt{(-49.05)^2-4(4.905)(78.58)}}{2(4.905)}=2 $$"
   ]
  },
  {
   "cell_type": "code",
   "execution_count": 9,
   "metadata": {},
   "outputs": [
    {
     "data": {
      "text/plain": [
       "2.0033998197685605"
      ]
     },
     "execution_count": 9,
     "metadata": {},
     "output_type": "execute_result"
    }
   ],
   "source": [
    "(-(-49.05)-√((-49.05)^2-4*4.905*78.58))/(2*4.905)"
   ]
  },
  {
   "cell_type": "markdown",
   "metadata": {},
   "source": [
    "Entonces, la ecuación cuadrática tiene soluciones $t=2$ y $t=8$, es decir, cuando el tiempo es $2$ y $8\\ \\text{s}$, la papa está a $78.58\\ \\text{m}$ sobre el piso."
   ]
  },
  {
   "cell_type": "markdown",
   "metadata": {},
   "source": [
    "A. 2 s y 8 s\n",
    "\n",
    "B. 1 s y 9 s\n",
    "\n",
    "C. 1 s y 14 s\n",
    "\n",
    "B. 7 s y 8 s"
   ]
  },
  {
   "cell_type": "markdown",
   "metadata": {},
   "source": [
    "**Solución:** A."
   ]
  },
  {
   "cell_type": "markdown",
   "metadata": {},
   "source": [
    "**3. ¿Cuánto tiempo tarda la papa en regresar al piso después de ser lanzada?**\n",
    "\n",
    "***Pista: ¿Cuál es la altura de la papa cuando regresa al piso?***\n",
    "\n",
    "**(2 puntos)**"
   ]
  },
  {
   "cell_type": "markdown",
   "metadata": {},
   "source": [
    "A. $10\\ \\text{s}$\n",
    "\n",
    "B. $0\\ \\text{s}$\n",
    "\n",
    "C. $15\\ \\text{s}$\n",
    "\n",
    "D. $5\\ \\text{s}$"
   ]
  },
  {
   "cell_type": "markdown",
   "metadata": {},
   "source": [
    "**1ra manera:**"
   ]
  },
  {
   "cell_type": "markdown",
   "metadata": {},
   "source": [
    "Sustituimos cada tiempo en la ecuación hasta encontrar cuáles son los valores que hacen que la altura sea de $0\\ \\text{m}:$"
   ]
  },
  {
   "cell_type": "markdown",
   "metadata": {},
   "source": [
    "Para $t=10$"
   ]
  },
  {
   "cell_type": "markdown",
   "metadata": {},
   "source": [
    "$$h(0)=49.05(10)-\\dfrac{1}{2}9.81(10)^2=0$$"
   ]
  },
  {
   "cell_type": "code",
   "execution_count": 10,
   "metadata": {},
   "outputs": [
    {
     "data": {
      "text/plain": [
       "0.0"
      ]
     },
     "execution_count": 10,
     "metadata": {},
     "output_type": "execute_result"
    }
   ],
   "source": [
    "49.05*(10)-4.905*(10)^2"
   ]
  },
  {
   "cell_type": "markdown",
   "metadata": {},
   "source": [
    "Para $t=0$"
   ]
  },
  {
   "cell_type": "markdown",
   "metadata": {},
   "source": [
    "$$h(0)=49.05(0)-\\dfrac{1}{2}9.81(0)^2=0$$"
   ]
  },
  {
   "cell_type": "code",
   "execution_count": 11,
   "metadata": {},
   "outputs": [
    {
     "data": {
      "text/plain": [
       "0.0"
      ]
     },
     "execution_count": 11,
     "metadata": {},
     "output_type": "execute_result"
    }
   ],
   "source": [
    "49.05*(0)-4.905*(0)^2"
   ]
  },
  {
   "cell_type": "markdown",
   "metadata": {},
   "source": [
    "Para $t=15$"
   ]
  },
  {
   "cell_type": "markdown",
   "metadata": {},
   "source": [
    "$$h(15)=49.05(15)-\\dfrac{1}{2}9.81(15)^2=-367.875$$"
   ]
  },
  {
   "cell_type": "code",
   "execution_count": 12,
   "metadata": {},
   "outputs": [
    {
     "data": {
      "text/plain": [
       "-367.875"
      ]
     },
     "execution_count": 12,
     "metadata": {},
     "output_type": "execute_result"
    }
   ],
   "source": [
    "49.05*(15)-4.905*(15)^2"
   ]
  },
  {
   "cell_type": "markdown",
   "metadata": {},
   "source": [
    "Para $t=5$"
   ]
  },
  {
   "cell_type": "markdown",
   "metadata": {},
   "source": [
    "$$h(5)=49.05(5)-\\dfrac{1}{2}9.81(5)^2=122.625$$"
   ]
  },
  {
   "cell_type": "code",
   "execution_count": 13,
   "metadata": {},
   "outputs": [
    {
     "data": {
      "text/plain": [
       "122.625"
      ]
     },
     "execution_count": 13,
     "metadata": {},
     "output_type": "execute_result"
    }
   ],
   "source": [
    "49.05*(5)-4.905*(5)^2"
   ]
  },
  {
   "cell_type": "markdown",
   "metadata": {},
   "source": [
    "**2ra manera:**"
   ]
  },
  {
   "cell_type": "markdown",
   "metadata": {},
   "source": [
    "Simplemente usamos la función evaluada en la altura que nos dan, usando los datos del problema:"
   ]
  },
  {
   "cell_type": "markdown",
   "metadata": {},
   "source": [
    "$$ 0=49.05t-\\dfrac{1}{2}9.81t^2 $$"
   ]
  },
  {
   "cell_type": "markdown",
   "metadata": {},
   "source": [
    "Ésta es una ecuación cuadrática. La manipularemos para poder resolverla."
   ]
  },
  {
   "cell_type": "markdown",
   "metadata": {},
   "source": [
    "$$ 0=49.05t-4.905t^2 $$"
   ]
  },
  {
   "cell_type": "markdown",
   "metadata": {},
   "source": [
    "$$ 0=t(49.05-4.905t) $$"
   ]
  },
  {
   "cell_type": "markdown",
   "metadata": {},
   "source": [
    "$$ t=0\\qquad\\text{o}\\qquad49.05-4.905t=0 $$"
   ]
  },
  {
   "cell_type": "markdown",
   "metadata": {},
   "source": [
    "$$ t=0\\qquad\\text{o}\\qquad t=10 $$"
   ]
  },
  {
   "cell_type": "markdown",
   "metadata": {},
   "source": [
    "Entonces, la ecuación cuadrática tiene soluciones $t=0$ y $t=10$, es decir, cuando el tiempo es $0$ y $10\\ \\text{s}$, la papa está sobre el piso."
   ]
  },
  {
   "cell_type": "markdown",
   "metadata": {},
   "source": [
    "A. $10\\ \\text{s}$\n",
    "\n",
    "B. $0\\ \\text{s}$\n",
    "\n",
    "C. $15\\ \\text{s}$\n",
    "\n",
    "D. $5\\ \\text{s}$"
   ]
  },
  {
   "cell_type": "markdown",
   "metadata": {},
   "source": [
    "**Solución:** A."
   ]
  },
  {
   "cell_type": "markdown",
   "metadata": {},
   "source": [
    "**4. Si la papa alcanza su altura máxima a la mitad del tiempo que tarda en regresar al piso, ¿cuál el valor de dicha altura?**\n",
    "\n",
    "**(2 puntos)**"
   ]
  },
  {
   "cell_type": "markdown",
   "metadata": {},
   "source": [
    "A. $0\\ \\text{m}$\n",
    "\n",
    "B. $91.96875\\ \\text{m}$\n",
    "\n",
    "C. $122.625\\ \\text{m}$\n",
    "\n",
    "D. No se puede saber."
   ]
  },
  {
   "cell_type": "markdown",
   "metadata": {},
   "source": [
    "Como ya sabemos que el tiempo que tarda en regresar al piso es $10\\ \\text{s}$, evaluamos la función en la mitad de este tiempo para encontrar la altura máxima de la papa (básicamente estamos encontrando el vértice de la parábola)."
   ]
  },
  {
   "cell_type": "markdown",
   "metadata": {},
   "source": [
    "$$h(5)=49.05(5)-\\dfrac{1}{2}9.81(5)^2=122.625$$"
   ]
  },
  {
   "cell_type": "code",
   "execution_count": 14,
   "metadata": {},
   "outputs": [
    {
     "data": {
      "text/plain": [
       "122.625"
      ]
     },
     "execution_count": 14,
     "metadata": {},
     "output_type": "execute_result"
    }
   ],
   "source": [
    "49.05*(5)-4.905*(5)^2"
   ]
  },
  {
   "cell_type": "markdown",
   "metadata": {},
   "source": [
    "A. $0\\ \\text{m}$\n",
    "\n",
    "B. $91.96875\\ \\text{m}$\n",
    "\n",
    "C. $122.625\\ \\text{m}$\n",
    "\n",
    "D. No se puede saber."
   ]
  },
  {
   "cell_type": "markdown",
   "metadata": {},
   "source": [
    "**Solución:** C."
   ]
  },
  {
   "cell_type": "markdown",
   "metadata": {},
   "source": [
    "## Situación 2: Recta de Euler"
   ]
  },
  {
   "cell_type": "markdown",
   "metadata": {},
   "source": [
    "**Consideremos un triángulo con vértices $A(-6,10)$, $B(8,6)$, y $C(8,-1)$.**"
   ]
  },
  {
   "cell_type": "markdown",
   "metadata": {},
   "source": [
    "**5. Obtén las coordenadas del baricentro.**\n",
    "\n",
    "**(3 puntos)**"
   ]
  },
  {
   "cell_type": "markdown",
   "metadata": {},
   "source": [
    "A. $\\left(\\dfrac{10}{3},5\\right)$\n",
    "\n",
    "B. $\\left(-\\dfrac{4}{7},\\dfrac{5}{2}\\right)$\n",
    "\n",
    "C. $\\left(5,\\dfrac{31}{4}\\right)$\n",
    "\n",
    "D. $\\left(\\dfrac{78}{7},10\\right)$"
   ]
  },
  {
   "cell_type": "markdown",
   "metadata": {},
   "source": [
    "<img src=\"triangulo_euler.png\" align=\"middle\" width=\"700\">"
   ]
  },
  {
   "cell_type": "markdown",
   "metadata": {},
   "source": [
    "Para obtener el baricentro necesitamos encontrar las medianas (recta que pasa por un vértice y el punto medio del cateto opuesto a este vértice)."
   ]
  },
  {
   "cell_type": "markdown",
   "metadata": {},
   "source": [
    "Primero obtenemos los puntos medios de cada lado."
   ]
  },
  {
   "cell_type": "markdown",
   "metadata": {},
   "source": [
    "* Punto medio del lado $\\overline{AB}$, $M_{AB}\\left(1,8\\right)$"
   ]
  },
  {
   "cell_type": "markdown",
   "metadata": {},
   "source": [
    "* Punto medio del lado $\\overline{BC}$, $M_{BC}\\left(8,\\dfrac{5}{2}\\right)$"
   ]
  },
  {
   "cell_type": "markdown",
   "metadata": {},
   "source": [
    "* Punto medio del lado $\\overline{AC}$, $M_{AC}\\left(1,\\dfrac{9}{2}\\right)$"
   ]
  },
  {
   "cell_type": "markdown",
   "metadata": {},
   "source": [
    "**Mediana entre $A$ y $M_{BC}$**"
   ]
  },
  {
   "cell_type": "markdown",
   "metadata": {},
   "source": [
    "$$ m=\\dfrac{y_2-y_1}{x_2-x_1}=\\dfrac{\\left(\\frac{5}{2}\\right)-\\left(10\\right)}{\\left(8\\right)-\\left(-6\\right)}=-\\dfrac{15}{28} $$"
   ]
  },
  {
   "cell_type": "markdown",
   "metadata": {},
   "source": [
    "$$ b=\\left(10\\right)-\\left(-\\dfrac{15}{28}\\right)\\left(-6\\right)=\\dfrac{95}{14} $$"
   ]
  },
  {
   "cell_type": "markdown",
   "metadata": {},
   "source": [
    "Ecuación de la mediana en forma ordenada-pendiente:"
   ]
  },
  {
   "cell_type": "markdown",
   "metadata": {},
   "source": [
    "$$ y=-\\dfrac{15}{28}x+\\dfrac{95}{14} $$"
   ]
  },
  {
   "cell_type": "markdown",
   "metadata": {},
   "source": [
    "Ecuación de la mediana en forma general:"
   ]
  },
  {
   "cell_type": "markdown",
   "metadata": {},
   "source": [
    "$$ 15x+28y-190=0 $$"
   ]
  },
  {
   "cell_type": "markdown",
   "metadata": {},
   "source": [
    "**Mediana entre $B$ y $M_{AC}$**"
   ]
  },
  {
   "cell_type": "markdown",
   "metadata": {},
   "source": [
    "$$ m=\\dfrac{y_2-y_1}{x_2-x_1}=\\dfrac{\\left(\\frac{9}{2}\\right)-\\left(6\\right)}{\\left(1\\right)-\\left(8\\right)}=\\dfrac{3}{14} $$"
   ]
  },
  {
   "cell_type": "markdown",
   "metadata": {},
   "source": [
    "$$ b=\\left(6\\right)-\\left(\\dfrac{3}{14}\\right)\\left(8\\right)=\\dfrac{30}{7} $$"
   ]
  },
  {
   "cell_type": "markdown",
   "metadata": {},
   "source": [
    "Ecuación de la mediana en forma ordenada-pendiente:"
   ]
  },
  {
   "cell_type": "markdown",
   "metadata": {},
   "source": [
    "$$ y=\\dfrac{3}{14}x+\\dfrac{30}{7} $$"
   ]
  },
  {
   "cell_type": "markdown",
   "metadata": {},
   "source": [
    "Ecuación de la mediana en forma general:"
   ]
  },
  {
   "cell_type": "markdown",
   "metadata": {},
   "source": [
    "$$ 3x-14y+60=0 $$"
   ]
  },
  {
   "cell_type": "markdown",
   "metadata": {},
   "source": [
    "**Mediana entre $C$ y $M_{AB}$**"
   ]
  },
  {
   "cell_type": "markdown",
   "metadata": {},
   "source": [
    "$$ m=\\dfrac{y_2-y_1}{x_2-x_1}=\\dfrac{\\left(8\\right)-\\left(-1\\right)}{\\left(1\\right)-\\left(8\\right)}=-\\dfrac{9}{7} $$"
   ]
  },
  {
   "cell_type": "markdown",
   "metadata": {},
   "source": [
    "$$ b=\\left(-1\\right)-\\left(-\\dfrac{9}{7}\\right)\\left(8\\right)=\\dfrac{65}{7} $$"
   ]
  },
  {
   "cell_type": "markdown",
   "metadata": {},
   "source": [
    "Ecuación de la mediana en forma ordenada-pendiente:"
   ]
  },
  {
   "cell_type": "markdown",
   "metadata": {},
   "source": [
    "$$ y=-\\dfrac{9}{7}x+\\dfrac{65}{7} $$"
   ]
  },
  {
   "cell_type": "markdown",
   "metadata": {},
   "source": [
    "Ecuación de la mediana en forma general:"
   ]
  },
  {
   "cell_type": "markdown",
   "metadata": {},
   "source": [
    "$$ 9x-7y-65=0 $$"
   ]
  },
  {
   "cell_type": "markdown",
   "metadata": {},
   "source": [
    "**Baricentro**"
   ]
  },
  {
   "cell_type": "markdown",
   "metadata": {},
   "source": [
    "Bastaba con encontrar dos medianas. Ahora tomamos cualesquiera dos y hacemos un sistema de ecuaciones para encontrar sus solución, es decir, la intersección de las medianas."
   ]
  },
  {
   "cell_type": "markdown",
   "metadata": {},
   "source": [
    "Yo tomaré la mediana entre $B$ y $M_{AC}$, y la mediana entre $C$ y $M_{AB}$:"
   ]
  },
  {
   "cell_type": "markdown",
   "metadata": {},
   "source": [
    "$$\\begin{cases} 3x-14y=-60\\\\9x-7y=65 \\end{cases}$$"
   ]
  },
  {
   "cell_type": "markdown",
   "metadata": {},
   "source": [
    "$$\\Delta=\\begin{pmatrix} 3&-14\\\\9&7 \\end{pmatrix}=+(3)(7)-(9)(-14)=147$$"
   ]
  },
  {
   "cell_type": "markdown",
   "metadata": {},
   "source": [
    "$$\\Delta_x=\\begin{pmatrix} -60&-14\\\\65&7 \\end{pmatrix}=+(-60)(7)-(65)(-14)=490$$"
   ]
  },
  {
   "cell_type": "markdown",
   "metadata": {},
   "source": [
    "$$\\Delta_y=\\begin{pmatrix} 3&-60\\\\9&65 \\end{pmatrix}=+(3)(65)-(9)(-60)=735$$"
   ]
  },
  {
   "cell_type": "markdown",
   "metadata": {},
   "source": [
    "$$ x=\\dfrac{\\Delta_x}{\\Delta}=\\dfrac{10}{3} $$"
   ]
  },
  {
   "cell_type": "markdown",
   "metadata": {},
   "source": [
    "$$ y=\\dfrac{\\Delta_y}{\\Delta}=5 $$"
   ]
  },
  {
   "cell_type": "markdown",
   "metadata": {},
   "source": [
    "Por lo tanto, las coordenadas del baricentro $\\left(\\dfrac{10}{3},5\\right)$."
   ]
  },
  {
   "cell_type": "markdown",
   "metadata": {},
   "source": [
    "A. $\\left(\\dfrac{10}{3},5\\right)$\n",
    "\n",
    "B. $\\left(-\\dfrac{4}{7},\\dfrac{5}{2}\\right)$\n",
    "\n",
    "C. $\\left(5,\\dfrac{31}{4}\\right)$\n",
    "\n",
    "D. $\\left(\\dfrac{78}{7},10\\right)$"
   ]
  },
  {
   "cell_type": "markdown",
   "metadata": {},
   "source": [
    "**Solución:** A."
   ]
  },
  {
   "cell_type": "markdown",
   "metadata": {},
   "source": [
    "**6. Obtén las coordenadas del circuncentro.**\n",
    "\n",
    "**(3 puntos)**"
   ]
  },
  {
   "cell_type": "markdown",
   "metadata": {},
   "source": [
    "A. $\\left(\\dfrac{10}{3},5\\right)$\n",
    "\n",
    "B. $\\left(-\\dfrac{4}{7},\\dfrac{5}{2}\\right)$\n",
    "\n",
    "C. $\\left(5,\\dfrac{31}{4}\\right)$\n",
    "\n",
    "D. $\\left(\\dfrac{78}{7},10\\right)$"
   ]
  },
  {
   "cell_type": "markdown",
   "metadata": {},
   "source": [
    "<img src=\"triangulo_euler.png\" align=\"middle\" width=\"700\">"
   ]
  },
  {
   "cell_type": "markdown",
   "metadata": {},
   "source": [
    "Para obtener el circuncentro necesitamos encontrar las mediatrices (recta perpendicular a un lado del triángulo y que pasa por el punto medio de este lado)."
   ]
  },
  {
   "cell_type": "markdown",
   "metadata": {},
   "source": [
    "Primero obtenemos las pendientes de cada lado."
   ]
  },
  {
   "cell_type": "markdown",
   "metadata": {},
   "source": [
    "* Pendiente del lado $\\overline{AB}$"
   ]
  },
  {
   "cell_type": "markdown",
   "metadata": {},
   "source": [
    "$$ m=\\dfrac{y_2-y_1}{x_2-x_1}=\\dfrac{(6)-(10)}{(8)-(-6)}=-\\dfrac{2}{7} $$"
   ]
  },
  {
   "cell_type": "markdown",
   "metadata": {},
   "source": [
    "* Pendiente del lado $\\overline{BC}$"
   ]
  },
  {
   "cell_type": "markdown",
   "metadata": {},
   "source": [
    "$$ m=\\dfrac{y_2-y_1}{x_2-x_1}=\\dfrac{(-1)-(6)}{(8)-(8)}=-\\dfrac{7}{0}=\\text{N.D.} $$"
   ]
  },
  {
   "cell_type": "markdown",
   "metadata": {},
   "source": [
    "* Pendiente del lado $\\overline{AC}$"
   ]
  },
  {
   "cell_type": "markdown",
   "metadata": {},
   "source": [
    "$$ m=\\dfrac{y_2-y_1}{x_2-x_1}=\\dfrac{(-1)-(10)}{(8)-(-6)}=-\\dfrac{11}{14} $$"
   ]
  },
  {
   "cell_type": "markdown",
   "metadata": {},
   "source": [
    "Tengamos los puntos medios a la mano."
   ]
  },
  {
   "cell_type": "markdown",
   "metadata": {},
   "source": [
    "* Punto medio del lado $\\overline{AB}$, $M_{AB}\\left(1,8\\right)$"
   ]
  },
  {
   "cell_type": "markdown",
   "metadata": {},
   "source": [
    "* Punto medio del lado $\\overline{BC}$, $M_{BC}\\left(8,\\dfrac{5}{2}\\right)$"
   ]
  },
  {
   "cell_type": "markdown",
   "metadata": {},
   "source": [
    "* Punto medio del lado $\\overline{AC}$, $M_{AC}\\left(1,\\dfrac{9}{2}\\right)$"
   ]
  },
  {
   "cell_type": "markdown",
   "metadata": {},
   "source": [
    "**Mediatriz del lado $\\overline{AB}$ que pasa por $M_{AB}$**"
   ]
  },
  {
   "cell_type": "markdown",
   "metadata": {},
   "source": [
    "Necesitamos la pendiente perpendicular a $\\overline{AB}$, esto es, $m=\\dfrac{7}{2}$. Entonces,"
   ]
  },
  {
   "cell_type": "markdown",
   "metadata": {},
   "source": [
    "$$ b=\\left(8\\right)-\\left(\\dfrac{7}{2}\\right)\\left(1\\right)=\\dfrac{9}{2} $$"
   ]
  },
  {
   "cell_type": "markdown",
   "metadata": {},
   "source": [
    "Ecuación de la mediana en forma ordenada-pendiente:"
   ]
  },
  {
   "cell_type": "markdown",
   "metadata": {},
   "source": [
    "$$ y=\\dfrac{7}{2}x+\\dfrac{9}{2} $$"
   ]
  },
  {
   "cell_type": "markdown",
   "metadata": {},
   "source": [
    "Ecuación de la mediana en forma general:"
   ]
  },
  {
   "cell_type": "markdown",
   "metadata": {},
   "source": [
    "$$ 7x+2y-9=0 $$"
   ]
  },
  {
   "cell_type": "markdown",
   "metadata": {},
   "source": [
    "**Mediatriz del lado $\\overline{BC}$ que pasa por $M_{BC}$**"
   ]
  },
  {
   "cell_type": "markdown",
   "metadata": {},
   "source": [
    "Necesitamos la pendiente perpendicular a $\\overline{BC}$, esto es, $m=0$. Entonces,"
   ]
  },
  {
   "cell_type": "markdown",
   "metadata": {},
   "source": [
    "$$ b=\\left(\\dfrac{5}{2}\\right)-\\left(0\\right)\\left(8\\right)=\\dfrac{5}{2} $$"
   ]
  },
  {
   "cell_type": "markdown",
   "metadata": {},
   "source": [
    "Ecuación de la mediana en forma ordenada-pendiente:"
   ]
  },
  {
   "cell_type": "markdown",
   "metadata": {},
   "source": [
    "$$ y=\\dfrac{5}{2} $$"
   ]
  },
  {
   "cell_type": "markdown",
   "metadata": {},
   "source": [
    "Ecuación de la mediana en forma general:"
   ]
  },
  {
   "cell_type": "markdown",
   "metadata": {},
   "source": [
    "$$ 2y-5=0 $$"
   ]
  },
  {
   "cell_type": "markdown",
   "metadata": {},
   "source": [
    "**Mediatriz del lado $\\overline{AC}$ que pasa por $M_{AC}$**"
   ]
  },
  {
   "cell_type": "markdown",
   "metadata": {},
   "source": [
    "Necesitamos la pendiente perpendicular a $\\overline{AC}$, esto es, $m=\\dfrac{14}{11}$. Entonces,"
   ]
  },
  {
   "cell_type": "markdown",
   "metadata": {},
   "source": [
    "$$ b=\\left(\\dfrac{9}{2}\\right)-\\left(\\dfrac{14}{11}\\right)\\left(1\\right)=\\dfrac{71}{22} $$"
   ]
  },
  {
   "cell_type": "markdown",
   "metadata": {},
   "source": [
    "Ecuación de la mediana en forma ordenada-pendiente:"
   ]
  },
  {
   "cell_type": "markdown",
   "metadata": {},
   "source": [
    "$$ y=\\dfrac{14}{11}x+\\dfrac{71}{22} $$"
   ]
  },
  {
   "cell_type": "markdown",
   "metadata": {},
   "source": [
    "Ecuación de la mediana en forma general:"
   ]
  },
  {
   "cell_type": "markdown",
   "metadata": {},
   "source": [
    "$$ 28x-22y+71=0 $$"
   ]
  },
  {
   "cell_type": "markdown",
   "metadata": {},
   "source": [
    "**Circuncentro**"
   ]
  },
  {
   "cell_type": "markdown",
   "metadata": {},
   "source": [
    "Bastaba con encontrar dos mediatrices. Ahora tomamos cualesquiera dos y hacemos un sistema de ecuaciones para encontrar sus solución, es decir, la intersección de las mediatrices."
   ]
  },
  {
   "cell_type": "markdown",
   "metadata": {},
   "source": [
    "Yo tomaré la mediatriz de $\\overline{AB}$, y la mediatriz de $\\overline{AC}$:"
   ]
  },
  {
   "cell_type": "markdown",
   "metadata": {},
   "source": [
    "$$\\begin{cases} 7x-2y=-9\\\\28x-22y=-71 \\end{cases}$$"
   ]
  },
  {
   "cell_type": "markdown",
   "metadata": {},
   "source": [
    "$$\\Delta=\\begin{pmatrix} 7&-2\\\\28&-22 \\end{pmatrix}=+(7)(-22)-(28)(-2)=-154+56=-98$$"
   ]
  },
  {
   "cell_type": "markdown",
   "metadata": {},
   "source": [
    "$$\\Delta_x=\\begin{pmatrix} -9&-2\\\\-71&-22 \\end{pmatrix}=+(-9)(-22)-(-71)(-2)=198-142=56$$"
   ]
  },
  {
   "cell_type": "markdown",
   "metadata": {},
   "source": [
    "$$\\Delta_y=\\begin{pmatrix} 7&-9\\\\28&-71 \\end{pmatrix}=+(7)(-71)-(28)(-9)=-497+252=-247$$"
   ]
  },
  {
   "cell_type": "markdown",
   "metadata": {},
   "source": [
    "$$ x=\\dfrac{\\Delta_x}{\\Delta}=-\\dfrac{4}{7} $$"
   ]
  },
  {
   "cell_type": "markdown",
   "metadata": {},
   "source": [
    "$$ y=\\dfrac{\\Delta_y}{\\Delta}=\\dfrac{5}{2} $$"
   ]
  },
  {
   "cell_type": "markdown",
   "metadata": {},
   "source": [
    "Por lo tanto, las coordenadas del circuncentro $\\left(-\\dfrac{4}{7},\\dfrac{5}{2}\\right)$."
   ]
  },
  {
   "cell_type": "markdown",
   "metadata": {},
   "source": [
    "A. $\\left(\\dfrac{10}{3},5\\right)$\n",
    "\n",
    "B. $\\left(-\\dfrac{4}{7},\\dfrac{5}{2}\\right)$\n",
    "\n",
    "C. $\\left(5,\\dfrac{31}{4}\\right)$\n",
    "\n",
    "D. $\\left(\\dfrac{78}{7},10\\right)$"
   ]
  },
  {
   "cell_type": "markdown",
   "metadata": {},
   "source": [
    "**Solución:** B."
   ]
  },
  {
   "cell_type": "markdown",
   "metadata": {},
   "source": [
    "**7. Obtén las coordenadas del ortocentro.**\n",
    "\n",
    "**(3 puntos)**"
   ]
  },
  {
   "cell_type": "markdown",
   "metadata": {},
   "source": [
    "A. $\\left(\\dfrac{10}{3},5\\right)$\n",
    "\n",
    "B. $\\left(-\\dfrac{4}{7},\\dfrac{5}{2}\\right)$\n",
    "\n",
    "C. $\\left(5,\\dfrac{31}{4}\\right)$\n",
    "\n",
    "D. $\\left(\\dfrac{78}{7},10\\right)$"
   ]
  },
  {
   "cell_type": "markdown",
   "metadata": {},
   "source": [
    "<img src=\"triangulo_euler.png\" align=\"middle\" width=\"700\">"
   ]
  },
  {
   "cell_type": "markdown",
   "metadata": {},
   "source": [
    "Para obtener el ortocentro necesitamos encontrar las alturas (recta que pasa por un vértice y es perpendicular al cateto opuesto del triángulo). "
   ]
  },
  {
   "cell_type": "markdown",
   "metadata": {},
   "source": [
    "**Altura del lado $\\overline{AB}$ que pasa por $C$**"
   ]
  },
  {
   "cell_type": "markdown",
   "metadata": {},
   "source": [
    "Necesitamos la pendiente perpendicular a $\\overline{AB}$, esto es, $m=\\dfrac{7}{2}$. Entonces,"
   ]
  },
  {
   "cell_type": "markdown",
   "metadata": {},
   "source": [
    "$$ b=\\left(-1\\right)-\\left(\\dfrac{7}{2}\\right)\\left(8\\right)=-29 $$"
   ]
  },
  {
   "cell_type": "markdown",
   "metadata": {},
   "source": [
    "Ecuación de la mediana en forma ordenada-pendiente:"
   ]
  },
  {
   "cell_type": "markdown",
   "metadata": {},
   "source": [
    "$$ y=\\dfrac{7}{2}x-29 $$"
   ]
  },
  {
   "cell_type": "markdown",
   "metadata": {},
   "source": [
    "Ecuación de la mediana en forma general:"
   ]
  },
  {
   "cell_type": "markdown",
   "metadata": {},
   "source": [
    "$$ 7x-2y-58=0 $$"
   ]
  },
  {
   "cell_type": "markdown",
   "metadata": {},
   "source": [
    "**Altura del lado $\\overline{BC}$ que pasa por $A$**"
   ]
  },
  {
   "cell_type": "markdown",
   "metadata": {},
   "source": [
    "Necesitamos la pendiente perpendicular a $\\overline{BC}$, esto es, $m=0$. Entonces,"
   ]
  },
  {
   "cell_type": "markdown",
   "metadata": {},
   "source": [
    "$$ b=\\left(10\\right)-\\left(0\\right)\\left(-6\\right)=10 $$"
   ]
  },
  {
   "cell_type": "markdown",
   "metadata": {},
   "source": [
    "Ecuación de la mediana en forma ordenada-pendiente:"
   ]
  },
  {
   "cell_type": "markdown",
   "metadata": {},
   "source": [
    "$$ y=10 $$"
   ]
  },
  {
   "cell_type": "markdown",
   "metadata": {},
   "source": [
    "Ecuación de la mediana en forma general:"
   ]
  },
  {
   "cell_type": "markdown",
   "metadata": {},
   "source": [
    "$$ y-10=0 $$"
   ]
  },
  {
   "cell_type": "markdown",
   "metadata": {},
   "source": [
    "**Altura del lado $\\overline{AC}$ que pasa por $B$**"
   ]
  },
  {
   "cell_type": "markdown",
   "metadata": {},
   "source": [
    "Necesitamos la pendiente perpendicular a $\\overline{AC}$, esto es, $m=\\dfrac{14}{11}$. Entonces,"
   ]
  },
  {
   "cell_type": "markdown",
   "metadata": {},
   "source": [
    "$$ b=\\left(6\\right)-\\left(\\dfrac{14}{11}\\right)\\left(8\\right)=-\\dfrac{46}{11} $$"
   ]
  },
  {
   "cell_type": "markdown",
   "metadata": {},
   "source": [
    "Ecuación de la mediana en forma ordenada-pendiente:"
   ]
  },
  {
   "cell_type": "markdown",
   "metadata": {},
   "source": [
    "$$ y=\\dfrac{14}{11}x-\\dfrac{46}{11} $$"
   ]
  },
  {
   "cell_type": "markdown",
   "metadata": {},
   "source": [
    "Ecuación de la mediana en forma general:"
   ]
  },
  {
   "cell_type": "markdown",
   "metadata": {},
   "source": [
    "$$ 14x-11y-46=0 $$"
   ]
  },
  {
   "cell_type": "markdown",
   "metadata": {},
   "source": [
    "**Circuncentro**"
   ]
  },
  {
   "cell_type": "markdown",
   "metadata": {},
   "source": [
    "Bastaba con encontrar dos mediatrices. Ahora tomamos cualesquiera dos y hacemos un sistema de ecuaciones para encontrar sus solución, es decir, la intersección de las mediatrices."
   ]
  },
  {
   "cell_type": "markdown",
   "metadata": {},
   "source": [
    "Yo tomaré la mediatriz de $\\overline{AB}$, y la mediatriz de $\\overline{AC}$:"
   ]
  },
  {
   "cell_type": "markdown",
   "metadata": {},
   "source": [
    "$$\\begin{cases} 7x-2y=58\\\\14x-11y=46 \\end{cases}$$"
   ]
  },
  {
   "cell_type": "markdown",
   "metadata": {},
   "source": [
    "$$\\Delta=\\begin{pmatrix} 7&-2\\\\14&-11 \\end{pmatrix}=+(7)(-11)-(14)(-2)=-77+28=-49$$"
   ]
  },
  {
   "cell_type": "markdown",
   "metadata": {},
   "source": [
    "$$\\Delta_x=\\begin{pmatrix} 58&-2\\\\46&-11 \\end{pmatrix}=+(58)(-11)-(46)(-2)=-638+92=-546$$"
   ]
  },
  {
   "cell_type": "markdown",
   "metadata": {},
   "source": [
    "$$\\Delta_y=\\begin{pmatrix} 7&58\\\\14&46 \\end{pmatrix}=+(7)(46)-(14)(58)=322-812=-490$$"
   ]
  },
  {
   "cell_type": "markdown",
   "metadata": {},
   "source": [
    "$$ x=\\dfrac{\\Delta_x}{\\Delta}=\\dfrac{78}{7} $$"
   ]
  },
  {
   "cell_type": "markdown",
   "metadata": {},
   "source": [
    "$$ y=\\dfrac{\\Delta_y}{\\Delta}=10 $$"
   ]
  },
  {
   "cell_type": "markdown",
   "metadata": {},
   "source": [
    "Por lo tanto, las coordenadas del circuncentro $\\left(\\dfrac{78}{7},10\\right)$."
   ]
  },
  {
   "cell_type": "markdown",
   "metadata": {},
   "source": [
    "A. $\\left(\\dfrac{10}{3},5\\right)$\n",
    "\n",
    "B. $\\left(-\\dfrac{4}{7},\\dfrac{5}{2}\\right)$\n",
    "\n",
    "C. $\\left(5,\\dfrac{31}{4}\\right)$\n",
    "\n",
    "D. $\\left(\\dfrac{78}{7},10\\right)$"
   ]
  },
  {
   "cell_type": "markdown",
   "metadata": {},
   "source": [
    "**Solución:** D."
   ]
  },
  {
   "cell_type": "markdown",
   "metadata": {},
   "source": [
    "**8. La *recta de Euler* es una recta bastante curiosa ya que, sin importar el triángulo del que se trate, pasa por el baricentro, circuncentro y ortocentro de dicho triángulo. Encuentra la ecuación de la recta Euler en su forma general para el triángulo de este problema.**\n",
    "\n",
    "**(2 puntos)**"
   ]
  },
  {
   "cell_type": "markdown",
   "metadata": {},
   "source": [
    "A. $105x-164y+470=0$\n",
    "\n",
    "B. $33x-20y-10=0$\n",
    "\n",
    "C. $49x-52y+158=0$\n",
    "\n",
    "D. $63x-172y+1018=0$"
   ]
  },
  {
   "cell_type": "markdown",
   "metadata": {},
   "source": [
    "La recta se puede obtener entre cualesquiera dos de los puntos encontrados (baricentro, circuncentro, ortocentro)."
   ]
  },
  {
   "cell_type": "markdown",
   "metadata": {},
   "source": [
    "Yo lo haré con el baricentro y el ortocentro."
   ]
  },
  {
   "cell_type": "markdown",
   "metadata": {},
   "source": [
    "$$ m=\\dfrac{y_2-y_1}{x_2-x_1}=\\dfrac{(10)-(5)}{\\left(\\frac{78}{7}\\right)-\\left(\\frac{10}{3}\\right)}=\\dfrac{105}{164} $$"
   ]
  },
  {
   "cell_type": "markdown",
   "metadata": {},
   "source": [
    "$$ b=(5)-\\left(\\dfrac{105}{164}\\right)\\left(\\dfrac{10}{3}\\right)=\\dfrac{235}{82} $$"
   ]
  },
  {
   "cell_type": "markdown",
   "metadata": {},
   "source": [
    "Ecuación de la mediana en forma ordenada-pendiente:"
   ]
  },
  {
   "cell_type": "markdown",
   "metadata": {},
   "source": [
    "$$ y=\\dfrac{105}{164}x+\\dfrac{235}{82} $$"
   ]
  },
  {
   "cell_type": "markdown",
   "metadata": {},
   "source": [
    "Ecuación de la mediana en forma general:"
   ]
  },
  {
   "cell_type": "markdown",
   "metadata": {},
   "source": [
    "$$ 105x-164y+470=0 $$"
   ]
  },
  {
   "cell_type": "markdown",
   "metadata": {},
   "source": [
    "A. $105x-164y+470=0$\n",
    "\n",
    "B. $33x-20y-10=0$\n",
    "\n",
    "C. $49x-52y+158=0$\n",
    "\n",
    "D. $63x-172y+1018=0$"
   ]
  },
  {
   "cell_type": "markdown",
   "metadata": {},
   "source": [
    "**Solución:** A."
   ]
  },
  {
   "cell_type": "markdown",
   "metadata": {},
   "source": [
    "Aquí está el triángulo con cada recta y punto:\n",
    "\n",
    "https://www.desmos.com/calculator/wtivsqoik1"
   ]
  },
  {
   "cell_type": "markdown",
   "metadata": {},
   "source": [
    "## Situación 3: Reunión de negocios"
   ]
  },
  {
   "cell_type": "markdown",
   "metadata": {},
   "source": [
    "**Mi pareja trabaja como *Data Scientist* en PiData, una empresa donde realizan análisis de ventas para diferentes compañías. Hace un mes, la farmacéutica PharmaLab contrató a PiData, para analizar las ventas de sus medicamentos en Walmart y, con base en esto, lanzar una nueva presentación de paracetamol. El equipo de trabajo que se encargo de esto realizó las siguientes gráficas (están desordenadas):**"
   ]
  },
  {
   "cell_type": "markdown",
   "metadata": {},
   "source": [
    "**9. La gráfica de barras representa la venta de paracetamol durante el mes de mayo en las sucursales dentro de Coyoacán. Basándote en esta gráfica, calcula cuál es la venta promedio de paracetamol.**\n",
    "\n",
    "**(2 puntos)**"
   ]
  },
  {
   "cell_type": "markdown",
   "metadata": {},
   "source": [
    "A. 91.9\n",
    "\n",
    "B. 116.1\n",
    "\n",
    "C. 80.7\n",
    "\n",
    "D. 102.1"
   ]
  },
  {
   "cell_type": "markdown",
   "metadata": {},
   "source": [
    "<img src=\"barras.png\" align=\"middle\" width=\"700\">"
   ]
  },
  {
   "cell_type": "markdown",
   "metadata": {},
   "source": [
    "Simplemente sumamos la \"longitud\" de cada barra y lo dividimos entre el número de barras:"
   ]
  },
  {
   "cell_type": "code",
   "execution_count": 19,
   "metadata": {
    "scrolled": true
   },
   "outputs": [
    {
     "data": {
      "text/plain": [
       "102.11111111111111"
      ]
     },
     "execution_count": 19,
     "metadata": {},
     "output_type": "execute_result"
    }
   ],
   "source": [
    "(89+144+88+136+93+121+88+57+103)/9"
   ]
  },
  {
   "cell_type": "markdown",
   "metadata": {},
   "source": [
    "A. 91.9\n",
    "\n",
    "B. 116.1\n",
    "\n",
    "C. 80.7\n",
    "\n",
    "D. 102.1"
   ]
  },
  {
   "cell_type": "markdown",
   "metadata": {},
   "source": [
    "**Solución:** D."
   ]
  },
  {
   "cell_type": "markdown",
   "metadata": {},
   "source": [
    "**10. Dado que se identificaron algunas inconsistencias en las ventas de Taxqueña, realizaron una gráfica de ojiva de las ventas de esta sucursal durante un año. ¿Entre que meses hubo mayores ventas?**\n",
    "\n",
    "**(2 puntos)**"
   ]
  },
  {
   "cell_type": "markdown",
   "metadata": {},
   "source": [
    "A. Entre abril y mayo\n",
    "\n",
    "B. Entre junio y julio\n",
    "\n",
    "C. Entre enero y febrero\n",
    "\n",
    "D. Entre diciembre y enero"
   ]
  },
  {
   "cell_type": "markdown",
   "metadata": {},
   "source": [
    "<img src=\"ojiva.png\" align=\"middle\" width=\"700\">"
   ]
  },
  {
   "cell_type": "markdown",
   "metadata": {},
   "source": [
    "Donde la curva sube más es entre diciembre y enero. Entonces, aquí es donde hubo más cajas vendidas (aproximadamente 300)."
   ]
  },
  {
   "cell_type": "markdown",
   "metadata": {},
   "source": [
    "A. Entre abril y mayo\n",
    "\n",
    "B. Entre junio y julio\n",
    "\n",
    "C. Entre enero y febrero\n",
    "\n",
    "D. Entre diciembre y enero"
   ]
  },
  {
   "cell_type": "markdown",
   "metadata": {},
   "source": [
    "**Solución:** D."
   ]
  },
  {
   "cell_type": "markdown",
   "metadata": {},
   "source": [
    "**11. Para lanzar su nueva presentación de paracetamol, *PiData* revisó todas las presentaciones de paracetamol que hay en el mercado y realizó un histograma de precios. La farmacéutica decide que el precio de la nueva presentación será la marca de clase del intervalo más común. ¿Cuál será dicho precio?**\n",
    "\n",
    "**(2 puntos)**"
   ]
  },
  {
   "cell_type": "markdown",
   "metadata": {},
   "source": [
    "A. 65\n",
    "\n",
    "B. 130\n",
    "\n",
    "C. 365\n",
    "\n",
    "D. 730"
   ]
  },
  {
   "cell_type": "markdown",
   "metadata": {},
   "source": [
    "<img src=\"histograma.png\" align=\"middle\" width=\"700\">"
   ]
  },
  {
   "cell_type": "markdown",
   "metadata": {},
   "source": [
    "El \"más común\" sería el intervalo de precios donde hay más presentaciones. Esto intervalo es el que se encuentre entre 300 y 430."
   ]
  },
  {
   "cell_type": "markdown",
   "metadata": {},
   "source": [
    "Para obtener la marca de clase usamos la fórmula"
   ]
  },
  {
   "cell_type": "markdown",
   "metadata": {},
   "source": [
    "$$ \\text{marca de clase}=\\dfrac{\\text{limite superior}+\\text{limite inferior}}{2}=\\dfrac{430+300}{2}=365 $$"
   ]
  },
  {
   "cell_type": "markdown",
   "metadata": {},
   "source": [
    "A. 65\n",
    "\n",
    "B. 130\n",
    "\n",
    "C. 365\n",
    "\n",
    "D. 730"
   ]
  },
  {
   "cell_type": "markdown",
   "metadata": {},
   "source": [
    "**Solución:** C."
   ]
  },
  {
   "cell_type": "markdown",
   "metadata": {},
   "source": [
    "**12. Para finalizar el estudio de mercado se trata de buscar si existe una relación entre el peso unitario del paracetamol y su precio, para lo que se utiliza la gráfica de correlación. ¿Qué tipo de correlación se puede observar en esta gráfica?**\n",
    "\n",
    "**(2 puntos)**"
   ]
  },
  {
   "cell_type": "markdown",
   "metadata": {},
   "source": [
    "A. Cuadrática, muy fuerte y positiva\n",
    "\n",
    "B. Lineal, muy fuerte y negativa\n",
    "\n",
    "C. Lineal, débil y positiva\n",
    "\n",
    "D. Cuadrática, débil y negativa"
   ]
  },
  {
   "cell_type": "markdown",
   "metadata": {},
   "source": [
    "<img src=\"correlacion.png\" align=\"middle\" width=\"700\">"
   ]
  },
  {
   "cell_type": "markdown",
   "metadata": {},
   "source": [
    "Notemos que más o menos se puede trazar una línea entre los valores (lineal), la cual tendría una pendiente positiva (positiva) pero los valores están muy dispersos (débil)."
   ]
  },
  {
   "cell_type": "markdown",
   "metadata": {},
   "source": [
    "A. Cuadrática, muy fuerte y positiva\n",
    "\n",
    "B. Lineal, muy fuerte y negativa\n",
    "\n",
    "C. Lineal, débil y positiva\n",
    "\n",
    "D. Cuadrática, débil y negativa"
   ]
  },
  {
   "cell_type": "markdown",
   "metadata": {},
   "source": [
    "**Solución:** C."
   ]
  },
  {
   "cell_type": "markdown",
   "metadata": {},
   "source": [
    "## Situación 4: Área y perímetro"
   ]
  },
  {
   "cell_type": "markdown",
   "metadata": {},
   "source": [
    "**13. La figura muestra tres cuadrados consecutivos de $5$, $4$, y $3$ pulgadas (in) de lado, respectivamente. Encuentra el perímetro de la región negra.**\n",
    "\n",
    "**(3 puntos)**"
   ]
  },
  {
   "cell_type": "markdown",
   "metadata": {},
   "source": [
    "<img src=\"negro.png\" align=\"middle\" width=\"550\">"
   ]
  },
  {
   "cell_type": "markdown",
   "metadata": {},
   "source": [
    "A. $48\\ \\text{in}$\n",
    "\n",
    "B. $13\\ \\text{in}$\n",
    "\n",
    "C. $30\\ \\text{in}$\n",
    "\n",
    "D. $37\\ \\text{in}$"
   ]
  },
  {
   "cell_type": "markdown",
   "metadata": {},
   "source": [
    "Primero obtenemos el valor de la diagonal. Esto se puede hacer muy simple con Pitágoras."
   ]
  },
  {
   "cell_type": "markdown",
   "metadata": {},
   "source": [
    "$$ \\text{(c.o.)}^2+\\text{(c.a.)}^2=\\text{(hip.)}^2 $$"
   ]
  },
  {
   "cell_type": "markdown",
   "metadata": {},
   "source": [
    "Entonces"
   ]
  },
  {
   "cell_type": "markdown",
   "metadata": {},
   "source": [
    "$$ \\text{hip.}=\\sqrt{\\text{(c.o.)}^2+\\text{(c.a.)}^2}=\\sqrt{(5)^2+(12)^2}=\\sqrt{25+144}=\\sqrt{169}=13 $$"
   ]
  },
  {
   "cell_type": "markdown",
   "metadata": {},
   "source": [
    "Luego, yendo de izquierda a derecha por arriba y luego de derecha a izquierda por abajo, el perimetro es (ya no fui más específico con esto porque me habría tardado más haciendo imágenes al respecto pero ojalá puedan entenderle y, si no, pueden preguntarme en la clase)"
   ]
  },
  {
   "cell_type": "markdown",
   "metadata": {},
   "source": [
    "$$ P=5+1+4+1+3+3+13=30 $$"
   ]
  },
  {
   "cell_type": "markdown",
   "metadata": {},
   "source": [
    "A. $48\\ \\text{in}$\n",
    "\n",
    "B. $13\\ \\text{in}$\n",
    "\n",
    "C. $30\\ \\text{in}$\n",
    "\n",
    "D. $37\\ \\text{in}$"
   ]
  },
  {
   "cell_type": "markdown",
   "metadata": {},
   "source": [
    "**Solución:** C."
   ]
  },
  {
   "cell_type": "markdown",
   "metadata": {},
   "source": [
    "**14. Encuentra el área de la misma región negra.**\n",
    "\n",
    "**(3 puntos)**"
   ]
  },
  {
   "cell_type": "markdown",
   "metadata": {},
   "source": [
    "A. $20\\ \\text{in}^2$\n",
    "\n",
    "B. $30\\ \\text{in}^2$\n",
    "\n",
    "C. $40\\ \\text{in}^2$\n",
    "\n",
    "D. $50\\ \\text{in}^2$"
   ]
  },
  {
   "cell_type": "markdown",
   "metadata": {},
   "source": [
    "La manera más fácil de hacer esto es usando el triángulo blanco de base 12 y altura 5, y quitarle lo que le falta a la región negra."
   ]
  },
  {
   "cell_type": "markdown",
   "metadata": {},
   "source": [
    "Para que el triángulo blanco se vuelva el negro, necesitamos quitarle dos rectángulos: uno de 4 por 1, y otro de 3 por 2."
   ]
  },
  {
   "cell_type": "markdown",
   "metadata": {},
   "source": [
    "Entonces"
   ]
  },
  {
   "cell_type": "markdown",
   "metadata": {},
   "source": [
    "$$ A=A_\\text{triangulo}-A_\\text{rectangulo 1}-A_\\text{rectangulo 2}=\\dfrac{12\\cdot5}{2}-4\\cdot1-3\\cdot2=20 $$"
   ]
  },
  {
   "cell_type": "markdown",
   "metadata": {},
   "source": [
    "A. $20\\ \\text{in}^2$\n",
    "\n",
    "B. $30\\ \\text{in}^2$\n",
    "\n",
    "C. $40\\ \\text{in}^2$\n",
    "\n",
    "D. $50\\ \\text{in}^2$"
   ]
  },
  {
   "cell_type": "markdown",
   "metadata": {},
   "source": [
    "**Solución:** A."
   ]
  },
  {
   "cell_type": "markdown",
   "metadata": {},
   "source": [
    "**15. La figura muestra dos circunferencias dentro de un rectángulo de 10 por 20 pulgadas (in). Encuentra el perímetro de la región roja.**\n",
    "\n",
    "**(3 puntos)**"
   ]
  },
  {
   "cell_type": "markdown",
   "metadata": {},
   "source": [
    "<img src=\"rojo.png\" align=\"middle\" width=\"350\">"
   ]
  },
  {
   "cell_type": "markdown",
   "metadata": {},
   "source": [
    "A. $(60+100\\pi)\\ \\text{in}$\n",
    "\n",
    "B. $(\\sqrt{500}+5\\pi)\\ \\text{in}$\n",
    "\n",
    "C. $(30+10\\pi)\\ \\text{in}$\n",
    "\n",
    "D. $(\\sqrt{30}+25\\pi)\\ \\text{in}$"
   ]
  },
  {
   "cell_type": "markdown",
   "metadata": {},
   "source": [
    "Veamos que el perímetro de la región roja es la mitad de la suma del perímetro del rectángulo y el perímetro de los dos círculos de radio 5. Entonces,"
   ]
  },
  {
   "cell_type": "markdown",
   "metadata": {},
   "source": [
    "$$ P=\\dfrac{P_\\text{rectangulo}+P_\\text{2 circunferencias}}{2}=\\dfrac{(20+10+20+10)+(2\\pi\\cdot5+2\\pi\\cdot5)}{2}=30+10\\pi $$"
   ]
  },
  {
   "cell_type": "markdown",
   "metadata": {},
   "source": [
    "A. $(60+100\\pi)\\ \\text{in}$\n",
    "\n",
    "B. $(\\sqrt{500}+5\\pi)\\ \\text{in}$\n",
    "\n",
    "C. $(30+10\\pi)\\ \\text{in}$\n",
    "\n",
    "D. $(\\sqrt{30}+25\\pi)\\ \\text{in}$"
   ]
  },
  {
   "cell_type": "markdown",
   "metadata": {},
   "source": [
    "**Solución:** C."
   ]
  },
  {
   "cell_type": "markdown",
   "metadata": {},
   "source": [
    "**16. Encuentra el área de la misma región roja.**\n",
    "\n",
    "**(3 puntos)**"
   ]
  },
  {
   "cell_type": "markdown",
   "metadata": {},
   "source": [
    "A. $(200-100\\pi)\\ \\text{in}^2$\n",
    "\n",
    "B. $(100-25\\pi)\\ \\text{in}^2$\n",
    "\n",
    "C. $(40+10\\pi)\\ \\text{in}^2$\n",
    "\n",
    "D. $(150+20\\pi)\\ \\text{in}^2$"
   ]
  },
  {
   "cell_type": "markdown",
   "metadata": {},
   "source": [
    "Veamos que el área de la región roja es la mitad de la diferencia del área del rectángulo y el área de los dos círculos de radio 5. Entonces,"
   ]
  },
  {
   "cell_type": "markdown",
   "metadata": {},
   "source": [
    "$$ A=\\dfrac{A_\\text{rectangulo}+A_\\text{2 circunferencias}}{2}=\\dfrac{(20\\cdot10)-(\\pi\\cdot5^2+\\pi\\cdot5^2)}{2}=100-25\\pi $$"
   ]
  },
  {
   "cell_type": "markdown",
   "metadata": {},
   "source": [
    "A. $(200-100\\pi)\\ \\text{in}^2$\n",
    "\n",
    "B. $(100-25\\pi)\\ \\text{in}^2$\n",
    "\n",
    "C. $(40+10\\pi)\\ \\text{in}^2$\n",
    "\n",
    "D. $(150+20\\pi)\\ \\text{in}^2$"
   ]
  },
  {
   "cell_type": "markdown",
   "metadata": {},
   "source": [
    "**Solución:** B."
   ]
  },
  {
   "cell_type": "markdown",
   "metadata": {},
   "source": [
    "| Problema | Respuesta | Puntaje | Problema | Respuesta | Puntaje |\n",
    "|----------|-----------|---------|----------|-----------|---------|\n",
    "| 1        | A         | 2       | 9        | D         | 2       |\n",
    "| 2        | A         | 3       | 10       | D         | 2       |\n",
    "| 3        | A         | 2       | 11       | C         | 2       |\n",
    "| 4        | D         | 2       | 12       | C         | 2       |\n",
    "| 5        | A         | 3       | 13       | C         | 3       |\n",
    "| 6        | B         | 3       | 14       | A         | 3       |\n",
    "| 7        | D         | 3       | 15       | C         | 3       |\n",
    "| 8        | A         | 2       | 16       | B         | 3       |\n"
   ]
  }
 ],
 "metadata": {
  "@webio": {
   "lastCommId": null,
   "lastKernelId": null
  },
  "kernelspec": {
   "display_name": "Julia 1.1.0",
   "language": "julia",
   "name": "julia-1.1"
  },
  "language_info": {
   "file_extension": ".jl",
   "mimetype": "application/julia",
   "name": "julia",
   "version": "1.1.0"
  }
 },
 "nbformat": 4,
 "nbformat_minor": 2
}
