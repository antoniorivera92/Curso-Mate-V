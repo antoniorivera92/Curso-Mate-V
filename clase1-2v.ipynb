{
 "cells": [
  {
   "cell_type": "markdown",
   "metadata": {},
   "source": [
    "# Pensamiento geométrico para visualizar y argumentar"
   ]
  },
  {
   "cell_type": "markdown",
   "metadata": {},
   "source": [
    "### Ejercicio 2"
   ]
  },
  {
   "cell_type": "markdown",
   "metadata": {},
   "source": [
    "En una juguería tienen $948$ frutas para los jugos del día entero. Si la proporción de fresas respecto a mangos es $4:7$, y la proporción de fresas respecto a naranjas es $\\dfrac{16}{35}$, ¿cuántas naranjas hay más que mangos?"
   ]
  },
  {
   "cell_type": "markdown",
   "metadata": {},
   "source": [
    "### Respuesta"
   ]
  },
  {
   "cell_type": "markdown",
   "metadata": {},
   "source": [
    "* fresas respecto a mangos es $\\dfrac{4}{7}=\\dfrac{16}{28}$\n",
    "* fresas respecto a naranjas es $\\dfrac{16}{35}$\n"
   ]
  },
  {
   "cell_type": "markdown",
   "metadata": {},
   "source": [
    "¿Qué pasa si hay 35 naranjas? Tengo que tener 16 fresas y 28 mangos."
   ]
  },
  {
   "cell_type": "markdown",
   "metadata": {},
   "source": [
    "¿Qué pasa si hay 70 naranjas? Tengo que tener 32 fresas y 56 mangos."
   ]
  },
  {
   "cell_type": "markdown",
   "metadata": {},
   "source": [
    "¿Qué pasa si hay 105 naranjas? Tengo que tener 48 fresas y 84 mangos."
   ]
  },
  {
   "cell_type": "markdown",
   "metadata": {},
   "source": [
    "**¿Cuántas veces tenemos que multiplicar las cantidades de fruta para obtener 948 frutas en total?**"
   ]
  },
  {
   "cell_type": "markdown",
   "metadata": {},
   "source": [
    "$$ 35x+16x+28x=948 $$"
   ]
  },
  {
   "cell_type": "code",
   "execution_count": 3,
   "metadata": {},
   "outputs": [
    {
     "data": {
      "text/plain": [
       "79"
      ]
     },
     "execution_count": 3,
     "metadata": {},
     "output_type": "execute_result"
    }
   ],
   "source": [
    "35+16+28"
   ]
  },
  {
   "cell_type": "markdown",
   "metadata": {},
   "source": [
    "$$ 79x=948 $$"
   ]
  },
  {
   "cell_type": "markdown",
   "metadata": {},
   "source": [
    "$$ x=\\dfrac{948}{79} $$"
   ]
  },
  {
   "cell_type": "code",
   "execution_count": 2,
   "metadata": {},
   "outputs": [
    {
     "data": {
      "text/plain": [
       "12.0"
      ]
     },
     "execution_count": 2,
     "metadata": {},
     "output_type": "execute_result"
    }
   ],
   "source": [
    "948/79"
   ]
  },
  {
   "cell_type": "markdown",
   "metadata": {},
   "source": [
    "$$ x=12 $$"
   ]
  },
  {
   "cell_type": "markdown",
   "metadata": {},
   "source": [
    "* La cantidad de naranjas $35x=35(12)=420$.\n",
    "* La cantidad de fresas $16x=16(12)=192$.\n",
    "* La cantidad de mangos $28x=28(12)=336$."
   ]
  },
  {
   "cell_type": "markdown",
   "metadata": {},
   "source": [
    "La cantidad de naranjas que hay más que de mangos es 84."
   ]
  },
  {
   "cell_type": "markdown",
   "metadata": {},
   "source": [
    "# Clase 2"
   ]
  },
  {
   "cell_type": "markdown",
   "metadata": {},
   "source": [
    "## Círculos I"
   ]
  },
  {
   "cell_type": "markdown",
   "metadata": {},
   "source": [
    "Una de las preguntas más importantes de las matemáticas:\n",
    "\n",
    "**¿Qué es $\\pi$?**"
   ]
  },
  {
   "cell_type": "markdown",
   "metadata": {},
   "source": [
    "<img src=\"circ1.png\" align=\"middle\" width=\"300\">"
   ]
  },
  {
   "cell_type": "markdown",
   "metadata": {},
   "source": [
    "* El punto negro es el *centro* del círculo \n",
    "* La línea negra es la *circunferencia* (el perímetro de un círculo).\n",
    "* La línea roja es el *diámetro* (línea que va de un punto de la circunferencia a otro, pasando por el centro).\n",
    "* La línea verde es el *radio* (línea que va del dentro hasta un punto de la circunferencia).\n",
    "* La línea azul es la *cuerda* (línea que va de un punto de la circunferencia a otro sin pasar por el centro)."
   ]
  },
  {
   "cell_type": "markdown",
   "metadata": {},
   "source": [
    "<img src=\"circ2.png\" align=\"middle\" width=\"300\">"
   ]
  },
  {
   "cell_type": "markdown",
   "metadata": {},
   "source": [
    "* La línea roja representa un *arco*.\n",
    "* La sección de color verde se conoce como *sector circular*.\n",
    "* La sección de color azul se conoce como *segmento circular*."
   ]
  },
  {
   "cell_type": "markdown",
   "metadata": {},
   "source": [
    "**¿Qué es $\\pi$?**\n",
    "\n",
    "$\\pi$ es la proporción entre circunferencia y el diámetro, o sea, las veces que cabe el diámetro en la circunferencia de un círculo:\n",
    "\n",
    "$$ \\pi=\\dfrac{\\text{circunferencia}}{\\text{diámetro}} $$"
   ]
  },
  {
   "cell_type": "markdown",
   "metadata": {},
   "source": [
    "### Perímetro"
   ]
  },
  {
   "cell_type": "markdown",
   "metadata": {},
   "source": [
    "* $D$ : diámetro\n",
    "* $R$ : radio\n",
    "* $C$ : circunferencia"
   ]
  },
  {
   "cell_type": "markdown",
   "metadata": {},
   "source": [
    "$$ C=\\pi D $$"
   ]
  },
  {
   "cell_type": "markdown",
   "metadata": {},
   "source": [
    "El diámetro es el doble del radio:"
   ]
  },
  {
   "cell_type": "markdown",
   "metadata": {},
   "source": [
    "$$ D=2R $$"
   ]
  },
  {
   "cell_type": "markdown",
   "metadata": {},
   "source": [
    "Entonces:"
   ]
  },
  {
   "cell_type": "markdown",
   "metadata": {},
   "source": [
    "$$ C=2\\pi R $$"
   ]
  },
  {
   "cell_type": "markdown",
   "metadata": {},
   "source": [
    "La mitad de una circunferencia es\n",
    "\n",
    "$$ \\dfrac{\\pi D}{2}=\\dfrac{\\pi (2R)}{2}=\\pi R $$"
   ]
  },
  {
   "cell_type": "markdown",
   "metadata": {},
   "source": [
    "### Perímetro arco"
   ]
  },
  {
   "cell_type": "markdown",
   "metadata": {},
   "source": [
    "<img src=\"circ2.png\" align=\"middle\" width=\"300\">"
   ]
  },
  {
   "cell_type": "markdown",
   "metadata": {},
   "source": [
    "**¿Cómo hacemos para obtener la longitud de cualquier arco?**"
   ]
  },
  {
   "cell_type": "markdown",
   "metadata": {},
   "source": [
    "$$ s=\\theta R $$"
   ]
  },
  {
   "cell_type": "markdown",
   "metadata": {},
   "source": [
    "$$ C=\\theta R=2\\pi R $$"
   ]
  },
  {
   "cell_type": "markdown",
   "metadata": {},
   "source": [
    "* $s$ : longitud de arco\n",
    "* $\\theta$ : ángulo (medido en radianes)"
   ]
  },
  {
   "cell_type": "markdown",
   "metadata": {},
   "source": [
    "Para esto diremos que $1$ vuelta es $360^\\circ$ y es lo mismo que $2\\pi\\ \\rm{rad}$."
   ]
  },
  {
   "cell_type": "markdown",
   "metadata": {},
   "source": [
    "Notemos que:"
   ]
  },
  {
   "cell_type": "markdown",
   "metadata": {},
   "source": [
    "$$ 360^\\circ=2\\pi\\ \\rm{rad} $$"
   ]
  },
  {
   "cell_type": "markdown",
   "metadata": {},
   "source": [
    "$$ 180^\\circ=\\pi\\ \\rm{rad} $$"
   ]
  },
  {
   "cell_type": "markdown",
   "metadata": {},
   "source": [
    "$$ 90^\\circ=\\dfrac{\\pi}{2}\\ \\rm{rad} $$"
   ]
  },
  {
   "cell_type": "markdown",
   "metadata": {},
   "source": [
    "$$ 60^\\circ=\\dfrac{\\pi}{3}\\ \\rm{rad} $$"
   ]
  },
  {
   "cell_type": "markdown",
   "metadata": {},
   "source": [
    "$$ 45^\\circ=\\dfrac{\\pi}{4}\\ \\rm{rad} $$"
   ]
  },
  {
   "cell_type": "markdown",
   "metadata": {},
   "source": [
    "$$ 30^\\circ=\\dfrac{\\pi}{6}\\ \\rm{rad} $$"
   ]
  },
  {
   "cell_type": "markdown",
   "metadata": {},
   "source": [
    "### Conversión de unidades"
   ]
  },
  {
   "cell_type": "markdown",
   "metadata": {},
   "source": [
    "* ***Ejemplo:*** $72\\,{}^\\circ$ a $\\rm{rad}$"
   ]
  },
  {
   "cell_type": "markdown",
   "metadata": {},
   "source": [
    "$$\\dfrac{72\\cdot\\pi}{180}\\ \\rm{rad}$$"
   ]
  },
  {
   "cell_type": "markdown",
   "metadata": {},
   "source": [
    "$$=\\dfrac{36\\cdot\\pi}{90}\\ \\rm{rad}$$"
   ]
  },
  {
   "cell_type": "markdown",
   "metadata": {},
   "source": [
    "$$=\\dfrac{18\\cdot\\pi}{45}\\ \\rm{rad}$$"
   ]
  },
  {
   "cell_type": "markdown",
   "metadata": {},
   "source": [
    "$$=\\dfrac{6\\cdot\\pi}{15}\\ \\rm{rad}$$"
   ]
  },
  {
   "cell_type": "markdown",
   "metadata": {},
   "source": [
    "$$=72^\\circ=\\dfrac{2\\pi}{5}\\ \\rm{rad}=1.2566...\\ \\rm{rad}$$"
   ]
  },
  {
   "cell_type": "code",
   "execution_count": 4,
   "metadata": {},
   "outputs": [
    {
     "data": {
      "text/plain": [
       "1.2566370614359172"
      ]
     },
     "execution_count": 4,
     "metadata": {},
     "output_type": "execute_result"
    }
   ],
   "source": [
    "2*π/5"
   ]
  },
  {
   "cell_type": "markdown",
   "metadata": {},
   "source": [
    "* ***Ejemplo:*** $144\\,{}^\\circ$ a $\\rm{rad}$"
   ]
  },
  {
   "cell_type": "markdown",
   "metadata": {},
   "source": [
    "$$144^\\circ=\\dfrac{4\\pi}{5}\\ \\rm{rad}=2.5132...\\ \\rm{rad}$$"
   ]
  },
  {
   "cell_type": "code",
   "execution_count": 5,
   "metadata": {},
   "outputs": [
    {
     "data": {
      "text/plain": [
       "2.5132741228718345"
      ]
     },
     "execution_count": 5,
     "metadata": {},
     "output_type": "execute_result"
    }
   ],
   "source": [
    "144*π/180"
   ]
  },
  {
   "cell_type": "markdown",
   "metadata": {},
   "source": [
    "* ***Ejemplo:*** $\\dfrac{37}{7}\\pi\\ {\\rm{rad}}$ a ${}^\\circ$"
   ]
  },
  {
   "cell_type": "markdown",
   "metadata": {},
   "source": [
    "$$\\dfrac{37}{7}\\pi\\ {\\rm{rad}}\\left(\\dfrac{180^\\circ}{\\pi\\ \\rm{rad}}\\right)$$"
   ]
  },
  {
   "cell_type": "markdown",
   "metadata": {},
   "source": [
    "$$\\dfrac{37\\cdot180}{7}^\\circ=\\dfrac{6660}{7}^\\circ=951.4285...^\\circ$$"
   ]
  },
  {
   "cell_type": "code",
   "execution_count": 6,
   "metadata": {},
   "outputs": [
    {
     "data": {
      "text/plain": [
       "951.4285714285714"
      ]
     },
     "execution_count": 6,
     "metadata": {},
     "output_type": "execute_result"
    }
   ],
   "source": [
    "37*180/7"
   ]
  },
  {
   "cell_type": "code",
   "execution_count": 7,
   "metadata": {},
   "outputs": [
    {
     "data": {
      "text/plain": [
       "951.4285714285714"
      ]
     },
     "execution_count": 7,
     "metadata": {},
     "output_type": "execute_result"
    }
   ],
   "source": [
    "(37/7)*180"
   ]
  },
  {
   "cell_type": "markdown",
   "metadata": {},
   "source": [
    "### Perímetro arco"
   ]
  },
  {
   "cell_type": "markdown",
   "metadata": {},
   "source": [
    "* ***Ejemplo:*** Calcular el perímetro de un sector circular de radio $2\\ \\rm{cm}$ y ángulo de $30\\,{}^\\circ$."
   ]
  },
  {
   "cell_type": "markdown",
   "metadata": {},
   "source": [
    "<img src=\"seg_circular1.png\" align=\"middle\" width=\"200\">"
   ]
  },
  {
   "cell_type": "markdown",
   "metadata": {},
   "source": [
    "**Calcular el perímetro es preguntarnos cuánto mide un estambre que cubra el entorno del segmento (la línea de color azul rey).**"
   ]
  },
  {
   "cell_type": "markdown",
   "metadata": {},
   "source": [
    "Calcular $\\theta=30^\\circ=\\dfrac{\\pi}{6}\\ \\rm{rad}=0.5235...\\ \\rm{rad}$"
   ]
  },
  {
   "cell_type": "code",
   "execution_count": 8,
   "metadata": {},
   "outputs": [
    {
     "data": {
      "text/plain": [
       "0.5235987755982988"
      ]
     },
     "execution_count": 8,
     "metadata": {},
     "output_type": "execute_result"
    }
   ],
   "source": [
    "π/6"
   ]
  },
  {
   "cell_type": "markdown",
   "metadata": {},
   "source": [
    "$$ s= \\theta R=\\left(\\dfrac{\\pi}{6}\\right)(2\\ \\rm{cm})=\\dfrac{2\\pi}{6}\\ \\rm{cm}=\\dfrac{\\pi}{3}\\ \\rm{cm}=1.0471...\\ \\rm{cm} $$"
   ]
  },
  {
   "cell_type": "code",
   "execution_count": 10,
   "metadata": {},
   "outputs": [
    {
     "data": {
      "text/plain": [
       "5.047197551196597"
      ]
     },
     "execution_count": 10,
     "metadata": {},
     "output_type": "execute_result"
    }
   ],
   "source": [
    "π/3+2+2"
   ]
  },
  {
   "cell_type": "markdown",
   "metadata": {},
   "source": [
    "$$ P=s+R+R=5.0471...\\ \\rm{cm} $$"
   ]
  },
  {
   "cell_type": "markdown",
   "metadata": {},
   "source": [
    "### Área"
   ]
  },
  {
   "cell_type": "markdown",
   "metadata": {},
   "source": [
    "El área de un círculo es\n",
    "\n",
    "$$ A=\\pi R^2 $$"
   ]
  },
  {
   "cell_type": "markdown",
   "metadata": {},
   "source": [
    "### Sectores circulares"
   ]
  },
  {
   "cell_type": "markdown",
   "metadata": {},
   "source": [
    "El perímetro del segmente circular se mide como\n",
    "$$ P=s+2R=R\\theta+2R=R(\\theta+2) $$"
   ]
  },
  {
   "cell_type": "markdown",
   "metadata": {},
   "source": [
    "El área de un sector circular es\n",
    "\n",
    "$$ A= \\dfrac{\\theta R^2}{2} $$"
   ]
  },
  {
   "cell_type": "markdown",
   "metadata": {},
   "source": [
    "**Nota importante:** Aquí el ángulo se mide en radianes."
   ]
  },
  {
   "cell_type": "markdown",
   "metadata": {},
   "source": [
    "* ***Ejemplo:*** Calcular el área de un sector circular de radio $2\\ \\rm{cm}$ y ángulo de $30\\,{}^\\circ$."
   ]
  },
  {
   "cell_type": "markdown",
   "metadata": {},
   "source": [
    "<img src=\"seg_circular1.png\" align=\"middle\" width=\"200\">"
   ]
  },
  {
   "cell_type": "markdown",
   "metadata": {},
   "source": [
    "El área de un segmento circular se mide como\n",
    "$$ A=\\dfrac{R^2}{2}\\theta $$"
   ]
  },
  {
   "cell_type": "markdown",
   "metadata": {},
   "source": [
    "Radianes no es una unidad real."
   ]
  },
  {
   "cell_type": "markdown",
   "metadata": {},
   "source": [
    "$$ A=\\dfrac{(2\\ \\rm{cm})^2}{2}\\left(\\dfrac{\\pi}{6}\\ \\rm{rad}\\right)=\\dfrac{4\\ \\rm{cm}^2}{2}\\left(\\dfrac{\\pi}{6}\\ \\rm{rad}\\right)=1.0471... \\rm{cm}^2$$"
   ]
  },
  {
   "cell_type": "code",
   "execution_count": 12,
   "metadata": {},
   "outputs": [
    {
     "data": {
      "text/plain": [
       "1.0471975511965976"
      ]
     },
     "execution_count": 12,
     "metadata": {},
     "output_type": "execute_result"
    }
   ],
   "source": [
    "(4/2)*(π/6)"
   ]
  },
  {
   "cell_type": "markdown",
   "metadata": {},
   "source": [
    "* ***Ejemplo:*** Calcular el área y perímetro de un sector circular de radio 5 y ángulo de $\\dfrac{3}{4}\\pi\\ \\rm{rad}$."
   ]
  },
  {
   "cell_type": "markdown",
   "metadata": {},
   "source": [
    "## Puntos, rectas y segmentos en dos dimensiones"
   ]
  },
  {
   "cell_type": "markdown",
   "metadata": {},
   "source": [
    "Cuando se tiene dos rectas que nunca se cruzan decimos que estas son *paralelas*."
   ]
  },
  {
   "cell_type": "markdown",
   "metadata": {},
   "source": [
    "<img src=\"paralelas.png\" align=\"middle\" width=\"500\">"
   ]
  },
  {
   "cell_type": "markdown",
   "metadata": {},
   "source": [
    "Si dos rectas **NO** son paralelas, en algún punto se tienen que intersectar."
   ]
  },
  {
   "cell_type": "markdown",
   "metadata": {},
   "source": [
    "### Teorema de Tales\n"
   ]
  },
  {
   "cell_type": "markdown",
   "metadata": {},
   "source": [
    "<img src=\"tales.png\" align=\"middle\" width=\"300\">"
   ]
  },
  {
   "cell_type": "markdown",
   "metadata": {},
   "source": [
    "*Si tenemos tres rectas paralelas y estas cortan a dos rectas que no son paralelas se producen segmentos proporcionales:*\n",
    "\n",
    "$$ \\dfrac{\\overline{AB}}{\\overline{AC}}=\\dfrac{\\overline{DE}}{\\overline{DF}} $$"
   ]
  },
  {
   "cell_type": "markdown",
   "metadata": {},
   "source": [
    "También se cumple que\n",
    "\n",
    "$$ \\dfrac{\\overline{AB}}{\\overline{BC}}=\\dfrac{\\overline{DE}}{\\overline{EF}} $$"
   ]
  },
  {
   "cell_type": "markdown",
   "metadata": {},
   "source": [
    "### Semejanza\n",
    "\n",
    "Dos cosas semejantes si son de la misma forma aunque tengan distinto tamaño."
   ]
  },
  {
   "cell_type": "markdown",
   "metadata": {},
   "source": [
    "### Triángulos semejantes"
   ]
  },
  {
   "cell_type": "markdown",
   "metadata": {},
   "source": [
    "Dos triángulos son semejantes si tienen la misma forma pero distinto tamaño. Dicho de otra forma, dos triángulos son semejantes si los triángulos tienen los mismo ángulos y los lados son proporcionales. La manera en que nos aseguramos que sean semejantes es:\n",
    "* si tienen todos sus ángulos iguales entre sí\n",
    "* si tienen dos ángulos iguales entre sí\n",
    "* si tienen un ángulo igual entre sí y sus dos de sus lados son proporcionales con los lados correspondientes del otro triángulo\n",
    "* si todos sus lados son proporcionales entre sí"
   ]
  },
  {
   "cell_type": "markdown",
   "metadata": {},
   "source": [
    "***Ejemplo:*** Pensemos que los triángulos semejantes son: "
   ]
  },
  {
   "cell_type": "markdown",
   "metadata": {},
   "source": [
    "<img src=\"semejanza1.png\" align=\"middle\" width=\"500\">"
   ]
  },
  {
   "cell_type": "markdown",
   "metadata": {},
   "source": [
    "$$\\dfrac{8}{y-1}=\\dfrac{x+1}{4}=\\dfrac{12}{6}$$"
   ]
  },
  {
   "cell_type": "markdown",
   "metadata": {},
   "source": [
    "1ra ec.:"
   ]
  },
  {
   "cell_type": "markdown",
   "metadata": {},
   "source": [
    "$$\\dfrac{8}{y-1}=\\dfrac{12}{6}$$"
   ]
  },
  {
   "cell_type": "markdown",
   "metadata": {},
   "source": [
    "$$8=\\dfrac{12}{6}(y-1)$$"
   ]
  },
  {
   "cell_type": "markdown",
   "metadata": {},
   "source": [
    "$$8=2(y-1)$$"
   ]
  },
  {
   "cell_type": "markdown",
   "metadata": {},
   "source": [
    "$$\\dfrac{8}{2}=y-1$$"
   ]
  },
  {
   "cell_type": "markdown",
   "metadata": {},
   "source": [
    "$$4=y-1$$"
   ]
  },
  {
   "cell_type": "markdown",
   "metadata": {},
   "source": [
    "$$5=y$$"
   ]
  },
  {
   "cell_type": "markdown",
   "metadata": {},
   "source": [
    "2da ec.:"
   ]
  },
  {
   "cell_type": "markdown",
   "metadata": {},
   "source": [
    "$$\\dfrac{x+1}{4}=\\dfrac{12}{6}$$"
   ]
  },
  {
   "cell_type": "markdown",
   "metadata": {},
   "source": [
    "$$\\dfrac{x+1}{4}=2$$"
   ]
  },
  {
   "cell_type": "markdown",
   "metadata": {},
   "source": [
    "$$x+1=8$$"
   ]
  },
  {
   "cell_type": "markdown",
   "metadata": {},
   "source": [
    "$$x=7$$"
   ]
  },
  {
   "cell_type": "markdown",
   "metadata": {},
   "source": [
    "***Ejemplo:*** El gato de Leticia subió a la parte superior de un poste. Leticia puede ver a su gato reflejado en un charco, que se encuentra a $1.6\\ \\rm{m}$ de ella. Si la altura de sus ojos es de $1.44\\ \\rm{m}$ y el poste se encuentra a $5.6\\ \\rm{m}$ de ella, ¿qué tan alto es el poste?"
   ]
  }
 ],
 "metadata": {
  "kernelspec": {
   "display_name": "Julia 1.1.0",
   "language": "julia",
   "name": "julia-1.1"
  },
  "language_info": {
   "file_extension": ".jl",
   "mimetype": "application/julia",
   "name": "julia",
   "version": "1.1.0"
  }
 },
 "nbformat": 4,
 "nbformat_minor": 4
}
