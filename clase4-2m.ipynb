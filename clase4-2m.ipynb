{
 "cells": [
  {
   "cell_type": "markdown",
   "metadata": {},
   "source": [
    "# Estadística para interpretar grandes cantidades de datos"
   ]
  },
  {
   "cell_type": "markdown",
   "metadata": {},
   "source": [
    "# Clase 2"
   ]
  },
  {
   "cell_type": "markdown",
   "metadata": {},
   "source": [
    "## Medidas de tendencia central"
   ]
  },
  {
   "cell_type": "markdown",
   "metadata": {},
   "source": [
    "Son valores numéricos que representan o resumen el conjunto total de los datos y se ubican en la parte central de la distribución de frecuencia."
   ]
  },
  {
   "cell_type": "markdown",
   "metadata": {},
   "source": [
    "### Media aritmética o media, $\\bar{x}$"
   ]
  },
  {
   "cell_type": "markdown",
   "metadata": {},
   "source": [
    "Es el promedio del conjunto de datos observados. Si tenemos $n$ datos se puede obtener mediante"
   ]
  },
  {
   "cell_type": "markdown",
   "metadata": {},
   "source": [
    "$$ \\bar{x}=\\dfrac{x_1+x_2+x_3+\\dots+x_n}{n}=\\dfrac{\\sum_{i=1}^nx_i}{n} $$"
   ]
  },
  {
   "cell_type": "markdown",
   "metadata": {},
   "source": [
    "Se puede usar para variables cuantitivas continuas y discretas."
   ]
  },
  {
   "cell_type": "markdown",
   "metadata": {},
   "source": [
    "### Mediana, $\\tilde{x}$"
   ]
  },
  {
   "cell_type": "markdown",
   "metadata": {},
   "source": [
    "Es el dato que se encuentra en medio de los datos ordenados. \n",
    "\n",
    "* Si tenemos un número impar de datos la mediana $\\tilde{x}$ se encuentra en la posición $\\dfrac{n+1}{2}$.\n",
    "* Si tenemos un número par de datos la mediana $\\tilde{x}$ es el promedio de los dos datos que se encuentren en las posiciones $\\dfrac{n}{2}$ y $\\dfrac{n}{2}+1$.\n"
   ]
  },
  {
   "cell_type": "markdown",
   "metadata": {},
   "source": [
    "* **Nota:**\n",
    "    * Un número impar se refiere a una cifra que termina en 1, 3, 5, 7, ó 9.\n",
    "    * Un número par se refiere a una cifra que termina en 2, 4, 6, 8, ó 0."
   ]
  },
  {
   "cell_type": "markdown",
   "metadata": {},
   "source": [
    "Se puede usar para variables cuantitivas continuas y discretas, variables cualitativas ordinales."
   ]
  },
  {
   "cell_type": "markdown",
   "metadata": {},
   "source": [
    "### Moda, $\\rm{Mo}$"
   ]
  },
  {
   "cell_type": "markdown",
   "metadata": {},
   "source": [
    " Valor del dato observado con mayor frecuencia."
   ]
  },
  {
   "cell_type": "markdown",
   "metadata": {},
   "source": [
    "Puede haber dos modas, en cuyo caso decimos que tienen un *comportamiento bimodal*. Si hay más modas, decimos que tienen un *comportamiento multimodal*."
   ]
  },
  {
   "cell_type": "markdown",
   "metadata": {},
   "source": [
    "\n",
    "\n",
    "\n",
    "Se puede usar para cualquiera de las variables."
   ]
  },
  {
   "cell_type": "markdown",
   "metadata": {},
   "source": [
    "## Situación. Un problema de salud pública"
   ]
  },
  {
   "cell_type": "markdown",
   "metadata": {},
   "source": [
    "En la asignatura de Educación para la Salud, el grupo 501, debe investigar un problema de salud pública de su entorno. Ana decidió analizar el problema de sobrepeso y obesidad en los alumnos de quinto año de su Plantel (ENP 10). Ellos organizaron un plan para realizar su investigación.\n",
    "\n",
    "En primer lugar, se preguntaron qué variables serían interesantes para su estudio."
   ]
  },
  {
   "cell_type": "markdown",
   "metadata": {},
   "source": [
    "**1. Es una variable cualitativa nominal**"
   ]
  },
  {
   "cell_type": "markdown",
   "metadata": {},
   "source": [
    "A) Alcaldía en la que vive un estudiante (Coyoacán, BJ, MH, Cuauhtémoc, ...)\n",
    "\n",
    "B) Edad de un estudiante (16, 17, 18, ...)\n",
    " \n",
    "C) Índice de masa muscular (masa)\n",
    "\n",
    "D) Talla de ropa que usa (EP, P, M,G, EG) (0, 1, 2, 3)"
   ]
  },
  {
   "cell_type": "markdown",
   "metadata": {},
   "source": [
    "**Solución:** A)"
   ]
  },
  {
   "cell_type": "markdown",
   "metadata": {},
   "source": [
    "**2. Los valores de la variable \"frecuencia con la que toma refresco un estudiante\" son: con mucha frecuencia, algunas veces, nunca. ¿Qué tipo de variable es?**"
   ]
  },
  {
   "cell_type": "markdown",
   "metadata": {},
   "source": [
    "A) Cualitativa nominal\n",
    "\n",
    "B) Cualitativa ordinal\n",
    "\n",
    "C) Cuantitativa discreta\n",
    "\n",
    "D) Cuantitativa continua"
   ]
  },
  {
   "cell_type": "markdown",
   "metadata": {},
   "source": [
    "**Solución:** B)"
   ]
  },
  {
   "cell_type": "markdown",
   "metadata": {},
   "source": [
    "**3. Es una variable numérica discreta**"
   ]
  },
  {
   "cell_type": "markdown",
   "metadata": {},
   "source": [
    "A) Número de cuenta (413101552, 123456789, ...) (revisión)\n",
    "\n",
    "B) Número de días a la semana en los que consume algún tipo de comida \n",
    "chatarra (0, 1, 2, 3, ..., 6, 7) [cuant. disc.]\n",
    "\n",
    "C) Volumen de grasa corporal  (1.7, 1.8, 1.43, ...) [cuant. cont.]\n",
    "\n",
    "D) Estatura (1.7, 1.8, 1.43, ...) [cuant. cont.]\n"
   ]
  },
  {
   "cell_type": "markdown",
   "metadata": {},
   "source": [
    "**Solución:** B)"
   ]
  },
  {
   "cell_type": "markdown",
   "metadata": {},
   "source": [
    "**4. La variable IMC (índice de masa corporal) es de tipo**"
   ]
  },
  {
   "cell_type": "markdown",
   "metadata": {},
   "source": [
    "A) Cualitativa nominal\n",
    "\n",
    "B) Cualitativa ordinal\n",
    "\n",
    "C) Cuantitativa discreta\n",
    "\n",
    "D) Cuantitativa continua"
   ]
  },
  {
   "cell_type": "markdown",
   "metadata": {},
   "source": [
    "**Solución:** D)"
   ]
  },
  {
   "cell_type": "markdown",
   "metadata": {},
   "source": [
    "## Situación: Población y muestra"
   ]
  },
  {
   "cell_type": "markdown",
   "metadata": {},
   "source": [
    "Las variables elegidas por Ana y su equipo fueron: sexo, edad, estatura y masa, con\n",
    "los dos últimos datos calcularían además el índice de masa corporal (IMC). La siguiente decisión que tomaron los estudiantes fue determinar la muestra de la cual obtendrían los datos, por lo que eligieron al azar a 10 estudiantes de su grupo."
   ]
  },
  {
   "cell_type": "markdown",
   "metadata": {},
   "source": [
    "**1. La población del estudio de Ana y su equipo es:**"
   ]
  },
  {
   "cell_type": "markdown",
   "metadata": {},
   "source": [
    "A) Los estudiantes de quinto año del bachillerato de la Ciudad de México\n",
    "\n",
    "B) Los estudiantes de quinto año de la Escuela Nacional Preparatoria\n",
    "\n",
    "C) Los estudiantes de quinto año del Plantel 10 de la Escuela Nacional\n",
    "Preparatoria\n",
    "\n",
    "D) Los estudiantes del grupo 501 del Plantel 10 de la Escuela Nacional\n",
    "Preparatoria\n"
   ]
  },
  {
   "cell_type": "markdown",
   "metadata": {},
   "source": [
    "**Solución:** D)"
   ]
  },
  {
   "cell_type": "markdown",
   "metadata": {},
   "source": [
    "**2. La muestra del estudio de Ana y su equipo es:**"
   ]
  },
  {
   "cell_type": "markdown",
   "metadata": {},
   "source": [
    "A) Los estudiantes de quinto año del grupo 501 del Plantel 10 de la Escuela\n",
    "Nacional Preparatoria\n",
    "\n",
    "B) Los 10 estudiantes del grupo 501 del Plantel 10 de la Escuela\n",
    "Nacional Preparatoria\n",
    "\n",
    "C) El conjunto de datos de sexo, edad, estatura, masa e índice de masa\n",
    "corporal de los estudiantes del grupo 501 del Plantel 10 de la Escuela\n",
    "Nacional Preparatoria\n",
    "\n",
    "D) El conjunto de datos de sexo, edad, estatura, masa e índice de masa\n",
    "corporal de los 10 estudiantes del grupo 501 del Plantel 10 de la Escuela\n",
    "Nacional Preparatoria que Ana y su equipo eligieron al azar"
   ]
  },
  {
   "cell_type": "markdown",
   "metadata": {},
   "source": [
    "**Solución:** B)"
   ]
  },
  {
   "cell_type": "markdown",
   "metadata": {},
   "source": [
    "## Estadística descriptiva"
   ]
  },
  {
   "cell_type": "markdown",
   "metadata": {},
   "source": [
    "A continuación trataremos algunos problemas de *estadística descriptiva* (parte de la estadística que se encarga de la organización, presentación y descripción de los datos recolectados, y de obtener información a partir de ellos.)"
   ]
  },
  {
   "cell_type": "markdown",
   "metadata": {},
   "source": [
    "## Datos no agrupados"
   ]
  },
  {
   "cell_type": "markdown",
   "metadata": {},
   "source": [
    "Cuando el tamaño de la muestra es pequeña, los datos pueden tratarse individualmente y se les llama *datos no agrupados*."
   ]
  },
  {
   "cell_type": "markdown",
   "metadata": {},
   "source": [
    "Si los datos son:\n",
    "* cualitativos ordinales\n",
    "* cuantitativos discretos\n",
    "* cuantitativos continuos\n",
    "\n",
    "es conveniente ordenarlos de menor a mayor (forma ascedente) o, incluso, de mayor a menor (forma descedente)."
   ]
  },
  {
   "cell_type": "markdown",
   "metadata": {},
   "source": [
    "## Distribución de frecuencias (o tabla de frecuencias)"
   ]
  },
  {
   "cell_type": "markdown",
   "metadata": {},
   "source": [
    "Es una manera de organizar los valores de una variable estadística y las frecuencias (absoluta y relativa) de cada una. Ocasionalmente también se puede agregar las frecuencias acumuladas y relativas acumuladas."
   ]
  },
  {
   "cell_type": "markdown",
   "metadata": {},
   "source": [
    "* ***Ejemplo:*** En el equipo varonil de fútbol americano de la UNAM se obtuvieron las estaturas de 16 miembros (en metros):\n",
    "\n",
    "$$1.58\\ ,\\quad 1.64\\ ,\\quad 1.79\\ ,\\quad 1.58\\ ,\\quad 1.64\\ ,\\quad 1.53\\ ,\\quad 1.64\\ ,\\quad 1.66\\ ,$$\n",
    "\n",
    "$$1.53\\ ,\\quad  1.52\\ ,\\quad  1.76\\ ,\\quad  1.57\\ ,\\quad  1.70\\ ,\\quad  1.74\\ ,\\quad  1.66\\ ,\\quad  1.52$$"
   ]
  },
  {
   "cell_type": "markdown",
   "metadata": {},
   "source": [
    "Primero ordenamos:"
   ]
  },
  {
   "cell_type": "markdown",
   "metadata": {},
   "source": [
    "* 1.52 \n",
    "* 1.52\n",
    "* 1.53\n",
    "* 1.53\n",
    "* 1.57\n",
    "* 1.58\n",
    "* 1.58\n",
    "* 1.64\n",
    "* 1.64\n",
    "* 1.64\n",
    "* 1.66\n",
    "* 1.66\n",
    "* 1.70\n",
    "* 1.74\n",
    "* 1.76\n",
    "* 1.79"
   ]
  },
  {
   "cell_type": "markdown",
   "metadata": {},
   "source": [
    "Podemos obtener algunos valores de tendencia central."
   ]
  },
  {
   "cell_type": "markdown",
   "metadata": {},
   "source": [
    "* $\\text{Mo}=1.64$"
   ]
  },
  {
   "cell_type": "markdown",
   "metadata": {},
   "source": [
    "Si los tomara uno a uno, como tenemos un número par de datos ($n=16$), debemos tomar los de las posiciones:\n",
    "* $\\dfrac{n}{2}=8$\n",
    "\n",
    "* $\\dfrac{n}{2}+1=9$"
   ]
  },
  {
   "cell_type": "markdown",
   "metadata": {},
   "source": [
    "Ambos datos son 1.64 y su promedio es 1.64. Por lo tanto, la mediana es"
   ]
  },
  {
   "cell_type": "markdown",
   "metadata": {},
   "source": [
    "* $\\tilde{x}=1.64$"
   ]
  },
  {
   "cell_type": "markdown",
   "metadata": {},
   "source": [
    "Finalmente, la media aritmética es"
   ]
  },
  {
   "cell_type": "markdown",
   "metadata": {},
   "source": [
    "* $\\bar{x}=1.62875$"
   ]
  },
  {
   "cell_type": "markdown",
   "metadata": {},
   "source": [
    "Estas medidas de tendencia central se pueden interpretar como:\n",
    "* \"La estatura más frecuente entre los estudiantes es de 1.64”\n",
    "* \"El 50% de los estudiantes miden menos de 1.64 y el otro 50% mide más de 1.64\"\n",
    "* \"Los estudiantes tienen una estatura promedio de 1.63 (redondeando 1.62875)\"\n"
   ]
  },
  {
   "cell_type": "markdown",
   "metadata": {},
   "source": [
    "### Frecuencia (absoluta), $f_i$"
   ]
  },
  {
   "cell_type": "markdown",
   "metadata": {},
   "source": [
    "Es el número de veces que se repite el valor $x_i$ de la variable estadística."
   ]
  },
  {
   "cell_type": "markdown",
   "metadata": {},
   "source": [
    "**Nota:** La frecuencia absoluta no aporta información significativa. Por ejemplo, no es lo mismo que haya 5 sobresalientes en una clase con 20 alumnos a que los haya en una clase con 30 alumnos."
   ]
  },
  {
   "cell_type": "markdown",
   "metadata": {},
   "source": [
    "* ***Ejemplo:*** (Equipo de fútbol americano)"
   ]
  },
  {
   "cell_type": "markdown",
   "metadata": {},
   "source": [
    "Ahora organizamos esto en una tabla. En la parte de \"Frecuencia\" escribiremos las veces que aparece cada dato.\n",
    "\n"
   ]
  },
  {
   "cell_type": "markdown",
   "metadata": {},
   "source": [
    "| Estatura, $x_i$ | Frecuencia, $f_i$ |\n",
    "|-----------------|-----------------|\n",
    "| 1.52            |2                 |\n",
    "| 1.53            |2                 |\n",
    "| 1.57            |1                 |\n",
    "| 1.58            |2                 |\n",
    "| 1.64            |3                 |\n",
    "| 1.66            |2                 |\n",
    "| 1.70            |1                 |\n",
    "| 1.74            |1                 |\n",
    "| 1.76            |1                 |\n",
    "| 1.79            |1                 |\n",
    "| Total           |16                 |"
   ]
  },
  {
   "cell_type": "markdown",
   "metadata": {},
   "source": [
    "### Frecuencia relativa, $p_i$"
   ]
  },
  {
   "cell_type": "markdown",
   "metadata": {},
   "source": [
    "Es el cociente de la frecuencia absoluta del dato $x_i$ y el número total de datos:"
   ]
  },
  {
   "cell_type": "markdown",
   "metadata": {},
   "source": [
    "$$ p_i=\\dfrac{f_i}{n} $$"
   ]
  },
  {
   "cell_type": "markdown",
   "metadata": {},
   "source": [
    "Al multiplicarla por $100$ obtenemos el porcentaje (así se suele presentar) de datos que hay de una cosa entre nuestros datos totales."
   ]
  },
  {
   "cell_type": "markdown",
   "metadata": {},
   "source": [
    "* ***Ejemplo:*** (Equipo de fútbol americano)"
   ]
  },
  {
   "cell_type": "markdown",
   "metadata": {},
   "source": [
    "| Estatura, $x_i$ | Frecuencia, $f_i$ | Frecuencia relativa, $p_i$ |\n",
    "|-----------------|-------------------|--------------------------------|\n",
    "| 1.52            | 2                 |0.1250                                |\n",
    "| 1.53            | 2                 |0.1250                                |\n",
    "| 1.57            | 1                 |0.0625                                |\n",
    "| 1.58            | 2                 |0.1250                                \n",
    "| 1.64            | 3                 |0.1875                                |\n",
    "| 1.66            | 2                 |0.1250                                |\n",
    "| 1.70            | 1                 |0.0625                                |\n",
    "| 1.74            | 1                 |0.0625                                |\n",
    "| 1.76            | 1                 |0.0625                                |\n",
    "| 1.79            | 1                 |0.0625                                |\n",
    "| Total           | 16                 |1.0000                                |"
   ]
  },
  {
   "cell_type": "markdown",
   "metadata": {},
   "source": [
    "### Frecuencia acumulada, $F_i$"
   ]
  },
  {
   "cell_type": "markdown",
   "metadata": {},
   "source": [
    "Es la suma de las frecuencias absolutas de todos los valores menores o iguales al valor $x_i$."
   ]
  },
  {
   "cell_type": "markdown",
   "metadata": {},
   "source": [
    "### Frecuencia acumulada relativa, $P_i$"
   ]
  },
  {
   "cell_type": "markdown",
   "metadata": {},
   "source": [
    "Es la suma de las frecuencias relativa de todos los valores menores o iguales al valor $x_i$."
   ]
  },
  {
   "cell_type": "markdown",
   "metadata": {},
   "source": [
    "* ***Ejemplo:*** (Equipo de fútbol americano)"
   ]
  },
  {
   "cell_type": "markdown",
   "metadata": {},
   "source": [
    "| Estatura, $x_i$ | Frecuencia, $f_i$ | Frecuencia relativa, $p_i$ | Frecuencia acumulada, $F_i$ | Frecuencia relativa acumulada, $P_i$ |\n",
    "|-----------------|-------------------|----------------------------|-----------------------------|--------------------------------------|\n",
    "| 1.52            | 2                 | 0.1250                           |2                             |0.1250                                      |\n",
    "| 1.53            | 2                 | 0.1250                            |4                             |0.2500|\n",
    "| 1.57            | 1                 |0.0625                            |5                             |0.3125                                      |\n",
    "| 1.58            | 2                 |0.1250                            |7                             |0.4375                                      |\n",
    "| 1.64            | 3                 |0.1875                            |10                             |0.6250                                      |\n",
    "| 1.66            | 2                 |0.1250                            |12                             |0.7500                                      |\n",
    "| 1.70            | 1                 |0.0625                            |13                             |0.8125                                   |\n",
    "| 1.74            | 1                 |0.0625                            |14                             |0.8750                                  |\n",
    "| 1.76            | 1                 |0.0625                            |15                             |0.9375                              |\n",
    "| 1.79            | 1                 |0.0625                            |16                             |1.0000                          |\n",
    "| Total           | 16                  | 1.0000                           | $ $                            | $ $                                    |"
   ]
  },
  {
   "cell_type": "markdown",
   "metadata": {},
   "source": [
    "Ahora, ya que tenemos la distribución de frecuencias, ¿qué información podemos\n",
    "obtener acerca de las estaturas de los alumnos?\n",
    "\n",
    "Interpretemos algunos valores de cada columna:\n",
    "* \"Dos estudiantes de 16 miden 1.58 m de estatura\"\n",
    "* \"El 12.50% de los estudiantes miden 1.66 m de estatura\"\n",
    "* \"7 de 16 estudiantes miden menos de 1.60 m de estatura\"\n",
    "* \"13 de 16 estudiantes miden máximo 1.70 m de estatura\"\n",
    "* \"El 87.5% de los estudiantes miden hasta 1.74 m de estatura\""
   ]
  },
  {
   "cell_type": "markdown",
   "metadata": {},
   "source": [
    "### Media aritmética (otra vez)"
   ]
  },
  {
   "cell_type": "markdown",
   "metadata": {},
   "source": [
    "Obtener la media arimética, cuando se tiene una distribución de frecuencias, puede ser más simple:"
   ]
  },
  {
   "cell_type": "markdown",
   "metadata": {},
   "source": [
    "$$ \\bar{x}=\\dfrac{\\sum_{i=1}^{m}f_i\\cdot x_i}{n} $$"
   ]
  },
  {
   "cell_type": "markdown",
   "metadata": {},
   "source": [
    "donde $m$ es el número de frecuencias que hay y $n$ es la suma de las frecuencias (número total de datos)."
   ]
  },
  {
   "cell_type": "markdown",
   "metadata": {},
   "source": [
    "Incluso, de forma más sencilla, esto lo podemos escribir como"
   ]
  },
  {
   "cell_type": "markdown",
   "metadata": {},
   "source": [
    "$$ \\bar{x}=\\sum_{i=1}^{m}p_i\\cdot x_i $$"
   ]
  },
  {
   "cell_type": "markdown",
   "metadata": {},
   "source": [
    "En ese sentido puede resultar conveniente hacer una fila extra donde escribamos el producto de $p_i\\cdot x_i$"
   ]
  },
  {
   "cell_type": "markdown",
   "metadata": {},
   "source": [
    "| Estatura, $x_i$ | Frecuencia, $f_i$ | Frecuencia relativa, $p_i$ | $x_i\\cdot p_i$ | Frecuencia acumulada, $F_i$ | Frecuencia relativa acumulada, $P_i$ |\n",
    "|-----------------|-------------------|----------------------------|----------------|-----------------------------|--------------------------------------|\n",
    "| 1.52            | 2                 | 0.1250                     |0.190000              | 2                           | 0.1250                               |\n",
    "| 1.53            | 2                 | 0.1250                     |0.191250                | 4                           | 0.2500                               |\n",
    "| 1.57            | 1                 | 0.0625                     |0.098125                | 5                           | 0.3125                               |\n",
    "| 1.58            | 2                 | 0.1250                     |0.197500                | 7                           | 0.4375                               |\n",
    "| 1.64            | 3                 | 0.1875                     |0.307500                | 10                          | 0.6250                               |\n",
    "| 1.66            | 2                 | 0.1250                     |0.207500                | 12                          | 0.7500                               |\n",
    "| 1.70            | 1                 | 0.0625                     |0.106250                | 13                          | 0.8125                               |\n",
    "| 1.74            | 1                 | 0.0625                     |0.108750                | 14                          | 0.8750                               |\n",
    "| 1.76            | 1                 | 0.0625                     |0.110000                | 15                          | 0.9375                               |\n",
    "| 1.79            | 1                 | 0.0625                     |0.111875                | 16                          | 1.0000                               |\n",
    "| Total           | 16                | 1.0000                          |$\\bar{x}=$1.62875                | $ $                            | $ $                                     |"
   ]
  },
  {
   "cell_type": "markdown",
   "metadata": {},
   "source": [
    "En este sentido podemos sumar todos los valores de la columna para encontrar la media aritmética."
   ]
  },
  {
   "cell_type": "markdown",
   "metadata": {},
   "source": [
    "## Medidas de dispersión (o de variación)"
   ]
  },
  {
   "cell_type": "markdown",
   "metadata": {},
   "source": [
    "La cantidad de dispersión, o \"separación\", que presentan los datos.\n"
   ]
  },
  {
   "cell_type": "markdown",
   "metadata": {},
   "source": [
    "### Rango, $R$"
   ]
  },
  {
   "cell_type": "markdown",
   "metadata": {},
   "source": [
    "El rango de un conjunto de números es la diferencia entre el mayor y el menor de todos\n",
    "ellos."
   ]
  },
  {
   "cell_type": "markdown",
   "metadata": {},
   "source": [
    "$$R = x_\\text{max} – x_\\text{min}$$"
   ]
  },
  {
   "cell_type": "markdown",
   "metadata": {},
   "source": [
    "Si los datos está acomodados:"
   ]
  },
  {
   "cell_type": "markdown",
   "metadata": {},
   "source": [
    "$$R = x_n – x_1\\ ,$$"
   ]
  },
  {
   "cell_type": "markdown",
   "metadata": {},
   "source": [
    "donde $n$ es el número de datos totales."
   ]
  },
  {
   "cell_type": "markdown",
   "metadata": {},
   "source": [
    "$$R = x_m – x_1\\ ,$$"
   ]
  },
  {
   "cell_type": "markdown",
   "metadata": {},
   "source": [
    "donde $m$ es el número de datos diferentes."
   ]
  },
  {
   "cell_type": "markdown",
   "metadata": {},
   "source": [
    "### Varianza muestral, $s^2$"
   ]
  },
  {
   "cell_type": "markdown",
   "metadata": {},
   "source": [
    "Es el promedio de los cuadrados de las desviaciones de cada dato observado de la muestra con respecto a la media."
   ]
  },
  {
   "cell_type": "markdown",
   "metadata": {},
   "source": [
    "$$ s^2=\\dfrac{\\sum_{i=1}^n(x_i-\\bar{x})^2}{n-1} $$"
   ]
  },
  {
   "cell_type": "markdown",
   "metadata": {},
   "source": [
    "### Varianza poblacional, $\\sigma^2$"
   ]
  },
  {
   "cell_type": "markdown",
   "metadata": {},
   "source": [
    "Es el promedio de los cuadrados de las desviaciones de cada dato observado de la población con respecto a la media."
   ]
  },
  {
   "cell_type": "markdown",
   "metadata": {},
   "source": [
    "$$ \\sigma^2=\\dfrac{\\sum_{i=1}^n(x_i-\\bar{x})^2}{n} $$"
   ]
  },
  {
   "cell_type": "markdown",
   "metadata": {},
   "source": [
    "### Desviación estándar muestral, $s$"
   ]
  },
  {
   "cell_type": "markdown",
   "metadata": {},
   "source": [
    "Es la raíz cuadrada positiva de la varianza muestral:"
   ]
  },
  {
   "cell_type": "markdown",
   "metadata": {},
   "source": [
    "$$ s=\\sqrt{s^2}=\\sqrt{\\dfrac{\\sum_{i=1}^n(x_i-\\bar{x})^2}{n-1}} $$"
   ]
  },
  {
   "cell_type": "markdown",
   "metadata": {},
   "source": [
    "### Desviación estándar poblacional, $\\sigma$"
   ]
  },
  {
   "cell_type": "markdown",
   "metadata": {},
   "source": [
    "Es el promedio de los cuadrados de las desviaciones de cada dato observado de la población con respecto a la media."
   ]
  },
  {
   "cell_type": "markdown",
   "metadata": {},
   "source": [
    "$$ \\sigma=\\sqrt{\\sigma^2}=\\sqrt{\\dfrac{\\sum_{i=1}^n(x_i-\\bar{x})^2}{n}} $$"
   ]
  },
  {
   "cell_type": "markdown",
   "metadata": {},
   "source": [
    "### Coeficiente de variación"
   ]
  },
  {
   "cell_type": "markdown",
   "metadata": {},
   "source": [
    "Qué tanto varían nuestros datos en forma porcentual:"
   ]
  },
  {
   "cell_type": "markdown",
   "metadata": {},
   "source": [
    "* Muestral:"
   ]
  },
  {
   "cell_type": "markdown",
   "metadata": {},
   "source": [
    "$$ {\\rm{CV}}=\\dfrac{s}{\\bar{x}}\\cdot100 $$"
   ]
  },
  {
   "cell_type": "markdown",
   "metadata": {},
   "source": [
    "* Poblacional:"
   ]
  },
  {
   "cell_type": "markdown",
   "metadata": {},
   "source": [
    "$$ {\\rm{CV}}=\\dfrac{\\sigma}{\\bar{x}}\\cdot100 $$"
   ]
  }
 ],
 "metadata": {
  "kernelspec": {
   "display_name": "Julia 1.1.0",
   "language": "julia",
   "name": "julia-1.1"
  },
  "language_info": {
   "file_extension": ".jl",
   "mimetype": "application/julia",
   "name": "julia",
   "version": "1.1.0"
  }
 },
 "nbformat": 4,
 "nbformat_minor": 4
}
