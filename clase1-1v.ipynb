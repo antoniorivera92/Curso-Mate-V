{
 "cells": [
  {
   "cell_type": "markdown",
   "metadata": {},
   "source": [
    "# Pensamiento geométrico para visualizar y argumentar"
   ]
  },
  {
   "cell_type": "markdown",
   "metadata": {},
   "source": [
    "# Clase 1"
   ]
  },
  {
   "cell_type": "markdown",
   "metadata": {},
   "source": [
    "## Proporcionalidad"
   ]
  },
  {
   "cell_type": "markdown",
   "metadata": {},
   "source": [
    "Una *proporción* es una relación entre dos números que definen la cantidad de una cosa con respecto a la cantidad de otra."
   ]
  },
  {
   "cell_type": "markdown",
   "metadata": {},
   "source": [
    "* ***Ejemplo:***"
   ]
  },
  {
   "cell_type": "markdown",
   "metadata": {},
   "source": [
    "La proporción de narices con respecto a piernas (en un humano) es de $1:2$ (1 a 2).\n",
    "\n",
    "La proporción de brazos con respecto a piernas (en un humano) es de $2:2$."
   ]
  },
  {
   "cell_type": "markdown",
   "metadata": {},
   "source": [
    "$$ \\dfrac{2}{2}=\\dfrac{1}{1} $$"
   ]
  },
  {
   "cell_type": "markdown",
   "metadata": {},
   "source": [
    "La proporción de brazos con respecto a piernas (en un humano) es de $1:1$."
   ]
  },
  {
   "cell_type": "markdown",
   "metadata": {},
   "source": [
    "* ***Ejemplo:***"
   ]
  },
  {
   "cell_type": "markdown",
   "metadata": {},
   "source": [
    "En un salón de clases hay $35$ personas: $15$ son hombres y $20$ son mujeres, por lo que la proporción $15:20$ ó"
   ]
  },
  {
   "cell_type": "markdown",
   "metadata": {},
   "source": [
    "$$ \\dfrac{15}{20}=\\dfrac{3}{4} $$"
   ]
  },
  {
   "cell_type": "markdown",
   "metadata": {},
   "source": [
    "La proporción es $3:4$."
   ]
  },
  {
   "cell_type": "markdown",
   "metadata": {},
   "source": [
    "Si yo tengo $7$ personas aparte, $3$ son hombres y $4$ son mujeres."
   ]
  },
  {
   "cell_type": "markdown",
   "metadata": {},
   "source": [
    "La escuela mete otras 14 personas al salón pero quiere mantener la misma proporción:\n",
    "$6$ serán hombres y $8$ serán mujeres."
   ]
  },
  {
   "cell_type": "markdown",
   "metadata": {},
   "source": [
    "*En las proporciones, cada cantidad debe de crecer igual para mantener la proporción.*"
   ]
  },
  {
   "cell_type": "markdown",
   "metadata": {},
   "source": [
    "* ***Ejemplo:*** ¿Cuánto debe de valer $x$ si deseamos que se cumpla que $6:5=10:x$?"
   ]
  },
  {
   "cell_type": "markdown",
   "metadata": {},
   "source": [
    "$$ x=\\dfrac{50}{6}=\\dfrac{25}{3} $$"
   ]
  },
  {
   "cell_type": "code",
   "execution_count": 1,
   "metadata": {},
   "outputs": [
    {
     "data": {
      "text/plain": [
       "8.333333333333334"
      ]
     },
     "execution_count": 1,
     "metadata": {},
     "output_type": "execute_result"
    }
   ],
   "source": [
    "25/3"
   ]
  },
  {
   "cell_type": "markdown",
   "metadata": {},
   "source": [
    "$$ \\dfrac{6}{5}=\\dfrac{10}{x} $$"
   ]
  },
  {
   "cell_type": "markdown",
   "metadata": {},
   "source": [
    "$$ x\\dfrac{6}{5}=10 $$"
   ]
  },
  {
   "cell_type": "markdown",
   "metadata": {},
   "source": [
    "$$ x=\\dfrac{10}{\\frac{6}{5}}$$"
   ]
  },
  {
   "cell_type": "markdown",
   "metadata": {},
   "source": [
    "$$ x=\\dfrac{10\\cdot5}{6}=\\dfrac{50}{6}=\\dfrac{25}{3} $$"
   ]
  },
  {
   "cell_type": "markdown",
   "metadata": {},
   "source": [
    "Noten que las proporciones sí son iguales:"
   ]
  },
  {
   "cell_type": "code",
   "execution_count": 1,
   "metadata": {},
   "outputs": [
    {
     "data": {
      "text/plain": [
       "1.2"
      ]
     },
     "execution_count": 1,
     "metadata": {},
     "output_type": "execute_result"
    }
   ],
   "source": [
    "6/5"
   ]
  },
  {
   "cell_type": "code",
   "execution_count": 2,
   "metadata": {},
   "outputs": [
    {
     "data": {
      "text/plain": [
       "1.2"
      ]
     },
     "execution_count": 2,
     "metadata": {},
     "output_type": "execute_result"
    }
   ],
   "source": [
    "10/(25/3)"
   ]
  },
  {
   "cell_type": "markdown",
   "metadata": {},
   "source": [
    "* ***Ejemplo:*** La proporción del pago de Ana respecto del de Beto es de $\\dfrac{5}{4}$. La proporción del pago de Beto respecto del de Carlos es de $10:9$. Si Ana recibe un pago de $\\$7500$, ¿de cuánto es el pago de Carlos? "
   ]
  },
  {
   "cell_type": "markdown",
   "metadata": {},
   "source": [
    "Si Ana gana $\\$5$."
   ]
  },
  {
   "cell_type": "markdown",
   "metadata": {},
   "source": [
    "Beto gana $\\$4$."
   ]
  },
  {
   "cell_type": "markdown",
   "metadata": {},
   "source": [
    "Si Ana gana $\\$7500$."
   ]
  },
  {
   "cell_type": "code",
   "execution_count": 3,
   "metadata": {},
   "outputs": [
    {
     "data": {
      "text/plain": [
       "6000.0"
      ]
     },
     "execution_count": 3,
     "metadata": {},
     "output_type": "execute_result"
    }
   ],
   "source": [
    "7500*4/5"
   ]
  },
  {
   "cell_type": "markdown",
   "metadata": {},
   "source": [
    "Beto gana $\\$6000$."
   ]
  },
  {
   "cell_type": "markdown",
   "metadata": {},
   "source": [
    "Si Beto gana $\\$10$, entonces Carlos $\\$9$."
   ]
  },
  {
   "cell_type": "code",
   "execution_count": 4,
   "metadata": {},
   "outputs": [
    {
     "data": {
      "text/plain": [
       "5400.0"
      ]
     },
     "execution_count": 4,
     "metadata": {},
     "output_type": "execute_result"
    }
   ],
   "source": [
    "6000*9/10"
   ]
  },
  {
   "cell_type": "markdown",
   "metadata": {},
   "source": [
    "Noten que las proporciones se siguen conservando\n",
    "\n",
    "$$ \\dfrac{\\$7500}{\\$6000}=\\dfrac{75}{60}=\\dfrac{15}{12}=\\dfrac{5}{4} $$\n",
    "\n",
    "$$ \\dfrac{\\$6000}{\\$5400}=\\dfrac{60}{54}=\\dfrac{30}{27}=\\dfrac{10}{9} $$"
   ]
  },
  {
   "cell_type": "markdown",
   "metadata": {},
   "source": [
    "* ***Ejemplo:*** La proporción del pago de Ana respecto del de Beto es de $\\dfrac{5}{3}$. Si Ana recibe un pago de $\\$7500$, ¿de cuánto es el pago de Beto? "
   ]
  },
  {
   "cell_type": "code",
   "execution_count": 3,
   "metadata": {},
   "outputs": [
    {
     "data": {
      "text/plain": [
       "4500.0"
      ]
     },
     "execution_count": 3,
     "metadata": {},
     "output_type": "execute_result"
    }
   ],
   "source": [
    "7500*3/5"
   ]
  },
  {
   "cell_type": "markdown",
   "metadata": {},
   "source": [
    "## Los elementos geométricos"
   ]
  },
  {
   "cell_type": "markdown",
   "metadata": {},
   "source": [
    "* **El punto**\n",
    "\n",
    "Es la unidad mínima de la geometría y nos una posición."
   ]
  },
  {
   "cell_type": "markdown",
   "metadata": {},
   "source": [
    "* **La recta**\n",
    "\n",
    "Una línea que se extiende indefinidamente en una misma dirección."
   ]
  },
  {
   "cell_type": "markdown",
   "metadata": {},
   "source": [
    "* **El segmento**\n",
    "\n",
    "Es un pedazo de recta entre dos puntos."
   ]
  },
  {
   "cell_type": "markdown",
   "metadata": {},
   "source": [
    "Los puntos los designaremos medainte letras mayúsculas. Para hablar de un segmento tomaremos las letras de dos puntos que se encuentre en los extremos que delimitan a mi segmento. "
   ]
  },
  {
   "cell_type": "markdown",
   "metadata": {},
   "source": [
    "## Puntos, rectas y segmentos en una dimensión"
   ]
  },
  {
   "cell_type": "markdown",
   "metadata": {},
   "source": [
    "*Puntos colineales* son aquellos puntos que se encuentran sobre una misma recta."
   ]
  },
  {
   "cell_type": "markdown",
   "metadata": {},
   "source": [
    "**¿Cómo trabajamos con segmentos?**"
   ]
  },
  {
   "cell_type": "markdown",
   "metadata": {},
   "source": [
    "<img src=\"seg1.png\" align=\"middle\" width=\"380\">\n",
    "<img src=\"seg2.png\" align=\"middle\" width=\"400\">"
   ]
  },
  {
   "cell_type": "markdown",
   "metadata": {},
   "source": [
    "\\begin{equation}\n",
    "\\overline{AB}+\\overline{BC}=\\overline{AC}\n",
    "\\end{equation}"
   ]
  },
  {
   "cell_type": "markdown",
   "metadata": {},
   "source": [
    "* ***Ejemplo:*** Si $A$, $B$, $C$, y $D$ son puntos colineales consecutivos y  $\\overline{AB}=3x$, $\\overline{CD}=7x$, $\\overline{BC}=38$, y $\\overline{AD}=118$, calcula $\\overline{AB}$."
   ]
  },
  {
   "cell_type": "markdown",
   "metadata": {},
   "source": [
    "* Hallar cuánto vale $x$."
   ]
  },
  {
   "cell_type": "markdown",
   "metadata": {},
   "source": [
    "$$ \\overline{AB}+\\overline{BC}+\\overline{CD}=\\overline{AD} $$"
   ]
  },
  {
   "cell_type": "markdown",
   "metadata": {},
   "source": [
    "$$ 3x+38+7x=118 $$"
   ]
  },
  {
   "cell_type": "markdown",
   "metadata": {},
   "source": [
    "$$ 10x+38=118 $$"
   ]
  },
  {
   "cell_type": "markdown",
   "metadata": {},
   "source": [
    "$$ 10x=118-38 $$"
   ]
  },
  {
   "cell_type": "markdown",
   "metadata": {},
   "source": [
    "$$ 10x=80 $$"
   ]
  },
  {
   "cell_type": "markdown",
   "metadata": {},
   "source": [
    "$$ x=\\dfrac{80}{10}=8 $$"
   ]
  },
  {
   "cell_type": "markdown",
   "metadata": {},
   "source": [
    "$\\overline{AB}=3x=3(8)=24$"
   ]
  },
  {
   "cell_type": "markdown",
   "metadata": {},
   "source": [
    "### Segmentos proporcionales"
   ]
  },
  {
   "cell_type": "markdown",
   "metadata": {},
   "source": [
    "* ***Ejemplo:***"
   ]
  },
  {
   "cell_type": "markdown",
   "metadata": {},
   "source": [
    "$$ \\dfrac{\\overline{AB}}{\\overline{CD}}=\\dfrac{2}{1} $$"
   ]
  },
  {
   "cell_type": "markdown",
   "metadata": {},
   "source": [
    "$$ \\overline{AB}=2\\overline{CD} $$"
   ]
  },
  {
   "cell_type": "markdown",
   "metadata": {},
   "source": [
    "* ***Ejemplo:*** Sobre una recta se ubican los puntos colineales consecutivos $A$, $B$, $C$ y $D$. Tenemos las siguientes relaciones:\n",
    "    * $\\overline{CD}=4\\overline{BC}$\n",
    "    * $\\overline{AB}=7$\n",
    "    * $\\overline{AD}=22$\n",
    "    \n",
    "    Hallar $\\overline{AC}$."
   ]
  },
  {
   "cell_type": "markdown",
   "metadata": {},
   "source": [
    "$$ \\overline{AB}+\\overline{BC}+\\overline{CD}=\\overline{AD} $$"
   ]
  },
  {
   "cell_type": "markdown",
   "metadata": {},
   "source": [
    "$$ 7+\\overline{BC}+4\\overline{BC}=22 $$"
   ]
  },
  {
   "cell_type": "markdown",
   "metadata": {},
   "source": [
    "$$ 7+5\\overline{BC}=12 $$"
   ]
  },
  {
   "cell_type": "markdown",
   "metadata": {},
   "source": [
    "$$ 5\\overline{BC}=12-7 $$"
   ]
  },
  {
   "cell_type": "markdown",
   "metadata": {},
   "source": [
    "$$ 5\\overline{BC}=5 $$"
   ]
  },
  {
   "cell_type": "markdown",
   "metadata": {},
   "source": [
    "$$ \\overline{BC}=1 $$"
   ]
  },
  {
   "cell_type": "markdown",
   "metadata": {},
   "source": [
    "## Ángulos"
   ]
  },
  {
   "cell_type": "markdown",
   "metadata": {},
   "source": [
    "El *ángulo* es la apertura entre dos rectas, trazadas desde el mismo punto."
   ]
  },
  {
   "cell_type": "markdown",
   "metadata": {},
   "source": [
    "<img src=\"angulo.png\" align=\"middle\" width=\"300\">"
   ]
  },
  {
   "cell_type": "markdown",
   "metadata": {},
   "source": [
    "En la figura vemos dos segmentos, $\\overline{AB}$ y $\\overline{AC}$, los cuales se encuentran en el punto $A$, conocido como *vértice* (un pico, pues). Al ángulo que se forma entre estos segmentos también se le conoce como el ángulo $A$ ó $\\angle BAC$ ó $\\angle CAB$."
   ]
  },
  {
   "cell_type": "markdown",
   "metadata": {},
   "source": [
    "Una recta que parte exactamente a la mitad un ángulo se conoce como *bisectriz*."
   ]
  },
  {
   "cell_type": "markdown",
   "metadata": {},
   "source": [
    "Cuando una recta cruza con otra decimos que estas se han intersectado."
   ]
  },
  {
   "cell_type": "markdown",
   "metadata": {},
   "source": [
    "Para los ángulos se usa una *unidad* conocida como *grados*. Sabemos que dar una vuelta completa es equivalente a un ángulo de $360^\\circ$."
   ]
  },
  {
   "cell_type": "markdown",
   "metadata": {},
   "source": [
    "Cuando una recta divide a otra recta (es su bisectriz) decimos que estas rectas son perpendiculares y cada uno de los ángulos en los que se separa las rectas se conoce como *ángulo recto*."
   ]
  },
  {
   "cell_type": "markdown",
   "metadata": {},
   "source": [
    "<img src=\"perp.png\" align=\"middle\" width=\"500\">"
   ]
  },
  {
   "cell_type": "markdown",
   "metadata": {},
   "source": [
    "Como dividimos una vuelta completa en cuatro partes, un ángulo recto vale $90^\\circ$. Al doble de esto, $180^\\circ$, se le conoce como *ángulo llano*."
   ]
  },
  {
   "cell_type": "markdown",
   "metadata": {},
   "source": [
    "* Si un ángulo es menor que un ángulo recto se le llama *ángulo agudo*.\n",
    "* Si un ángulo es mayor que un ángulo recto pero menor que un ángulo llano se le llama *ángulo obtuso*.\n",
    "* Si la suma de dos ángulos es igual a un ángulo recto se dice los ángulos son *complementarios*.\n",
    "* Si la suma de dos ángulos es igual a un ángulo llano se dice los ángulos son *suplementarios*."
   ]
  },
  {
   "cell_type": "markdown",
   "metadata": {},
   "source": [
    "<img src=\"ang_opuestos.png\" align=\"middle\" width=\"350\">"
   ]
  },
  {
   "cell_type": "markdown",
   "metadata": {},
   "source": [
    "En la figura anterior, el segmento $\\overline{AD}$ se intersecta con el segmento $\\overline{BC}$ en el punto $E$ y nos forma los ángulos:\n",
    "* $\\angle AEB$ \n",
    "* $\\angle AEC$\n",
    "* $\\angle BED$\n",
    "* $\\angle CED$\n",
    "\n",
    "Un resultado muy importante es que ángulos que se encuentren en extremos contrarios de una intersección son iguales:\n",
    "\n",
    "$$\\angle AEB=\\angle CED$$\n",
    "\n",
    "$$\\angle AEC=\\angle BED$$"
   ]
  }
 ],
 "metadata": {
  "kernelspec": {
   "display_name": "Julia 1.1.0",
   "language": "julia",
   "name": "julia-1.1"
  },
  "language_info": {
   "file_extension": ".jl",
   "mimetype": "application/julia",
   "name": "julia",
   "version": "1.1.0"
  }
 },
 "nbformat": 4,
 "nbformat_minor": 4
}
