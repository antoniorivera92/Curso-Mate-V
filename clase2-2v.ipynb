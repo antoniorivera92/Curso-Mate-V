{
 "cells": [
  {
   "cell_type": "markdown",
   "metadata": {},
   "source": [
    "# Álgebra para analizar objetos geométricos"
   ]
  },
  {
   "cell_type": "markdown",
   "metadata": {},
   "source": [
    "# Clase 2"
   ]
  },
  {
   "cell_type": "markdown",
   "metadata": {},
   "source": [
    "* ***Ejemplo:*** Determine el punto equidistante entre los puntos $A(-2,3)$, $B(4,1)$, y $C(1,7)$"
   ]
  },
  {
   "cell_type": "markdown",
   "metadata": {},
   "source": [
    "El punto del problema es encontrar el cuarto punto que será equidistante a los otros tres puntos es $P(x,y)$."
   ]
  },
  {
   "cell_type": "markdown",
   "metadata": {},
   "source": [
    "¿Cuál es la distancia entre $A$ y $P$?"
   ]
  },
  {
   "cell_type": "markdown",
   "metadata": {},
   "source": [
    "$$\\overline{AP}=\\sqrt{[(-2)-x]^2+[(3)-y]^2}$$"
   ]
  },
  {
   "cell_type": "markdown",
   "metadata": {},
   "source": [
    "$$\\overline{AP}=\\sqrt{(-2-x)^2+(3-y)^2}$$"
   ]
  },
  {
   "cell_type": "markdown",
   "metadata": {},
   "source": [
    "¿Cuál es la distancia entre $B$ y $P$?"
   ]
  },
  {
   "cell_type": "markdown",
   "metadata": {},
   "source": [
    "$$\\overline{BP}=\\sqrt{[(4)-x]^2+[(1)-y]^2}$$"
   ]
  },
  {
   "cell_type": "markdown",
   "metadata": {},
   "source": [
    "$$\\overline{BP}=\\sqrt{(4-x)^2+(1-y)^2}$$"
   ]
  },
  {
   "cell_type": "markdown",
   "metadata": {},
   "source": [
    "¿Cuál es la distancia entre $C$ y $P$?"
   ]
  },
  {
   "cell_type": "markdown",
   "metadata": {},
   "source": [
    "$$\\overline{CP}=\\sqrt{[(1)-x]^2+[(7)-y]^2}$$"
   ]
  },
  {
   "cell_type": "markdown",
   "metadata": {},
   "source": [
    "$$\\overline{CP}=\\sqrt{(1-x)^2+(7-y)^2}$$"
   ]
  },
  {
   "cell_type": "markdown",
   "metadata": {},
   "source": [
    "**1ra ecuación**"
   ]
  },
  {
   "cell_type": "markdown",
   "metadata": {},
   "source": [
    "$$ \\overline{AP}=\\overline{BP} $$"
   ]
  },
  {
   "cell_type": "markdown",
   "metadata": {},
   "source": [
    "$$ \\sqrt{(-2-x)^2+(3-y)^2}=\\sqrt{(4-x)^2+(1-y)^2} $$"
   ]
  },
  {
   "cell_type": "markdown",
   "metadata": {},
   "source": [
    "Elevamos toda la ecuación al cuadrado para eliminar las raíces de cada lado:"
   ]
  },
  {
   "cell_type": "markdown",
   "metadata": {},
   "source": [
    "$$ (-2-x)^2+(3-y)^2=(4-x)^2+(1-y)^2 $$"
   ]
  },
  {
   "cell_type": "markdown",
   "metadata": {},
   "source": [
    "Elevamos cada binomio al cuadrado:"
   ]
  },
  {
   "cell_type": "markdown",
   "metadata": {},
   "source": [
    "$$ [(-2)^2+2(-2)(-x)+(-x)^2]+[(3)^2+2(3)(-y)+(-y)^2]=[(4)^2+2(4)(-x)+(-x)^2]+[(1)^2+2(1)(-y)+(-y)^2] $$"
   ]
  },
  {
   "cell_type": "markdown",
   "metadata": {},
   "source": [
    "$$ [4+4x+x^2]+[9-6y+y^2]=[16-8x+x^2]+[1-2y+y^2] $$"
   ]
  },
  {
   "cell_type": "markdown",
   "metadata": {},
   "source": [
    "$$ 4x+x^2-6y+y^2+8x-x^2+2y-y^2=16+1-4-9 $$"
   ]
  },
  {
   "cell_type": "markdown",
   "metadata": {},
   "source": [
    "$$ 4x-6y+8x+2y=16+1-4-9 $$"
   ]
  },
  {
   "cell_type": "markdown",
   "metadata": {},
   "source": [
    "$$ 12x-4y=4 $$"
   ]
  },
  {
   "cell_type": "markdown",
   "metadata": {},
   "source": [
    "**2da ecuación**"
   ]
  },
  {
   "cell_type": "markdown",
   "metadata": {},
   "source": [
    "$$ \\overline{BP}=\\overline{CP} $$"
   ]
  },
  {
   "cell_type": "markdown",
   "metadata": {},
   "source": [
    "$$ \\sqrt{(4-x)^2+(1-y)^2}=\\sqrt{(1-x)^2+(7-y)^2} $$"
   ]
  },
  {
   "cell_type": "markdown",
   "metadata": {},
   "source": [
    "$$ (4-x)^2+(1-y)^2=(1-x)^2+(7-y)^2 $$"
   ]
  },
  {
   "cell_type": "markdown",
   "metadata": {},
   "source": [
    "$$ 16-8x+x^2+1-2y+y^2=1-2x+x^2+49-14y+y^2 $$"
   ]
  },
  {
   "cell_type": "markdown",
   "metadata": {},
   "source": [
    "$$ -8x+x^2-2y+y^2+2x-x^2+14y-y^2=1+49-16-1 $$"
   ]
  },
  {
   "cell_type": "markdown",
   "metadata": {},
   "source": [
    "$$ -6x+12y=33 $$"
   ]
  },
  {
   "cell_type": "markdown",
   "metadata": {},
   "source": [
    "Nuestro sistema de ecuaciones es\n",
    "\\begin{equation}\n",
    "\\begin{cases}\n",
    "12x-4y=4\\\\\n",
    "-6x+12y=33\\\\\n",
    "\\end{cases}\n",
    "\\end{equation}"
   ]
  },
  {
   "cell_type": "markdown",
   "metadata": {},
   "source": [
    "El determinante"
   ]
  },
  {
   "cell_type": "markdown",
   "metadata": {},
   "source": [
    "\\begin{equation}\n",
    "\\Delta=\\begin{pmatrix}\n",
    "12&-4\\\\\n",
    "-6&12\n",
    "\\end{pmatrix}\n",
    "=+(12)(12)-(-6)(-4)\n",
    "\\end{equation}"
   ]
  },
  {
   "cell_type": "markdown",
   "metadata": {},
   "source": [
    "$$ =144-24=120 $$"
   ]
  },
  {
   "cell_type": "markdown",
   "metadata": {},
   "source": [
    "\\begin{equation}\n",
    "\\Delta_x=\\begin{pmatrix}\n",
    "4&-4\\\\\n",
    "33&12\n",
    "\\end{pmatrix}\n",
    "=+(4)(12)-(33)(-4)\n",
    "\\end{equation}"
   ]
  },
  {
   "cell_type": "markdown",
   "metadata": {},
   "source": [
    "$$ =48+132=180 $$"
   ]
  },
  {
   "cell_type": "markdown",
   "metadata": {},
   "source": [
    "\\begin{equation}\n",
    "\\Delta_y=\\begin{pmatrix}\n",
    "12&4\\\\\n",
    "-6&33\n",
    "\\end{pmatrix}\n",
    "=+(12)(33)-(-6)(4)\n",
    "\\end{equation}"
   ]
  },
  {
   "cell_type": "markdown",
   "metadata": {},
   "source": [
    "$$ =396+24=420 $$"
   ]
  },
  {
   "cell_type": "markdown",
   "metadata": {},
   "source": [
    "$$ x=\\frac{\\Delta_x}{\\Delta}=\\frac{180}{120}=\\frac{18}{12}=\\frac{3}{2} $$\n",
    "\n",
    "$$ y=\\frac{\\Delta_y}{\\Delta}=\\frac{420}{120}=\\frac{42}{12}=\\frac{7}{2} $$"
   ]
  },
  {
   "cell_type": "markdown",
   "metadata": {},
   "source": [
    "El punto es $P\\left(\\dfrac{3}{2},\\dfrac{7}{2}\\right)$."
   ]
  },
  {
   "cell_type": "markdown",
   "metadata": {},
   "source": [
    "En `Desmos` (https://www.desmos.com/calculator/ntqolszdoo) podemos ver la imagen de los puntos:"
   ]
  },
  {
   "cell_type": "markdown",
   "metadata": {},
   "source": [
    "<img src=\"equidist.png\" align=\"middle\" width=\"500\">"
   ]
  },
  {
   "cell_type": "markdown",
   "metadata": {},
   "source": [
    "**Comprobación:** Podemos obtener las distancias para comprobar que efectivamente $A(-2,3)$, $B(4,1)$, y $C(1,7)$, son equidistantes al punto $P\\left(\\dfrac{3}{2},\\dfrac{7}{2}\\right)$"
   ]
  },
  {
   "cell_type": "markdown",
   "metadata": {},
   "source": [
    "$$\\overline{AP}=\\sqrt{[(-2)-(3/2)]^2+[(3)-(7/2)]^2}$$"
   ]
  },
  {
   "cell_type": "code",
   "execution_count": 1,
   "metadata": {},
   "outputs": [
    {
     "data": {
      "text/plain": [
       "3.5355339059327378"
      ]
     },
     "execution_count": 1,
     "metadata": {},
     "output_type": "execute_result"
    }
   ],
   "source": [
    "√(((-2)-(3/2))^2+((3)-(7/2))^2)"
   ]
  },
  {
   "cell_type": "markdown",
   "metadata": {},
   "source": [
    "$$\\overline{BP}=\\sqrt{[(4)-(3/2)]^2+[(1)-(7/2)]^2}$$"
   ]
  },
  {
   "cell_type": "code",
   "execution_count": 3,
   "metadata": {},
   "outputs": [
    {
     "data": {
      "text/plain": [
       "3.5355339059327378"
      ]
     },
     "execution_count": 3,
     "metadata": {},
     "output_type": "execute_result"
    }
   ],
   "source": [
    "√(((4)-(3/2))^2+((1)-(7/2))^2)"
   ]
  },
  {
   "cell_type": "markdown",
   "metadata": {},
   "source": [
    "$$\\overline{CP}=\\sqrt{[(1)-(3/2)]^2+[(7)-(7/2)]^2}$$"
   ]
  },
  {
   "cell_type": "code",
   "execution_count": 4,
   "metadata": {},
   "outputs": [
    {
     "data": {
      "text/plain": [
       "3.5355339059327378"
      ]
     },
     "execution_count": 4,
     "metadata": {},
     "output_type": "execute_result"
    }
   ],
   "source": [
    "√(((1)-(3/2))^2+((7)-(7/2))^2)"
   ]
  },
  {
   "cell_type": "markdown",
   "metadata": {},
   "source": [
    "Efectivamente da las mismas distancias."
   ]
  },
  {
   "cell_type": "markdown",
   "metadata": {},
   "source": [
    "* ***Ejemplo:*** Determina si el triángulo formado por los puntos $A(0,0)$, $B(6,5)$, y $C(1,6)$ es escaleno, isósceles o equilátero."
   ]
  },
  {
   "cell_type": "markdown",
   "metadata": {},
   "source": [
    "$$\\overline{AB}=\\sqrt{[(0)-(6)]^2+[(0)-(5)]^2}=\\sqrt{(-6)^2+(-5)^2}$$"
   ]
  },
  {
   "cell_type": "markdown",
   "metadata": {},
   "source": [
    "$$ =\\sqrt{36+25} $$"
   ]
  },
  {
   "cell_type": "markdown",
   "metadata": {},
   "source": [
    "$$ =\\sqrt{61} $$"
   ]
  },
  {
   "cell_type": "markdown",
   "metadata": {},
   "source": [
    "$$\\overline{BC}=\\sqrt{[(6)-(1)]^2+[(5)-(6)]^2}=\\sqrt{(5)^2+(-1)^2}$$"
   ]
  },
  {
   "cell_type": "markdown",
   "metadata": {},
   "source": [
    "$$ =\\sqrt{25+1} $$"
   ]
  },
  {
   "cell_type": "markdown",
   "metadata": {},
   "source": [
    "$$ =\\sqrt{26} $$"
   ]
  },
  {
   "cell_type": "markdown",
   "metadata": {},
   "source": [
    "$$\\overline{CA}=\\sqrt{[(1)-(0)]^2+[(6)-(0)]^2}$$"
   ]
  },
  {
   "cell_type": "markdown",
   "metadata": {},
   "source": [
    "$$ =\\sqrt{37} $$"
   ]
  },
  {
   "cell_type": "markdown",
   "metadata": {},
   "source": [
    "## División de un segmento en una razón dada"
   ]
  },
  {
   "cell_type": "markdown",
   "metadata": {},
   "source": [
    "### Punto medio"
   ]
  },
  {
   "cell_type": "markdown",
   "metadata": {},
   "source": [
    "* ***Ejemplo:*** Si tuviéramos los puntos $A(-3,-1)$ y $B(5,-1)$, ¿cuáles son las coordenadas del punto que está a la mitad?"
   ]
  },
  {
   "cell_type": "markdown",
   "metadata": {},
   "source": [
    "Si tenemos dos puntos, $P_1(x_1,y_1)$ y $P_2(x_2,y_2)$, el punto medio $P(x,y)$ tiene coordenadas"
   ]
  },
  {
   "cell_type": "markdown",
   "metadata": {},
   "source": [
    "$$x=\\dfrac{x_1+x_2}{2}$$\n",
    "\n",
    "$$y=\\dfrac{y_1+y_2}{2}$$"
   ]
  },
  {
   "cell_type": "markdown",
   "metadata": {},
   "source": [
    "* ***Ejemplo:*** Si tuviéramos los puntos $A(-3,-1)$ y $B(5,-1)$, ¿cuáles son las coordenadas del punto que está a la mitad?"
   ]
  },
  {
   "cell_type": "markdown",
   "metadata": {},
   "source": [
    "$$x=\\dfrac{(-3)+(5)}{2} $$"
   ]
  },
  {
   "cell_type": "markdown",
   "metadata": {},
   "source": [
    "$$ =\\dfrac{2}{2} $$"
   ]
  },
  {
   "cell_type": "markdown",
   "metadata": {},
   "source": [
    "$$ =1 $$"
   ]
  },
  {
   "cell_type": "markdown",
   "metadata": {},
   "source": [
    "$$ y=\\dfrac{(-1)+(-1)}{2} $$"
   ]
  },
  {
   "cell_type": "markdown",
   "metadata": {},
   "source": [
    "$$ =\\dfrac{-2}{2} $$"
   ]
  },
  {
   "cell_type": "markdown",
   "metadata": {},
   "source": [
    "$$ =-1 $$"
   ]
  },
  {
   "cell_type": "markdown",
   "metadata": {},
   "source": [
    "El punto medio tiene coordenadas $(1,-1)$"
   ]
  },
  {
   "cell_type": "markdown",
   "metadata": {},
   "source": [
    "### Razón"
   ]
  },
  {
   "cell_type": "markdown",
   "metadata": {},
   "source": [
    "* ***Ejemplo:*** Si tuviéramos los puntos $A(1,1)$ y $B(1,4)$, cómo partimos esto en tres partes."
   ]
  },
  {
   "cell_type": "markdown",
   "metadata": {},
   "source": [
    "Nuevamente tenemos dos puntos, $P_1(x_1,y_1)$ y $P_2(x_2,y_2)$. Llamaremos *razón* a una cantidad escrita como fracción $r=\\dfrac{a}{b}.$ Esta fracción nos dice que el  segmento $\\overline{P_1P_2}$ se tiene que dividir en $a+b$ partes."
   ]
  },
  {
   "cell_type": "markdown",
   "metadata": {},
   "source": [
    "Entonces, el punto $P(x,y)$ que aparece en esa razón dada, tiene coordenadas"
   ]
  },
  {
   "cell_type": "markdown",
   "metadata": {},
   "source": [
    "$$x=\\dfrac{x_1+rx_2}{1+r}$$"
   ]
  },
  {
   "cell_type": "markdown",
   "metadata": {},
   "source": [
    "$$y=\\dfrac{y_1+ry_2}{1+r}$$"
   ]
  },
  {
   "cell_type": "markdown",
   "metadata": {},
   "source": [
    "* ***Ejemplo:*** Tenemos los puntos $A(-2,4)$ y $B(4, -8)$. Encuentra los puntos que dividen al segmento en la razón $r=2=\\dfrac{2}{1}$."
   ]
  },
  {
   "cell_type": "markdown",
   "metadata": {},
   "source": [
    "$$x=\\dfrac{(-2)+(2)(4)}{1+(2)}$$"
   ]
  },
  {
   "cell_type": "markdown",
   "metadata": {},
   "source": [
    "$$=\\dfrac{-2+8}{3}$$"
   ]
  },
  {
   "cell_type": "markdown",
   "metadata": {},
   "source": [
    "$$=\\dfrac{6}{3}$$"
   ]
  },
  {
   "cell_type": "markdown",
   "metadata": {},
   "source": [
    "$$=2$$"
   ]
  },
  {
   "cell_type": "markdown",
   "metadata": {},
   "source": [
    "$$y=\\dfrac{(4)+(2)(-8)}{1+(2)}$$"
   ]
  },
  {
   "cell_type": "markdown",
   "metadata": {},
   "source": [
    "$$=\\dfrac{4-16}{3}$$"
   ]
  },
  {
   "cell_type": "markdown",
   "metadata": {},
   "source": [
    "$$=\\dfrac{-12}{3}$$"
   ]
  },
  {
   "cell_type": "markdown",
   "metadata": {},
   "source": [
    "$$=-4$$"
   ]
  },
  {
   "cell_type": "markdown",
   "metadata": {},
   "source": [
    "Las coordenadas son $(2,-4)$"
   ]
  },
  {
   "cell_type": "markdown",
   "metadata": {},
   "source": [
    "* ***Ejemplo:*** Hallar el punto medio y los puntos que dividen en $4$ partes al segmento cuyos extremos son los puntos $A(-2,3)$ y $B(6,-3)$."
   ]
  },
  {
   "cell_type": "markdown",
   "metadata": {},
   "source": [
    "**Punto medio:**"
   ]
  },
  {
   "cell_type": "markdown",
   "metadata": {},
   "source": [
    "$$ x=\\frac{-2+6}{2}=\\frac{4}{2}=2 $$"
   ]
  },
  {
   "cell_type": "markdown",
   "metadata": {},
   "source": [
    "$$ y=\\frac{3+(-3)}{2}=\\frac{0}{2}=0 $$"
   ]
  },
  {
   "cell_type": "markdown",
   "metadata": {},
   "source": [
    "**Para separar el segmento en cuatro partes:**"
   ]
  },
  {
   "cell_type": "markdown",
   "metadata": {},
   "source": [
    "1. Encontramos cuáles son los enteros mayores que cero que sumados entre sí me dan $4$\n",
    "\\begin{align}\n",
    "&1\\text{ y }3\\\\\n",
    "&2\\text{ y }2\\\\\n",
    "&3\\text{ y }1\\\\\n",
    "\\end{align}"
   ]
  },
  {
   "cell_type": "markdown",
   "metadata": {},
   "source": [
    "2. Estos números los expresaremos como fracciones y son las razones que usaremos para obtener las coordenas de los tres puntos que dividen el segmento en cuatro partes iguales:\n",
    "\\begin{align}\n",
    "r=\\frac{1}{3}\\\\\n",
    "r=\\frac{2}{2}\\\\\n",
    "r=\\frac{3}{1}\n",
    "\\end{align}"
   ]
  },
  {
   "cell_type": "markdown",
   "metadata": {},
   "source": [
    "3. La primera razón nos dará las coordenadas del punto más cercano a $A$, la siguiente razón nos dará las coordenadas del siguiente punto, y la última razó nos dará las coordenadas del punto más cercano a $B$. \n",
    "\n",
    "**Nota:** Esto sucede porque tomamos a $A$ como el primer punto y a $B$ como el segundo punto. Si cambiamos su orden obtendremos las coordenadas de los puntos que parten el segmento en $4$ al revés."
   ]
  },
  {
   "cell_type": "markdown",
   "metadata": {},
   "source": [
    "Para $1$ y $3$, la razón es $r=\\dfrac{1}{3}$"
   ]
  },
  {
   "cell_type": "markdown",
   "metadata": {},
   "source": [
    "$$x_1=\\dfrac{(-2)+\\frac{1}{3}6}{1+\\frac{1}{3}}$$"
   ]
  },
  {
   "cell_type": "code",
   "execution_count": 3,
   "metadata": {},
   "outputs": [
    {
     "data": {
      "text/plain": [
       "0.0"
      ]
     },
     "execution_count": 3,
     "metadata": {},
     "output_type": "execute_result"
    }
   ],
   "source": [
    "(-2+6/3)/(1+1/3)"
   ]
  },
  {
   "cell_type": "markdown",
   "metadata": {},
   "source": [
    "$$y_1=\\dfrac{3+\\frac{1}{3}(-3)}{1+\\frac{1}{3}}$$"
   ]
  },
  {
   "cell_type": "code",
   "execution_count": 4,
   "metadata": {},
   "outputs": [
    {
     "data": {
      "text/plain": [
       "1.5"
      ]
     },
     "execution_count": 4,
     "metadata": {},
     "output_type": "execute_result"
    }
   ],
   "source": [
    "(3-3/3)/(1+1/3)"
   ]
  },
  {
   "cell_type": "markdown",
   "metadata": {},
   "source": [
    "Las coordenadas del punto del primer punto son $(0,1.5)$"
   ]
  },
  {
   "cell_type": "markdown",
   "metadata": {},
   "source": [
    "Para $2$ y $2$, la razón es $r=1$"
   ]
  },
  {
   "cell_type": "markdown",
   "metadata": {},
   "source": [
    "$$x=\\dfrac{-2+1(6)}{1+1}=\\frac{4}{2}=2$$"
   ]
  },
  {
   "cell_type": "markdown",
   "metadata": {},
   "source": [
    "$$y=\\dfrac{3+1(-3)}{1+1}=0$$"
   ]
  },
  {
   "cell_type": "markdown",
   "metadata": {},
   "source": [
    "Las coordenadas del punto del segundo punto son $(2,0)$"
   ]
  },
  {
   "cell_type": "markdown",
   "metadata": {},
   "source": [
    "Para $3$ y $1$, la razón es $r=3$"
   ]
  },
  {
   "cell_type": "markdown",
   "metadata": {},
   "source": [
    "$$x=\\dfrac{-2+3(6)}{1+3}$$"
   ]
  },
  {
   "cell_type": "code",
   "execution_count": 5,
   "metadata": {},
   "outputs": [
    {
     "data": {
      "text/plain": [
       "4.0"
      ]
     },
     "execution_count": 5,
     "metadata": {},
     "output_type": "execute_result"
    }
   ],
   "source": [
    "(-2+18)/4"
   ]
  },
  {
   "cell_type": "markdown",
   "metadata": {},
   "source": [
    "$$y=\\dfrac{3+3(-3)}{1+3}$$"
   ]
  },
  {
   "cell_type": "code",
   "execution_count": 6,
   "metadata": {
    "scrolled": true
   },
   "outputs": [
    {
     "data": {
      "text/plain": [
       "-1.5"
      ]
     },
     "execution_count": 6,
     "metadata": {},
     "output_type": "execute_result"
    }
   ],
   "source": [
    "(3-9)/4"
   ]
  },
  {
   "cell_type": "markdown",
   "metadata": {},
   "source": [
    "Las coordenadas del punto del tercer punto son $(4,-1.5)$"
   ]
  },
  {
   "cell_type": "markdown",
   "metadata": {},
   "source": [
    "En `Desmos` (https://www.desmos.com/calculator/irajqavrj6) podemos ver la imagen de los puntos:"
   ]
  },
  {
   "cell_type": "markdown",
   "metadata": {},
   "source": [
    "<img src=\"razon.png\" align=\"middle\" width=\"600\">"
   ]
  },
  {
   "cell_type": "markdown",
   "metadata": {},
   "source": [
    "## Lugar geométrico"
   ]
  },
  {
   "cell_type": "markdown",
   "metadata": {},
   "source": [
    "*Conjunto de puntos en el plano cartesiano que cumplen cierta condición.*"
   ]
  },
  {
   "cell_type": "markdown",
   "metadata": {},
   "source": [
    "## Ecuación de la recta"
   ]
  },
  {
   "cell_type": "markdown",
   "metadata": {},
   "source": [
    "### Tabulación"
   ]
  },
  {
   "cell_type": "markdown",
   "metadata": {},
   "source": [
    "$$ y=2x+1 $$"
   ]
  },
  {
   "cell_type": "markdown",
   "metadata": {},
   "source": [
    "Cuando $x=-3$\n",
    "$$ y=2(-3)+1=-5 $$"
   ]
  },
  {
   "cell_type": "markdown",
   "metadata": {},
   "source": [
    "Cuando $x=-2$\n",
    "$$ y=2(-2)+1=-3 $$"
   ]
  },
  {
   "cell_type": "markdown",
   "metadata": {},
   "source": [
    "| $x$  | $y$ |\n",
    "|------|-----|\n",
    "| $-3$ |  $-5$   |\n",
    "| $-2$ |  $-3$   |\n",
    "| $-1$ |  $-1$   |\n",
    "| $0$  |  $1$   |\n",
    "| $1$  |  $3$   |\n",
    "| $2$  |  $5$   |\n",
    "| $3$  |  $7$   |"
   ]
  },
  {
   "cell_type": "markdown",
   "metadata": {},
   "source": [
    "### Ángulo de inclinación y pendiente"
   ]
  },
  {
   "cell_type": "markdown",
   "metadata": {},
   "source": [
    "Si tenemos dos puntos $A(-1,3)$ y $B(3,-3)$, hay un sola recta que pasa por ambos puntos. Esta recta tiene una cierta inclinación. Dicha inclinación se mantiene a lo largo de toda la recta."
   ]
  },
  {
   "cell_type": "markdown",
   "metadata": {},
   "source": [
    "**¿Cómo obtenemos la inclinación?**"
   ]
  },
  {
   "cell_type": "markdown",
   "metadata": {},
   "source": [
    "Podemos obtener el ángulo podemos resolver el triángulo que se dibuja con las coordenadas y las rectas verticales y horizantales a dichos puntos."
   ]
  },
  {
   "cell_type": "markdown",
   "metadata": {},
   "source": [
    "Definimo la *pendiente* como"
   ]
  },
  {
   "cell_type": "markdown",
   "metadata": {},
   "source": [
    "$$ m=\\frac{y_2-y_1}{x_2-x_1} $$"
   ]
  },
  {
   "cell_type": "markdown",
   "metadata": {},
   "source": [
    "La manera en que esto se relaciona con el ángulo obtenido anteriormente es"
   ]
  },
  {
   "cell_type": "markdown",
   "metadata": {},
   "source": [
    "$$m=\\tan\\theta$$"
   ]
  },
  {
   "cell_type": "markdown",
   "metadata": {},
   "source": [
    "$$\\theta=\\tan^{-1}(m)$$"
   ]
  },
  {
   "cell_type": "markdown",
   "metadata": {},
   "source": [
    "* ***Ejemplo:*** Si tenemos dos puntos $A(-1,3)$ y $B(3,-3)$, ¿cuál es la inclinación de la recta? O sea, obtén la pendiente y el ángulo de inclinación."
   ]
  },
  {
   "cell_type": "markdown",
   "metadata": {},
   "source": [
    "$$ m=\\frac{(-3)-(3)}{(3)-(-1)} $$"
   ]
  },
  {
   "cell_type": "markdown",
   "metadata": {},
   "source": [
    "$$ m=\\frac{-6}{4} $$"
   ]
  },
  {
   "cell_type": "markdown",
   "metadata": {},
   "source": [
    "$$ m=-\\frac{3}{2} $$"
   ]
  },
  {
   "cell_type": "markdown",
   "metadata": {},
   "source": [
    "$$\\theta=\\tan^{-1}\\left(-\\frac{3}{2}\\right)$$"
   ]
  },
  {
   "cell_type": "code",
   "execution_count": 7,
   "metadata": {},
   "outputs": [
    {
     "data": {
      "text/plain": [
       "-56.309932474020215"
      ]
     },
     "execution_count": 7,
     "metadata": {},
     "output_type": "execute_result"
    }
   ],
   "source": [
    "atand(-1.5)"
   ]
  },
  {
   "cell_type": "markdown",
   "metadata": {},
   "source": [
    "**¿Qué significa la pendiente?**"
   ]
  },
  {
   "cell_type": "markdown",
   "metadata": {},
   "source": [
    "Si avanzamos una unidad en $x$, avanzamos $m$ en $y$."
   ]
  },
  {
   "cell_type": "markdown",
   "metadata": {},
   "source": [
    "El coeficiente que acompaña a $x$ en la ecuación de una recta es la pendiente."
   ]
  },
  {
   "cell_type": "markdown",
   "metadata": {},
   "source": [
    "* ***Ejemplo:***"
   ]
  },
  {
   "cell_type": "markdown",
   "metadata": {},
   "source": [
    "$$ y=3x-5 $$"
   ]
  },
  {
   "cell_type": "markdown",
   "metadata": {},
   "source": [
    "| $x$  | $y$ |\n",
    "|------|-----|\n",
    "| $-3$ |     |\n",
    "| $-2$ |     |\n",
    "| $-1$ |     |\n",
    "| $0$  |     |\n",
    "| $1$  |     |\n",
    "| $2$  |     |\n",
    "| $3$  |     |"
   ]
  },
  {
   "cell_type": "markdown",
   "metadata": {},
   "source": [
    "* ***Ejemplo:***"
   ]
  },
  {
   "cell_type": "markdown",
   "metadata": {},
   "source": [
    "$$ y=-x+4 $$"
   ]
  },
  {
   "cell_type": "markdown",
   "metadata": {},
   "source": [
    "| $x$  | $y$ |\n",
    "|------|-----|\n",
    "| $-3$ |     |\n",
    "| $-2$ |     |\n",
    "| $-1$ |     |\n",
    "| $0$  |     |\n",
    "| $1$  |     |\n",
    "| $2$  |     |\n",
    "| $3$  |     |"
   ]
  },
  {
   "cell_type": "markdown",
   "metadata": {},
   "source": [
    "* ***Ejemplo:***"
   ]
  },
  {
   "cell_type": "markdown",
   "metadata": {},
   "source": [
    "$$ y=\\frac{3}{2}x-\\frac{1}{2} $$"
   ]
  },
  {
   "cell_type": "markdown",
   "metadata": {},
   "source": [
    "| $x$  | $y$ |\n",
    "|------|-----|\n",
    "| $-3$ |     |\n",
    "| $-2$ |     |\n",
    "| $-1$ |     |\n",
    "| $0$  |     |\n",
    "| $1$  |     |\n",
    "| $2$  |     |\n",
    "| $3$  |     |"
   ]
  }
 ],
 "metadata": {
  "kernelspec": {
   "display_name": "Julia 1.1.0",
   "language": "julia",
   "name": "julia-1.1"
  },
  "language_info": {
   "file_extension": ".jl",
   "mimetype": "application/julia",
   "name": "julia",
   "version": "1.1.0"
  }
 },
 "nbformat": 4,
 "nbformat_minor": 4
}
