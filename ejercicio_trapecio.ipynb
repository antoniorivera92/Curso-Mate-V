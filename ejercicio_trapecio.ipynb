{
 "cells": [
  {
   "cell_type": "markdown",
   "metadata": {},
   "source": [
    "# Situación. El área de un trapecio rectángulo con vértices en dos circunferencias"
   ]
  },
  {
   "cell_type": "markdown",
   "metadata": {},
   "source": [
    "**Si se tienen dos círculos tangentes en el punto $P_T$ con diámetros $\\overline{P_TD}=10\\ \\rm{cm}$ y $\\overline{P_TC}=5\\ \\rm{cm}$, respectivamente, como se muestra en la figura siguiente**"
   ]
  },
  {
   "cell_type": "markdown",
   "metadata": {},
   "source": [
    "<img src=\"situacion_circulos.png\" align=\"middle\" width=\"300\">"
   ]
  },
  {
   "cell_type": "markdown",
   "metadata": {},
   "source": [
    "La figura dibuja un trapecio con:\n",
    "* base mayor, $B=\\overline{AD}=x$\n",
    "* base menor, $b=\\overline{BC}=y$\n",
    "* altura, $h=\\overline{AB}$"
   ]
  },
  {
   "cell_type": "markdown",
   "metadata": {},
   "source": [
    "**1. Expresar la altura $h$ en términos de la base mayor $x$ del trapecio [3 puntos]**"
   ]
  },
  {
   "cell_type": "markdown",
   "metadata": {},
   "source": [
    "**1ra. manera:**"
   ]
  },
  {
   "cell_type": "markdown",
   "metadata": {},
   "source": [
    "Notemos que cuando $x=0$, $h=5$.\n",
    "\n",
    "Notemos que cuando $x=10$, $h=0$."
   ]
  },
  {
   "cell_type": "markdown",
   "metadata": {},
   "source": [
    "Para ver esto más fácilmente revisen la siguiente animación:"
   ]
  },
  {
   "cell_type": "markdown",
   "metadata": {},
   "source": [
    "https://www.desmos.com/calculator/mtluwzowev"
   ]
  },
  {
   "cell_type": "markdown",
   "metadata": {},
   "source": [
    "A) $h(x)=\\dfrac{\\sqrt{100-x^2}}{4}$\n",
    "\n",
    "B) $h(x)=\\sqrt{\\dfrac{100-x^2}{4}}$\n",
    "\n",
    "C) $h(x)=\\dfrac{\\sqrt{100+x^2}}{4}$\n",
    "\n",
    "D) $h(x)=\\sqrt{\\dfrac{100+x^2}{4}}$"
   ]
  },
  {
   "cell_type": "markdown",
   "metadata": {},
   "source": [
    "Ahora revisaremos cuál de las opciones cumple esto:"
   ]
  },
  {
   "cell_type": "markdown",
   "metadata": {},
   "source": [
    "* A) $h(x)=\\dfrac{\\sqrt{100-x^2}}{4}$"
   ]
  },
  {
   "cell_type": "markdown",
   "metadata": {},
   "source": [
    "$h(0)=\\dfrac{\\sqrt{100-0^2}}{4}=\\dfrac{\\sqrt{100}}{4}=\\dfrac{10}{4}=2.5$"
   ]
  },
  {
   "cell_type": "markdown",
   "metadata": {},
   "source": [
    "$h(10)=\\dfrac{\\sqrt{100-10^2}}{4}=\\dfrac{\\sqrt{0}}{4}=0$"
   ]
  },
  {
   "cell_type": "markdown",
   "metadata": {},
   "source": [
    "* B) $h(x)=\\sqrt{\\dfrac{100-x^2}{4}}$"
   ]
  },
  {
   "cell_type": "markdown",
   "metadata": {},
   "source": [
    "$h(0)=\\sqrt{\\dfrac{100-0^2}{4}}=\\sqrt{\\dfrac{100}{4}}=\\sqrt{25}=5$"
   ]
  },
  {
   "cell_type": "markdown",
   "metadata": {},
   "source": [
    "$h(10)=\\sqrt{\\dfrac{100-10^2}{4}}=\\sqrt{\\dfrac{0}{4}}=0$"
   ]
  },
  {
   "cell_type": "markdown",
   "metadata": {},
   "source": [
    "* C) $h(x)=\\dfrac{\\sqrt{100+x^2}}{4}$"
   ]
  },
  {
   "cell_type": "markdown",
   "metadata": {},
   "source": [
    "$h(0)=\\dfrac{\\sqrt{100+0^2}}{4}=\\dfrac{\\sqrt{100}}{4}=\\dfrac{10}{4}=2.5$"
   ]
  },
  {
   "cell_type": "markdown",
   "metadata": {},
   "source": [
    "$h(10)=\\dfrac{\\sqrt{100+10^2}}{4}=\\dfrac{\\sqrt{200}}{4}=3.535\\dots$"
   ]
  },
  {
   "cell_type": "markdown",
   "metadata": {},
   "source": [
    "* D) $h(x)=\\sqrt{\\dfrac{100+x^2}{4}}$"
   ]
  },
  {
   "cell_type": "markdown",
   "metadata": {},
   "source": [
    "$h(0)=\\sqrt{\\dfrac{100+0^2}{4}}=\\sqrt{\\dfrac{100}{4}}=\\sqrt{25}=5$"
   ]
  },
  {
   "cell_type": "markdown",
   "metadata": {},
   "source": [
    "$h(10)=\\sqrt{\\dfrac{100+10^2}{4}}=\\sqrt{\\dfrac{200}{4}}=\\sqrt{50}=7.071\\dots$"
   ]
  },
  {
   "cell_type": "markdown",
   "metadata": {},
   "source": [
    "La única que cumple con lo que esperamos es B)"
   ]
  },
  {
   "cell_type": "markdown",
   "metadata": {},
   "source": [
    "**Solución:** B)"
   ]
  },
  {
   "cell_type": "markdown",
   "metadata": {},
   "source": [
    "**2da. manera:**"
   ]
  },
  {
   "cell_type": "markdown",
   "metadata": {},
   "source": [
    "Si extendemos la línea $\\overline{AB}$ hasta $P_T$, con lo que tenemos el segmento $\\overline{AP_T}$, obtenemos los triángulos:\n",
    "* $\\Delta ADP_T$\n",
    "* $\\Delta BCP_T$"
   ]
  },
  {
   "cell_type": "markdown",
   "metadata": {},
   "source": [
    "<img src=\"situacion_circulos2.png\" align=\"middle\" width=\"300\">"
   ]
  },
  {
   "cell_type": "markdown",
   "metadata": {},
   "source": [
    "Estos triángulos son semejantes ya que:\n",
    "* comparten un ángulo, $\\angle AP_TD=\\angle BP_TC$\n",
    "* tienen el mismo ángulo interno que se forma entre dos rectas paralelas y una recta que pasa por estas, $\\angle ADP_T=\\angle BCP_T$\n",
    "* tienen el mismo ángulo interno que se forma entre dos rectas paralelas y una recta que pasa por estas, $\\angle P_TAD=\\angle P_TBC$"
   ]
  },
  {
   "cell_type": "markdown",
   "metadata": {},
   "source": [
    "Entonces, tendremos que"
   ]
  },
  {
   "cell_type": "markdown",
   "metadata": {},
   "source": [
    "$$ \\dfrac{\\overline{AP_T}}{\\overline{AB}}=\\dfrac{\\overline{DP_T}}{\\overline{CD}} $$"
   ]
  },
  {
   "cell_type": "markdown",
   "metadata": {},
   "source": [
    "$$ \\overline{AP_T}=\\dfrac{\\overline{DP_T}}{\\overline{CD}}\\cdot\\overline{AB} $$"
   ]
  },
  {
   "cell_type": "markdown",
   "metadata": {},
   "source": [
    "$$ \\overline{AP_T}=\\dfrac{10}{5}\\cdot h=2h $$"
   ]
  },
  {
   "cell_type": "markdown",
   "metadata": {},
   "source": [
    "Tal vez esto no es tan obvio pero, como queremos que se trate de un trapecio, la altura $h$ debe ser perpendicular a las bases. Entonces,\n",
    "\n",
    "$$\\angle P_TAD=\\angle P_TBC=90^\\circ$$"
   ]
  },
  {
   "cell_type": "markdown",
   "metadata": {},
   "source": [
    "Por lo tanto, los triángulos $\\Delta ADP_T$ y $\\Delta BCP_T$ son triángulos rectángulos."
   ]
  },
  {
   "cell_type": "markdown",
   "metadata": {},
   "source": [
    "$\\Delta ADP_T$:\n",
    "\n",
    "* catetos, $\\overline{AD}=x$\n",
    "* cateto, $\\overline{AP_T}=2h$\n",
    "* hipotenusa, $\\overline{DP_T}=10$"
   ]
  },
  {
   "cell_type": "markdown",
   "metadata": {},
   "source": [
    "$\\Delta BCP_T$:\n",
    "\n",
    "* catetos, $\\overline{BC}=y$\n",
    "* cateto, $\\overline{BP_T}=h$\n",
    "* hipotenusa, $\\overline{CP_T}=5$"
   ]
  },
  {
   "cell_type": "markdown",
   "metadata": {},
   "source": [
    "Para el triángulo $\\Delta ADP_T$ el teorema de Pitágoras nos dice que"
   ]
  },
  {
   "cell_type": "markdown",
   "metadata": {},
   "source": [
    "$$ x^2+(2h)^2=10^2 $$"
   ]
  },
  {
   "cell_type": "markdown",
   "metadata": {},
   "source": [
    "$$ x^2+4h^2=100 $$"
   ]
  },
  {
   "cell_type": "markdown",
   "metadata": {},
   "source": [
    "$$ 4h^2=100-x^2 $$"
   ]
  },
  {
   "cell_type": "markdown",
   "metadata": {},
   "source": [
    "$$ h=\\sqrt{\\dfrac{100-x^2}{4}} $$"
   ]
  },
  {
   "cell_type": "markdown",
   "metadata": {},
   "source": [
    "A) $h(x)=\\dfrac{\\sqrt{100-x^2}}{4}$\n",
    "\n",
    "B) $h(x)=\\sqrt{\\dfrac{100-x^2}{4}}$\n",
    "\n",
    "C) $h(x)=\\dfrac{\\sqrt{100+x^2}}{4}$\n",
    "\n",
    "D) $h(x)=\\sqrt{\\dfrac{100+x^2}{4}}$"
   ]
  },
  {
   "cell_type": "markdown",
   "metadata": {},
   "source": [
    "**Solución:** B)"
   ]
  },
  {
   "cell_type": "markdown",
   "metadata": {},
   "source": [
    " **2. Expresar la base menor y en términos de la base mayor: [1 punto]**"
   ]
  },
  {
   "cell_type": "markdown",
   "metadata": {},
   "source": [
    "<img src=\"situacion_circulos2.png\" align=\"middle\" width=\"300\">"
   ]
  },
  {
   "cell_type": "markdown",
   "metadata": {},
   "source": [
    "Nuevamente, usando la semejanza de triángulos vemos que"
   ]
  },
  {
   "cell_type": "markdown",
   "metadata": {},
   "source": [
    "$$ \\dfrac{\\overline{BC}}{\\overline{AD}}=\\dfrac{\\overline{CP_T}}{\\overline{DP_T}} $$"
   ]
  },
  {
   "cell_type": "markdown",
   "metadata": {},
   "source": [
    "$$ \\overline{BC}=\\dfrac{\\overline{CP_T}}{\\overline{DP_T}}\\cdot\\overline{AD} $$"
   ]
  },
  {
   "cell_type": "markdown",
   "metadata": {},
   "source": [
    "$$ y=\\dfrac{5}{10}\\cdot x=\\dfrac{x}{2} $$"
   ]
  },
  {
   "cell_type": "markdown",
   "metadata": {},
   "source": [
    "A) $y=\\sqrt{\\dfrac{x}{2}}$\n",
    "\n",
    "B) $y=\\dfrac{\\sqrt{x}}{2}$\n",
    "\n",
    "C) $y=\\dfrac{x}{2}$\n",
    "\n",
    "D) $y=\\dfrac{x}{4}$"
   ]
  },
  {
   "cell_type": "markdown",
   "metadata": {},
   "source": [
    "**Solución:** C)"
   ]
  },
  {
   "cell_type": "markdown",
   "metadata": {},
   "source": [
    "**3. El promedio de las dos bases de trapecio es: [1 punto]**"
   ]
  },
  {
   "cell_type": "markdown",
   "metadata": {},
   "source": [
    "Para el trapecio tenemos que la base mayor es $B=x$ y la base menor $b=y$. El promedio de las bases es"
   ]
  },
  {
   "cell_type": "markdown",
   "metadata": {},
   "source": [
    "$$ \\dfrac{B+b}{2}=\\dfrac{x+y}{2}=\\dfrac{x+\\dfrac{x}{2}}{2}=\\dfrac{\\dfrac{3x}{2}}{\\dfrac{2}{1}}=\\dfrac{3x}{4} $$"
   ]
  },
  {
   "cell_type": "markdown",
   "metadata": {},
   "source": [
    "A) $\\dfrac{2x+\\sqrt{x}}{4}$\n",
    "\n",
    "B) $\\dfrac{\\sqrt{2}x+\\sqrt{x}}{2\\sqrt{2}}$\n",
    "\n",
    "C) $\\dfrac{5}{4}x$\n",
    "\n",
    "D) $\\dfrac{3}{4}x$"
   ]
  },
  {
   "cell_type": "markdown",
   "metadata": {},
   "source": [
    "**Solución:** D)"
   ]
  },
  {
   "cell_type": "markdown",
   "metadata": {},
   "source": [
    "**4. El área del trapecio en términos de la base mayor es: [3 puntos]**"
   ]
  },
  {
   "cell_type": "markdown",
   "metadata": {},
   "source": [
    "Sabemos que el área de un trapecio es"
   ]
  },
  {
   "cell_type": "markdown",
   "metadata": {},
   "source": [
    "$$ A=\\dfrac{(B+b)\\cdot h}{2} $$"
   ]
  },
  {
   "cell_type": "markdown",
   "metadata": {},
   "source": [
    "donde\n",
    "\n",
    "$B$ : base mayor\n",
    "\n",
    "$b$ : base menor\n",
    "\n",
    "$h$ : altura"
   ]
  },
  {
   "cell_type": "markdown",
   "metadata": {},
   "source": [
    "También lo podemos escribir como"
   ]
  },
  {
   "cell_type": "markdown",
   "metadata": {},
   "source": [
    "$$ A=\\dfrac{B+b}{2}\\cdot h $$"
   ]
  },
  {
   "cell_type": "markdown",
   "metadata": {},
   "source": [
    "Pero ya calculamos $\\dfrac{B+b}{2}$ porque es el promedio de la bases. Además, ya sabemos la altura en términos de $x$. Por lo tanto,"
   ]
  },
  {
   "cell_type": "markdown",
   "metadata": {},
   "source": [
    "$$ A=\\dfrac{B+b}{2}\\cdot h=\\left(\\dfrac{3x}{4}\\right)\\left(\\sqrt{\\dfrac{100-x^2}{4}}\\right) $$"
   ]
  },
  {
   "cell_type": "markdown",
   "metadata": {},
   "source": [
    "$$ =\\dfrac{3x}{4}\\cdot\\dfrac{\\sqrt{100-x^2}}{2}=\\dfrac{3x\\sqrt{100-x^2}}{8} $$"
   ]
  },
  {
   "cell_type": "markdown",
   "metadata": {},
   "source": [
    "Ninguna de las opciones cumple esto. La más cercana es A)."
   ]
  },
  {
   "cell_type": "markdown",
   "metadata": {},
   "source": [
    "A) $A_T(x)=\\dfrac{3x\\sqrt{100-x^2}}{16}$\n",
    "\n",
    "B) $A_T(x)=\\dfrac{3x\\sqrt{100+x^2}}{16}$\n",
    "\n",
    "C) $A_T(x)=\\dfrac{3x\\sqrt{100+x^2}}{4}$\n",
    "\n",
    "D) $A_T(x)=\\dfrac{3x\\sqrt{100-x^2}}{4}$"
   ]
  },
  {
   "cell_type": "markdown",
   "metadata": {},
   "source": [
    "**Solución:** Ninguna"
   ]
  }
 ],
 "metadata": {
  "kernelspec": {
   "display_name": "Julia 1.1.0",
   "language": "julia",
   "name": "julia-1.1"
  },
  "language_info": {
   "file_extension": ".jl",
   "mimetype": "application/julia",
   "name": "julia",
   "version": "1.1.0"
  }
 },
 "nbformat": 4,
 "nbformat_minor": 4
}
