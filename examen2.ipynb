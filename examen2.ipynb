{
 "cells": [
  {
   "cell_type": "markdown",
   "metadata": {},
   "source": [
    "# Examen 2 de 8"
   ]
  },
  {
   "cell_type": "markdown",
   "metadata": {},
   "source": [
    "## Situación 1: Salud alimenticia en la ciudad de México"
   ]
  },
  {
   "cell_type": "markdown",
   "metadata": {},
   "source": [
    "**Se hizo un estudio de salud en la Ciudad de México. Para esto se entrevistaron a transeúntes sobre sus hábitos alimenticios durante una semana. El equipo de especialistas preguntó a las personas sobre el tipo de alimentos que consumieron, las porciones y si mantienen este tipo de dieta. Basado en esto, el equipo hizo una estimación de la cantidad de kilocalorías (kcal) que cada persona consume a la semana. Para tener mayor facilidad al momento de trabajar los datos se realizó la siguiente tabla:**"
   ]
  },
  {
   "cell_type": "markdown",
   "metadata": {},
   "source": [
    "| Clase | Intervalo de clase     | Marca de <br>clase, $m_i$ | Frecuencia<br>absoluta, $f_i$ |\n",
    "|:-----:|:----------------------:|:--------------------------:|:-----------------------------:|\n",
    "|   1   |     $[11.07,15.15)$    |            13.11           |               50              |\n",
    "|   2   |     $[15.15,19.23)$    |            17.19           |               40              |\n",
    "|   3   |     $[19.23,23.31)$    |            21.27           |               39              |\n",
    "|   4   |     $[23.31,27.39)$    |            25.35           |               42              |\n",
    "|   5   |     $[27.39,31.47)$    |            29.43           |               37              |\n",
    "|   6   |     $[31.47,35.55)$    |            $ $           |               50              |\n",
    "|   7   |     $[35.55,39.63)$    |            37.59           |               33              |\n",
    "|   8   |     $[39.63,43.71]$    |            41.67           |               38              |"
   ]
  },
  {
   "cell_type": "markdown",
   "metadata": {},
   "source": [
    "**1. ¿A cuántas personas de entrevistaron?**\n",
    "\n",
    "**(1 punto)**"
   ]
  },
  {
   "cell_type": "markdown",
   "metadata": {},
   "source": [
    "A. 11070\n",
    "\n",
    "B. 36\n",
    "\n",
    "C. 408\n",
    "\n",
    "D. 329"
   ]
  },
  {
   "cell_type": "code",
   "execution_count": 62,
   "metadata": {},
   "outputs": [
    {
     "data": {
      "text/plain": [
       "329"
      ]
     },
     "execution_count": 62,
     "metadata": {},
     "output_type": "execute_result"
    }
   ],
   "source": [
    "50+40+39+42+37+50+33+38"
   ]
  },
  {
   "cell_type": "markdown",
   "metadata": {},
   "source": [
    "A. 11070\n",
    "\n",
    "B. 36\n",
    "\n",
    "C. 408\n",
    "\n",
    "D. 329"
   ]
  },
  {
   "cell_type": "markdown",
   "metadata": {},
   "source": [
    "**Solución:** D."
   ]
  },
  {
   "cell_type": "markdown",
   "metadata": {},
   "source": [
    "**2. ¿Cuál es el ancho de clase?**\n",
    "\n",
    "**(1 punto)**"
   ]
  },
  {
   "cell_type": "markdown",
   "metadata": {},
   "source": [
    "A. 11070\n",
    "\n",
    "B. 36\n",
    "\n",
    "C. 408\n",
    "\n",
    "D. 329"
   ]
  },
  {
   "cell_type": "markdown",
   "metadata": {},
   "source": [
    "| Clase | Intervalo de clase     | Marca de <br>clase, $m_i$ | Frecuencia<br>absoluta, $f_i$ |\n",
    "|:-----:|:----------------------:|:--------------------------:|:-----------------------------:|\n",
    "|   1   |     $[11070,15150)$    |            13110           |               50              |\n",
    "|   2   |     $[15150,19230)$    |            17190           |               40              |\n",
    "|   3   |     $[19230,23310)$    |            21270           |               39              |\n",
    "|   4   |     $[23310,27390)$    |            25350           |               42              |\n",
    "|   5   |     $[27390,31470)$    |            29430           |               37              |\n",
    "|   6   |     $[31470,35550)$    |            $ $           |               50              |\n",
    "|   7   |     $[35550,39630)$    |            37590           |               33              |\n",
    "|   8   |     $[39630,43710]$    |            41670           |               38              |"
   ]
  },
  {
   "cell_type": "markdown",
   "metadata": {},
   "source": [
    "$$ \\text{ancho de clase}=\\text{límite superior}-\\text{límite inferior} $$"
   ]
  },
  {
   "cell_type": "code",
   "execution_count": 5,
   "metadata": {},
   "outputs": [
    {
     "data": {
      "text/plain": [
       "4.08"
      ]
     },
     "execution_count": 5,
     "metadata": {},
     "output_type": "execute_result"
    }
   ],
   "source": [
    "15.15-11.07"
   ]
  },
  {
   "cell_type": "code",
   "execution_count": 6,
   "metadata": {},
   "outputs": [
    {
     "data": {
      "text/plain": [
       "4.08"
      ]
     },
     "execution_count": 6,
     "metadata": {},
     "output_type": "execute_result"
    }
   ],
   "source": [
    "19.23-15.15"
   ]
  },
  {
   "cell_type": "code",
   "execution_count": 7,
   "metadata": {},
   "outputs": [
    {
     "data": {
      "text/plain": [
       "4.079999999999998"
      ]
     },
     "execution_count": 7,
     "metadata": {},
     "output_type": "execute_result"
    }
   ],
   "source": [
    "23.31-19.23"
   ]
  },
  {
   "cell_type": "code",
   "execution_count": 8,
   "metadata": {},
   "outputs": [
    {
     "data": {
      "text/plain": [
       "4.080000000000002"
      ]
     },
     "execution_count": 8,
     "metadata": {},
     "output_type": "execute_result"
    }
   ],
   "source": [
    "27.39-23.31"
   ]
  },
  {
   "cell_type": "code",
   "execution_count": 9,
   "metadata": {},
   "outputs": [
    {
     "data": {
      "text/plain": [
       "4.079999999999998"
      ]
     },
     "execution_count": 9,
     "metadata": {},
     "output_type": "execute_result"
    }
   ],
   "source": [
    "31.47-27.39"
   ]
  },
  {
   "cell_type": "code",
   "execution_count": 10,
   "metadata": {},
   "outputs": [
    {
     "data": {
      "text/plain": [
       "4.079999999999998"
      ]
     },
     "execution_count": 10,
     "metadata": {},
     "output_type": "execute_result"
    }
   ],
   "source": [
    "35.55-31.47"
   ]
  },
  {
   "cell_type": "code",
   "execution_count": 11,
   "metadata": {},
   "outputs": [
    {
     "data": {
      "text/plain": [
       "4.080000000000005"
      ]
     },
     "execution_count": 11,
     "metadata": {},
     "output_type": "execute_result"
    }
   ],
   "source": [
    "39.63-35.55"
   ]
  },
  {
   "cell_type": "code",
   "execution_count": 12,
   "metadata": {},
   "outputs": [
    {
     "data": {
      "text/plain": [
       "4.079999999999998"
      ]
     },
     "execution_count": 12,
     "metadata": {},
     "output_type": "execute_result"
    }
   ],
   "source": [
    "43.71-39.63"
   ]
  },
  {
   "cell_type": "markdown",
   "metadata": {},
   "source": [
    "A. 11.07\n",
    "\n",
    "B. 36\n",
    "\n",
    "C. 4.08\n",
    "\n",
    "D. 329"
   ]
  },
  {
   "cell_type": "markdown",
   "metadata": {},
   "source": [
    "**Solución:** C."
   ]
  },
  {
   "cell_type": "markdown",
   "metadata": {},
   "source": [
    "**3. ¿Cuál es la marca de la sexta clase?**\n",
    "\n",
    "**(1 punto)**"
   ]
  },
  {
   "cell_type": "markdown",
   "metadata": {},
   "source": [
    "A. 2.04\n",
    "\n",
    "B. 26.825\n",
    "\n",
    "C. 33.51\n",
    "\n",
    "D. 4.08"
   ]
  },
  {
   "cell_type": "markdown",
   "metadata": {},
   "source": [
    "| Clase | Intervalo de clase     | Marca de <br>clase, $m_i$ | Frecuencia<br>absoluta, $f_i$ |\n",
    "|:-----:|:----------------------:|:--------------------------:|:-----------------------------:|\n",
    "|   1   |     $[11070,15150)$    |            13110           |               50              |\n",
    "|   2   |     $[15150,19230)$    |            17190           |               40              |\n",
    "|   3   |     $[19230,23310)$    |            21270           |               39              |\n",
    "|   4   |     $[23310,27390)$    |            25350           |               42              |\n",
    "|   5   |     $[27390,31470)$    |            29430           |               37              |\n",
    "|   6   |     $[31470,35550)$    |            $ $           |               50              |\n",
    "|   7   |     $[35550,39630)$    |            37590           |               33              |\n",
    "|   8   |     $[39630,43710]$    |            41670           |               38              |"
   ]
  },
  {
   "cell_type": "markdown",
   "metadata": {},
   "source": [
    "$$ \\text{marca de clase}=\\dfrac{\\text{límite superior}+\\text{límite inferior}}{2} $$"
   ]
  },
  {
   "cell_type": "code",
   "execution_count": 13,
   "metadata": {},
   "outputs": [
    {
     "data": {
      "text/plain": [
       "33.51"
      ]
     },
     "execution_count": 13,
     "metadata": {},
     "output_type": "execute_result"
    }
   ],
   "source": [
    "(35.55+31.47)/2"
   ]
  },
  {
   "cell_type": "markdown",
   "metadata": {},
   "source": [
    "A. 2.04\n",
    "\n",
    "B. 26.82\n",
    "\n",
    "C. 33.51\n",
    "\n",
    "D. 4.08"
   ]
  },
  {
   "cell_type": "markdown",
   "metadata": {},
   "source": [
    "**Solución:** C."
   ]
  },
  {
   "cell_type": "markdown",
   "metadata": {},
   "source": [
    "**4. ¿Cuál es la desviación estándar de los datos?**\n",
    "\n",
    "**(3 puntos)**"
   ]
  },
  {
   "cell_type": "markdown",
   "metadata": {},
   "source": [
    "A. 26825.74\n",
    "\n",
    "B. 26907.52\n",
    "\n",
    "C. 9390.02\n",
    "\n",
    "D. 9.42"
   ]
  },
  {
   "cell_type": "markdown",
   "metadata": {},
   "source": [
    "| Clase | Intervalo de clase | $m_i$ | $f_i$ | $m_i\\cdot f_i$ | $(m_i-\\bar{x})$ | $(m_i-\\bar{x})^2$ | $(m_i-\\bar{x})^2\\cdot f_i$ |\n",
    "|-------|--------------------|-------|-------|----------------|-----------------|-------------------|----------------------------|\n",
    "| 1     | $[11.07,15.15)$    | 13.11 | 50    |655.50|-13.71|187.96|9398.00|\n",
    "| 2     | $[15.15,19.23)$    | 17.19 | 40    |687.60|-9.63|92.74|3709.60|\n",
    "| 3     | $[19.23,23.31)$    | 21.27 | 39    |829.53|-5.55|30.80|1201.20|\n",
    "| 4     | $[23.31,27.39)$    | 25.35 | 42    |1064.70|-1.47|2.16|90.72|\n",
    "| 5     | $[27.39,31.47)$    | 29.43 | 37    |1088.91|2.61|6.81|251.87|\n",
    "| 6     | $[31.47,35.55)$    | 33.51 | 50    |1675.50|6.69|44.76|2238.00|\n",
    "| 7     | $[35.55,39.63)$    | 37.59 | 33    |1240.47|10.77|115.99|3827.67|\n",
    "| 8     | $[39.63,43.71]$    | 41.67 | 38    |1583.46|14.85|220.53|8379.76|"
   ]
  },
  {
   "cell_type": "markdown",
   "metadata": {},
   "source": [
    "La suma de la columna \n",
    "$$m_i\\cdot f_i$$\n",
    "es 8825.67"
   ]
  },
  {
   "cell_type": "markdown",
   "metadata": {},
   "source": [
    "Entonces el promedio es"
   ]
  },
  {
   "cell_type": "markdown",
   "metadata": {},
   "source": [
    "$$ \\bar{x}=\\dfrac{\\sum_{i=1}^k m_i\\cdot f_i}{n}=\\dfrac{8825.67}{329}=26.8257 $$"
   ]
  },
  {
   "cell_type": "code",
   "execution_count": 52,
   "metadata": {},
   "outputs": [
    {
     "data": {
      "text/plain": [
       "26.825744680851063"
      ]
     },
     "execution_count": 52,
     "metadata": {},
     "output_type": "execute_result"
    }
   ],
   "source": [
    "8825.67/329"
   ]
  },
  {
   "cell_type": "markdown",
   "metadata": {},
   "source": [
    "La suma de la columna \n",
    "$$(m_i-\\bar{x})^2\\cdot f_i$$\n",
    "es 29096.92"
   ]
  },
  {
   "cell_type": "markdown",
   "metadata": {},
   "source": [
    "Entonces la desviación estándar muestral es"
   ]
  },
  {
   "cell_type": "markdown",
   "metadata": {},
   "source": [
    "$$ s=\\sqrt{\\dfrac{\\sum_{i=1}^k (m_i-\\bar{x})^2\\cdot f_i}{n-1}}=\\sqrt{\\dfrac{29096.92}{329-1}}=9.4186 $$"
   ]
  },
  {
   "cell_type": "code",
   "execution_count": 43,
   "metadata": {},
   "outputs": [
    {
     "data": {
      "text/plain": [
       "9.418605095831309"
      ]
     },
     "execution_count": 43,
     "metadata": {},
     "output_type": "execute_result"
    }
   ],
   "source": [
    "sqrt(29096.92/328)"
   ]
  },
  {
   "cell_type": "markdown",
   "metadata": {},
   "source": [
    "A. 26.82 kcal\n",
    "\n",
    "B. 26.91 kcal\n",
    "\n",
    "C. 9.39 kcal\n",
    "\n",
    "D. 9.42 kcal"
   ]
  },
  {
   "cell_type": "markdown",
   "metadata": {},
   "source": [
    "**Solución:** D."
   ]
  },
  {
   "cell_type": "markdown",
   "metadata": {},
   "source": [
    "**5. Completa correctamente una conclusión del estudio: \"En un estudio de salud alimenticia en la Ciudad de México se encontró que...\"**\n",
    "\n",
    "**(3 puntos)**"
   ]
  },
  {
   "cell_type": "markdown",
   "metadata": {},
   "source": [
    "A. \"... aproximadamente el $52\\%$ de la población consume menos de 27.39 kcal a la semana.\"\n",
    "\n",
    "B. \"..., en promedio, la ingesta semanal es de 43.71 kcal.\"\n",
    "\n",
    "C. \"... la variación en los datos recabados es menor al $10\\%$.\"\n",
    "\n",
    "D. \"... la máxima ingesta semanal es 11.07 kcal.\""
   ]
  },
  {
   "cell_type": "markdown",
   "metadata": {},
   "source": [
    "Revisemos inciso por inciso:"
   ]
  },
  {
   "cell_type": "markdown",
   "metadata": {},
   "source": [
    "* **A. \"... aproximadamente el $52\\%$ de la muestra consume menos de 27.39 kcal a la semana.\"**"
   ]
  },
  {
   "cell_type": "markdown",
   "metadata": {},
   "source": [
    "Para este inciso conviene agregar el resto de las frecuencias a la tabla"
   ]
  },
  {
   "cell_type": "markdown",
   "metadata": {},
   "source": [
    "| Clase | Intervalo de clase | $m_i$ | $f_i$ | $p_i$ | $F_i$ | $P_i$ |\n",
    "|-------|--------------------|-------|-------|-------|-------|-------|\n",
    "| 1     | $[11.07,15.15)$    | 13.11 | 50    | 0.152      | 50    | 0.152      |\n",
    "| 2     | $[15.15,19.23)$    | 17.19 | 40    | 0.122      | 90    | 0.274      |\n",
    "| 3     | $[19.23,23.31)$    | 21.27 | 39    | 0.119      | 129   | 0.392      |\n",
    "| 4     | $[23.31,27.39)$    | 25.35 | 42    | 0.128      | 171   | 0.520      |\n",
    "| 5     | $[27.39,31.47)$    | 29.43 | 37    | 0.112      | 208   | 0.632      |\n",
    "| 6     | $[31.47,35.55)$    | 33.51 | 50    | 0.152      | 258   | 0.784      |\n",
    "| 7     | $[35.55,39.63)$    | 37.59 | 33    | 0.100      | 291   | 0.884      |\n",
    "| 8     | $[39.63,43.71]$    | 41.67 | 38    | 0.116      | 329   | 1.000      |"
   ]
  },
  {
   "cell_type": "markdown",
   "metadata": {},
   "source": [
    "De aquí es claro que, hasta la cuarta clase representa un $52\\%$ de las personas entrevistadas. Por lo tanto, esta conclusión es la correcta."
   ]
  },
  {
   "cell_type": "markdown",
   "metadata": {},
   "source": [
    "* **B. \"..., en promedio, la ingesta semanal es de 43.71 kcal.\"**"
   ]
  },
  {
   "cell_type": "markdown",
   "metadata": {},
   "source": [
    "El promedio debió calcularse para el problema anterior. Su valor es 26.82 kcal por lo que esta opción es incorrecta."
   ]
  },
  {
   "cell_type": "markdown",
   "metadata": {},
   "source": [
    "* **C. \"... la variación en los datos recabados es menor al $10\\%$.\"**"
   ]
  },
  {
   "cell_type": "markdown",
   "metadata": {},
   "source": [
    "Esto es equivalente a calcular el coeficiente de variación."
   ]
  },
  {
   "cell_type": "markdown",
   "metadata": {},
   "source": [
    "$$ \\text{C.V.}=\\dfrac{s}{\\bar{x}}\\cdot100=\\dfrac{9.42}{26.82}\\cdot100=35.1\\% $$"
   ]
  },
  {
   "cell_type": "code",
   "execution_count": 53,
   "metadata": {},
   "outputs": [
    {
     "data": {
      "text/plain": [
       "35.123042505592835"
      ]
     },
     "execution_count": 53,
     "metadata": {},
     "output_type": "execute_result"
    }
   ],
   "source": [
    "9.42/26.82*100"
   ]
  },
  {
   "cell_type": "markdown",
   "metadata": {},
   "source": [
    "La variación entre los datos es mucho mayor al $10\\%$ por lo que esta opción es incorrecta."
   ]
  },
  {
   "cell_type": "markdown",
   "metadata": {},
   "source": [
    "* **\"... la máxima ingesta semanal es 11.07 kcal.\"**"
   ]
  },
  {
   "cell_type": "markdown",
   "metadata": {},
   "source": [
    "De la tabla original podemos ver que la mínima ingesta semanal es de 11.07 kcal (límite inferior de la clase 1) mientras que la máxima ingesta semanal es de 43.71 kcal (límite superior de la clase 8). Por lo tanto, esta opción es incorrecta."
   ]
  },
  {
   "cell_type": "markdown",
   "metadata": {},
   "source": [
    "| Clase | Intervalo de clase     | Marca de <br>clase, $m_i$ | Frecuencia<br>absoluta, $f_i$ |\n",
    "|:-----:|:----------------------:|:--------------------------:|:-----------------------------:|\n",
    "|   1   |     $[11.07,15.15)$    |            13.11           |               50              |\n",
    "|   2   |     $[15.15,19.23)$    |            17.19           |               40              |\n",
    "|   3   |     $[19.23,23.31)$    |            21.27           |               39              |\n",
    "|   4   |     $[23.31,27.39)$    |            25.35           |               42              |\n",
    "|   5   |     $[27.39,31.47)$    |            29.43           |               37              |\n",
    "|   6   |     $[31.47,35.55)$    |            $ $           |               50              |\n",
    "|   7   |     $[35.55,39.63)$    |            37.59           |               33              |\n",
    "|   8   |     $[39.63,43.71]$    |            41.67           |               38              |"
   ]
  },
  {
   "cell_type": "markdown",
   "metadata": {},
   "source": [
    "A. \"... aproximadamente el $52\\%$ de la muestra consume menos de 27.39 kcal a la semana.\"\n",
    "\n",
    "B. \"..., en promedio, la ingesta semanal es de 43.71 kcal.\"\n",
    "\n",
    "C. \"... la variación en los datos recabados es menor al $10\\%$.\"\n",
    "\n",
    "D. \"... la máxima ingesta semanal es 11.07 kcal.\""
   ]
  },
  {
   "cell_type": "markdown",
   "metadata": {},
   "source": [
    "**Solución:** A."
   ]
  },
  {
   "cell_type": "code",
   "execution_count": 14,
   "metadata": {},
   "outputs": [],
   "source": [
    "using Statistics"
   ]
  },
  {
   "cell_type": "code",
   "execution_count": 17,
   "metadata": {},
   "outputs": [],
   "source": [
    "f= [ 50, 40, 39, 42, 37, 50, 33, 38];"
   ]
  },
  {
   "cell_type": "code",
   "execution_count": 18,
   "metadata": {},
   "outputs": [
    {
     "data": {
      "text/plain": [
       "329"
      ]
     },
     "execution_count": 18,
     "metadata": {},
     "output_type": "execute_result"
    }
   ],
   "source": [
    "N = sum(f)"
   ]
  },
  {
   "cell_type": "code",
   "execution_count": 19,
   "metadata": {},
   "outputs": [
    {
     "data": {
      "text/plain": [
       "0.5197568389057751"
      ]
     },
     "execution_count": 19,
     "metadata": {},
     "output_type": "execute_result"
    }
   ],
   "source": [
    "sum(f[1:4])/N"
   ]
  },
  {
   "cell_type": "code",
   "execution_count": 48,
   "metadata": {},
   "outputs": [],
   "source": [
    "F = []\n",
    "for n in 1:8   \n",
    "    a = sum(f[1:n])\n",
    "    push!(F,a)\n",
    "end"
   ]
  },
  {
   "cell_type": "code",
   "execution_count": 20,
   "metadata": {},
   "outputs": [],
   "source": [
    "I = []\n",
    "a = 11.07\n",
    "push!(I,a)\n",
    "for n in 1:8   \n",
    "    a += 4.08\n",
    "    push!(I,a)\n",
    "end"
   ]
  },
  {
   "cell_type": "code",
   "execution_count": 21,
   "metadata": {},
   "outputs": [],
   "source": [
    "m = []\n",
    "b = 11.07+2.04\n",
    "push!(m,b)\n",
    "for n in 1:7\n",
    "    b += 4.08\n",
    "    push!(m,b)\n",
    "end"
   ]
  },
  {
   "cell_type": "code",
   "execution_count": 22,
   "metadata": {},
   "outputs": [],
   "source": [
    "A = []\n",
    "for n in 1:8\n",
    "    A = append!(A,m[n]*ones(f[n]))\n",
    "end"
   ]
  },
  {
   "cell_type": "code",
   "execution_count": 25,
   "metadata": {
    "scrolled": true
   },
   "outputs": [
    {
     "data": {
      "text/plain": [
       "26.825744680851102"
      ]
     },
     "execution_count": 25,
     "metadata": {},
     "output_type": "execute_result"
    }
   ],
   "source": [
    "promedio = mean(A)"
   ]
  },
  {
   "cell_type": "code",
   "execution_count": 26,
   "metadata": {},
   "outputs": [
    {
     "data": {
      "text/plain": [
       "9.418650226065031"
      ]
     },
     "execution_count": 26,
     "metadata": {},
     "output_type": "execute_result"
    }
   ],
   "source": [
    "st = stdm(A, promedio; corrected=true)"
   ]
  },
  {
   "cell_type": "code",
   "execution_count": 42,
   "metadata": {},
   "outputs": [
    {
     "data": {
      "text/plain": [
       "29096.92"
      ]
     },
     "execution_count": 42,
     "metadata": {},
     "output_type": "execute_result"
    }
   ],
   "source": [
    "sum(f.*round.(round.(m.-26.82,digits=2).^2,digits=2))"
   ]
  },
  {
   "cell_type": "code",
   "execution_count": 40,
   "metadata": {},
   "outputs": [
    {
     "data": {
      "text/plain": [
       "9.418605095831309"
      ]
     },
     "execution_count": 40,
     "metadata": {},
     "output_type": "execute_result"
    }
   ],
   "source": [
    "sqrt(sum(f.*round.(round.(m.-26.82,digits=2).^2,digits=2))/328)"
   ]
  },
  {
   "cell_type": "code",
   "execution_count": 29,
   "metadata": {},
   "outputs": [
    {
     "data": {
      "text/plain": [
       "9.418651983321539"
      ]
     },
     "execution_count": 29,
     "metadata": {},
     "output_type": "execute_result"
    }
   ],
   "source": [
    "sqrt(sum(f.*(m.-26.82).^2)/328)"
   ]
  },
  {
   "cell_type": "code",
   "execution_count": 61,
   "metadata": {},
   "outputs": [
    {
     "data": {
      "text/plain": [
       "219120"
      ]
     },
     "execution_count": 61,
     "metadata": {},
     "output_type": "execute_result"
    }
   ],
   "source": [
    "sum(m)"
   ]
  },
  {
   "cell_type": "code",
   "execution_count": 50,
   "metadata": {},
   "outputs": [
    {
     "data": {
      "text/plain": [
       "35.11048933820764"
      ]
     },
     "execution_count": 50,
     "metadata": {},
     "output_type": "execute_result"
    }
   ],
   "source": [
    "porcentaje = st/promedio*100"
   ]
  },
  {
   "cell_type": "code",
   "execution_count": 46,
   "metadata": {},
   "outputs": [
    {
     "data": {
      "text/plain": [
       "8-element Array{Float64,1}:\n",
       " 0.152\n",
       " 0.122\n",
       " 0.119\n",
       " 0.128\n",
       " 0.112\n",
       " 0.152\n",
       " 0.1  \n",
       " 0.116"
      ]
     },
     "execution_count": 46,
     "metadata": {},
     "output_type": "execute_result"
    }
   ],
   "source": [
    "round.(f./329,digits=3)"
   ]
  },
  {
   "cell_type": "code",
   "execution_count": 50,
   "metadata": {},
   "outputs": [
    {
     "data": {
      "text/plain": [
       "8-element Array{Float64,1}:\n",
       " 0.152\n",
       " 0.274\n",
       " 0.392\n",
       " 0.52 \n",
       " 0.632\n",
       " 0.784\n",
       " 0.884\n",
       " 1.0  "
      ]
     },
     "execution_count": 50,
     "metadata": {},
     "output_type": "execute_result"
    }
   ],
   "source": [
    "round.(F./329,digits=3)"
   ]
  },
  {
   "cell_type": "markdown",
   "metadata": {},
   "source": [
    "https://www.desmos.com/calculator/afvohymyxy"
   ]
  },
  {
   "cell_type": "markdown",
   "metadata": {},
   "source": [
    "## Situación 2: Área de un trapecio"
   ]
  },
  {
   "cell_type": "markdown",
   "metadata": {},
   "source": [
    "**Dentro de un semicírculo de 5 cm de radio se encuentra inscrito un trapecio con base menor $x$, base mayor $y$, y altura $h$. Pensemos que la base mayor siempre es el doble de la base menor.**"
   ]
  },
  {
   "cell_type": "markdown",
   "metadata": {},
   "source": [
    "<img src=\"trapecio_x.png\" align=\"middle\" width=\"500\">"
   ]
  },
  {
   "cell_type": "markdown",
   "metadata": {},
   "source": [
    "**6. Selecciona la opción que describe la altura, $h$, del trapecio como función de su base menor, $x$.**\n",
    "\n",
    "**(2 puntos)**"
   ]
  },
  {
   "cell_type": "markdown",
   "metadata": {},
   "source": [
    "A. $ h(x)=\\dfrac{\\sqrt{100+x^2}+\\sqrt{100+4x^2}}{2} $\n",
    "\n",
    "B. $ h(x)=\\dfrac{\\sqrt{100+x^2}-\\sqrt{100+4x^2}}{2} $\n",
    "\n",
    "C. $ h(x)=\\dfrac{\\sqrt{100-x^2}+\\sqrt{100-4x^2}}{2} $\n",
    "\n",
    "D. $ h(x)=\\dfrac{\\sqrt{100-x^2}-\\sqrt{100-4x^2}}{2} $"
   ]
  },
  {
   "cell_type": "markdown",
   "metadata": {},
   "source": [
    "**1ra manera:**"
   ]
  },
  {
   "cell_type": "markdown",
   "metadata": {},
   "source": [
    "Algo que debería ser muy claro es que, cuando la base menor es $x=0$, la altura debe ser $h=0$. Las únicas opciones que cumplen con esto son B. y D."
   ]
  },
  {
   "cell_type": "markdown",
   "metadata": {},
   "source": [
    "La otra opción que tal vez no es tan clara es que, cuando la base menor es $x=5$, la altura debe ser $h=\\dfrac{5\\sqrt{3}}{2}$. Para verlo revisen la siguiente imagen. Lo vemos en la siguiente clase."
   ]
  },
  {
   "cell_type": "markdown",
   "metadata": {},
   "source": [
    "<img src=\"trapecio_caso2.png\" align=\"middle\" width=\"500\">"
   ]
  },
  {
   "cell_type": "markdown",
   "metadata": {},
   "source": [
    "https://www.desmos.com/calculator/wbvk1zgb3h"
   ]
  },
  {
   "cell_type": "markdown",
   "metadata": {},
   "source": [
    "La única opción que cumple con esto es D."
   ]
  },
  {
   "cell_type": "markdown",
   "metadata": {},
   "source": [
    "A. $ h(x)=\\dfrac{\\sqrt{100+x^2}+\\sqrt{100+4x^2}}{2} $\n",
    "\n",
    "B. $ h(x)=\\dfrac{\\sqrt{100+x^2}-\\sqrt{100+4x^2}}{2} $\n",
    "\n",
    "C. $ h(x)=\\dfrac{\\sqrt{100-x^2}+\\sqrt{100-4x^2}}{2} $\n",
    "\n",
    "D. $ h(x)=\\dfrac{\\sqrt{100-x^2}-\\sqrt{100-4x^2}}{2} $"
   ]
  },
  {
   "cell_type": "markdown",
   "metadata": {},
   "source": [
    "**Solución:** D."
   ]
  },
  {
   "cell_type": "markdown",
   "metadata": {},
   "source": [
    "**7. Selecciona la opción que describe el promedio de la base mayor y la base menor.**\n",
    "\n",
    "**(1 punto)**"
   ]
  },
  {
   "cell_type": "markdown",
   "metadata": {},
   "source": [
    "A. $ \\dfrac{3x}{2} $\n",
    "\n",
    "B. $ \\dfrac{3x}{4} $\n",
    "\n",
    "C. $ \\dfrac{x}{2} $\n",
    "\n",
    "D. $3x$"
   ]
  },
  {
   "cell_type": "markdown",
   "metadata": {},
   "source": [
    "Como sabemos que la base mayor siempre es el doble de la base menor,"
   ]
  },
  {
   "cell_type": "markdown",
   "metadata": {},
   "source": [
    "$$ \\dfrac{B+b}{2}=\\dfrac{y+x}{2}=\\dfrac{2x+x}{2}=\\dfrac{3x}{2} $$"
   ]
  },
  {
   "cell_type": "markdown",
   "metadata": {},
   "source": [
    "A. $ \\dfrac{3x}{2} $\n",
    "\n",
    "B. $ \\dfrac{3x}{4} $\n",
    "\n",
    "C. $ \\dfrac{x}{2} $\n",
    "\n",
    "D. $3x$"
   ]
  },
  {
   "cell_type": "markdown",
   "metadata": {},
   "source": [
    "**Solución:** A."
   ]
  },
  {
   "cell_type": "markdown",
   "metadata": {},
   "source": [
    "**8. Selecciona la opción que describe el área del trapecio como función de su base menor, $x$.**\n",
    "\n",
    "**(2 puntos)**"
   ]
  },
  {
   "cell_type": "markdown",
   "metadata": {},
   "source": [
    "A. $ A(x)=\\dfrac{3x\\left(\\sqrt{100-x^2}-\\sqrt{100-4x^2}\\right)}{4} $\n",
    "\n",
    "B. $ A(x)=\\dfrac{3x\\left(\\sqrt{100+x^2}+\\sqrt{100+4x^2}\\right)}{8} $\n",
    "\n",
    "C. $ A(x)=\\dfrac{3x\\left(\\sqrt{100-x^2}+\\sqrt{100-4x^2}\\right)}{2} $\n",
    "\n",
    "D. $ A(x)=\\dfrac{x\\left(\\sqrt{100+x^2}-\\sqrt{100+4x^2}\\right)}{4} $"
   ]
  },
  {
   "cell_type": "markdown",
   "metadata": {},
   "source": [
    "Como el área de un trapecio es"
   ]
  },
  {
   "cell_type": "markdown",
   "metadata": {},
   "source": [
    "$$ A=\\dfrac{B+b}{2}\\cdot h= \\dfrac{3x}{2}\\cdot\\dfrac{\\sqrt{100-x^2}-\\sqrt{100-4x^2}}{2}=\\dfrac{3x\\left(\\sqrt{100-x^2}-\\sqrt{100-4x^2}\\right)}{4}$$"
   ]
  },
  {
   "cell_type": "markdown",
   "metadata": {},
   "source": [
    "A. $ A(x)=\\dfrac{3x\\left(\\sqrt{100-x^2}-\\sqrt{100-4x^2}\\right)}{4} $\n",
    "\n",
    "B. $ A(x)=\\dfrac{3x\\left(\\sqrt{100+x^2}+\\sqrt{100+4x^2}\\right)}{8} $\n",
    "\n",
    "C. $ A(x)=\\dfrac{3x\\left(\\sqrt{100-x^2}+\\sqrt{100-4x^2}\\right)}{2} $\n",
    "\n",
    "D. $ A(x)=\\dfrac{x\\left(\\sqrt{100+x^2}-\\sqrt{100+4x^2}\\right)}{4} $"
   ]
  },
  {
   "cell_type": "markdown",
   "metadata": {},
   "source": [
    "**Solución:** A."
   ]
  },
  {
   "cell_type": "markdown",
   "metadata": {},
   "source": [
    "**9. ¿Cuál es el área del trapecio cuando la base menor mide 2 cm?**\n",
    "\n",
    "**(2 puntos)**"
   ]
  },
  {
   "cell_type": "markdown",
   "metadata": {},
   "source": [
    "A. $ A(x)=3\\left(4\\sqrt{6}+2\\sqrt{21}\\right) $\n",
    "\n",
    "B. $ A(x)=\\sqrt{26}-\\sqrt{29} $\n",
    "\n",
    "C. $ A(x)=3\\left(2\\sqrt{6}-\\sqrt{21}\\right) $\n",
    "\n",
    "D. $ A(x)=\\dfrac{3\\left(\\sqrt{26}+\\sqrt{29}\\right)}{2} $"
   ]
  },
  {
   "cell_type": "markdown",
   "metadata": {},
   "source": [
    "**Solución:** C."
   ]
  },
  {
   "cell_type": "markdown",
   "metadata": {},
   "source": [
    "**9. A continuación pensaremos en un semicírculo de radio $r$, el cual tiene inscrito un trapecio de base menor $x$ y base mayor $y$ (véase la figura). Nuevamente la base mayor será el doble de la base menor pero ahora querremos que la base mayor coincida con el diámetro de la circunferencia. Selecciona la opción que describe el área del trapecio como función del radio, $r$.**\n",
    "\n",
    "**(3 puntos)**"
   ]
  },
  {
   "cell_type": "markdown",
   "metadata": {},
   "source": [
    "<img src=\"trapecio_r.png\" align=\"middle\" width=\"500\">"
   ]
  },
  {
   "cell_type": "markdown",
   "metadata": {},
   "source": [
    "A. $ A(r)=\\dfrac{3\\sqrt{3}r^2}{4} $\n",
    "\n",
    "B. $ A(r)=\\dfrac{\\sqrt{3}r^2}{2} $\n",
    "\n",
    "C. $ A(r)=\\dfrac{\\sqrt{3}r(r+3)}{4} $\n",
    "\n",
    "D. $ A(r)=\\dfrac{3r(r+\\sqrt{3})}{2} $"
   ]
  },
  {
   "cell_type": "markdown",
   "metadata": {},
   "source": [
    "<img src=\"trapecio_r_sol.png\" align=\"middle\" width=\"500\">"
   ]
  },
  {
   "cell_type": "markdown",
   "metadata": {},
   "source": [
    "Por la figura y el enunciado sabemos que $y=2r$ y $x=r$. Usando el teorema de Pitágoras podemos averiguar que la altura es"
   ]
  },
  {
   "cell_type": "markdown",
   "metadata": {},
   "source": [
    "$$ \\text{c.o.}^2+\\text{c.a.}^2=\\text{hip.}^2 $$"
   ]
  },
  {
   "cell_type": "markdown",
   "metadata": {},
   "source": [
    "$$ h^2+\\left(\\dfrac{x}{2}\\right)^2=r^2 $$"
   ]
  },
  {
   "cell_type": "markdown",
   "metadata": {},
   "source": [
    "$$ h^2+\\left(\\dfrac{r}{2}\\right)^2=r^2 $$"
   ]
  },
  {
   "cell_type": "markdown",
   "metadata": {},
   "source": [
    "$$ h^2+\\dfrac{r^2}{4}=r^2 $$"
   ]
  },
  {
   "cell_type": "markdown",
   "metadata": {},
   "source": [
    "$$ h^2=\\dfrac{3r^2}{4} $$"
   ]
  },
  {
   "cell_type": "markdown",
   "metadata": {},
   "source": [
    "$$ h=\\dfrac{\\sqrt{3}r}{2} $$"
   ]
  },
  {
   "cell_type": "markdown",
   "metadata": {},
   "source": [
    "Entonces, la altura del trapecio será"
   ]
  },
  {
   "cell_type": "markdown",
   "metadata": {},
   "source": [
    "$$ A=\\dfrac{B+b}{2}\\cdot h=\\dfrac{y+x}{2}\\cdot h=\\dfrac{3r}{2}\\cdot\\dfrac{\\sqrt{3}r}{2}=\\dfrac{3\\sqrt{3}r^2}{4} $$"
   ]
  },
  {
   "cell_type": "markdown",
   "metadata": {},
   "source": [
    "Una forma alternativa de hacer esto es viendo que el área del trapecio es igual al área de tres triángulos equilateros."
   ]
  },
  {
   "cell_type": "markdown",
   "metadata": {},
   "source": [
    "https://www.desmos.com/calculator/4oxactok7g"
   ]
  },
  {
   "cell_type": "markdown",
   "metadata": {},
   "source": [
    "A. $ A(r)=\\dfrac{3\\sqrt{3}r^2}{4} $\n",
    "\n",
    "B. $ A(r)=\\dfrac{\\sqrt{3}r^2}{2} $\n",
    "\n",
    "C. $ A(r)=\\dfrac{\\sqrt{3}r(r+3)}{4} $\n",
    "\n",
    "D. $ A(r)=\\dfrac{3r(r+\\sqrt{3})}{2} $"
   ]
  },
  {
   "cell_type": "markdown",
   "metadata": {},
   "source": [
    "**Solución:** A."
   ]
  },
  {
   "cell_type": "markdown",
   "metadata": {},
   "source": [
    "**10. ¿Cuál será el radio aproximado de la circunferencia para que el trapecio dentro de ésta tenga un área de 25 cm²?**\n",
    "\n",
    "**(2 puntos)**"
   ]
  },
  {
   "cell_type": "markdown",
   "metadata": {},
   "source": [
    "A. 1.75 cm\n",
    "\n",
    "B. 4.39 cm\n",
    "\n",
    "C. 5.06 cm\n",
    "\n",
    "D. 7.86 cm"
   ]
  },
  {
   "cell_type": "markdown",
   "metadata": {},
   "source": [
    "Simplemente hacemos que la función anterior valga 50 y despejamos el radio."
   ]
  },
  {
   "cell_type": "markdown",
   "metadata": {},
   "source": [
    "$$ 25=\\dfrac{3\\sqrt{3}r^2}{4} $$"
   ]
  },
  {
   "cell_type": "markdown",
   "metadata": {},
   "source": [
    "$$ r=\\sqrt{\\dfrac{4\\cdot25}{3\\sqrt{3}}}=4.3869 $$"
   ]
  },
  {
   "cell_type": "code",
   "execution_count": 56,
   "metadata": {},
   "outputs": [
    {
     "data": {
      "text/plain": [
       "4.386913376508308"
      ]
     },
     "execution_count": 56,
     "metadata": {},
     "output_type": "execute_result"
    }
   ],
   "source": [
    "√(4*25/(3*√3))"
   ]
  },
  {
   "cell_type": "markdown",
   "metadata": {},
   "source": [
    "A. 1.75 cm\n",
    "\n",
    "B. 4.39 cm\n",
    "\n",
    "C. 5.06 cm\n",
    "\n",
    "D. 7.86 cm"
   ]
  },
  {
   "cell_type": "markdown",
   "metadata": {},
   "source": [
    "**Solución:** B."
   ]
  },
  {
   "cell_type": "markdown",
   "metadata": {},
   "source": [
    "## Situación 3: Barco fujimorista"
   ]
  },
  {
   "cell_type": "markdown",
   "metadata": {},
   "source": [
    "**En el 2000, el presidente peruano Alberto Fujimori se exilió hacia Japón evadiendo cargos legales tras diversos escándalos de corrupción durante su mandato. Supongamos que Fujimori escapa de Perú rumbo a Japón en barco. Un submarino peruano $S$ busca atacar el barco para evitar que escape de la justicia. En el radar del del submarino**\n",
    "\n",
    "**11. ¿Cuál es la distancia inicial entre el barco y el submarino?**\n",
    "\n",
    "**12. A lo largo de la trayectoria del barco, ¿cuál es la distancia más corta entre éste y el submarino?**\n",
    "\n",
    "**13. El submarino envía un *ultimatum* al barco: \"si no se detiene a la mitad de la distancia entre Perú y Japón, dispararemos un misil en esa dirección.\" En caso de que disparasen, ¿cuál es la ecuación de la recta que describe la trayectoria de este misil?**\n",
    "\n",
    "**14. Cuando el barco se encuentre a  avanza 5 km sobre su trayectoria, ¿ahora cuál es su distancia a S_1?**\n",
    "\n",
    "**15. Un segundo barco pasa cerca del barco fujimorista. ¿Cuál ecuación corresponde a una trayectoria los barcos nunca choquen entre sí?**\n",
    "\n",
    "**16. Un tercer barco pasa cerca de los dos en una trayectoria parabólica. ¿Cuál de las siguientes ecuaciones describe esto?**"
   ]
  },
  {
   "cell_type": "markdown",
   "metadata": {},
   "source": [
    "$h_1$  : altura del láser con repecto al piso\n",
    "\n",
    "$h_2$  : altura de la orilla del tanque a la superficie del agua\n",
    "\n",
    "$d_1$  : distancia de la persona a la orilla del tanque\n",
    "\n",
    "$d_2$  : ancho del tanque"
   ]
  },
  {
   "cell_type": "markdown",
   "metadata": {},
   "source": [
    "Como tienen ángulos opuestos, y ángulos internos iguales, por lo que los triángulos son semejantes. Entonces,"
   ]
  },
  {
   "cell_type": "markdown",
   "metadata": {},
   "source": [
    "$$ \\dfrac{h_2}{d_2}=\\dfrac{h_1}{d_1} $$"
   ]
  },
  {
   "cell_type": "markdown",
   "metadata": {},
   "source": [
    "$$ h_2=\\dfrac{h_1}{d_1}\\cdot d_2 $$"
   ]
  },
  {
   "cell_type": "markdown",
   "metadata": {},
   "source": [
    "$$ h_2=\\dfrac{1.5\\ \\rm{m}}{5\\ \\rm{m}}\\cdot (50\\ \\rm{m})=15\\ \\rm{m} $$"
   ]
  },
  {
   "cell_type": "markdown",
   "metadata": {},
   "source": [
    "$h$  : altura del tanque\n",
    "\n",
    "$h_a$  : altura de la columna de agua"
   ]
  },
  {
   "cell_type": "markdown",
   "metadata": {},
   "source": [
    "Pero la altura de la columna de agua debe ser"
   ]
  },
  {
   "cell_type": "markdown",
   "metadata": {},
   "source": [
    "$$ h_a=h-h_2=40\\ \\rm{m}-15\\ \\rm{m}=25\\ \\rm{m} $$"
   ]
  },
  {
   "cell_type": "markdown",
   "metadata": {},
   "source": [
    "A. 0.15 m\n",
    "\n",
    "B. 15 m\n",
    "\n",
    "C. 25 m\n",
    "\n",
    "D. 35 m"
   ]
  },
  {
   "cell_type": "markdown",
   "metadata": {},
   "source": [
    "**Solución:** C."
   ]
  },
  {
   "cell_type": "markdown",
   "metadata": {},
   "source": [
    "**2. ¿Cuánto vale el ángulo que se forma entre el láser y el piso?**"
   ]
  },
  {
   "cell_type": "markdown",
   "metadata": {},
   "source": [
    "$$ \\tan\\theta=\\dfrac{h_1}{d_1} $$"
   ]
  },
  {
   "cell_type": "markdown",
   "metadata": {},
   "source": [
    "$$ \\theta=\\tan^{-1}\\left(\\dfrac{h_1}{d_1}\\right)=\\tan^{-1}\\left(\\dfrac{1.5\\ \\rm{m}}{5\\ \\rm{m}}\\right)=16.7^\\circ $$"
   ]
  },
  {
   "cell_type": "code",
   "execution_count": 2,
   "metadata": {},
   "outputs": [
    {
     "data": {
      "text/plain": [
       "16.69924423399362"
      ]
     },
     "execution_count": 2,
     "metadata": {},
     "output_type": "execute_result"
    }
   ],
   "source": [
    "atand(1.5/5)"
   ]
  },
  {
   "cell_type": "markdown",
   "metadata": {},
   "source": [
    "A. $16.7^\\circ$\n",
    "\n",
    "B. $26.6^\\circ$\n",
    "\n",
    "C. $63.4^\\circ$\n",
    "\n",
    "D. $73.3^\\circ$"
   ]
  },
  {
   "cell_type": "markdown",
   "metadata": {},
   "source": [
    "**Solución:** A."
   ]
  },
  {
   "cell_type": "markdown",
   "metadata": {},
   "source": [
    "**3. ¿Cuál es la expresión que permite calcular el volumen de agua que hay en el tanque?**"
   ]
  },
  {
   "cell_type": "markdown",
   "metadata": {},
   "source": [
    "El volumen de un cilindro es"
   ]
  },
  {
   "cell_type": "markdown",
   "metadata": {},
   "source": [
    "$$ V=\\pi r^2 h $$"
   ]
  },
  {
   "cell_type": "markdown",
   "metadata": {},
   "source": [
    "El ancho del tanque es el diámetro del cilindro, por lo que el radio es"
   ]
  },
  {
   "cell_type": "markdown",
   "metadata": {},
   "source": [
    "$$ r=\\dfrac{d_2}{2}=\\dfrac{50\\ \\rm{m}}{2}=25\\ \\rm{m} $$"
   ]
  },
  {
   "cell_type": "markdown",
   "metadata": {},
   "source": [
    "La altura de la columna de agua es"
   ]
  },
  {
   "cell_type": "markdown",
   "metadata": {},
   "source": [
    "$$ h_a=25\\ \\rm{m} $$"
   ]
  },
  {
   "cell_type": "markdown",
   "metadata": {},
   "source": [
    "El volumen de agua es"
   ]
  },
  {
   "cell_type": "markdown",
   "metadata": {},
   "source": [
    "$$ V=\\pi r^2 h_a=\\pi\\cdot(25\\ \\rm{m})^2\\cdot(25\\ \\rm{m}) $$"
   ]
  },
  {
   "cell_type": "markdown",
   "metadata": {},
   "source": [
    "A. $ V=\\pi\\cdot(25)^2\\cdot(25) $\n",
    "\n",
    "B. $ V=\\pi\\cdot(12.5)^2\\cdot(40) $\n",
    "\n",
    "C. $ V=\\pi\\cdot(25)^2\\cdot(15) $\n",
    "\n",
    "D. $ V=\\pi\\cdot(7.5)^2\\cdot(40) $"
   ]
  },
  {
   "cell_type": "markdown",
   "metadata": {},
   "source": [
    "**Solución:** A."
   ]
  },
  {
   "cell_type": "markdown",
   "metadata": {},
   "source": [
    "## Situación 2"
   ]
  },
  {
   "cell_type": "markdown",
   "metadata": {},
   "source": [
    "La empresa mexicana de vuelos, InterMexicana, está ofreciendo paquetes a precios más baratos para aumentar el turismo en México. La empresa se basa en el siguiente mapa para dar a sus aeronaves las coordenadas de los destinos:"
   ]
  },
  {
   "cell_type": "markdown",
   "metadata": {},
   "source": [
    "<img src=\"mapa_mexico.png\" align=\"middle\" width=\"800\">"
   ]
  },
  {
   "cell_type": "markdown",
   "metadata": {},
   "source": [
    "Consideremos los siguientes destinos:\n",
    "* Baja California, $(1.7,12.2)$\n",
    "* Chiapas, $(15.7,1.7)$\n",
    "* Puebla, $(12.9,3.8)$\n"
   ]
  },
  {
   "cell_type": "markdown",
   "metadata": {},
   "source": [
    "https://www.desmos.com/calculator/6xzow3gars"
   ]
  },
  {
   "cell_type": "markdown",
   "metadata": {},
   "source": [
    "**4. Si el vuelo IM507 va en línea recta desde Baja California hasta Chiapas, ¿cuál es la ecuación de la recta que que modela este viaje en el mapa de la empresa?**"
   ]
  },
  {
   "cell_type": "markdown",
   "metadata": {},
   "source": [
    "$$ m=\\dfrac{y_2-y_1}{x_2-x_1} $$"
   ]
  },
  {
   "cell_type": "markdown",
   "metadata": {},
   "source": [
    "$$ m=\\dfrac{1.7-12.2}{15.7-1.7}=-\\dfrac{10.5}{14}=-0.75 $$"
   ]
  },
  {
   "cell_type": "markdown",
   "metadata": {},
   "source": [
    "$$b=y-mx=(12.2)-(-0.75)(1.7)=13.475$$"
   ]
  },
  {
   "cell_type": "code",
   "execution_count": 1,
   "metadata": {},
   "outputs": [
    {
     "data": {
      "text/plain": [
       "13.475"
      ]
     },
     "execution_count": 1,
     "metadata": {},
     "output_type": "execute_result"
    }
   ],
   "source": [
    "(12.2)-(-0.75)*(1.7)"
   ]
  },
  {
   "cell_type": "markdown",
   "metadata": {},
   "source": [
    "$$ y=-0.75x+13.475 $$"
   ]
  },
  {
   "cell_type": "code",
   "execution_count": 3,
   "metadata": {},
   "outputs": [
    {
     "data": {
      "text/plain": [
       "16.975"
      ]
     },
     "execution_count": 3,
     "metadata": {},
     "output_type": "execute_result"
    }
   ],
   "source": [
    "679/40"
   ]
  },
  {
   "cell_type": "code",
   "execution_count": 4,
   "metadata": {},
   "outputs": [
    {
     "data": {
      "text/plain": [
       "13.475"
      ]
     },
     "execution_count": 4,
     "metadata": {},
     "output_type": "execute_result"
    }
   ],
   "source": [
    "539/40"
   ]
  },
  {
   "cell_type": "markdown",
   "metadata": {},
   "source": [
    "A. $y=-\\dfrac{3}{4}x+\\dfrac{679}{40}$\n",
    "\n",
    "B. $y=-\\dfrac{4}{3}x+\\dfrac{679}{30}$\n",
    "\n",
    "C. $y=-\\dfrac{3}{4}x+\\dfrac{539}{40}$\n",
    "\n",
    "D. $y=-\\dfrac{4}{3}x+\\dfrac{217}{15}$"
   ]
  },
  {
   "cell_type": "markdown",
   "metadata": {},
   "source": [
    "**Solución:** C."
   ]
  },
  {
   "cell_type": "markdown",
   "metadata": {},
   "source": [
    "**5. ¿Por cuál de los siguientes destinos pasa el vuelo IM507?**"
   ]
  },
  {
   "cell_type": "markdown",
   "metadata": {},
   "source": [
    "A. $\\left(\\dfrac{237}{100},\\dfrac{583}{50}\\right)$\n",
    "\n",
    "B. $\\left(\\dfrac{209}{25},\\dfrac{1461}{200}\\right)$\n",
    "\n",
    "C. $\\left(\\dfrac{107}{25},\\dfrac{2053}{200}\\right)$\n",
    "\n",
    "D. $\\left(\\dfrac{119}{20},\\dfrac{3825}{400}\\right)$"
   ]
  },
  {
   "cell_type": "markdown",
   "metadata": {},
   "source": [
    "$$ y=-0.75x+13.475 $$"
   ]
  },
  {
   "cell_type": "markdown",
   "metadata": {},
   "source": [
    "* A. $\\left(\\dfrac{237}{100},\\dfrac{583}{50}\\right)$"
   ]
  },
  {
   "cell_type": "markdown",
   "metadata": {},
   "source": [
    "$$ y=-0.75\\left(\\dfrac{237}{100}\\right)+13.475=11.6975 $$"
   ]
  },
  {
   "cell_type": "code",
   "execution_count": 2,
   "metadata": {},
   "outputs": [
    {
     "data": {
      "text/plain": [
       "11.6975"
      ]
     },
     "execution_count": 2,
     "metadata": {},
     "output_type": "execute_result"
    }
   ],
   "source": [
    "-0.75*237/100+13.475"
   ]
  },
  {
   "cell_type": "code",
   "execution_count": 6,
   "metadata": {},
   "outputs": [
    {
     "data": {
      "text/plain": [
       "11.66"
      ]
     },
     "execution_count": 6,
     "metadata": {},
     "output_type": "execute_result"
    }
   ],
   "source": [
    "583/50"
   ]
  },
  {
   "cell_type": "markdown",
   "metadata": {},
   "source": [
    "* B. $\\left(\\dfrac{209}{25},\\dfrac{1461}{200}\\right)$"
   ]
  },
  {
   "cell_type": "markdown",
   "metadata": {},
   "source": [
    "$$ y=-0.75\\left(\\dfrac{209}{25}\\right)+13.475=7.205 $$"
   ]
  },
  {
   "cell_type": "code",
   "execution_count": 3,
   "metadata": {},
   "outputs": [
    {
     "data": {
      "text/plain": [
       "7.205"
      ]
     },
     "execution_count": 3,
     "metadata": {},
     "output_type": "execute_result"
    }
   ],
   "source": [
    "-0.75*209/25+13.475"
   ]
  },
  {
   "cell_type": "code",
   "execution_count": 7,
   "metadata": {},
   "outputs": [
    {
     "data": {
      "text/plain": [
       "7.305"
      ]
     },
     "execution_count": 7,
     "metadata": {},
     "output_type": "execute_result"
    }
   ],
   "source": [
    "1461/200"
   ]
  },
  {
   "cell_type": "markdown",
   "metadata": {},
   "source": [
    "* C. $\\left(\\dfrac{107}{25},\\dfrac{2053}{200}\\right)$"
   ]
  },
  {
   "cell_type": "markdown",
   "metadata": {},
   "source": [
    "$$ y=-0.75\\left(\\dfrac{107}{25}\\right)+13.475=10.265 $$"
   ]
  },
  {
   "cell_type": "code",
   "execution_count": 4,
   "metadata": {},
   "outputs": [
    {
     "data": {
      "text/plain": [
       "10.265"
      ]
     },
     "execution_count": 4,
     "metadata": {},
     "output_type": "execute_result"
    }
   ],
   "source": [
    "-0.75*107/25+13.475"
   ]
  },
  {
   "cell_type": "code",
   "execution_count": 8,
   "metadata": {},
   "outputs": [
    {
     "data": {
      "text/plain": [
       "10.265"
      ]
     },
     "execution_count": 8,
     "metadata": {},
     "output_type": "execute_result"
    }
   ],
   "source": [
    "2053/200"
   ]
  },
  {
   "cell_type": "markdown",
   "metadata": {},
   "source": [
    "* D. $\\left(\\dfrac{119}{20},\\dfrac{3825}{400}\\right)$"
   ]
  },
  {
   "cell_type": "markdown",
   "metadata": {},
   "source": [
    "$$ y=-0.75\\left(\\dfrac{119}{20}\\right)+13.475=9.0125 $$"
   ]
  },
  {
   "cell_type": "code",
   "execution_count": 5,
   "metadata": {},
   "outputs": [
    {
     "data": {
      "text/plain": [
       "9.0125"
      ]
     },
     "execution_count": 5,
     "metadata": {},
     "output_type": "execute_result"
    }
   ],
   "source": [
    "-0.75*119/20+13.475"
   ]
  },
  {
   "cell_type": "code",
   "execution_count": 9,
   "metadata": {},
   "outputs": [
    {
     "data": {
      "text/plain": [
       "9.5625"
      ]
     },
     "execution_count": 9,
     "metadata": {},
     "output_type": "execute_result"
    }
   ],
   "source": [
    "3825/400"
   ]
  },
  {
   "cell_type": "markdown",
   "metadata": {},
   "source": [
    "**Solución:** C."
   ]
  },
  {
   "cell_type": "markdown",
   "metadata": {},
   "source": [
    "**6. El vuelo IM507 tiene que hacer una escala a Puebla. Pensando en las coordenadas de Puebla como una división del segmento entre Baja California y Chiapas, ¿cuál es la razón que divide a dicho segmento?**"
   ]
  },
  {
   "cell_type": "markdown",
   "metadata": {},
   "source": [
    "$$ x=\\frac{x_1+rx_2}{1+r} $$"
   ]
  },
  {
   "cell_type": "markdown",
   "metadata": {},
   "source": [
    "$$ y=\\frac{y_1+ry_2}{1+r} $$"
   ]
  },
  {
   "cell_type": "markdown",
   "metadata": {},
   "source": [
    "Despejemos $r$ en la primera fórmula"
   ]
  },
  {
   "cell_type": "markdown",
   "metadata": {},
   "source": [
    "$$ x=\\frac{x_1+rx_2}{1+r} $$"
   ]
  },
  {
   "cell_type": "markdown",
   "metadata": {},
   "source": [
    "$$ x(1+r)=x_1+rx_2 $$"
   ]
  },
  {
   "cell_type": "markdown",
   "metadata": {},
   "source": [
    "$$ x+xr=x_1+rx_2 $$"
   ]
  },
  {
   "cell_type": "markdown",
   "metadata": {},
   "source": [
    "$$ xr-rx_2=x_1-x $$"
   ]
  },
  {
   "cell_type": "markdown",
   "metadata": {},
   "source": [
    "$$ r(x-x_2)=x_1-x $$"
   ]
  },
  {
   "cell_type": "markdown",
   "metadata": {},
   "source": [
    "$$ r=\\frac{x_1-x}{x-x_2} $$"
   ]
  },
  {
   "cell_type": "markdown",
   "metadata": {},
   "source": [
    "De manera parecida se puede despeja en la segunda fórmula"
   ]
  },
  {
   "cell_type": "markdown",
   "metadata": {},
   "source": [
    "$$ r=\\frac{y_1-y}{y-y_2} $$"
   ]
  },
  {
   "cell_type": "markdown",
   "metadata": {},
   "source": [
    "* Baja California, $P_1(1.7,12.2)$\n",
    "* Chiapas, $P_2(15.7,1.7)$\n",
    "* Puebla, $P(12.9,3.8)$\n"
   ]
  },
  {
   "cell_type": "markdown",
   "metadata": {},
   "source": [
    "$$ r=\\frac{x_1-x}{x-x_2} $$"
   ]
  },
  {
   "cell_type": "markdown",
   "metadata": {},
   "source": [
    "$$ r=\\frac{1.7-12.9}{12.9-15.7}=\\dfrac{-11.2}{-2.8}=4=\\dfrac{4}{1} $$"
   ]
  },
  {
   "cell_type": "code",
   "execution_count": 8,
   "metadata": {},
   "outputs": [
    {
     "data": {
      "text/plain": [
       "4.0"
      ]
     },
     "execution_count": 8,
     "metadata": {},
     "output_type": "execute_result"
    }
   ],
   "source": [
    "11.2/2.8"
   ]
  },
  {
   "cell_type": "markdown",
   "metadata": {},
   "source": [
    "Si los tomamos al revés:\n",
    "* Baja California, $P_2(1.7,12.2)$\n",
    "* Chiapas, $P_1(15.7,1.7)$\n",
    "* Puebla, $P(12.9,3.8)$\n"
   ]
  },
  {
   "cell_type": "markdown",
   "metadata": {},
   "source": [
    "$$ r=\\frac{15.7-12.9}{12.9-1.7}=\\dfrac{2.8}{11.2}=0.25=\\dfrac{1}{4} $$"
   ]
  },
  {
   "cell_type": "code",
   "execution_count": 9,
   "metadata": {},
   "outputs": [
    {
     "data": {
      "text/plain": [
       "0.25"
      ]
     },
     "execution_count": 9,
     "metadata": {},
     "output_type": "execute_result"
    }
   ],
   "source": [
    "2.8/11.2"
   ]
  },
  {
   "cell_type": "markdown",
   "metadata": {},
   "source": [
    "A. $4$\n",
    "\n",
    "B. $3$\n",
    "\n",
    "C. $\\dfrac{1}{2}$\n",
    "\n",
    "D. $\\dfrac{1}{4}$"
   ]
  },
  {
   "cell_type": "markdown",
   "metadata": {},
   "source": [
    "**Solución:** A. y D."
   ]
  },
  {
   "cell_type": "markdown",
   "metadata": {},
   "source": [
    "**7. Se ofrece otro paquete a pasajeros frecuentes en el cual se harán tres escalas entre Baja California y Chiapas. Si los cinco lugares están separados por la misma distancia, encuentre las coordenadas de estos tres destinos.**"
   ]
  },
  {
   "cell_type": "markdown",
   "metadata": {},
   "source": [
    "A. $\\left(\\dfrac{26}{5},\\dfrac{383}{40}\\right)\\ ,\\left(\\dfrac{87}{10},\\dfrac{139}{20}\\right)\\ ,\\left(\\dfrac{61}{5},\\dfrac{173}{40}\\right)$\n",
    "  \n",
    "B. $\\left(\\dfrac{9}{2},\\dfrac{101}{10}\\right)\\ ,\\left(\\dfrac{73}{10},8\\right)\\ ,\\left(\\dfrac{101}{10},\\dfrac{59}{10}\\right)$\n",
    "\n",
    "C. $\\left(\\dfrac{17}{10},\\dfrac{61}{5}\\right)\\ ,\\left(\\dfrac{87}{10},\\dfrac{139}{20}\\right)\\ ,\\left(\\dfrac{157}{10},\\dfrac{17}{10}\\right)$\n",
    "\n",
    "D. $\\left(\\dfrac{17}{10},\\dfrac{61}{5}\\right)\\ ,\\left(\\dfrac{129}{10},\\dfrac{19}{5}\\right)\\ ,\\left(\\dfrac{157}{10},\\dfrac{17}{10}\\right)$"
   ]
  },
  {
   "cell_type": "markdown",
   "metadata": {},
   "source": [
    "**1ra manera:**"
   ]
  },
  {
   "cell_type": "markdown",
   "metadata": {},
   "source": [
    "A. $\\left(5.2,9.575\\right)\\ ,\\left(8.7,6.95\\right)\\ ,\\left(12.2,4.325\\right)$\n",
    "  \n",
    "B. $\\left(4.5,10.1\\right)\\ ,\\left(7.3,8\\right)\\ ,\\left(10.1,5.9\\right)$\n",
    "\n",
    "C. $\\left(1.7,12.2\\right)\\ ,\\left(8.7,6.95\\right)\\ ,\\left(15.7,1.7\\right)$\n",
    "\n",
    "D. $\\left(1.7,12.2\\right)\\ ,\\left(12.9,3.8\\right)\\ ,\\left(15.7,1.7\\right)$"
   ]
  },
  {
   "cell_type": "markdown",
   "metadata": {},
   "source": [
    "* Baja California, $P_1(1.7,12.2)$\n",
    "* Chiapas, $P_2(15.7,1.7)$"
   ]
  },
  {
   "cell_type": "markdown",
   "metadata": {},
   "source": [
    "<img src=\"mapa_mexico.png\" align=\"middle\" width=\"600\">"
   ]
  },
  {
   "cell_type": "markdown",
   "metadata": {},
   "source": [
    "**Solución:** A."
   ]
  },
  {
   "cell_type": "markdown",
   "metadata": {},
   "source": [
    "**2da manera:**"
   ]
  },
  {
   "cell_type": "markdown",
   "metadata": {},
   "source": [
    "Como se divide en 4 partes iguales uno de los puntos debe ser el punto medio entre Baja California y Chiapas."
   ]
  },
  {
   "cell_type": "markdown",
   "metadata": {},
   "source": [
    "* Baja California, $P_1(1.7,12.2)$\n",
    "* Chiapas, $P_2(15.7,1.7)$"
   ]
  },
  {
   "cell_type": "markdown",
   "metadata": {},
   "source": [
    "$$ x=\\frac{x_1+x_2}{2}=\\frac{1.7+15.7}{2}=\\frac{17.4}{2}=8.7 $$"
   ]
  },
  {
   "cell_type": "markdown",
   "metadata": {},
   "source": [
    "$$ y=\\frac{y_1+y_2}{2}=\\frac{12.2+1.7}{2}=\\frac{13.9}{2}=6.95 $$"
   ]
  },
  {
   "cell_type": "markdown",
   "metadata": {},
   "source": [
    "A. $\\left(5.2,9.575\\right)\\ ,\\left(8.7,6.95\\right)\\ ,\\left(12.2,4.325\\right)$\n",
    "  \n",
    "B. $\\left(4.5,10.1\\right)\\ ,\\left(7.3,8\\right)\\ ,\\left(10.1,5.9\\right)$\n",
    "\n",
    "C. $\\left(1.7,12.2\\right)\\ ,\\left(8.7,6.95\\right)\\ ,\\left(15.7,1.7\\right)$\n",
    "\n",
    "D. $\\left(1.7,12.2\\right)\\ ,\\left(12.9,3.8\\right)\\ ,\\left(15.7,1.7\\right)$"
   ]
  },
  {
   "cell_type": "markdown",
   "metadata": {},
   "source": [
    "**Solución:** A."
   ]
  },
  {
   "cell_type": "markdown",
   "metadata": {},
   "source": [
    "**3ra manera:**"
   ]
  },
  {
   "cell_type": "markdown",
   "metadata": {},
   "source": [
    "* Baja California, $P_1(1.7,12.2)$\n",
    "* Chiapas, $P_2(15.7,1.7)$"
   ]
  },
  {
   "cell_type": "markdown",
   "metadata": {},
   "source": [
    "Como se divide en 4 partes iguales necesitamos números enteros positivos cuya suma me dé 4."
   ]
  },
  {
   "cell_type": "markdown",
   "metadata": {},
   "source": [
    "* $1+3=4\\quad\\Rightarrow\\quad r=\\dfrac{1}{3}$"
   ]
  },
  {
   "cell_type": "markdown",
   "metadata": {},
   "source": [
    "$$ x=\\frac{x_1+rx_2}{1+r}=\\frac{1.7+\\left(\\frac{1}{3}\\right)15.7}{1+\\frac{1}{3}}=5.2 $$"
   ]
  },
  {
   "cell_type": "code",
   "execution_count": 11,
   "metadata": {},
   "outputs": [
    {
     "data": {
      "text/plain": [
       "5.2"
      ]
     },
     "execution_count": 11,
     "metadata": {},
     "output_type": "execute_result"
    }
   ],
   "source": [
    "(1.7+15.7/3)/(1+1/3)"
   ]
  },
  {
   "cell_type": "markdown",
   "metadata": {},
   "source": [
    "$$ y=\\frac{y_1+ry_2}{1+r}=\\frac{12.2+\\left(\\frac{1}{3}\\right)1.7}{1+\\frac{1}{3}}=9.575 $$"
   ]
  },
  {
   "cell_type": "code",
   "execution_count": 12,
   "metadata": {},
   "outputs": [
    {
     "data": {
      "text/plain": [
       "9.575"
      ]
     },
     "execution_count": 12,
     "metadata": {},
     "output_type": "execute_result"
    }
   ],
   "source": [
    "(12.2+1.7/3)/(1+1/3)"
   ]
  },
  {
   "cell_type": "markdown",
   "metadata": {},
   "source": [
    "* $2+2=4\\quad\\Rightarrow\\quad r=\\dfrac{2}{2}=1$"
   ]
  },
  {
   "cell_type": "markdown",
   "metadata": {},
   "source": [
    "$$ x=\\frac{x_1+rx_2}{1+r}=\\frac{1.7+15.7}{2}=\\frac{17.4}{2}=8.7 $$"
   ]
  },
  {
   "cell_type": "markdown",
   "metadata": {},
   "source": [
    "$$ y=\\frac{y_1+ry_2}{1+r}=\\frac{12.2+1.7}{2}=\\frac{13.9}{2}=6.95 $$"
   ]
  },
  {
   "cell_type": "markdown",
   "metadata": {},
   "source": [
    "* $3+1=4\\quad\\Rightarrow\\quad r=\\dfrac{3}{1}=3$"
   ]
  },
  {
   "cell_type": "markdown",
   "metadata": {},
   "source": [
    "$$ x=\\frac{x_1+rx_2}{1+r}=\\frac{1.7+(3)15.7}{1+3}=12.2 $$"
   ]
  },
  {
   "cell_type": "code",
   "execution_count": 14,
   "metadata": {},
   "outputs": [
    {
     "data": {
      "text/plain": [
       "12.2"
      ]
     },
     "execution_count": 14,
     "metadata": {},
     "output_type": "execute_result"
    }
   ],
   "source": [
    "(1.7+15.7*3)/(1+3)"
   ]
  },
  {
   "cell_type": "markdown",
   "metadata": {},
   "source": [
    "$$ y=\\frac{y_1+ry_2}{1+r}=\\frac{12.2+(3)1.7}{4}=4.325 $$"
   ]
  },
  {
   "cell_type": "code",
   "execution_count": 13,
   "metadata": {},
   "outputs": [
    {
     "data": {
      "text/plain": [
       "4.324999999999999"
      ]
     },
     "execution_count": 13,
     "metadata": {},
     "output_type": "execute_result"
    }
   ],
   "source": [
    "(12.2+1.7*3)/(1+3)"
   ]
  },
  {
   "cell_type": "markdown",
   "metadata": {},
   "source": [
    "A. $\\left(5.2,9.575\\right)\\ ,\\left(8.7,6.95\\right)\\ ,\\left(12.2,4.325\\right)$\n",
    "  \n",
    "B. $\\left(4.5,10.1\\right)\\ ,\\left(7.3,8\\right)\\ ,\\left(10.1,5.9\\right)$\n",
    "\n",
    "C. $\\left(1.7,12.2\\right)\\ ,\\left(8.7,6.95\\right)\\ ,\\left(15.7,1.7\\right)$\n",
    "\n",
    "D. $\\left(1.7,12.2\\right)\\ ,\\left(12.9,3.8\\right)\\ ,\\left(15.7,1.7\\right)$"
   ]
  },
  {
   "cell_type": "markdown",
   "metadata": {},
   "source": [
    "**Solución:** A."
   ]
  },
  {
   "cell_type": "markdown",
   "metadata": {},
   "source": [
    "## Situación 3: Préstamo para salir de apuros"
   ]
  },
  {
   "cell_type": "markdown",
   "metadata": {},
   "source": [
    "Don Armando pidió un préstamos de $\\$10000$ a la empresa *Sal de apuros*. Se comprometió a pagar una cantidad fija mensual por 18 meses. En el tercer mes llevaba acumulado un pago de $\\$2205.00$ y en el quinto mes un pago acumulado de $\\$3675.00$"
   ]
  },
  {
   "cell_type": "markdown",
   "metadata": {},
   "source": [
    "**8. De acuerdo con los datos, la cantidad que Don Armando paga cada mes es**"
   ]
  },
  {
   "cell_type": "markdown",
   "metadata": {},
   "source": [
    "A. $\\$1470.00$\n",
    "\n",
    "B. $\\$490.00$\n",
    "\n",
    "C. $\\$735.00$\n",
    "\n",
    "D. $\\$638.00$"
   ]
  },
  {
   "cell_type": "markdown",
   "metadata": {},
   "source": [
    "\"El pago acumulado en el _____ mes\":\n",
    "\n",
    "El pago es la variable dependiente y el mes es la variable independiente."
   ]
  },
  {
   "cell_type": "markdown",
   "metadata": {},
   "source": [
    "Tenemos las coordenadas:\n",
    "* (0,0)\n",
    "* (3,2205)\n",
    "* (5,3675)"
   ]
  },
  {
   "cell_type": "markdown",
   "metadata": {},
   "source": [
    "Tasa de cambio (promedio): pago por mes"
   ]
  },
  {
   "cell_type": "markdown",
   "metadata": {},
   "source": [
    "$$ m=\\dfrac{3675-2205}{5-3}=735 $$"
   ]
  },
  {
   "cell_type": "code",
   "execution_count": 10,
   "metadata": {},
   "outputs": [
    {
     "data": {
      "text/plain": [
       "735.0"
      ]
     },
     "execution_count": 10,
     "metadata": {},
     "output_type": "execute_result"
    }
   ],
   "source": [
    "2205/3"
   ]
  },
  {
   "cell_type": "code",
   "execution_count": 11,
   "metadata": {},
   "outputs": [
    {
     "data": {
      "text/plain": [
       "735.0"
      ]
     },
     "execution_count": 11,
     "metadata": {},
     "output_type": "execute_result"
    }
   ],
   "source": [
    "3675/5"
   ]
  },
  {
   "cell_type": "markdown",
   "metadata": {},
   "source": [
    "**Solución:** C."
   ]
  },
  {
   "cell_type": "markdown",
   "metadata": {},
   "source": [
    "**9. La ecuación de la recta que modela la cantidad $C$ (en pesos) que Don Armando ha pagado en el mes $m$ es**"
   ]
  },
  {
   "cell_type": "markdown",
   "metadata": {},
   "source": [
    "A.  $C=735m$, $0\\leq m\\leq 18$\n",
    "\n",
    "B. $C=1470m$, $0\\leq m\\leq 18$\n",
    "\n",
    "C. $C=10000-490m$, $0\\leq m\\leq 18$\n",
    "\n",
    "D. $C=10000-638m$, $0\\leq m\\leq 18$"
   ]
  },
  {
   "cell_type": "markdown",
   "metadata": {},
   "source": [
    "**Solución:** A."
   ]
  },
  {
   "cell_type": "markdown",
   "metadata": {},
   "source": [
    "**10. La cantidad total que pagará don Armando al finalizar los 18 meses será** "
   ]
  },
  {
   "cell_type": "markdown",
   "metadata": {},
   "source": [
    "Usando la ecuación de la recta que ya encontramos"
   ]
  },
  {
   "cell_type": "markdown",
   "metadata": {},
   "source": [
    "$$C=735m$$"
   ]
  },
  {
   "cell_type": "code",
   "execution_count": 12,
   "metadata": {},
   "outputs": [
    {
     "data": {
      "text/plain": [
       "13230"
      ]
     },
     "execution_count": 12,
     "metadata": {},
     "output_type": "execute_result"
    }
   ],
   "source": [
    "735*18"
   ]
  },
  {
   "cell_type": "markdown",
   "metadata": {},
   "source": [
    "A. $\\$16460$\n",
    "\n",
    "B. $\\$10000$\n",
    "\n",
    "C. $\\$18820$\n",
    "\n",
    "D. $\\$13230$"
   ]
  },
  {
   "cell_type": "markdown",
   "metadata": {},
   "source": [
    "**Solución:** D."
   ]
  },
  {
   "cell_type": "markdown",
   "metadata": {},
   "source": [
    "**11. Por otra parte, la gráfica que modela lo que le falta a don Armando por pagar en el mes es**"
   ]
  },
  {
   "cell_type": "markdown",
   "metadata": {},
   "source": []
  },
  {
   "cell_type": "markdown",
   "metadata": {},
   "source": [
    "$$ (0,10000) $$"
   ]
  },
  {
   "cell_type": "markdown",
   "metadata": {},
   "source": [
    "$$ (1,10000-735) $$"
   ]
  },
  {
   "cell_type": "markdown",
   "metadata": {},
   "source": [
    "$$ (2,10000-2\\cdot735) $$"
   ]
  },
  {
   "cell_type": "markdown",
   "metadata": {},
   "source": [
    "$$  $$"
   ]
  },
  {
   "cell_type": "markdown",
   "metadata": {},
   "source": [
    "$$  $$"
   ]
  },
  {
   "cell_type": "markdown",
   "metadata": {},
   "source": [
    "$$  $$"
   ]
  },
  {
   "cell_type": "markdown",
   "metadata": {},
   "source": [
    "$$  $$"
   ]
  },
  {
   "cell_type": "code",
   "execution_count": 38,
   "metadata": {},
   "outputs": [
    {
     "data": {
      "text/plain": [
       "Plots.PyPlotBackend()"
      ]
     },
     "execution_count": 38,
     "metadata": {},
     "output_type": "execute_result"
    }
   ],
   "source": [
    "using Plots\n",
    "pyplot()"
   ]
  },
  {
   "cell_type": "code",
   "execution_count": 7,
   "metadata": {},
   "outputs": [],
   "source": [
    "meses = collect(0:1:18);"
   ]
  },
  {
   "cell_type": "code",
   "execution_count": 6,
   "metadata": {},
   "outputs": [],
   "source": [
    "armando1 = 735*meses\n",
    "armando2 = 10000 .-735*meses\n",
    "armando3 = 10000 .+735*meses\n",
    "armando4= 10000*ones(18);"
   ]
  },
  {
   "cell_type": "code",
   "execution_count": 76,
   "metadata": {
    "scrolled": false
   },
   "outputs": [
    {
     "data": {
      "image/png": "[encoded data removed]"
     },
     "execution_count": 76,
     "metadata": {},
     "output_type": "execute_result"
    }
   ],
   "source": [
    "plot(meses, armando1, size=(600,300), dpi=200, title=\"A. Dinero que debe don Armando por el préstamo\",leg=:false, xlabel=\"Meses transcurridos\", ylabel=\"Dinero que debe\", xticks=[0,2,4,6,8,10,12,14,16,18] , yticks=[0,2000, 4000, 6000, 8000, 10000, 12000])"
   ]
  },
  {
   "cell_type": "code",
   "execution_count": 77,
   "metadata": {
    "scrolled": false
   },
   "outputs": [
    {
     "data": {
      "image/png": "[encoded data removed]"
     },
     "execution_count": 77,
     "metadata": {},
     "output_type": "execute_result"
    }
   ],
   "source": [
    "plot(meses, armando2, size=(600,300), dpi=200, title=\"B. Dinero que debe don Armando por el préstamo\",leg=:false, xlabel=\"Meses transcurridos\", ylabel=\"Dinero que debe\", xticks=[0,2,4,6,8,10,12,14,16,18] , yticks=[-2000,0,2000, 4000, 6000, 8000, 10000])"
   ]
  },
  {
   "cell_type": "code",
   "execution_count": 80,
   "metadata": {
    "scrolled": false
   },
   "outputs": [
    {
     "data": {
      "image/png": "[encoded data removed]"
     },
     "execution_count": 80,
     "metadata": {},
     "output_type": "execute_result"
    }
   ],
   "source": [
    "plot(meses, armando3, size=(650,325), dpi=200, title=\"C. Dinero que debe don Armando por el préstamo\",leg=:false, xlabel=\"Meses transcurridos\", ylabel=\"Dinero que debe\", xticks=[0,2,4,6,8,10,12,14,16,18] , yticks=[0,2000,4000,6000,8000,10000,12000,14000,16000,18000,20000,22000], ylim=[0,23000])"
   ]
  },
  {
   "cell_type": "code",
   "execution_count": 78,
   "metadata": {
    "scrolled": false
   },
   "outputs": [
    {
     "data": {
      "image/png": "[encoded data removed]"
     },
     "execution_count": 78,
     "metadata": {},
     "output_type": "execute_result"
    }
   ],
   "source": [
    "plot(meses, armando4, size=(600,300), dpi=200, title=\"D. Dinero que debe don Armando por el préstamo\",leg=:false, xlabel=\"Meses transcurridos\", ylabel=\"Dinero que debe\", xticks=[0,2,4,6,8,10,12,14,16,18] , yticks=[0,2000,4000,6000,8000,10000,12000], ylim=[0,12000])"
   ]
  },
  {
   "cell_type": "markdown",
   "metadata": {},
   "source": [
    "$$  $$"
   ]
  },
  {
   "cell_type": "markdown",
   "metadata": {},
   "source": [
    "$$  $$"
   ]
  },
  {
   "cell_type": "markdown",
   "metadata": {},
   "source": [
    "$$  $$"
   ]
  },
  {
   "cell_type": "markdown",
   "metadata": {},
   "source": [
    "$$  $$"
   ]
  },
  {
   "cell_type": "markdown",
   "metadata": {},
   "source": [
    "$$  $$"
   ]
  },
  {
   "cell_type": "markdown",
   "metadata": {},
   "source": [
    "$$  $$"
   ]
  },
  {
   "cell_type": "markdown",
   "metadata": {},
   "source": [
    "<img src=\"armando1.png\" align=\"middle\" width=\"800\">"
   ]
  },
  {
   "cell_type": "markdown",
   "metadata": {},
   "source": [
    "<img src=\"armando2.png\" align=\"middle\" width=\"800\">"
   ]
  },
  {
   "cell_type": "markdown",
   "metadata": {},
   "source": [
    "<img src=\"armando3.png\" align=\"middle\" width=\"800\">"
   ]
  },
  {
   "cell_type": "markdown",
   "metadata": {},
   "source": [
    "<img src=\"armando4.png\" align=\"middle\" width=\"800\">"
   ]
  },
  {
   "cell_type": "markdown",
   "metadata": {},
   "source": [
    "**Solución:** B."
   ]
  },
  {
   "cell_type": "markdown",
   "metadata": {},
   "source": [
    "## Situación 4: Comida para perro"
   ]
  },
  {
   "cell_type": "markdown",
   "metadata": {},
   "source": [
    "**La fábrica de \"premios\" para perro *canito-mx* quiere saber información sobre cómo se venden sus productos en tiendas de mascotas de la Ciudad de México durante un mes. Para ello, el directivo de la fábrica, Pedro Olivos, pregunta a las tiendas a las que surte acerca de cómo se han vendido sus productos. El primer dato que el directivo quiere saber es cuál de los productos se ha vendido más: si los de sabor res, los de sabor pollo o los de sabor cerdo. La tiendas (T) envían la siguiente información acerca del número de ventas de cada producto:**"
   ]
  },
  {
   "cell_type": "markdown",
   "metadata": {},
   "source": [
    "| Sabor  | Tienda 1 | Tienda 2 | Tienda 3 | Tienda 4 | Tienda 5 | Tienda 6 | Tienda 7 | Tienda 8 | Tienda 9 | Tienda 10 |\n",
    "|:------:|:--------:|:--------:|:--------:|:--------:|:--------:|:--------:|:--------:|:--------:|:--------:|:---------:|\n",
    "|  Pollo |    100   |    116   |    125   |    75    |    71    |    141   |    151   |    199   |    43    |    200    |\n",
    "|  Cerdo |    124   |    14    |    77    |    69    |    143   |    145   |    121   |    55    |    104   |     94    |\n",
    "|   Res  |    137   |    84    |    152   |    67    |    169   |    12    |    186   |    79    |    145   |    171    |"
   ]
  },
  {
   "cell_type": "markdown",
   "metadata": {},
   "source": [
    "**Lo segundo es los precios a los que dichos *premios* se ofrecen en cada tienda, por lo que las tiendas (T) envían la siguiente información acerca de costos de cada producto:**"
   ]
  },
  {
   "cell_type": "markdown",
   "metadata": {},
   "source": [
    "| Sabor | Tienda 1 | Tienda 2 | Tienda 3 | Tienda 4 | Tienda 5 | Tienda 6 | Tienda 7 | Tienda 8 | Tienda 9 | Tienda 10 |\n",
    "|:-----:|:--------:|:--------:|:--------:|:--------:|:--------:|:--------:|:--------:|:--------:|:--------:|:---------:|\n",
    "| Pollo |    58    |   49.7   |   46.2   |   56.8   |   62.1   |   49.6   |   87.8   |   62.8   |   113.5  |   109.2   |\n",
    "| Cerdo |    73    |   54.3   |   105.4  |    53    |   72.7   |   51.9   |   42.2   |   96.7   |   67.2   |    46.3   |\n",
    "|  Res  |    109   |   74.9   |   91.5   |   86.7   |   60.4   |   112.1  |   113.6  |   69.4   |   66.1   |   112.1   |"
   ]
  },
  {
   "cell_type": "markdown",
   "metadata": {},
   "source": [
    "**12. ¿Cuál es la moda de la población?**"
   ]
  },
  {
   "cell_type": "markdown",
   "metadata": {},
   "source": [
    "A. Pollo\n",
    "  \n",
    "B. Res \n",
    "\n",
    "C. 946 \n",
    "\n",
    "D. 1221"
   ]
  },
  {
   "cell_type": "code",
   "execution_count": 14,
   "metadata": {
    "scrolled": true
   },
   "outputs": [
    {
     "data": {
      "text/plain": [
       "1221"
      ]
     },
     "execution_count": 14,
     "metadata": {},
     "output_type": "execute_result"
    }
   ],
   "source": [
    "100+116+125+75+71+141+151+199+43+200"
   ]
  },
  {
   "cell_type": "code",
   "execution_count": 15,
   "metadata": {},
   "outputs": [
    {
     "data": {
      "text/plain": [
       "946"
      ]
     },
     "execution_count": 15,
     "metadata": {},
     "output_type": "execute_result"
    }
   ],
   "source": [
    "124+14+77+69+143+145+121+55+104+94"
   ]
  },
  {
   "cell_type": "code",
   "execution_count": 16,
   "metadata": {},
   "outputs": [
    {
     "data": {
      "text/plain": [
       "1202"
      ]
     },
     "execution_count": 16,
     "metadata": {},
     "output_type": "execute_result"
    }
   ],
   "source": [
    "137+84+152+67+169+12+186+79+145+171"
   ]
  },
  {
   "cell_type": "markdown",
   "metadata": {},
   "source": [
    "**Solución:** A."
   ]
  },
  {
   "cell_type": "markdown",
   "metadata": {},
   "source": [
    "**13. Pedro está diseñando gráficas para presentar sus resultados sobre las ventas de *premios*. ¿Cuál gráfica es la mejor opción de estas cuatro?**"
   ]
  },
  {
   "cell_type": "markdown",
   "metadata": {},
   "source": [
    "<img src=\"canito1.png\" align=\"middle\" width=\"800\">"
   ]
  },
  {
   "cell_type": "markdown",
   "metadata": {},
   "source": [
    "<img src=\"canito2.png\" align=\"middle\" width=\"800\">"
   ]
  },
  {
   "cell_type": "markdown",
   "metadata": {},
   "source": [
    "<img src=\"canito3.png\" align=\"middle\" width=\"800\">"
   ]
  },
  {
   "cell_type": "markdown",
   "metadata": {},
   "source": [
    "<img src=\"canito4.png\" align=\"middle\" width=\"800\">"
   ]
  },
  {
   "cell_type": "code",
   "execution_count": 14,
   "metadata": {
    "scrolled": true
   },
   "outputs": [
    {
     "data": {
      "text/plain": [
       "1221"
      ]
     },
     "execution_count": 14,
     "metadata": {},
     "output_type": "execute_result"
    }
   ],
   "source": [
    "100+116+125+75+71+141+151+199+43+200"
   ]
  },
  {
   "cell_type": "code",
   "execution_count": 15,
   "metadata": {},
   "outputs": [
    {
     "data": {
      "text/plain": [
       "946"
      ]
     },
     "execution_count": 15,
     "metadata": {},
     "output_type": "execute_result"
    }
   ],
   "source": [
    "124+14+77+69+143+145+121+55+104+94"
   ]
  },
  {
   "cell_type": "code",
   "execution_count": 16,
   "metadata": {},
   "outputs": [
    {
     "data": {
      "text/plain": [
       "1202"
      ]
     },
     "execution_count": 16,
     "metadata": {},
     "output_type": "execute_result"
    }
   ],
   "source": [
    "137+84+152+67+169+12+186+79+145+171"
   ]
  },
  {
   "cell_type": "code",
   "execution_count": 17,
   "metadata": {},
   "outputs": [
    {
     "data": {
      "text/plain": [
       "3369"
      ]
     },
     "execution_count": 17,
     "metadata": {},
     "output_type": "execute_result"
    }
   ],
   "source": [
    "1221+946+1202"
   ]
  },
  {
   "cell_type": "code",
   "execution_count": 19,
   "metadata": {},
   "outputs": [
    {
     "data": {
      "text/plain": [
       "36.24220837043633"
      ]
     },
     "execution_count": 19,
     "metadata": {},
     "output_type": "execute_result"
    }
   ],
   "source": [
    "1221/3369*100"
   ]
  },
  {
   "cell_type": "code",
   "execution_count": 20,
   "metadata": {},
   "outputs": [
    {
     "data": {
      "text/plain": [
       "28.079548827545263"
      ]
     },
     "execution_count": 20,
     "metadata": {},
     "output_type": "execute_result"
    }
   ],
   "source": [
    "946/3369*100"
   ]
  },
  {
   "cell_type": "code",
   "execution_count": 21,
   "metadata": {},
   "outputs": [
    {
     "data": {
      "text/plain": [
       "35.6782428020184"
      ]
     },
     "execution_count": 21,
     "metadata": {},
     "output_type": "execute_result"
    }
   ],
   "source": [
    "1202/3369*100"
   ]
  },
  {
   "cell_type": "markdown",
   "metadata": {},
   "source": [
    "**Solución:** D."
   ]
  },
  {
   "cell_type": "markdown",
   "metadata": {},
   "source": [
    "**14. Pedro se da cuenta de que los precios entre tiendas varían mucho y quiere saber de cuánto es la variación, según el producto. ¿Cuál es la desviación estándar del producto que más varía en los precios?**"
   ]
  },
  {
   "cell_type": "markdown",
   "metadata": {},
   "source": [
    "<img src=\"tabla2.png\" align=\"middle\" width=\"800\">"
   ]
  },
  {
   "cell_type": "code",
   "execution_count": 22,
   "metadata": {},
   "outputs": [
    {
     "data": {
      "text/plain": [
       "69.57000000000001"
      ]
     },
     "execution_count": 22,
     "metadata": {},
     "output_type": "execute_result"
    }
   ],
   "source": [
    "(58+49.7+46.2+56.8+62.1+49.6+87.8+62.8+113.5+109.2)/10"
   ]
  },
  {
   "cell_type": "markdown",
   "metadata": {},
   "source": [
    "$$\\sqrt{\\dfrac{(58-69.57)^2+(49.7-69.57)^2+\\dots}{10}} $$"
   ]
  },
  {
   "cell_type": "code",
   "execution_count": 23,
   "metadata": {},
   "outputs": [
    {
     "data": {
      "text/plain": [
       "66.27"
      ]
     },
     "execution_count": 23,
     "metadata": {},
     "output_type": "execute_result"
    }
   ],
   "source": [
    "(73+54.3+105.4+53+72.7+51.9+42.2+96.7+67.2+46.3)/10"
   ]
  },
  {
   "cell_type": "code",
   "execution_count": 24,
   "metadata": {},
   "outputs": [
    {
     "data": {
      "text/plain": [
       "89.58"
      ]
     },
     "execution_count": 24,
     "metadata": {},
     "output_type": "execute_result"
    }
   ],
   "source": [
    "(109+74.9+91.5+86.7+60.4+112.1+113.6+69.4+66.1+112.1)/10"
   ]
  },
  {
   "cell_type": "markdown",
   "metadata": {},
   "source": [
    "A. \n",
    "\n",
    "B. \n",
    "\n",
    "C. \n",
    "\n",
    "D. "
   ]
  },
  {
   "cell_type": "markdown",
   "metadata": {},
   "source": [
    "**Solución:** "
   ]
  },
  {
   "cell_type": "markdown",
   "metadata": {},
   "source": [
    "**15. Pedro habló con su junta directiva mostrándole los resultados de la variación, y decidieron obligar a todas las tiendas que vendan sus productos por el mismo precio. Establecieron que el precio de venta de los productos será el promedio entre la media arimética y la mediana de los datos de precio que obtuvieron. ¿Cuál será el precio al que se venderán los premios que en promedio son más caros?**"
   ]
  },
  {
   "cell_type": "markdown",
   "metadata": {},
   "source": [
    "A. \n",
    "\n",
    "B. \n",
    "\n",
    "C. \n",
    "\n",
    "D. "
   ]
  },
  {
   "cell_type": "markdown",
   "metadata": {},
   "source": [
    "**Solución:** "
   ]
  },
  {
   "cell_type": "markdown",
   "metadata": {},
   "source": [
    "* Estadística: datos agrupados\n",
    "\n",
    "* Funciones: trapecio\n",
    "\n",
    "* Geometría analítica: distancia de un punto a una recta, método para encontrar, paralelismo, perpendiculares,\n",
    "\n",
    "* Trigonometría: fractales y áreas"
   ]
  },
  {
   "cell_type": "markdown",
   "metadata": {},
   "source": [
    "La fábrica de premios para perro **canito-mx** quiere saber información sobre cómo se venden sus productos en tiendas de mascotas de la Ciudad de México durante un mes. Para ello, el directivo de la fábrica, Pedro Olivos, pregunta a las tiendas a las que surte acerca de cómo se han vendido sus productos.\n",
    "\n",
    "1. El primer dato que quiere saber Pedro es cuál de los productos se ha vendido más, si los sabor *res*, los de sabor *pollo* o los de sabor *cerdo*. La tiendas envían la siguiente información acerca del número de ventas de cada producto:"
   ]
  },
  {
   "cell_type": "code",
   "execution_count": null,
   "metadata": {},
   "outputs": [],
   "source": [
    "t1 = [100,124,137]"
   ]
  },
  {
   "cell_type": "code",
   "execution_count": 27,
   "metadata": {
    "scrolled": true
   },
   "outputs": [
    {
     "data": {
      "text/plain": [
       "1221"
      ]
     },
     "execution_count": 27,
     "metadata": {},
     "output_type": "execute_result"
    }
   ],
   "source": [
    "#pollo\n",
    "100+116+125+75+71+141+151+199+43+200"
   ]
  },
  {
   "cell_type": "code",
   "execution_count": 28,
   "metadata": {
    "scrolled": true
   },
   "outputs": [
    {
     "data": {
      "text/plain": [
       "946"
      ]
     },
     "execution_count": 28,
     "metadata": {},
     "output_type": "execute_result"
    }
   ],
   "source": [
    "#cerdo\n",
    "124+14+77+69+143+145+121+55+104+94"
   ]
  },
  {
   "cell_type": "code",
   "execution_count": 29,
   "metadata": {},
   "outputs": [
    {
     "data": {
      "text/plain": [
       "1202"
      ]
     },
     "execution_count": 29,
     "metadata": {},
     "output_type": "execute_result"
    }
   ],
   "source": [
    "#res\n",
    "137+84+152+67+169+12+186+79+145+171"
   ]
  },
  {
   "cell_type": "code",
   "execution_count": 88,
   "metadata": {},
   "outputs": [
    {
     "data": {
      "text/plain": [
       "3-element Array{Float64,1}:\n",
       " 0.3624220837043633 \n",
       " 0.28079548827545264\n",
       " 0.356782428020184  "
      ]
     },
     "execution_count": 88,
     "metadata": {},
     "output_type": "execute_result"
    }
   ],
   "source": [
    "sabores = [\"Pollo\", \"Cerdo\", \"Res\"]\n",
    "f_canito = [1221/3369,946/3369,1202/3369]"
   ]
  },
  {
   "cell_type": "code",
   "execution_count": 99,
   "metadata": {},
   "outputs": [],
   "source": [
    "tiendas = collect(1:10)\n",
    "tiendas_pollo = [100, 116,125,75,71,141,151,199,43,200]\n",
    "tiendas_cerdo = [124,14,77,69,143,145,121,55,104,94]\n",
    "tiendas_res = [137,84,152,67,169,12,186,79,145,171];"
   ]
  },
  {
   "cell_type": "code",
   "execution_count": 113,
   "metadata": {},
   "outputs": [
    {
     "data": {
      "image/png": "[encoded data removed]"
     },
     "execution_count": 113,
     "metadata": {},
     "output_type": "execute_result"
    }
   ],
   "source": [
    "plot(tiendas,tiendas_pollo,title=\"A. Venta de premios para perro canito-mx en la CDMX\", dpi=200, leg=:false, xlabel=\"Sabores\", ylabel=\"Frencuencia relativa\")\n",
    "plot!(tiendas,tiendas_cerdo)\n",
    "plot!(tiendas,tiendas_res)"
   ]
  },
  {
   "cell_type": "code",
   "execution_count": 114,
   "metadata": {},
   "outputs": [
    {
     "data": {
      "image/png": "[encoded data removed]"
     },
     "execution_count": 114,
     "metadata": {},
     "output_type": "execute_result"
    }
   ],
   "source": [
    "bar(sabores,f_canito,title=\"B. Venta de premios para perro canito-mx en la CDMX\", dpi=200, leg=:false, xlabel=\"Sabores\", ylabel=\"Frencuencia absoluta\")"
   ]
  },
  {
   "cell_type": "code",
   "execution_count": 115,
   "metadata": {},
   "outputs": [
    {
     "data": {
      "image/png": "[encoded data removed]"
     },
     "execution_count": 115,
     "metadata": {},
     "output_type": "execute_result"
    }
   ],
   "source": [
    "sabores2 = [\"Pollo\", \"Cerdo\", \"Res\"]\n",
    "f_sabores2 = [500,1221+1202,1221+1202+946]\n",
    "plot(sabores2,f_sabores2,title=\"C. Venta de premios para perro canito-mx en la CDMX\", dpi=200, leg=:false, xlabel=\"Sabores\", ylabel=\"Porcentaje\", ylim=[0,3500])"
   ]
  },
  {
   "cell_type": "code",
   "execution_count": 116,
   "metadata": {},
   "outputs": [
    {
     "data": {
      "image/png": "[encoded data removed]"
     },
     "execution_count": 116,
     "metadata": {},
     "output_type": "execute_result"
    }
   ],
   "source": [
    "pie(sabores,f_canito,title=\"D. Venta de premios para perro canito-mx en la CDMX\", dpi=200, leg=:outertopright)"
   ]
  },
  {
   "cell_type": "markdown",
   "metadata": {},
   "source": [
    "2. Pedro se da cuenta de que los precios entre tiendas varían mucho y quiere saber de cuánto es la variación, según el producto. ¿Cuál es la desviación estándar del producto que más varía en los precios?."
   ]
  },
  {
   "cell_type": "markdown",
   "metadata": {},
   "source": [
    "**Precios de cada producto en las diferentes tiendas**\n",
    "\n",
    "| Sabor | Tienda 1 | Tienda 2 | Tienda 3 | Tienda 4 | Tienda 5 | Tienda 6 | Tienda 7 | Tienda 8 | Tienda 9 | Tienda 10 |\n",
    "|:-----:|:--------:|:--------:|:--------:|:--------:|:--------:|:--------:|:--------:|:--------:|:--------:|:---------:|\n",
    "| pollo |    58    |   49.7   |   46.2   |   56.8   |   62.1   |   49.6   |   87.8   |   62.8   |   113.5  |   109.2   |\n",
    "| cerdo |    73    |   54.3   |   105.4  |    53    |   72.7   |   51.9   |   42.2   |   96.7   |   67.2   |    46.3   |\n",
    "|  res  |    109   |   74.9   |   91.5   |   86.7   |   60.4   |   112.1  |   113.6  |   69.4   |   66.1   |   112.1   |"
   ]
  },
  {
   "cell_type": "code",
   "execution_count": 119,
   "metadata": {},
   "outputs": [
    {
     "data": {
      "text/plain": [
       "69.57000000000001"
      ]
     },
     "execution_count": 119,
     "metadata": {},
     "output_type": "execute_result"
    }
   ],
   "source": [
    "pollo_precio= [58, 49.7, 46.2, 56.8, 62.1, 49.6,87.8,62.8,113.5,109.2]\n",
    "prom_pollo_precio = sum(pollo_precio)/10"
   ]
  },
  {
   "cell_type": "code",
   "execution_count": 121,
   "metadata": {},
   "outputs": [
    {
     "data": {
      "text/plain": [
       "23.603095136019768"
      ]
     },
     "execution_count": 121,
     "metadata": {},
     "output_type": "execute_result"
    }
   ],
   "source": [
    "sqrt(sum((pollo_precio.-prom_pollo_precio).^2)/10)"
   ]
  },
  {
   "cell_type": "markdown",
   "metadata": {},
   "source": [
    "46.2,49.6,49.7,56.8,58,62.1,62.8,87.8,109.2,113.5"
   ]
  },
  {
   "cell_type": "code",
   "execution_count": 126,
   "metadata": {},
   "outputs": [
    {
     "data": {
      "text/plain": [
       "64.81"
      ]
     },
     "execution_count": 126,
     "metadata": {},
     "output_type": "execute_result"
    }
   ],
   "source": [
    "((58+62.1)/2+prom_pollo_precio)/2"
   ]
  },
  {
   "cell_type": "code",
   "execution_count": 122,
   "metadata": {},
   "outputs": [
    {
     "data": {
      "text/plain": [
       "66.27"
      ]
     },
     "execution_count": 122,
     "metadata": {},
     "output_type": "execute_result"
    }
   ],
   "source": [
    "cerdo_precio= [73, 54.3, 105.4, 53, 72.7, 51.9, 42.2, 96.7, 67.2, 46.3]\n",
    "prom_cerdo_precio = sum(cerdo_precio)/10"
   ]
  },
  {
   "cell_type": "code",
   "execution_count": 123,
   "metadata": {},
   "outputs": [
    {
     "data": {
      "text/plain": [
       "20.12133444878843"
      ]
     },
     "execution_count": 123,
     "metadata": {},
     "output_type": "execute_result"
    }
   ],
   "source": [
    "sqrt(sum((cerdo_precio.-prom_cerdo_precio).^2)/10)"
   ]
  },
  {
   "cell_type": "markdown",
   "metadata": {},
   "source": [
    "42.2, 46.3, 51.9, 53, 54.3, 67.2, 72.7, 73, 96.7, 105.4"
   ]
  },
  {
   "cell_type": "code",
   "execution_count": 130,
   "metadata": {},
   "outputs": [
    {
     "data": {
      "text/plain": [
       "63.51"
      ]
     },
     "execution_count": 130,
     "metadata": {},
     "output_type": "execute_result"
    }
   ],
   "source": [
    "((54.3+67.2)/2+prom_cerdo_precio)/2"
   ]
  },
  {
   "cell_type": "code",
   "execution_count": 124,
   "metadata": {},
   "outputs": [
    {
     "data": {
      "text/plain": [
       "89.58"
      ]
     },
     "execution_count": 124,
     "metadata": {},
     "output_type": "execute_result"
    }
   ],
   "source": [
    "res_precio= [109, 74.9, 91.5, 86.7, 60.4, 112.1, 113.6, 69.4, 66.1, 112.1]\n",
    "prom_res_precio = sum(res_precio)/10"
   ]
  },
  {
   "cell_type": "code",
   "execution_count": 125,
   "metadata": {},
   "outputs": [
    {
     "data": {
      "text/plain": [
       "20.01473457230947"
      ]
     },
     "execution_count": 125,
     "metadata": {},
     "output_type": "execute_result"
    }
   ],
   "source": [
    "sqrt(sum((res_precio.-prom_res_precio).^2)/10)"
   ]
  },
  {
   "cell_type": "markdown",
   "metadata": {},
   "source": [
    "60.4, 66.1, 69.4, 74.9, 86.7, 91.5, 109, 112.1, 112.1, 113.6"
   ]
  },
  {
   "cell_type": "code",
   "execution_count": 131,
   "metadata": {},
   "outputs": [
    {
     "data": {
      "text/plain": [
       "89.34"
      ]
     },
     "execution_count": 131,
     "metadata": {},
     "output_type": "execute_result"
    }
   ],
   "source": [
    "((86.7+91.5)/2+prom_res_precio)/2"
   ]
  },
  {
   "cell_type": "code",
   "execution_count": 59,
   "metadata": {},
   "outputs": [
    {
     "data": {
      "text/plain": [
       "stat (generic function with 1 method)"
      ]
     },
     "execution_count": 59,
     "metadata": {},
     "output_type": "execute_result"
    }
   ],
   "source": [
    "function stat(x)\n",
    "\n",
    "    n     = length(x)\n",
    "    mean  = (sum(x))/n\n",
    "    stdev = sqrt(sum(x.^2)/n - mean^2)   # Nota: elevamos al cuadrado cada elemento del vector (.^)\n",
    "\n",
    "    return mean, stdev\n",
    "\n",
    "end"
   ]
  },
  {
   "cell_type": "code",
   "execution_count": 60,
   "metadata": {
    "scrolled": true
   },
   "outputs": [
    {
     "data": {
      "text/plain": [
       "(69.5723132646219, 23.60392652363996)"
      ]
     },
     "execution_count": 60,
     "metadata": {},
     "output_type": "execute_result"
    }
   ],
   "source": [
    "#pollo\n",
    "stat(a)"
   ]
  },
  {
   "cell_type": "code",
   "execution_count": 51,
   "metadata": {},
   "outputs": [
    {
     "data": {
      "text/plain": [
       "(66.2733938597826, 20.11852355220506)"
      ]
     },
     "execution_count": 51,
     "metadata": {},
     "output_type": "execute_result"
    }
   ],
   "source": [
    "#cerdo\n",
    "stat(b)"
   ]
  },
  {
   "cell_type": "code",
   "execution_count": 52,
   "metadata": {
    "scrolled": true
   },
   "outputs": [
    {
     "data": {
      "text/plain": [
       "(89.59336610545122, 20.01762328409146)"
      ]
     },
     "execution_count": 52,
     "metadata": {},
     "output_type": "execute_result"
    }
   ],
   "source": [
    "#res\n",
    "stat(c)"
   ]
  },
  {
   "cell_type": "markdown",
   "metadata": {},
   "source": [
    "opciones:\n",
    "\n",
    "    a. 23.6 *\n",
    "    b. 24.18\n",
    "    c. 26.36\n",
    "    d. 557.14"
   ]
  },
  {
   "cell_type": "markdown",
   "metadata": {},
   "source": [
    "3. Pedro está diseñando gráficas para presentar sus resultados, ¿cuál es la mejor opción de estas cuatro?"
   ]
  },
  {
   "cell_type": "markdown",
   "metadata": {},
   "source": [
    "4. Pedro habló con su junta directiva mostrándole los resultados de la variación, y decidieron que obligarán a las todas las tiendas a que vendan los productos por el mismo precio. Establecieron que el precio de venta de los productos será el promedio entre la media y la mediana de los datos de precio que obtuvieron. ¿Cuál será el precio al que se venderán los premios que en promedio son más caros?\n",
    "\n",
    "        a. 81.57 *\n",
    "        b. 86.7\n",
    "        c. 89.59\n",
    "        d. 64.51\n",
    "    "
   ]
  },
  {
   "cell_type": "markdown",
   "metadata": {},
   "source": [
    "$$ f^\\prime(x)=y^\\prime $$"
   ]
  },
  {
   "cell_type": "markdown",
   "metadata": {},
   "source": [
    "$$ f(x)=y$$"
   ]
  },
  {
   "cell_type": "code",
   "execution_count": 1,
   "metadata": {
    "scrolled": true
   },
   "outputs": [],
   "source": [
    "using SymPy"
   ]
  },
  {
   "cell_type": "code",
   "execution_count": 2,
   "metadata": {},
   "outputs": [
    {
     "data": {
      "text/latex": [
       "\\begin{equation*}x\\end{equation*}"
      ],
      "text/plain": [
       "x"
      ]
     },
     "execution_count": 2,
     "metadata": {},
     "output_type": "execute_result"
    }
   ],
   "source": [
    "x = Sym(\"x\")"
   ]
  },
  {
   "cell_type": "code",
   "execution_count": 3,
   "metadata": {},
   "outputs": [
    {
     "data": {
      "text/latex": [
       "\\begin{equation*}t\\end{equation*}"
      ],
      "text/plain": [
       "t"
      ]
     },
     "execution_count": 3,
     "metadata": {},
     "output_type": "execute_result"
    }
   ],
   "source": [
    "t = Sym(\"t\")"
   ]
  },
  {
   "cell_type": "code",
   "execution_count": 4,
   "metadata": {},
   "outputs": [
    {
     "data": {
      "text/plain": [
       "f (generic function with 1 method)"
      ]
     },
     "execution_count": 4,
     "metadata": {},
     "output_type": "execute_result"
    }
   ],
   "source": [
    "f(x)=x+1/x"
   ]
  },
  {
   "cell_type": "code",
   "execution_count": 36,
   "metadata": {},
   "outputs": [
    {
     "data": {
      "text/latex": [
       "\\begin{equation*}1 - \\frac{1}{x^{2}}\\end{equation*}"
      ],
      "text/plain": [
       "    1 \n",
       "1 - ──\n",
       "     2\n",
       "    x "
      ]
     },
     "execution_count": 36,
     "metadata": {},
     "output_type": "execute_result"
    }
   ],
   "source": [
    "diff(f(x))"
   ]
  },
  {
   "cell_type": "code",
   "execution_count": 5,
   "metadata": {},
   "outputs": [
    {
     "data": {
      "text/latex": [
       "\\[ \\left[ \\begin{array}{r}\\frac{2 x^{4} - \\sqrt{4 x^{8} - 4 x^{6} + 1} - 1}{2 x^{3}}\\\\\\frac{2 x^{4} + \\sqrt{4 x^{8} - 4 x^{6} + 1} - 1}{2 x^{3}}\\end{array} \\right] \\]"
      ],
      "text/plain": [
       "2-element Array{Sym,1}:\n",
       " (2*x^4 - sqrt(4*x^8 - 4*x^6 + 1) - 1)/(2*x^3)\n",
       " (2*x^4 + sqrt(4*x^8 - 4*x^6 + 1) - 1)/(2*x^3)"
      ]
     },
     "execution_count": 5,
     "metadata": {},
     "output_type": "execute_result"
    }
   ],
   "source": [
    "A = solve(diff(f(x))-(t-x)/(f(x)-1/t),t)"
   ]
  },
  {
   "cell_type": "markdown",
   "metadata": {},
   "source": [
    "$$ (x-t)^2+(y-\\frac{1}{t})^2=1 $$"
   ]
  },
  {
   "cell_type": "code",
   "execution_count": 35,
   "metadata": {},
   "outputs": [
    {
     "data": {
      "text/latex": [
       "\\begin{equation*}\\left(x - \\frac{2 x^{4} + \\sqrt{4 x^{8} - 4 x^{6} + 1} - 1}{2 x^{3}}\\right)^{2} + \\left(- \\frac{2 x^{3}}{2 x^{4} + \\sqrt{4 x^{8} - 4 x^{6} + 1} - 1} + x + \\frac{1}{x}\\right)^{2} - 1\\end{equation*}"
      ],
      "text/plain": [
       "                                     2                                        \n",
       "⎛              _________________    ⎞                                         \n",
       "⎜       4     ╱    8      6         ⎟    ⎛                   3                \n",
       "⎜    2⋅x  + ╲╱  4⋅x  - 4⋅x  + 1  - 1⎟    ⎜                2⋅x                 \n",
       "⎜x - ───────────────────────────────⎟  + ⎜- ─────────────────────────────── + \n",
       "⎜                     3             ⎟    ⎜            _________________       \n",
       "⎝                  2⋅x              ⎠    ⎜     4     ╱    8      6            \n",
       "                                         ⎝  2⋅x  + ╲╱  4⋅x  - 4⋅x  + 1  - 1   \n",
       "\n",
       "           \n",
       "      2    \n",
       "     ⎞     \n",
       "    1⎟     \n",
       "x + ─⎟  - 1\n",
       "    x⎟     \n",
       "     ⎟     \n",
       "     ⎠     "
      ]
     },
     "execution_count": 35,
     "metadata": {},
     "output_type": "execute_result"
    }
   ],
   "source": [
    "(x-A[2])^2+(f(x)-1/A[2])^2-1"
   ]
  },
  {
   "cell_type": "code",
   "execution_count": 29,
   "metadata": {},
   "outputs": [
    {
     "ename": "PyCall.PyError",
     "evalue": "PyError ($(Expr(:escape, :(ccall(#= /home/antonio/.julia/packages/PyCall/zqDXB/src/pyoperators.jl:18 =# @pysym(:PyNumber_Power), PyPtr, (PyPtr, PyPtr, PyPtr), a, b, pynothing[]))))) <class 'TypeError'>\nTypeError(\"unsupported operand type(s) for ** or pow(): 'NotImplementedType' and 'int'\")\n",
     "output_type": "error",
     "traceback": [
      "PyError ($(Expr(:escape, :(ccall(#= /home/antonio/.julia/packages/PyCall/zqDXB/src/pyoperators.jl:18 =# @pysym(:PyNumber_Power), PyPtr, (PyPtr, PyPtr, PyPtr), a, b, pynothing[]))))) <class 'TypeError'>\nTypeError(\"unsupported operand type(s) for ** or pow(): 'NotImplementedType' and 'int'\")\n",
      "",
      "Stacktrace:",
      " [1] pyerr_check at /home/antonio/.julia/packages/PyCall/zqDXB/src/exception.jl:60 [inlined]",
      " [2] pyerr_check at /home/antonio/.julia/packages/PyCall/zqDXB/src/exception.jl:64 [inlined]",
      " [3] _handle_error(::String) at /home/antonio/.julia/packages/PyCall/zqDXB/src/exception.jl:81",
      " [4] macro expansion at /home/antonio/.julia/packages/PyCall/zqDXB/src/exception.jl:95 [inlined]",
      " [5] ^(::PyCall.PyObject, ::PyCall.PyObject) at /home/antonio/.julia/packages/PyCall/zqDXB/src/pyoperators.jl:18",
      " [6] literal_pow(::typeof(^), ::PyCall.PyObject, ::Val{2}) at /home/antonio/.julia/packages/PyCall/zqDXB/src/pyoperators.jl:22",
      " [7] g(::Int64) at ./In[28]:1",
      " [8] top-level scope at In[29]:1"
     ]
    }
   ],
   "source": []
  },
  {
   "cell_type": "code",
   "execution_count": 20,
   "metadata": {},
   "outputs": [
    {
     "data": {
      "text/plain": [
       "h (generic function with 1 method)"
      ]
     },
     "execution_count": 20,
     "metadata": {},
     "output_type": "execute_result"
    }
   ],
   "source": [
    "h(x)=diff((x-A[2])^2+(f(x)-1/A[2])^2-1,x)"
   ]
  },
  {
   "cell_type": "code",
   "execution_count": 8,
   "metadata": {},
   "outputs": [
    {
     "data": {
      "text/plain": [
       "newton_solver (generic function with 1 method)"
      ]
     },
     "execution_count": 8,
     "metadata": {},
     "output_type": "execute_result"
    }
   ],
   "source": [
    "function newton_solver(f::Function, g::Function, x_0::Float64, N::Int64)\n",
    "    x=x_0\n",
    "    for i in 1:N\n",
    "        x += -f(x)/g(x)\n",
    "    end\n",
    "    return x\n",
    "end"
   ]
  },
  {
   "cell_type": "code",
   "execution_count": 19,
   "metadata": {},
   "outputs": [
    {
     "ename": "MethodError",
     "evalue": "MethodError: no method matching newton_solver(::Sym, ::Sym, ::Float64, ::Int64)\nClosest candidates are:\n  newton_solver(!Matched::Function, !Matched::Function, ::Float64, ::Int64) at In[8]:2",
     "output_type": "error",
     "traceback": [
      "MethodError: no method matching newton_solver(::Sym, ::Sym, ::Float64, ::Int64)\nClosest candidates are:\n  newton_solver(!Matched::Function, !Matched::Function, ::Float64, ::Int64) at In[8]:2",
      "",
      "Stacktrace:",
      " [1] top-level scope at In[19]:1"
     ]
    }
   ],
   "source": [
    "newton_solver(g, h, 0., 100)"
   ]
  },
  {
   "cell_type": "markdown",
   "metadata": {},
   "source": [
    "$$ f(x)=x+\\dfrac{1}{x} $$"
   ]
  },
  {
   "cell_type": "markdown",
   "metadata": {},
   "source": [
    "$$ \\left(x-\\dfrac{1}{2}\\right)^2+(y-2)^2=1 $$"
   ]
  },
  {
   "cell_type": "markdown",
   "metadata": {},
   "source": [
    "$$ \\left(x-\\dfrac{1}{2}\\right)^2+(y-2)^2=1 $$"
   ]
  }
 ],
 "metadata": {
  "@webio": {
   "lastCommId": null,
   "lastKernelId": null
  },
  "kernelspec": {
   "display_name": "Julia 1.1.0",
   "language": "julia",
   "name": "julia-1.1"
  },
  "language_info": {
   "file_extension": ".jl",
   "mimetype": "application/julia",
   "name": "julia",
   "version": "1.1.0"
  }
 },
 "nbformat": 4,
 "nbformat_minor": 2
}
