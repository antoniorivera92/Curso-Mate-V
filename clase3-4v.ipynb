{
 "cells": [
  {
   "cell_type": "markdown",
   "metadata": {},
   "source": [
    "# Funciones para modelar la relación entre variables"
   ]
  },
  {
   "cell_type": "markdown",
   "metadata": {},
   "source": [
    "#### Ejercicio 3: "
   ]
  },
  {
   "cell_type": "markdown",
   "metadata": {},
   "source": [
    "En Estados Unidos se suele usar la escala Fahrenheit para medir la temperatura. En esta escala, el punto de congelación del agua se alcanza a los $32^\\circ F$ y el de ebullición a los $212^\\circ F$. El resto del mundo usa la escala Celsius en la que esos puntos se alcanzan a los $0^\\circ C$ y $100^\\circ C$, respectivamente. Hallar el modelo que relaciona ambas escalas."
   ]
  },
  {
   "cell_type": "markdown",
   "metadata": {},
   "source": [
    "#### Solución:"
   ]
  },
  {
   "cell_type": "markdown",
   "metadata": {},
   "source": [
    "* $F$: escala Fahrenheit --------- variable dependiente.\n",
    "* $C$: escala Celsius ---------- variable independiente"
   ]
  },
  {
   "cell_type": "markdown",
   "metadata": {},
   "source": [
    "* $A(0,32)$\n",
    "* $B(100,212)$"
   ]
  },
  {
   "cell_type": "markdown",
   "metadata": {},
   "source": [
    "Suponemos que se trata de una función lineal:"
   ]
  },
  {
   "cell_type": "markdown",
   "metadata": {},
   "source": [
    "$$ F(C)=mC+b $$"
   ]
  },
  {
   "cell_type": "markdown",
   "metadata": {},
   "source": [
    "$$ m=\\dfrac{F_2-F_1}{C_2-C_1} $$"
   ]
  },
  {
   "cell_type": "markdown",
   "metadata": {},
   "source": [
    "$$ m=\\dfrac{212-32}{100-0}=\\dfrac{9}{5}=1.8 $$"
   ]
  },
  {
   "cell_type": "markdown",
   "metadata": {},
   "source": [
    "$$ F(C)=1.8C+b $$"
   ]
  },
  {
   "cell_type": "markdown",
   "metadata": {},
   "source": [
    "$$ 212-1.8(100)=b=32 $$"
   ]
  },
  {
   "cell_type": "markdown",
   "metadata": {},
   "source": [
    "$$ F(C)=1.8C+32 $$"
   ]
  },
  {
   "cell_type": "markdown",
   "metadata": {},
   "source": [
    "$$ F(C)=\\dfrac{9}{5}C+32 $$"
   ]
  },
  {
   "cell_type": "markdown",
   "metadata": {},
   "source": [
    "# Clase 4"
   ]
  },
  {
   "cell_type": "markdown",
   "metadata": {},
   "source": [
    "## Funciones cuadráticas"
   ]
  },
  {
   "cell_type": "markdown",
   "metadata": {},
   "source": [
    "$$ f(x)=ax^2+bx+c $$"
   ]
  },
  {
   "cell_type": "markdown",
   "metadata": {},
   "source": [
    "Al igual que en las funciones lineales, el valor de $c$ lo podemos conocer al saber qué sucede en $x=0$. Si no tenemos este conocimiento, extrapolamos de los datos que tengamos."
   ]
  },
  {
   "cell_type": "markdown",
   "metadata": {},
   "source": [
    "Para una función polinomial (lineal, cuadrática, cúbica,...) el dominio máximo de la función $(-\\infty,\\infty).$"
   ]
  },
  {
   "cell_type": "markdown",
   "metadata": {},
   "source": [
    "### Gráfica de una función cuadrática"
   ]
  },
  {
   "cell_type": "markdown",
   "metadata": {},
   "source": [
    "Para las funciones cuadráticas\n",
    "\n",
    "$$ f(x)=ax^2+bx+c $$\n",
    "\n",
    "tendremos un punto importante conocido como vértice y que tiene coordenadas"
   ]
  },
  {
   "cell_type": "markdown",
   "metadata": {},
   "source": [
    "$$ V\\left(-\\dfrac{b}{2a},c-\\dfrac{b^2}{4a}\\right) $$"
   ]
  },
  {
   "cell_type": "markdown",
   "metadata": {},
   "source": [
    "**1er caso:** $a>0$: parábola que abre hacia arriba (tiene un valor mínimo)"
   ]
  },
  {
   "cell_type": "markdown",
   "metadata": {},
   "source": [
    "Entonces el rango de la función es"
   ]
  },
  {
   "cell_type": "markdown",
   "metadata": {},
   "source": [
    "$$ \\left[c-\\dfrac{b^2}{4a},\\infty\\right) $$"
   ]
  },
  {
   "cell_type": "markdown",
   "metadata": {},
   "source": [
    "**2do caso:** $a<0$: parábola que abre hacia abajo (tiene un valor máximo)"
   ]
  },
  {
   "cell_type": "markdown",
   "metadata": {},
   "source": [
    "Entonces el rango de la función es"
   ]
  },
  {
   "cell_type": "markdown",
   "metadata": {},
   "source": [
    "$$ \\left(-\\infty,c-\\dfrac{b^2}{4a}\\right] $$"
   ]
  },
  {
   "cell_type": "markdown",
   "metadata": {},
   "source": [
    "### Forma de la función cuadrática"
   ]
  },
  {
   "cell_type": "markdown",
   "metadata": {},
   "source": [
    "Si sabemos que la función cuadrática pasa por el eje de horizontal en dos puntos ($B$ y $C$), podemos decir que la forma de la función cuadrática es"
   ]
  },
  {
   "cell_type": "markdown",
   "metadata": {},
   "source": [
    "$$ f(x)=A(x-B)(x-C) $$"
   ]
  },
  {
   "cell_type": "markdown",
   "metadata": {},
   "source": [
    "## Situación. Gravedad en Marte"
   ]
  },
  {
   "cell_type": "markdown",
   "metadata": {},
   "source": [
    "La exploración de Marte ha requerido del uso de nuevas estrategias a fin de superar\n",
    "obstáculos con los que se han enfrentado los vehículos destinados a navegar por el\n",
    "planeta. Algunos de los retos son: el conseguir que los vehículos exploradores\n",
    "recorran más terreno en menos tiempo, evitando el problema de corrosión de las\n",
    "ruedas, las tormentas de arena que bloquean los paneles solares y el cambio en las\n",
    "estaciones del clima en Marte que modifican la incidencia de rayos solares sobre\n",
    "los paneles.\n",
    "\n",
    "Para resolver el problema de cubrir más área explorada en menos tiempo, se han\n",
    "propuesto nuevas ideas como el uso de helicópteros en este planeta o robots\n",
    "denominados PUH (por sus siglas en inglés) que significa \"Saltador Urbano de\n",
    "Precisión\", robots que son capaces de saltar, ahorrando energía en comparación\n",
    "con volar.\n",
    "\n",
    "La función que describe el lanzamiento vertical de un objeto como función del\n",
    "tiempo, es de gran utilidad al momento de determinar la posición del robot PUH\n",
    "dada su altura inicial, en cualquier cuerpo celeste del que se conoce su gravedad.\n",
    "Cuando un objeto se lanza hacia arriba desde una altura inicial $h_0$, con una\n",
    "velocidad inicial $v_0$, la función para determinar su altura es $H(t)$ en el tiempo $t$ está dada por\n",
    "\n",
    "$$H(t)=h_0+ v_0t −\\dfrac{1}{2}gt^2$$\n",
    "\n",
    "donde $g$ es el valor de la aceleración gravitacional de Marte.\n",
    "\n",
    "En el esquema de la figura se ilustra el salto en vertical de un robot desde\n",
    "una altura inicial $h_0$, con una velocidad inicial $v_0$, que alcanza una altura máxima $H(t_\\text{max})=\\text{max}$, en el tiempo $t_\\text{max}$ , para después caer a la superficie del planeta, alcanzando así una altura final $H(t_f)=0$, en el tiempo final $t_f$.\n"
   ]
  },
  {
   "cell_type": "markdown",
   "metadata": {},
   "source": [
    "<img src=\"marte1.png\" align=\"middle\" width=\"400\">"
   ]
  },
  {
   "cell_type": "markdown",
   "metadata": {},
   "source": [
    "**1. El modelo que describe la altura del objeto en lanzamiento vertical como función\n",
    "del tiempo es una:**"
   ]
  },
  {
   "cell_type": "markdown",
   "metadata": {},
   "source": [
    "A) Función de primer grado, $f(x)=ax+b$\n",
    "\n",
    "B) Función de segundo grado $f(x)=ax^2+bx+c$\n",
    "\n",
    "C) Función trigonométrica $f(x)=A\\sin(bx)+c$\n",
    "\n",
    "D) Función exponencial $f(x)=Ba^x+c$"
   ]
  },
  {
   "cell_type": "markdown",
   "metadata": {},
   "source": [
    "**Solución:** B)"
   ]
  },
  {
   "cell_type": "markdown",
   "metadata": {},
   "source": [
    "**2. ¿Cuál es el dominio máximo de definición de la función?**\n"
   ]
  },
  {
   "cell_type": "markdown",
   "metadata": {},
   "source": [
    "A) $(-\\infty,\\infty)$\n",
    "\n",
    "B) $[0,15)$\n",
    "\n",
    "C) $(0,\\infty)$\n",
    "\n",
    "D) $[0, 360)$"
   ]
  },
  {
   "cell_type": "markdown",
   "metadata": {},
   "source": [
    "**Solución:** A)"
   ]
  },
  {
   "cell_type": "markdown",
   "metadata": {},
   "source": [
    "**3. Si en el planeta Marte, desde una plataforma situada a una altura $h_0=1.5\\ \\rm{m}$ un robot salta verticalmente con una velocidad inicial $v_0=20\\ \\dfrac{\\rm{m}}{\\rm{s}}$ y al considerar que la aceleración gravitacional en Marte es de $g=3.71\\ \\dfrac{\\rm{m}}{\\rm{s}^2}$.**\n",
    "\n",
    "**¿Cuál es la altura en metros, que el robot alcanza a los dos segundos de su lanzamiento hacia arriba?**"
   ]
  },
  {
   "cell_type": "markdown",
   "metadata": {},
   "source": [
    "$$H(t)=h_0+ v_0t −\\dfrac{1}{2}gt^2$$"
   ]
  },
  {
   "cell_type": "markdown",
   "metadata": {},
   "source": [
    "* Datos:\n",
    "    * $h_0=1.5$\n",
    "    * $v_0=20$\n",
    "    * $g=3.71$\n",
    "    * $H=?$\n",
    "    * $t=2$"
   ]
  },
  {
   "cell_type": "markdown",
   "metadata": {},
   "source": [
    "$$H(t)=1.5+20t −1.855t^2$$"
   ]
  },
  {
   "cell_type": "markdown",
   "metadata": {},
   "source": [
    "$$H(2)=1.5+20(2) −1.855(2)^2$$"
   ]
  },
  {
   "cell_type": "code",
   "execution_count": 2,
   "metadata": {},
   "outputs": [
    {
     "data": {
      "text/plain": [
       "34.08"
      ]
     },
     "execution_count": 2,
     "metadata": {},
     "output_type": "execute_result"
    }
   ],
   "source": [
    "1.5+20*(2)-1.855*(2)^2"
   ]
  },
  {
   "cell_type": "markdown",
   "metadata": {},
   "source": [
    "A) 45.92\n",
    "\n",
    "B) 34.08\n",
    "\n",
    "C) 31.08\n",
    "\n",
    "D) 48.92"
   ]
  },
  {
   "cell_type": "markdown",
   "metadata": {},
   "source": [
    "**Solución:** B)"
   ]
  },
  {
   "cell_type": "markdown",
   "metadata": {},
   "source": [
    "**4. Considerando las circunstancias en la pregunta anterior ¿Cuál es el tiempo\n",
    "aproximado, en segundos en el que el robot toca la superficie del planeta después\n",
    "de su salto vertical desde la plataforma?**"
   ]
  },
  {
   "cell_type": "markdown",
   "metadata": {},
   "source": [
    "<img src=\"marte1.png\" align=\"middle\" width=\"400\">"
   ]
  },
  {
   "cell_type": "markdown",
   "metadata": {},
   "source": [
    "$$H(t)=1.5+20t −1.855t^2$$"
   ]
  },
  {
   "cell_type": "markdown",
   "metadata": {},
   "source": [
    "Si el robot llega hasta el piso entonces la altura final es cero."
   ]
  },
  {
   "cell_type": "markdown",
   "metadata": {},
   "source": [
    "$$0=1.5+20t −1.855t^2$$"
   ]
  },
  {
   "cell_type": "markdown",
   "metadata": {},
   "source": [
    "$$ at^2+bt+c=0 $$"
   ]
  },
  {
   "cell_type": "markdown",
   "metadata": {},
   "source": [
    "$$ t=\\dfrac{-b\\pm\\sqrt{b^2-4ac}}{2a} $$"
   ]
  },
  {
   "cell_type": "markdown",
   "metadata": {},
   "source": [
    "$$ t_1=\\dfrac{-b+\\sqrt{b^2-4ac}}{2a}=-0.07 $$"
   ]
  },
  {
   "cell_type": "code",
   "execution_count": 3,
   "metadata": {},
   "outputs": [
    {
     "data": {
      "text/plain": [
       "-0.07448541584218686"
      ]
     },
     "execution_count": 3,
     "metadata": {},
     "output_type": "execute_result"
    }
   ],
   "source": [
    "(-(20)+√(20^2-4(-1.855)(1.5)))/(2*(-1.855))"
   ]
  },
  {
   "cell_type": "markdown",
   "metadata": {},
   "source": [
    "$$ t_2=\\dfrac{-b-\\sqrt{b^2-4ac}}{2a}=10.85 $$"
   ]
  },
  {
   "cell_type": "code",
   "execution_count": 4,
   "metadata": {},
   "outputs": [
    {
     "data": {
      "text/plain": [
       "10.856156574871836"
      ]
     },
     "execution_count": 4,
     "metadata": {},
     "output_type": "execute_result"
    }
   ],
   "source": [
    "(-(20)-√(20^2-4(-1.855)(1.5)))/(2*(-1.855))"
   ]
  },
  {
   "cell_type": "markdown",
   "metadata": {},
   "source": [
    "$a=-1.855$, $b=20$, $c=1.5$"
   ]
  },
  {
   "cell_type": "markdown",
   "metadata": {},
   "source": [
    "A) 5.46\n",
    "\n",
    "B) 5.31\n",
    "\n",
    "C) 10.70\n",
    "\n",
    "D) 10.856"
   ]
  },
  {
   "cell_type": "markdown",
   "metadata": {},
   "source": [
    "**Solución:** D)"
   ]
  },
  {
   "cell_type": "markdown",
   "metadata": {},
   "source": [
    "**5. De las siguientes gráficas, ¿cuál representa un esbozo de la gráfica de la función correspondiente al lanzamiento vertical descrito en la pregunta 3?**"
   ]
  },
  {
   "cell_type": "markdown",
   "metadata": {},
   "source": [
    "$$H(t)=1.5+20t −1.855t^2$$"
   ]
  },
  {
   "cell_type": "markdown",
   "metadata": {},
   "source": [
    "$$H(0)=1.5+20(0) −1.855(0)^2$$"
   ]
  },
  {
   "cell_type": "markdown",
   "metadata": {},
   "source": [
    "C)\n",
    "\n",
    "$(0,0)$"
   ]
  },
  {
   "cell_type": "markdown",
   "metadata": {},
   "source": [
    "D)\n",
    "\n",
    "$(0,1.5)$"
   ]
  },
  {
   "cell_type": "markdown",
   "metadata": {},
   "source": [
    "C)\n",
    "<img src=\"cuadratica5C.png\" align=\"middle\" width=\"400\">"
   ]
  },
  {
   "cell_type": "markdown",
   "metadata": {},
   "source": [
    "D)\n",
    "<img src=\"cuadratica5D.png\" align=\"middle\" width=\"400\">"
   ]
  },
  {
   "cell_type": "markdown",
   "metadata": {},
   "source": [
    "**Solución:** D)"
   ]
  },
  {
   "cell_type": "markdown",
   "metadata": {},
   "source": [
    "**6. La figura muestra la gráfica de la expresión matemática que describe la altura del robot en función del tiempo, cuando éste realiza un salto vertical desde la luna, donde hay una aceleración gravitacional $g=1.6\\ \\dfrac{\\rm{m}}{\\rm{s}^2}$ , inicia dicho salto a nivel del suelo y a una velocidad inicial de $v_0=40\\ \\dfrac{\\rm{m}}{\\rm{s}}$.**\n",
    "\n",
    "**¿Cuáles son los puntos A y B de dicha gráfica?**\n"
   ]
  },
  {
   "cell_type": "markdown",
   "metadata": {},
   "source": [
    "* Datos:\n",
    "    * $h_0=0$\n",
    "    * $v_0=40$\n",
    "    * $g=1.6$"
   ]
  },
  {
   "cell_type": "markdown",
   "metadata": {},
   "source": [
    "$$H(t)=40t −0.8t^2$$"
   ]
  },
  {
   "cell_type": "markdown",
   "metadata": {},
   "source": [
    "$$0=40t −0.8t^2$$"
   ]
  },
  {
   "cell_type": "code",
   "execution_count": 5,
   "metadata": {},
   "outputs": [
    {
     "data": {
      "text/plain": [
       "0.0"
      ]
     },
     "execution_count": 5,
     "metadata": {},
     "output_type": "execute_result"
    }
   ],
   "source": [
    "40*(50)-0.8*(50)^2"
   ]
  },
  {
   "cell_type": "code",
   "execution_count": 6,
   "metadata": {},
   "outputs": [
    {
     "data": {
      "text/plain": [
       "500.0"
      ]
     },
     "execution_count": 6,
     "metadata": {},
     "output_type": "execute_result"
    }
   ],
   "source": [
    "40*(25)-0.8*(25)^2"
   ]
  },
  {
   "cell_type": "markdown",
   "metadata": {},
   "source": [
    "$$0=t(40−0.8t)$$"
   ]
  },
  {
   "cell_type": "markdown",
   "metadata": {},
   "source": [
    "$t=0$"
   ]
  },
  {
   "cell_type": "markdown",
   "metadata": {},
   "source": [
    "$40-0.8t=0$"
   ]
  },
  {
   "cell_type": "markdown",
   "metadata": {},
   "source": [
    "$t=\\dfrac{40}{0.8}$"
   ]
  },
  {
   "cell_type": "markdown",
   "metadata": {},
   "source": [
    "<img src=\"marte2.png\" align=\"middle\" width=\"500\">"
   ]
  },
  {
   "cell_type": "markdown",
   "metadata": {},
   "source": [
    "B) $A(0,0),\\ B(50,0)$\n",
    "\n",
    "C) $A(0,0),\\ B(25,0)$"
   ]
  },
  {
   "cell_type": "markdown",
   "metadata": {},
   "source": [
    "**Solución:** B)"
   ]
  },
  {
   "cell_type": "markdown",
   "metadata": {},
   "source": [
    "**7. De acuerdo con la información de la gráfica asociada con la gráfica de la figura anterior, ¿cuál es el dominio natural de la función?**"
   ]
  },
  {
   "cell_type": "markdown",
   "metadata": {},
   "source": [
    "Dominio $\\leftrightarrow$ abscisas"
   ]
  },
  {
   "cell_type": "markdown",
   "metadata": {},
   "source": [
    "Rango $\\leftrightarrow$ ordenadas"
   ]
  },
  {
   "cell_type": "markdown",
   "metadata": {},
   "source": [
    "A) $[0, 25]$\n",
    "\n",
    "B) $[25, 0]$\n",
    "\n",
    "C) $[0, 50]$\n",
    "\n",
    "D) $[50, 0]$"
   ]
  },
  {
   "cell_type": "markdown",
   "metadata": {},
   "source": [
    "**Solución:** C)"
   ]
  },
  {
   "cell_type": "markdown",
   "metadata": {},
   "source": [
    "**8. La siguiente figura muestra la gráfica de la expresión matemática que describe la\n",
    "altura del robot en función del tiempo, cuando éste realiza un salto vertical desde la\n",
    "luna, e inicia dicho salto a nivel del suelo.**\n",
    "\n",
    "**¿Cuál es la expresión matemática que modela la gráfica de la figura?**"
   ]
  },
  {
   "cell_type": "markdown",
   "metadata": {},
   "source": [
    "<img src=\"marte3.png\" align=\"middle\" width=\"500\">"
   ]
  },
  {
   "cell_type": "markdown",
   "metadata": {},
   "source": [
    "A) $H ( t ) = 0.8( t − 0)(t − 62.5)$\n",
    "\n",
    "B) $H (t) = − 0.8(t − 0)(t − 62.5)$\n",
    "\n",
    "C) $H (t) = − 0.8(t + 0)(t + 62.5)$\n",
    "\n",
    "D) $H ( t ) = 0.8( t + 0)(t + 62.5)$"
   ]
  },
  {
   "cell_type": "markdown",
   "metadata": {},
   "source": [
    "**Solución:** B)"
   ]
  },
  {
   "cell_type": "markdown",
   "metadata": {},
   "source": [
    "**9. La siguiente figura corresponde a la gráfica de la altura de un robot lanzado en la luna, desde una alura de $1.2\\ \\rm{m}$, como función del tiempo ¿Cuál es la expresión que corresponde a dicha gráfica?**\n"
   ]
  },
  {
   "cell_type": "markdown",
   "metadata": {},
   "source": [
    "<img src=\"marte4.png\" align=\"middle\" width=\"500\">"
   ]
  },
  {
   "cell_type": "markdown",
   "metadata": {},
   "source": [
    "\n"
   ]
  },
  {
   "cell_type": "markdown",
   "metadata": {},
   "source": [
    "**Solución:** "
   ]
  },
  {
   "cell_type": "markdown",
   "metadata": {},
   "source": [
    "**10. ¿Cuál es el recorrido (rango) de la función asociado con el lanzamiento vertical de un robot en el planeta Marte a una altura inicial de $2.145\\ \\rm{m}$, con una velocidad inicial de $3.71\\ \\dfrac{\\rm{m}}{\\rm{s}}$, al considerar el dominio máximo de la misma?**"
   ]
  },
  {
   "cell_type": "markdown",
   "metadata": {},
   "source": [
    "A) $(-\\infty, 4]$\n",
    "\n",
    "B) $(1, \\infty)$\n",
    "\n",
    "C) $[1, \\infty)$\n",
    "\n",
    "D) $(-\\infty, 4)$"
   ]
  },
  {
   "cell_type": "markdown",
   "metadata": {},
   "source": [
    "**Solución:** "
   ]
  },
  {
   "cell_type": "markdown",
   "metadata": {},
   "source": [
    "**11. ¿Cuál es el recorrido (rango) de la función considerando el dominio natural de la misma, para la situación planteada en la pregunta anterior?**"
   ]
  },
  {
   "cell_type": "markdown",
   "metadata": {},
   "source": [
    "A) $[4,\\infty)$\n",
    "\n",
    "B) $[-\\infty,4)$\n",
    "\n",
    "C) $(0,4)$\n",
    "\n",
    "D) $[0,4]$"
   ]
  },
  {
   "cell_type": "markdown",
   "metadata": {},
   "source": [
    "**Solución:** "
   ]
  },
  {
   "cell_type": "markdown",
   "metadata": {},
   "source": [
    "## Logaritmos"
   ]
  },
  {
   "cell_type": "markdown",
   "metadata": {},
   "source": [
    "* ***Ejemplo:*** Resuelve la ecuación\n",
    "\n",
    "$$ 3^{x+1}=81 $$"
   ]
  },
  {
   "cell_type": "markdown",
   "metadata": {},
   "source": [
    "* ***Ejemplo:*** Resuelve la ecuación\n",
    "\n",
    "$$ \\log_2(x^7)=21 $$"
   ]
  },
  {
   "cell_type": "markdown",
   "metadata": {},
   "source": [
    "* ***Ejemplo:*** Resuelve la ecuación\n",
    "\n",
    "$$ \\log_2(x+1)+\\log_2(x-1)=4 $$"
   ]
  },
  {
   "cell_type": "markdown",
   "metadata": {},
   "source": [
    "* ***Ejemplo:*** Resuelve la ecuación\n",
    "\n",
    "$$ \\log_2(x+1)+\\log_2(x-1)=4 $$"
   ]
  },
  {
   "cell_type": "markdown",
   "metadata": {},
   "source": [
    "## Funciones exponenciales"
   ]
  },
  {
   "cell_type": "markdown",
   "metadata": {},
   "source": [
    "$$ f(x)=a\\cdot b^x+c $$"
   ]
  },
  {
   "cell_type": "markdown",
   "metadata": {},
   "source": [
    "* Si $b>1$, decimos que se trata de un crecimiento exponencial.\n",
    "* Si $b<1$, decimos que se trata de un decaimiento exponencial.\n",
    "* Si $b=1$..."
   ]
  },
  {
   "cell_type": "markdown",
   "metadata": {},
   "source": [
    "El dominio máximo de estas funciones es $\\mathbb{R}$."
   ]
  },
  {
   "cell_type": "markdown",
   "metadata": {},
   "source": [
    "* ***Ejemplo:*** Pensemos que tenemos una función exponencial $f(x)$. Si $f(20)=88.2$ y $f(23)=91.4$, encuentra la (a) base, y (b) $f(25)$."
   ]
  },
  {
   "cell_type": "markdown",
   "metadata": {},
   "source": [
    "## Funciones logarítmicas"
   ]
  },
  {
   "cell_type": "markdown",
   "metadata": {},
   "source": [
    "$$ f(x)=a\\cdot\\log(x+b)+c$$"
   ]
  },
  {
   "cell_type": "markdown",
   "metadata": {},
   "source": [
    "## Situación: Fragmentos de Bosque y Hormigas\n",
    "\n",
    "Como parte de un análisis del efecto de la fragmentación sobre las relaciones\n",
    "especies-área, se registró el número de especies de hormigas para ciertos\n",
    "fragmentos de bosque seco tropical. En el siguiente gráfico se presenta la relación\n",
    "entre el área de los fragmentos de bosque seco tropical en la cuenca media del río\n",
    "Cauca, Colombia, medida en hectáreas (h) , con el número de especies de hormigas\n",
    "encontradas en cada fragmento N (h) .\n"
   ]
  },
  {
   "cell_type": "markdown",
   "metadata": {},
   "source": [
    "**1. Es el tipo de función que mejor describe la asociación entre el área y el número\n",
    "de especies que se representa en la figura.**"
   ]
  },
  {
   "cell_type": "markdown",
   "metadata": {},
   "source": [
    "A) $N(h)=13e^h+76$\n",
    "\n",
    "B) $N(h)=76e^h+13$\n",
    "\n",
    "A) $N(h)=13\\log(h)+76$\n",
    "\n",
    "D) $N(h)=76\\log(h)+13$"
   ]
  },
  {
   "cell_type": "markdown",
   "metadata": {},
   "source": [
    "**Solución:** "
   ]
  },
  {
   "cell_type": "markdown",
   "metadata": {},
   "source": [
    "## ¿Quién gana?"
   ]
  }
 ],
 "metadata": {
  "kernelspec": {
   "display_name": "Julia 1.1.0",
   "language": "julia",
   "name": "julia-1.1"
  },
  "language_info": {
   "file_extension": ".jl",
   "mimetype": "application/julia",
   "name": "julia",
   "version": "1.1.0"
  }
 },
 "nbformat": 4,
 "nbformat_minor": 4
}
