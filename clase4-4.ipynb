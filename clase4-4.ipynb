{
 "cells": [
  {
   "cell_type": "markdown",
   "metadata": {},
   "source": [
    "# Estadística para interpretar grandes cantidades de datos"
   ]
  },
  {
   "cell_type": "code",
   "execution_count": 1,
   "metadata": {},
   "outputs": [],
   "source": [
    "using Plots\n",
    "using Statistics"
   ]
  },
  {
   "cell_type": "markdown",
   "metadata": {},
   "source": [
    "# Clase 4"
   ]
  },
  {
   "cell_type": "markdown",
   "metadata": {},
   "source": [
    "## Correlación y causalidad"
   ]
  },
  {
   "cell_type": "markdown",
   "metadata": {},
   "source": [
    "En muchas ocasiones tendremos dos conjuntos de variables estadísticas que podría parecer que dependen entre sí (funciones). A esta aparente dependencia se le conoce como *correlación*. Si en la \"realidad\" notamos que sí hay una relación entre dos fenómenos, decimos que existe *causalidad* (una cosa causa que otra suceda)."
   ]
  },
  {
   "cell_type": "markdown",
   "metadata": {},
   "source": [
    "Sin embargo, hay mucha ocasiones donde existe una correlación y no hay causalidad."
   ]
  },
  {
   "cell_type": "markdown",
   "metadata": {},
   "source": [
    "https://www.tylervigen.com/spurious-correlations"
   ]
  },
  {
   "cell_type": "markdown",
   "metadata": {},
   "source": [
    "## Correlación lineal"
   ]
  },
  {
   "cell_type": "markdown",
   "metadata": {},
   "source": [
    "La manera más fácil de identificar correlaciones es mediante gráficas donde se busca generar algún tipo de comportamiento lineal."
   ]
  },
  {
   "cell_type": "markdown",
   "metadata": {},
   "source": [
    "* **Correlación fuerte**: si intentamos ajustar una recta a los puntos del diagrama de dispersión, estos puntos quedarán muy cerca de la recta."
   ]
  },
  {
   "cell_type": "code",
   "execution_count": 2,
   "metadata": {},
   "outputs": [],
   "source": [
    "x_corr1=rand(0.:0.01:10.,30)\n",
    "y_corr1=3x_corr1.+2+rand(-0.5:0.01:0.5,30);"
   ]
  },
  {
   "cell_type": "code",
   "execution_count": 3,
   "metadata": {},
   "outputs": [
    {
     "data": {
      "image/svg+xml": [
       "<?xml version=\"1.0\" encoding=\"utf-8\"?>\n",
       "<svg xmlns=\"http://www.w3.org/2000/svg\" xmlns:xlink=\"http://www.w3.org/1999/xlink\" width=\"600\" height=\"400\" viewBox=\"0 0 2400 1600\">\n",
       "<defs>\n",
       "  <clipPath id=\"clip920\">\n",
       "    <rect x=\"0\" y=\"0\" width=\"2400\" height=\"1600\"/>\n",
       "  </clipPath>\n",
       "</defs>\n",
       "<path clip-path=\"url(#clip920)\" d=\"\n",
       "M0 1600 L2400 1600 L2400 0 L0 0  Z\n",
       "  \" fill=\"#ffffff\" fill-rule=\"evenodd\" fill-opacity=\"1\"/>\n",
       "<defs>\n",
       "  <clipPath id=\"clip921\">\n",
       "    <rect x=\"480\" y=\"0\" width=\"1681\" height=\"1600\"/>\n",
       "  </clipPath>\n",
       "</defs>\n",
       "<path clip-path=\"url(#clip920)\" d=\"\n",
       "M135.95 1486.45 L2352.76 1486.45 L2352.76 47.2441 L135.95 47.2441  Z\n",
       "  \" fill=\"#ffffff\" fill-rule=\"evenodd\" fill-opacity=\"1\"/>\n",
       "<defs>\n",
       "  <clipPath id=\"clip922\">\n",
       "    <rect x=\"135\" y=\"47\" width=\"2218\" height=\"1440\"/>\n",
       "  </clipPath>\n",
       "</defs>\n",
       "<polyline clip-path=\"url(#clip922)\" style=\"stroke:#000000; stroke-width:2; stroke-opacity:0.1; fill:none\" points=\"\n",
       "  616.436,1486.45 616.436,47.2441 \n",
       "  \"/>\n",
       "<polyline clip-path=\"url(#clip922)\" style=\"stroke:#000000; stroke-width:2; stroke-opacity:0.1; fill:none\" points=\"\n",
       "  1135.38,1486.45 1135.38,47.2441 \n",
       "  \"/>\n",
       "<polyline clip-path=\"url(#clip922)\" style=\"stroke:#000000; stroke-width:2; stroke-opacity:0.1; fill:none\" points=\"\n",
       "  1654.32,1486.45 1654.32,47.2441 \n",
       "  \"/>\n",
       "<polyline clip-path=\"url(#clip922)\" style=\"stroke:#000000; stroke-width:2; stroke-opacity:0.1; fill:none\" points=\"\n",
       "  2173.25,1486.45 2173.25,47.2441 \n",
       "  \"/>\n",
       "<polyline clip-path=\"url(#clip922)\" style=\"stroke:#000000; stroke-width:2; stroke-opacity:0.1; fill:none\" points=\"\n",
       "  135.95,1339.31 2352.76,1339.31 \n",
       "  \"/>\n",
       "<polyline clip-path=\"url(#clip922)\" style=\"stroke:#000000; stroke-width:2; stroke-opacity:0.1; fill:none\" points=\"\n",
       "  135.95,1062.22 2352.76,1062.22 \n",
       "  \"/>\n",
       "<polyline clip-path=\"url(#clip922)\" style=\"stroke:#000000; stroke-width:2; stroke-opacity:0.1; fill:none\" points=\"\n",
       "  135.95,785.134 2352.76,785.134 \n",
       "  \"/>\n",
       "<polyline clip-path=\"url(#clip922)\" style=\"stroke:#000000; stroke-width:2; stroke-opacity:0.1; fill:none\" points=\"\n",
       "  135.95,508.044 2352.76,508.044 \n",
       "  \"/>\n",
       "<polyline clip-path=\"url(#clip922)\" style=\"stroke:#000000; stroke-width:2; stroke-opacity:0.1; fill:none\" points=\"\n",
       "  135.95,230.955 2352.76,230.955 \n",
       "  \"/>\n",
       "<polyline clip-path=\"url(#clip920)\" style=\"stroke:#000000; stroke-width:4; stroke-opacity:1; fill:none\" points=\"\n",
       "  135.95,1486.45 2352.76,1486.45 \n",
       "  \"/>\n",
       "<polyline clip-path=\"url(#clip920)\" style=\"stroke:#000000; stroke-width:4; stroke-opacity:1; fill:none\" points=\"\n",
       "  135.95,1486.45 135.95,47.2441 \n",
       "  \"/>\n",
       "<polyline clip-path=\"url(#clip920)\" style=\"stroke:#000000; stroke-width:4; stroke-opacity:1; fill:none\" points=\"\n",
       "  616.436,1486.45 616.436,1469.18 \n",
       "  \"/>\n",
       "<polyline clip-path=\"url(#clip920)\" style=\"stroke:#000000; stroke-width:4; stroke-opacity:1; fill:none\" points=\"\n",
       "  1135.38,1486.45 1135.38,1469.18 \n",
       "  \"/>\n",
       "<polyline clip-path=\"url(#clip920)\" style=\"stroke:#000000; stroke-width:4; stroke-opacity:1; fill:none\" points=\"\n",
       "  1654.32,1486.45 1654.32,1469.18 \n",
       "  \"/>\n",
       "<polyline clip-path=\"url(#clip920)\" style=\"stroke:#000000; stroke-width:4; stroke-opacity:1; fill:none\" points=\"\n",
       "  2173.25,1486.45 2173.25,1469.18 \n",
       "  \"/>\n",
       "<polyline clip-path=\"url(#clip920)\" style=\"stroke:#000000; stroke-width:4; stroke-opacity:1; fill:none\" points=\"\n",
       "  135.95,1339.31 162.552,1339.31 \n",
       "  \"/>\n",
       "<polyline clip-path=\"url(#clip920)\" style=\"stroke:#000000; stroke-width:4; stroke-opacity:1; fill:none\" points=\"\n",
       "  135.95,1062.22 162.552,1062.22 \n",
       "  \"/>\n",
       "<polyline clip-path=\"url(#clip920)\" style=\"stroke:#000000; stroke-width:4; stroke-opacity:1; fill:none\" points=\"\n",
       "  135.95,785.134 162.552,785.134 \n",
       "  \"/>\n",
       "<polyline clip-path=\"url(#clip920)\" style=\"stroke:#000000; stroke-width:4; stroke-opacity:1; fill:none\" points=\"\n",
       "  135.95,508.044 162.552,508.044 \n",
       "  \"/>\n",
       "<polyline clip-path=\"url(#clip920)\" style=\"stroke:#000000; stroke-width:4; stroke-opacity:1; fill:none\" points=\"\n",
       "  135.95,230.955 162.552,230.955 \n",
       "  \"/>\n",
       "<path clip-path=\"url(#clip920)\" d=\"M 0 0 M611.089 1535.98 L627.408 1535.98 L627.408 1539.92 L605.464 1539.92 L605.464 1535.98 Q608.126 1533.23 612.709 1528.6 Q617.316 1523.95 618.496 1522.61 Q620.742 1520.08 621.621 1518.35 Q622.524 1516.59 622.524 1514.9 Q622.524 1512.14 620.58 1510.41 Q618.658 1508.67 615.557 1508.67 Q613.358 1508.67 610.904 1509.43 Q608.473 1510.2 605.696 1511.75 L605.696 1507.03 Q608.52 1505.89 610.973 1505.31 Q613.427 1504.73 615.464 1504.73 Q620.834 1504.73 624.029 1507.42 Q627.223 1510.11 627.223 1514.6 Q627.223 1516.73 626.413 1518.65 Q625.626 1520.54 623.52 1523.14 Q622.941 1523.81 619.839 1527.03 Q616.737 1530.22 611.089 1535.98 Z\" fill=\"#000000\" fill-rule=\"evenodd\" fill-opacity=\"1\" /><path clip-path=\"url(#clip920)\" d=\"M 0 0 M1138.39 1509.43 L1126.58 1527.88 L1138.39 1527.88 L1138.39 1509.43 M1137.16 1505.36 L1143.04 1505.36 L1143.04 1527.88 L1147.97 1527.88 L1147.97 1531.77 L1143.04 1531.77 L1143.04 1539.92 L1138.39 1539.92 L1138.39 1531.77 L1122.78 1531.77 L1122.78 1527.26 L1137.16 1505.36 Z\" fill=\"#000000\" fill-rule=\"evenodd\" fill-opacity=\"1\" /><path clip-path=\"url(#clip920)\" d=\"M 0 0 M1654.72 1520.78 Q1651.57 1520.78 1649.72 1522.93 Q1647.89 1525.08 1647.89 1528.83 Q1647.89 1532.56 1649.72 1534.73 Q1651.57 1536.89 1654.72 1536.89 Q1657.87 1536.89 1659.7 1534.73 Q1661.55 1532.56 1661.55 1528.83 Q1661.55 1525.08 1659.7 1522.93 Q1657.87 1520.78 1654.72 1520.78 M1664 1506.12 L1664 1510.38 Q1662.24 1509.55 1660.44 1509.11 Q1658.66 1508.67 1656.9 1508.67 Q1652.27 1508.67 1649.81 1511.8 Q1647.38 1514.92 1647.04 1521.24 Q1648.4 1519.23 1650.46 1518.16 Q1652.52 1517.07 1655 1517.07 Q1660.21 1517.07 1663.22 1520.24 Q1666.25 1523.39 1666.25 1528.83 Q1666.25 1534.16 1663.1 1537.37 Q1659.95 1540.59 1654.72 1540.59 Q1648.72 1540.59 1645.55 1536.01 Q1642.38 1531.4 1642.38 1522.67 Q1642.38 1514.48 1646.27 1509.62 Q1650.16 1504.73 1656.71 1504.73 Q1658.47 1504.73 1660.25 1505.08 Q1662.06 1505.43 1664 1506.12 Z\" fill=\"#000000\" fill-rule=\"evenodd\" fill-opacity=\"1\" /><path clip-path=\"url(#clip920)\" d=\"M 0 0 M2173.25 1523.51 Q2169.92 1523.51 2168 1525.29 Q2166.1 1527.07 2166.1 1530.2 Q2166.1 1533.32 2168 1535.11 Q2169.92 1536.89 2173.25 1536.89 Q2176.59 1536.89 2178.51 1535.11 Q2180.43 1533.3 2180.43 1530.2 Q2180.43 1527.07 2178.51 1525.29 Q2176.61 1523.51 2173.25 1523.51 M2168.58 1521.52 Q2165.57 1520.78 2163.88 1518.72 Q2162.21 1516.66 2162.21 1513.69 Q2162.21 1509.55 2165.15 1507.14 Q2168.12 1504.73 2173.25 1504.73 Q2178.42 1504.73 2181.36 1507.14 Q2184.3 1509.55 2184.3 1513.69 Q2184.3 1516.66 2182.61 1518.72 Q2180.94 1520.78 2177.95 1521.52 Q2181.33 1522.3 2183.21 1524.6 Q2185.11 1526.89 2185.11 1530.2 Q2185.11 1535.22 2182.03 1537.91 Q2178.97 1540.59 2173.25 1540.59 Q2167.54 1540.59 2164.46 1537.91 Q2161.4 1535.22 2161.4 1530.2 Q2161.4 1526.89 2163.3 1524.6 Q2165.2 1522.3 2168.58 1521.52 M2166.87 1514.13 Q2166.87 1516.82 2168.53 1518.32 Q2170.22 1519.83 2173.25 1519.83 Q2176.26 1519.83 2177.95 1518.32 Q2179.67 1516.82 2179.67 1514.13 Q2179.67 1511.45 2177.95 1509.94 Q2176.26 1508.44 2173.25 1508.44 Q2170.22 1508.44 2168.53 1509.94 Q2166.87 1511.45 2166.87 1514.13 Z\" fill=\"#000000\" fill-rule=\"evenodd\" fill-opacity=\"1\" /><path clip-path=\"url(#clip920)\" d=\"M 0 0 M91.0475 1322.03 L109.404 1322.03 L109.404 1325.97 L95.3299 1325.97 L95.3299 1334.44 Q96.3484 1334.09 97.3669 1333.93 Q98.3855 1333.75 99.404 1333.75 Q105.191 1333.75 108.571 1336.92 Q111.95 1340.09 111.95 1345.51 Q111.95 1351.08 108.478 1354.19 Q105.006 1357.26 98.6864 1357.26 Q96.5105 1357.26 94.242 1356.89 Q91.9966 1356.52 89.5892 1355.78 L89.5892 1351.08 Q91.6725 1352.22 93.8947 1352.77 Q96.1169 1353.33 98.5938 1353.33 Q102.598 1353.33 104.936 1351.22 Q107.274 1349.12 107.274 1345.51 Q107.274 1341.89 104.936 1339.79 Q102.598 1337.68 98.5938 1337.68 Q96.7188 1337.68 94.8438 1338.1 Q92.992 1338.51 91.0475 1339.39 L91.0475 1322.03 Z\" fill=\"#000000\" fill-rule=\"evenodd\" fill-opacity=\"1\" /><path clip-path=\"url(#clip920)\" d=\"M 0 0 M65.0292 1075.57 L72.668 1075.57 L72.668 1049.2 L64.3579 1050.87 L64.3579 1046.61 L72.6217 1044.94 L77.2976 1044.94 L77.2976 1075.57 L84.9365 1075.57 L84.9365 1079.5 L65.0292 1079.5 L65.0292 1075.57 Z\" fill=\"#000000\" fill-rule=\"evenodd\" fill-opacity=\"1\" /><path clip-path=\"url(#clip920)\" d=\"M 0 0 M100.006 1048.02 Q96.3947 1048.02 94.566 1051.59 Q92.7605 1055.13 92.7605 1062.26 Q92.7605 1069.36 94.566 1072.93 Q96.3947 1076.47 100.006 1076.47 Q103.64 1076.47 105.446 1072.93 Q107.274 1069.36 107.274 1062.26 Q107.274 1055.13 105.446 1051.59 Q103.64 1048.02 100.006 1048.02 M100.006 1044.32 Q105.816 1044.32 108.872 1048.93 Q111.95 1053.51 111.95 1062.26 Q111.95 1070.99 108.872 1075.59 Q105.816 1080.17 100.006 1080.17 Q94.1957 1080.17 91.117 1075.59 Q88.0614 1070.99 88.0614 1062.26 Q88.0614 1053.51 91.117 1048.93 Q94.1957 1044.32 100.006 1044.32 Z\" fill=\"#000000\" fill-rule=\"evenodd\" fill-opacity=\"1\" /><path clip-path=\"url(#clip920)\" d=\"M 0 0 M66.0245 798.479 L73.6634 798.479 L73.6634 772.113 L65.3532 773.78 L65.3532 769.521 L73.6171 767.854 L78.293 767.854 L78.293 798.479 L85.9318 798.479 L85.9318 802.414 L66.0245 802.414 L66.0245 798.479 Z\" fill=\"#000000\" fill-rule=\"evenodd\" fill-opacity=\"1\" /><path clip-path=\"url(#clip920)\" d=\"M 0 0 M91.0475 767.854 L109.404 767.854 L109.404 771.789 L95.3299 771.789 L95.3299 780.261 Q96.3484 779.914 97.3669 779.752 Q98.3855 779.567 99.404 779.567 Q105.191 779.567 108.571 782.738 Q111.95 785.909 111.95 791.326 Q111.95 796.905 108.478 800.007 Q105.006 803.085 98.6864 803.085 Q96.5105 803.085 94.242 802.715 Q91.9966 802.344 89.5892 801.604 L89.5892 796.905 Q91.6725 798.039 93.8947 798.594 Q96.1169 799.15 98.5938 799.15 Q102.598 799.15 104.936 797.044 Q107.274 794.937 107.274 791.326 Q107.274 787.715 104.936 785.608 Q102.598 783.502 98.5938 783.502 Q96.7188 783.502 94.8438 783.919 Q92.992 784.335 91.0475 785.215 L91.0475 767.854 Z\" fill=\"#000000\" fill-rule=\"evenodd\" fill-opacity=\"1\" /><path clip-path=\"url(#clip920)\" d=\"M 0 0 M68.6171 521.389 L84.9365 521.389 L84.9365 525.324 L62.9921 525.324 L62.9921 521.389 Q65.6541 518.634 70.2375 514.005 Q74.8439 509.352 76.0245 508.01 Q78.2698 505.486 79.1494 503.75 Q80.0522 501.991 80.0522 500.301 Q80.0522 497.547 78.1078 495.81 Q76.1865 494.074 73.0847 494.074 Q70.8856 494.074 68.4319 494.838 Q66.0014 495.602 63.2236 497.153 L63.2236 492.431 Q66.0477 491.297 68.5014 490.718 Q70.955 490.139 72.9921 490.139 Q78.3624 490.139 81.5568 492.824 Q84.7513 495.51 84.7513 500 Q84.7513 502.13 83.9411 504.051 Q83.1541 505.949 81.0476 508.542 Q80.4689 509.213 77.367 512.431 Q74.2652 515.625 68.6171 521.389 Z\" fill=\"#000000\" fill-rule=\"evenodd\" fill-opacity=\"1\" /><path clip-path=\"url(#clip920)\" d=\"M 0 0 M100.006 493.843 Q96.3947 493.843 94.566 497.408 Q92.7605 500.949 92.7605 508.079 Q92.7605 515.185 94.566 518.75 Q96.3947 522.292 100.006 522.292 Q103.64 522.292 105.446 518.75 Q107.274 515.185 107.274 508.079 Q107.274 500.949 105.446 497.408 Q103.64 493.843 100.006 493.843 M100.006 490.139 Q105.816 490.139 108.872 494.746 Q111.95 499.329 111.95 508.079 Q111.95 516.806 108.872 521.412 Q105.816 525.996 100.006 525.996 Q94.1957 525.996 91.117 521.412 Q88.0614 516.806 88.0614 508.079 Q88.0614 499.329 91.117 494.746 Q94.1957 490.139 100.006 490.139 Z\" fill=\"#000000\" fill-rule=\"evenodd\" fill-opacity=\"1\" /><path clip-path=\"url(#clip920)\" d=\"M 0 0 M69.6125 244.299 L85.9318 244.299 L85.9318 248.235 L63.9875 248.235 L63.9875 244.299 Q66.6495 241.545 71.2328 236.915 Q75.8393 232.262 77.0198 230.92 Q79.2652 228.397 80.1448 226.661 Q81.0476 224.901 81.0476 223.212 Q81.0476 220.457 79.1032 218.721 Q77.1819 216.985 74.08 216.985 Q71.881 216.985 69.4273 217.749 Q66.9967 218.512 64.219 220.063 L64.219 215.341 Q67.043 214.207 69.4967 213.628 Q71.9504 213.05 73.9874 213.05 Q79.3578 213.05 82.5522 215.735 Q85.7466 218.42 85.7466 222.911 Q85.7466 225.04 84.9365 226.962 Q84.1494 228.86 82.0429 231.452 Q81.4642 232.124 78.3624 235.341 Q75.2606 238.536 69.6125 244.299 Z\" fill=\"#000000\" fill-rule=\"evenodd\" fill-opacity=\"1\" /><path clip-path=\"url(#clip920)\" d=\"M 0 0 M91.0475 213.675 L109.404 213.675 L109.404 217.61 L95.3299 217.61 L95.3299 226.082 Q96.3484 225.735 97.3669 225.573 Q98.3855 225.387 99.404 225.387 Q105.191 225.387 108.571 228.559 Q111.95 231.73 111.95 237.147 Q111.95 242.725 108.478 245.827 Q105.006 248.906 98.6864 248.906 Q96.5105 248.906 94.242 248.535 Q91.9966 248.165 89.5892 247.424 L89.5892 242.725 Q91.6725 243.86 93.8947 244.415 Q96.1169 244.971 98.5938 244.971 Q102.598 244.971 104.936 242.864 Q107.274 240.758 107.274 237.147 Q107.274 233.536 104.936 231.429 Q102.598 229.323 98.5938 229.323 Q96.7188 229.323 94.8438 229.739 Q92.992 230.156 91.0475 231.036 L91.0475 213.675 Z\" fill=\"#000000\" fill-rule=\"evenodd\" fill-opacity=\"1\" /><polyline clip-path=\"url(#clip922)\" style=\"stroke:#009af9; stroke-width:0; stroke-opacity:1; fill:none\" points=\"\n",
       "  922.611,973.001 1109.43,878.236 1208.03,772.942 1433.77,656.564 1794.43,397.763 574.921,1225.15 1511.61,582.304 1703.61,474.793 1719.18,470.36 1942.33,315.744 \n",
       "  198.69,1445.72 406.266,1289.99 356.967,1342.64 1335.17,684.827 1581.66,546.837 2191.42,151.153 2082.44,212.112 948.558,939.75 1060.13,904.837 1981.25,282.493 \n",
       "  1161.32,846.648 2002,261.989 1895.62,361.187 2017.57,278.06 2004.6,290.252 932.989,991.843 502.27,1221.27 281.72,1368.68 2290.02,87.9763 2186.23,162.79 \n",
       "  \n",
       "  \"/>\n",
       "<circle clip-path=\"url(#clip922)\" cx=\"922.611\" cy=\"973.001\" r=\"14\" fill=\"#009af9\" fill-rule=\"evenodd\" fill-opacity=\"1\" stroke=\"#000000\" stroke-opacity=\"1\" stroke-width=\"3.2\"/>\n",
       "<circle clip-path=\"url(#clip922)\" cx=\"1109.43\" cy=\"878.236\" r=\"14\" fill=\"#009af9\" fill-rule=\"evenodd\" fill-opacity=\"1\" stroke=\"#000000\" stroke-opacity=\"1\" stroke-width=\"3.2\"/>\n",
       "<circle clip-path=\"url(#clip922)\" cx=\"1208.03\" cy=\"772.942\" r=\"14\" fill=\"#009af9\" fill-rule=\"evenodd\" fill-opacity=\"1\" stroke=\"#000000\" stroke-opacity=\"1\" stroke-width=\"3.2\"/>\n",
       "<circle clip-path=\"url(#clip922)\" cx=\"1433.77\" cy=\"656.564\" r=\"14\" fill=\"#009af9\" fill-rule=\"evenodd\" fill-opacity=\"1\" stroke=\"#000000\" stroke-opacity=\"1\" stroke-width=\"3.2\"/>\n",
       "<circle clip-path=\"url(#clip922)\" cx=\"1794.43\" cy=\"397.763\" r=\"14\" fill=\"#009af9\" fill-rule=\"evenodd\" fill-opacity=\"1\" stroke=\"#000000\" stroke-opacity=\"1\" stroke-width=\"3.2\"/>\n",
       "<circle clip-path=\"url(#clip922)\" cx=\"574.921\" cy=\"1225.15\" r=\"14\" fill=\"#009af9\" fill-rule=\"evenodd\" fill-opacity=\"1\" stroke=\"#000000\" stroke-opacity=\"1\" stroke-width=\"3.2\"/>\n",
       "<circle clip-path=\"url(#clip922)\" cx=\"1511.61\" cy=\"582.304\" r=\"14\" fill=\"#009af9\" fill-rule=\"evenodd\" fill-opacity=\"1\" stroke=\"#000000\" stroke-opacity=\"1\" stroke-width=\"3.2\"/>\n",
       "<circle clip-path=\"url(#clip922)\" cx=\"1703.61\" cy=\"474.793\" r=\"14\" fill=\"#009af9\" fill-rule=\"evenodd\" fill-opacity=\"1\" stroke=\"#000000\" stroke-opacity=\"1\" stroke-width=\"3.2\"/>\n",
       "<circle clip-path=\"url(#clip922)\" cx=\"1719.18\" cy=\"470.36\" r=\"14\" fill=\"#009af9\" fill-rule=\"evenodd\" fill-opacity=\"1\" stroke=\"#000000\" stroke-opacity=\"1\" stroke-width=\"3.2\"/>\n",
       "<circle clip-path=\"url(#clip922)\" cx=\"1942.33\" cy=\"315.744\" r=\"14\" fill=\"#009af9\" fill-rule=\"evenodd\" fill-opacity=\"1\" stroke=\"#000000\" stroke-opacity=\"1\" stroke-width=\"3.2\"/>\n",
       "<circle clip-path=\"url(#clip922)\" cx=\"198.69\" cy=\"1445.72\" r=\"14\" fill=\"#009af9\" fill-rule=\"evenodd\" fill-opacity=\"1\" stroke=\"#000000\" stroke-opacity=\"1\" stroke-width=\"3.2\"/>\n",
       "<circle clip-path=\"url(#clip922)\" cx=\"406.266\" cy=\"1289.99\" r=\"14\" fill=\"#009af9\" fill-rule=\"evenodd\" fill-opacity=\"1\" stroke=\"#000000\" stroke-opacity=\"1\" stroke-width=\"3.2\"/>\n",
       "<circle clip-path=\"url(#clip922)\" cx=\"356.967\" cy=\"1342.64\" r=\"14\" fill=\"#009af9\" fill-rule=\"evenodd\" fill-opacity=\"1\" stroke=\"#000000\" stroke-opacity=\"1\" stroke-width=\"3.2\"/>\n",
       "<circle clip-path=\"url(#clip922)\" cx=\"1335.17\" cy=\"684.827\" r=\"14\" fill=\"#009af9\" fill-rule=\"evenodd\" fill-opacity=\"1\" stroke=\"#000000\" stroke-opacity=\"1\" stroke-width=\"3.2\"/>\n",
       "<circle clip-path=\"url(#clip922)\" cx=\"1581.66\" cy=\"546.837\" r=\"14\" fill=\"#009af9\" fill-rule=\"evenodd\" fill-opacity=\"1\" stroke=\"#000000\" stroke-opacity=\"1\" stroke-width=\"3.2\"/>\n",
       "<circle clip-path=\"url(#clip922)\" cx=\"2191.42\" cy=\"151.153\" r=\"14\" fill=\"#009af9\" fill-rule=\"evenodd\" fill-opacity=\"1\" stroke=\"#000000\" stroke-opacity=\"1\" stroke-width=\"3.2\"/>\n",
       "<circle clip-path=\"url(#clip922)\" cx=\"2082.44\" cy=\"212.112\" r=\"14\" fill=\"#009af9\" fill-rule=\"evenodd\" fill-opacity=\"1\" stroke=\"#000000\" stroke-opacity=\"1\" stroke-width=\"3.2\"/>\n",
       "<circle clip-path=\"url(#clip922)\" cx=\"948.558\" cy=\"939.75\" r=\"14\" fill=\"#009af9\" fill-rule=\"evenodd\" fill-opacity=\"1\" stroke=\"#000000\" stroke-opacity=\"1\" stroke-width=\"3.2\"/>\n",
       "<circle clip-path=\"url(#clip922)\" cx=\"1060.13\" cy=\"904.837\" r=\"14\" fill=\"#009af9\" fill-rule=\"evenodd\" fill-opacity=\"1\" stroke=\"#000000\" stroke-opacity=\"1\" stroke-width=\"3.2\"/>\n",
       "<circle clip-path=\"url(#clip922)\" cx=\"1981.25\" cy=\"282.493\" r=\"14\" fill=\"#009af9\" fill-rule=\"evenodd\" fill-opacity=\"1\" stroke=\"#000000\" stroke-opacity=\"1\" stroke-width=\"3.2\"/>\n",
       "<circle clip-path=\"url(#clip922)\" cx=\"1161.32\" cy=\"846.648\" r=\"14\" fill=\"#009af9\" fill-rule=\"evenodd\" fill-opacity=\"1\" stroke=\"#000000\" stroke-opacity=\"1\" stroke-width=\"3.2\"/>\n",
       "<circle clip-path=\"url(#clip922)\" cx=\"2002\" cy=\"261.989\" r=\"14\" fill=\"#009af9\" fill-rule=\"evenodd\" fill-opacity=\"1\" stroke=\"#000000\" stroke-opacity=\"1\" stroke-width=\"3.2\"/>\n",
       "<circle clip-path=\"url(#clip922)\" cx=\"1895.62\" cy=\"361.187\" r=\"14\" fill=\"#009af9\" fill-rule=\"evenodd\" fill-opacity=\"1\" stroke=\"#000000\" stroke-opacity=\"1\" stroke-width=\"3.2\"/>\n",
       "<circle clip-path=\"url(#clip922)\" cx=\"2017.57\" cy=\"278.06\" r=\"14\" fill=\"#009af9\" fill-rule=\"evenodd\" fill-opacity=\"1\" stroke=\"#000000\" stroke-opacity=\"1\" stroke-width=\"3.2\"/>\n",
       "<circle clip-path=\"url(#clip922)\" cx=\"2004.6\" cy=\"290.252\" r=\"14\" fill=\"#009af9\" fill-rule=\"evenodd\" fill-opacity=\"1\" stroke=\"#000000\" stroke-opacity=\"1\" stroke-width=\"3.2\"/>\n",
       "<circle clip-path=\"url(#clip922)\" cx=\"932.989\" cy=\"991.843\" r=\"14\" fill=\"#009af9\" fill-rule=\"evenodd\" fill-opacity=\"1\" stroke=\"#000000\" stroke-opacity=\"1\" stroke-width=\"3.2\"/>\n",
       "<circle clip-path=\"url(#clip922)\" cx=\"502.27\" cy=\"1221.27\" r=\"14\" fill=\"#009af9\" fill-rule=\"evenodd\" fill-opacity=\"1\" stroke=\"#000000\" stroke-opacity=\"1\" stroke-width=\"3.2\"/>\n",
       "<circle clip-path=\"url(#clip922)\" cx=\"281.72\" cy=\"1368.68\" r=\"14\" fill=\"#009af9\" fill-rule=\"evenodd\" fill-opacity=\"1\" stroke=\"#000000\" stroke-opacity=\"1\" stroke-width=\"3.2\"/>\n",
       "<circle clip-path=\"url(#clip922)\" cx=\"2290.02\" cy=\"87.9763\" r=\"14\" fill=\"#009af9\" fill-rule=\"evenodd\" fill-opacity=\"1\" stroke=\"#000000\" stroke-opacity=\"1\" stroke-width=\"3.2\"/>\n",
       "<circle clip-path=\"url(#clip922)\" cx=\"2186.23\" cy=\"162.79\" r=\"14\" fill=\"#009af9\" fill-rule=\"evenodd\" fill-opacity=\"1\" stroke=\"#000000\" stroke-opacity=\"1\" stroke-width=\"3.2\"/>\n",
       "</svg>\n"
      ]
     },
     "execution_count": 3,
     "metadata": {},
     "output_type": "execute_result"
    }
   ],
   "source": [
    "plot(x_corr1,y_corr1,line=:false,marker=:circle,leg=:false)"
   ]
  },
  {
   "cell_type": "markdown",
   "metadata": {},
   "source": [
    "* **Correlación débil:** si intentamos ajustar una recta a los puntos del diagrama de dispersión, estos puntos quedarán muy lejos de la recta."
   ]
  },
  {
   "cell_type": "code",
   "execution_count": 5,
   "metadata": {},
   "outputs": [],
   "source": [
    "x_corr2=rand(0.:0.01:10.,30)\n",
    "y_corr2=rand(0.:0.01:10.,30);"
   ]
  },
  {
   "cell_type": "code",
   "execution_count": 6,
   "metadata": {},
   "outputs": [
    {
     "data": {
      "image/svg+xml": [
       "<?xml version=\"1.0\" encoding=\"utf-8\"?>\n",
       "<svg xmlns=\"http://www.w3.org/2000/svg\" xmlns:xlink=\"http://www.w3.org/1999/xlink\" width=\"600\" height=\"400\" viewBox=\"0 0 2400 1600\">\n",
       "<defs>\n",
       "  <clipPath id=\"clip400\">\n",
       "    <rect x=\"0\" y=\"0\" width=\"2400\" height=\"1600\"/>\n",
       "  </clipPath>\n",
       "</defs>\n",
       "<path clip-path=\"url(#clip400)\" d=\"\n",
       "M0 1600 L2400 1600 L2400 0 L0 0  Z\n",
       "  \" fill=\"#ffffff\" fill-rule=\"evenodd\" fill-opacity=\"1\"/>\n",
       "<defs>\n",
       "  <clipPath id=\"clip401\">\n",
       "    <rect x=\"480\" y=\"0\" width=\"1681\" height=\"1600\"/>\n",
       "  </clipPath>\n",
       "</defs>\n",
       "<path clip-path=\"url(#clip400)\" d=\"\n",
       "M112.177 1486.45 L2352.76 1486.45 L2352.76 47.2441 L112.177 47.2441  Z\n",
       "  \" fill=\"#ffffff\" fill-rule=\"evenodd\" fill-opacity=\"1\"/>\n",
       "<defs>\n",
       "  <clipPath id=\"clip402\">\n",
       "    <rect x=\"112\" y=\"47\" width=\"2242\" height=\"1440\"/>\n",
       "  </clipPath>\n",
       "</defs>\n",
       "<polyline clip-path=\"url(#clip402)\" style=\"stroke:#000000; stroke-width:2; stroke-opacity:0.1; fill:none\" points=\"\n",
       "  542.703,1486.45 542.703,47.2441 \n",
       "  \"/>\n",
       "<polyline clip-path=\"url(#clip402)\" style=\"stroke:#000000; stroke-width:2; stroke-opacity:0.1; fill:none\" points=\"\n",
       "  998.745,1486.45 998.745,47.2441 \n",
       "  \"/>\n",
       "<polyline clip-path=\"url(#clip402)\" style=\"stroke:#000000; stroke-width:2; stroke-opacity:0.1; fill:none\" points=\"\n",
       "  1454.79,1486.45 1454.79,47.2441 \n",
       "  \"/>\n",
       "<polyline clip-path=\"url(#clip402)\" style=\"stroke:#000000; stroke-width:2; stroke-opacity:0.1; fill:none\" points=\"\n",
       "  1910.83,1486.45 1910.83,47.2441 \n",
       "  \"/>\n",
       "<polyline clip-path=\"url(#clip402)\" style=\"stroke:#000000; stroke-width:2; stroke-opacity:0.1; fill:none\" points=\"\n",
       "  112.177,1196.6 2352.76,1196.6 \n",
       "  \"/>\n",
       "<polyline clip-path=\"url(#clip402)\" style=\"stroke:#000000; stroke-width:2; stroke-opacity:0.1; fill:none\" points=\"\n",
       "  112.177,905.242 2352.76,905.242 \n",
       "  \"/>\n",
       "<polyline clip-path=\"url(#clip402)\" style=\"stroke:#000000; stroke-width:2; stroke-opacity:0.1; fill:none\" points=\"\n",
       "  112.177,613.882 2352.76,613.882 \n",
       "  \"/>\n",
       "<polyline clip-path=\"url(#clip402)\" style=\"stroke:#000000; stroke-width:2; stroke-opacity:0.1; fill:none\" points=\"\n",
       "  112.177,322.521 2352.76,322.521 \n",
       "  \"/>\n",
       "<polyline clip-path=\"url(#clip400)\" style=\"stroke:#000000; stroke-width:4; stroke-opacity:1; fill:none\" points=\"\n",
       "  112.177,1486.45 2352.76,1486.45 \n",
       "  \"/>\n",
       "<polyline clip-path=\"url(#clip400)\" style=\"stroke:#000000; stroke-width:4; stroke-opacity:1; fill:none\" points=\"\n",
       "  112.177,1486.45 112.177,47.2441 \n",
       "  \"/>\n",
       "<polyline clip-path=\"url(#clip400)\" style=\"stroke:#000000; stroke-width:4; stroke-opacity:1; fill:none\" points=\"\n",
       "  542.703,1486.45 542.703,1469.18 \n",
       "  \"/>\n",
       "<polyline clip-path=\"url(#clip400)\" style=\"stroke:#000000; stroke-width:4; stroke-opacity:1; fill:none\" points=\"\n",
       "  998.745,1486.45 998.745,1469.18 \n",
       "  \"/>\n",
       "<polyline clip-path=\"url(#clip400)\" style=\"stroke:#000000; stroke-width:4; stroke-opacity:1; fill:none\" points=\"\n",
       "  1454.79,1486.45 1454.79,1469.18 \n",
       "  \"/>\n",
       "<polyline clip-path=\"url(#clip400)\" style=\"stroke:#000000; stroke-width:4; stroke-opacity:1; fill:none\" points=\"\n",
       "  1910.83,1486.45 1910.83,1469.18 \n",
       "  \"/>\n",
       "<polyline clip-path=\"url(#clip400)\" style=\"stroke:#000000; stroke-width:4; stroke-opacity:1; fill:none\" points=\"\n",
       "  112.177,1196.6 139.064,1196.6 \n",
       "  \"/>\n",
       "<polyline clip-path=\"url(#clip400)\" style=\"stroke:#000000; stroke-width:4; stroke-opacity:1; fill:none\" points=\"\n",
       "  112.177,905.242 139.064,905.242 \n",
       "  \"/>\n",
       "<polyline clip-path=\"url(#clip400)\" style=\"stroke:#000000; stroke-width:4; stroke-opacity:1; fill:none\" points=\"\n",
       "  112.177,613.882 139.064,613.882 \n",
       "  \"/>\n",
       "<polyline clip-path=\"url(#clip400)\" style=\"stroke:#000000; stroke-width:4; stroke-opacity:1; fill:none\" points=\"\n",
       "  112.177,322.521 139.064,322.521 \n",
       "  \"/>\n",
       "<path clip-path=\"url(#clip400)\" d=\"M 0 0 M537.356 1535.98 L553.676 1535.98 L553.676 1539.92 L531.731 1539.92 L531.731 1535.98 Q534.393 1533.23 538.977 1528.6 Q543.583 1523.95 544.764 1522.61 Q547.009 1520.08 547.889 1518.35 Q548.791 1516.59 548.791 1514.9 Q548.791 1512.14 546.847 1510.41 Q544.926 1508.67 541.824 1508.67 Q539.625 1508.67 537.171 1509.43 Q534.74 1510.2 531.963 1511.75 L531.963 1507.03 Q534.787 1505.89 537.24 1505.31 Q539.694 1504.73 541.731 1504.73 Q547.102 1504.73 550.296 1507.42 Q553.49 1510.11 553.49 1514.6 Q553.49 1516.73 552.68 1518.65 Q551.893 1520.54 549.787 1523.14 Q549.208 1523.81 546.106 1527.03 Q543.004 1530.22 537.356 1535.98 Z\" fill=\"#000000\" fill-rule=\"evenodd\" fill-opacity=\"1\" /><path clip-path=\"url(#clip400)\" d=\"M 0 0 M1001.75 1509.43 L989.949 1527.88 L1001.75 1527.88 L1001.75 1509.43 M1000.53 1505.36 L1006.41 1505.36 L1006.41 1527.88 L1011.34 1527.88 L1011.34 1531.77 L1006.41 1531.77 L1006.41 1539.92 L1001.75 1539.92 L1001.75 1531.77 L986.153 1531.77 L986.153 1527.26 L1000.53 1505.36 Z\" fill=\"#000000\" fill-rule=\"evenodd\" fill-opacity=\"1\" /><path clip-path=\"url(#clip400)\" d=\"M 0 0 M1455.19 1520.78 Q1452.04 1520.78 1450.19 1522.93 Q1448.36 1525.08 1448.36 1528.83 Q1448.36 1532.56 1450.19 1534.73 Q1452.04 1536.89 1455.19 1536.89 Q1458.34 1536.89 1460.17 1534.73 Q1462.02 1532.56 1462.02 1528.83 Q1462.02 1525.08 1460.17 1522.93 Q1458.34 1520.78 1455.19 1520.78 M1464.47 1506.12 L1464.47 1510.38 Q1462.72 1509.55 1460.91 1509.11 Q1459.13 1508.67 1457.37 1508.67 Q1452.74 1508.67 1450.28 1511.8 Q1447.85 1514.92 1447.51 1521.24 Q1448.87 1519.23 1450.93 1518.16 Q1452.99 1517.07 1455.47 1517.07 Q1460.68 1517.07 1463.69 1520.24 Q1466.72 1523.39 1466.72 1528.83 Q1466.72 1534.16 1463.57 1537.37 Q1460.42 1540.59 1455.19 1540.59 Q1449.2 1540.59 1446.03 1536.01 Q1442.85 1531.4 1442.85 1522.67 Q1442.85 1514.48 1446.74 1509.62 Q1450.63 1504.73 1457.18 1504.73 Q1458.94 1504.73 1460.72 1505.08 Q1462.53 1505.43 1464.47 1506.12 Z\" fill=\"#000000\" fill-rule=\"evenodd\" fill-opacity=\"1\" /><path clip-path=\"url(#clip400)\" d=\"M 0 0 M1910.83 1523.51 Q1907.5 1523.51 1905.57 1525.29 Q1903.68 1527.07 1903.68 1530.2 Q1903.68 1533.32 1905.57 1535.11 Q1907.5 1536.89 1910.83 1536.89 Q1914.16 1536.89 1916.08 1535.11 Q1918 1533.3 1918 1530.2 Q1918 1527.07 1916.08 1525.29 Q1914.19 1523.51 1910.83 1523.51 M1906.15 1521.52 Q1903.14 1520.78 1901.45 1518.72 Q1899.79 1516.66 1899.79 1513.69 Q1899.79 1509.55 1902.73 1507.14 Q1905.69 1504.73 1910.83 1504.73 Q1915.99 1504.73 1918.93 1507.14 Q1921.87 1509.55 1921.87 1513.69 Q1921.87 1516.66 1920.18 1518.72 Q1918.51 1520.78 1915.53 1521.52 Q1918.91 1522.3 1920.78 1524.6 Q1922.68 1526.89 1922.68 1530.2 Q1922.68 1535.22 1919.6 1537.91 Q1916.55 1540.59 1910.83 1540.59 Q1905.11 1540.59 1902.03 1537.91 Q1898.98 1535.22 1898.98 1530.2 Q1898.98 1526.89 1900.87 1524.6 Q1902.77 1522.3 1906.15 1521.52 M1904.44 1514.13 Q1904.44 1516.82 1906.11 1518.32 Q1907.8 1519.83 1910.83 1519.83 Q1913.84 1519.83 1915.53 1518.32 Q1917.24 1516.82 1917.24 1514.13 Q1917.24 1511.45 1915.53 1509.94 Q1913.84 1508.44 1910.83 1508.44 Q1907.8 1508.44 1906.11 1509.94 Q1904.44 1511.45 1904.44 1514.13 Z\" fill=\"#000000\" fill-rule=\"evenodd\" fill-opacity=\"1\" /><path clip-path=\"url(#clip400)\" d=\"M 0 0 M71.8578 1209.95 L88.1772 1209.95 L88.1772 1213.88 L66.2328 1213.88 L66.2328 1209.95 Q68.8949 1207.19 73.4782 1202.56 Q78.0846 1197.91 79.2652 1196.57 Q81.5105 1194.04 82.3902 1192.31 Q83.2929 1190.55 83.2929 1188.86 Q83.2929 1186.1 81.3485 1184.37 Q79.4272 1182.63 76.3254 1182.63 Q74.1263 1182.63 71.6726 1183.4 Q69.2421 1184.16 66.4643 1185.71 L66.4643 1180.99 Q69.2884 1179.85 71.7421 1179.28 Q74.1958 1178.7 76.2328 1178.7 Q81.6031 1178.7 84.7976 1181.38 Q87.992 1184.07 87.992 1188.56 Q87.992 1190.69 87.1818 1192.61 Q86.3948 1194.51 84.2883 1197.1 Q83.7096 1197.77 80.6078 1200.99 Q77.5059 1204.18 71.8578 1209.95 Z\" fill=\"#000000\" fill-rule=\"evenodd\" fill-opacity=\"1\" /><path clip-path=\"url(#clip400)\" d=\"M 0 0 M78.5939 892.036 L66.7884 910.485 L78.5939 910.485 L78.5939 892.036 M77.367 887.962 L83.2466 887.962 L83.2466 910.485 L88.1772 910.485 L88.1772 914.374 L83.2466 914.374 L83.2466 922.522 L78.5939 922.522 L78.5939 914.374 L62.9921 914.374 L62.9921 909.86 L77.367 887.962 Z\" fill=\"#000000\" fill-rule=\"evenodd\" fill-opacity=\"1\" /><path clip-path=\"url(#clip400)\" d=\"M 0 0 M76.6495 612.018 Q73.5013 612.018 71.6495 614.171 Q69.8208 616.324 69.8208 620.074 Q69.8208 623.801 71.6495 625.977 Q73.5013 628.129 76.6495 628.129 Q79.7976 628.129 81.6263 625.977 Q83.4781 623.801 83.4781 620.074 Q83.4781 616.324 81.6263 614.171 Q79.7976 612.018 76.6495 612.018 M85.9318 597.366 L85.9318 601.625 Q84.1726 600.792 82.367 600.352 Q80.5846 599.912 78.8254 599.912 Q74.1958 599.912 71.7421 603.037 Q69.3115 606.162 68.9643 612.481 Q70.33 610.467 72.3902 609.403 Q74.4504 608.315 76.9272 608.315 Q82.1355 608.315 85.1448 611.486 Q88.1772 614.634 88.1772 620.074 Q88.1772 625.398 85.029 628.615 Q81.8809 631.833 76.6495 631.833 Q70.6541 631.833 67.4828 627.25 Q64.3116 622.643 64.3116 613.917 Q64.3116 605.722 68.2004 600.861 Q72.0893 595.977 78.6402 595.977 Q80.3994 595.977 82.1818 596.324 Q83.9874 596.671 85.9318 597.366 Z\" fill=\"#000000\" fill-rule=\"evenodd\" fill-opacity=\"1\" /><path clip-path=\"url(#clip400)\" d=\"M 0 0 M76.3254 323.389 Q72.9921 323.389 71.0708 325.172 Q69.1726 326.954 69.1726 330.079 Q69.1726 333.204 71.0708 334.987 Q72.9921 336.769 76.3254 336.769 Q79.6587 336.769 81.58 334.987 Q83.5013 333.181 83.5013 330.079 Q83.5013 326.954 81.58 325.172 Q79.6819 323.389 76.3254 323.389 M71.6495 321.399 Q68.6402 320.658 66.9504 318.598 Q65.2838 316.538 65.2838 313.575 Q65.2838 309.431 68.2236 307.024 Q71.1865 304.616 76.3254 304.616 Q81.4874 304.616 84.4272 307.024 Q87.367 309.431 87.367 313.575 Q87.367 316.538 85.6772 318.598 Q84.0105 320.658 81.0244 321.399 Q84.404 322.186 86.279 324.477 Q88.1772 326.769 88.1772 330.079 Q88.1772 335.102 85.0985 337.788 Q82.0429 340.473 76.3254 340.473 Q70.6078 340.473 67.5291 337.788 Q64.4736 335.102 64.4736 330.079 Q64.4736 326.769 66.3717 324.477 Q68.2699 322.186 71.6495 321.399 M69.9365 314.014 Q69.9365 316.7 71.6032 318.204 Q73.293 319.709 76.3254 319.709 Q79.3346 319.709 81.0244 318.204 Q82.7374 316.7 82.7374 314.014 Q82.7374 311.329 81.0244 309.825 Q79.3346 308.32 76.3254 308.32 Q73.293 308.32 71.6032 309.825 Q69.9365 311.329 69.9365 314.014 Z\" fill=\"#000000\" fill-rule=\"evenodd\" fill-opacity=\"1\" /><polyline clip-path=\"url(#clip402)\" style=\"stroke:#009af9; stroke-width:0; stroke-opacity:1; fill:none\" points=\"\n",
       "  1783.14,344.373 524.462,98.1739 1473.03,564.351 2054.48,935.835 1883.47,214.718 1796.82,574.548 298.721,1420.95 1598.44,437.609 1317.97,976.625 1876.63,1445.72 \n",
       "  640.752,849.884 394.49,347.287 2141.13,1378.7 1967.83,1368.51 1488.99,1375.79 980.503,803.266 399.05,657.586 1714.73,667.783 481.138,184.125 1860.66,1027.61 \n",
       "  1441.11,654.672 1764.9,1298.58 1295.17,1227.2 670.395,663.413 1142.4,659.043 175.59,1310.23 1771.74,791.612 433.253,1113.56 2289.34,87.9763 2246.02,695.463 \n",
       "  \n",
       "  \"/>\n",
       "<circle clip-path=\"url(#clip402)\" cx=\"1783.14\" cy=\"344.373\" r=\"14\" fill=\"#009af9\" fill-rule=\"evenodd\" fill-opacity=\"1\" stroke=\"#000000\" stroke-opacity=\"1\" stroke-width=\"3.2\"/>\n",
       "<circle clip-path=\"url(#clip402)\" cx=\"524.462\" cy=\"98.1739\" r=\"14\" fill=\"#009af9\" fill-rule=\"evenodd\" fill-opacity=\"1\" stroke=\"#000000\" stroke-opacity=\"1\" stroke-width=\"3.2\"/>\n",
       "<circle clip-path=\"url(#clip402)\" cx=\"1473.03\" cy=\"564.351\" r=\"14\" fill=\"#009af9\" fill-rule=\"evenodd\" fill-opacity=\"1\" stroke=\"#000000\" stroke-opacity=\"1\" stroke-width=\"3.2\"/>\n",
       "<circle clip-path=\"url(#clip402)\" cx=\"2054.48\" cy=\"935.835\" r=\"14\" fill=\"#009af9\" fill-rule=\"evenodd\" fill-opacity=\"1\" stroke=\"#000000\" stroke-opacity=\"1\" stroke-width=\"3.2\"/>\n",
       "<circle clip-path=\"url(#clip402)\" cx=\"1883.47\" cy=\"214.718\" r=\"14\" fill=\"#009af9\" fill-rule=\"evenodd\" fill-opacity=\"1\" stroke=\"#000000\" stroke-opacity=\"1\" stroke-width=\"3.2\"/>\n",
       "<circle clip-path=\"url(#clip402)\" cx=\"1796.82\" cy=\"574.548\" r=\"14\" fill=\"#009af9\" fill-rule=\"evenodd\" fill-opacity=\"1\" stroke=\"#000000\" stroke-opacity=\"1\" stroke-width=\"3.2\"/>\n",
       "<circle clip-path=\"url(#clip402)\" cx=\"298.721\" cy=\"1420.95\" r=\"14\" fill=\"#009af9\" fill-rule=\"evenodd\" fill-opacity=\"1\" stroke=\"#000000\" stroke-opacity=\"1\" stroke-width=\"3.2\"/>\n",
       "<circle clip-path=\"url(#clip402)\" cx=\"1598.44\" cy=\"437.609\" r=\"14\" fill=\"#009af9\" fill-rule=\"evenodd\" fill-opacity=\"1\" stroke=\"#000000\" stroke-opacity=\"1\" stroke-width=\"3.2\"/>\n",
       "<circle clip-path=\"url(#clip402)\" cx=\"1317.97\" cy=\"976.625\" r=\"14\" fill=\"#009af9\" fill-rule=\"evenodd\" fill-opacity=\"1\" stroke=\"#000000\" stroke-opacity=\"1\" stroke-width=\"3.2\"/>\n",
       "<circle clip-path=\"url(#clip402)\" cx=\"1876.63\" cy=\"1445.72\" r=\"14\" fill=\"#009af9\" fill-rule=\"evenodd\" fill-opacity=\"1\" stroke=\"#000000\" stroke-opacity=\"1\" stroke-width=\"3.2\"/>\n",
       "<circle clip-path=\"url(#clip402)\" cx=\"640.752\" cy=\"849.884\" r=\"14\" fill=\"#009af9\" fill-rule=\"evenodd\" fill-opacity=\"1\" stroke=\"#000000\" stroke-opacity=\"1\" stroke-width=\"3.2\"/>\n",
       "<circle clip-path=\"url(#clip402)\" cx=\"394.49\" cy=\"347.287\" r=\"14\" fill=\"#009af9\" fill-rule=\"evenodd\" fill-opacity=\"1\" stroke=\"#000000\" stroke-opacity=\"1\" stroke-width=\"3.2\"/>\n",
       "<circle clip-path=\"url(#clip402)\" cx=\"2141.13\" cy=\"1378.7\" r=\"14\" fill=\"#009af9\" fill-rule=\"evenodd\" fill-opacity=\"1\" stroke=\"#000000\" stroke-opacity=\"1\" stroke-width=\"3.2\"/>\n",
       "<circle clip-path=\"url(#clip402)\" cx=\"1967.83\" cy=\"1368.51\" r=\"14\" fill=\"#009af9\" fill-rule=\"evenodd\" fill-opacity=\"1\" stroke=\"#000000\" stroke-opacity=\"1\" stroke-width=\"3.2\"/>\n",
       "<circle clip-path=\"url(#clip402)\" cx=\"1488.99\" cy=\"1375.79\" r=\"14\" fill=\"#009af9\" fill-rule=\"evenodd\" fill-opacity=\"1\" stroke=\"#000000\" stroke-opacity=\"1\" stroke-width=\"3.2\"/>\n",
       "<circle clip-path=\"url(#clip402)\" cx=\"980.503\" cy=\"803.266\" r=\"14\" fill=\"#009af9\" fill-rule=\"evenodd\" fill-opacity=\"1\" stroke=\"#000000\" stroke-opacity=\"1\" stroke-width=\"3.2\"/>\n",
       "<circle clip-path=\"url(#clip402)\" cx=\"399.05\" cy=\"657.586\" r=\"14\" fill=\"#009af9\" fill-rule=\"evenodd\" fill-opacity=\"1\" stroke=\"#000000\" stroke-opacity=\"1\" stroke-width=\"3.2\"/>\n",
       "<circle clip-path=\"url(#clip402)\" cx=\"1714.73\" cy=\"667.783\" r=\"14\" fill=\"#009af9\" fill-rule=\"evenodd\" fill-opacity=\"1\" stroke=\"#000000\" stroke-opacity=\"1\" stroke-width=\"3.2\"/>\n",
       "<circle clip-path=\"url(#clip402)\" cx=\"481.138\" cy=\"184.125\" r=\"14\" fill=\"#009af9\" fill-rule=\"evenodd\" fill-opacity=\"1\" stroke=\"#000000\" stroke-opacity=\"1\" stroke-width=\"3.2\"/>\n",
       "<circle clip-path=\"url(#clip402)\" cx=\"1860.66\" cy=\"1027.61\" r=\"14\" fill=\"#009af9\" fill-rule=\"evenodd\" fill-opacity=\"1\" stroke=\"#000000\" stroke-opacity=\"1\" stroke-width=\"3.2\"/>\n",
       "<circle clip-path=\"url(#clip402)\" cx=\"1441.11\" cy=\"654.672\" r=\"14\" fill=\"#009af9\" fill-rule=\"evenodd\" fill-opacity=\"1\" stroke=\"#000000\" stroke-opacity=\"1\" stroke-width=\"3.2\"/>\n",
       "<circle clip-path=\"url(#clip402)\" cx=\"1764.9\" cy=\"1298.58\" r=\"14\" fill=\"#009af9\" fill-rule=\"evenodd\" fill-opacity=\"1\" stroke=\"#000000\" stroke-opacity=\"1\" stroke-width=\"3.2\"/>\n",
       "<circle clip-path=\"url(#clip402)\" cx=\"1295.17\" cy=\"1227.2\" r=\"14\" fill=\"#009af9\" fill-rule=\"evenodd\" fill-opacity=\"1\" stroke=\"#000000\" stroke-opacity=\"1\" stroke-width=\"3.2\"/>\n",
       "<circle clip-path=\"url(#clip402)\" cx=\"670.395\" cy=\"663.413\" r=\"14\" fill=\"#009af9\" fill-rule=\"evenodd\" fill-opacity=\"1\" stroke=\"#000000\" stroke-opacity=\"1\" stroke-width=\"3.2\"/>\n",
       "<circle clip-path=\"url(#clip402)\" cx=\"1142.4\" cy=\"659.043\" r=\"14\" fill=\"#009af9\" fill-rule=\"evenodd\" fill-opacity=\"1\" stroke=\"#000000\" stroke-opacity=\"1\" stroke-width=\"3.2\"/>\n",
       "<circle clip-path=\"url(#clip402)\" cx=\"175.59\" cy=\"1310.23\" r=\"14\" fill=\"#009af9\" fill-rule=\"evenodd\" fill-opacity=\"1\" stroke=\"#000000\" stroke-opacity=\"1\" stroke-width=\"3.2\"/>\n",
       "<circle clip-path=\"url(#clip402)\" cx=\"1771.74\" cy=\"791.612\" r=\"14\" fill=\"#009af9\" fill-rule=\"evenodd\" fill-opacity=\"1\" stroke=\"#000000\" stroke-opacity=\"1\" stroke-width=\"3.2\"/>\n",
       "<circle clip-path=\"url(#clip402)\" cx=\"433.253\" cy=\"1113.56\" r=\"14\" fill=\"#009af9\" fill-rule=\"evenodd\" fill-opacity=\"1\" stroke=\"#000000\" stroke-opacity=\"1\" stroke-width=\"3.2\"/>\n",
       "<circle clip-path=\"url(#clip402)\" cx=\"2289.34\" cy=\"87.9763\" r=\"14\" fill=\"#009af9\" fill-rule=\"evenodd\" fill-opacity=\"1\" stroke=\"#000000\" stroke-opacity=\"1\" stroke-width=\"3.2\"/>\n",
       "<circle clip-path=\"url(#clip402)\" cx=\"2246.02\" cy=\"695.463\" r=\"14\" fill=\"#009af9\" fill-rule=\"evenodd\" fill-opacity=\"1\" stroke=\"#000000\" stroke-opacity=\"1\" stroke-width=\"3.2\"/>\n",
       "</svg>\n"
      ]
     },
     "execution_count": 6,
     "metadata": {},
     "output_type": "execute_result"
    }
   ],
   "source": [
    "plot(x_corr2,y_corr2,line=:false,marker=:circle,leg=:false)"
   ]
  },
  {
   "cell_type": "markdown",
   "metadata": {},
   "source": [
    "* **Correlación positiva:** la recta, que tratamos de ajustar a los puntos en el diagrama de dispersión, tiene pendiente positiva."
   ]
  },
  {
   "cell_type": "code",
   "execution_count": 7,
   "metadata": {},
   "outputs": [],
   "source": [
    "x_corr3=rand(0.:0.01:10.,30)\n",
    "y_corr3=2x_corr3.+5+rand(-4.:0.01:4.,30);"
   ]
  },
  {
   "cell_type": "code",
   "execution_count": 8,
   "metadata": {},
   "outputs": [
    {
     "data": {
      "image/svg+xml": [
       "<?xml version=\"1.0\" encoding=\"utf-8\"?>\n",
       "<svg xmlns=\"http://www.w3.org/2000/svg\" xmlns:xlink=\"http://www.w3.org/1999/xlink\" width=\"600\" height=\"400\" viewBox=\"0 0 2400 1600\">\n",
       "<defs>\n",
       "  <clipPath id=\"clip440\">\n",
       "    <rect x=\"0\" y=\"0\" width=\"2400\" height=\"1600\"/>\n",
       "  </clipPath>\n",
       "</defs>\n",
       "<path clip-path=\"url(#clip440)\" d=\"\n",
       "M0 1600 L2400 1600 L2400 0 L0 0  Z\n",
       "  \" fill=\"#ffffff\" fill-rule=\"evenodd\" fill-opacity=\"1\"/>\n",
       "<defs>\n",
       "  <clipPath id=\"clip441\">\n",
       "    <rect x=\"480\" y=\"0\" width=\"1681\" height=\"1600\"/>\n",
       "  </clipPath>\n",
       "</defs>\n",
       "<path clip-path=\"url(#clip440)\" d=\"\n",
       "M135.95 1486.45 L2352.76 1486.45 L2352.76 47.2441 L135.95 47.2441  Z\n",
       "  \" fill=\"#ffffff\" fill-rule=\"evenodd\" fill-opacity=\"1\"/>\n",
       "<defs>\n",
       "  <clipPath id=\"clip442\">\n",
       "    <rect x=\"135\" y=\"47\" width=\"2218\" height=\"1440\"/>\n",
       "  </clipPath>\n",
       "</defs>\n",
       "<polyline clip-path=\"url(#clip442)\" style=\"stroke:#000000; stroke-width:2; stroke-opacity:0.1; fill:none\" points=\"\n",
       "  531.557,1486.45 531.557,47.2441 \n",
       "  \"/>\n",
       "<polyline clip-path=\"url(#clip442)\" style=\"stroke:#000000; stroke-width:2; stroke-opacity:0.1; fill:none\" points=\"\n",
       "  990.685,1486.45 990.685,47.2441 \n",
       "  \"/>\n",
       "<polyline clip-path=\"url(#clip442)\" style=\"stroke:#000000; stroke-width:2; stroke-opacity:0.1; fill:none\" points=\"\n",
       "  1449.81,1486.45 1449.81,47.2441 \n",
       "  \"/>\n",
       "<polyline clip-path=\"url(#clip442)\" style=\"stroke:#000000; stroke-width:2; stroke-opacity:0.1; fill:none\" points=\"\n",
       "  1908.94,1486.45 1908.94,47.2441 \n",
       "  \"/>\n",
       "<polyline clip-path=\"url(#clip442)\" style=\"stroke:#000000; stroke-width:2; stroke-opacity:0.1; fill:none\" points=\"\n",
       "  135.95,1336.43 2352.76,1336.43 \n",
       "  \"/>\n",
       "<polyline clip-path=\"url(#clip442)\" style=\"stroke:#000000; stroke-width:2; stroke-opacity:0.1; fill:none\" points=\"\n",
       "  135.95,1060.47 2352.76,1060.47 \n",
       "  \"/>\n",
       "<polyline clip-path=\"url(#clip442)\" style=\"stroke:#000000; stroke-width:2; stroke-opacity:0.1; fill:none\" points=\"\n",
       "  135.95,784.508 2352.76,784.508 \n",
       "  \"/>\n",
       "<polyline clip-path=\"url(#clip442)\" style=\"stroke:#000000; stroke-width:2; stroke-opacity:0.1; fill:none\" points=\"\n",
       "  135.95,508.544 2352.76,508.544 \n",
       "  \"/>\n",
       "<polyline clip-path=\"url(#clip442)\" style=\"stroke:#000000; stroke-width:2; stroke-opacity:0.1; fill:none\" points=\"\n",
       "  135.95,232.581 2352.76,232.581 \n",
       "  \"/>\n",
       "<polyline clip-path=\"url(#clip440)\" style=\"stroke:#000000; stroke-width:4; stroke-opacity:1; fill:none\" points=\"\n",
       "  135.95,1486.45 2352.76,1486.45 \n",
       "  \"/>\n",
       "<polyline clip-path=\"url(#clip440)\" style=\"stroke:#000000; stroke-width:4; stroke-opacity:1; fill:none\" points=\"\n",
       "  135.95,1486.45 135.95,47.2441 \n",
       "  \"/>\n",
       "<polyline clip-path=\"url(#clip440)\" style=\"stroke:#000000; stroke-width:4; stroke-opacity:1; fill:none\" points=\"\n",
       "  531.557,1486.45 531.557,1469.18 \n",
       "  \"/>\n",
       "<polyline clip-path=\"url(#clip440)\" style=\"stroke:#000000; stroke-width:4; stroke-opacity:1; fill:none\" points=\"\n",
       "  990.685,1486.45 990.685,1469.18 \n",
       "  \"/>\n",
       "<polyline clip-path=\"url(#clip440)\" style=\"stroke:#000000; stroke-width:4; stroke-opacity:1; fill:none\" points=\"\n",
       "  1449.81,1486.45 1449.81,1469.18 \n",
       "  \"/>\n",
       "<polyline clip-path=\"url(#clip440)\" style=\"stroke:#000000; stroke-width:4; stroke-opacity:1; fill:none\" points=\"\n",
       "  1908.94,1486.45 1908.94,1469.18 \n",
       "  \"/>\n",
       "<polyline clip-path=\"url(#clip440)\" style=\"stroke:#000000; stroke-width:4; stroke-opacity:1; fill:none\" points=\"\n",
       "  135.95,1336.43 162.552,1336.43 \n",
       "  \"/>\n",
       "<polyline clip-path=\"url(#clip440)\" style=\"stroke:#000000; stroke-width:4; stroke-opacity:1; fill:none\" points=\"\n",
       "  135.95,1060.47 162.552,1060.47 \n",
       "  \"/>\n",
       "<polyline clip-path=\"url(#clip440)\" style=\"stroke:#000000; stroke-width:4; stroke-opacity:1; fill:none\" points=\"\n",
       "  135.95,784.508 162.552,784.508 \n",
       "  \"/>\n",
       "<polyline clip-path=\"url(#clip440)\" style=\"stroke:#000000; stroke-width:4; stroke-opacity:1; fill:none\" points=\"\n",
       "  135.95,508.544 162.552,508.544 \n",
       "  \"/>\n",
       "<polyline clip-path=\"url(#clip440)\" style=\"stroke:#000000; stroke-width:4; stroke-opacity:1; fill:none\" points=\"\n",
       "  135.95,232.581 162.552,232.581 \n",
       "  \"/>\n",
       "<path clip-path=\"url(#clip440)\" d=\"M 0 0 M526.21 1535.98 L542.53 1535.98 L542.53 1539.92 L520.585 1539.92 L520.585 1535.98 Q523.247 1533.23 527.831 1528.6 Q532.437 1523.95 533.618 1522.61 Q535.863 1520.08 536.743 1518.35 Q537.645 1516.59 537.645 1514.9 Q537.645 1512.14 535.701 1510.41 Q533.78 1508.67 530.678 1508.67 Q528.479 1508.67 526.025 1509.43 Q523.595 1510.2 520.817 1511.75 L520.817 1507.03 Q523.641 1505.89 526.095 1505.31 Q528.548 1504.73 530.585 1504.73 Q535.956 1504.73 539.15 1507.42 Q542.344 1510.11 542.344 1514.6 Q542.344 1516.73 541.534 1518.65 Q540.747 1520.54 538.641 1523.14 Q538.062 1523.81 534.96 1527.03 Q531.858 1530.22 526.21 1535.98 Z\" fill=\"#000000\" fill-rule=\"evenodd\" fill-opacity=\"1\" /><path clip-path=\"url(#clip440)\" d=\"M 0 0 M993.694 1509.43 L981.889 1527.88 L993.694 1527.88 L993.694 1509.43 M992.467 1505.36 L998.347 1505.36 L998.347 1527.88 L1003.28 1527.88 L1003.28 1531.77 L998.347 1531.77 L998.347 1539.92 L993.694 1539.92 L993.694 1531.77 L978.093 1531.77 L978.093 1527.26 L992.467 1505.36 Z\" fill=\"#000000\" fill-rule=\"evenodd\" fill-opacity=\"1\" /><path clip-path=\"url(#clip440)\" d=\"M 0 0 M1450.22 1520.78 Q1447.07 1520.78 1445.22 1522.93 Q1443.39 1525.08 1443.39 1528.83 Q1443.39 1532.56 1445.22 1534.73 Q1447.07 1536.89 1450.22 1536.89 Q1453.37 1536.89 1455.19 1534.73 Q1457.05 1532.56 1457.05 1528.83 Q1457.05 1525.08 1455.19 1522.93 Q1453.37 1520.78 1450.22 1520.78 M1459.5 1506.12 L1459.5 1510.38 Q1457.74 1509.55 1455.94 1509.11 Q1454.15 1508.67 1452.39 1508.67 Q1447.76 1508.67 1445.31 1511.8 Q1442.88 1514.92 1442.53 1521.24 Q1443.9 1519.23 1445.96 1518.16 Q1448.02 1517.07 1450.5 1517.07 Q1455.7 1517.07 1458.71 1520.24 Q1461.75 1523.39 1461.75 1528.83 Q1461.75 1534.16 1458.6 1537.37 Q1455.45 1540.59 1450.22 1540.59 Q1444.22 1540.59 1441.05 1536.01 Q1437.88 1531.4 1437.88 1522.67 Q1437.88 1514.48 1441.77 1509.62 Q1445.66 1504.73 1452.21 1504.73 Q1453.97 1504.73 1455.75 1505.08 Q1457.56 1505.43 1459.5 1506.12 Z\" fill=\"#000000\" fill-rule=\"evenodd\" fill-opacity=\"1\" /><path clip-path=\"url(#clip440)\" d=\"M 0 0 M1908.94 1523.51 Q1905.61 1523.51 1903.69 1525.29 Q1901.79 1527.07 1901.79 1530.2 Q1901.79 1533.32 1903.69 1535.11 Q1905.61 1536.89 1908.94 1536.89 Q1912.27 1536.89 1914.19 1535.11 Q1916.12 1533.3 1916.12 1530.2 Q1916.12 1527.07 1914.19 1525.29 Q1912.3 1523.51 1908.94 1523.51 M1904.26 1521.52 Q1901.26 1520.78 1899.57 1518.72 Q1897.9 1516.66 1897.9 1513.69 Q1897.9 1509.55 1900.84 1507.14 Q1903.8 1504.73 1908.94 1504.73 Q1914.1 1504.73 1917.04 1507.14 Q1919.98 1509.55 1919.98 1513.69 Q1919.98 1516.66 1918.29 1518.72 Q1916.63 1520.78 1913.64 1521.52 Q1917.02 1522.3 1918.89 1524.6 Q1920.79 1526.89 1920.79 1530.2 Q1920.79 1535.22 1917.71 1537.91 Q1914.66 1540.59 1908.94 1540.59 Q1903.22 1540.59 1900.14 1537.91 Q1897.09 1535.22 1897.09 1530.2 Q1897.09 1526.89 1898.99 1524.6 Q1900.88 1522.3 1904.26 1521.52 M1902.55 1514.13 Q1902.55 1516.82 1904.22 1518.32 Q1905.91 1519.83 1908.94 1519.83 Q1911.95 1519.83 1913.64 1518.32 Q1915.35 1516.82 1915.35 1514.13 Q1915.35 1511.45 1913.64 1509.94 Q1911.95 1508.44 1908.94 1508.44 Q1905.91 1508.44 1904.22 1509.94 Q1902.55 1511.45 1902.55 1514.13 Z\" fill=\"#000000\" fill-rule=\"evenodd\" fill-opacity=\"1\" /><path clip-path=\"url(#clip440)\" d=\"M 0 0 M91.0475 1319.15 L109.404 1319.15 L109.404 1323.09 L95.3299 1323.09 L95.3299 1331.56 Q96.3484 1331.21 97.3669 1331.05 Q98.3855 1330.87 99.404 1330.87 Q105.191 1330.87 108.571 1334.04 Q111.95 1337.21 111.95 1342.63 Q111.95 1348.2 108.478 1351.31 Q105.006 1354.39 98.6864 1354.39 Q96.5105 1354.39 94.242 1354.02 Q91.9966 1353.64 89.5892 1352.9 L89.5892 1348.2 Q91.6725 1349.34 93.8947 1349.89 Q96.1169 1350.45 98.5938 1350.45 Q102.598 1350.45 104.936 1348.34 Q107.274 1346.24 107.274 1342.63 Q107.274 1339.02 104.936 1336.91 Q102.598 1334.8 98.5938 1334.8 Q96.7188 1334.8 94.8438 1335.22 Q92.992 1335.64 91.0475 1336.52 L91.0475 1319.15 Z\" fill=\"#000000\" fill-rule=\"evenodd\" fill-opacity=\"1\" /><path clip-path=\"url(#clip440)\" d=\"M 0 0 M65.0292 1073.82 L72.668 1073.82 L72.668 1047.45 L64.3579 1049.12 L64.3579 1044.86 L72.6217 1043.19 L77.2976 1043.19 L77.2976 1073.82 L84.9365 1073.82 L84.9365 1077.75 L65.0292 1077.75 L65.0292 1073.82 Z\" fill=\"#000000\" fill-rule=\"evenodd\" fill-opacity=\"1\" /><path clip-path=\"url(#clip440)\" d=\"M 0 0 M100.006 1046.27 Q96.3947 1046.27 94.566 1049.83 Q92.7605 1053.38 92.7605 1060.51 Q92.7605 1067.61 94.566 1071.18 Q96.3947 1074.72 100.006 1074.72 Q103.64 1074.72 105.446 1071.18 Q107.274 1067.61 107.274 1060.51 Q107.274 1053.38 105.446 1049.83 Q103.64 1046.27 100.006 1046.27 M100.006 1042.57 Q105.816 1042.57 108.872 1047.17 Q111.95 1051.76 111.95 1060.51 Q111.95 1069.23 108.872 1073.84 Q105.816 1078.42 100.006 1078.42 Q94.1957 1078.42 91.117 1073.84 Q88.0614 1069.23 88.0614 1060.51 Q88.0614 1051.76 91.117 1047.17 Q94.1957 1042.57 100.006 1042.57 Z\" fill=\"#000000\" fill-rule=\"evenodd\" fill-opacity=\"1\" /><path clip-path=\"url(#clip440)\" d=\"M 0 0 M66.0245 797.852 L73.6634 797.852 L73.6634 771.487 L65.3532 773.154 L65.3532 768.894 L73.6171 767.228 L78.293 767.228 L78.293 797.852 L85.9318 797.852 L85.9318 801.788 L66.0245 801.788 L66.0245 797.852 Z\" fill=\"#000000\" fill-rule=\"evenodd\" fill-opacity=\"1\" /><path clip-path=\"url(#clip440)\" d=\"M 0 0 M91.0475 767.228 L109.404 767.228 L109.404 771.163 L95.3299 771.163 L95.3299 779.635 Q96.3484 779.288 97.3669 779.126 Q98.3855 778.941 99.404 778.941 Q105.191 778.941 108.571 782.112 Q111.95 785.283 111.95 790.7 Q111.95 796.278 108.478 799.38 Q105.006 802.459 98.6864 802.459 Q96.5105 802.459 94.242 802.089 Q91.9966 801.718 89.5892 800.977 L89.5892 796.278 Q91.6725 797.413 93.8947 797.968 Q96.1169 798.524 98.5938 798.524 Q102.598 798.524 104.936 796.417 Q107.274 794.311 107.274 790.7 Q107.274 787.089 104.936 784.982 Q102.598 782.876 98.5938 782.876 Q96.7188 782.876 94.8438 783.292 Q92.992 783.709 91.0475 784.589 L91.0475 767.228 Z\" fill=\"#000000\" fill-rule=\"evenodd\" fill-opacity=\"1\" /><path clip-path=\"url(#clip440)\" d=\"M 0 0 M68.6171 521.889 L84.9365 521.889 L84.9365 525.824 L62.9921 525.824 L62.9921 521.889 Q65.6541 519.135 70.2375 514.505 Q74.8439 509.852 76.0245 508.51 Q78.2698 505.986 79.1494 504.25 Q80.0522 502.491 80.0522 500.801 Q80.0522 498.047 78.1078 496.311 Q76.1865 494.575 73.0847 494.575 Q70.8856 494.575 68.4319 495.338 Q66.0014 496.102 63.2236 497.653 L63.2236 492.931 Q66.0477 491.797 68.5014 491.218 Q70.955 490.639 72.9921 490.639 Q78.3624 490.639 81.5568 493.325 Q84.7513 496.01 84.7513 500.5 Q84.7513 502.63 83.9411 504.551 Q83.1541 506.449 81.0476 509.042 Q80.4689 509.713 77.367 512.931 Q74.2652 516.125 68.6171 521.889 Z\" fill=\"#000000\" fill-rule=\"evenodd\" fill-opacity=\"1\" /><path clip-path=\"url(#clip440)\" d=\"M 0 0 M100.006 494.343 Q96.3947 494.343 94.566 497.908 Q92.7605 501.449 92.7605 508.579 Q92.7605 515.686 94.566 519.25 Q96.3947 522.792 100.006 522.792 Q103.64 522.792 105.446 519.25 Q107.274 515.686 107.274 508.579 Q107.274 501.449 105.446 497.908 Q103.64 494.343 100.006 494.343 M100.006 490.639 Q105.816 490.639 108.872 495.246 Q111.95 499.829 111.95 508.579 Q111.95 517.306 108.872 521.912 Q105.816 526.496 100.006 526.496 Q94.1957 526.496 91.117 521.912 Q88.0614 517.306 88.0614 508.579 Q88.0614 499.829 91.117 495.246 Q94.1957 490.639 100.006 490.639 Z\" fill=\"#000000\" fill-rule=\"evenodd\" fill-opacity=\"1\" /><path clip-path=\"url(#clip440)\" d=\"M 0 0 M69.6125 245.926 L85.9318 245.926 L85.9318 249.861 L63.9875 249.861 L63.9875 245.926 Q66.6495 243.171 71.2328 238.542 Q75.8393 233.889 77.0198 232.546 Q79.2652 230.023 80.1448 228.287 Q81.0476 226.528 81.0476 224.838 Q81.0476 222.083 79.1032 220.347 Q77.1819 218.611 74.08 218.611 Q71.881 218.611 69.4273 219.375 Q66.9967 220.139 64.219 221.69 L64.219 216.968 Q67.043 215.833 69.4967 215.255 Q71.9504 214.676 73.9874 214.676 Q79.3578 214.676 82.5522 217.361 Q85.7466 220.046 85.7466 224.537 Q85.7466 226.667 84.9365 228.588 Q84.1494 230.486 82.0429 233.079 Q81.4642 233.75 78.3624 236.968 Q75.2606 240.162 69.6125 245.926 Z\" fill=\"#000000\" fill-rule=\"evenodd\" fill-opacity=\"1\" /><path clip-path=\"url(#clip440)\" d=\"M 0 0 M91.0475 215.301 L109.404 215.301 L109.404 219.236 L95.3299 219.236 L95.3299 227.708 Q96.3484 227.361 97.3669 227.199 Q98.3855 227.014 99.404 227.014 Q105.191 227.014 108.571 230.185 Q111.95 233.357 111.95 238.773 Q111.95 244.352 108.478 247.454 Q105.006 250.532 98.6864 250.532 Q96.5105 250.532 94.242 250.162 Q91.9966 249.792 89.5892 249.051 L89.5892 244.352 Q91.6725 245.486 93.8947 246.042 Q96.1169 246.597 98.5938 246.597 Q102.598 246.597 104.936 244.491 Q107.274 242.384 107.274 238.773 Q107.274 235.162 104.936 233.056 Q102.598 230.949 98.5938 230.949 Q96.7188 230.949 94.8438 231.366 Q92.992 231.782 91.0475 232.662 L91.0475 215.301 Z\" fill=\"#000000\" fill-rule=\"evenodd\" fill-opacity=\"1\" /><polyline clip-path=\"url(#clip442)\" style=\"stroke:#009af9; stroke-width:0; stroke-opacity:1; fill:none\" points=\"\n",
       "  832.286,1099.66 1128.42,685.713 221.646,1445.72 958.546,758.567 1982.4,543.316 1573.78,744.769 1025.12,664.74 1245.5,849.635 1256.98,952.293 1084.81,712.205 \n",
       "  905.746,716.621 1144.49,712.757 903.451,1117.87 1185.81,708.894 891.973,988.72 1842.37,432.93 722.095,1097.45 2099.48,321.441 1155.97,996.999 1530.16,464.942 \n",
       "  655.522,1142.71 361.68,1028.46 979.207,739.802 1061.85,694.544 1238.61,748.632 198.69,1363.48 1387.83,713.861 2290.02,264.041 2248.69,87.9763 637.157,1054.95 \n",
       "  \n",
       "  \"/>\n",
       "<circle clip-path=\"url(#clip442)\" cx=\"832.286\" cy=\"1099.66\" r=\"14\" fill=\"#009af9\" fill-rule=\"evenodd\" fill-opacity=\"1\" stroke=\"#000000\" stroke-opacity=\"1\" stroke-width=\"3.2\"/>\n",
       "<circle clip-path=\"url(#clip442)\" cx=\"1128.42\" cy=\"685.713\" r=\"14\" fill=\"#009af9\" fill-rule=\"evenodd\" fill-opacity=\"1\" stroke=\"#000000\" stroke-opacity=\"1\" stroke-width=\"3.2\"/>\n",
       "<circle clip-path=\"url(#clip442)\" cx=\"221.646\" cy=\"1445.72\" r=\"14\" fill=\"#009af9\" fill-rule=\"evenodd\" fill-opacity=\"1\" stroke=\"#000000\" stroke-opacity=\"1\" stroke-width=\"3.2\"/>\n",
       "<circle clip-path=\"url(#clip442)\" cx=\"958.546\" cy=\"758.567\" r=\"14\" fill=\"#009af9\" fill-rule=\"evenodd\" fill-opacity=\"1\" stroke=\"#000000\" stroke-opacity=\"1\" stroke-width=\"3.2\"/>\n",
       "<circle clip-path=\"url(#clip442)\" cx=\"1982.4\" cy=\"543.316\" r=\"14\" fill=\"#009af9\" fill-rule=\"evenodd\" fill-opacity=\"1\" stroke=\"#000000\" stroke-opacity=\"1\" stroke-width=\"3.2\"/>\n",
       "<circle clip-path=\"url(#clip442)\" cx=\"1573.78\" cy=\"744.769\" r=\"14\" fill=\"#009af9\" fill-rule=\"evenodd\" fill-opacity=\"1\" stroke=\"#000000\" stroke-opacity=\"1\" stroke-width=\"3.2\"/>\n",
       "<circle clip-path=\"url(#clip442)\" cx=\"1025.12\" cy=\"664.74\" r=\"14\" fill=\"#009af9\" fill-rule=\"evenodd\" fill-opacity=\"1\" stroke=\"#000000\" stroke-opacity=\"1\" stroke-width=\"3.2\"/>\n",
       "<circle clip-path=\"url(#clip442)\" cx=\"1245.5\" cy=\"849.635\" r=\"14\" fill=\"#009af9\" fill-rule=\"evenodd\" fill-opacity=\"1\" stroke=\"#000000\" stroke-opacity=\"1\" stroke-width=\"3.2\"/>\n",
       "<circle clip-path=\"url(#clip442)\" cx=\"1256.98\" cy=\"952.293\" r=\"14\" fill=\"#009af9\" fill-rule=\"evenodd\" fill-opacity=\"1\" stroke=\"#000000\" stroke-opacity=\"1\" stroke-width=\"3.2\"/>\n",
       "<circle clip-path=\"url(#clip442)\" cx=\"1084.81\" cy=\"712.205\" r=\"14\" fill=\"#009af9\" fill-rule=\"evenodd\" fill-opacity=\"1\" stroke=\"#000000\" stroke-opacity=\"1\" stroke-width=\"3.2\"/>\n",
       "<circle clip-path=\"url(#clip442)\" cx=\"905.746\" cy=\"716.621\" r=\"14\" fill=\"#009af9\" fill-rule=\"evenodd\" fill-opacity=\"1\" stroke=\"#000000\" stroke-opacity=\"1\" stroke-width=\"3.2\"/>\n",
       "<circle clip-path=\"url(#clip442)\" cx=\"1144.49\" cy=\"712.757\" r=\"14\" fill=\"#009af9\" fill-rule=\"evenodd\" fill-opacity=\"1\" stroke=\"#000000\" stroke-opacity=\"1\" stroke-width=\"3.2\"/>\n",
       "<circle clip-path=\"url(#clip442)\" cx=\"903.451\" cy=\"1117.87\" r=\"14\" fill=\"#009af9\" fill-rule=\"evenodd\" fill-opacity=\"1\" stroke=\"#000000\" stroke-opacity=\"1\" stroke-width=\"3.2\"/>\n",
       "<circle clip-path=\"url(#clip442)\" cx=\"1185.81\" cy=\"708.894\" r=\"14\" fill=\"#009af9\" fill-rule=\"evenodd\" fill-opacity=\"1\" stroke=\"#000000\" stroke-opacity=\"1\" stroke-width=\"3.2\"/>\n",
       "<circle clip-path=\"url(#clip442)\" cx=\"891.973\" cy=\"988.72\" r=\"14\" fill=\"#009af9\" fill-rule=\"evenodd\" fill-opacity=\"1\" stroke=\"#000000\" stroke-opacity=\"1\" stroke-width=\"3.2\"/>\n",
       "<circle clip-path=\"url(#clip442)\" cx=\"1842.37\" cy=\"432.93\" r=\"14\" fill=\"#009af9\" fill-rule=\"evenodd\" fill-opacity=\"1\" stroke=\"#000000\" stroke-opacity=\"1\" stroke-width=\"3.2\"/>\n",
       "<circle clip-path=\"url(#clip442)\" cx=\"722.095\" cy=\"1097.45\" r=\"14\" fill=\"#009af9\" fill-rule=\"evenodd\" fill-opacity=\"1\" stroke=\"#000000\" stroke-opacity=\"1\" stroke-width=\"3.2\"/>\n",
       "<circle clip-path=\"url(#clip442)\" cx=\"2099.48\" cy=\"321.441\" r=\"14\" fill=\"#009af9\" fill-rule=\"evenodd\" fill-opacity=\"1\" stroke=\"#000000\" stroke-opacity=\"1\" stroke-width=\"3.2\"/>\n",
       "<circle clip-path=\"url(#clip442)\" cx=\"1155.97\" cy=\"996.999\" r=\"14\" fill=\"#009af9\" fill-rule=\"evenodd\" fill-opacity=\"1\" stroke=\"#000000\" stroke-opacity=\"1\" stroke-width=\"3.2\"/>\n",
       "<circle clip-path=\"url(#clip442)\" cx=\"1530.16\" cy=\"464.942\" r=\"14\" fill=\"#009af9\" fill-rule=\"evenodd\" fill-opacity=\"1\" stroke=\"#000000\" stroke-opacity=\"1\" stroke-width=\"3.2\"/>\n",
       "<circle clip-path=\"url(#clip442)\" cx=\"655.522\" cy=\"1142.71\" r=\"14\" fill=\"#009af9\" fill-rule=\"evenodd\" fill-opacity=\"1\" stroke=\"#000000\" stroke-opacity=\"1\" stroke-width=\"3.2\"/>\n",
       "<circle clip-path=\"url(#clip442)\" cx=\"361.68\" cy=\"1028.46\" r=\"14\" fill=\"#009af9\" fill-rule=\"evenodd\" fill-opacity=\"1\" stroke=\"#000000\" stroke-opacity=\"1\" stroke-width=\"3.2\"/>\n",
       "<circle clip-path=\"url(#clip442)\" cx=\"979.207\" cy=\"739.802\" r=\"14\" fill=\"#009af9\" fill-rule=\"evenodd\" fill-opacity=\"1\" stroke=\"#000000\" stroke-opacity=\"1\" stroke-width=\"3.2\"/>\n",
       "<circle clip-path=\"url(#clip442)\" cx=\"1061.85\" cy=\"694.544\" r=\"14\" fill=\"#009af9\" fill-rule=\"evenodd\" fill-opacity=\"1\" stroke=\"#000000\" stroke-opacity=\"1\" stroke-width=\"3.2\"/>\n",
       "<circle clip-path=\"url(#clip442)\" cx=\"1238.61\" cy=\"748.632\" r=\"14\" fill=\"#009af9\" fill-rule=\"evenodd\" fill-opacity=\"1\" stroke=\"#000000\" stroke-opacity=\"1\" stroke-width=\"3.2\"/>\n",
       "<circle clip-path=\"url(#clip442)\" cx=\"198.69\" cy=\"1363.48\" r=\"14\" fill=\"#009af9\" fill-rule=\"evenodd\" fill-opacity=\"1\" stroke=\"#000000\" stroke-opacity=\"1\" stroke-width=\"3.2\"/>\n",
       "<circle clip-path=\"url(#clip442)\" cx=\"1387.83\" cy=\"713.861\" r=\"14\" fill=\"#009af9\" fill-rule=\"evenodd\" fill-opacity=\"1\" stroke=\"#000000\" stroke-opacity=\"1\" stroke-width=\"3.2\"/>\n",
       "<circle clip-path=\"url(#clip442)\" cx=\"2290.02\" cy=\"264.041\" r=\"14\" fill=\"#009af9\" fill-rule=\"evenodd\" fill-opacity=\"1\" stroke=\"#000000\" stroke-opacity=\"1\" stroke-width=\"3.2\"/>\n",
       "<circle clip-path=\"url(#clip442)\" cx=\"2248.69\" cy=\"87.9763\" r=\"14\" fill=\"#009af9\" fill-rule=\"evenodd\" fill-opacity=\"1\" stroke=\"#000000\" stroke-opacity=\"1\" stroke-width=\"3.2\"/>\n",
       "<circle clip-path=\"url(#clip442)\" cx=\"637.157\" cy=\"1054.95\" r=\"14\" fill=\"#009af9\" fill-rule=\"evenodd\" fill-opacity=\"1\" stroke=\"#000000\" stroke-opacity=\"1\" stroke-width=\"3.2\"/>\n",
       "</svg>\n"
      ]
     },
     "execution_count": 8,
     "metadata": {},
     "output_type": "execute_result"
    }
   ],
   "source": [
    "plot(x_corr3,y_corr3,line=:false,marker=:circle,leg=:false)"
   ]
  },
  {
   "cell_type": "markdown",
   "metadata": {},
   "source": [
    "* **Correlación negativa:** la recta, que tratamos de ajustar a los puntos en el diagrama de dispersión, tiene pendiente negativa."
   ]
  },
  {
   "cell_type": "code",
   "execution_count": 9,
   "metadata": {},
   "outputs": [],
   "source": [
    "x_corr4=rand(0.:0.01:10.,30)\n",
    "y_corr4=-x_corr4.+2+rand(-4.:0.01:4.,30);"
   ]
  },
  {
   "cell_type": "code",
   "execution_count": 10,
   "metadata": {},
   "outputs": [
    {
     "data": {
      "image/svg+xml": [
       "<?xml version=\"1.0\" encoding=\"utf-8\"?>\n",
       "<svg xmlns=\"http://www.w3.org/2000/svg\" xmlns:xlink=\"http://www.w3.org/1999/xlink\" width=\"600\" height=\"400\" viewBox=\"0 0 2400 1600\">\n",
       "<defs>\n",
       "  <clipPath id=\"clip480\">\n",
       "    <rect x=\"0\" y=\"0\" width=\"2400\" height=\"1600\"/>\n",
       "  </clipPath>\n",
       "</defs>\n",
       "<path clip-path=\"url(#clip480)\" d=\"\n",
       "M0 1600 L2400 1600 L2400 0 L0 0  Z\n",
       "  \" fill=\"#ffffff\" fill-rule=\"evenodd\" fill-opacity=\"1\"/>\n",
       "<defs>\n",
       "  <clipPath id=\"clip481\">\n",
       "    <rect x=\"480\" y=\"0\" width=\"1681\" height=\"1600\"/>\n",
       "  </clipPath>\n",
       "</defs>\n",
       "<path clip-path=\"url(#clip480)\" d=\"\n",
       "M126.645 1486.45 L2352.76 1486.45 L2352.76 47.2441 L126.645 47.2441  Z\n",
       "  \" fill=\"#ffffff\" fill-rule=\"evenodd\" fill-opacity=\"1\"/>\n",
       "<defs>\n",
       "  <clipPath id=\"clip482\">\n",
       "    <rect x=\"126\" y=\"47\" width=\"2227\" height=\"1440\"/>\n",
       "  </clipPath>\n",
       "</defs>\n",
       "<polyline clip-path=\"url(#clip482)\" style=\"stroke:#000000; stroke-width:2; stroke-opacity:0.1; fill:none\" points=\"\n",
       "  580.02,1486.45 580.02,47.2441 \n",
       "  \"/>\n",
       "<polyline clip-path=\"url(#clip482)\" style=\"stroke:#000000; stroke-width:2; stroke-opacity:0.1; fill:none\" points=\"\n",
       "  1074.16,1486.45 1074.16,47.2441 \n",
       "  \"/>\n",
       "<polyline clip-path=\"url(#clip482)\" style=\"stroke:#000000; stroke-width:2; stroke-opacity:0.1; fill:none\" points=\"\n",
       "  1568.3,1486.45 1568.3,47.2441 \n",
       "  \"/>\n",
       "<polyline clip-path=\"url(#clip482)\" style=\"stroke:#000000; stroke-width:2; stroke-opacity:0.1; fill:none\" points=\"\n",
       "  2062.45,1486.45 2062.45,47.2441 \n",
       "  \"/>\n",
       "<polyline clip-path=\"url(#clip482)\" style=\"stroke:#000000; stroke-width:2; stroke-opacity:0.1; fill:none\" points=\"\n",
       "  126.645,1365.54 2352.76,1365.54 \n",
       "  \"/>\n",
       "<polyline clip-path=\"url(#clip482)\" style=\"stroke:#000000; stroke-width:2; stroke-opacity:0.1; fill:none\" points=\"\n",
       "  126.645,1101.21 2352.76,1101.21 \n",
       "  \"/>\n",
       "<polyline clip-path=\"url(#clip482)\" style=\"stroke:#000000; stroke-width:2; stroke-opacity:0.1; fill:none\" points=\"\n",
       "  126.645,836.892 2352.76,836.892 \n",
       "  \"/>\n",
       "<polyline clip-path=\"url(#clip482)\" style=\"stroke:#000000; stroke-width:2; stroke-opacity:0.1; fill:none\" points=\"\n",
       "  126.645,572.569 2352.76,572.569 \n",
       "  \"/>\n",
       "<polyline clip-path=\"url(#clip482)\" style=\"stroke:#000000; stroke-width:2; stroke-opacity:0.1; fill:none\" points=\"\n",
       "  126.645,308.245 2352.76,308.245 \n",
       "  \"/>\n",
       "<polyline clip-path=\"url(#clip480)\" style=\"stroke:#000000; stroke-width:4; stroke-opacity:1; fill:none\" points=\"\n",
       "  126.645,1486.45 2352.76,1486.45 \n",
       "  \"/>\n",
       "<polyline clip-path=\"url(#clip480)\" style=\"stroke:#000000; stroke-width:4; stroke-opacity:1; fill:none\" points=\"\n",
       "  126.645,1486.45 126.645,47.2441 \n",
       "  \"/>\n",
       "<polyline clip-path=\"url(#clip480)\" style=\"stroke:#000000; stroke-width:4; stroke-opacity:1; fill:none\" points=\"\n",
       "  580.02,1486.45 580.02,1469.18 \n",
       "  \"/>\n",
       "<polyline clip-path=\"url(#clip480)\" style=\"stroke:#000000; stroke-width:4; stroke-opacity:1; fill:none\" points=\"\n",
       "  1074.16,1486.45 1074.16,1469.18 \n",
       "  \"/>\n",
       "<polyline clip-path=\"url(#clip480)\" style=\"stroke:#000000; stroke-width:4; stroke-opacity:1; fill:none\" points=\"\n",
       "  1568.3,1486.45 1568.3,1469.18 \n",
       "  \"/>\n",
       "<polyline clip-path=\"url(#clip480)\" style=\"stroke:#000000; stroke-width:4; stroke-opacity:1; fill:none\" points=\"\n",
       "  2062.45,1486.45 2062.45,1469.18 \n",
       "  \"/>\n",
       "<polyline clip-path=\"url(#clip480)\" style=\"stroke:#000000; stroke-width:4; stroke-opacity:1; fill:none\" points=\"\n",
       "  126.645,1365.54 153.358,1365.54 \n",
       "  \"/>\n",
       "<polyline clip-path=\"url(#clip480)\" style=\"stroke:#000000; stroke-width:4; stroke-opacity:1; fill:none\" points=\"\n",
       "  126.645,1101.21 153.358,1101.21 \n",
       "  \"/>\n",
       "<polyline clip-path=\"url(#clip480)\" style=\"stroke:#000000; stroke-width:4; stroke-opacity:1; fill:none\" points=\"\n",
       "  126.645,836.892 153.358,836.892 \n",
       "  \"/>\n",
       "<polyline clip-path=\"url(#clip480)\" style=\"stroke:#000000; stroke-width:4; stroke-opacity:1; fill:none\" points=\"\n",
       "  126.645,572.569 153.358,572.569 \n",
       "  \"/>\n",
       "<polyline clip-path=\"url(#clip480)\" style=\"stroke:#000000; stroke-width:4; stroke-opacity:1; fill:none\" points=\"\n",
       "  126.645,308.245 153.358,308.245 \n",
       "  \"/>\n",
       "<path clip-path=\"url(#clip480)\" d=\"M 0 0 M574.673 1535.98 L590.992 1535.98 L590.992 1539.92 L569.048 1539.92 L569.048 1535.98 Q571.71 1533.23 576.293 1528.6 Q580.9 1523.95 582.08 1522.61 Q584.326 1520.08 585.205 1518.35 Q586.108 1516.59 586.108 1514.9 Q586.108 1512.14 584.164 1510.41 Q582.242 1508.67 579.141 1508.67 Q576.942 1508.67 574.488 1509.43 Q572.057 1510.2 569.28 1511.75 L569.28 1507.03 Q572.104 1505.89 574.557 1505.31 Q577.011 1504.73 579.048 1504.73 Q584.418 1504.73 587.613 1507.42 Q590.807 1510.11 590.807 1514.6 Q590.807 1516.73 589.997 1518.65 Q589.21 1520.54 587.104 1523.14 Q586.525 1523.81 583.423 1527.03 Q580.321 1530.22 574.673 1535.98 Z\" fill=\"#000000\" fill-rule=\"evenodd\" fill-opacity=\"1\" /><path clip-path=\"url(#clip480)\" d=\"M 0 0 M1077.17 1509.43 L1065.37 1527.88 L1077.17 1527.88 L1077.17 1509.43 M1075.95 1505.36 L1081.82 1505.36 L1081.82 1527.88 L1086.76 1527.88 L1086.76 1531.77 L1081.82 1531.77 L1081.82 1539.92 L1077.17 1539.92 L1077.17 1531.77 L1061.57 1531.77 L1061.57 1527.26 L1075.95 1505.36 Z\" fill=\"#000000\" fill-rule=\"evenodd\" fill-opacity=\"1\" /><path clip-path=\"url(#clip480)\" d=\"M 0 0 M1568.71 1520.78 Q1565.56 1520.78 1563.71 1522.93 Q1561.88 1525.08 1561.88 1528.83 Q1561.88 1532.56 1563.71 1534.73 Q1565.56 1536.89 1568.71 1536.89 Q1571.86 1536.89 1573.69 1534.73 Q1575.54 1532.56 1575.54 1528.83 Q1575.54 1525.08 1573.69 1522.93 Q1571.86 1520.78 1568.71 1520.78 M1577.99 1506.12 L1577.99 1510.38 Q1576.23 1509.55 1574.43 1509.11 Q1572.65 1508.67 1570.89 1508.67 Q1566.26 1508.67 1563.8 1511.8 Q1561.37 1514.92 1561.02 1521.24 Q1562.39 1519.23 1564.45 1518.16 Q1566.51 1517.07 1568.99 1517.07 Q1574.2 1517.07 1577.21 1520.24 Q1580.24 1523.39 1580.24 1528.83 Q1580.24 1534.16 1577.09 1537.37 Q1573.94 1540.59 1568.71 1540.59 Q1562.71 1540.59 1559.54 1536.01 Q1556.37 1531.4 1556.37 1522.67 Q1556.37 1514.48 1560.26 1509.62 Q1564.15 1504.73 1570.7 1504.73 Q1572.46 1504.73 1574.24 1505.08 Q1576.05 1505.43 1577.99 1506.12 Z\" fill=\"#000000\" fill-rule=\"evenodd\" fill-opacity=\"1\" /><path clip-path=\"url(#clip480)\" d=\"M 0 0 M2062.45 1523.51 Q2059.11 1523.51 2057.19 1525.29 Q2055.29 1527.07 2055.29 1530.2 Q2055.29 1533.32 2057.19 1535.11 Q2059.11 1536.89 2062.45 1536.89 Q2065.78 1536.89 2067.7 1535.11 Q2069.62 1533.3 2069.62 1530.2 Q2069.62 1527.07 2067.7 1525.29 Q2065.8 1523.51 2062.45 1523.51 M2057.77 1521.52 Q2054.76 1520.78 2053.07 1518.72 Q2051.41 1516.66 2051.41 1513.69 Q2051.41 1509.55 2054.35 1507.14 Q2057.31 1504.73 2062.45 1504.73 Q2067.61 1504.73 2070.55 1507.14 Q2073.49 1509.55 2073.49 1513.69 Q2073.49 1516.66 2071.8 1518.72 Q2070.13 1520.78 2067.15 1521.52 Q2070.53 1522.3 2072.4 1524.6 Q2074.3 1526.89 2074.3 1530.2 Q2074.3 1535.22 2071.22 1537.91 Q2068.16 1540.59 2062.45 1540.59 Q2056.73 1540.59 2053.65 1537.91 Q2050.6 1535.22 2050.6 1530.2 Q2050.6 1526.89 2052.49 1524.6 Q2054.39 1522.3 2057.77 1521.52 M2056.06 1514.13 Q2056.06 1516.82 2057.73 1518.32 Q2059.41 1519.83 2062.45 1519.83 Q2065.46 1519.83 2067.15 1518.32 Q2068.86 1516.82 2068.86 1514.13 Q2068.86 1511.45 2067.15 1509.94 Q2065.46 1508.44 2062.45 1508.44 Q2059.41 1508.44 2057.73 1509.94 Q2056.06 1511.45 2056.06 1514.13 Z\" fill=\"#000000\" fill-rule=\"evenodd\" fill-opacity=\"1\" /><path clip-path=\"url(#clip480)\" d=\"M 0 0 M63.3393 1367.93 L75.8161 1367.93 L75.8161 1371.73 L63.3393 1371.73 L63.3393 1367.93 Z\" fill=\"#000000\" fill-rule=\"evenodd\" fill-opacity=\"1\" /><path clip-path=\"url(#clip480)\" d=\"M 0 0 M81.0244 1382.1 L81.0244 1377.84 Q82.7837 1378.67 84.5892 1379.11 Q86.3948 1379.55 88.1309 1379.55 Q92.7605 1379.55 95.191 1376.45 Q97.6447 1373.33 97.9919 1366.98 Q96.6494 1368.98 94.5892 1370.04 Q92.529 1371.1 90.029 1371.1 Q84.8439 1371.1 81.8115 1367.98 Q78.8022 1364.83 78.8022 1359.39 Q78.8022 1354.07 81.9504 1350.85 Q85.0985 1347.63 90.3299 1347.63 Q96.3253 1347.63 99.4734 1352.24 Q102.645 1356.82 102.645 1365.57 Q102.645 1373.74 98.7558 1378.63 Q94.8901 1383.49 88.3392 1383.49 Q86.58 1383.49 84.7744 1383.14 Q82.9689 1382.79 81.0244 1382.1 M90.3299 1367.45 Q93.4781 1367.45 95.3068 1365.29 Q97.1586 1363.14 97.1586 1359.39 Q97.1586 1355.67 95.3068 1353.51 Q93.4781 1351.34 90.3299 1351.34 Q87.1818 1351.34 85.33 1353.51 Q83.5013 1355.67 83.5013 1359.39 Q83.5013 1363.14 85.33 1365.29 Q87.1818 1367.45 90.3299 1367.45 Z\" fill=\"#000000\" fill-rule=\"evenodd\" fill-opacity=\"1\" /><path clip-path=\"url(#clip480)\" d=\"M 0 0 M62.9921 1103.61 L75.4689 1103.61 L75.4689 1107.41 L62.9921 1107.41 L62.9921 1103.61 Z\" fill=\"#000000\" fill-rule=\"evenodd\" fill-opacity=\"1\" /><path clip-path=\"url(#clip480)\" d=\"M 0 0 M91.117 1099.35 Q87.9688 1099.35 86.117 1101.5 Q84.2883 1103.66 84.2883 1107.41 Q84.2883 1111.13 86.117 1113.31 Q87.9688 1115.46 91.117 1115.46 Q94.2651 1115.46 96.0938 1113.31 Q97.9456 1111.13 97.9456 1107.41 Q97.9456 1103.66 96.0938 1101.5 Q94.2651 1099.35 91.117 1099.35 M100.399 1084.7 L100.399 1088.96 Q98.6401 1088.12 96.8345 1087.68 Q95.0521 1087.24 93.2929 1087.24 Q88.6633 1087.24 86.2096 1090.37 Q83.7791 1093.49 83.4318 1099.81 Q84.7976 1097.8 86.8577 1096.74 Q88.9179 1095.65 91.3948 1095.65 Q96.6031 1095.65 99.6123 1098.82 Q102.645 1101.97 102.645 1107.41 Q102.645 1112.73 99.4966 1115.95 Q96.3484 1119.17 91.117 1119.17 Q85.1216 1119.17 81.9504 1114.58 Q78.7791 1109.98 78.7791 1101.25 Q78.7791 1093.05 82.6679 1088.19 Q86.5568 1083.31 93.1077 1083.31 Q94.867 1083.31 96.6494 1083.66 Q98.4549 1084 100.399 1084.7 Z\" fill=\"#000000\" fill-rule=\"evenodd\" fill-opacity=\"1\" /><path clip-path=\"url(#clip480)\" d=\"M 0 0 M63.8023 839.287 L76.2791 839.287 L76.2791 843.084 L63.8023 843.084 L63.8023 839.287 Z\" fill=\"#000000\" fill-rule=\"evenodd\" fill-opacity=\"1\" /><path clip-path=\"url(#clip480)\" d=\"M 0 0 M95.5151 835.537 Q98.8716 836.255 100.747 838.524 Q102.645 840.792 102.645 844.125 Q102.645 849.241 99.1262 852.042 Q95.6077 854.843 89.1262 854.843 Q86.9503 854.843 84.6355 854.403 Q82.3439 853.986 79.8902 853.13 L79.8902 848.616 Q81.8346 849.75 84.1494 850.329 Q86.4642 850.908 88.9874 850.908 Q93.3855 850.908 95.6771 849.172 Q97.9919 847.436 97.9919 844.125 Q97.9919 841.07 95.8392 839.357 Q93.7096 837.621 89.8901 837.621 L85.8624 837.621 L85.8624 833.778 L90.0753 833.778 Q93.5244 833.778 95.3531 832.412 Q97.1818 831.024 97.1818 828.431 Q97.1818 825.769 95.2836 824.357 Q93.4086 822.922 89.8901 822.922 Q87.9688 822.922 85.7698 823.338 Q83.5707 823.755 80.9318 824.635 L80.9318 820.468 Q83.5939 819.727 85.9087 819.357 Q88.2466 818.987 90.3068 818.987 Q95.6308 818.987 98.7327 821.417 Q101.835 823.825 101.835 827.945 Q101.835 830.815 100.191 832.806 Q98.5475 834.774 95.5151 835.537 Z\" fill=\"#000000\" fill-rule=\"evenodd\" fill-opacity=\"1\" /><path clip-path=\"url(#clip480)\" d=\"M 0 0 M90.7003 558.367 Q87.0892 558.367 85.2605 561.932 Q83.455 565.474 83.455 572.603 Q83.455 579.71 85.2605 583.275 Q87.0892 586.816 90.7003 586.816 Q94.3346 586.816 96.1401 583.275 Q97.9688 579.71 97.9688 572.603 Q97.9688 565.474 96.1401 561.932 Q94.3346 558.367 90.7003 558.367 M90.7003 554.664 Q96.5105 554.664 99.566 559.27 Q102.645 563.853 102.645 572.603 Q102.645 581.33 99.566 585.937 Q96.5105 590.52 90.7003 590.52 Q84.8902 590.52 81.8115 585.937 Q78.7559 581.33 78.7559 572.603 Q78.7559 563.853 81.8115 559.27 Q84.8902 554.664 90.7003 554.664 Z\" fill=\"#000000\" fill-rule=\"evenodd\" fill-opacity=\"1\" /><path clip-path=\"url(#clip480)\" d=\"M 0 0 M95.5151 306.891 Q98.8716 307.609 100.747 309.877 Q102.645 312.146 102.645 315.479 Q102.645 320.595 99.1262 323.396 Q95.6077 326.197 89.1262 326.197 Q86.9503 326.197 84.6355 325.757 Q82.3439 325.34 79.8902 324.484 L79.8902 319.97 Q81.8346 321.104 84.1494 321.683 Q86.4642 322.262 88.9874 322.262 Q93.3855 322.262 95.6771 320.526 Q97.9919 318.789 97.9919 315.479 Q97.9919 312.424 95.8392 310.711 Q93.7096 308.975 89.8901 308.975 L85.8624 308.975 L85.8624 305.132 L90.0753 305.132 Q93.5244 305.132 95.3531 303.766 Q97.1818 302.377 97.1818 299.785 Q97.1818 297.123 95.2836 295.711 Q93.4086 294.276 89.8901 294.276 Q87.9688 294.276 85.7698 294.692 Q83.5707 295.109 80.9318 295.989 L80.9318 291.822 Q83.5939 291.081 85.9087 290.711 Q88.2466 290.34 90.3068 290.34 Q95.6308 290.34 98.7327 292.771 Q101.835 295.178 101.835 299.299 Q101.835 302.169 100.191 304.16 Q98.5475 306.127 95.5151 306.891 Z\" fill=\"#000000\" fill-rule=\"evenodd\" fill-opacity=\"1\" /><polyline clip-path=\"url(#clip482)\" style=\"stroke:#009af9; stroke-width:0; stroke-opacity:1; fill:none\" points=\"\n",
       "  1237.23,669.487 2232.93,1228.97 1000.04,1058.92 1160.64,480.055 530.606,631.601 958.039,738.211 1296.53,519.704 622.022,762.881 1168.05,982.269 374.951,735.568 \n",
       "  2010.56,802.53 2173.63,1340.87 1113.69,710.898 2173.63,1219.28 2045.15,1159.37 1990.8,875.659 604.727,828.962 258.828,195.468 189.648,87.9763 1924.09,1250.12 \n",
       "  2168.69,932.048 871.564,925.88 500.958,450.099 1681.96,1110.03 775.207,613.098 977.805,887.113 2289.75,1189.32 2287.28,1414 2008.09,1144.39 2272.46,1445.72 \n",
       "  \n",
       "  \"/>\n",
       "<circle clip-path=\"url(#clip482)\" cx=\"1237.23\" cy=\"669.487\" r=\"14\" fill=\"#009af9\" fill-rule=\"evenodd\" fill-opacity=\"1\" stroke=\"#000000\" stroke-opacity=\"1\" stroke-width=\"3.2\"/>\n",
       "<circle clip-path=\"url(#clip482)\" cx=\"2232.93\" cy=\"1228.97\" r=\"14\" fill=\"#009af9\" fill-rule=\"evenodd\" fill-opacity=\"1\" stroke=\"#000000\" stroke-opacity=\"1\" stroke-width=\"3.2\"/>\n",
       "<circle clip-path=\"url(#clip482)\" cx=\"1000.04\" cy=\"1058.92\" r=\"14\" fill=\"#009af9\" fill-rule=\"evenodd\" fill-opacity=\"1\" stroke=\"#000000\" stroke-opacity=\"1\" stroke-width=\"3.2\"/>\n",
       "<circle clip-path=\"url(#clip482)\" cx=\"1160.64\" cy=\"480.055\" r=\"14\" fill=\"#009af9\" fill-rule=\"evenodd\" fill-opacity=\"1\" stroke=\"#000000\" stroke-opacity=\"1\" stroke-width=\"3.2\"/>\n",
       "<circle clip-path=\"url(#clip482)\" cx=\"530.606\" cy=\"631.601\" r=\"14\" fill=\"#009af9\" fill-rule=\"evenodd\" fill-opacity=\"1\" stroke=\"#000000\" stroke-opacity=\"1\" stroke-width=\"3.2\"/>\n",
       "<circle clip-path=\"url(#clip482)\" cx=\"958.039\" cy=\"738.211\" r=\"14\" fill=\"#009af9\" fill-rule=\"evenodd\" fill-opacity=\"1\" stroke=\"#000000\" stroke-opacity=\"1\" stroke-width=\"3.2\"/>\n",
       "<circle clip-path=\"url(#clip482)\" cx=\"1296.53\" cy=\"519.704\" r=\"14\" fill=\"#009af9\" fill-rule=\"evenodd\" fill-opacity=\"1\" stroke=\"#000000\" stroke-opacity=\"1\" stroke-width=\"3.2\"/>\n",
       "<circle clip-path=\"url(#clip482)\" cx=\"622.022\" cy=\"762.881\" r=\"14\" fill=\"#009af9\" fill-rule=\"evenodd\" fill-opacity=\"1\" stroke=\"#000000\" stroke-opacity=\"1\" stroke-width=\"3.2\"/>\n",
       "<circle clip-path=\"url(#clip482)\" cx=\"1168.05\" cy=\"982.269\" r=\"14\" fill=\"#009af9\" fill-rule=\"evenodd\" fill-opacity=\"1\" stroke=\"#000000\" stroke-opacity=\"1\" stroke-width=\"3.2\"/>\n",
       "<circle clip-path=\"url(#clip482)\" cx=\"374.951\" cy=\"735.568\" r=\"14\" fill=\"#009af9\" fill-rule=\"evenodd\" fill-opacity=\"1\" stroke=\"#000000\" stroke-opacity=\"1\" stroke-width=\"3.2\"/>\n",
       "<circle clip-path=\"url(#clip482)\" cx=\"2010.56\" cy=\"802.53\" r=\"14\" fill=\"#009af9\" fill-rule=\"evenodd\" fill-opacity=\"1\" stroke=\"#000000\" stroke-opacity=\"1\" stroke-width=\"3.2\"/>\n",
       "<circle clip-path=\"url(#clip482)\" cx=\"2173.63\" cy=\"1340.87\" r=\"14\" fill=\"#009af9\" fill-rule=\"evenodd\" fill-opacity=\"1\" stroke=\"#000000\" stroke-opacity=\"1\" stroke-width=\"3.2\"/>\n",
       "<circle clip-path=\"url(#clip482)\" cx=\"1113.69\" cy=\"710.898\" r=\"14\" fill=\"#009af9\" fill-rule=\"evenodd\" fill-opacity=\"1\" stroke=\"#000000\" stroke-opacity=\"1\" stroke-width=\"3.2\"/>\n",
       "<circle clip-path=\"url(#clip482)\" cx=\"2173.63\" cy=\"1219.28\" r=\"14\" fill=\"#009af9\" fill-rule=\"evenodd\" fill-opacity=\"1\" stroke=\"#000000\" stroke-opacity=\"1\" stroke-width=\"3.2\"/>\n",
       "<circle clip-path=\"url(#clip482)\" cx=\"2045.15\" cy=\"1159.37\" r=\"14\" fill=\"#009af9\" fill-rule=\"evenodd\" fill-opacity=\"1\" stroke=\"#000000\" stroke-opacity=\"1\" stroke-width=\"3.2\"/>\n",
       "<circle clip-path=\"url(#clip482)\" cx=\"1990.8\" cy=\"875.659\" r=\"14\" fill=\"#009af9\" fill-rule=\"evenodd\" fill-opacity=\"1\" stroke=\"#000000\" stroke-opacity=\"1\" stroke-width=\"3.2\"/>\n",
       "<circle clip-path=\"url(#clip482)\" cx=\"604.727\" cy=\"828.962\" r=\"14\" fill=\"#009af9\" fill-rule=\"evenodd\" fill-opacity=\"1\" stroke=\"#000000\" stroke-opacity=\"1\" stroke-width=\"3.2\"/>\n",
       "<circle clip-path=\"url(#clip482)\" cx=\"258.828\" cy=\"195.468\" r=\"14\" fill=\"#009af9\" fill-rule=\"evenodd\" fill-opacity=\"1\" stroke=\"#000000\" stroke-opacity=\"1\" stroke-width=\"3.2\"/>\n",
       "<circle clip-path=\"url(#clip482)\" cx=\"189.648\" cy=\"87.9763\" r=\"14\" fill=\"#009af9\" fill-rule=\"evenodd\" fill-opacity=\"1\" stroke=\"#000000\" stroke-opacity=\"1\" stroke-width=\"3.2\"/>\n",
       "<circle clip-path=\"url(#clip482)\" cx=\"1924.09\" cy=\"1250.12\" r=\"14\" fill=\"#009af9\" fill-rule=\"evenodd\" fill-opacity=\"1\" stroke=\"#000000\" stroke-opacity=\"1\" stroke-width=\"3.2\"/>\n",
       "<circle clip-path=\"url(#clip482)\" cx=\"2168.69\" cy=\"932.048\" r=\"14\" fill=\"#009af9\" fill-rule=\"evenodd\" fill-opacity=\"1\" stroke=\"#000000\" stroke-opacity=\"1\" stroke-width=\"3.2\"/>\n",
       "<circle clip-path=\"url(#clip482)\" cx=\"871.564\" cy=\"925.88\" r=\"14\" fill=\"#009af9\" fill-rule=\"evenodd\" fill-opacity=\"1\" stroke=\"#000000\" stroke-opacity=\"1\" stroke-width=\"3.2\"/>\n",
       "<circle clip-path=\"url(#clip482)\" cx=\"500.958\" cy=\"450.099\" r=\"14\" fill=\"#009af9\" fill-rule=\"evenodd\" fill-opacity=\"1\" stroke=\"#000000\" stroke-opacity=\"1\" stroke-width=\"3.2\"/>\n",
       "<circle clip-path=\"url(#clip482)\" cx=\"1681.96\" cy=\"1110.03\" r=\"14\" fill=\"#009af9\" fill-rule=\"evenodd\" fill-opacity=\"1\" stroke=\"#000000\" stroke-opacity=\"1\" stroke-width=\"3.2\"/>\n",
       "<circle clip-path=\"url(#clip482)\" cx=\"775.207\" cy=\"613.098\" r=\"14\" fill=\"#009af9\" fill-rule=\"evenodd\" fill-opacity=\"1\" stroke=\"#000000\" stroke-opacity=\"1\" stroke-width=\"3.2\"/>\n",
       "<circle clip-path=\"url(#clip482)\" cx=\"977.805\" cy=\"887.113\" r=\"14\" fill=\"#009af9\" fill-rule=\"evenodd\" fill-opacity=\"1\" stroke=\"#000000\" stroke-opacity=\"1\" stroke-width=\"3.2\"/>\n",
       "<circle clip-path=\"url(#clip482)\" cx=\"2289.75\" cy=\"1189.32\" r=\"14\" fill=\"#009af9\" fill-rule=\"evenodd\" fill-opacity=\"1\" stroke=\"#000000\" stroke-opacity=\"1\" stroke-width=\"3.2\"/>\n",
       "<circle clip-path=\"url(#clip482)\" cx=\"2287.28\" cy=\"1414\" r=\"14\" fill=\"#009af9\" fill-rule=\"evenodd\" fill-opacity=\"1\" stroke=\"#000000\" stroke-opacity=\"1\" stroke-width=\"3.2\"/>\n",
       "<circle clip-path=\"url(#clip482)\" cx=\"2008.09\" cy=\"1144.39\" r=\"14\" fill=\"#009af9\" fill-rule=\"evenodd\" fill-opacity=\"1\" stroke=\"#000000\" stroke-opacity=\"1\" stroke-width=\"3.2\"/>\n",
       "<circle clip-path=\"url(#clip482)\" cx=\"2272.46\" cy=\"1445.72\" r=\"14\" fill=\"#009af9\" fill-rule=\"evenodd\" fill-opacity=\"1\" stroke=\"#000000\" stroke-opacity=\"1\" stroke-width=\"3.2\"/>\n",
       "</svg>\n"
      ]
     },
     "execution_count": 10,
     "metadata": {},
     "output_type": "execute_result"
    }
   ],
   "source": [
    "plot(x_corr4,y_corr4,line=:false,marker=:circle,leg=:false)"
   ]
  },
  {
   "cell_type": "markdown",
   "metadata": {},
   "source": [
    "## Situación: Análisis de datos no agrupados"
   ]
  },
  {
   "cell_type": "markdown",
   "metadata": {},
   "source": [
    "Ana y su equipo recabaron la información y la organizaron como se muestra en la\n",
    "tabla"
   ]
  },
  {
   "cell_type": "markdown",
   "metadata": {},
   "source": [
    "<img src=\"tabla4-1.png\" align=\"middle\" width=\"500\">"
   ]
  },
  {
   "cell_type": "markdown",
   "metadata": {},
   "source": [
    "**1. Es la distribución de frecuencias de la variable sexo**"
   ]
  },
  {
   "cell_type": "markdown",
   "metadata": {},
   "source": [
    "<img src=\"tablas4-1.png\" align=\"middle\" width=\"500\">"
   ]
  },
  {
   "cell_type": "markdown",
   "metadata": {},
   "source": [
    "**Solución:** B)"
   ]
  },
  {
   "cell_type": "markdown",
   "metadata": {},
   "source": [
    "**2. Es la distribución de frecuencias de la variable estatura**"
   ]
  },
  {
   "cell_type": "markdown",
   "metadata": {},
   "source": [
    "A) <img src=\"tabla3-2a.png\" align=\"middle\" width=\"350\">"
   ]
  },
  {
   "cell_type": "markdown",
   "metadata": {},
   "source": [
    "B) <img src=\"tabla3-2b.png\" align=\"middle\" width=\"350\">"
   ]
  },
  {
   "cell_type": "markdown",
   "metadata": {},
   "source": [
    "C) <img src=\"tabla3-2c.png\" align=\"middle\" width=\"350\">"
   ]
  },
  {
   "cell_type": "markdown",
   "metadata": {},
   "source": [
    "D) <img src=\"tabla3-2d.png\" align=\"middle\" width=\"350\">"
   ]
  },
  {
   "cell_type": "markdown",
   "metadata": {},
   "source": [
    "**Solución:** B)"
   ]
  },
  {
   "cell_type": "markdown",
   "metadata": {},
   "source": [
    "**3.  Es la gráfica que resume de mejor manera la información sobre el sexo de los\n",
    "estudiantes de la muestra**"
   ]
  },
  {
   "cell_type": "markdown",
   "metadata": {},
   "source": [
    "A) <img src=\"fig3-3a.png\" align=\"middle\" width=\"350\">"
   ]
  },
  {
   "cell_type": "markdown",
   "metadata": {},
   "source": [
    "B) <img src=\"fig3-3b.png\" align=\"middle\" width=\"350\">"
   ]
  },
  {
   "cell_type": "markdown",
   "metadata": {},
   "source": [
    "C) <img src=\"fig3-3c.png\" align=\"middle\" width=\"350\">"
   ]
  },
  {
   "cell_type": "markdown",
   "metadata": {},
   "source": [
    "D) <img src=\"fig3-3d.png\" align=\"middle\" width=\"350\">"
   ]
  },
  {
   "cell_type": "markdown",
   "metadata": {},
   "source": [
    "**Solución:** C)"
   ]
  },
  {
   "cell_type": "markdown",
   "metadata": {},
   "source": [
    "**4. Es la gráfica en la que se representa mejor la información de las estaturas de los estudiantes**"
   ]
  },
  {
   "cell_type": "markdown",
   "metadata": {},
   "source": [
    "A) <img src=\"fig3-4a.png\" align=\"middle\" width=\"350\">"
   ]
  },
  {
   "cell_type": "markdown",
   "metadata": {},
   "source": [
    "B) <img src=\"fig3-4b.png\" align=\"middle\" width=\"350\">"
   ]
  },
  {
   "cell_type": "markdown",
   "metadata": {},
   "source": [
    "C) <img src=\"fig3-4c.png\" align=\"middle\" width=\"350\">"
   ]
  },
  {
   "cell_type": "markdown",
   "metadata": {},
   "source": [
    "D) <img src=\"fig3-4d.png\" align=\"middle\" width=\"350\">"
   ]
  },
  {
   "cell_type": "markdown",
   "metadata": {},
   "source": [
    "**Solución:** B)"
   ]
  },
  {
   "cell_type": "markdown",
   "metadata": {},
   "source": [
    "## Situación: Medidas de tendencia central para un conjunto de datos no agrupados"
   ]
  },
  {
   "cell_type": "markdown",
   "metadata": {},
   "source": [
    "La distribución de frecuencias y las gráficas permitieron a Ana tener una idea global del comportamiento del conjunto de datos, sin embargo, ella investigó que existen valores que permiten resumir la información de dicho conjunto de datos.\n",
    "\n",
    "La distribución de frecuencias de la estatura de los 10 alumnos del grupo 501 es:\n"
   ]
  },
  {
   "cell_type": "markdown",
   "metadata": {},
   "source": [
    "<img src=\"tabla4-2.png\" align=\"middle\" width=\"400\">"
   ]
  },
  {
   "cell_type": "markdown",
   "metadata": {},
   "source": [
    "| Estatura | Frecuencia | Frecuencia<br>relativa | Frecuencia<br>acumulada | Frecuencia<br>relativa<br>acumulada |\n",
    "|:--------:|:----------:|:----------------------:|:-----------------------:|:-----------------------------------:|\n",
    "|   $x_i$  |    $f_i$   |          $p_i$         |          $F_i$          |                $P_i$                |\n",
    "|    150   |      2     |           0.2          |            2            |                 0.2                 |\n",
    "|    154   |      1     |           0.1          |            3            |                 0.3                 |\n",
    "|    162   |      1     |           0.1          |            4            |                 0.4                 |\n",
    "|    170   |      3     |           0.3          |            7            |                 0.7                 |\n",
    "|    174   |      1     |           0.1          |            8            |                 0.8                 |\n",
    "|    178   |      1     |           0.1          |            9            |                 0.9                 |\n",
    "|    182   |      1     |           0.1          |            10           |                  1.0                  |\n",
    "|   Total  |     10     |            1.0           |           $ $           |                 $ $                 |"
   ]
  },
  {
   "cell_type": "markdown",
   "metadata": {},
   "source": [
    "| Estatura | Frecuencia | Frecuencia<br>relativa | $ $             | $ $            |\n",
    "|----------|------------|------------------------|-----------------|----------------|\n",
    "| $x_i$    | $f_i$      | $p_i$                  | $x_i\\cdot f_i$  | $x_i\\cdot p_i$ |\n",
    "| 150      | 2          | 0.2                    | 300             | 30.0           |\n",
    "| 154      | 1          | 0.1                    | 154             | 15.4           |\n",
    "| 162      | 1          | 0.1                    | 162             | 16.2           |\n",
    "| 170      | 3          | 0.3                    | 510             | 51.0           |\n",
    "| 174      | 1          | 0.1                    | 174             | 17.4           |\n",
    "| 178      | 1          | 0.1                    | 178             | 17.8           |\n",
    "| 182      | 1          | 0.1                    | 182             | 18.2           |\n",
    "| Total    | 10         | 1.0                    | $ \\bar{x}=166 $ | 166            |"
   ]
  },
  {
   "cell_type": "code",
   "execution_count": 1,
   "metadata": {
    "scrolled": true
   },
   "outputs": [
    {
     "data": {
      "text/plain": [
       "1660"
      ]
     },
     "execution_count": 1,
     "metadata": {},
     "output_type": "execute_result"
    }
   ],
   "source": [
    "(150*2+154+162+170*3+174+178+182)"
   ]
  },
  {
   "cell_type": "code",
   "execution_count": 2,
   "metadata": {},
   "outputs": [
    {
     "data": {
      "text/plain": [
       "166.0"
      ]
     },
     "execution_count": 2,
     "metadata": {},
     "output_type": "execute_result"
    }
   ],
   "source": [
    "1660/10"
   ]
  },
  {
   "cell_type": "markdown",
   "metadata": {},
   "source": [
    "**1. Calcula la media aritmética.**"
   ]
  },
  {
   "cell_type": "markdown",
   "metadata": {},
   "source": [
    "A) 130\n",
    "\n",
    "B) 166\n",
    "\n",
    "C) 170\n",
    "\n",
    "D) 184"
   ]
  },
  {
   "cell_type": "markdown",
   "metadata": {},
   "source": [
    "**Solución:** B)"
   ]
  },
  {
   "cell_type": "markdown",
   "metadata": {},
   "source": [
    "**2.  Calcula la mediana.**"
   ]
  },
  {
   "cell_type": "markdown",
   "metadata": {},
   "source": [
    "* $\\dfrac{n}{2}=\\dfrac{10}{2}=5$"
   ]
  },
  {
   "cell_type": "markdown",
   "metadata": {},
   "source": [
    "* $\\dfrac{n}{2}+1=\\dfrac{10}{2}+1=6$"
   ]
  },
  {
   "cell_type": "markdown",
   "metadata": {},
   "source": [
    "Los datos que están en medio de los diez datos (el quinto y el sexto) son 170 y 170. La mediana es el promedio de estos valores."
   ]
  },
  {
   "cell_type": "markdown",
   "metadata": {},
   "source": [
    "A) 130\n",
    "\n",
    "B) 166\n",
    "\n",
    "C) 170\n",
    "\n",
    "D) 184"
   ]
  },
  {
   "cell_type": "markdown",
   "metadata": {},
   "source": [
    "**Solución:** C)"
   ]
  },
  {
   "cell_type": "markdown",
   "metadata": {},
   "source": [
    "**3.   Calcula la moda.**"
   ]
  },
  {
   "cell_type": "markdown",
   "metadata": {},
   "source": [
    "A) 130\n",
    "\n",
    "B) 166\n",
    "\n",
    "C) 170\n",
    "\n",
    "D) No hay moda"
   ]
  },
  {
   "cell_type": "markdown",
   "metadata": {},
   "source": [
    "**Solución:** C)"
   ]
  },
  {
   "cell_type": "markdown",
   "metadata": {},
   "source": [
    "## Situación: Medidas de dispersión para un conjunto de datos no agrupados"
   ]
  },
  {
   "cell_type": "markdown",
   "metadata": {},
   "source": [
    "Ana y su equipo tomaron otra muestra de 10 estudiantes del grupo 501, para analizar la estatura de los alumnos. Observaron que ambas muestras tenían la misma media aritmética, 166 cm; la misma mediana, 170 cm y la misma moda, 170 cm. Sin embargo, se trataba de conjuntos de datos diferentes. Esto los llevó a plantear otras preguntas como son. ¿En qué intervalo varían los datos? ¿Qué tan dispersos están? Esto se puede contestar al analizar las medidas de dispersión."
   ]
  },
  {
   "cell_type": "markdown",
   "metadata": {},
   "source": [
    "<img src=\"tabla4-1.png\" align=\"middle\" width=\"500\">"
   ]
  },
  {
   "cell_type": "markdown",
   "metadata": {},
   "source": [
    "**1. El rango del IMC redondeado de la muestra del grupo 501 es**"
   ]
  },
  {
   "cell_type": "markdown",
   "metadata": {},
   "source": [
    "$y_i$: IMC redondeado"
   ]
  },
  {
   "cell_type": "markdown",
   "metadata": {},
   "source": [
    "$$ {\\rm{Rango}}=y_{\\rm{max}}-y_{\\rm{min}} $$"
   ]
  },
  {
   "cell_type": "markdown",
   "metadata": {},
   "source": [
    "$$ {\\rm{Rango}}=(26)-(18)=8 $$"
   ]
  },
  {
   "cell_type": "markdown",
   "metadata": {},
   "source": [
    "A) 8\n",
    "\n",
    "B) 18\n",
    "\n",
    "C) 22\n",
    "\n",
    "D) 26"
   ]
  },
  {
   "cell_type": "markdown",
   "metadata": {},
   "source": [
    "**Solución:** A)"
   ]
  },
  {
   "cell_type": "markdown",
   "metadata": {},
   "source": [
    "**2.  Es la varianza del IMC redondeado de la muestra del grupo 501**"
   ]
  },
  {
   "cell_type": "markdown",
   "metadata": {},
   "source": [
    "| $y_i$ | $f_i$ | $y_i\\cdot f_i$ | $(y_i-\\bar{y})$  | $(y_i-\\bar{y})^2$  | $(y_i-\\bar{y})^2f_i$  |\n",
    "|-------|-------|----------------|---|---|---|\n",
    "| 18    | 1     | 18             | -3.6  | 12.96  | 12.96  |\n",
    "| 19    | 2     | 38             | -2.6  | 6.76  | 13.52  |\n",
    "| 20    | 2     | 40             | -1.6  | 2.56  | 5.12  |\n",
    "| 22    | 2     | 44             | +0.4  | 0.16  | 0.32  |\n",
    "| 24    | 1     | 24             | +2.4  | 5.76  | 5.76  |\n",
    "| 26    | 2     | 52             | +4.4  | 19.36  | 38.72  |\n",
    "| Total | 10    | $\\bar{y}=21.6$ | $ $  | $ $  | $ $  |"
   ]
  },
  {
   "cell_type": "markdown",
   "metadata": {},
   "source": [
    "La media aritmética es"
   ]
  },
  {
   "cell_type": "markdown",
   "metadata": {},
   "source": [
    "$$ \\bar{y}=21.6 $$"
   ]
  },
  {
   "cell_type": "markdown",
   "metadata": {},
   "source": [
    "La varianza es"
   ]
  },
  {
   "cell_type": "markdown",
   "metadata": {},
   "source": [
    "$$ s^2=\\dfrac{\\sum_{i=1}^{6}(y_i-\\bar{y})^2f_i}{10-1}=\\dfrac{(18-21.6)^2+(19-21.6)^2+(19-21.6)^2+(20-21.6)^2+(20-21.6)^2+\\dots}{10-1} $$"
   ]
  },
  {
   "cell_type": "markdown",
   "metadata": {},
   "source": [
    "La columna de $(y_i-\\bar{y})^2f_i$ da 76.4"
   ]
  },
  {
   "cell_type": "markdown",
   "metadata": {},
   "source": [
    "$$ s^2=\\dfrac{\\sum_{i=1}^{6}(y_i-\\bar{y})^2f_i}{10-1}=\\dfrac{76.4}{9}=8.4883\\dots $$"
   ]
  },
  {
   "cell_type": "markdown",
   "metadata": {},
   "source": [
    "A) 2.91\n",
    "\n",
    "B) 5.37\n",
    "\n",
    "C) 7.64\n",
    "\n",
    "D) 8.49"
   ]
  },
  {
   "cell_type": "markdown",
   "metadata": {},
   "source": [
    "**Solución:** D)"
   ]
  },
  {
   "cell_type": "markdown",
   "metadata": {},
   "source": [
    "**3. Es la desviación estándar del IMC redondeado de la muestra del grupo 501**"
   ]
  },
  {
   "cell_type": "markdown",
   "metadata": {},
   "source": [
    "$$ s=\\sqrt{s^2}=\\sqrt{8.4883\\dots}=2.91\\dots $$"
   ]
  },
  {
   "cell_type": "markdown",
   "metadata": {},
   "source": [
    "A) 2.91\n",
    "\n",
    "B) 2.76\n",
    "\n",
    "C) 2.31\n",
    "\n",
    "D) 1.7"
   ]
  },
  {
   "cell_type": "markdown",
   "metadata": {},
   "source": [
    "**Solución:** A"
   ]
  },
  {
   "cell_type": "markdown",
   "metadata": {},
   "source": [
    "## Situación: Análisis de datos agrupados"
   ]
  },
  {
   "cell_type": "markdown",
   "metadata": {},
   "source": [
    "Ana encontró resultados interesantes sobre la muestra del IMC, sin embargo se dio a la tarea de recabar los índices de masa corporal de 128 compañeros de quinto año de su plantel con el propósito de organizarlos en una tabla de frecuencias y analizarlos. Ana se dio cuenta que resultaba muy difícil ordenarv los datos como lo hizo cuando tenía 10 datos e investigó cómo podía hacerlo. La información la concentró en una tabla de distribución de frecuencias como se muestra en la siguiente tabla:"
   ]
  },
  {
   "cell_type": "markdown",
   "metadata": {},
   "source": [
    "<img src=\"tabla4-5.png\" align=\"middle\" width=\"500\">"
   ]
  },
  {
   "cell_type": "markdown",
   "metadata": {},
   "source": [
    "| No.<br>Clase |     Clases (intervalos)   | Valor<br>medio de<br>clase | Frecuencia<br>absoluta | Frecuencia<br>relativa | Frecuencia<br>acumulada<br>absoluta |\n",
    "|:------------:|:-------------:|:--------------------------:|------------------------|:----------------------:|:-----------------------------------:|\n",
    "|       1      | $(14.5,16.5]$ |            15.5            | 1                      |    $\\dfrac{1}{128}$    |                  1                  |\n",
    "|       2      | $(16.5,18.5]$ |            17.5            | 15                     |    $\\dfrac{15}{128}$   |                  16                 |\n",
    "|       3      | $(18.5,20.5]$ |            19.5            | 34                     |    $\\dfrac{34}{128}$   |                  50                 |\n",
    "|       4      |      $(20.5, 22.5]$      |            21.5            | 30                     |    $\\dfrac{30}{128}$   |                  80                 |\n",
    "|       5      | $(22.5,24.5]$ |            23.5            | 27                     |    $\\dfrac{27}{128}$   |                 107                 |\n",
    "|       6      | $(24.5,26.5]$ |            25.5            | 10                    |    $\\dfrac{10}{128}$   |                 117                 |\n",
    "|       7      | $(26.5,28.5]$ |            27.5            | 9                      |    $\\dfrac{9}{128}$    |                 126                 |\n",
    "|       8      | $(28.5,30.5]$ |            29.5            | 2                      |    $\\dfrac{2}{128}$    |                 128                 |"
   ]
  },
  {
   "cell_type": "markdown",
   "metadata": {},
   "source": [
    "**1. ¿Cuál es la clase que falta?**"
   ]
  },
  {
   "cell_type": "markdown",
   "metadata": {},
   "source": [
    "A) (20.5, 22.5]\n",
    "\n",
    "B) [20.5, 22.5)\n",
    "\n",
    "C) [20.6, 22.4]\n",
    "\n",
    "D) (20.6, 22.4]"
   ]
  },
  {
   "cell_type": "markdown",
   "metadata": {},
   "source": [
    "**Solución:** A)"
   ]
  },
  {
   "cell_type": "markdown",
   "metadata": {},
   "source": [
    "**2. ¿Cuál es el ancho de los intervalos?**"
   ]
  },
  {
   "cell_type": "markdown",
   "metadata": {},
   "source": [
    "$$ \\text{ancho de intervalo}=\\text{límite superior}-\\text{límite inferior} $$"
   ]
  },
  {
   "cell_type": "markdown",
   "metadata": {},
   "source": [
    "A) 1.999\n",
    "\n",
    "B) 2\n",
    "\n",
    "C) 14.999\n",
    "\n",
    "D) 16"
   ]
  },
  {
   "cell_type": "markdown",
   "metadata": {},
   "source": [
    "**Solución:** B)"
   ]
  },
  {
   "cell_type": "markdown",
   "metadata": {},
   "source": [
    "**3. ¿Cuál es la clase de mayor frecuencia?**"
   ]
  },
  {
   "cell_type": "markdown",
   "metadata": {},
   "source": [
    "A) (28.5, 30.5]\n",
    "\n",
    "B) (24.5, 26.5]\n",
    "\n",
    "C) (20.5, 22.5]\n",
    "\n",
    "D) (18.5, 20.5]"
   ]
  },
  {
   "cell_type": "markdown",
   "metadata": {},
   "source": [
    "**Solución:** D)"
   ]
  },
  {
   "cell_type": "markdown",
   "metadata": {},
   "source": [
    "**4. ¿Qué porcentaje de los jóvenes tienen un índice de masa corporal mayor que 18.5 y menor o igual que 24.5?**"
   ]
  },
  {
   "cell_type": "markdown",
   "metadata": {},
   "source": [
    "Sumamos las frecuencias absolutas de las 3, 4 y 5:"
   ]
  },
  {
   "cell_type": "markdown",
   "metadata": {},
   "source": [
    "$$ \\dfrac{34+30+27}{128}\\cdot100 $$"
   ]
  },
  {
   "cell_type": "markdown",
   "metadata": {},
   "source": [
    "A) 28.9 %\n",
    "\n",
    "B) 50%\n",
    "\n",
    "C) 54.4 %\n",
    "\n",
    "D) 71.09 %\n"
   ]
  },
  {
   "cell_type": "markdown",
   "metadata": {},
   "source": [
    "**Solución:** D)"
   ]
  },
  {
   "cell_type": "markdown",
   "metadata": {},
   "source": [
    "**5. ¿Cuál es el porcentaje acumulado hasta el quinto intervalo?**"
   ]
  },
  {
   "cell_type": "markdown",
   "metadata": {},
   "source": [
    "$$ \\dfrac{107}{128}\\cdot100 $$"
   ]
  },
  {
   "cell_type": "markdown",
   "metadata": {},
   "source": [
    "A) 21.09%\n",
    "\n",
    "B) 23.5%\n",
    "\n",
    "C) 78.90%\n",
    "\n",
    "D) 83.59%"
   ]
  },
  {
   "cell_type": "markdown",
   "metadata": {},
   "source": [
    "**Solución:** D)"
   ]
  },
  {
   "cell_type": "markdown",
   "metadata": {},
   "source": [
    "**6. Calcula la media aritmética.**"
   ]
  },
  {
   "cell_type": "markdown",
   "metadata": {},
   "source": [
    "A) 19.50\n",
    "\n",
    "B) 21.73\n",
    "\n",
    "C) 22.50\n",
    "\n",
    "D) 25.54"
   ]
  },
  {
   "cell_type": "markdown",
   "metadata": {},
   "source": [
    "**Solución:** "
   ]
  },
  {
   "cell_type": "markdown",
   "metadata": {},
   "source": [
    "**7. Calcula la desviación estándar de la muestra.**"
   ]
  },
  {
   "cell_type": "markdown",
   "metadata": {},
   "source": [
    "| No.<br>Clase | Clases (intervalos) | Valor medio de<br>clase ($m_i$) | Frecuencia<br>absoluta | $ m_i\\cdot f_i $ | $(m_i-\\bar{m})$ | $(m_i-\\bar{m})^2$ | $(m_i-\\bar{m})^2f_i$ |\n",
    "|--------------|---------------------|---------------------------------|------------------------|------------------|-----------------|-------------------|----------------------|\n",
    "| 1            | $(14.5,16.5]$       | 15.5                            | 1                      | 15.5                   | -6.234375       | 38.867431640625     | 38.867431640625      |\n",
    "| 2            | $(16.5,18.5]$       | 17.5                            | 15                     | 262.5                 | -4.234375       | 17.929931640625     | 268.948974609375     |\n",
    "| 3            | $(18.5,20.5]$       | 19.5                            | 34                     | 663.0                 | -2.234375       |  4.992431640625     | 169.742675781250     |\n",
    "| 4            | $(20.5, 22.5]$      | 21.5                            | 30                     | 645.0                 | -0.234375       |  0.054931640625     | 1.64794921875        |\n",
    "| 5            | $(22.5,24.5]$       | 23.5                            | 27                     | 634.5                 | +1.765625       |  3.117431640625     | 84.170654296875      |\n",
    "| 6            | $(24.5,26.5]$       | 25.5                            | 10                     | 255.0                 | +3.765625       | 14.179931640625     | 141.79931640625      |\n",
    "| 7            | $(26.5,28.5]$       | 27.5                            | 9                      | 247.5                 | +5.765625       | 33.242431640625     | 299.181884765625     |\n",
    "| 8            | $(28.5,30.5]$       | 29.5                            | 2                      | 59.0                   | +7.765625       | 60.304931640625     | 120.60986328125      |\n",
    "| Total        | $ $                 | $ $                             | 128                    | $\\bar{m} =21.734375$ | $ $           | $ $                 | $ $                  |"
   ]
  },
  {
   "cell_type": "code",
   "execution_count": 8,
   "metadata": {},
   "outputs": [
    {
     "data": {
      "text/plain": [
       "1124.96875"
      ]
     },
     "execution_count": 8,
     "metadata": {},
     "output_type": "execute_result"
    }
   ],
   "source": [
    "A = collect(15.5:2:29.5)\n",
    "f = [1, 15, 34, 30, 27, 10, 9, 2]\n",
    "sum((A.-21.734375).^2 .*f)"
   ]
  },
  {
   "cell_type": "markdown",
   "metadata": {},
   "source": [
    "La suma de la columna $m_i\\cdot f_i$ nos da 2782."
   ]
  },
  {
   "cell_type": "markdown",
   "metadata": {},
   "source": [
    "$$ \\bar{y}=\\dfrac{\\sum_{i=1}^8 m_i\\cdot f_i}{n}=\\dfrac{2782}{128}=21.734375$$"
   ]
  },
  {
   "cell_type": "markdown",
   "metadata": {},
   "source": [
    "La suma de la columna $(m_i-\\bar{m})^2f_i$ nos da 1124.96875. Entonces, la varianza es"
   ]
  },
  {
   "cell_type": "markdown",
   "metadata": {},
   "source": [
    "$$ s^2=\\dfrac{\\sum_{i=1}^8 (m_i-\\bar{y})^2 f_i}{n-1}=\\dfrac{2782}{128-1}=8.8580\\dots$$"
   ]
  },
  {
   "cell_type": "code",
   "execution_count": 9,
   "metadata": {},
   "outputs": [
    {
     "data": {
      "text/plain": [
       "8.858021653543307"
      ]
     },
     "execution_count": 9,
     "metadata": {},
     "output_type": "execute_result"
    }
   ],
   "source": [
    "1124.96875/127"
   ]
  },
  {
   "cell_type": "raw",
   "metadata": {},
   "source": [
    "Pero nos preguntan la desviación estándar, que es la raíz cuadrada de la varianza:"
   ]
  },
  {
   "cell_type": "markdown",
   "metadata": {},
   "source": [
    "$$ s=\\sqrt{s^2}=\\sqrt{8.8580\\dots}=2.9762\\dots$$"
   ]
  },
  {
   "cell_type": "code",
   "execution_count": 10,
   "metadata": {},
   "outputs": [
    {
     "data": {
      "text/plain": [
       "2.9762428754292394"
      ]
     },
     "execution_count": 10,
     "metadata": {},
     "output_type": "execute_result"
    }
   ],
   "source": [
    "sqrt(8.858021653543307)"
   ]
  },
  {
   "cell_type": "markdown",
   "metadata": {},
   "source": [
    "A) 8.85\n",
    "\n",
    "B) 4.66\n",
    "\n",
    "C) 2.98\n",
    "\n",
    "D) 1.42"
   ]
  },
  {
   "cell_type": "markdown",
   "metadata": {},
   "source": [
    "**Solución:** C)"
   ]
  },
  {
   "cell_type": "markdown",
   "metadata": {},
   "source": [
    "**8.  Con base en la gráfica, es el enunciado que describe el comportamiento de los datos del IMC de los 128 alumnos encuestados.**"
   ]
  },
  {
   "cell_type": "markdown",
   "metadata": {},
   "source": [
    "<img src=\"graf4-1.png\" align=\"middle\" width=\"500\">"
   ]
  },
  {
   "cell_type": "markdown",
   "metadata": {},
   "source": [
    "A) La distribución es asimétrica hacia la derecha\n",
    "\n",
    "B) La distribución es bimodal\n",
    "\n",
    "C) El 15% de los estudiantes tiene un IMC en el intervalo (16.5, 18.5]\n",
    "\n",
    "D) La mayoría de los alumnos de la Preparatoria 10 tienen su IMC menor a 25"
   ]
  },
  {
   "cell_type": "markdown",
   "metadata": {},
   "source": [
    "B) no es ya que no es bimodal porque sólo hay un frecuencia más grande.\n",
    "\n",
    "C) no es ya que una frecuencia absoluta de 15 no es lo mismo que 15%. De hecho, para obtener el porcentaje tendríamos que realizar la operación $\\dfrac{15}{128}\\cdot100$, la cual no es 15%.\n",
    "\n",
    "D) podría tener sentido ya que, aproximadamente, 17 personas tienen un IMC mayor a 25. Pero estas 17 personas pertenecen a la muestra de 128 estudiantes. No podemos extender estas conclusiones a la población de toda la preparatoria.\n",
    "\n",
    "La más cercana a una respuesta correcta es A): no tenemos simetría respecto a la mitad de la gráfica."
   ]
  },
  {
   "cell_type": "markdown",
   "metadata": {},
   "source": [
    "**Solución:** A)"
   ]
  },
  {
   "cell_type": "markdown",
   "metadata": {},
   "source": [
    "**9. El enunciado que describe el gráfico de dispersión.**"
   ]
  },
  {
   "cell_type": "markdown",
   "metadata": {},
   "source": [
    "<img src=\"graf4-2.png\" align=\"middle\" width=\"500\">"
   ]
  },
  {
   "cell_type": "markdown",
   "metadata": {},
   "source": [
    "A) Las variables tienen una correlación lineal negativa fuerte\n",
    "\n",
    "B) La muestra de la que se obtuvo la información no es representativa\n",
    "\n",
    "C) Las variables tienen una correlación positiva débil\n",
    "\n",
    "D) Los individuos con mayor IMC tienden a acumular más grasa en su cuerpo"
   ]
  },
  {
   "cell_type": "markdown",
   "metadata": {},
   "source": [
    "A) no es ya que no es la pendiente de la recta que ajusta no es negativa ni es fuerte ya que los puntos no quedan cerca de una misma recta.\n",
    "\n",
    "B) no es ya que la muestra sí es representativa (es decir, 128 estudiantes seleccionados al azar implican un buen estudio de salud).\n",
    "\n",
    "D) No necesariamente ya que hay puntos muy a la derecha que tiene la misma altura que algunos puntos a la izquierda. Por ejemplo, los puntos con coordenadas $(25,35)$ y $(30,35)$. Quiere decir que hay dos personas que tiene el mismo porcentaje de grasa corporal pero distinto IMC.\n",
    "\n",
    "La más cercana a una respuesta correcta es C): la recta que podríamos ajusta tiene pendiente positiva pero los puntos no se acerca mucho a la recta (débil)."
   ]
  },
  {
   "cell_type": "markdown",
   "metadata": {},
   "source": [
    "**Solución:** C)"
   ]
  },
  {
   "cell_type": "markdown",
   "metadata": {},
   "source": [
    "## Situación: Internautas mexicanos"
   ]
  },
  {
   "cell_type": "markdown",
   "metadata": {},
   "source": [
    "Los últimos estuidos elaborados por la Asociación de Internet en México para el año 2017 muestran el perfil de los internautas mexicanos. El estudio de esta estadística se realizo con una muestra de 2000 usuarios. Dando por resultado los siguientes datos. (Asociación de Internet Mx, 2019). Nota: Los datos contienen pequeñas modificaciones para fines educativos."
   ]
  },
  {
   "cell_type": "markdown",
   "metadata": {},
   "source": [
    "<img src=\"tablaA1.png\" align=\"middle\" width=\"500\">"
   ]
  },
  {
   "cell_type": "markdown",
   "metadata": {},
   "source": [
    "**1. Según la gráfica correspondiente al Nivel Socio Económico (NSE) la variable que se utiliza es:**"
   ]
  },
  {
   "cell_type": "markdown",
   "metadata": {},
   "source": [
    "A) Cuantitativa Discreta\n",
    "\n",
    "B) Cuantitativa Continua\n",
    "\n",
    "C) Cualitativa Nominal\n",
    "\n",
    "D) Cualitativa Ordinal"
   ]
  },
  {
   "cell_type": "markdown",
   "metadata": {},
   "source": [
    "**Solución:**"
   ]
  },
  {
   "cell_type": "markdown",
   "metadata": {},
   "source": [
    "**2. Si el tamaño de la muestra es de 2000, ¿Cuáles la frecuencia absoluta para el grupo de edad de 25 a 34 años?**"
   ]
  },
  {
   "cell_type": "markdown",
   "metadata": {},
   "source": [
    "A) 280\n",
    "\n",
    "B) 340\n",
    "\n",
    "C) 360\n",
    "\n",
    "D) 380"
   ]
  },
  {
   "cell_type": "markdown",
   "metadata": {},
   "source": [
    "**Solución:**"
   ]
  },
  {
   "cell_type": "markdown",
   "metadata": {},
   "source": [
    "**3. La media aritmética de este grupo de datos es:**"
   ]
  },
  {
   "cell_type": "markdown",
   "metadata": {},
   "source": [
    "A) 23.73 años\n",
    "\n",
    "B) 27.75 años\n",
    "\n",
    "C) 29.25 años\n",
    "\n",
    "D) 31.77 años"
   ]
  },
  {
   "cell_type": "markdown",
   "metadata": {},
   "source": [
    "**Solución:** B)"
   ]
  },
  {
   "cell_type": "markdown",
   "metadata": {},
   "source": [
    "**4. La desviación estándar de este conjunto de datos es:**"
   ]
  },
  {
   "cell_type": "markdown",
   "metadata": {},
   "source": [
    "A) 14.42 años\n",
    "\n",
    "B) 16.23 años\n",
    "\n",
    "C) 208.12 años\n",
    "\n",
    "D) 263.53 años"
   ]
  },
  {
   "cell_type": "markdown",
   "metadata": {},
   "source": [
    "**Solución:** B)"
   ]
  },
  {
   "cell_type": "markdown",
   "metadata": {},
   "source": [
    "## Situación: Ingreso familiar mensual"
   ]
  },
  {
   "cell_type": "markdown",
   "metadata": {},
   "source": [
    "En la siguiente distribución de frecuencias se indica el ingreso familiar mensual de los alumnos de primer ingreso del plantel 5 “José Vasconcelos” de la ENP en el año 2017."
   ]
  },
  {
   "cell_type": "markdown",
   "metadata": {},
   "source": [
    "<img src=\"tablaB1.png\" align=\"middle\" width=\"500\">"
   ]
  },
  {
   "cell_type": "markdown",
   "metadata": {},
   "source": [
    "**1. El número de alumnos que ingresaron en 2017 a la prepa 5 es:**"
   ]
  },
  {
   "cell_type": "markdown",
   "metadata": {},
   "source": [
    "A) 2966\n",
    "\n",
    "B) 2967\n",
    "\n",
    "C) 2968\n",
    "\n",
    "D) 2969"
   ]
  },
  {
   "cell_type": "markdown",
   "metadata": {},
   "source": [
    "**Solución:**"
   ]
  },
  {
   "cell_type": "markdown",
   "metadata": {},
   "source": [
    "**2. El porcentaje de alumnos que tienen un ingreso familiar de menos de 6 salarios mínimos es:**"
   ]
  },
  {
   "cell_type": "markdown",
   "metadata": {},
   "source": [
    "A) 22.17%\n",
    "\n",
    "B) 49.75%\n",
    "\n",
    "C) 71.92%\n",
    "\n",
    "D) 84.36%"
   ]
  },
  {
   "cell_type": "markdown",
   "metadata": {},
   "source": [
    "**Solución:**"
   ]
  },
  {
   "cell_type": "markdown",
   "metadata": {},
   "source": [
    "**3. La variable involucrada en el estudio es:**"
   ]
  },
  {
   "cell_type": "markdown",
   "metadata": {},
   "source": [
    "A) Año de ingreso a la UNAM\n",
    "\n",
    "B) Alumnos de nuevo ingreso de la prepa 5\n",
    "\n",
    "C) Ingreso familiar mensual\n",
    "\n",
    "D) No. de salarios mínimos obtenidos mensualmente"
   ]
  },
  {
   "cell_type": "markdown",
   "metadata": {},
   "source": [
    "**Solución:**"
   ]
  },
  {
   "cell_type": "markdown",
   "metadata": {},
   "source": [
    "**4. La gráfica que representa la ojiva en porcentajes es:**"
   ]
  },
  {
   "cell_type": "markdown",
   "metadata": {},
   "source": [
    "A)\n",
    "\n",
    "<img src=\"grafBa.png\" align=\"middle\" width=\"500\">"
   ]
  },
  {
   "cell_type": "markdown",
   "metadata": {},
   "source": [
    "B)\n",
    "\n",
    "<img src=\"grafBb.png\" align=\"middle\" width=\"500\">"
   ]
  },
  {
   "cell_type": "markdown",
   "metadata": {},
   "source": [
    "C)\n",
    "\n",
    "<img src=\"grafBc.png\" align=\"middle\" width=\"500\">"
   ]
  },
  {
   "cell_type": "markdown",
   "metadata": {},
   "source": [
    "D)\n",
    "\n",
    "<img src=\"grafBd.png\" align=\"middle\" width=\"500\">"
   ]
  },
  {
   "cell_type": "markdown",
   "metadata": {},
   "source": [
    "**Solución:**"
   ]
  }
 ],
 "metadata": {
  "@webio": {
   "lastCommId": null,
   "lastKernelId": null
  },
  "kernelspec": {
   "display_name": "Julia 1.1.0",
   "language": "julia",
   "name": "julia-1.1"
  },
  "language_info": {
   "file_extension": ".jl",
   "mimetype": "application/julia",
   "name": "julia",
   "version": "1.1.0"
  }
 },
 "nbformat": 4,
 "nbformat_minor": 4
}
