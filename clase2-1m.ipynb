{
 "cells": [
  {
   "cell_type": "markdown",
   "metadata": {},
   "source": [
    "# Solución de examen 1"
   ]
  },
  {
   "cell_type": "markdown",
   "metadata": {},
   "source": [
    "## Situación 3"
   ]
  },
  {
   "cell_type": "markdown",
   "metadata": {},
   "source": [
    "Antonio, un profesor de matemáticas participará en el Tour de Francia (competencia de ciclismo) donde usará su bicicleta de ruedas cuadradas. La longitud de uno de los recorridos es de $192\\ \\rm{km}$."
   ]
  },
  {
   "cell_type": "markdown",
   "metadata": {},
   "source": [
    "**9. Si las ruedas cuadradas tienen $50\\ \\rm{cm}$ de lado, ¿cuántas vueltas tendrá que dar una de las ruedas para llegar a la meta?**"
   ]
  },
  {
   "cell_type": "markdown",
   "metadata": {},
   "source": [
    "El perímetro de un cuadrado\n",
    "$$P=4L=4(50\\ \\rm{cm})=200\\ \\rm{cm}$$"
   ]
  },
  {
   "cell_type": "markdown",
   "metadata": {},
   "source": [
    "Usando regla de tres simple varias veces:"
   ]
  },
  {
   "cell_type": "markdown",
   "metadata": {},
   "source": [
    "$$192\\ \\rm{km}=192000\\ \\rm{m}=19200000\\ \\rm{cm}$$"
   ]
  },
  {
   "cell_type": "markdown",
   "metadata": {},
   "source": [
    "$\\text{Número de vueltas}=\\dfrac{\\text{Longitud de la pista}}{\\text{Perímetro de la rueda cuadrada}} =96000$"
   ]
  },
  {
   "cell_type": "code",
   "execution_count": 1,
   "metadata": {},
   "outputs": [
    {
     "data": {
      "text/plain": [
       "96000.0"
      ]
     },
     "execution_count": 1,
     "metadata": {},
     "output_type": "execute_result"
    }
   ],
   "source": [
    "19200000/200"
   ]
  },
  {
   "cell_type": "markdown",
   "metadata": {},
   "source": [
    "a) 7680\n",
    "\n",
    "b) 76800\n",
    "\n",
    "c) 96000\n",
    "\n",
    "d) 192000"
   ]
  },
  {
   "cell_type": "markdown",
   "metadata": {},
   "source": [
    "**Solución:** c)"
   ]
  },
  {
   "cell_type": "markdown",
   "metadata": {},
   "source": [
    "**10. Marie, una ciclista francesa, también se encuentra en la competencia. Su bicicleta tiene ruedas circulares de $50\\ \\rm{cm}$ de diámetro. Si Marie pedalea hasta lograr que su rueda gire a $45^\\circ$ cada centésima de segundo, ¿cuánto tiempo tardará en llegar a la meta?**"
   ]
  },
  {
   "cell_type": "markdown",
   "metadata": {},
   "source": [
    "Primero convertimos el ángulo a radianes para saber la longitud de arco."
   ]
  },
  {
   "cell_type": "markdown",
   "metadata": {},
   "source": [
    "$$ 45^\\circ=\\dfrac{45}{180}\\pi\\ \\rm{rad}=\\dfrac{\\pi}{4}\\ \\rm{rad}$$"
   ]
  },
  {
   "cell_type": "code",
   "execution_count": 2,
   "metadata": {},
   "outputs": [
    {
     "data": {
      "text/plain": [
       "0.7853981633974483"
      ]
     },
     "execution_count": 2,
     "metadata": {},
     "output_type": "execute_result"
    }
   ],
   "source": [
    "45*pi/180"
   ]
  },
  {
   "cell_type": "markdown",
   "metadata": {},
   "source": [
    "$$ \\text{longitud de arco}=\\theta\\cdot R $$"
   ]
  },
  {
   "cell_type": "markdown",
   "metadata": {},
   "source": [
    "$$ =\\left(\\dfrac{\\pi}{4}\\right)\\cdot(25\\ \\rm{cm}) $$"
   ]
  },
  {
   "cell_type": "markdown",
   "metadata": {},
   "source": [
    "$$ =19.63475cm $$"
   ]
  },
  {
   "cell_type": "code",
   "execution_count": 3,
   "metadata": {},
   "outputs": [
    {
     "data": {
      "text/plain": [
       "19.63475"
      ]
     },
     "execution_count": 3,
     "metadata": {},
     "output_type": "execute_result"
    }
   ],
   "source": [
    "0.78539*25"
   ]
  },
  {
   "cell_type": "markdown",
   "metadata": {},
   "source": [
    "Toda la pista mide $192\\ \\rm{km}=19200000\\ \\rm{cm}$"
   ]
  },
  {
   "cell_type": "markdown",
   "metadata": {},
   "source": [
    "$$\\text{Número de veces que la rueda giró }45^\\circ=\\dfrac{\\text{Longitud de la pista}}{\\text{Longitud de arco de la rueda}}=977858.13 $$"
   ]
  },
  {
   "cell_type": "code",
   "execution_count": 4,
   "metadata": {},
   "outputs": [
    {
     "data": {
      "text/plain": [
       "977858.1341753778"
      ]
     },
     "execution_count": 4,
     "metadata": {},
     "output_type": "execute_result"
    }
   ],
   "source": [
    "19200000/19.63475"
   ]
  },
  {
   "cell_type": "markdown",
   "metadata": {},
   "source": [
    "$$\\text{Tiempo}=(\\text{Número de veces que la rueda giró }45^\\circ)\\times(\\text{Tiempo que tarda la rueda en girar }45^\\circ)=9778.58 $$"
   ]
  },
  {
   "cell_type": "code",
   "execution_count": 5,
   "metadata": {},
   "outputs": [
    {
     "data": {
      "text/plain": [
       "9778.581341753777"
      ]
     },
     "execution_count": 5,
     "metadata": {},
     "output_type": "execute_result"
    }
   ],
   "source": [
    "977858.1341753778*1/100"
   ]
  },
  {
   "cell_type": "markdown",
   "metadata": {},
   "source": [
    "Para llegar a la meta Marie se tarda $9778.58\\ \\rm{s}$\n",
    "\n",
    "Usamos regla de tres para pasar los segundos a horas:"
   ]
  },
  {
   "cell_type": "markdown",
   "metadata": {},
   "source": [
    "$$ 9778.58\\ \\rm{s}=9778.58\\ \\rm{s}\\left(\\dfrac{1\\ \\rm{min}}{60\\ \\rm{s}}\\right)\\left(\\dfrac{1\\ \\rm{hora}}{60\\ \\rm{min}}\\right)=2.71\\ \\rm{horas} $$"
   ]
  },
  {
   "cell_type": "code",
   "execution_count": 6,
   "metadata": {},
   "outputs": [
    {
     "data": {
      "text/plain": [
       "162.97633333333334"
      ]
     },
     "execution_count": 6,
     "metadata": {},
     "output_type": "execute_result"
    }
   ],
   "source": [
    "9778.58/60"
   ]
  },
  {
   "cell_type": "code",
   "execution_count": 7,
   "metadata": {},
   "outputs": [
    {
     "data": {
      "text/plain": [
       "2.7161666666666666"
      ]
     },
     "execution_count": 7,
     "metadata": {},
     "output_type": "execute_result"
    }
   ],
   "source": [
    "162.97/60"
   ]
  },
  {
   "cell_type": "markdown",
   "metadata": {},
   "source": [
    "Para llegar a la meta Marie se tarda $2.71\\ \\rm{horas}$"
   ]
  },
  {
   "cell_type": "markdown",
   "metadata": {},
   "source": [
    "a) Menos de 2 horas\n",
    "\n",
    "b) Más de 2 horas pero menos 4 horas\n",
    "\n",
    "c) Más de 4 horas pero menos 6 horas\n",
    "\n",
    "d) Ninguna de las anteriores"
   ]
  },
  {
   "cell_type": "markdown",
   "metadata": {},
   "source": [
    "**Solución:** b)"
   ]
  },
  {
   "cell_type": "markdown",
   "metadata": {},
   "source": [
    "**11. Marie cambia las ruedas por otras que tienen un rin de $55\\ \\rm{cm}$ de diámetro con una llanta de $3\\ \\rm{cm}$ de ancho. ¿Cuánta distancia recorrerá la nueva rueda al dar una vuelta?**"
   ]
  },
  {
   "cell_type": "markdown",
   "metadata": {},
   "source": [
    "$$ P=C=2\\pi\\cdot R=\\pi\\cdot D $$"
   ]
  },
  {
   "cell_type": "markdown",
   "metadata": {},
   "source": [
    "El nuevo radio sería $30.5\\ \\rm{cm}$"
   ]
  },
  {
   "cell_type": "markdown",
   "metadata": {},
   "source": [
    "El  nuevo diámetro sería $61\\ \\rm{cm}$"
   ]
  },
  {
   "cell_type": "markdown",
   "metadata": {},
   "source": [
    "$$ P=C=61\\pi\\ cm $$"
   ]
  },
  {
   "cell_type": "markdown",
   "metadata": {},
   "source": [
    "a) $122\\pi\\ \\rm{cm}$\n",
    "\n",
    "b) $116\\pi\\ \\rm{cm}$\n",
    "\n",
    "c) $61\\pi\\ \\rm{cm}$\n",
    "\n",
    "d) $58\\pi\\ \\rm{cm}$"
   ]
  },
  {
   "cell_type": "markdown",
   "metadata": {},
   "source": [
    "**Solución:** c)"
   ]
  },
  {
   "cell_type": "markdown",
   "metadata": {},
   "source": [
    "**12. Marie quiere pintar los rines de sus nuevas ruedas de color naranja. Cada rayo (sector circular) tiene un ángulo de $30^\\circ$ desde el centro de la rueda. Si la pintura cuesta $0.5$ euros el mililitro y un mililitro de pintura rinde para $130 \\rm{cm}^2$, ¿cuánto gastará para pintar ambas cara de sus dos rines?**"
   ]
  },
  {
   "cell_type": "markdown",
   "metadata": {},
   "source": [
    "<img src=\"rines.png\" align=\"middle\" width=\"400\">"
   ]
  },
  {
   "cell_type": "markdown",
   "metadata": {},
   "source": [
    "El área de un sector circular es"
   ]
  },
  {
   "cell_type": "markdown",
   "metadata": {},
   "source": [
    "$$ A=\\dfrac{\\theta R^2}{2} $$"
   ]
  },
  {
   "cell_type": "markdown",
   "metadata": {},
   "source": [
    "Convertimos el ángulo a radianes."
   ]
  },
  {
   "cell_type": "markdown",
   "metadata": {},
   "source": [
    "$$ 180^\\circ=\\dfrac{\\pi}{6}\\ \\rm{rad} $$"
   ]
  },
  {
   "cell_type": "code",
   "execution_count": 9,
   "metadata": {},
   "outputs": [
    {
     "data": {
      "text/plain": [
       "0.5235987755982988"
      ]
     },
     "execution_count": 9,
     "metadata": {},
     "output_type": "execute_result"
    }
   ],
   "source": [
    "π/6"
   ]
  },
  {
   "cell_type": "markdown",
   "metadata": {},
   "source": [
    "$$ A=\\dfrac{\\dfrac{\\pi}{6} (27.5\\ \\rm{cm})^2}{2} $$"
   ]
  },
  {
   "cell_type": "code",
   "execution_count": 10,
   "metadata": {},
   "outputs": [
    {
     "data": {
      "text/plain": [
       "197.98578702310675"
      ]
     },
     "execution_count": 10,
     "metadata": {},
     "output_type": "execute_result"
    }
   ],
   "source": [
    "0.5235987755982988*(27.5)^2/2"
   ]
  },
  {
   "cell_type": "markdown",
   "metadata": {},
   "source": [
    "El área del sector circular es $197.98\\ \\rm{cm}^2$"
   ]
  },
  {
   "cell_type": "markdown",
   "metadata": {},
   "source": [
    "Como hay $4$ rayos, $2$ caras de cada rin, y $2$ rines, tenemos que multiplicar el área del sector circular por $16$."
   ]
  },
  {
   "cell_type": "code",
   "execution_count": 11,
   "metadata": {
    "scrolled": true
   },
   "outputs": [
    {
     "data": {
      "text/plain": [
       "3167.772592369708"
      ]
     },
     "execution_count": 11,
     "metadata": {},
     "output_type": "execute_result"
    }
   ],
   "source": [
    "16*197.98578702310675"
   ]
  },
  {
   "cell_type": "markdown",
   "metadata": {},
   "source": [
    "El área total a pintar es $3167.77\\ \\rm{cm}^2$"
   ]
  },
  {
   "cell_type": "code",
   "execution_count": 12,
   "metadata": {},
   "outputs": [
    {
     "data": {
      "text/plain": [
       "24.367481479766983"
      ]
     },
     "execution_count": 12,
     "metadata": {},
     "output_type": "execute_result"
    }
   ],
   "source": [
    "3167.772592369708/130"
   ]
  },
  {
   "cell_type": "markdown",
   "metadata": {},
   "source": [
    "De aquí hay que usar pura regla de tres:"
   ]
  },
  {
   "cell_type": "markdown",
   "metadata": {},
   "source": [
    "La pintura necesaria es $24.36\\ \\rm{mL}$"
   ]
  },
  {
   "cell_type": "code",
   "execution_count": 13,
   "metadata": {},
   "outputs": [
    {
     "data": {
      "text/plain": [
       "12.183740739883492"
      ]
     },
     "execution_count": 13,
     "metadata": {},
     "output_type": "execute_result"
    }
   ],
   "source": [
    "24.367481479766983*0.5"
   ]
  },
  {
   "cell_type": "markdown",
   "metadata": {},
   "source": [
    "La chamba salió en $12.18$ euros."
   ]
  },
  {
   "cell_type": "markdown",
   "metadata": {},
   "source": [
    "a) Menos de $5$ euros\n",
    "\n",
    "b) Más de $5$ euros pero menor de $10$ euros\n",
    "\n",
    "c) Más de $10$ euros pero menor de $15$ euros\n",
    "\n",
    "d) Más de $15$ euros"
   ]
  },
  {
   "cell_type": "markdown",
   "metadata": {},
   "source": [
    "**Solución:** c)"
   ]
  },
  {
   "cell_type": "markdown",
   "metadata": {},
   "source": [
    "## Situación 1"
   ]
  },
  {
   "cell_type": "markdown",
   "metadata": {},
   "source": [
    "**1. La diagonal de un cuadrado mide $x$ unidades. Su área, en unidades cuadradas, es**"
   ]
  },
  {
   "cell_type": "markdown",
   "metadata": {},
   "source": [
    "<img src=\"fractal1.png\" align=\"middle\" width=\"160\">"
   ]
  },
  {
   "cell_type": "markdown",
   "metadata": {},
   "source": [
    "$$ L^2+L^2=x^2 $$"
   ]
  },
  {
   "cell_type": "markdown",
   "metadata": {},
   "source": [
    "$$ 2L^2=x^2 $$"
   ]
  },
  {
   "cell_type": "markdown",
   "metadata": {},
   "source": [
    "$$ L^2=\\dfrac{x^2}{2} $$"
   ]
  },
  {
   "cell_type": "markdown",
   "metadata": {},
   "source": [
    "$$ L=\\sqrt{\\dfrac{x^2}{2}} $$"
   ]
  },
  {
   "cell_type": "markdown",
   "metadata": {},
   "source": [
    "El área de un cuadrado\n",
    "$$A=L\\cdot L=L^2=\\dfrac{x^2}{2}$$"
   ]
  },
  {
   "cell_type": "markdown",
   "metadata": {},
   "source": [
    "a) $\\dfrac{x}{\\sqrt{2}}$\n",
    "\n",
    "b) $\\sqrt{2}x^2$\n",
    "\n",
    "c) $\\dfrac{x^2}{2}$\n",
    "\n",
    "d) $\\dfrac{\\sqrt{3}}{4}x$"
   ]
  },
  {
   "cell_type": "markdown",
   "metadata": {},
   "source": [
    "**Solución:** c)"
   ]
  },
  {
   "cell_type": "markdown",
   "metadata": {},
   "source": [
    "**2. Para la figura que se muestra, la proporción del área del triángulo con respeto al área del cuadrado es**"
   ]
  },
  {
   "cell_type": "markdown",
   "metadata": {},
   "source": [
    "<img src=\"fractal2.png\" align=\"middle\" width=\"175\">"
   ]
  },
  {
   "cell_type": "markdown",
   "metadata": {},
   "source": [
    "a) $\\dfrac{1}{4}$\n",
    "\n",
    "b) $\\dfrac{1}{8}$\n",
    "\n",
    "c) $\\dfrac{1}{9}$\n",
    "\n",
    "d) $\\dfrac{1}{16}$"
   ]
  },
  {
   "cell_type": "markdown",
   "metadata": {},
   "source": [
    "**Solución:** "
   ]
  },
  {
   "cell_type": "markdown",
   "metadata": {},
   "source": [
    "**3. El área sombreada de la siguiente figura, en unidades cuadradas, es**"
   ]
  },
  {
   "cell_type": "markdown",
   "metadata": {},
   "source": [
    "<img src=\"fractal3.png\" align=\"middle\" width=\"300\">"
   ]
  },
  {
   "cell_type": "markdown",
   "metadata": {},
   "source": [
    "a) $2x^2+\\dfrac{1}{4}$\n",
    "\n",
    "b) $\\dfrac{x^2}{2}+\\dfrac{1}{8}$\n",
    "\n",
    "c) $\\dfrac{7}{16}x^2$\n",
    "\n",
    "d) $\\dfrac{3}{4}x^2$"
   ]
  },
  {
   "cell_type": "markdown",
   "metadata": {},
   "source": [
    "**Solución:** "
   ]
  },
  {
   "cell_type": "markdown",
   "metadata": {},
   "source": [
    "**4. El área sombreada de la siguiente figura, en unidades cuadradas, es**"
   ]
  },
  {
   "cell_type": "markdown",
   "metadata": {},
   "source": [
    "<img src=\"fractal4.png\" align=\"middle\" width=\"300\">"
   ]
  },
  {
   "cell_type": "markdown",
   "metadata": {},
   "source": [
    "a) $\\dfrac{3}{2}x^2$\n",
    "\n",
    "b) $\\dfrac{5}{4}x^2$\n",
    "\n",
    "c) $\\dfrac{7}{8}x^2$\n",
    "\n",
    "d) $\\dfrac{3}{4}x^2$"
   ]
  },
  {
   "cell_type": "markdown",
   "metadata": {},
   "source": [
    "**Solución:** "
   ]
  },
  {
   "cell_type": "markdown",
   "metadata": {},
   "source": [
    "# Álgebra para analizar objetos geométricos"
   ]
  },
  {
   "cell_type": "markdown",
   "metadata": {},
   "source": [
    "# Clase 1"
   ]
  },
  {
   "cell_type": "markdown",
   "metadata": {},
   "source": [
    "### Ejes coordenados"
   ]
  },
  {
   "cell_type": "markdown",
   "metadata": {},
   "source": [
    "Eje $x$ (eje de las abscisas)\n",
    "\n",
    "Eje $y$ (eje de las ordenadas)"
   ]
  },
  {
   "cell_type": "markdown",
   "metadata": {},
   "source": [
    "**¿Cómo nos movemos en el plano cartesiano?**"
   ]
  },
  {
   "cell_type": "markdown",
   "metadata": {},
   "source": [
    "Para empezar a movernos en el plano cartesiano tenemos que partir del origen $O(0,0)$"
   ]
  },
  {
   "cell_type": "markdown",
   "metadata": {},
   "source": [
    "Si las coordenadas son $(x,y)$, la $x$ nos indica cuántas unidades movernos sobre el eje de las $x$ (si es positivo nos movemos hacia la derecha; si es negativo, hacia la izquierda)."
   ]
  },
  {
   "cell_type": "markdown",
   "metadata": {},
   "source": [
    "La segunda coordenada (la ordenada $y$) nos indica cuántas unidades movernos sobre el eje de las $y$ (si es positivo nos movemos hacia arriba; si es negativo, hacia abajo)."
   ]
  },
  {
   "cell_type": "markdown",
   "metadata": {},
   "source": [
    "$P_1(1,3)$"
   ]
  },
  {
   "cell_type": "markdown",
   "metadata": {},
   "source": [
    "$P_2(-2,2)$"
   ]
  },
  {
   "cell_type": "markdown",
   "metadata": {},
   "source": [
    "$P_3(-4,-3)$"
   ]
  },
  {
   "cell_type": "markdown",
   "metadata": {},
   "source": [
    "$P_4(2,-4)$"
   ]
  },
  {
   "cell_type": "markdown",
   "metadata": {},
   "source": [
    "Cuadrantes:\n",
    "* Primer cuadrante $(+,+)$\n",
    "* Segundo cuadrante $(-,+)$\n",
    "* Tercer cuadrante $(-,-)$\n",
    "* Cuarto cuadrante $(+,-)$\n"
   ]
  },
  {
   "cell_type": "markdown",
   "metadata": {},
   "source": [
    "## Distancia"
   ]
  },
  {
   "cell_type": "markdown",
   "metadata": {},
   "source": [
    "Si tenemos dos puntos $P(x_1,y_1)$ y $Q(x_2,y_2)$, la longitud del segmento entre estos puntos es\n",
    "\n",
    "$$ \\overline{PQ}=\\sqrt{(x_1-x_2)^2+(y_1-y_2)^2} $$"
   ]
  },
  {
   "cell_type": "markdown",
   "metadata": {},
   "source": [
    "* ***Ejemplo:*** Determine la distancia entre los puntos $A(-2,1)$, y $B(1,5)$"
   ]
  },
  {
   "cell_type": "markdown",
   "metadata": {},
   "source": [
    "$$ \\overline{AB}=\\sqrt{[(-2)-(1)]^2+[(1)-(5)]^2} $$"
   ]
  },
  {
   "cell_type": "markdown",
   "metadata": {},
   "source": [
    "$$ =\\sqrt{[-3]^2+[-4]^2} $$"
   ]
  },
  {
   "cell_type": "markdown",
   "metadata": {},
   "source": [
    "$$ =\\sqrt{9+16} $$"
   ]
  },
  {
   "cell_type": "markdown",
   "metadata": {},
   "source": [
    "$$ =\\sqrt{25} $$"
   ]
  },
  {
   "cell_type": "markdown",
   "metadata": {},
   "source": [
    "$$ =5 $$"
   ]
  },
  {
   "cell_type": "markdown",
   "metadata": {},
   "source": [
    "Si tenemos dos puntos $P(x_1,y_1)$ y $Q(x_2,y_2)$, la longitud del segmento entre estos puntos es\n",
    "\n",
    "$$ \\overline{PQ}=\\sqrt{(x_1-x_2)^2+(y_1-y_2)^2} $$"
   ]
  },
  {
   "cell_type": "markdown",
   "metadata": {},
   "source": [
    "* ***Ejemplo:*** Determine el punto equidistante entre los puntos $A(-2,3)$, $B(4,1)$, y $C(1,7)$"
   ]
  },
  {
   "cell_type": "markdown",
   "metadata": {},
   "source": [
    "El punto del problema es encontrar El cuarto que será equidistante a los otros tres puntos es $P(x,y)$."
   ]
  },
  {
   "cell_type": "markdown",
   "metadata": {},
   "source": [
    "¿Cuál es la distancia entre $A$ y $P$?"
   ]
  },
  {
   "cell_type": "markdown",
   "metadata": {},
   "source": [
    "$$\\overline{AP}=\\sqrt{[(-2)-x]^2+[(3)-y]^2}$$"
   ]
  },
  {
   "cell_type": "markdown",
   "metadata": {},
   "source": [
    "$$\\overline{AP}=\\sqrt{(-2-x)^2+(3-y)^2}$$"
   ]
  },
  {
   "cell_type": "markdown",
   "metadata": {},
   "source": [
    "¿Cuál es la distancia entre $B$ y $P$?"
   ]
  },
  {
   "cell_type": "markdown",
   "metadata": {},
   "source": [
    "$$\\overline{BP}=\\sqrt{[(4)-x]^2+[(1)-y]^2}$$"
   ]
  },
  {
   "cell_type": "markdown",
   "metadata": {},
   "source": [
    "$$\\overline{BP}=\\sqrt{(4-x)^2+(1-y)^2}$$"
   ]
  },
  {
   "cell_type": "markdown",
   "metadata": {},
   "source": [
    "¿Cuál es la distancia entre $C$ y $P$?"
   ]
  },
  {
   "cell_type": "markdown",
   "metadata": {},
   "source": [
    "$$\\overline{CP}=\\sqrt{[(1)-x]^2+[(7)-y]^2}$$"
   ]
  },
  {
   "cell_type": "markdown",
   "metadata": {},
   "source": [
    "$$\\overline{CP}=\\sqrt{(1-x)^2+(7-y)^2}$$"
   ]
  },
  {
   "cell_type": "markdown",
   "metadata": {},
   "source": [
    "**1ra ecuación**"
   ]
  },
  {
   "cell_type": "markdown",
   "metadata": {},
   "source": [
    "$$ \\overline{AP}=\\overline{BP} $$"
   ]
  },
  {
   "cell_type": "markdown",
   "metadata": {},
   "source": [
    "$$ \\sqrt{(-2-x)^2+(3-y)^2}=\\sqrt{(4-x)^2+(1-y)^2} $$"
   ]
  },
  {
   "cell_type": "markdown",
   "metadata": {},
   "source": [
    "Elevamos toda la ecuación al cuadrado para eliminar las raíces de cada lado:"
   ]
  },
  {
   "cell_type": "markdown",
   "metadata": {},
   "source": [
    "$$ (-2-x)^2+(3-y)^2=(4-x)^2+(1-y)^2 $$"
   ]
  },
  {
   "cell_type": "markdown",
   "metadata": {},
   "source": [
    "Elevamos cada binomio al cuadrado:"
   ]
  },
  {
   "cell_type": "markdown",
   "metadata": {},
   "source": [
    "$$ [(-2)^2+2(-2)(-x)+(-x)^2]+[(3)^2+2(3)(-y)+(-y)^2]=[(4)^2+2(4)(-x)+(-x)^2]+[(1)^2+2(1)(-y)+(-y)^2] $$"
   ]
  },
  {
   "cell_type": "markdown",
   "metadata": {},
   "source": [
    "$$ [4+4x+x^2]+[9-6y+y^2]=[16-8x+x^2]+[1-2y+y^2] $$"
   ]
  },
  {
   "cell_type": "markdown",
   "metadata": {},
   "source": [
    "$$ 4x+x^2-6y+y^2+8x-x^2+2y-y^2=16+1-4-9 $$"
   ]
  },
  {
   "cell_type": "markdown",
   "metadata": {},
   "source": [
    "$$ 4x-6y+8x+2y=16+1-4-9 $$"
   ]
  },
  {
   "cell_type": "markdown",
   "metadata": {},
   "source": [
    "$$ 12x-4y=5 $$"
   ]
  },
  {
   "cell_type": "markdown",
   "metadata": {},
   "source": [
    "**2da ecuación**"
   ]
  },
  {
   "cell_type": "markdown",
   "metadata": {},
   "source": [
    "$$ \\overline{BP}=\\overline{CP} $$"
   ]
  },
  {
   "cell_type": "markdown",
   "metadata": {},
   "source": [
    "$$ ? $$"
   ]
  },
  {
   "cell_type": "markdown",
   "metadata": {},
   "source": [
    "**Tarea:** Terminen el ejercicio y encuentren que el punto es $P(3/2,7/2)$."
   ]
  },
  {
   "cell_type": "markdown",
   "metadata": {},
   "source": [
    "* ***Ejemplo:*** Determina si el triángulo formado por los puntos $A(0,0)$, $B(6,5)$, y $C(1,6)$ es escaleno, isósceles o equilátero."
   ]
  }
 ],
 "metadata": {
  "kernelspec": {
   "display_name": "Julia 1.1.0",
   "language": "julia",
   "name": "julia-1.1"
  },
  "language_info": {
   "file_extension": ".jl",
   "mimetype": "application/julia",
   "name": "julia",
   "version": "1.1.0"
  }
 },
 "nbformat": 4,
 "nbformat_minor": 4
}
