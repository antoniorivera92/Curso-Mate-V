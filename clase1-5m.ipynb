{
 "cells": [
  {
   "cell_type": "markdown",
   "metadata": {},
   "source": [
    "# Pensamiento geométrico para visualizar y argumentar"
   ]
  },
  {
   "cell_type": "markdown",
   "metadata": {},
   "source": [
    "### Teorema de Pitágoras\n",
    "*La suma de los catetos al cuadrado es igual a la hipotenusa al cuadrado.*\n",
    "$$ a^2+b^2=c^2$$"
   ]
  },
  {
   "cell_type": "markdown",
   "metadata": {},
   "source": [
    "<img src=\"triangulo_rect.png\" align=\"middle\" width=\"300\">"
   ]
  },
  {
   "cell_type": "markdown",
   "metadata": {},
   "source": [
    "## Funciones trigonométricas"
   ]
  },
  {
   "cell_type": "markdown",
   "metadata": {},
   "source": [
    "$$ \\sin x=\\dfrac{\\text{c.o.}}{\\text{hip.}} $$\n",
    "\n",
    "$$ \\cos x=\\dfrac{\\text{c.a.}}{\\text{hip.}} $$\n",
    "\n",
    "$$ \\tan x=\\dfrac{\\text{c.o.}}{\\text{c.a.}} $$"
   ]
  },
  {
   "cell_type": "markdown",
   "metadata": {},
   "source": [
    "## Triángulos oblicuángulos"
   ]
  },
  {
   "cell_type": "markdown",
   "metadata": {},
   "source": [
    "### Ley de senos\n",
    "\n",
    "Ésta nos sirve cuando:\n",
    "* conocemos dos lados y un ángulo opuesto, y queremos conocer el otro ángulo opuesto\n",
    "* conocemos dos ángulos y un lado opuesto, y queremos conocer el otro lado opuesto"
   ]
  },
  {
   "cell_type": "markdown",
   "metadata": {},
   "source": [
    "$$ \\dfrac{\\sin A}{a}=\\dfrac{\\sin B}{b}=\\dfrac{\\sin C}{c} $$"
   ]
  },
  {
   "cell_type": "markdown",
   "metadata": {},
   "source": [
    "### Ley de cosenos\n",
    "\n",
    "Ésta nos sirve cuando:\n",
    "* conocemos los tres lados y queremos conocer el ángulo opuesto a cualquiera de los lados\n",
    "* conocemos dos lados y el ángulo entre estos lados, y queremos conocer el lado opuesto a este ángulo."
   ]
  },
  {
   "cell_type": "markdown",
   "metadata": {},
   "source": [
    "<img src=\"triangulo.png\" align=\"middle\" width=\"300\">"
   ]
  },
  {
   "cell_type": "markdown",
   "metadata": {},
   "source": [
    "*El cuadrado de un lado es igual a la diferencia de la suma de los cuadrados de los otros lados y el doble del producto de los otros lados con el coseno del ángulo opuesto al lado inicial.*"
   ]
  },
  {
   "cell_type": "markdown",
   "metadata": {},
   "source": [
    "$$ a^2=b^2+c^2-2bc\\cos A $$"
   ]
  },
  {
   "cell_type": "markdown",
   "metadata": {},
   "source": [
    "$$ b^2=a^2+c^2-2ac\\cos B $$"
   ]
  },
  {
   "cell_type": "markdown",
   "metadata": {},
   "source": [
    "$$ c^2=a^2+b^2-2ab\\cos C $$"
   ]
  },
  {
   "cell_type": "markdown",
   "metadata": {},
   "source": [
    "<img src=\"triangulo.png\" align=\"middle\" width=\"300\">"
   ]
  },
  {
   "cell_type": "markdown",
   "metadata": {},
   "source": [
    "* ***Ejemplo:***\n",
    "\n",
    "Un triángulo oblicuángulo tiene lados $c=6$, $B=80^\\circ$, $C=60^\\circ$. Encuentra $b$ usando ley de senos y $a$ usando ley de cosenos. "
   ]
  },
  {
   "cell_type": "markdown",
   "metadata": {},
   "source": [
    "* Datos\n",
    "     * $c=6$\n",
    "     * $B=80^\\circ$\n",
    "     * $C=60^\\circ$\n",
    "     * $b=?$"
   ]
  },
  {
   "cell_type": "markdown",
   "metadata": {},
   "source": [
    "* Fórmula\n",
    "\n",
    "$$ \\frac{\\sin C}{c}=\\frac{\\sin B}{b} $$"
   ]
  },
  {
   "cell_type": "markdown",
   "metadata": {},
   "source": [
    "$$ b\\frac{\\sin C}{c}=\\sin B $$"
   ]
  },
  {
   "cell_type": "markdown",
   "metadata": {},
   "source": [
    "$$ b=\\frac{c\\sin B}{\\sin C} $$"
   ]
  },
  {
   "cell_type": "code",
   "execution_count": 1,
   "metadata": {},
   "outputs": [
    {
     "data": {
      "text/plain": [
       "6.822948255619545"
      ]
     },
     "execution_count": 1,
     "metadata": {},
     "output_type": "execute_result"
    }
   ],
   "source": [
    "6*sind(80)/sind(60)"
   ]
  },
  {
   "cell_type": "markdown",
   "metadata": {},
   "source": [
    "$$ b=\\frac{6\\sin 80}{\\sin 60}=6.82 $$"
   ]
  },
  {
   "cell_type": "markdown",
   "metadata": {},
   "source": [
    "* Datos\n",
    "     * $c=6$\n",
    "     * $A=40^\\circ$\n",
    "     * $B=80^\\circ$\n",
    "     * $C=60^\\circ$\n",
    "     * $b=6.82$\n",
    "     * $a=?$"
   ]
  },
  {
   "cell_type": "markdown",
   "metadata": {},
   "source": [
    "$$ a^2=b^2+c^2-2bc\\,\\cos A $$"
   ]
  },
  {
   "cell_type": "markdown",
   "metadata": {},
   "source": [
    "$$ a=\\sqrt{b^2+c^2-2bc\\,\\cos A}$$"
   ]
  },
  {
   "cell_type": "code",
   "execution_count": 2,
   "metadata": {},
   "outputs": [
    {
     "data": {
      "text/plain": [
       "4.451889798180415"
      ]
     },
     "execution_count": 2,
     "metadata": {},
     "output_type": "execute_result"
    }
   ],
   "source": [
    "√(6.82^2+6^2-2*6.82*6*cosd(40))"
   ]
  },
  {
   "cell_type": "markdown",
   "metadata": {},
   "source": [
    "* ***Ejemplo:***\n",
    "\n",
    "Un triángulo oblicuángulo tiene lados $a=4$, $b=9$, $c=6$. Encuentra $C$ usando ley de cosenos y $B$ usando ley de senos. "
   ]
  },
  {
   "cell_type": "markdown",
   "metadata": {},
   "source": [
    "* Datos\n",
    "     * $a=4$\n",
    "     * $b=9$\n",
    "     * $c=6$\n",
    "     * $C=?$"
   ]
  },
  {
   "cell_type": "markdown",
   "metadata": {},
   "source": [
    "* Fórmula\n",
    "\n",
    "$$ c^2=a^2+b^2-2ab\\,\\cos C $$"
   ]
  },
  {
   "cell_type": "markdown",
   "metadata": {},
   "source": [
    "$$ c^2-a^2-b^2=-2ab\\,\\cos C $$"
   ]
  },
  {
   "cell_type": "markdown",
   "metadata": {},
   "source": [
    "$$ \\cos C=\\frac{c^2-a^2-b^2}{-2ab} $$"
   ]
  },
  {
   "cell_type": "markdown",
   "metadata": {},
   "source": [
    "$$ C=\\cos^{-1}\\left(\\frac{c^2-a^2-b^2}{-2ab}\\right) $$"
   ]
  },
  {
   "cell_type": "code",
   "execution_count": 3,
   "metadata": {},
   "outputs": [
    {
     "data": {
      "text/plain": [
       "32.08918386326597"
      ]
     },
     "execution_count": 3,
     "metadata": {},
     "output_type": "execute_result"
    }
   ],
   "source": [
    "acosd((6^2-4^2-9^2)/(-2*4*9))"
   ]
  },
  {
   "cell_type": "markdown",
   "metadata": {},
   "source": [
    "$$ C=\\cos^{-1}\\left(\\frac{6^2-4^2-9^2}{-2\\cdot 4\\cdot9}\\right)=32.08^\\circ $$"
   ]
  },
  {
   "cell_type": "markdown",
   "metadata": {},
   "source": [
    "* Datos\n",
    "     * $a=4$\n",
    "     * $b=9$\n",
    "     * $c=6$\n",
    "     * $C=32.08^\\circ$\n",
    "     * $B=52.81^\\circ$\n",
    "     * $A=95.11^\\circ$"
   ]
  },
  {
   "cell_type": "markdown",
   "metadata": {},
   "source": [
    "$$ \\frac{\\sin B}{b}=\\frac{\\sin C}{c} $$"
   ]
  },
  {
   "cell_type": "markdown",
   "metadata": {},
   "source": [
    "$$ \\sin B=b\\frac{\\sin C}{c} $$"
   ]
  },
  {
   "cell_type": "markdown",
   "metadata": {},
   "source": [
    "$$ B=\\sin^{-1}\\left(b\\frac{\\sin C}{c}\\right) $$"
   ]
  },
  {
   "cell_type": "markdown",
   "metadata": {},
   "source": [
    "$$ B=\\sin^{-1}\\left(9\\frac{\\sin 32.08^\\circ}{6}\\right) $$"
   ]
  },
  {
   "cell_type": "code",
   "execution_count": 8,
   "metadata": {},
   "outputs": [
    {
     "data": {
      "text/plain": [
       "0.796654268723335"
      ]
     },
     "execution_count": 8,
     "metadata": {},
     "output_type": "execute_result"
    }
   ],
   "source": [
    "9*sind(32.08)/6"
   ]
  },
  {
   "cell_type": "code",
   "execution_count": 5,
   "metadata": {},
   "outputs": [
    {
     "data": {
      "text/plain": [
       "52.81178588533009"
      ]
     },
     "execution_count": 5,
     "metadata": {},
     "output_type": "execute_result"
    }
   ],
   "source": [
    "asind(9*sind(32.08)/6)"
   ]
  },
  {
   "cell_type": "code",
   "execution_count": 7,
   "metadata": {},
   "outputs": [
    {
     "data": {
      "text/plain": [
       "95.11"
      ]
     },
     "execution_count": 7,
     "metadata": {},
     "output_type": "execute_result"
    }
   ],
   "source": [
    "180-52.81-32.08"
   ]
  },
  {
   "cell_type": "markdown",
   "metadata": {},
   "source": [
    "## Problemas de extra"
   ]
  },
  {
   "cell_type": "markdown",
   "metadata": {},
   "source": [
    "### Situación 1. Estrellas\n",
    "\n",
    "**1. El lado de un triángulo equilátero mide $x$ unidades. Su área, en unidades cuadradas, es (2 puntos)**"
   ]
  },
  {
   "cell_type": "markdown",
   "metadata": {},
   "source": [
    "<img src=\"equi.png\" align=\"middle\" width=\"200\">"
   ]
  },
  {
   "cell_type": "markdown",
   "metadata": {},
   "source": [
    "* DAtos:\n",
    "     * $a=b=c=x$\n",
    "     * $A=B=C=60^\\circ$"
   ]
  },
  {
   "cell_type": "markdown",
   "metadata": {},
   "source": [
    "Fórmula\n",
    "$$ A=\\frac{b\\cdot h}{2} $$"
   ]
  },
  {
   "cell_type": "markdown",
   "metadata": {},
   "source": [
    "60, c.o., hip."
   ]
  },
  {
   "cell_type": "markdown",
   "metadata": {},
   "source": [
    "$$ \\sin 60^\\circ=\\frac{h}{x} $$"
   ]
  },
  {
   "cell_type": "markdown",
   "metadata": {},
   "source": [
    "$$ h=x\\sin 60^\\circ $$"
   ]
  },
  {
   "cell_type": "code",
   "execution_count": 10,
   "metadata": {},
   "outputs": [
    {
     "data": {
      "text/plain": [
       "0.8660254037844386"
      ]
     },
     "execution_count": 10,
     "metadata": {},
     "output_type": "execute_result"
    }
   ],
   "source": [
    "sind(60)"
   ]
  },
  {
   "cell_type": "code",
   "execution_count": 11,
   "metadata": {},
   "outputs": [
    {
     "data": {
      "text/plain": [
       "0.8660254037844386"
      ]
     },
     "execution_count": 11,
     "metadata": {},
     "output_type": "execute_result"
    }
   ],
   "source": [
    "(√3)/2"
   ]
  },
  {
   "cell_type": "markdown",
   "metadata": {},
   "source": [
    "$$ h=0.866x $$"
   ]
  },
  {
   "cell_type": "markdown",
   "metadata": {},
   "source": [
    "$$ A=0.866x^2/2 $$"
   ]
  },
  {
   "cell_type": "markdown",
   "metadata": {},
   "source": [
    "$$ h=\\frac{\\sqrt{3}}{2}x $$"
   ]
  },
  {
   "cell_type": "markdown",
   "metadata": {},
   "source": [
    "$$ A=\\frac{x\\cdot \\left(\\frac{\\sqrt{3}}{2}x\\right)}{2}=\\frac{\\frac{\\sqrt{3}}{2}x^2}{2} $$"
   ]
  },
  {
   "cell_type": "markdown",
   "metadata": {},
   "source": [
    "$$ A=\\frac{\\sqrt{3}}{4}x^2 $$"
   ]
  },
  {
   "cell_type": "markdown",
   "metadata": {},
   "source": [
    "$$ A=0.433x^2 $$"
   ]
  },
  {
   "cell_type": "markdown",
   "metadata": {},
   "source": [
    "a)  $\\dfrac{3x^2}{2}$\n",
    "\n",
    "b)  $\\dfrac{\\sqrt{3}x^2}{4}$\n",
    "\n",
    "c)  $\\dfrac{x^2}{2}$\n",
    "\n",
    "d)  $\\dfrac{\\sqrt{3}x^2}{2}$"
   ]
  },
  {
   "cell_type": "markdown",
   "metadata": {},
   "source": [
    "***Solución:*** b)\n"
   ]
  },
  {
   "cell_type": "markdown",
   "metadata": {},
   "source": [
    "**2. Para la figura que se muestra, la proporción del área del triángulo menor con respeto a la del área mayor es (2 puntos)**"
   ]
  },
  {
   "cell_type": "markdown",
   "metadata": {},
   "source": [
    "<img src=\"extra2-1.png\" align=\"middle\" width=\"200\">"
   ]
  },
  {
   "cell_type": "markdown",
   "metadata": {},
   "source": [
    "El triángulo chiquito cabe 9 veces en el grandote."
   ]
  },
  {
   "cell_type": "markdown",
   "metadata": {},
   "source": [
    "$$ \\frac{A_\\text{triang. chiquito}}{A_\\text{triang. grandote}}=\\frac{1}{9} $$"
   ]
  },
  {
   "cell_type": "markdown",
   "metadata": {},
   "source": [
    "a)  $\\dfrac{1}{3}$\n",
    "\n",
    "b)  $\\dfrac{1}{8}$\n",
    "\n",
    "c)  $\\dfrac{1}{4}$\n",
    "\n",
    "d)  $\\dfrac{1}{9}$"
   ]
  },
  {
   "cell_type": "markdown",
   "metadata": {},
   "source": [
    "***Solución:***\n"
   ]
  },
  {
   "cell_type": "markdown",
   "metadata": {},
   "source": [
    "**3. En la siguiente figura se muestra un segmento $AB$, cuya longitud vale $a$ unidades. El área sombreada, en unidades cuadradas, es (2 puntos)**"
   ]
  },
  {
   "cell_type": "markdown",
   "metadata": {},
   "source": [
    "<img src=\"extra2-2.png\" align=\"middle\" width=\"200\">"
   ]
  },
  {
   "cell_type": "markdown",
   "metadata": {},
   "source": [
    "Sabemos que el área del triángulo en rojo es\n",
    "$$A_\\text{triag. grandote}=\\frac{\\sqrt{3}}{4}a^2$$"
   ]
  },
  {
   "cell_type": "markdown",
   "metadata": {},
   "source": [
    "Sabemos que el área del triángulo en azul es\n",
    "$$A_\\text{triag. chiquito}=\\frac{1}{9}A_\\text{triag. grandote}=\\frac{1}{9}\\frac{\\sqrt{3}}{4}a^2$$"
   ]
  },
  {
   "cell_type": "markdown",
   "metadata": {},
   "source": [
    "$$ A=A_\\text{triag. grandote}+3\\cdot A_\\text{triag. chiquito}  $$"
   ]
  },
  {
   "cell_type": "markdown",
   "metadata": {},
   "source": [
    "$$A=\\frac{\\sqrt{3}}{4}a^2+3\\cdot\\frac{1}{9}\\frac{\\sqrt{3}}{4}a^2$$"
   ]
  },
  {
   "cell_type": "markdown",
   "metadata": {},
   "source": [
    "$$A=\\frac{\\sqrt{3}}{4}a^2\\left(1+3\\cdot\\frac{1}{9}\\right)$$"
   ]
  },
  {
   "cell_type": "markdown",
   "metadata": {},
   "source": [
    "$$A=\\frac{\\sqrt{3}}{4}a^2\\left(1+\\frac{3}{9}\\right)$$"
   ]
  },
  {
   "cell_type": "markdown",
   "metadata": {},
   "source": [
    "$$A=\\frac{\\sqrt{3}}{4}a^2\\left(\\frac{3}{3}+\\frac{1}{3}\\right)$$"
   ]
  },
  {
   "cell_type": "markdown",
   "metadata": {},
   "source": [
    "$$A=\\frac{\\sqrt{3}}{4}a^2\\left(\\frac{4}{3}\\right)$$"
   ]
  },
  {
   "cell_type": "markdown",
   "metadata": {},
   "source": [
    "$$A=\\frac{\\sqrt{3}}{3}a^2$$"
   ]
  },
  {
   "cell_type": "markdown",
   "metadata": {},
   "source": [
    "a)  $\\dfrac{\\sqrt{3}a^2}{3}$\n",
    "\n",
    "b)  $\\dfrac{2\\sqrt{3}a^2}{3}$\n",
    "\n",
    "c)  $\\dfrac{\\sqrt{3}a^2}{4}$\n",
    "\n",
    "d)  $\\dfrac{3\\sqrt{3}a^2}{4}$"
   ]
  },
  {
   "cell_type": "markdown",
   "metadata": {},
   "source": [
    "***Solución:***\n"
   ]
  },
  {
   "cell_type": "markdown",
   "metadata": {},
   "source": [
    "**4. El segmento $AB$ de la siguiente figura tiene una longitud $a$. Entonces el área de la figura sombreada es (2 puntos)**"
   ]
  },
  {
   "cell_type": "markdown",
   "metadata": {},
   "source": [
    "<img src=\"extra2-2.png\" align=\"middle\" width=\"200\">"
   ]
  },
  {
   "cell_type": "markdown",
   "metadata": {},
   "source": [
    "<img src=\"extra2-3.png\" align=\"middle\" width=\"200\">"
   ]
  },
  {
   "cell_type": "markdown",
   "metadata": {},
   "source": [
    "$$ \\frac{A_\\text{triángulo super chiquito}}{A_\\text{triang. chiquito}}=\\frac{1}{9}$$"
   ]
  },
  {
   "cell_type": "markdown",
   "metadata": {},
   "source": [
    "$$ A_\\text{triángulo super chiquito}=\\frac{1}{9}A_\\text{triang. chiquito}=\\frac{1}{9}\\left(\\frac{1}{9}A_\\text{triang. grandote}\\right)=\\frac{1}{81}A_\\text{triang. grandote}$$"
   ]
  },
  {
   "cell_type": "markdown",
   "metadata": {},
   "source": [
    "$$ A_\\text{triag. chiquito}=\\frac{1}{9}A_\\text{triang. grandote}$$"
   ]
  },
  {
   "cell_type": "markdown",
   "metadata": {},
   "source": [
    "$$ A=A_\\text{triag. grandote}+3\\cdot A_\\text{triang. chiquito}+12 A_\\text{triang. super chiquito}  $$"
   ]
  },
  {
   "cell_type": "markdown",
   "metadata": {},
   "source": [
    "$$ A=A_\\text{triag. grandote}+3\\cdot\\frac{1}{9}A_\\text{triag. grandote}+12\\cdot\\frac{1}{81}A_\\text{triag. grandote}  $$"
   ]
  },
  {
   "cell_type": "markdown",
   "metadata": {},
   "source": [
    "$$ A=A_\\text{triag. grandote}\\left(1+3\\cdot\\frac{1}{9}+12\\cdot\\frac{1}{81}\\right)  $$"
   ]
  },
  {
   "cell_type": "markdown",
   "metadata": {},
   "source": [
    "$$ A=A_\\text{triag. grandote}\\left(1+3\\cdot\\frac{1}{9}+12\\cdot\\frac{1}{81}\\right)  $$"
   ]
  },
  {
   "cell_type": "markdown",
   "metadata": {},
   "source": [
    "$$ A=A_\\text{triag. grandote}\\left(1+\\frac{3}{9}+\\frac{12}{81}\\right)  $$"
   ]
  },
  {
   "cell_type": "markdown",
   "metadata": {},
   "source": [
    "$$ A=A_\\text{triag. grandote}\\left(1+\\frac{1}{3}+\\frac{4}{27}\\right)  $$"
   ]
  },
  {
   "cell_type": "markdown",
   "metadata": {},
   "source": [
    "$$ A=A_\\text{triag. grandote}\\left(\\frac{27+9+4}{27}\\right)  $$"
   ]
  },
  {
   "cell_type": "markdown",
   "metadata": {},
   "source": [
    "$$ A=A_\\text{triag. grandote}\\left(\\frac{40}{27}\\right)  $$"
   ]
  },
  {
   "cell_type": "markdown",
   "metadata": {},
   "source": [
    "$$ A=\\frac{\\sqrt{3}}{4}a^2\\left(\\frac{40}{27}\\right)  $$"
   ]
  },
  {
   "cell_type": "markdown",
   "metadata": {},
   "source": [
    "$$ A=\\frac{10\\sqrt{3}}{27}a^2\\  $$"
   ]
  },
  {
   "cell_type": "markdown",
   "metadata": {},
   "source": [
    "Hay 12 triang. súper chiquitos extra."
   ]
  },
  {
   "cell_type": "markdown",
   "metadata": {},
   "source": [
    "a)  $\\dfrac{10\\sqrt{3}a^2}{27}$\n",
    "\n",
    "b)  $\\dfrac{14\\sqrt{3}a^2}{27}$\n",
    "\n",
    "c)  $\\dfrac{5\\sqrt{3}a^2}{9}$\n",
    "\n",
    "d)  $\\dfrac{7\\sqrt{3}a^2}{9}$"
   ]
  },
  {
   "cell_type": "markdown",
   "metadata": {},
   "source": [
    "***Solución:***\n"
   ]
  },
  {
   "cell_type": "markdown",
   "metadata": {},
   "source": [
    "### Situación 2. Funámbulo"
   ]
  },
  {
   "cell_type": "markdown",
   "metadata": {},
   "source": [
    "Un funámbulo o funambulista es un equilibrista que camina sobre un alambre o cuerda tensada.\n",
    "\n",
    "Paul, que es uno de estos acróbatas, realiza un espectáculo de equilibrio a una altura de $5$ metros sobre el nivel del suelo, caminando sobre un cable de acero tenso entre los puntos $B$ y $C$ de las paredes de dos edificios separadas por $10$ metros, como se puede ver en la figura. Mientras camina del punto $B$ al punto $C$, lo sigue un reflector que se encuentra a $15$ metros de altura, en el punto $R$ de la figura, que provoca que genere una sombra en el piso."
   ]
  },
  {
   "cell_type": "markdown",
   "metadata": {},
   "source": [
    "### Ojo: Las figuras bonitas no vienen en el extra. Yo las hice para que entendieran mejor el problema. Eso deben hacer cuando se enfrenten a un problema."
   ]
  },
  {
   "cell_type": "markdown",
   "metadata": {},
   "source": [
    "<img src=\"extra4-1.png\" align=\"middle\" width=\"200\">"
   ]
  },
  {
   "cell_type": "markdown",
   "metadata": {},
   "source": [
    "<img src=\"extra_sol1.png\" align=\"middle\" width=\"300\">"
   ]
  },
  {
   "cell_type": "markdown",
   "metadata": {},
   "source": [
    "**1. Cuando Paul ha recorrido la mitad del cable, la distancia $\\overline{AS}$ que ha recorrido su sombra, redondeada a una décima, es**"
   ]
  },
  {
   "cell_type": "markdown",
   "metadata": {},
   "source": [
    "<img src=\"extra_sol2.png\" align=\"middle\" width=\"300\">"
   ]
  },
  {
   "cell_type": "markdown",
   "metadata": {},
   "source": [
    "Vean que los triángulos $ARS$ y $BRP$ son semejantes ya que tiene dos ángulos iguales:\n",
    "* $\\angle BRP=\\angle ARS$\n",
    "* $\\angle PBR=\\angle SAR=90^\\circ$"
   ]
  },
  {
   "cell_type": "markdown",
   "metadata": {},
   "source": [
    "Además sabemos que:\n",
    "* $\\overline{BR}=15\\ \\rm{m}$\n",
    "* $\\overline{BP}=5\\ \\rm{m}$ (la mitad del trayecto)\n",
    "* $\\overline{AR}=20\\ \\rm{m}$\n",
    "* $\\overline{AS}=?$"
   ]
  },
  {
   "cell_type": "markdown",
   "metadata": {},
   "source": [
    "Entonces, como son proporcionales podemos comparar:\n",
    "$$ \\frac{\\overline{AS}}{\\overline{BP}}=\\frac{\\overline{AR}}{\\overline{BR}} $$"
   ]
  },
  {
   "cell_type": "markdown",
   "metadata": {},
   "source": [
    "Despejamos $\\overline{AS}$ :\n",
    "$$ \\overline{AS}=\\frac{\\overline{AR}}{\\overline{BR}}\\overline{BP} $$"
   ]
  },
  {
   "cell_type": "markdown",
   "metadata": {},
   "source": [
    "Sustituimos :\n",
    "$$ \\overline{AS}=\\frac{20\\ \\rm{m}}{15\\ \\rm{m}}\\cdot 5\\ \\rm{m}=6.666...\\ \\rm{m} $$"
   ]
  },
  {
   "cell_type": "markdown",
   "metadata": {},
   "source": [
    "***Solución:***\n"
   ]
  },
  {
   "cell_type": "markdown",
   "metadata": {},
   "source": [
    "$$ \\overline{AS}=6.7\\ \\rm{m} $$"
   ]
  },
  {
   "cell_type": "markdown",
   "metadata": {},
   "source": [
    "**2. Cuando el punto sombra $S$ del piso, alcanza la base del edificio en el punto $D$, la distancia que Paul ha recorrido desde el punto $B$ es**"
   ]
  },
  {
   "cell_type": "markdown",
   "metadata": {},
   "source": [
    "<img src=\"extra_sol3.png\" align=\"middle\" width=\"300\">"
   ]
  },
  {
   "cell_type": "markdown",
   "metadata": {},
   "source": [
    "Nuevamente, vean que los triángulos $BRP$ y $ARS$ (ó $ARD$) son semejantes ya que tiene dos ángulos iguales:\n",
    "* $\\angle BRP=\\angle ARS$\n",
    "* $\\angle PBR=\\angle SAR=90^\\circ$"
   ]
  },
  {
   "cell_type": "markdown",
   "metadata": {},
   "source": [
    "Además sabemos que:\n",
    "* $\\overline{BR}=15\\ \\rm{m}$\n",
    "* $\\overline{BP}=?$\n",
    "* $\\overline{AR}=20\\ \\rm{m}$\n",
    "* $\\overline{AS}=10\\ \\rm{m}$"
   ]
  },
  {
   "cell_type": "markdown",
   "metadata": {},
   "source": [
    "Entonces, como son proporcionales podemos comparar:\n",
    "$$ \\frac{\\overline{BP}}{\\overline{AS}}=\\frac{\\overline{BR}}{\\overline{AR}} $$"
   ]
  },
  {
   "cell_type": "markdown",
   "metadata": {},
   "source": [
    "Despejamos $\\overline{BP}$ :\n",
    "$$ \\overline{BP}=\\frac{\\overline{BR}}{\\overline{AR}}\\overline{AS} $$"
   ]
  },
  {
   "cell_type": "markdown",
   "metadata": {},
   "source": [
    "Sustituimos :\n",
    "$$ \\overline{BP}=\\frac{15\\ \\rm{m}}{20\\ \\rm{m}}\\cdot 10\\ \\rm{m}=7.5\\ \\rm{m} $$"
   ]
  },
  {
   "cell_type": "markdown",
   "metadata": {},
   "source": [
    "***Solución:***\n"
   ]
  },
  {
   "cell_type": "markdown",
   "metadata": {},
   "source": [
    "$$ \\overline{BP}=7.5\\ \\rm{m} $$"
   ]
  },
  {
   "cell_type": "markdown",
   "metadata": {},
   "source": [
    "**3. Cuando el punto sombra $S$ del piso llega al punto $D$, en ese instante se apaga el proyector que está en el punto $R$ y se prende otro proyector en el punto $A$ del piso y también provoca el punto $P$ de apoyo de Paul un punto sombra $S^{\\prime}$, pero ahora sobre la pared $DG$ ¿A qué altura de la pared $DG$ (medida desde el piso), se encuentra el punto sombra en el instante en que se prende el proyector que se encuentra en $A$?**"
   ]
  },
  {
   "cell_type": "markdown",
   "metadata": {},
   "source": [
    "<img src=\"extra_sol4.png\" align=\"middle\" width=\"300\">"
   ]
  },
  {
   "cell_type": "markdown",
   "metadata": {},
   "source": [
    "Como sabemos que $\\overline{CD}=5\\ \\rm{m}$, con saber $\\overline{CS^\\prime}$ y sumar ambas cantidades, tendremos el valor de $\\overline{DS^\\prime}$."
   ]
  },
  {
   "cell_type": "markdown",
   "metadata": {},
   "source": [
    "Nuevamente (y finalmente), vean que los triángulos $ABP$ y $CPS^\\prime$ son semejantes ya que tiene dos ángulos iguales:\n",
    "* $\\angle APB=\\angle CPS^\\prime$\n",
    "* $\\angle PBA=\\angle PCS^\\prime=90^\\circ$"
   ]
  },
  {
   "cell_type": "markdown",
   "metadata": {},
   "source": [
    "Además sabemos que:\n",
    "* $\\overline{AB}=5\\ \\rm{m}$\n",
    "* $\\overline{BP}=7.5\\ \\rm{m}$ (del problema anterior)\n",
    "* $\\overline{CP}=2.5\\ \\rm{m}$ (el resto, para que sumado con $\\overline{BP}$ dé $\\overline{BC}=10\\ \\rm{m}$)\n",
    "* $\\overline{CS^\\prime}=?$"
   ]
  },
  {
   "cell_type": "markdown",
   "metadata": {},
   "source": [
    "Entonces, como son proporcionales podemos comparar:\n",
    "$$ \\frac{\\overline{CS^\\prime}}{\\overline{AB}}=\\frac{\\overline{CP}}{\\overline{BP}} $$"
   ]
  },
  {
   "cell_type": "markdown",
   "metadata": {},
   "source": [
    "Despejamos $\\overline{CS^\\prime}$ :\n",
    "$$ \\overline{CS^\\prime}=\\frac{\\overline{CP}}{\\overline{BP}}\\overline{AB} $$"
   ]
  },
  {
   "cell_type": "markdown",
   "metadata": {},
   "source": [
    "Sustituimos :\n",
    "$$ \\overline{CS^\\prime}=\\frac{2.5\\ \\rm{m}}{7.5\\ \\rm{m}}\\cdot 5\\ \\rm{m}=1.666...\\ \\rm{m} $$"
   ]
  },
  {
   "cell_type": "markdown",
   "metadata": {},
   "source": [
    "Por lo tanto, la altura sobre la pared a la que se encuentra la nueva sombra es:\n",
    "$$ \\overline{DS^\\prime}=\\overline{DC}+\\overline{CS^\\prime}=5\\ \\rm{m}+1.666...\\ \\rm{m}=6.666...\\ \\rm{m} $$"
   ]
  },
  {
   "cell_type": "markdown",
   "metadata": {},
   "source": [
    "***Solución:***\n"
   ]
  },
  {
   "cell_type": "markdown",
   "metadata": {},
   "source": [
    "$$ \\overline{DS^\\prime}=6.666...\\ \\rm{m} $$"
   ]
  },
  {
   "cell_type": "markdown",
   "metadata": {},
   "source": [
    "### Situación 3. El arte Burkina\n",
    "\n",
    "En un pueblo africano llamado Tiebele en Burkina Faso la corte real se aloja en pequeñas estructuras de adobe (arcilla y arena), que están decoradas con pinturas naturales que forman patrones geométricos. El propósito, además de estético, es para diferenciarlas de las casas de la gente común.\n",
    "Tlahuilmalitzin es una artesana mexicana la cual admira el arte de cualquier región. Y quiere pintar una pared con un diseño parecido al de Burkina Faso. Pero ha notado que el tipo de figuras que adornan las paredes en Burkina son sencillas. Lo único que tiene que hacer es decidir su diseño de acuerdo con su presupuesto."
   ]
  },
  {
   "cell_type": "markdown",
   "metadata": {},
   "source": [
    "<img src=\"extra1-1.png\" align=\"middle\" width=\"300\">"
   ]
  },
  {
   "cell_type": "markdown",
   "metadata": {},
   "source": [
    "**1. Dado que los anillos están separados a la misma distancia, Tlahuilmalitzin se pregunta si el área gris que se muestra en la siguiente figura, es: [1 punto]**"
   ]
  },
  {
   "cell_type": "markdown",
   "metadata": {},
   "source": [
    "a)  $\\dfrac{1}{2}$ de área del círculo mayor\n",
    "\n",
    "b)  $\\dfrac{3}{4}$ de área del círculo mayor\n",
    "\n",
    "c)  $\\dfrac{3}{8}$ de área del círculo mayor\n",
    "\n",
    "d)  $\\dfrac{5}{8}$ de área del círculo mayor"
   ]
  },
  {
   "cell_type": "markdown",
   "metadata": {},
   "source": [
    "***Solución:*** d)"
   ]
  },
  {
   "cell_type": "markdown",
   "metadata": {},
   "source": [
    "**2. Tlahuilmalitzin hizo otro diseño con las mismas circunferencias del modelo anterior, donde el punto $A$ está sobre la bisectriz del $\\angle CBE$ , si $BC$ mide $1\\ \\rm{dm}$, el área de la estrella es: [2 puntos]**"
   ]
  },
  {
   "cell_type": "markdown",
   "metadata": {},
   "source": [
    "<img src=\"extra1-2.png\" align=\"middle\" width=\"300\">"
   ]
  },
  {
   "cell_type": "markdown",
   "metadata": {},
   "source": [
    "a)  $\\dfrac{\\sqrt{2}}{2}\\ \\rm{dm}^2$\n",
    "\n",
    "b)  $\\sqrt{2}\\ \\rm{dm}^2$\n",
    "\n",
    "c)  $2\\sqrt{2}\\ \\rm{dm}^2$\n",
    "\n",
    "d)  $\\dfrac{\\sqrt{2}}{4}\\ \\rm{dm}^2$"
   ]
  },
  {
   "cell_type": "markdown",
   "metadata": {},
   "source": [
    "***Solución:*** a)"
   ]
  },
  {
   "cell_type": "markdown",
   "metadata": {},
   "source": [
    "**3. Tlahuilmalitzin se pregunta ¿cómo son las áreas grises de ambas figuras? [2 puntos]**"
   ]
  },
  {
   "cell_type": "markdown",
   "metadata": {},
   "source": [
    "<img src=\"extra1-3.png\" align=\"middle\" width=\"300\">"
   ]
  },
  {
   "cell_type": "markdown",
   "metadata": {},
   "source": [
    "a)  El área de los anillos es la mitad que el área de la estrella.\n",
    "\n",
    "b)  El área de los anillos es mayor que la mitad del área de la estrella.\n",
    "\n",
    "c)  El área de los anillos es igual que el área de la estrella.\n",
    "\n",
    "d)  El área de los anillos es menor que la mitad del área de la estrella."
   ]
  },
  {
   "cell_type": "markdown",
   "metadata": {},
   "source": [
    "***Solución:*** b)"
   ]
  },
  {
   "cell_type": "markdown",
   "metadata": {},
   "source": [
    "**4. Tlahuilmalitzin quiere adornar las paredes exteriores de su casa que construirá en Cuernavaca al estilo de las casas de Burkina Faso, ella tiene dos diseños combinando el de los anillos y las estrellas. ¿Cuál es el área en $\\rm{m}^2$ que ocupan todos los añillos de ambos diseños? [3 puntos]**"
   ]
  },
  {
   "cell_type": "markdown",
   "metadata": {},
   "source": [
    "<img src=\"extra1-4.png\" align=\"middle\" width=\"500\">"
   ]
  },
  {
   "cell_type": "markdown",
   "metadata": {},
   "source": [
    "<img src=\"extra1-5.png\" align=\"middle\" width=\"500\">"
   ]
  },
  {
   "cell_type": "markdown",
   "metadata": {},
   "source": [
    "a)  $\\dfrac{5\\pi}{4}\\ \\rm{m}^2$\n",
    "\n",
    "b)  $\\dfrac{13\\pi}{80}\\ \\rm{m}^2$\n",
    "\n",
    "c)  $\\dfrac{13\\pi}{5}\\ \\rm{m}^2$\n",
    "\n",
    "d)  $\\dfrac{\\pi}{8}\\ \\rm{m}^2$"
   ]
  },
  {
   "cell_type": "markdown",
   "metadata": {},
   "source": [
    "***Solución:*** d)"
   ]
  },
  {
   "cell_type": "markdown",
   "metadata": {},
   "source": [
    "### Situación 4. Satélites artificiales\n",
    "\n",
    "Un satélite artificial es un ingenio enviado en una lanzadera espacial que se mantiene en órbita alrededor de cuerpos del espacio. Los satélites artificiales orbitan alrededor de satélites naturales, asteroides o planetas. Tras su vida útil, pueden quedar orbitando como basura espacial, o pueden desintegrarse reingresando en la atmósfera (cosa que ocurre solamente si su órbita es de poca altura). Fuente: https://es.wikipedia.org/wiki/Sat%C3%A9lite_artificial\n"
   ]
  },
  {
   "cell_type": "markdown",
   "metadata": {},
   "source": [
    "**1. La Tierra tiene una circunferencia de aproximadamente $40000\\ \\rm{km}$ , si se supone que su forma es esférica, ¿cuántos kilómetros mide su diámetro? [1 punto]**"
   ]
  },
  {
   "cell_type": "markdown",
   "metadata": {},
   "source": [
    "a)  $\\dfrac{40000}{\\pi}$\n",
    "\n",
    "b)  $\\dfrac{20000}{\\pi}$\n",
    "\n",
    "c)  $40000\\pi$\n",
    "\n",
    "d)  $20000\\pi$"
   ]
  },
  {
   "cell_type": "markdown",
   "metadata": {},
   "source": [
    "***Solución:*** a)"
   ]
  },
  {
   "cell_type": "markdown",
   "metadata": {},
   "source": [
    "**2. Si un satélite orbita circularmente a $2000\\ \\rm{km}$ de la superficie terrestre, ¿cuántos kilómetros mide la circunferencia de su órbita? [2 puntos]**\n"
   ]
  },
  {
   "cell_type": "markdown",
   "metadata": {},
   "source": [
    "a)  $40000+4000\\pi$\n",
    "\n",
    "b)  $40000-4000\\pi$\n",
    "\n",
    "c)  $\\dfrac{20000+2000\\pi}{\\pi}$\n",
    "\n",
    "d)  $\\dfrac{20000-2000\\pi}{\\pi}$"
   ]
  },
  {
   "cell_type": "markdown",
   "metadata": {},
   "source": [
    "***Solución:*** a)"
   ]
  },
  {
   "cell_type": "markdown",
   "metadata": {},
   "source": [
    "**3. Si cada día un satélite recorre un ángulo de $\\dfrac{\\pi}{12}\\ \\rm{rad}$ , ¿cuántos días transcurren para que de una vuelta completa a la Tierra? [2 puntos]**"
   ]
  },
  {
   "cell_type": "markdown",
   "metadata": {},
   "source": [
    "a)  $24$\n",
    "\n",
    "b)  $12$\n",
    "\n",
    "c)  $\\dfrac{1}{24}$\n",
    "\n",
    "d)  $\\dfrac{1}{12}$"
   ]
  },
  {
   "cell_type": "markdown",
   "metadata": {},
   "source": [
    "***Solución:*** a)\n"
   ]
  },
  {
   "cell_type": "markdown",
   "metadata": {},
   "source": [
    "**4.  Se planea lanzar un satélite a una altura de $1,000\\ \\rm{km}$ sobre la superficie terrestre, si este da una vuelta a la Tierra en $10$ días, ¿cuántos kilómetros sobre la superficie terrestre recorrerá cada día el satélite? [3 puntos]**"
   ]
  },
  {
   "cell_type": "markdown",
   "metadata": {},
   "source": [
    "a)  $4000+200\\pi$\n",
    "\n",
    "b)  $200\\pi$\n",
    "\n",
    "c)  $\\dfrac{720000+36000\\pi}{\\pi}$\n",
    "\n",
    "d)  $36000$"
   ]
  },
  {
   "cell_type": "markdown",
   "metadata": {},
   "source": [
    "***Solución:*** a)"
   ]
  },
  {
   "cell_type": "markdown",
   "metadata": {},
   "source": [
    "## Círculos II"
   ]
  },
  {
   "cell_type": "markdown",
   "metadata": {},
   "source": [
    "### Longitud de cuerda"
   ]
  },
  {
   "cell_type": "markdown",
   "metadata": {},
   "source": [
    "### Sectores circulares"
   ]
  }
 ],
 "metadata": {
  "kernelspec": {
   "display_name": "Julia 1.1.0",
   "language": "julia",
   "name": "julia-1.1"
  },
  "language_info": {
   "file_extension": ".jl",
   "mimetype": "application/julia",
   "name": "julia",
   "version": "1.1.0"
  }
 },
 "nbformat": 4,
 "nbformat_minor": 4
}
