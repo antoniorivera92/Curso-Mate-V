{
 "cells": [
  {
   "cell_type": "markdown",
   "metadata": {},
   "source": [
    "# Álgebra para analizar objetos geométricos"
   ]
  },
  {
   "cell_type": "markdown",
   "metadata": {},
   "source": [
    "#### Ejercicio 15"
   ]
  },
  {
   "cell_type": "markdown",
   "metadata": {},
   "source": [
    "Para el tendido de un cableado telefónico sobre una calle se requieren cuatro postes, los cuales deben estar separados por distancias iguales. Si el primero de los postes se encuentra en uno de los extremos del cableado que está en el punto $A(60,90)$ y el último en el extremo que se localiza en $B(-30,-30)$, se deben determinar las coordenadas de los puntos $C$ y $D$ para colocar ahí los otros dos postes entre $A$ y $B$. Las longitudes están en metros."
   ]
  },
  {
   "cell_type": "markdown",
   "metadata": {},
   "source": [
    "#### Solución"
   ]
  },
  {
   "cell_type": "markdown",
   "metadata": {},
   "source": [
    "Que al meter otros dos punto en el segmento $\\overline{AB}$, se nos dividirá el segmento en tres partes iguales."
   ]
  },
  {
   "cell_type": "markdown",
   "metadata": {},
   "source": [
    "* $1$ y $2$, $r=\\dfrac{1}{2}$"
   ]
  },
  {
   "cell_type": "markdown",
   "metadata": {},
   "source": [
    "Las coordenadas del punto $C(x_C,y_C)$:"
   ]
  },
  {
   "cell_type": "markdown",
   "metadata": {},
   "source": [
    "$$ x_C=\\dfrac{x_1+rx_2}{1+r}=\\dfrac{(60)+\\left(\\dfrac{1}{2}\\right)(-30)}{1+\\dfrac{1}{2}}=30 $$"
   ]
  },
  {
   "cell_type": "code",
   "execution_count": 1,
   "metadata": {},
   "outputs": [
    {
     "data": {
      "text/plain": [
       "30.0"
      ]
     },
     "execution_count": 1,
     "metadata": {},
     "output_type": "execute_result"
    }
   ],
   "source": [
    "(60+(1/2)*(-30))/(1+1/2)"
   ]
  },
  {
   "cell_type": "markdown",
   "metadata": {},
   "source": [
    "$$ y_C=\\dfrac{y_1+ry_2}{1+r}=\\dfrac{(90)+\\left(\\dfrac{1}{2}\\right)(-30)}{1+\\dfrac{1}{2}}=50 $$"
   ]
  },
  {
   "cell_type": "code",
   "execution_count": 2,
   "metadata": {},
   "outputs": [
    {
     "data": {
      "text/plain": [
       "50.0"
      ]
     },
     "execution_count": 2,
     "metadata": {},
     "output_type": "execute_result"
    }
   ],
   "source": [
    "(90+(1/2)*(-30))/(1+1/2)"
   ]
  },
  {
   "cell_type": "markdown",
   "metadata": {},
   "source": [
    "Las coordenadas del punto son $C(30,50)$."
   ]
  },
  {
   "cell_type": "markdown",
   "metadata": {},
   "source": [
    "* $2$ y $1$, $r=\\dfrac{2}{1}$"
   ]
  },
  {
   "cell_type": "markdown",
   "metadata": {},
   "source": [
    "Las coordenadas del punto $D(x_D,y_D)$:"
   ]
  },
  {
   "cell_type": "markdown",
   "metadata": {},
   "source": [
    "$$ x_D=\\dfrac{x_1+rx_2}{1+r}=\\dfrac{(60)+2(-30)}{1+2}=0 $$"
   ]
  },
  {
   "cell_type": "markdown",
   "metadata": {},
   "source": [
    "$$ y_D=\\dfrac{y_1+ry_2}{1+r}=\\dfrac{(90)+2(-30)}{1+2}=10 $$"
   ]
  },
  {
   "cell_type": "markdown",
   "metadata": {},
   "source": [
    "Las coordenadas del punto son $D(0,10)$."
   ]
  },
  {
   "cell_type": "markdown",
   "metadata": {},
   "source": [
    "<img src=\"15.png\" align=\"middle\" width=\"400\">\n",
    "\n",
    "(https://www.desmos.com/calculator/8wyv1doqhv)"
   ]
  },
  {
   "cell_type": "markdown",
   "metadata": {},
   "source": [
    "# Clase 4"
   ]
  },
  {
   "cell_type": "markdown",
   "metadata": {},
   "source": [
    "### Intersección"
   ]
  },
  {
   "cell_type": "markdown",
   "metadata": {},
   "source": [
    "Vamos a pensar que tenemos las rectas\n",
    "\\begin{align}\n",
    "y=&\\ 6x-2 \\\\\n",
    "y=&-9x+14\n",
    "\\end{align}"
   ]
  },
  {
   "cell_type": "markdown",
   "metadata": {},
   "source": [
    "Un sistema de ecuaciones:\n",
    "\\begin{align}\n",
    "\\begin{cases}\n",
    "-6x+y=-2 \\\\\n",
    "9x+y=14\n",
    "\\end{cases}\n",
    "\\end{align}"
   ]
  },
  {
   "cell_type": "markdown",
   "metadata": {},
   "source": [
    "La solución del sistema de ecuaciones me da las coordenadas $(x,y)$ donde mis rectas se intersectan."
   ]
  },
  {
   "cell_type": "markdown",
   "metadata": {},
   "source": [
    "### Paralelismo y perpendicularidad"
   ]
  },
  {
   "cell_type": "markdown",
   "metadata": {},
   "source": [
    "Pensemos que tenemos dos rectas:\n",
    "\n",
    "* Primera recta, $y=m_1x+b_1$\n",
    "* Segunda recta, $y=m_2x+b_2$"
   ]
  },
  {
   "cell_type": "markdown",
   "metadata": {},
   "source": [
    "Estas rectas son paralelas si\n",
    "\n",
    "$$ m_1=m_2 $$"
   ]
  },
  {
   "cell_type": "markdown",
   "metadata": {},
   "source": [
    "Estas rectas son perpendiculares si\n",
    "\n",
    "$$ m_1m_2=-1 $$"
   ]
  },
  {
   "cell_type": "markdown",
   "metadata": {},
   "source": [
    "* ***Ejemplo*** Tenemos la ecuación de la recta $y=6x-2$. Construye otra recta que sea perpendicular."
   ]
  },
  {
   "cell_type": "markdown",
   "metadata": {},
   "source": [
    "La recta tiene pendiente $6$."
   ]
  },
  {
   "cell_type": "markdown",
   "metadata": {},
   "source": [
    "* Datos:\n",
    "    * $m_1=6$\n",
    "    * $b_1=-2$\n",
    "    * $m_2=?$\n",
    "    * $b_2=?$"
   ]
  },
  {
   "cell_type": "markdown",
   "metadata": {},
   "source": [
    "* Fórmula:"
   ]
  },
  {
   "cell_type": "markdown",
   "metadata": {},
   "source": [
    "$$ m_1m_2=-1 $$"
   ]
  },
  {
   "cell_type": "markdown",
   "metadata": {},
   "source": [
    "$$ m_2=\\dfrac{-1}{m_1} $$"
   ]
  },
  {
   "cell_type": "markdown",
   "metadata": {},
   "source": [
    "* Sustitución:"
   ]
  },
  {
   "cell_type": "markdown",
   "metadata": {},
   "source": [
    "$$ m_2=\\dfrac{-1}{6} $$"
   ]
  },
  {
   "cell_type": "markdown",
   "metadata": {},
   "source": [
    "*(Básicamente, si queremos la pendiente perpendicular basta con que volteemos la fracción de nuestra pendiente y su signo.)*"
   ]
  },
  {
   "cell_type": "markdown",
   "metadata": {},
   "source": [
    "Entonces, cualquier recta con pendiente $-\\dfrac{1}{6}$ es perpendicular a la recta $y=6x-2$, independientemente de la ordenada al origen que usemos para la segunda recta.\n",
    "\n",
    "P.ej.:"
   ]
  },
  {
   "cell_type": "markdown",
   "metadata": {},
   "source": [
    "$$ y=-\\dfrac{1}{6}x-5 $$"
   ]
  },
  {
   "cell_type": "markdown",
   "metadata": {},
   "source": [
    "Comprobamos esto con la fórmula de ángulo entre rectas:"
   ]
  },
  {
   "cell_type": "markdown",
   "metadata": {},
   "source": [
    "$$ \\theta =\\tan^{-1}\\left(\\dfrac{m_2-m_1}{1+m_2m_1}\\right) $$"
   ]
  },
  {
   "cell_type": "markdown",
   "metadata": {},
   "source": [
    "$$ \\theta =\\tan^{-1}\\left[\\dfrac{\\left(-\\dfrac{1}{6}\\right)-(6)}{1+\\left(-\\dfrac{1}{6}\\right)(6)}\\right]=90^\\circ $$"
   ]
  },
  {
   "cell_type": "code",
   "execution_count": 1,
   "metadata": {},
   "outputs": [
    {
     "data": {
      "text/plain": [
       "-90.0"
      ]
     },
     "execution_count": 1,
     "metadata": {},
     "output_type": "execute_result"
    }
   ],
   "source": [
    "atand(((-1/6)-6)/(1+6*(-1/6)))"
   ]
  },
  {
   "cell_type": "markdown",
   "metadata": {},
   "source": [
    "<img src=\"perp.png\" align=\"middle\" width=\"400\">"
   ]
  },
  {
   "cell_type": "markdown",
   "metadata": {},
   "source": [
    "### Ángulo entre dos rectas conociendo sus pendientes"
   ]
  },
  {
   "cell_type": "markdown",
   "metadata": {},
   "source": [
    "Para encontrar el ángulo entre dos rectas:\n",
    "\n",
    "* Primera recta, $y=m_1x+b_1$\n",
    "* Segunda recta, $y=m_2x+b_2$\n",
    "\n",
    "utilizamos la siguiente fórmula\n",
    "\n",
    "$$ \\theta =\\tan^{-1}\\left(\\dfrac{m_2-m_1}{1+m_2m_1}\\right) $$"
   ]
  },
  {
   "cell_type": "markdown",
   "metadata": {},
   "source": [
    "* ***Ejemplo*** Tenemos dos rectas:\n",
    "\n",
    "    * La primera recta es $x+2y-1=0$\n",
    "    * La segunda recta es $9x-3y+21=0$\n",
    "    \n",
    "    ¿Cuál es el ángulo que se forma entre mis dos rectas?"
   ]
  },
  {
   "cell_type": "markdown",
   "metadata": {},
   "source": [
    "Primero las pasamos a su forma general:"
   ]
  },
  {
   "cell_type": "markdown",
   "metadata": {},
   "source": [
    "$$x+2y-1=0$$"
   ]
  },
  {
   "cell_type": "markdown",
   "metadata": {},
   "source": [
    "$$2y-1=-x$$"
   ]
  },
  {
   "cell_type": "markdown",
   "metadata": {},
   "source": [
    "$$2y=-x+1$$"
   ]
  },
  {
   "cell_type": "markdown",
   "metadata": {},
   "source": [
    "$$y=\\dfrac{-x+1}{2}$$"
   ]
  },
  {
   "cell_type": "markdown",
   "metadata": {},
   "source": [
    "$$y=\\dfrac{-x}{2}+\\dfrac{1}{2}$$"
   ]
  },
  {
   "cell_type": "markdown",
   "metadata": {},
   "source": [
    "La pendiente es la primera recta es $-\\dfrac{1}{2}$ (y la ordenada al origen es $\\dfrac{1}{2}$)"
   ]
  },
  {
   "cell_type": "markdown",
   "metadata": {},
   "source": [
    "$$-3y=-9x-21$$"
   ]
  },
  {
   "cell_type": "markdown",
   "metadata": {},
   "source": [
    "$$ y=\\dfrac{-9x-21}{-3} $$"
   ]
  },
  {
   "cell_type": "markdown",
   "metadata": {},
   "source": [
    "$$ y=\\dfrac{-9x}{-3}+\\dfrac{-21}{-3} $$"
   ]
  },
  {
   "cell_type": "markdown",
   "metadata": {},
   "source": [
    "$$y=3x+7$$"
   ]
  },
  {
   "cell_type": "markdown",
   "metadata": {},
   "source": [
    "La pendiente de la segunda recta es $3$ (y la ordenada al origen es $7$)"
   ]
  },
  {
   "cell_type": "markdown",
   "metadata": {},
   "source": [
    "* $m_1=-\\dfrac{1}{2}$\n",
    "* $m_2=3$"
   ]
  },
  {
   "cell_type": "markdown",
   "metadata": {},
   "source": [
    "$$ \\theta =\\tan^{-1}\\left(\\dfrac{m_2-m_1}{1+m_2m_1}\\right)=-81.86^\\circ $$"
   ]
  },
  {
   "cell_type": "code",
   "execution_count": 3,
   "metadata": {},
   "outputs": [
    {
     "data": {
      "text/plain": [
       "-81.86989764584403"
      ]
     },
     "execution_count": 3,
     "metadata": {},
     "output_type": "execute_result"
    }
   ],
   "source": [
    "atand(((3)-(-1/2))/(1+(3)(-1/2)))"
   ]
  },
  {
   "cell_type": "markdown",
   "metadata": {},
   "source": [
    "* ***Ejemplo*** Tenemos los vérctices de un triángulo dado por las coordenadas $A(7,-3)$, $B(-11,4)$, y $C(3/2,5)$. ¿Cuáles son los ángulos internos del triángulo?"
   ]
  },
  {
   "cell_type": "markdown",
   "metadata": {},
   "source": [
    "* Segmento $\\overline{AB}$"
   ]
  },
  {
   "cell_type": "markdown",
   "metadata": {},
   "source": [
    "$$ m_{AB}=\\dfrac{(4)-(-3)}{(-11)-(7)} $$"
   ]
  },
  {
   "cell_type": "markdown",
   "metadata": {},
   "source": [
    "$$ m_{AB}=-\\dfrac{7}{18} $$"
   ]
  },
  {
   "cell_type": "markdown",
   "metadata": {},
   "source": [
    "* Segmento $\\overline{BC}$"
   ]
  },
  {
   "cell_type": "markdown",
   "metadata": {},
   "source": [
    "$$ m_{BC}=\\dfrac{(5)-(4)}{(1.5)-(-11)} $$"
   ]
  },
  {
   "cell_type": "markdown",
   "metadata": {},
   "source": [
    "$$ m_{BC}=\\dfrac{1}{12.5} $$"
   ]
  },
  {
   "cell_type": "markdown",
   "metadata": {},
   "source": [
    "* Segmento $\\overline{AC}$"
   ]
  },
  {
   "cell_type": "markdown",
   "metadata": {},
   "source": [
    "$$ m_{AC}=\\dfrac{(5)-(-3)}{(1.5)-(7)} $$"
   ]
  },
  {
   "cell_type": "markdown",
   "metadata": {},
   "source": [
    "$$ m_{AC}=-\\dfrac{8}{5.5} $$"
   ]
  },
  {
   "cell_type": "code",
   "execution_count": 6,
   "metadata": {},
   "outputs": [
    {
     "data": {
      "text/plain": [
       "-0.3888888888888889"
      ]
     },
     "execution_count": 6,
     "metadata": {},
     "output_type": "execute_result"
    }
   ],
   "source": [
    "m_AB=-7/18"
   ]
  },
  {
   "cell_type": "code",
   "execution_count": 7,
   "metadata": {},
   "outputs": [
    {
     "data": {
      "text/plain": [
       "-1.4545454545454546"
      ]
     },
     "execution_count": 7,
     "metadata": {},
     "output_type": "execute_result"
    }
   ],
   "source": [
    "m_AC=-8/5.5"
   ]
  },
  {
   "cell_type": "code",
   "execution_count": 10,
   "metadata": {},
   "outputs": [
    {
     "data": {
      "text/plain": [
       "0.08"
      ]
     },
     "execution_count": 10,
     "metadata": {},
     "output_type": "execute_result"
    }
   ],
   "source": [
    "m_BC=1/12.5"
   ]
  },
  {
   "cell_type": "markdown",
   "metadata": {},
   "source": [
    "* Ángulo $\\angle BAC$ (entre los segmentos $\\overline{AB}$ y $\\overline{AC}$)"
   ]
  },
  {
   "cell_type": "markdown",
   "metadata": {},
   "source": [
    "$$ \\theta =\\tan^{-1}\\left(\\dfrac{m_2-m_1}{1+m_2m_1}\\right) $$"
   ]
  },
  {
   "cell_type": "code",
   "execution_count": 9,
   "metadata": {},
   "outputs": [
    {
     "data": {
      "text/plain": [
       "34.24097150519836"
      ]
     },
     "execution_count": 9,
     "metadata": {},
     "output_type": "execute_result"
    }
   ],
   "source": [
    "atand((m_AB-m_AC)/(1+m_AB*m_AC))"
   ]
  },
  {
   "cell_type": "markdown",
   "metadata": {},
   "source": [
    "* Ángulo $\\angle ABC$ (entre los segmentos $\\overline{AB}$ y $\\overline{BC}$)"
   ]
  },
  {
   "cell_type": "markdown",
   "metadata": {},
   "source": [
    "$$ \\theta =\\tan^{-1}\\left(\\dfrac{m_2-m_1}{1+m_2m_1}\\right) $$"
   ]
  },
  {
   "cell_type": "code",
   "execution_count": 11,
   "metadata": {},
   "outputs": [
    {
     "data": {
      "text/plain": [
       "-25.8244267670341"
      ]
     },
     "execution_count": 11,
     "metadata": {},
     "output_type": "execute_result"
    }
   ],
   "source": [
    "atand((m_AB-m_BC)/(1+m_AB*m_BC))\n"
   ]
  },
  {
   "cell_type": "markdown",
   "metadata": {},
   "source": [
    "* Ángulo $\\angle ACB$ (entre los segmentos $\\overline{AC}$ y $\\overline{BC}$)"
   ]
  },
  {
   "cell_type": "markdown",
   "metadata": {},
   "source": [
    "$$ \\theta =\\tan^{-1}\\left(\\dfrac{m_2-m_1}{1+m_2m_1}\\right) $$"
   ]
  },
  {
   "cell_type": "code",
   "execution_count": 12,
   "metadata": {},
   "outputs": [
    {
     "data": {
      "text/plain": [
       "-60.065398272232464"
      ]
     },
     "execution_count": 12,
     "metadata": {},
     "output_type": "execute_result"
    }
   ],
   "source": [
    "atand((m_AC-m_BC)/(1+m_AC*m_BC))"
   ]
  },
  {
   "cell_type": "code",
   "execution_count": 13,
   "metadata": {},
   "outputs": [
    {
     "data": {
      "text/plain": [
       "119.93460172776753"
      ]
     },
     "execution_count": 13,
     "metadata": {},
     "output_type": "execute_result"
    }
   ],
   "source": [
    "180-60.065398272232464"
   ]
  },
  {
   "cell_type": "markdown",
   "metadata": {},
   "source": [
    "* $\\angle BAC=34.24^\\circ$"
   ]
  },
  {
   "cell_type": "markdown",
   "metadata": {},
   "source": [
    "* $\\angle ABC=25.82^\\circ$"
   ]
  },
  {
   "cell_type": "markdown",
   "metadata": {},
   "source": [
    "* $\\angle ACB=119.93^\\circ$"
   ]
  },
  {
   "cell_type": "markdown",
   "metadata": {},
   "source": [
    "La suma de los ángulo internos de un triángulo es $180^\\circ$. Compramos esto:"
   ]
  },
  {
   "cell_type": "code",
   "execution_count": 14,
   "metadata": {},
   "outputs": [
    {
     "data": {
      "text/plain": [
       "179.99"
      ]
     },
     "execution_count": 14,
     "metadata": {},
     "output_type": "execute_result"
    }
   ],
   "source": [
    "34.24+25.82+119.93"
   ]
  },
  {
   "cell_type": "markdown",
   "metadata": {},
   "source": [
    "### Distancia de un punto a una recta"
   ]
  },
  {
   "cell_type": "markdown",
   "metadata": {},
   "source": [
    "Supongamos que tenemos una recta en su forma general\n",
    "$$ Ax+By+C=0 $$"
   ]
  },
  {
   "cell_type": "markdown",
   "metadata": {},
   "source": [
    "Pensemos que tenemos un punto $P(x_0,y_0)$"
   ]
  },
  {
   "cell_type": "markdown",
   "metadata": {},
   "source": [
    "La distancia entre el punto y la recta es"
   ]
  },
  {
   "cell_type": "markdown",
   "metadata": {},
   "source": [
    "$$ d=\\dfrac{|Ax_0+By_0+C|}{\\sqrt{A^2+B^2}} $$"
   ]
  },
  {
   "cell_type": "markdown",
   "metadata": {},
   "source": [
    "**Reglas:**\n",
    "* Si me dan la ecuación de la recta en la forma ordenada-pendiente tengo que pasarla a su forma general. Si me la dan en la forma general vamos al siguiente paso\n",
    "* Señalamos cuánto valen los coeficientes de la recta en su forma general\n",
    "* Sustituimos las coordenadas del punto $P(x_0,y_0)$ en la forma general de la ecuación de la recta y evaluamos\n",
    "* Las línes verticales en la fórmula significa *valor absoluto*, es decir, el valor que obtengamos lo mantemos positivo.\n"
   ]
  },
  {
   "cell_type": "markdown",
   "metadata": {},
   "source": [
    "* ***Ejemplo:*** Tenemos la recta $y=x+2$ y el punto $P(1,1)$. ¿Cuál es la distancia entre ellos?"
   ]
  },
  {
   "cell_type": "markdown",
   "metadata": {},
   "source": [
    "Pasamos la recta a su forma general:"
   ]
  },
  {
   "cell_type": "markdown",
   "metadata": {},
   "source": [
    "$$ -x+y-2=0 $$"
   ]
  },
  {
   "cell_type": "markdown",
   "metadata": {},
   "source": [
    "$A=-1$, $B=1$, $C=-2$"
   ]
  },
  {
   "cell_type": "markdown",
   "metadata": {},
   "source": [
    "Evaluamos:"
   ]
  },
  {
   "cell_type": "markdown",
   "metadata": {},
   "source": [
    "$$ d=\\dfrac{|Ax_0+By_0+C|}{\\sqrt{A^2+B^2}} $$"
   ]
  },
  {
   "cell_type": "markdown",
   "metadata": {},
   "source": [
    "$$ d=\\dfrac{|(-1)(1)+(1)(1)+(-2)|}{\\sqrt{(-1)^2+(1)^2}}=\\dfrac{|-2|}{\\sqrt{2}}=\\dfrac{2}{\\sqrt{2}}\\approx1.414 $$"
   ]
  },
  {
   "cell_type": "code",
   "execution_count": 17,
   "metadata": {},
   "outputs": [
    {
     "data": {
      "text/plain": [
       "1.414213562373095"
      ]
     },
     "execution_count": 17,
     "metadata": {},
     "output_type": "execute_result"
    }
   ],
   "source": [
    "2/(√2)"
   ]
  },
  {
   "cell_type": "markdown",
   "metadata": {},
   "source": [
    "Ahora, para el punto $Q(2,4)$"
   ]
  },
  {
   "cell_type": "markdown",
   "metadata": {},
   "source": [
    "$$ d=\\dfrac{|(-1)(2)+(1)(4)+(-2)|}{\\sqrt{(-1)^2+(1)^2}}=\\dfrac{|-2+4-2|}{\\sqrt{2}}=\\dfrac{0}{\\sqrt{2}}=0 $$"
   ]
  },
  {
   "cell_type": "markdown",
   "metadata": {},
   "source": [
    "*\"Cualquier punto que se encuentre sobre mi recta, tiene una distancia cero a esa recta.\"*"
   ]
  },
  {
   "cell_type": "markdown",
   "metadata": {},
   "source": [
    "<img src=\"dist_punto_recta.png\" align=\"middle\" width=\"400\">"
   ]
  }
 ],
 "metadata": {
  "kernelspec": {
   "display_name": "Julia 1.1.0",
   "language": "julia",
   "name": "julia-1.1"
  },
  "language_info": {
   "file_extension": ".jl",
   "mimetype": "application/julia",
   "name": "julia",
   "version": "1.1.0"
  }
 },
 "nbformat": 4,
 "nbformat_minor": 4
}
