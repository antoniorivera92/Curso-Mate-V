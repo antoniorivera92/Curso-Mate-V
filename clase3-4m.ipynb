{
 "cells": [
  {
   "cell_type": "markdown",
   "metadata": {},
   "source": [
    "# Funciones para modelar la relación entre variables"
   ]
  },
  {
   "cell_type": "markdown",
   "metadata": {},
   "source": [
    "#### Ejercicio 2: \n",
    "\n",
    "El costo por metro lineal de una cerca es de $35$ dólares. Si queremos cercar un terreno rectangular de $25$ metros cuadrados, determina una expresión que calcule el costo total en función del ancho del rectángulo."
   ]
  },
  {
   "cell_type": "markdown",
   "metadata": {},
   "source": [
    "#### Solución"
   ]
  },
  {
   "cell_type": "markdown",
   "metadata": {},
   "source": [
    "* Datos: "
   ]
  },
  {
   "cell_type": "markdown",
   "metadata": {},
   "source": [
    "$P$: cantidad de metros de cerca que quiero comprar\n",
    "\n",
    "$C$: costo total de la cerca -------------------------  variable dependiente\n",
    "\n",
    "$a$: ancho ----------------------------------- variable independiente\n",
    "\n",
    "$\\ell$: largo\n",
    "\n",
    "$A$: área, $A=25$"
   ]
  },
  {
   "cell_type": "markdown",
   "metadata": {},
   "source": [
    "* Fórmula:\n",
    "    * $A=a\\cdot\\ell$\n",
    "    * $P=a+\\ell+a+\\ell=2a+2\\ell$\n",
    "    * $C=35P$ (lineal)"
   ]
  },
  {
   "cell_type": "markdown",
   "metadata": {},
   "source": [
    "* Sustitución:\n",
    "    * $25\n",
    "    =a\\cdot\\ell$\n",
    "    * $P=2a+2\\ell$\n",
    "    * $C=35P$ (lineal)"
   ]
  },
  {
   "cell_type": "markdown",
   "metadata": {},
   "source": [
    "Queremos despejar la variable que **no** es la independiente."
   ]
  },
  {
   "cell_type": "markdown",
   "metadata": {},
   "source": [
    "$$25=a\\cdot\\ell$$"
   ]
  },
  {
   "cell_type": "markdown",
   "metadata": {},
   "source": [
    "$$\\dfrac{25}{a}=\\ell$$"
   ]
  },
  {
   "cell_type": "markdown",
   "metadata": {},
   "source": [
    "Ahora sustiuimos en otra relación"
   ]
  },
  {
   "cell_type": "markdown",
   "metadata": {},
   "source": [
    "$$P=2a+2\\ell$$"
   ]
  },
  {
   "cell_type": "markdown",
   "metadata": {},
   "source": [
    "$$P=2a+2\\left(\\dfrac{25}{a}\\right)$$"
   ]
  },
  {
   "cell_type": "markdown",
   "metadata": {},
   "source": [
    "Ahora sustiuimos en otra relación. Lo podemos hacer porque la ecuación ya es explícita."
   ]
  },
  {
   "cell_type": "markdown",
   "metadata": {},
   "source": [
    "$$C=35P$$"
   ]
  },
  {
   "cell_type": "markdown",
   "metadata": {},
   "source": [
    "$$C(a)=35\\left[2a+2\\left(\\dfrac{25}{a}\\right)\\right]=70a+\\dfrac{1750}{a}$$"
   ]
  },
  {
   "cell_type": "markdown",
   "metadata": {},
   "source": [
    "#### Ejercicio 8: \n",
    "\n",
    "Una hoja de papel debe tener $18\\ \\rm{cm}^2$ de texto impreso. Además, sus márgenes superior e inferior deben medir $2\\ \\rm{cm}$ de alto y los márgenes laterales $1\\ \\rm{cm}$ de anchura. Encuentra la expresión que modela el área de la hoja en función de su base."
   ]
  },
  {
   "cell_type": "markdown",
   "metadata": {},
   "source": [
    "#### Solución:"
   ]
  },
  {
   "cell_type": "markdown",
   "metadata": {},
   "source": [
    "$A_\\text{texto}=(b-2)(h-4)$"
   ]
  },
  {
   "cell_type": "markdown",
   "metadata": {},
   "source": [
    "$A_\\text{hoja}=b\\cdot h$"
   ]
  },
  {
   "cell_type": "markdown",
   "metadata": {},
   "source": [
    "$b:$ base de la hoja\n",
    "\n",
    "$h:$ altura de la hoja"
   ]
  },
  {
   "cell_type": "markdown",
   "metadata": {},
   "source": [
    "$18=(b-2)(h-4)$"
   ]
  },
  {
   "cell_type": "markdown",
   "metadata": {},
   "source": [
    "Despejar a la variable que no es la independiente:"
   ]
  },
  {
   "cell_type": "markdown",
   "metadata": {},
   "source": [
    "$18=(b-2)(h-4)$"
   ]
  },
  {
   "cell_type": "markdown",
   "metadata": {},
   "source": [
    "$\\dfrac{18}{b-2}+4=h$"
   ]
  },
  {
   "cell_type": "markdown",
   "metadata": {},
   "source": [
    "Sustituimos en la variable que no es la independiente:"
   ]
  },
  {
   "cell_type": "markdown",
   "metadata": {},
   "source": [
    "$A_\\text{hoja}=b\\cdot h$"
   ]
  },
  {
   "cell_type": "markdown",
   "metadata": {},
   "source": [
    "$$A_\\text{hoja}=b\\cdot\\left(\\dfrac{18}{b-2}+4\\right) $$"
   ]
  },
  {
   "cell_type": "markdown",
   "metadata": {},
   "source": [
    "Mi función:"
   ]
  },
  {
   "cell_type": "markdown",
   "metadata": {},
   "source": [
    "$$A_\\text{hoja}(b)=b\\cdot\\left(\\dfrac{18}{b-2}+4\\right) $$"
   ]
  },
  {
   "cell_type": "markdown",
   "metadata": {},
   "source": [
    "# Clase 4"
   ]
  },
  {
   "cell_type": "markdown",
   "metadata": {},
   "source": [
    "## Funciones cuadráticas"
   ]
  },
  {
   "cell_type": "markdown",
   "metadata": {},
   "source": [
    "$$ f(x)=ax^2+bx+c $$"
   ]
  },
  {
   "cell_type": "markdown",
   "metadata": {},
   "source": [
    "Al igual que en las funciones lineales, el valor de $c$ lo podemos conocer al saber qué sucede en $x=0$. Si no tenemos este conocimiento, extrapolamos de los datos que tengamos."
   ]
  },
  {
   "cell_type": "markdown",
   "metadata": {},
   "source": [
    "Para una función polinomial (lineal, cuadrática, cúbica,...) el dominio máximo de la función $(-\\infty,\\infty).$"
   ]
  },
  {
   "cell_type": "markdown",
   "metadata": {},
   "source": [
    "### Gráfica de una función cuadrática"
   ]
  },
  {
   "cell_type": "markdown",
   "metadata": {},
   "source": [
    "Para las funciones cuadráticas\n",
    "\n",
    "$$ f(x)=ax^2+bx+c $$\n",
    "\n",
    "tendremos un punto importante conocido como vértice y que tiene coordenadas"
   ]
  },
  {
   "cell_type": "markdown",
   "metadata": {},
   "source": [
    "$$ V\\left(-\\dfrac{b}{2a},c-\\dfrac{b^2}{4a}\\right) $$"
   ]
  },
  {
   "cell_type": "markdown",
   "metadata": {},
   "source": [
    "**1er caso:** $a>0$: parábola que abre hacia arriba (tiene un valor mínimo)"
   ]
  },
  {
   "cell_type": "markdown",
   "metadata": {},
   "source": [
    "Entonces el rango de la función es"
   ]
  },
  {
   "cell_type": "markdown",
   "metadata": {},
   "source": [
    "$$ \\left[c-\\dfrac{b^2}{4a},\\infty\\right) $$"
   ]
  },
  {
   "cell_type": "markdown",
   "metadata": {},
   "source": [
    "**2do caso:** $a<0$: parábola que abre hacia abajo (tiene un valor máximo)"
   ]
  },
  {
   "cell_type": "markdown",
   "metadata": {},
   "source": [
    "Entonces el rango de la función es"
   ]
  },
  {
   "cell_type": "markdown",
   "metadata": {},
   "source": [
    "$$ \\left(-\\infty,c-\\dfrac{b^2}{4a}\\right] $$"
   ]
  },
  {
   "cell_type": "markdown",
   "metadata": {},
   "source": [
    "### Forma de la función cuadrática"
   ]
  },
  {
   "cell_type": "markdown",
   "metadata": {},
   "source": [
    "Si sabemos que la función cuadrática pasa por el eje de horizontal en dos puntos ($B$ y $C$), podemos decir que la forma de la función cuadrática es"
   ]
  },
  {
   "cell_type": "markdown",
   "metadata": {},
   "source": [
    "$$ f(x)=A(x-B)(x-C) $$"
   ]
  },
  {
   "cell_type": "markdown",
   "metadata": {},
   "source": [
    "## Situación. Gravedad en Marte"
   ]
  },
  {
   "cell_type": "markdown",
   "metadata": {},
   "source": [
    "La exploración de Marte ha requerido del uso de nuevas estrategias a fin de superar\n",
    "obstáculos con los que se han enfrentado los vehículos destinados a navegar por el\n",
    "planeta. Algunos de los retos son: el conseguir que los vehículos exploradores\n",
    "recorran más terreno en menos tiempo, evitando el problema de corrosión de las\n",
    "ruedas, las tormentas de arena que bloquean los paneles solares y el cambio en las\n",
    "estaciones del clima en Marte que modifican la incidencia de rayos solares sobre\n",
    "los paneles.\n",
    "\n",
    "Para resolver el problema de cubrir más área explorada en menos tiempo, se han\n",
    "propuesto nuevas ideas como el uso de helicópteros en este planeta o robots\n",
    "denominados PUH (por sus siglas en inglés) que significa \"Saltador Urbano de\n",
    "Precisión\", robots que son capaces de saltar, ahorrando energía en comparación\n",
    "con volar.\n",
    "\n",
    "La función que describe el lanzamiento vertical de un objeto como función del\n",
    "tiempo, es de gran utilidad al momento de determinar la posición del robot PUH\n",
    "dada su altura inicial, en cualquier cuerpo celeste del que se conoce su gravedad.\n",
    "Cuando un objeto se lanza hacia arriba desde una altura inicial $h_0$, con una\n",
    "velocidad inicial $v_0$, la función para determinar su altura es $H(t)$ en el tiempo $t$ está dada por\n",
    "\n",
    "$$H(t)=h_0+ v_0t −\\dfrac{1}{2}gt^2$$\n",
    "\n",
    "donde $g$ es el valor de la aceleración gravitacional de Marte.\n",
    "\n",
    "En el esquema de la figura se ilustra el salto en vertical de un robot desde\n",
    "una altura inicial $h_0$, con una velocidad inicial $v_0$, que alcanza una altura máxima $H(t_\\text{max})=\\text{max}$, en el tiempo $t_\\text{max}$ , para después caer a la superficie del planeta, alcanzando así una altura final $H(t_f)=0$, en el tiempo final $t_f$.\n"
   ]
  },
  {
   "cell_type": "markdown",
   "metadata": {},
   "source": [
    "<img src=\"marte1.png\" align=\"middle\" width=\"400\">"
   ]
  },
  {
   "cell_type": "markdown",
   "metadata": {},
   "source": [
    "**1. El modelo que describe la altura del objeto en lanzamiento vertical como función\n",
    "del tiempo es una:**"
   ]
  },
  {
   "cell_type": "markdown",
   "metadata": {},
   "source": [
    "A) Función de primer grado\n",
    "\n",
    "B) Función de segundo grado\n",
    "\n",
    "C) Función trigonométrica\n",
    "\n",
    "D) Función exponencial"
   ]
  },
  {
   "cell_type": "markdown",
   "metadata": {},
   "source": [
    "**Solución:** B)"
   ]
  },
  {
   "cell_type": "markdown",
   "metadata": {},
   "source": [
    "**2. ¿Cuál es el dominio máximo de definición de la función?**\n"
   ]
  },
  {
   "cell_type": "markdown",
   "metadata": {},
   "source": [
    "A) $(-\\infty,\\infty)$\n",
    "\n",
    "B) $[0,15)$\n",
    "\n",
    "C) $(0,\\infty)$\n",
    "\n",
    "D) $[0, 360)$"
   ]
  },
  {
   "cell_type": "markdown",
   "metadata": {},
   "source": [
    "**Solución:** A)"
   ]
  },
  {
   "cell_type": "markdown",
   "metadata": {},
   "source": [
    "**3. Si en el planeta Marte, desde una plataforma situada a una altura $h_0=1.5\\ \\rm{m}$ un robot salta verticalmente con una velocidad inicial $v_0=20\\ \\dfrac{\\rm{m}}{\\rm{s}}$ y al considerar que la aceleración gravitacional en Marte es de $g=3.71\\ \\dfrac{\\rm{m}}{\\rm{s}^2}$.**\n",
    "\n",
    "**¿Cuál es la altura en metros, que el robot alcanza a los dos segundos de su lanzamiento hacia arriba?**"
   ]
  },
  {
   "cell_type": "markdown",
   "metadata": {},
   "source": [
    "$$H(t)=h_0+ v_0t −\\dfrac{1}{2}gt^2$$"
   ]
  },
  {
   "cell_type": "markdown",
   "metadata": {},
   "source": [
    "$$H(t)=1.5+ 20t −1.855t^2$$"
   ]
  },
  {
   "cell_type": "markdown",
   "metadata": {},
   "source": [
    "$$H(2)=1.5+ 20(2) −1.855(2)^2$$"
   ]
  },
  {
   "cell_type": "code",
   "execution_count": 2,
   "metadata": {},
   "outputs": [
    {
     "data": {
      "text/plain": [
       "34.08"
      ]
     },
     "execution_count": 2,
     "metadata": {},
     "output_type": "execute_result"
    }
   ],
   "source": [
    "1.5+20*(2)-1.855*(2)^2"
   ]
  },
  {
   "cell_type": "markdown",
   "metadata": {},
   "source": [
    "A) 45.92\n",
    "\n",
    "B) 34.08\n",
    "\n",
    "C) 31.08\n",
    "\n",
    "D) 48.92"
   ]
  },
  {
   "cell_type": "markdown",
   "metadata": {},
   "source": [
    "**Solución:** B)"
   ]
  },
  {
   "cell_type": "markdown",
   "metadata": {},
   "source": [
    "**4. Considerando las circunstancias en la pregunta anterior ¿Cuál es el tiempo\n",
    "aproximado, en segundos en el que el robot toca la superficie del planeta después\n",
    "de su salto vertical desde la plataforma?**"
   ]
  },
  {
   "cell_type": "markdown",
   "metadata": {},
   "source": [
    "$$H(t)=1.5+ 20t −1.855t^2$$"
   ]
  },
  {
   "cell_type": "markdown",
   "metadata": {},
   "source": [
    "<img src=\"marte1.png\" align=\"middle\" width=\"400\">"
   ]
  },
  {
   "cell_type": "markdown",
   "metadata": {},
   "source": [
    "Ya sabemos que si llega al piso la altura es cero."
   ]
  },
  {
   "cell_type": "markdown",
   "metadata": {},
   "source": [
    "$$0=1.5+ 20t −1.855t^2$$"
   ]
  },
  {
   "cell_type": "markdown",
   "metadata": {},
   "source": [
    "$$at^2+bt+c=0$$"
   ]
  },
  {
   "cell_type": "markdown",
   "metadata": {},
   "source": [
    "$a=-1.855$, $b=20$, $c=1.5$"
   ]
  },
  {
   "cell_type": "markdown",
   "metadata": {},
   "source": [
    "$$ t=\\dfrac{-b\\pm\\sqrt{b^2-4ac}}{2a} $$"
   ]
  },
  {
   "cell_type": "markdown",
   "metadata": {},
   "source": [
    "$t_1=10.85,\\ t_2=-0.07$"
   ]
  },
  {
   "cell_type": "markdown",
   "metadata": {},
   "source": [
    "A) 5.46\n",
    "\n",
    "B) 5.31\n",
    "\n",
    "C) 10.70\n",
    "\n",
    "D) 10.856"
   ]
  },
  {
   "cell_type": "markdown",
   "metadata": {},
   "source": [
    "**Solución:** D)"
   ]
  },
  {
   "cell_type": "markdown",
   "metadata": {},
   "source": [
    "**5. De las siguientes gráficas, ¿cuál representa un esbozo de la gráfica de la función correspondiente al lanzamiento vertical descrito en la pregunta 3?**"
   ]
  },
  {
   "cell_type": "markdown",
   "metadata": {},
   "source": [
    "$$H(0)=1.5+ 20(0) -1.855(0)^2$$"
   ]
  },
  {
   "cell_type": "markdown",
   "metadata": {},
   "source": [
    "$$H(0)=1.5$$"
   ]
  },
  {
   "cell_type": "markdown",
   "metadata": {},
   "source": [
    "Esto me da las coordenadas $(0,1.5)$"
   ]
  },
  {
   "cell_type": "markdown",
   "metadata": {},
   "source": [
    "C)\n",
    "<img src=\"cuadratica5C.png\" align=\"middle\" width=\"400\">"
   ]
  },
  {
   "cell_type": "markdown",
   "metadata": {},
   "source": [
    "D)\n",
    "<img src=\"cuadratica5D.png\" align=\"middle\" width=\"400\">"
   ]
  },
  {
   "cell_type": "markdown",
   "metadata": {},
   "source": [
    "**Solución:** D)"
   ]
  },
  {
   "cell_type": "markdown",
   "metadata": {},
   "source": [
    "**6. La figura muestra la gráfica de la expresión matemática que describe la altura del robot en función del tiempo, cuando éste realiza un salto vertical desde la luna, donde hay una aceleración gravitacional $g=1.6\\ \\dfrac{\\rm{m}}{\\rm{s}^2}$ , inicia dicho salto a nivel del suelo y a una velocidad inicial de $v_0=40\\ \\dfrac{\\rm{m}}{\\rm{s}}$.**\n",
    "\n",
    "**¿Cuáles son los puntos A y B de dicha gráfica?**\n"
   ]
  },
  {
   "cell_type": "markdown",
   "metadata": {},
   "source": [
    "$$H(t)=h_0+ v_0t −\\dfrac{1}{2}gt^2$$"
   ]
  },
  {
   "cell_type": "markdown",
   "metadata": {},
   "source": [
    "$g=1.6$, $v_0=40$, $h_0=0$"
   ]
  },
  {
   "cell_type": "markdown",
   "metadata": {},
   "source": [
    "$$H(t)=40t −0.8t^2$$"
   ]
  },
  {
   "cell_type": "markdown",
   "metadata": {},
   "source": [
    "Hicimos que la altura fuese cero para ver a cuáles tiempos sucede esto."
   ]
  },
  {
   "cell_type": "markdown",
   "metadata": {},
   "source": [
    "$$0=40t −0.8t^2$$"
   ]
  },
  {
   "cell_type": "markdown",
   "metadata": {},
   "source": [
    "$$0=t(40-0.8t)$$"
   ]
  },
  {
   "cell_type": "markdown",
   "metadata": {},
   "source": [
    "1ra opción: $t=0$"
   ]
  },
  {
   "cell_type": "markdown",
   "metadata": {},
   "source": [
    "2da opción: $40-0.8t=0$"
   ]
  },
  {
   "cell_type": "markdown",
   "metadata": {},
   "source": [
    "$$ 40-0.8t=0 $$"
   ]
  },
  {
   "cell_type": "markdown",
   "metadata": {},
   "source": [
    "$$ -0.8t=-40 $$"
   ]
  },
  {
   "cell_type": "markdown",
   "metadata": {},
   "source": [
    "$$ t=\\dfrac{-40}{-0.8}=50 $$"
   ]
  },
  {
   "cell_type": "markdown",
   "metadata": {},
   "source": [
    "$(0,0)$ y $(50,0)$"
   ]
  },
  {
   "cell_type": "markdown",
   "metadata": {},
   "source": [
    "<img src=\"marte2.png\" align=\"middle\" width=\"500\">"
   ]
  },
  {
   "cell_type": "markdown",
   "metadata": {},
   "source": [
    "\n",
    "B) $A(0,0),\\ B(50,0)$\n",
    "\n",
    "C) $A(0,0),\\ B(25,0)$\n",
    "\n"
   ]
  },
  {
   "cell_type": "markdown",
   "metadata": {},
   "source": [
    "**Solución:** B)"
   ]
  },
  {
   "cell_type": "markdown",
   "metadata": {},
   "source": [
    "**7. De acuerdo con la información de la gráfica asociada con la gráfica de la figura anterior, ¿cuál es el dominio natural de la función?**"
   ]
  },
  {
   "cell_type": "markdown",
   "metadata": {},
   "source": [
    "A) $[0, 25]$\n",
    "\n",
    "B) $[25, 0]$\n",
    "\n",
    "C) $[0, 50]$\n",
    "\n",
    "D) $[50, 0]$"
   ]
  },
  {
   "cell_type": "markdown",
   "metadata": {},
   "source": [
    "**Solución:** C)"
   ]
  },
  {
   "cell_type": "markdown",
   "metadata": {},
   "source": [
    "**8. La siguiente figura muestra la gráfica de la expresión matemática que describe la\n",
    "altura del robot en función del tiempo, cuando éste realiza un salto vertical desde la\n",
    "luna, e inicia dicho salto a nivel del suelo.**\n",
    "\n",
    "**¿Cuál es la expresión matemática que modela la gráfica de la figura?**"
   ]
  },
  {
   "cell_type": "markdown",
   "metadata": {},
   "source": [
    "<img src=\"marte3.png\" align=\"middle\" width=\"500\">"
   ]
  },
  {
   "cell_type": "markdown",
   "metadata": {},
   "source": [
    "**1ra forma:**"
   ]
  },
  {
   "cell_type": "markdown",
   "metadata": {},
   "source": [
    "Tenemos las coordenadas:\n",
    "* $(0,0)$\n",
    "* $(62.5,0)$"
   ]
  },
  {
   "cell_type": "markdown",
   "metadata": {},
   "source": [
    "A) $H ( t ) = 0.8( t − 0)(t − 62.5)=0.8(t^2-62.5t)=0.8t^2-0.8\\cdot62.5t$"
   ]
  },
  {
   "cell_type": "markdown",
   "metadata": {},
   "source": [
    "$$H (0) = 0.8( 0 − 0)(0 − 62.5)=0$$"
   ]
  },
  {
   "cell_type": "markdown",
   "metadata": {},
   "source": [
    "$$H (62.5) = 0.8(62.5 − 0)(62.5− 62.5)=0$$"
   ]
  },
  {
   "cell_type": "markdown",
   "metadata": {},
   "source": [
    "B) $H (t) = − 0.8(t − 0)(t − 62.5)=-0.8t^2+0.8\\cdot62.5t$"
   ]
  },
  {
   "cell_type": "markdown",
   "metadata": {},
   "source": [
    "$$H(0) = − 0.8(0 − 0)(0 − 62.5)=0$$"
   ]
  },
  {
   "cell_type": "markdown",
   "metadata": {},
   "source": [
    "$$H(0) = − 0.8(62.5 − 0)(62.5 − 62.5)=0$$"
   ]
  },
  {
   "cell_type": "markdown",
   "metadata": {},
   "source": [
    "A) $H ( t ) = 0.8( t − 0)(t − 62.5)$\n",
    "\n",
    "B) $H (t) = − 0.8(t − 0)(t − 62.5)$\n",
    "\n",
    "C) $H (t) = − 0.8(t + 0)(t + 62.5)$\n",
    "\n",
    "D) $H ( t ) = 0.8( t + 0)(t + 62.5)$"
   ]
  },
  {
   "cell_type": "markdown",
   "metadata": {},
   "source": [
    "**Solución:** B)"
   ]
  },
  {
   "cell_type": "markdown",
   "metadata": {},
   "source": [
    "**9. La siguiente figura corresponde a la gráfica de la altura de un robot lanzado en la luna, desde una altura de $1.2\\ \\rm{m}$, como función del tiempo ¿Cuál es la expresión que corresponde a dicha gráfica?**\n"
   ]
  },
  {
   "cell_type": "markdown",
   "metadata": {},
   "source": [
    "$$H(t)=h_0+ v_0t −\\dfrac{1}{2}gt^2$$"
   ]
  },
  {
   "cell_type": "markdown",
   "metadata": {},
   "source": [
    "$$H(t)=1.2+ v_0t −0.8t^2$$"
   ]
  },
  {
   "cell_type": "markdown",
   "metadata": {},
   "source": [
    "<img src=\"marte4.png\" align=\"middle\" width=\"500\">"
   ]
  },
  {
   "cell_type": "markdown",
   "metadata": {},
   "source": [
    "$(0,1.2)$"
   ]
  },
  {
   "cell_type": "markdown",
   "metadata": {},
   "source": [
    "$(1,2)$"
   ]
  },
  {
   "cell_type": "markdown",
   "metadata": {},
   "source": [
    "B) $H ( t ) = − 0.8( t +1)^2 + 2$"
   ]
  },
  {
   "cell_type": "markdown",
   "metadata": {},
   "source": [
    "$$ H(0)=-0.8(0+1)^2+2=1.2 $$"
   ]
  },
  {
   "cell_type": "markdown",
   "metadata": {},
   "source": [
    "$$ H(1)=-0.8(1+1)^2+2=-2 $$"
   ]
  },
  {
   "cell_type": "markdown",
   "metadata": {},
   "source": [
    "D) $H ( t ) = − 0.8( t −1)^2 + 2$"
   ]
  },
  {
   "cell_type": "markdown",
   "metadata": {},
   "source": [
    "$$ H(0)=-0.8(0-1)^2+2=1.2 $$"
   ]
  },
  {
   "cell_type": "markdown",
   "metadata": {},
   "source": [
    "$$ H(1)=-0.8(1-1)^2+2=2 $$"
   ]
  },
  {
   "cell_type": "markdown",
   "metadata": {},
   "source": [
    "**Solución:** D)"
   ]
  },
  {
   "cell_type": "markdown",
   "metadata": {},
   "source": [
    "**10. ¿Cuál es el recorrido (rango) de la función asociado con el lanzamiento vertical de un robot en el planeta Marte a una altura inicial de $2.145\\ \\rm{m}$, con una velocidad inicial de $3.71\\ \\dfrac{\\rm{m}}{\\rm{s}}$, al considerar el dominio máximo de la misma?**"
   ]
  },
  {
   "cell_type": "markdown",
   "metadata": {},
   "source": [
    "$$H(t)=2.145+ 3.71t −\\dfrac{1}{2}(3.71)t^2$$"
   ]
  },
  {
   "cell_type": "markdown",
   "metadata": {},
   "source": [
    "$$H(t)=2.145+ 3.71t −1.855t^2$$"
   ]
  },
  {
   "cell_type": "markdown",
   "metadata": {},
   "source": [
    "$$ f(t)=at^2+bt+c $$"
   ]
  },
  {
   "cell_type": "markdown",
   "metadata": {},
   "source": [
    "$$ V\\left(-\\dfrac{b}{2a},c-\\dfrac{b^2}{4a}\\right) $$"
   ]
  },
  {
   "cell_type": "markdown",
   "metadata": {},
   "source": [
    "$a=-1.855$, $b=3.71$, $c=2.145$"
   ]
  },
  {
   "cell_type": "markdown",
   "metadata": {},
   "source": [
    "$$ V\\left(-\\dfrac{3.71}{2(-1.855)},(2.145)-\\dfrac{(3.71)^2}{4(-1.855)}\\right)=V(1,4) $$"
   ]
  },
  {
   "cell_type": "code",
   "execution_count": 4,
   "metadata": {},
   "outputs": [
    {
     "data": {
      "text/plain": [
       "1.0"
      ]
     },
     "execution_count": 4,
     "metadata": {},
     "output_type": "execute_result"
    }
   ],
   "source": [
    "-3.71/(2*(-1.855))"
   ]
  },
  {
   "cell_type": "code",
   "execution_count": 5,
   "metadata": {},
   "outputs": [
    {
     "data": {
      "text/plain": [
       "4.0"
      ]
     },
     "execution_count": 5,
     "metadata": {},
     "output_type": "execute_result"
    }
   ],
   "source": [
    "2.145-(3.71)^2/(4*(-1.855))"
   ]
  },
  {
   "cell_type": "markdown",
   "metadata": {},
   "source": [
    "A) $(-\\infty, 4]$\n",
    "\n",
    "D) $(-\\infty, 4)$"
   ]
  },
  {
   "cell_type": "markdown",
   "metadata": {},
   "source": [
    "**Solución:** A)"
   ]
  },
  {
   "cell_type": "markdown",
   "metadata": {},
   "source": [
    "**11. ¿Cuál es el recorrido (rango) de la función considerando el dominio natural de la misma, para la situación planteada en la pregunta anterior?**"
   ]
  },
  {
   "cell_type": "markdown",
   "metadata": {},
   "source": [
    "A) $[4,\\infty)$\n",
    "\n",
    "B) $[-\\infty,4)$\n",
    "\n",
    "C) $(0,4)$\n",
    "\n",
    "D) $[0,4]$"
   ]
  },
  {
   "cell_type": "markdown",
   "metadata": {},
   "source": [
    "**Solución:** D)"
   ]
  },
  {
   "cell_type": "markdown",
   "metadata": {},
   "source": [
    "## Logaritmos"
   ]
  },
  {
   "cell_type": "markdown",
   "metadata": {},
   "source": [
    "* $\\log_a(a)=1$\n",
    "\n",
    "* $\\log_a(a)=1$\n",
    "\n",
    "* $\\log_a(x)+\\log_a(y)=\\log_a(xy)$\n",
    "\n",
    "* $\\log_a(x)-\\log_a(y)=\\log_a\\left(\\dfrac{x}{y}\\right)$\n",
    "\n",
    "* $\\log_a(x^n)=n\\log_a(x)$\n",
    "\n",
    "* $\\log_a(b)=\\dfrac{\\log_c(b)}{\\log_c(a)}$"
   ]
  },
  {
   "cell_type": "markdown",
   "metadata": {},
   "source": [
    "$$y=x^2\\quad \\leftrightarrow\\quad\\sqrt{y}=x $$"
   ]
  },
  {
   "cell_type": "markdown",
   "metadata": {},
   "source": [
    "$$y=\\log_a(x)\\quad \\leftrightarrow\\quad a^y=x $$"
   ]
  },
  {
   "cell_type": "markdown",
   "metadata": {},
   "source": [
    "* ***Ejemplo:*** Resuelve la ecuación\n",
    "\n",
    "$$ 3^{x+1}=81 $$"
   ]
  },
  {
   "cell_type": "markdown",
   "metadata": {},
   "source": [
    "Pasamos el $3$ en la base del otro lado de la ecuación. Pasa como logaritmo:"
   ]
  },
  {
   "cell_type": "markdown",
   "metadata": {},
   "source": [
    "$$ x+1=\\log_3(81) $$"
   ]
  },
  {
   "cell_type": "markdown",
   "metadata": {},
   "source": [
    "$$ x+1=4 $$"
   ]
  },
  {
   "cell_type": "markdown",
   "metadata": {},
   "source": [
    "$$ x=4-1 $$"
   ]
  },
  {
   "cell_type": "markdown",
   "metadata": {},
   "source": [
    "$$ x=3 $$"
   ]
  },
  {
   "cell_type": "markdown",
   "metadata": {},
   "source": [
    "* ***Ejemplo:*** Encuentra $t$ de tal forma que"
   ]
  },
  {
   "cell_type": "markdown",
   "metadata": {},
   "source": [
    "$$2^t = 7$$"
   ]
  },
  {
   "cell_type": "markdown",
   "metadata": {},
   "source": [
    "$$t = \\log_2(7)$$"
   ]
  },
  {
   "cell_type": "markdown",
   "metadata": {},
   "source": [
    "* $\\log_a(b)=\\dfrac{\\log_c(b)}{\\log_c(a)}$"
   ]
  },
  {
   "cell_type": "markdown",
   "metadata": {},
   "source": [
    "$a=2$, $b=7$, $c=10$"
   ]
  },
  {
   "cell_type": "markdown",
   "metadata": {},
   "source": [
    "$$\\log_2(7)=\\dfrac{\\log_{10}(7)}{\\log_{10}(2)}=2.80735922...$$"
   ]
  },
  {
   "cell_type": "code",
   "execution_count": 13,
   "metadata": {},
   "outputs": [
    {
     "data": {
      "text/plain": [
       "7.00002085377764"
      ]
     },
     "execution_count": 13,
     "metadata": {},
     "output_type": "execute_result"
    }
   ],
   "source": [
    "2^2.80735922"
   ]
  },
  {
   "cell_type": "markdown",
   "metadata": {},
   "source": [
    "* ***Ejemplo:*** Resuelve la ecuación\n",
    "\n",
    "$$ \\log_2(x^7)=21 $$"
   ]
  },
  {
   "cell_type": "markdown",
   "metadata": {},
   "source": [
    "* $\\log_a(x^n)=n\\log_a(x)$"
   ]
  },
  {
   "cell_type": "markdown",
   "metadata": {},
   "source": [
    "$$ 7\\log_2(x)=21 $$"
   ]
  },
  {
   "cell_type": "markdown",
   "metadata": {},
   "source": [
    "$$ \\log_2(x)=\\dfrac{21}{7}=3 $$"
   ]
  },
  {
   "cell_type": "markdown",
   "metadata": {},
   "source": [
    "$$ x=2^3=8 $$"
   ]
  },
  {
   "cell_type": "markdown",
   "metadata": {},
   "source": [
    "* ***Ejemplo:*** Resuelve la ecuación\n",
    "\n",
    "$$ \\log_2(x+1)+\\log_2(x-1)=4 $$"
   ]
  },
  {
   "cell_type": "markdown",
   "metadata": {},
   "source": [
    "* $\\log_a(x)+\\log_a(y)=\\log_a(xy)$"
   ]
  },
  {
   "cell_type": "markdown",
   "metadata": {},
   "source": [
    "$$ \\log_2[(x+1)(x-1)]=4 $$"
   ]
  },
  {
   "cell_type": "markdown",
   "metadata": {},
   "source": [
    "$$ \\log_2(x^2-1)=4 $$"
   ]
  },
  {
   "cell_type": "markdown",
   "metadata": {},
   "source": [
    "$$ x^2-1=2^4 $$"
   ]
  },
  {
   "cell_type": "markdown",
   "metadata": {},
   "source": [
    "$$ x^2=2^4+1 $$"
   ]
  },
  {
   "cell_type": "markdown",
   "metadata": {},
   "source": [
    "$$ x^2=17 $$"
   ]
  },
  {
   "cell_type": "markdown",
   "metadata": {},
   "source": [
    "$$ x=\\sqrt{17} $$"
   ]
  },
  {
   "cell_type": "markdown",
   "metadata": {},
   "source": [
    "## Funciones exponenciales"
   ]
  },
  {
   "cell_type": "markdown",
   "metadata": {},
   "source": [
    "$$ f(x)=a\\cdot b^x+c $$"
   ]
  },
  {
   "cell_type": "markdown",
   "metadata": {},
   "source": [
    "* Si $b>1$, decimos que se trata de un crecimiento exponencial.\n",
    "* Si $b<1$, decimos que se trata de un decaimiento exponencial.\n",
    "* Si $b=1$, línea horizontal"
   ]
  },
  {
   "cell_type": "markdown",
   "metadata": {},
   "source": [
    "$a=1$, $b=2$, $c=0$"
   ]
  },
  {
   "cell_type": "markdown",
   "metadata": {},
   "source": [
    "$$ f(x)=2^x $$"
   ]
  },
  {
   "cell_type": "markdown",
   "metadata": {},
   "source": [
    "Se dice hace mucho tiempo había inventado el ajedrez. Se lo ofrece a un rey.\n",
    "\n",
    "El ajedrez tiene 8 filas y 8 columnas (64 casillas)."
   ]
  },
  {
   "cell_type": "markdown",
   "metadata": {},
   "source": [
    "$$ f(-10)=2^{-10}=\\dfrac{1}{2^{10}}=\\dfrac{1}{1024} $$"
   ]
  },
  {
   "cell_type": "markdown",
   "metadata": {},
   "source": [
    "2+4+8+16"
   ]
  },
  {
   "cell_type": "code",
   "execution_count": 19,
   "metadata": {},
   "outputs": [
    {
     "data": {
      "text/plain": [
       "0.0009765625"
      ]
     },
     "execution_count": 19,
     "metadata": {},
     "output_type": "execute_result"
    }
   ],
   "source": [
    "2^(-10)"
   ]
  },
  {
   "cell_type": "code",
   "execution_count": 15,
   "metadata": {},
   "outputs": [
    {
     "data": {
      "text/plain": [
       "1073741824"
      ]
     },
     "execution_count": 15,
     "metadata": {},
     "output_type": "execute_result"
    }
   ],
   "source": [
    "2^30"
   ]
  },
  {
   "cell_type": "code",
   "execution_count": 17,
   "metadata": {},
   "outputs": [
    {
     "data": {
      "text/plain": [
       "1152921504606846976"
      ]
     },
     "execution_count": 17,
     "metadata": {},
     "output_type": "execute_result"
    }
   ],
   "source": [
    "2^60"
   ]
  },
  {
   "cell_type": "markdown",
   "metadata": {},
   "source": [
    "El dominio máximo de estas funciones es $\\mathbb{R}$."
   ]
  },
  {
   "cell_type": "markdown",
   "metadata": {},
   "source": [
    "Si $a>0$, el rango de la función es $(c,\\infty)$.\n",
    "\n",
    "Si $a<0$, el rango de la función es $(-\\infty,c)$."
   ]
  },
  {
   "cell_type": "markdown",
   "metadata": {},
   "source": [
    "### Tasa de crecimiendo\n",
    "\n",
    "Se define como $b-1$:\n",
    "\n",
    "* Si $b-1$ es positivo decimos que la función está creciendo $(b-1)\\cdot100\\%$\n",
    "* Si $b-1$ es negativo decimos que la función está decayendo $(b-1)\\cdot100\\%$"
   ]
  },
  {
   "cell_type": "markdown",
   "metadata": {},
   "source": [
    "$$ f(x)=2^x $$"
   ]
  },
  {
   "cell_type": "markdown",
   "metadata": {},
   "source": [
    "$b-1=2-1=1$"
   ]
  },
  {
   "cell_type": "markdown",
   "metadata": {},
   "source": [
    "La función está creciendo $1\\cdot100\\%$"
   ]
  },
  {
   "cell_type": "markdown",
   "metadata": {},
   "source": [
    "* ***Ejemplo:*** Pensemos que tenemos una función exponencial $f(x)$. Si $f(20)=88.2$ y $f(23)=91.4$, encuentra la (a) base, y (b) $f(25)$."
   ]
  },
  {
   "cell_type": "markdown",
   "metadata": {},
   "source": []
  },
  {
   "cell_type": "markdown",
   "metadata": {},
   "source": []
  },
  {
   "cell_type": "markdown",
   "metadata": {},
   "source": []
  },
  {
   "cell_type": "markdown",
   "metadata": {},
   "source": []
  },
  {
   "cell_type": "markdown",
   "metadata": {},
   "source": []
  },
  {
   "cell_type": "markdown",
   "metadata": {},
   "source": [
    "## Funciones logarítmicas"
   ]
  },
  {
   "cell_type": "markdown",
   "metadata": {},
   "source": [
    "$$ f(x)=a\\cdot\\log(x+b)+c$$"
   ]
  },
  {
   "cell_type": "markdown",
   "metadata": {},
   "source": [
    "## Situación. Población de Michoacán"
   ]
  },
  {
   "cell_type": "markdown",
   "metadata": {},
   "source": [
    "En la Tabla se muestra la relación de la población de Michoacán de 1880 a 2010. La tercera\n",
    "columna nos indica la proporción, la cual fue obtenida de dividir la población de determinada\n",
    "década entre la población de la década precedente."
   ]
  },
  {
   "cell_type": "markdown",
   "metadata": {},
   "source": [
    "| Año  | Población (millones) | Proporción |\n",
    "|------|----------------------|------------|\n",
    "| 1880 | 1.48                 | 1.24       |\n",
    "| 1890 | 1.84                 | 1.24       |\n",
    "| 1900 | 2.28                 | 1.24       |\n",
    "| 1910 | 2.82                 | 1.24       |\n",
    "| 1920 | 3.49                 | 1.24       |\n",
    "| 1930 | 4.33                 | 1.24       |\n",
    "| 1940 | 5.36                 | 1.24       |\n",
    "| 1950 | 6.64                 | 1.24       |\n",
    "| 1960 | 8.22                 | 1.24       |\n",
    "| 1970 | 10.18                | 1.24       |\n",
    "| 1980 | 12.62                | 1.24       |\n",
    "| 1990 | 15.63                | 1.24       |\n",
    "| 2000 | 19.35                | 1.24       |\n",
    "| 2010 | 23.97                | 1.24       |"
   ]
  },
  {
   "cell_type": "markdown",
   "metadata": {},
   "source": [
    "**1. ¿Cuál de las siguientes afirmaciones es verdadera? [1 punto]**"
   ]
  },
  {
   "cell_type": "markdown",
   "metadata": {},
   "source": [
    "A) El año es el dominio y la proporción el codominio de la relación.\n",
    "\n",
    "B) La población es el dominio y la proporción el codominio de la relación.\n",
    "\n",
    "C) El año es el dominio y la población el codominio de la relación.\n",
    "\n",
    "D) La población es el dominio y el año el codominio de la relación."
   ]
  },
  {
   "cell_type": "markdown",
   "metadata": {},
   "source": [
    "**Solución:** "
   ]
  },
  {
   "cell_type": "markdown",
   "metadata": {},
   "source": [
    "**2.  La tasa de crecimiento de 1990 al 2010 de la población de Michoacán es: [2 puntos]**"
   ]
  },
  {
   "cell_type": "markdown",
   "metadata": {},
   "source": [
    "A) $1.24$\n",
    "\n",
    "B) $0.417$\n",
    "\n",
    "C) $2.4$\n",
    "\n",
    "D) $0.24$"
   ]
  },
  {
   "cell_type": "markdown",
   "metadata": {},
   "source": [
    "**3. Los datos de la tabla 1 se encuentran modelados por una función del tipo $f(x)=Aa^{Bx}$ donde $A$ y $B$ son constantes, la función es: [1 punto]**"
   ]
  },
  {
   "cell_type": "markdown",
   "metadata": {},
   "source": [
    "A) Lineal\n",
    "\n",
    "B) Polinomial\n",
    "\n",
    "C) Exponencial\n",
    "\n",
    "D) Logarítmica"
   ]
  },
  {
   "cell_type": "markdown",
   "metadata": {},
   "source": [
    "## Situación: Fragmentos de Bosque y Hormigas\n",
    "\n",
    "Como parte de un análisis del efecto de la fragmentación sobre las relaciones\n",
    "especies-área, se registró el número de especies de hormigas para ciertos\n",
    "fragmentos de bosque seco tropical. En el siguiente gráfico se presenta la relación\n",
    "entre el área de los fragmentos de bosque seco tropical en la cuenca media del río\n",
    "Cauca, Colombia, medida en hectáreas (h) , con el número de especies de hormigas\n",
    "encontradas en cada fragmento N (h) .\n"
   ]
  },
  {
   "cell_type": "markdown",
   "metadata": {},
   "source": [
    "**1. Es el tipo de función que mejor describe la asociación entre el área y el número\n",
    "de especies que se representa en la figura.**"
   ]
  },
  {
   "cell_type": "markdown",
   "metadata": {},
   "source": [
    "<img src=\"bosque1.png\" align=\"middle\" width=\"500\">"
   ]
  },
  {
   "cell_type": "markdown",
   "metadata": {},
   "source": [
    "A) $N(h)=13e^h+76$\n",
    "\n",
    "B) $N(h)=76e^h+13$\n",
    "\n",
    "A) $N(h)=13\\log(h)+76$\n",
    "\n",
    "D) $N(h)=76\\log(h)+13$"
   ]
  },
  {
   "cell_type": "markdown",
   "metadata": {},
   "source": [
    "**Solución:** "
   ]
  },
  {
   "cell_type": "markdown",
   "metadata": {},
   "source": [
    "**2. Si el modelo que ajusta a los datos planteados en la situación para otra zona de\n",
    "bosque es $N(h)=7.9\\cdot\\ln(h)+100$, ¿cuál es el dominio máximo de la función?**"
   ]
  },
  {
   "cell_type": "markdown",
   "metadata": {},
   "source": [
    "A) $(0,\\infty)$\n",
    "\n",
    "B) $(-\\infty,\\infty)$\n",
    "\n",
    "C) $[7.9, 100]$\n",
    "\n",
    "D) $[100, \\infty)$"
   ]
  },
  {
   "cell_type": "markdown",
   "metadata": {},
   "source": [
    "**3. Si para una zona especial la relación descrita en la situación está dada por $N (h) = 11.37\\cdot\\ln(h ) + 75.9$, ¿cuál es el despeje para poder determinar el número de hectáreas de un fragmento de bosque donde se encuentran $89$ especies de hormigas?**"
   ]
  },
  {
   "cell_type": "markdown",
   "metadata": {},
   "source": [
    "A) $h=e^{\\dfrac{89-75.9}{11.37}}$\n",
    "\n",
    "B) $h=\\ln\\left(\\dfrac{89-75.9}{11.37}\\right)$\n",
    "\n",
    "C) $h=\\ln\\left(\\dfrac{11.37}{89-75.9}\\right)$\n",
    "\n",
    "D) $h=e^{\\dfrac{11.37}{89-75.9}}$"
   ]
  },
  {
   "cell_type": "markdown",
   "metadata": {},
   "source": [
    "## ¿Quién gana?"
   ]
  },
  {
   "cell_type": "markdown",
   "metadata": {},
   "source": []
  },
  {
   "cell_type": "markdown",
   "metadata": {},
   "source": []
  },
  {
   "cell_type": "markdown",
   "metadata": {},
   "source": []
  },
  {
   "cell_type": "markdown",
   "metadata": {},
   "source": []
  },
  {
   "cell_type": "markdown",
   "metadata": {},
   "source": []
  },
  {
   "cell_type": "markdown",
   "metadata": {},
   "source": [
    "## Situación. El área de un trapecio rectángulo con vértices en dos circunferencias"
   ]
  },
  {
   "cell_type": "markdown",
   "metadata": {},
   "source": [
    "Si se tienen dos círculos tangentes en el punto $P_T$ con diámetros $\\overline{P_TD}=10\\ \\rm{cm}$ y $\\overline{P_TC}=5\\ \\rm{cm}$, respectivamente, como se muestra en la figura siguiente"
   ]
  },
  {
   "cell_type": "markdown",
   "metadata": {},
   "source": [
    "<img src=\"situacion_circulos.png\" align=\"middle\" width=\"300\">"
   ]
  },
  {
   "cell_type": "markdown",
   "metadata": {},
   "source": [
    "**1. Expresar la altura $h$ en términos de la base mayor $x$ del trapecio [3 puntos]**"
   ]
  },
  {
   "cell_type": "markdown",
   "metadata": {},
   "source": [
    "A) $h(x)=\\dfrac{\\sqrt{100-x^2}}{4}$\n",
    "\n",
    "B) $h(x)=\\sqrt{\\dfrac{100-x^2}{4}}$\n",
    "\n",
    "C) $h(x)=\\dfrac{\\sqrt{100+x^2}}{4}$\n",
    "\n",
    "D) $h(x)=\\sqrt{\\dfrac{100+x^2}{4}}$"
   ]
  },
  {
   "cell_type": "markdown",
   "metadata": {},
   "source": [
    " **2. Expresar la base menor y en términos de la base mayor: [1 punto]**"
   ]
  },
  {
   "cell_type": "markdown",
   "metadata": {},
   "source": [
    "A) $y=\\sqrt{\\dfrac{x}{2}}$\n",
    "\n",
    "B) $y=\\dfrac{\\sqrt{x}}{2}$\n",
    "\n",
    "C) $y=\\dfrac{x}{2}$\n",
    "\n",
    "D) $y=\\dfrac{x}{4}$"
   ]
  },
  {
   "cell_type": "markdown",
   "metadata": {},
   "source": [
    "**3. El promedio de las dos bases de trapecio es: [1 punto]**"
   ]
  },
  {
   "cell_type": "markdown",
   "metadata": {},
   "source": [
    "A) $\\dfrac{2x+\\sqrt{x}}{4}$\n",
    "\n",
    "B) $\\dfrac{\\sqrt{2}x+\\sqrt{x}}{2\\sqrt{2}}$\n",
    "\n",
    "C) $\\dfrac{5}{4}x$\n",
    "\n",
    "D) $\\dfrac{3}{4}x$"
   ]
  },
  {
   "cell_type": "markdown",
   "metadata": {},
   "source": [
    "**4. El área del trapecio en términos de la base mayor es: [3 puntos]**"
   ]
  },
  {
   "cell_type": "markdown",
   "metadata": {},
   "source": [
    "A) $A_T(x)=\\dfrac{3x\\sqrt{100-x^2}}{16}$\n",
    "\n",
    "B) $A_T(x)=\\dfrac{3x\\sqrt{100+x^2}}{16}$\n",
    "\n",
    "C) $A_T(x)=\\dfrac{3x\\sqrt{100+x^2}}{4}$\n",
    "\n",
    "D) $A_T(x)=\\dfrac{3x\\sqrt{100-x^2}}{4}$"
   ]
  }
 ],
 "metadata": {
  "kernelspec": {
   "display_name": "Julia 1.1.0",
   "language": "julia",
   "name": "julia-1.1"
  },
  "language_info": {
   "file_extension": ".jl",
   "mimetype": "application/julia",
   "name": "julia",
   "version": "1.1.0"
  }
 },
 "nbformat": 4,
 "nbformat_minor": 4
}
