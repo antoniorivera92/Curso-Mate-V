{
 "cells": [
  {
   "cell_type": "markdown",
   "metadata": {},
   "source": [
    "# Pensamiento geométrico para visualizar y argumentar"
   ]
  },
  {
   "cell_type": "markdown",
   "metadata": {},
   "source": [
    "#### Ejercicio 5"
   ]
  },
  {
   "cell_type": "markdown",
   "metadata": {},
   "source": [
    "$A$, $B$, $C$, $D$, y $E$ son puntos consecutivos. Las siguientes longitudes se conocen en términos de $x$ y $y$:\n",
    " \\begin{align*}\n",
    " \\overline{AB}=&x-y\\\\\n",
    " \\overline{AD}=&x+2y-1\\\\\n",
    " \\overline{BD}=&\\overline{AB}+1\\\\\n",
    " \\overline{DE}=&4y-4\\\\\n",
    " \\overline{AE}=&2x+y\n",
    " \\end{align*}\n",
    " Encuentra el valor numérico de la longitud de $\\overline{AB}$."
   ]
  },
  {
   "cell_type": "markdown",
   "metadata": {},
   "source": [
    "#### Solución"
   ]
  },
  {
   "cell_type": "markdown",
   "metadata": {},
   "source": [
    "Primera ec.:"
   ]
  },
  {
   "cell_type": "markdown",
   "metadata": {},
   "source": [
    "$$\\overline{AB}+\\overline{BD}=\\overline{AD}$$"
   ]
  },
  {
   "cell_type": "markdown",
   "metadata": {},
   "source": [
    "$$ (x-y)+(\\overline{AB}+1)=(x+2y-1) $$"
   ]
  },
  {
   "cell_type": "markdown",
   "metadata": {},
   "source": [
    "$$ (x-y)+[(x-y)+1]=(x+2y-1) $$"
   ]
  },
  {
   "cell_type": "markdown",
   "metadata": {},
   "source": [
    "Segunda ec.:"
   ]
  },
  {
   "cell_type": "markdown",
   "metadata": {},
   "source": [
    "$$\\overline{AD}+\\overline{DE}=\\overline{AE}$$"
   ]
  },
  {
   "cell_type": "markdown",
   "metadata": {},
   "source": [
    "\n",
    "$$ (x+2y-1)+(4y-4)=(2x+y) $$"
   ]
  },
  {
   "cell_type": "markdown",
   "metadata": {},
   "source": [
    "Revisen con algún métdodo de solución de ecuaciones que $x=10$, $y=3$."
   ]
  },
  {
   "cell_type": "markdown",
   "metadata": {},
   "source": [
    "# Clase 2"
   ]
  },
  {
   "cell_type": "markdown",
   "metadata": {},
   "source": [
    "## Círculos I"
   ]
  },
  {
   "cell_type": "markdown",
   "metadata": {},
   "source": [
    "Una de las preguntas más importantes de las matemáticas:\n",
    "\n",
    "**¿Qué es $\\pi$?**"
   ]
  },
  {
   "cell_type": "markdown",
   "metadata": {},
   "source": [
    "<img src=\"circ1.png\" align=\"middle\" width=\"300\">"
   ]
  },
  {
   "cell_type": "markdown",
   "metadata": {},
   "source": [
    "* El punto negro es el *centro* del círculo \n",
    "* La línea negra es la *circunferencia* (el perímetro de un círculo).\n",
    "* La línea roja es el *diámetro* (línea que va de un punto de la circunferencia a otro, pasando por el centro).\n",
    "* La línea verde es el *radio* (línea que va del dentro hasta un punto de la circunferencia).\n",
    "* La línea azul es la *cuerda* (línea que va de un punto de la circunferencia a otro sin pasar por el centro)."
   ]
  },
  {
   "cell_type": "markdown",
   "metadata": {},
   "source": [
    "<img src=\"circ2.png\" align=\"middle\" width=\"300\">"
   ]
  },
  {
   "cell_type": "markdown",
   "metadata": {},
   "source": [
    "* La línea roja representa un *arco*.\n",
    "* La sección de color verde se conoce como *sector circular*.\n",
    "* La sección de color azul se conoce como *segmento circular*."
   ]
  },
  {
   "cell_type": "markdown",
   "metadata": {},
   "source": [
    "**¿Qué es $\\pi$?**\n",
    "\n",
    "$\\pi$ es la proporción entre circunferencia y el diámetro, o sea, las veces que cabe el diámetro en la circunferencia de un círculo:\n",
    "\n",
    "$$ \\pi=\\dfrac{\\text{circunferencia}}{\\text{diámetro}} $$"
   ]
  },
  {
   "cell_type": "code",
   "execution_count": 2,
   "metadata": {},
   "outputs": [
    {
     "data": {
      "text/plain": [
       "π = 3.1415926535897..."
      ]
     },
     "execution_count": 2,
     "metadata": {},
     "output_type": "execute_result"
    }
   ],
   "source": [
    "π"
   ]
  },
  {
   "cell_type": "markdown",
   "metadata": {},
   "source": [
    "A diferencia de valores como $\\dfrac{1}{3}$ y $\\dfrac{1}{7}$:"
   ]
  },
  {
   "cell_type": "code",
   "execution_count": 3,
   "metadata": {},
   "outputs": [
    {
     "data": {
      "text/plain": [
       "0.3333333333333333"
      ]
     },
     "execution_count": 3,
     "metadata": {},
     "output_type": "execute_result"
    }
   ],
   "source": [
    "1/3"
   ]
  },
  {
   "cell_type": "code",
   "execution_count": 16,
   "metadata": {},
   "outputs": [
    {
     "data": {
      "text/plain": [
       "0.14285714285714285"
      ]
     },
     "execution_count": 16,
     "metadata": {},
     "output_type": "execute_result"
    }
   ],
   "source": [
    "1/7"
   ]
  },
  {
   "cell_type": "markdown",
   "metadata": {},
   "source": [
    "las decimales de $\\pi$ nunca se repiten."
   ]
  },
  {
   "cell_type": "markdown",
   "metadata": {},
   "source": [
    "### Perímetro"
   ]
  },
  {
   "cell_type": "markdown",
   "metadata": {},
   "source": [
    "* $D$ : diámetro\n",
    "* $R$ : radio\n",
    "* $C$ : circunferencia"
   ]
  },
  {
   "cell_type": "markdown",
   "metadata": {},
   "source": [
    "$$ C=\\pi D $$"
   ]
  },
  {
   "cell_type": "markdown",
   "metadata": {},
   "source": [
    "El diámetro es el doble del radio:"
   ]
  },
  {
   "cell_type": "markdown",
   "metadata": {},
   "source": [
    "$$ D=2R $$"
   ]
  },
  {
   "cell_type": "markdown",
   "metadata": {},
   "source": [
    "Entonces:"
   ]
  },
  {
   "cell_type": "markdown",
   "metadata": {},
   "source": [
    "$$ C=2\\pi R $$"
   ]
  },
  {
   "cell_type": "markdown",
   "metadata": {},
   "source": [
    "La mitad de una circunferencia es\n",
    "\n",
    "$$ \\dfrac{\\pi D}{2}=\\dfrac{\\pi (2R)}{2}=\\pi R $$"
   ]
  },
  {
   "cell_type": "markdown",
   "metadata": {},
   "source": [
    "### Perímetro arco"
   ]
  },
  {
   "cell_type": "markdown",
   "metadata": {},
   "source": [
    "<img src=\"circ2.png\" align=\"middle\" width=\"300\">"
   ]
  },
  {
   "cell_type": "markdown",
   "metadata": {},
   "source": [
    "**¿Cómo hacemos para obtener la longitud de cualquier arco?**"
   ]
  },
  {
   "cell_type": "markdown",
   "metadata": {},
   "source": [
    "$$ s=\\theta R $$"
   ]
  },
  {
   "cell_type": "markdown",
   "metadata": {},
   "source": [
    "* $s$ : longitud de arco\n",
    "* $\\theta$ : ángulo (medido en radianes)"
   ]
  },
  {
   "cell_type": "markdown",
   "metadata": {},
   "source": [
    "Para esto diremos que $1$ vuelta es $360^\\circ$ y es lo mismo que $2\\pi\\ \\rm{rad}$."
   ]
  },
  {
   "cell_type": "markdown",
   "metadata": {},
   "source": [
    "Notemos que:"
   ]
  },
  {
   "cell_type": "markdown",
   "metadata": {},
   "source": [
    "$$ 2\\pi\\ \\rm{rad}=360^\\circ $$"
   ]
  },
  {
   "cell_type": "markdown",
   "metadata": {},
   "source": [
    "$$ \\pi\\ \\rm{rad}=180^\\circ $$"
   ]
  },
  {
   "cell_type": "markdown",
   "metadata": {},
   "source": [
    "$$ \\dfrac{\\pi}{2}\\ \\rm{rad}=90^\\circ $$"
   ]
  },
  {
   "cell_type": "markdown",
   "metadata": {},
   "source": [
    "$$ \\dfrac{\\pi}{3}\\ \\rm{rad}=60^\\circ $$"
   ]
  },
  {
   "cell_type": "markdown",
   "metadata": {},
   "source": [
    "$$ \\dfrac{\\pi}{4}\\ \\rm{rad}=45^\\circ $$"
   ]
  },
  {
   "cell_type": "markdown",
   "metadata": {},
   "source": [
    "$$ \\dfrac{\\pi}{6}\\ \\rm{rad}=30^\\circ $$"
   ]
  },
  {
   "cell_type": "markdown",
   "metadata": {},
   "source": [
    "### Conversión de unidades"
   ]
  },
  {
   "cell_type": "markdown",
   "metadata": {},
   "source": [
    "* ***Ejemplo:*** $72\\,{}^\\circ$ a $\\rm{rad}$"
   ]
  },
  {
   "cell_type": "markdown",
   "metadata": {},
   "source": [
    "$$ 72\\,{}^\\circ=72\\,{}^\\circ\\left(\\dfrac{\\pi\\ \\rm{rad}}{180^\\circ}\\right)=\\dfrac{72}{180}\\pi\\ \\rm{rad}=\\dfrac{36}{90}\\pi\\ \\rm{rad}=\\dfrac{18}{45}\\pi\\ \\rm{rad}=\\dfrac{2}{5}\\pi\\ \\rm{rad} $$"
   ]
  },
  {
   "cell_type": "code",
   "execution_count": 5,
   "metadata": {},
   "outputs": [
    {
     "data": {
      "text/plain": [
       "1.2566370614359172"
      ]
     },
     "execution_count": 5,
     "metadata": {},
     "output_type": "execute_result"
    }
   ],
   "source": [
    "2*π/5"
   ]
  },
  {
   "cell_type": "code",
   "execution_count": 6,
   "metadata": {},
   "outputs": [
    {
     "data": {
      "text/plain": [
       "1.25664"
      ]
     },
     "execution_count": 6,
     "metadata": {},
     "output_type": "execute_result"
    }
   ],
   "source": [
    "2*(3.1416)/5"
   ]
  },
  {
   "cell_type": "markdown",
   "metadata": {},
   "source": [
    "$$ 72\\,{}^\\circ=1.256637...\\ \\rm{rad} $$"
   ]
  },
  {
   "cell_type": "markdown",
   "metadata": {},
   "source": [
    "* ***Ejemplo:*** $144\\,{}^\\circ$ a $\\rm{rad}$"
   ]
  },
  {
   "cell_type": "markdown",
   "metadata": {},
   "source": [
    "$144^\\circ$ es el doble de $77^\\circ$.\n",
    "\n",
    "Entonces, la conversión será el doble de $\\dfrac{2}{5}\\pi\\ \\rm{rad}$"
   ]
  },
  {
   "cell_type": "markdown",
   "metadata": {},
   "source": [
    "$$ 144\\,{}^\\circ=\\dfrac{4}{5}\\pi\\ \\rm{rad} $$"
   ]
  },
  {
   "cell_type": "markdown",
   "metadata": {},
   "source": [
    "* ***Ejemplo:*** $\\dfrac{37}{7}\\pi\\ {\\rm{rad}}$ a ${}^\\circ$"
   ]
  },
  {
   "cell_type": "markdown",
   "metadata": {},
   "source": [
    "$$ \\dfrac{37}{7}\\pi\\ {\\rm{rad}}=\\dfrac{37}{7}\\pi\\ {\\rm{rad}}\\left(\\dfrac{180^\\circ}{\\pi\\ \\rm{rad}}\\right)=\\dfrac{37\\cdot180}{7}^\\circ=951.42^\\circ $$"
   ]
  },
  {
   "cell_type": "code",
   "execution_count": 18,
   "metadata": {},
   "outputs": [
    {
     "data": {
      "text/plain": [
       "951.4285714285714"
      ]
     },
     "execution_count": 18,
     "metadata": {},
     "output_type": "execute_result"
    }
   ],
   "source": [
    "37*180/7"
   ]
  },
  {
   "cell_type": "markdown",
   "metadata": {},
   "source": [
    "Si lo hacemos primero multiplicando $\\dfrac{37\\pi}{7}$"
   ]
  },
  {
   "cell_type": "code",
   "execution_count": 11,
   "metadata": {},
   "outputs": [
    {
     "data": {
      "text/plain": [
       "16.60556116897462"
      ]
     },
     "execution_count": 11,
     "metadata": {},
     "output_type": "execute_result"
    }
   ],
   "source": [
    "a = 37*π/7"
   ]
  },
  {
   "cell_type": "markdown",
   "metadata": {},
   "source": [
    "$$ \\dfrac{37}{7}\\pi\\ {\\rm{rad}}=16.6055...\\ {\\rm{rad}} $$"
   ]
  },
  {
   "cell_type": "markdown",
   "metadata": {},
   "source": [
    "obtenemos lo mismo:"
   ]
  },
  {
   "cell_type": "code",
   "execution_count": 12,
   "metadata": {},
   "outputs": [
    {
     "data": {
      "text/plain": [
       "951.4285714285714"
      ]
     },
     "execution_count": 12,
     "metadata": {},
     "output_type": "execute_result"
    }
   ],
   "source": [
    "a*180/π"
   ]
  },
  {
   "cell_type": "markdown",
   "metadata": {},
   "source": [
    "### Perímetro arco"
   ]
  },
  {
   "cell_type": "markdown",
   "metadata": {},
   "source": [
    "* ***Ejemplo:*** Calcular el perímetro de un sector circular de radio $2\\ \\rm{cm}$ y ángulo de $30\\,{}^\\circ$."
   ]
  },
  {
   "cell_type": "markdown",
   "metadata": {},
   "source": [
    "<img src=\"seg_circular1.png\" align=\"middle\" width=\"200\">"
   ]
  },
  {
   "cell_type": "markdown",
   "metadata": {},
   "source": [
    "**Calcular el perímetro es preguntarnos cuánto mide un estambre que cubra el entorno del segmento (la línea de color azul rey).**"
   ]
  },
  {
   "cell_type": "markdown",
   "metadata": {},
   "source": [
    "Primero tenemos que convertir $30^\\circ$ a $\\rm{rad}$:"
   ]
  },
  {
   "cell_type": "markdown",
   "metadata": {},
   "source": [
    "$$ 30^\\circ=\\dfrac{30^\\circ\\cdot 2\\pi\\ \\rm{rad}}{360^\\circ}=\\dfrac{30\\cdot 2}{360}\\pi\\ \\rm{rad}=\\dfrac{6}{36}\\pi\\ \\rm{rad}=\\dfrac{\\pi}{6}\\ \\rm{rad}$$"
   ]
  },
  {
   "cell_type": "markdown",
   "metadata": {},
   "source": [
    "La longitud del arco es:"
   ]
  },
  {
   "cell_type": "markdown",
   "metadata": {},
   "source": [
    "$$ s=\\theta R=\\left(\\dfrac{\\pi}{6}\\ \\rm{rad}\\right)(2)\\ \\rm{cm} $$"
   ]
  },
  {
   "cell_type": "markdown",
   "metadata": {},
   "source": [
    "$$ =\\dfrac{\\pi}{3}\\ \\rm{cm}=1.0471...\\ \\rm{cm}$$"
   ]
  },
  {
   "cell_type": "code",
   "execution_count": 19,
   "metadata": {},
   "outputs": [
    {
     "data": {
      "text/plain": [
       "1.0471975511965976"
      ]
     },
     "execution_count": 19,
     "metadata": {},
     "output_type": "execute_result"
    }
   ],
   "source": [
    "π/3"
   ]
  },
  {
   "cell_type": "markdown",
   "metadata": {},
   "source": [
    "Veamos que el arco tienen $2$ radios a los lados por lo que el perímetro simplemente es"
   ]
  },
  {
   "cell_type": "code",
   "execution_count": 20,
   "metadata": {},
   "outputs": [
    {
     "data": {
      "text/plain": [
       "5.047197551196597"
      ]
     },
     "execution_count": 20,
     "metadata": {},
     "output_type": "execute_result"
    }
   ],
   "source": [
    "π/3+2+2"
   ]
  },
  {
   "cell_type": "markdown",
   "metadata": {},
   "source": [
    "$$ P=5.0471...\\ \\rm{cm}$$"
   ]
  },
  {
   "cell_type": "markdown",
   "metadata": {},
   "source": [
    "$P$ : perímetro"
   ]
  },
  {
   "cell_type": "markdown",
   "metadata": {},
   "source": [
    "### Área"
   ]
  },
  {
   "cell_type": "markdown",
   "metadata": {},
   "source": [
    "El área de un círculo es\n",
    "\n",
    "$$ A=\\pi R^2 $$"
   ]
  },
  {
   "cell_type": "markdown",
   "metadata": {},
   "source": [
    "### Sectores circulares"
   ]
  },
  {
   "cell_type": "markdown",
   "metadata": {},
   "source": [
    "El perímetro del segmente circular se mide como\n",
    "$$ P=s+2R=R\\theta+2R=R(\\theta+2) $$"
   ]
  },
  {
   "cell_type": "markdown",
   "metadata": {},
   "source": [
    "El área de un sector circular es\n",
    "\n",
    "$$ A= \\dfrac{\\theta R^2}{2} $$"
   ]
  },
  {
   "cell_type": "markdown",
   "metadata": {},
   "source": [
    "**Nota importante:** Aquí el ángulo se mide en radianes."
   ]
  },
  {
   "cell_type": "markdown",
   "metadata": {},
   "source": [
    "* ***Ejemplo:*** Calcular el área de un sector circular de radio $2\\ \\rm{cm}$ y ángulo de $30\\,{}^\\circ$."
   ]
  },
  {
   "cell_type": "markdown",
   "metadata": {},
   "source": [
    "<img src=\"seg_circular1.png\" align=\"middle\" width=\"200\">"
   ]
  },
  {
   "cell_type": "markdown",
   "metadata": {},
   "source": [
    "$$ \\theta=30^\\circ=\\dfrac{\\pi}{6}\\ \\rm{rad}$$"
   ]
  },
  {
   "cell_type": "markdown",
   "metadata": {},
   "source": [
    "El área de un sector circular es\n",
    "\n",
    "$$ A= \\dfrac{\\theta R^2}{2}= \\dfrac{\\dfrac{\\pi}{6} (2\\ \\rm{cm})^2}{2}=\\dfrac{\\dfrac{\\pi}{6} 4\\ \\rm{cm}^2}{2}\\ \\rm{cm}^2=\\dfrac{\\pi}{6}\\cdot2\\ \\rm{cm}^2=\\dfrac{2\\pi}{6}\\ \\rm{cm}^2=\\dfrac{\\pi}{3}\\ \\rm{cm}^2 $$"
   ]
  },
  {
   "cell_type": "markdown",
   "metadata": {},
   "source": [
    "El área de un segmento circular se mide como\n",
    "$$ A=\\dfrac{R^2}{2}\\theta $$"
   ]
  },
  {
   "cell_type": "markdown",
   "metadata": {},
   "source": [
    "* ***Ejemplo:*** Calcular el área y perímetro de un sector circular de radio 5 y ángulo de $\\dfrac{3}{4}\\pi\\ \\rm{rad}$."
   ]
  },
  {
   "cell_type": "markdown",
   "metadata": {},
   "source": [
    "## Puntos, rectas y segmentos en dos dimensiones"
   ]
  },
  {
   "cell_type": "markdown",
   "metadata": {},
   "source": [
    "Cuando se tiene dos rectas que nunca se cruzan decimos que estas son *paralelas*."
   ]
  },
  {
   "cell_type": "markdown",
   "metadata": {},
   "source": [
    "<img src=\"paralelas.png\" align=\"middle\" width=\"500\">"
   ]
  },
  {
   "cell_type": "markdown",
   "metadata": {},
   "source": [
    "Si dos rectas **NO** son paralelas, en algún punto se tienen que intersectar."
   ]
  },
  {
   "cell_type": "markdown",
   "metadata": {},
   "source": [
    "### Teorema de Tales"
   ]
  },
  {
   "cell_type": "markdown",
   "metadata": {},
   "source": [
    "<img src=\"tales.png\" align=\"middle\" width=\"300\">"
   ]
  },
  {
   "cell_type": "markdown",
   "metadata": {},
   "source": [
    "*Si tenemos tres rectas paralelas y estas cortan a dos rectas que no son paralelas se producen segmentos proporcionales:*\n",
    "\n",
    "$$ \\dfrac{\\overline{AB}}{\\overline{AC}}=\\dfrac{\\overline{DE}}{\\overline{DF}} $$"
   ]
  },
  {
   "cell_type": "markdown",
   "metadata": {},
   "source": [
    "También se cumple que\n",
    "\n",
    "$$ \\dfrac{\\overline{AB}}{\\overline{BC}}=\\dfrac{\\overline{DE}}{\\overline{EF}} $$"
   ]
  },
  {
   "cell_type": "markdown",
   "metadata": {},
   "source": [
    "### Semejanza\n",
    "\n",
    "Dos cosas semejantes si son de la misma forma aunque tengan distinto tamaño."
   ]
  },
  {
   "cell_type": "markdown",
   "metadata": {},
   "source": [
    "### Triángulos semejantes"
   ]
  },
  {
   "cell_type": "markdown",
   "metadata": {},
   "source": [
    "Dos triángulos son semejantes si tienen la misma forma pero distinto tamaño. Dicho de otra forma, dos triángulos son semejantes si los triángulos tienen los mismo ángulos y los lados son proporcionales. La manera en que nos aseguramos que sean semejantes es:\n",
    "* si tienen todos sus ángulos iguales entre sí\n",
    "* si tienen dos ángulos iguales entre sí\n",
    "* si tienen un ángulo igual entre sí y sus dos de sus lados son proporcionales con los lados correspondientes del otro triángulo\n",
    "* si todos sus lados son proporcionales entre sí"
   ]
  },
  {
   "cell_type": "markdown",
   "metadata": {},
   "source": [
    "***Ejemplo:*** Pensemos que los triángulos semejantes son: "
   ]
  },
  {
   "cell_type": "markdown",
   "metadata": {},
   "source": [
    "<img src=\"semejanza1.png\" align=\"middle\" width=\"500\">"
   ]
  },
  {
   "cell_type": "markdown",
   "metadata": {},
   "source": [
    "Para los lados correspondientes entre sí escribimos:"
   ]
  },
  {
   "cell_type": "markdown",
   "metadata": {},
   "source": [
    "$$ \\dfrac{x+1}{4}=\\dfrac{8}{y-1}=\\dfrac{12}{6}  $$"
   ]
  },
  {
   "cell_type": "markdown",
   "metadata": {},
   "source": [
    "**Primera ec.:**"
   ]
  },
  {
   "cell_type": "markdown",
   "metadata": {},
   "source": [
    "$$ \\dfrac{x+1}{4}=\\dfrac{12}{6}  $$"
   ]
  },
  {
   "cell_type": "markdown",
   "metadata": {},
   "source": [
    "$$ \\dfrac{x+1}{4}=2  $$"
   ]
  },
  {
   "cell_type": "markdown",
   "metadata": {},
   "source": [
    "$$ x+1=2\\cdot4  $$"
   ]
  },
  {
   "cell_type": "markdown",
   "metadata": {},
   "source": [
    "$$ x+1=8  $$"
   ]
  },
  {
   "cell_type": "markdown",
   "metadata": {},
   "source": [
    "$$ x=7  $$"
   ]
  },
  {
   "cell_type": "markdown",
   "metadata": {},
   "source": [
    "**Segunda ec.:**"
   ]
  },
  {
   "cell_type": "markdown",
   "metadata": {},
   "source": [
    "$$ \\dfrac{8}{y-1}=\\dfrac{12}{6}  $$"
   ]
  },
  {
   "cell_type": "markdown",
   "metadata": {},
   "source": [
    "$$ \\dfrac{8}{y-1}=2  $$"
   ]
  },
  {
   "cell_type": "markdown",
   "metadata": {},
   "source": [
    "$$ 8=2(y-1)  $$"
   ]
  },
  {
   "cell_type": "markdown",
   "metadata": {},
   "source": [
    "$$ \\dfrac{8}{2}=y-1  $$"
   ]
  },
  {
   "cell_type": "markdown",
   "metadata": {},
   "source": [
    "$$ 4=y-1  $$"
   ]
  },
  {
   "cell_type": "markdown",
   "metadata": {},
   "source": [
    "$$ y=4+1  $$"
   ]
  },
  {
   "cell_type": "markdown",
   "metadata": {},
   "source": [
    "$$ y=5  $$"
   ]
  },
  {
   "cell_type": "markdown",
   "metadata": {},
   "source": [
    "<img src=\"semejanza1.png\" align=\"middle\" width=\"500\">"
   ]
  },
  {
   "cell_type": "markdown",
   "metadata": {},
   "source": [
    "$$ \\dfrac{x+1}{4}=\\dfrac{8}{4}=2  $$"
   ]
  },
  {
   "cell_type": "markdown",
   "metadata": {},
   "source": [
    "$$ \\dfrac{8}{y-1}=\\dfrac{8}{4}=2  $$"
   ]
  },
  {
   "cell_type": "markdown",
   "metadata": {},
   "source": [
    "$$ \\dfrac{12}{6}=2  $$"
   ]
  },
  {
   "cell_type": "markdown",
   "metadata": {},
   "source": [
    "Entonces **sí** tienen la misma proporción."
   ]
  },
  {
   "cell_type": "markdown",
   "metadata": {},
   "source": [
    "***Ejemplo:*** El gato de Leticia subió a la parte superior de un poste. Leticia puede ver a su gato reflejado en un charco, que se encuentra a $1.6\\ \\rm{m}$ de ella. Si la altura de sus ojos es de $1.44\\ \\rm{m}$ y el poste se encuentra a $5.6\\ \\rm{m}$ de ella, ¿qué tan alto es el poste?"
   ]
  }
 ],
 "metadata": {
  "kernelspec": {
   "display_name": "Julia 1.1.0",
   "language": "julia",
   "name": "julia-1.1"
  },
  "language_info": {
   "file_extension": ".jl",
   "mimetype": "application/julia",
   "name": "julia",
   "version": "1.1.0"
  }
 },
 "nbformat": 4,
 "nbformat_minor": 4
}
