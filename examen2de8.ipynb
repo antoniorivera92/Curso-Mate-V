{
 "cells": [
  {
   "cell_type": "markdown",
   "metadata": {},
   "source": [
    "# Examen 2 de 8"
   ]
  },
  {
   "cell_type": "markdown",
   "metadata": {},
   "source": [
    "## Situación 1: Salud alimenticia en la ciudad de México"
   ]
  },
  {
   "cell_type": "markdown",
   "metadata": {},
   "source": [
    "**Se hizo un estudio de salud en la Ciudad de México. Para esto se entrevistaron a transeúntes sobre sus hábitos alimenticios durante una semana. El equipo de especialistas preguntó a las personas sobre el tipo de alimentos que consumieron, las porciones y si mantienen este tipo de dieta. Basado en esto, el equipo hizo una estimación de la cantidad de kilocalorías (kcal) que cada persona consume a la semana. Para tener mayor facilidad al momento de trabajar los datos se realizó la siguiente tabla:**"
   ]
  },
  {
   "cell_type": "markdown",
   "metadata": {},
   "source": [
    "| Clase | Intervalo de clase     | Marca de <br>clase, $m_i$ | Frecuencia<br>absoluta, $f_i$ |\n",
    "|:-----:|:----------------------:|:--------------------------:|:-----------------------------:|\n",
    "|   1   |     $[11.07,15.15)$    |            13.11           |               50              |\n",
    "|   2   |     $[15.15,19.23)$    |            17.19           |               40              |\n",
    "|   3   |     $[19.23,23.31)$    |            21.27           |               39              |\n",
    "|   4   |     $[23.31,27.39)$    |            25.35           |               42              |\n",
    "|   5   |     $[27.39,31.47)$    |            29.43           |               37              |\n",
    "|   6   |     $[31.47,35.55)$    |            $ $           |               50              |\n",
    "|   7   |     $[35.55,39.63)$    |            37.59           |               33              |\n",
    "|   8   |     $[39.63,43.71]$    |            41.67           |               38              |"
   ]
  },
  {
   "cell_type": "markdown",
   "metadata": {},
   "source": [
    "**1. ¿A cuántas personas de entrevistaron?**\n",
    "\n",
    "**(1 punto)**"
   ]
  },
  {
   "cell_type": "markdown",
   "metadata": {},
   "source": [
    "A. 1107\n",
    "\n",
    "B. 36\n",
    "\n",
    "C. 408\n",
    "\n",
    "D. 329"
   ]
  },
  {
   "cell_type": "markdown",
   "metadata": {},
   "source": [
    "Sumamos todas las frecuencias absolutas:"
   ]
  },
  {
   "cell_type": "code",
   "execution_count": 1,
   "metadata": {},
   "outputs": [
    {
     "data": {
      "text/plain": [
       "329"
      ]
     },
     "execution_count": 1,
     "metadata": {},
     "output_type": "execute_result"
    }
   ],
   "source": [
    "50+40+39+42+37+50+33+38"
   ]
  },
  {
   "cell_type": "markdown",
   "metadata": {},
   "source": [
    "A. 11.07\n",
    "\n",
    "B. 36\n",
    "\n",
    "C. 408\n",
    "\n",
    "D. 329"
   ]
  },
  {
   "cell_type": "markdown",
   "metadata": {},
   "source": [
    "**Solución:** D."
   ]
  },
  {
   "cell_type": "markdown",
   "metadata": {},
   "source": [
    "**2. ¿Cuál es el ancho de clase?**\n",
    "\n",
    "**(1 punto)**"
   ]
  },
  {
   "cell_type": "markdown",
   "metadata": {},
   "source": [
    "A. 11.07 kcal\n",
    "\n",
    "B. 36 kcal\n",
    "\n",
    "C. 4.08 kcal\n",
    "\n",
    "D. 329 kcal"
   ]
  },
  {
   "cell_type": "markdown",
   "metadata": {},
   "source": [
    "| Clase | Intervalo de clase     | Marca de <br>clase, $m_i$ | Frecuencia<br>absoluta, $f_i$ |\n",
    "|:-----:|:----------------------:|:--------------------------:|:-----------------------------:|\n",
    "|   1   |     $[11.07,15.15)$    |            13.11           |               50              |\n",
    "|   2   |     $[15.15,19.23)$    |            17.19           |               40              |\n",
    "|   3   |     $[19.23,23.31)$    |            21.27           |               39              |\n",
    "|   4   |     $[23.31,27.39)$    |            25.35           |               42              |\n",
    "|   5   |     $[27.39,31.47)$    |            29.43           |               37              |\n",
    "|   6   |     $[31.47,35.55)$    |            $ $           |               50              |\n",
    "|   7   |     $[35.55,39.63)$    |            37.59           |               33              |\n",
    "|   8   |     $[39.63,43.71]$    |            41.67           |               38              |"
   ]
  },
  {
   "cell_type": "markdown",
   "metadata": {},
   "source": [
    "$$ \\text{ancho de clase}=\\text{límite superior del intervalo}-\\text{límite inferior del intervalo} $$"
   ]
  },
  {
   "cell_type": "code",
   "execution_count": 2,
   "metadata": {},
   "outputs": [
    {
     "data": {
      "text/plain": [
       "4.08"
      ]
     },
     "execution_count": 2,
     "metadata": {},
     "output_type": "execute_result"
    }
   ],
   "source": [
    "15.15-11.07"
   ]
  },
  {
   "cell_type": "code",
   "execution_count": 3,
   "metadata": {},
   "outputs": [
    {
     "data": {
      "text/plain": [
       "4.08"
      ]
     },
     "execution_count": 3,
     "metadata": {},
     "output_type": "execute_result"
    }
   ],
   "source": [
    "19.23-15.15"
   ]
  },
  {
   "cell_type": "code",
   "execution_count": 4,
   "metadata": {},
   "outputs": [
    {
     "data": {
      "text/plain": [
       "4.079999999999998"
      ]
     },
     "execution_count": 4,
     "metadata": {},
     "output_type": "execute_result"
    }
   ],
   "source": [
    "23.31-19.23"
   ]
  },
  {
   "cell_type": "code",
   "execution_count": 5,
   "metadata": {},
   "outputs": [
    {
     "data": {
      "text/plain": [
       "4.080000000000002"
      ]
     },
     "execution_count": 5,
     "metadata": {},
     "output_type": "execute_result"
    }
   ],
   "source": [
    "27.39-23.31"
   ]
  },
  {
   "cell_type": "code",
   "execution_count": 6,
   "metadata": {},
   "outputs": [
    {
     "data": {
      "text/plain": [
       "4.079999999999998"
      ]
     },
     "execution_count": 6,
     "metadata": {},
     "output_type": "execute_result"
    }
   ],
   "source": [
    "31.47-27.39"
   ]
  },
  {
   "cell_type": "code",
   "execution_count": 7,
   "metadata": {},
   "outputs": [
    {
     "data": {
      "text/plain": [
       "4.079999999999998"
      ]
     },
     "execution_count": 7,
     "metadata": {},
     "output_type": "execute_result"
    }
   ],
   "source": [
    "35.55-31.47"
   ]
  },
  {
   "cell_type": "code",
   "execution_count": 8,
   "metadata": {},
   "outputs": [
    {
     "data": {
      "text/plain": [
       "4.080000000000005"
      ]
     },
     "execution_count": 8,
     "metadata": {},
     "output_type": "execute_result"
    }
   ],
   "source": [
    "39.63-35.55"
   ]
  },
  {
   "cell_type": "code",
   "execution_count": 9,
   "metadata": {},
   "outputs": [
    {
     "data": {
      "text/plain": [
       "4.079999999999998"
      ]
     },
     "execution_count": 9,
     "metadata": {},
     "output_type": "execute_result"
    }
   ],
   "source": [
    "43.71-39.63"
   ]
  },
  {
   "cell_type": "markdown",
   "metadata": {},
   "source": [
    "A. 11.07 kcal\n",
    "\n",
    "B. 36 kcal\n",
    "\n",
    "C. 4.08 kcal\n",
    "\n",
    "D. 329 kcal"
   ]
  },
  {
   "cell_type": "markdown",
   "metadata": {},
   "source": [
    "**Solución:** C."
   ]
  },
  {
   "cell_type": "markdown",
   "metadata": {},
   "source": [
    "**3. ¿Cuál es la marca de la sexta clase?**\n",
    "\n",
    "**(1 punto)**"
   ]
  },
  {
   "cell_type": "markdown",
   "metadata": {},
   "source": [
    "A. 2.04 kcal\n",
    "\n",
    "B. 26.91 kcal\n",
    "\n",
    "C. 33.51 kcal\n",
    "\n",
    "D. 4.08 kcal"
   ]
  },
  {
   "cell_type": "markdown",
   "metadata": {},
   "source": [
    "| Clase | Intervalo de clase     | Marca de <br>clase, $m_i$ | Frecuencia<br>absoluta, $f_i$ |\n",
    "|:-----:|:----------------------:|:--------------------------:|:-----------------------------:|\n",
    "|   1   |     $[11.07,15.15)$    |            13.11           |               50              |\n",
    "|   2   |     $[15.15,19.23)$    |            17.19           |               40              |\n",
    "|   3   |     $[19.23,23.31)$    |            21.27           |               39              |\n",
    "|   4   |     $[23.31,27.39)$    |            25.35           |               42              |\n",
    "|   5   |     $[27.39,31.47)$    |            29.43           |               37              |\n",
    "|   6   |     $[31.47,35.55)$    |            $ $           |               50              |\n",
    "|   7   |     $[35.55,39.63)$    |            37.59           |               33              |\n",
    "|   8   |     $[39.63,43.71]$    |            41.67           |               38              |"
   ]
  },
  {
   "cell_type": "markdown",
   "metadata": {},
   "source": [
    "$$ \\text{marca de clase}=\\dfrac{\\text{límite superior}+\\text{límite inferior}}{2} $$"
   ]
  },
  {
   "cell_type": "code",
   "execution_count": 10,
   "metadata": {},
   "outputs": [
    {
     "data": {
      "text/plain": [
       "33.51"
      ]
     },
     "execution_count": 10,
     "metadata": {},
     "output_type": "execute_result"
    }
   ],
   "source": [
    "(35.55+31.47)/2"
   ]
  },
  {
   "cell_type": "markdown",
   "metadata": {},
   "source": [
    "A. 2.04 kcal\n",
    "\n",
    "B. 26.91 kcal\n",
    "\n",
    "C. 33.51 kcal\n",
    "\n",
    "D. 4.08 kcal"
   ]
  },
  {
   "cell_type": "markdown",
   "metadata": {},
   "source": [
    "**Solución:** C."
   ]
  },
  {
   "cell_type": "markdown",
   "metadata": {},
   "source": [
    "**4. ¿Cuál es la desviación estándar de los datos?**\n",
    "\n",
    "**(3 puntos)**"
   ]
  },
  {
   "cell_type": "markdown",
   "metadata": {},
   "source": [
    "A. 26.82 kcal\n",
    "\n",
    "B. 26.91 kcal\n",
    "\n",
    "C. 9.39 kcal\n",
    "\n",
    "D. 9.42 kcal"
   ]
  },
  {
   "cell_type": "markdown",
   "metadata": {},
   "source": [
    "| Clase | Intervalo de clase | $m_i$ | $f_i$ | $m_i\\cdot f_i$ | $(m_i-\\bar{x})$ | $(m_i-\\bar{x})^2$ | $(m_i-\\bar{x})^2\\cdot f_i$ |\n",
    "|-------|--------------------|-------|-------|----------------|-----------------|-------------------|----------------------------|\n",
    "| 1     | $[11.07,15.15)$    | 13.11 | 50    |655.50|-13.71|187.96|9398.00|\n",
    "| 2     | $[15.15,19.23)$    | 17.19 | 40    |687.60|-9.63|92.74|3709.60|\n",
    "| 3     | $[19.23,23.31)$    | 21.27 | 39    |829.53|-5.55|30.80|1201.20|\n",
    "| 4     | $[23.31,27.39)$    | 25.35 | 42    |1064.70|-1.47|2.16|90.72|\n",
    "| 5     | $[27.39,31.47)$    | 29.43 | 37    |1088.91|2.61|6.81|251.87|\n",
    "| 6     | $[31.47,35.55)$    | 33.51 | 50    |1675.50|6.69|44.76|2238.00|\n",
    "| 7     | $[35.55,39.63)$    | 37.59 | 33    |1240.47|10.77|115.99|3827.67|\n",
    "| 8     | $[39.63,43.71]$    | 41.67 | 38    |1583.46|14.85|220.53|8379.76|"
   ]
  },
  {
   "cell_type": "markdown",
   "metadata": {},
   "source": [
    "La suma de la columna \n",
    "$$m_i\\cdot f_i$$\n",
    "es 8825.67"
   ]
  },
  {
   "cell_type": "markdown",
   "metadata": {},
   "source": [
    "Entonces el promedio es"
   ]
  },
  {
   "cell_type": "markdown",
   "metadata": {},
   "source": [
    "$$ \\bar{x}=\\dfrac{\\sum_{i=1}^k m_i\\cdot f_i}{n}=\\dfrac{8825.67}{329}=26.8257 $$"
   ]
  },
  {
   "cell_type": "code",
   "execution_count": 11,
   "metadata": {},
   "outputs": [
    {
     "data": {
      "text/plain": [
       "26.825744680851063"
      ]
     },
     "execution_count": 11,
     "metadata": {},
     "output_type": "execute_result"
    }
   ],
   "source": [
    "8825.67/329"
   ]
  },
  {
   "cell_type": "markdown",
   "metadata": {},
   "source": [
    "La suma de la columna \n",
    "$$(m_i-\\bar{x})^2\\cdot f_i$$\n",
    "es 29096.92"
   ]
  },
  {
   "cell_type": "markdown",
   "metadata": {},
   "source": [
    "Entonces la desviación estándar muestral es"
   ]
  },
  {
   "cell_type": "markdown",
   "metadata": {},
   "source": [
    "$$ s=\\sqrt{\\dfrac{\\sum_{i=1}^k (m_i-\\bar{x})^2\\cdot f_i}{n-1}}=\\sqrt{\\dfrac{29096.92}{329-1}}=9.4186 $$"
   ]
  },
  {
   "cell_type": "code",
   "execution_count": 12,
   "metadata": {},
   "outputs": [
    {
     "data": {
      "text/plain": [
       "9.418605095831309"
      ]
     },
     "execution_count": 12,
     "metadata": {},
     "output_type": "execute_result"
    }
   ],
   "source": [
    "sqrt(29096.92/328)"
   ]
  },
  {
   "cell_type": "markdown",
   "metadata": {},
   "source": [
    "A. 26.82 kcal\n",
    "\n",
    "B. 26.91 kcal\n",
    "\n",
    "C. 9.39 kcal\n",
    "\n",
    "D. 9.42 kcal"
   ]
  },
  {
   "cell_type": "markdown",
   "metadata": {},
   "source": [
    "**Solución:** D."
   ]
  },
  {
   "cell_type": "markdown",
   "metadata": {},
   "source": [
    "**5. Completa correctamente una conclusión del estudio: \"En un estudio de salud alimenticia en la Ciudad de México se encontró que...\"**\n",
    "\n",
    "**(2 puntos)**"
   ]
  },
  {
   "cell_type": "markdown",
   "metadata": {},
   "source": [
    "A. \"... aproximadamente el $52\\%$ de la población consume menos de 27.39 kcal a la semana.\"\n",
    "\n",
    "B. \"..., en promedio, la ingesta semanal es de 43.71 kcal.\"\n",
    "\n",
    "C. \"... la variación en los datos recabados es menor al $10\\%$.\"\n",
    "\n",
    "D. \"... la máxima ingesta semanal es 11.07 kcal.\""
   ]
  },
  {
   "cell_type": "markdown",
   "metadata": {},
   "source": [
    "Revisemos inciso por inciso:"
   ]
  },
  {
   "cell_type": "markdown",
   "metadata": {},
   "source": [
    "* **A. \"... aproximadamente el $52\\%$ de la muestra consume menos de 27.39 kcal a la semana.\"**"
   ]
  },
  {
   "cell_type": "markdown",
   "metadata": {},
   "source": [
    "Para este inciso conviene agregar el resto de las frecuencias a la tabla"
   ]
  },
  {
   "cell_type": "markdown",
   "metadata": {},
   "source": [
    "| Clase | Intervalo de clase | $m_i$ | $f_i$ | $p_i$ | $F_i$ | $P_i$ |\n",
    "|-------|--------------------|-------|-------|-------|-------|-------|\n",
    "| 1     | $[11.07,15.15)$    | 13.11 | 50    | 0.152      | 50    | 0.152      |\n",
    "| 2     | $[15.15,19.23)$    | 17.19 | 40    | 0.122      | 90    | 0.274      |\n",
    "| 3     | $[19.23,23.31)$    | 21.27 | 39    | 0.119      | 129   | 0.392      |\n",
    "| 4     | $[23.31,27.39)$    | 25.35 | 42    | 0.128      | 171   | 0.520      |\n",
    "| 5     | $[27.39,31.47)$    | 29.43 | 37    | 0.112      | 208   | 0.632      |\n",
    "| 6     | $[31.47,35.55)$    | 33.51 | 50    | 0.152      | 258   | 0.784      |\n",
    "| 7     | $[35.55,39.63)$    | 37.59 | 33    | 0.100      | 291   | 0.884      |\n",
    "| 8     | $[39.63,43.71]$    | 41.67 | 38    | 0.116      | 329   | 1.000      |"
   ]
  },
  {
   "cell_type": "markdown",
   "metadata": {},
   "source": [
    "De aquí es claro que, hasta la cuarta clase representa un $52\\%$ de las personas entrevistadas. Por lo tanto, esta conclusión es la correcta."
   ]
  },
  {
   "cell_type": "markdown",
   "metadata": {},
   "source": [
    "* **B. \"..., en promedio, la ingesta semanal es de 43.71 kcal.\"**"
   ]
  },
  {
   "cell_type": "markdown",
   "metadata": {},
   "source": [
    "El promedio debió calcularse para el problema anterior. Su valor es 26.82 kcal por lo que esta opción es incorrecta."
   ]
  },
  {
   "cell_type": "markdown",
   "metadata": {},
   "source": [
    "* **C. \"... la variación en los datos recabados es menor al $10\\%$.\"**"
   ]
  },
  {
   "cell_type": "markdown",
   "metadata": {},
   "source": [
    "Esto es equivalente a calcular el coeficiente de variación."
   ]
  },
  {
   "cell_type": "markdown",
   "metadata": {},
   "source": [
    "$$ \\text{C.V.}=\\dfrac{s}{\\bar{x}}\\cdot100=\\dfrac{9.42}{26.82}\\cdot100=35.1\\% $$"
   ]
  },
  {
   "cell_type": "code",
   "execution_count": 53,
   "metadata": {},
   "outputs": [
    {
     "data": {
      "text/plain": [
       "35.123042505592835"
      ]
     },
     "execution_count": 53,
     "metadata": {},
     "output_type": "execute_result"
    }
   ],
   "source": [
    "9.42/26.82*100"
   ]
  },
  {
   "cell_type": "markdown",
   "metadata": {},
   "source": [
    "La variación entre los datos es mucho mayor al $10\\%$ por lo que esta opción es incorrecta."
   ]
  },
  {
   "cell_type": "markdown",
   "metadata": {},
   "source": [
    "* **\"... la máxima ingesta semanal es 11.07 kcal.\"**"
   ]
  },
  {
   "cell_type": "markdown",
   "metadata": {},
   "source": [
    "De la tabla original podemos ver que la mínima ingesta semanal es de 11.07 kcal (límite inferior de la clase 1) mientras que la máxima ingesta semanal es de 43.71 kcal (límite superior de la clase 8). Por lo tanto, esta opción es incorrecta."
   ]
  },
  {
   "cell_type": "markdown",
   "metadata": {},
   "source": [
    "| Clase | Intervalo de clase     | Marca de <br>clase, $m_i$ | Frecuencia<br>absoluta, $f_i$ |\n",
    "|:-----:|:----------------------:|:--------------------------:|:-----------------------------:|\n",
    "|   1   |     $[11.07,15.15)$    |            13.11           |               50              |\n",
    "|   2   |     $[15.15,19.23)$    |            17.19           |               40              |\n",
    "|   3   |     $[19.23,23.31)$    |            21.27           |               39              |\n",
    "|   4   |     $[23.31,27.39)$    |            25.35           |               42              |\n",
    "|   5   |     $[27.39,31.47)$    |            29.43           |               37              |\n",
    "|   6   |     $[31.47,35.55)$    |            $ $           |               50              |\n",
    "|   7   |     $[35.55,39.63)$    |            37.59           |               33              |\n",
    "|   8   |     $[39.63,43.71]$    |            41.67           |               38              |"
   ]
  },
  {
   "cell_type": "markdown",
   "metadata": {},
   "source": [
    "A. \"... aproximadamente el $52\\%$ de la muestra consume menos de 27.39 kcal a la semana.\"\n",
    "\n",
    "B. \"..., en promedio, la ingesta semanal es de 43.71 kcal.\"\n",
    "\n",
    "C. \"... la variación en los datos recabados es menor al $10\\%$.\"\n",
    "\n",
    "D. \"... la máxima ingesta semanal es 11.07 kcal.\""
   ]
  },
  {
   "cell_type": "markdown",
   "metadata": {},
   "source": [
    "**Solución:** A."
   ]
  },
  {
   "cell_type": "markdown",
   "metadata": {},
   "source": [
    "## Situación 2: Área de un trapecio"
   ]
  },
  {
   "cell_type": "markdown",
   "metadata": {},
   "source": [
    "**Dentro de un semicírculo de 5 cm de radio se encuentra inscrito un trapecio con base menor $x$, base mayor $y$, y altura $h$. Pensemos que la base mayor siempre es el doble de la base menor.**"
   ]
  },
  {
   "cell_type": "markdown",
   "metadata": {},
   "source": [
    "<img src=\"trapecio_x.png\" align=\"middle\" width=\"500\">"
   ]
  },
  {
   "cell_type": "markdown",
   "metadata": {},
   "source": [
    "**6. Selecciona la opción que describe la altura, $h$, del trapecio como función de su base menor, $x$.**\n",
    "\n",
    "**(2 puntos)**"
   ]
  },
  {
   "cell_type": "markdown",
   "metadata": {},
   "source": [
    "A. $ h(x)=\\dfrac{\\sqrt{100+x^2}+\\sqrt{100+4x^2}}{2} $\n",
    "\n",
    "B. $ h(x)=\\dfrac{\\sqrt{100+x^2}-\\sqrt{100+4x^2}}{2} $\n",
    "\n",
    "C. $ h(x)=\\dfrac{\\sqrt{100-x^2}+\\sqrt{100-4x^2}}{2} $\n",
    "\n",
    "D. $ h(x)=\\dfrac{\\sqrt{100-x^2}-\\sqrt{100-4x^2}}{2} $"
   ]
  },
  {
   "cell_type": "markdown",
   "metadata": {},
   "source": [
    "**1ra manera:**"
   ]
  },
  {
   "cell_type": "markdown",
   "metadata": {},
   "source": [
    "Algo que debería ser muy claro es que, cuando la base menor es $x=0$, la altura debe ser $h=0$. Las únicas opciones que cumplen con esto son B. y D."
   ]
  },
  {
   "cell_type": "markdown",
   "metadata": {},
   "source": [
    "La otra opción que tal vez no es tan clara es que, cuando la base menor es $x=5$, la altura debe ser $h=\\dfrac{5\\sqrt{3}}{2}$. Para verlo revisen la siguiente imagen. Lo vemos en la siguiente clase."
   ]
  },
  {
   "cell_type": "markdown",
   "metadata": {},
   "source": [
    "<img src=\"trapecio_caso2.png\" align=\"middle\" width=\"500\">"
   ]
  },
  {
   "cell_type": "markdown",
   "metadata": {},
   "source": [
    "La única opción que cumple con esto es D."
   ]
  },
  {
   "cell_type": "markdown",
   "metadata": {},
   "source": [
    "Tal vez la visualización ayude:"
   ]
  },
  {
   "cell_type": "markdown",
   "metadata": {},
   "source": [
    "https://www.desmos.com/calculator/wxgpr5gc1i"
   ]
  },
  {
   "cell_type": "markdown",
   "metadata": {},
   "source": [
    "A. $ h(x)=\\dfrac{\\sqrt{100+x^2}+\\sqrt{100+4x^2}}{2} $\n",
    "\n",
    "B. $ h(x)=\\dfrac{\\sqrt{100+x^2}-\\sqrt{100+4x^2}}{2} $\n",
    "\n",
    "C. $ h(x)=\\dfrac{\\sqrt{100-x^2}+\\sqrt{100-4x^2}}{2} $\n",
    "\n",
    "D. $ h(x)=\\dfrac{\\sqrt{100-x^2}-\\sqrt{100-4x^2}}{2} $"
   ]
  },
  {
   "cell_type": "markdown",
   "metadata": {},
   "source": [
    "**Solución:** D."
   ]
  },
  {
   "cell_type": "markdown",
   "metadata": {},
   "source": [
    "**7. Selecciona la opción que describe el promedio de la base mayor y la base menor.**\n",
    "\n",
    "**(1 punto)**"
   ]
  },
  {
   "cell_type": "markdown",
   "metadata": {},
   "source": [
    "A. $ \\dfrac{3x}{2} $\n",
    "\n",
    "B. $ \\dfrac{3x}{4} $\n",
    "\n",
    "C. $ \\dfrac{x}{2} $\n",
    "\n",
    "D. $3x$"
   ]
  },
  {
   "cell_type": "markdown",
   "metadata": {},
   "source": [
    "Como sabemos que la base mayor siempre es el doble de la base menor,"
   ]
  },
  {
   "cell_type": "markdown",
   "metadata": {},
   "source": [
    "$$ \\dfrac{B+b}{2}=\\dfrac{y+x}{2}=\\dfrac{2x+x}{2}=\\dfrac{3x}{2} $$"
   ]
  },
  {
   "cell_type": "markdown",
   "metadata": {},
   "source": [
    "A. $ \\dfrac{3x}{2} $\n",
    "\n",
    "B. $ \\dfrac{3x}{4} $\n",
    "\n",
    "C. $ \\dfrac{x}{2} $\n",
    "\n",
    "D. $3x$"
   ]
  },
  {
   "cell_type": "markdown",
   "metadata": {},
   "source": [
    "**Solución:** A."
   ]
  },
  {
   "cell_type": "markdown",
   "metadata": {},
   "source": [
    "**8. Selecciona la opción que describe el área del trapecio como función de su base menor, $x$.**\n",
    "\n",
    "**(2 puntos)**"
   ]
  },
  {
   "cell_type": "markdown",
   "metadata": {},
   "source": [
    "A. $ A(x)=\\dfrac{3x\\left(\\sqrt{100-x^2}-\\sqrt{100-4x^2}\\right)}{4} $\n",
    "\n",
    "B. $ A(x)=\\dfrac{3x\\left(\\sqrt{100+x^2}+\\sqrt{100+4x^2}\\right)}{8} $\n",
    "\n",
    "C. $ A(x)=\\dfrac{3x\\left(\\sqrt{100-x^2}+\\sqrt{100-4x^2}\\right)}{2} $\n",
    "\n",
    "D. $ A(x)=\\dfrac{x\\left(\\sqrt{100+x^2}-\\sqrt{100+4x^2}\\right)}{4} $"
   ]
  },
  {
   "cell_type": "markdown",
   "metadata": {},
   "source": [
    "Como el área de un trapecio es"
   ]
  },
  {
   "cell_type": "markdown",
   "metadata": {},
   "source": [
    "$$ A=\\dfrac{B+b}{2}\\cdot h= \\dfrac{3x}{2}\\cdot\\dfrac{\\sqrt{100-x^2}-\\sqrt{100-4x^2}}{2}=\\dfrac{3x\\left(\\sqrt{100-x^2}-\\sqrt{100-4x^2}\\right)}{4}$$"
   ]
  },
  {
   "cell_type": "markdown",
   "metadata": {},
   "source": [
    "A. $ A(x)=\\dfrac{3x\\left(\\sqrt{100-x^2}-\\sqrt{100-4x^2}\\right)}{4} $\n",
    "\n",
    "B. $ A(x)=\\dfrac{3x\\left(\\sqrt{100+x^2}+\\sqrt{100+4x^2}\\right)}{8} $\n",
    "\n",
    "C. $ A(x)=\\dfrac{3x\\left(\\sqrt{100-x^2}+\\sqrt{100-4x^2}\\right)}{2} $\n",
    "\n",
    "D. $ A(x)=\\dfrac{x\\left(\\sqrt{100+x^2}-\\sqrt{100+4x^2}\\right)}{4} $"
   ]
  },
  {
   "cell_type": "markdown",
   "metadata": {},
   "source": [
    "**Solución:** A."
   ]
  },
  {
   "cell_type": "markdown",
   "metadata": {},
   "source": [
    "**9. ¿Cuál es el área del trapecio cuando la base menor mide 2 cm?**\n",
    "\n",
    "**(2 puntos)**"
   ]
  },
  {
   "cell_type": "markdown",
   "metadata": {},
   "source": [
    "A. $ 12\\sqrt{6}+6\\sqrt{21} $\n",
    "\n",
    "B. $ \\sqrt{26}-\\sqrt{29} $\n",
    "\n",
    "C. $ 6\\sqrt{6}-3\\sqrt{21} $\n",
    "\n",
    "D. $ \\dfrac{3}{2}\\left(\\sqrt{26}+\\sqrt{29}\\right) $"
   ]
  },
  {
   "cell_type": "markdown",
   "metadata": {},
   "source": [
    "Para hacer esto simplemente usamos la función que encontramos"
   ]
  },
  {
   "cell_type": "markdown",
   "metadata": {},
   "source": [
    "$$ A(x)=\\dfrac{3x\\left(\\sqrt{100-x^2}-\\sqrt{100-4x^2}\\right)}{4}$$"
   ]
  },
  {
   "cell_type": "markdown",
   "metadata": {},
   "source": [
    "pero evaluada en $x=2$ :"
   ]
  },
  {
   "cell_type": "markdown",
   "metadata": {},
   "source": [
    "$$ A(2)=\\dfrac{3(2)\\left[\\sqrt{100-(2)^2}-\\sqrt{100-4(2)^2}\\right]}{4}=\\dfrac{6\\left(\\sqrt{100-4}-\\sqrt{100-16}\\right)}{4}=\\dfrac{3\\left(\\sqrt{96}-\\sqrt{84}\\right)}{2}$$"
   ]
  },
  {
   "cell_type": "markdown",
   "metadata": {},
   "source": [
    "$$ =\\dfrac{3\\left(\\sqrt{6\\cdot16}-\\sqrt{4\\cdot21}\\right)}{2}=\\dfrac{3\\left(4\\sqrt{6}-2\\sqrt{21}\\right)}{2}=3\\left(2\\sqrt{6}-\\sqrt{21}\\right)=6\\sqrt{6}-3\\sqrt{21}$$"
   ]
  },
  {
   "cell_type": "markdown",
   "metadata": {},
   "source": [
    "A. $ 12\\sqrt{6}+6\\sqrt{21} $\n",
    "\n",
    "B. $ \\sqrt{26}-\\sqrt{29} $\n",
    "\n",
    "C. $ 6\\sqrt{6}-3\\sqrt{21} $\n",
    "\n",
    "D. $ \\dfrac{3}{2}\\left(\\sqrt{26}+\\sqrt{29}\\right) $"
   ]
  },
  {
   "cell_type": "markdown",
   "metadata": {},
   "source": [
    "**Solución:** C."
   ]
  },
  {
   "cell_type": "markdown",
   "metadata": {},
   "source": [
    "**9. A continuación pensaremos en un semicírculo de radio $r$, el cual tiene inscrito un trapecio de base menor $x$ y base mayor $y$ (véase la figura). Nuevamente la base mayor será el doble de la base menor pero ahora querremos que la base mayor coincida con el diámetro de la circunferencia. Selecciona la opción que describe el área del trapecio como función del radio, $r$.**\n",
    "\n",
    "**(3 puntos)**"
   ]
  },
  {
   "cell_type": "markdown",
   "metadata": {},
   "source": [
    "<img src=\"trapecio_r.png\" align=\"middle\" width=\"500\">"
   ]
  },
  {
   "cell_type": "markdown",
   "metadata": {},
   "source": [
    "A. $ A(r)=\\dfrac{3\\sqrt{3}r^2}{4} $\n",
    "\n",
    "B. $ A(r)=\\dfrac{\\sqrt{3}r^2}{2} $\n",
    "\n",
    "C. $ A(r)=\\dfrac{\\sqrt{3}r(r+3)}{4} $\n",
    "\n",
    "D. $ A(r)=\\dfrac{3r(r+\\sqrt{3})}{2} $"
   ]
  },
  {
   "cell_type": "markdown",
   "metadata": {},
   "source": [
    "<img src=\"trapecio_r_sol.png\" align=\"middle\" width=\"500\">"
   ]
  },
  {
   "cell_type": "markdown",
   "metadata": {},
   "source": [
    "Por la figura y el enunciado sabemos que $y=2r$ y $x=r$. Usando el teorema de Pitágoras podemos averiguar que la altura es"
   ]
  },
  {
   "cell_type": "markdown",
   "metadata": {},
   "source": [
    "$$ \\text{c.o.}^2+\\text{c.a.}^2=\\text{hip.}^2 $$"
   ]
  },
  {
   "cell_type": "markdown",
   "metadata": {},
   "source": [
    "$$ h^2+\\left(\\dfrac{x}{2}\\right)^2=r^2 $$"
   ]
  },
  {
   "cell_type": "markdown",
   "metadata": {},
   "source": [
    "$$ h^2+\\left(\\dfrac{r}{2}\\right)^2=r^2 $$"
   ]
  },
  {
   "cell_type": "markdown",
   "metadata": {},
   "source": [
    "$$ h^2+\\dfrac{r^2}{4}=r^2 $$"
   ]
  },
  {
   "cell_type": "markdown",
   "metadata": {},
   "source": [
    "$$ h^2=\\dfrac{3r^2}{4} $$"
   ]
  },
  {
   "cell_type": "markdown",
   "metadata": {},
   "source": [
    "$$ h=\\dfrac{\\sqrt{3}r}{2} $$"
   ]
  },
  {
   "cell_type": "markdown",
   "metadata": {},
   "source": [
    "Entonces, la altura del trapecio será"
   ]
  },
  {
   "cell_type": "markdown",
   "metadata": {},
   "source": [
    "$$ A=\\dfrac{B+b}{2}\\cdot h=\\dfrac{y+x}{2}\\cdot h=\\dfrac{3r}{2}\\cdot\\dfrac{\\sqrt{3}r}{2}=\\dfrac{3\\sqrt{3}r^2}{4} $$"
   ]
  },
  {
   "cell_type": "markdown",
   "metadata": {},
   "source": [
    "Una forma alternativa de hacer esto es viendo que el área del trapecio es igual al área de tres triángulos equilateros. Revisen la gráfica en Desmos:"
   ]
  },
  {
   "cell_type": "markdown",
   "metadata": {},
   "source": [
    "https://www.desmos.com/calculator/hfl34gofem"
   ]
  },
  {
   "cell_type": "markdown",
   "metadata": {},
   "source": [
    "A. $ A(r)=\\dfrac{3\\sqrt{3}r^2}{4} $\n",
    "\n",
    "B. $ A(r)=\\dfrac{\\sqrt{3}r^2}{2} $\n",
    "\n",
    "C. $ A(r)=\\dfrac{\\sqrt{3}r(r+3)}{4} $\n",
    "\n",
    "D. $ A(r)=\\dfrac{3r(r+\\sqrt{3})}{2} $"
   ]
  },
  {
   "cell_type": "markdown",
   "metadata": {},
   "source": [
    "**Solución:** A."
   ]
  },
  {
   "cell_type": "markdown",
   "metadata": {},
   "source": [
    "**11. ¿Cuál será el radio aproximado de la circunferencia para que el trapecio dentro de ésta tenga un área de 25 cm²?**\n",
    "\n",
    "**(2 puntos)**"
   ]
  },
  {
   "cell_type": "markdown",
   "metadata": {},
   "source": [
    "A. 1.75 cm\n",
    "\n",
    "B. 4.39 cm\n",
    "\n",
    "C. 5.06 cm\n",
    "\n",
    "D. 7.86 cm"
   ]
  },
  {
   "cell_type": "markdown",
   "metadata": {},
   "source": [
    "Simplemente hacemos que la función anterior valga 25 y despejamos el radio."
   ]
  },
  {
   "cell_type": "markdown",
   "metadata": {},
   "source": [
    "$$ 25=\\dfrac{3\\sqrt{3}r^2}{4} $$"
   ]
  },
  {
   "cell_type": "markdown",
   "metadata": {},
   "source": [
    "$$ r=\\sqrt{\\dfrac{4\\cdot25}{3\\sqrt{3}}}=4.3869 $$"
   ]
  },
  {
   "cell_type": "code",
   "execution_count": 56,
   "metadata": {},
   "outputs": [
    {
     "data": {
      "text/plain": [
       "4.386913376508308"
      ]
     },
     "execution_count": 56,
     "metadata": {},
     "output_type": "execute_result"
    }
   ],
   "source": [
    "√(4*25/(3*√3))"
   ]
  },
  {
   "cell_type": "markdown",
   "metadata": {},
   "source": [
    "A. 1.75 cm\n",
    "\n",
    "B. 4.39 cm\n",
    "\n",
    "C. 5.06 cm\n",
    "\n",
    "D. 7.86 cm"
   ]
  },
  {
   "cell_type": "markdown",
   "metadata": {},
   "source": [
    "**Solución:** B."
   ]
  },
  {
   "cell_type": "markdown",
   "metadata": {},
   "source": [
    "## Situación 3: Barco fujimorista"
   ]
  },
  {
   "cell_type": "markdown",
   "metadata": {},
   "source": [
    "**En el 2000, el presidente peruano Alberto Fujimori se exilió hacia Japón ($J$) evadiendo cargos legales tras diversos escándalos de corrupción durante su mandato. Supongamos que Fujimori escapa desde Perú en barco. Un submarino peruano ($S$) busca atacar el barco para evitar que escape de la justicia. En el radar del submarino se ve la siguiente imagen con una escala 1:1336 km.**"
   ]
  },
  {
   "cell_type": "markdown",
   "metadata": {},
   "source": [
    "<img src=\"mapa_fujimorita.png\" align=\"middle\" width=\"800\">"
   ]
  },
  {
   "cell_type": "markdown",
   "metadata": {},
   "source": [
    "**12. ¿Cuál es la distancia inicial entre el barco y el submarino?**\n",
    "\n",
    "**(2 puntos)**"
   ]
  },
  {
   "cell_type": "markdown",
   "metadata": {},
   "source": [
    "A. $10688$ km\n",
    "\n",
    "B. $5344\\sqrt{10}$ km\n",
    "\n",
    "C. $13360$ km\n",
    "\n",
    "D. $2672\\sqrt{5}$ km"
   ]
  },
  {
   "cell_type": "markdown",
   "metadata": {},
   "source": [
    "Primero escribiremos las coordenadas de los puntos:\n",
    "* submarino, $S(14,3)$\n",
    "* Perú, $P(18,5)$"
   ]
  },
  {
   "cell_type": "markdown",
   "metadata": {},
   "source": [
    "$$ d(S,P)=\\sqrt{(x_2-x_1)^2+(y_2-y_1)^2}=\\sqrt{(18-14)^2+(5-3)^2}=\\sqrt{(4)^2+(2)^2} $$"
   ]
  },
  {
   "cell_type": "markdown",
   "metadata": {},
   "source": [
    "$$ =\\sqrt{16+4}=\\sqrt{20}=\\sqrt{4}\\sqrt{5}=2\\sqrt{5} $$"
   ]
  },
  {
   "cell_type": "markdown",
   "metadata": {},
   "source": [
    "Entonces la distancia real es"
   ]
  },
  {
   "cell_type": "markdown",
   "metadata": {},
   "source": [
    "$$ 2\\sqrt{5}\\left(\\dfrac{1336\\ \\rm{km}}{1}\\right)=2672\\sqrt{5}\\ \\rm{km} $$"
   ]
  },
  {
   "cell_type": "markdown",
   "metadata": {},
   "source": [
    "A. $10688$ km\n",
    "\n",
    "B. $5344\\sqrt{10}$ km\n",
    "\n",
    "C. $13360$ km\n",
    "\n",
    "D. $2672\\sqrt{5}$ km"
   ]
  },
  {
   "cell_type": "markdown",
   "metadata": {},
   "source": [
    "**Solución:** D."
   ]
  },
  {
   "cell_type": "markdown",
   "metadata": {},
   "source": [
    "**13. A lo largo de la trayectoria del barco, ¿cuál es la distancia más corta entre éste y el submarino?**\n",
    "\n",
    "**(3 puntos)**"
   ]
  },
  {
   "cell_type": "markdown",
   "metadata": {},
   "source": [
    "A. $10688$ km\n",
    "\n",
    "B. $5344\\sqrt{5}$ km\n",
    "\n",
    "C. $5464$ km\n",
    "\n",
    "D. $1336\\sqrt{10}$ km"
   ]
  },
  {
   "cell_type": "markdown",
   "metadata": {},
   "source": [
    "Recordemos que la distancia entre una recta\n",
    "$$ Ax+By+C=0 $$\n",
    "y un punto $Q(x_0,y_0)$ es"
   ]
  },
  {
   "cell_type": "markdown",
   "metadata": {},
   "source": [
    "$$ d=\\dfrac{|Ax_0+By_0+C|}{\\sqrt{A^2+B^2}} $$"
   ]
  },
  {
   "cell_type": "markdown",
   "metadata": {},
   "source": [
    "Entonces necesitamos escribir la ecuación de la recta entre $P$ y $J$ es"
   ]
  },
  {
   "cell_type": "markdown",
   "metadata": {},
   "source": [
    "$$ y=-\\frac{1}{3}x+11 $$"
   ]
  },
  {
   "cell_type": "markdown",
   "metadata": {},
   "source": [
    "Escrito en forma general tendremos"
   ]
  },
  {
   "cell_type": "markdown",
   "metadata": {},
   "source": [
    "$$ x+3y-33=0 $$"
   ]
  },
  {
   "cell_type": "markdown",
   "metadata": {},
   "source": [
    "El punto con respecto al cual queremos medir la distancia es $S(14,3)$"
   ]
  },
  {
   "cell_type": "markdown",
   "metadata": {},
   "source": [
    "$$ d=\\dfrac{|(14)+3(3)-33|}{\\sqrt{(1)^2+(3)^2}}=\\dfrac{|-10|}{\\sqrt{10}}=\\sqrt{10} $$"
   ]
  },
  {
   "cell_type": "markdown",
   "metadata": {},
   "source": [
    "Entonces la distancia real es"
   ]
  },
  {
   "cell_type": "markdown",
   "metadata": {},
   "source": [
    "$$ \\sqrt{10}\\left(\\dfrac{1336\\ \\rm{km}}{1}\\right)=1336\\sqrt{10}\\ \\rm{km} $$"
   ]
  },
  {
   "cell_type": "markdown",
   "metadata": {},
   "source": [
    "A. $10688$ km\n",
    "\n",
    "B. $5344\\sqrt{5}$ km\n",
    "\n",
    "C. $5464$ km\n",
    "\n",
    "D. $1336\\sqrt{10}$ km"
   ]
  },
  {
   "cell_type": "markdown",
   "metadata": {},
   "source": [
    "**Solución:** D."
   ]
  },
  {
   "cell_type": "markdown",
   "metadata": {},
   "source": [
    "**14. Cuando el barco avanza $1336\\sqrt{40}$ km hacia Japón desde Perú, ¿cuál es su distancia al submarino?**\n",
    "\n",
    "**(3 puntos)**"
   ]
  },
  {
   "cell_type": "markdown",
   "metadata": {},
   "source": [
    "A. $5344\\sqrt{10}$ km\n",
    "\n",
    "B. $1336\\sqrt{20}$ km\n",
    "\n",
    "C. $1336$ km\n",
    "\n",
    "D. $1336\\sqrt{40}$ km"
   ]
  },
  {
   "cell_type": "markdown",
   "metadata": {},
   "source": [
    "Pensemos que las nuevas coordenadas del barco son $B_1(x_1,y_1)$. Entonces, la distancia de Perú a la nueva posición del barco debe ser:"
   ]
  },
  {
   "cell_type": "markdown",
   "metadata": {},
   "source": [
    "$$ d(P,B_1)=\\sqrt{(x_1-18)^2+(y_1-5)^2}=\\sqrt{40} $$"
   ]
  },
  {
   "cell_type": "markdown",
   "metadata": {},
   "source": [
    "Pero el punto $B_1$ pertenece a la recta que se forma entre $P$ y $J$ por lo que"
   ]
  },
  {
   "cell_type": "markdown",
   "metadata": {},
   "source": [
    "$$ y_1=-\\dfrac{1}{3}x_1+11 $$"
   ]
  },
  {
   "cell_type": "markdown",
   "metadata": {},
   "source": [
    "Podemos sustituir esto en la distancia"
   ]
  },
  {
   "cell_type": "markdown",
   "metadata": {},
   "source": [
    "$$ \\sqrt{(x_1-18)^2+\\left[\\left(-\\dfrac{1}{3}x_1+11\\right)-5\\right]^2}=\\sqrt{40} $$"
   ]
  },
  {
   "cell_type": "markdown",
   "metadata": {},
   "source": [
    "$$ (x_1-18)^2+\\left(-\\dfrac{1}{3}x_1+6\\right)^2=\\left(\\sqrt{40}\\right)^2 $$"
   ]
  },
  {
   "cell_type": "markdown",
   "metadata": {},
   "source": [
    "$$ {x_1}^2-36x_1+324+\\dfrac{{x_1}^2}{9}-4x_1+36=40 $$"
   ]
  },
  {
   "cell_type": "markdown",
   "metadata": {},
   "source": [
    "$$ 9{x_1}^2-324x_1+2916+{x_1}^2-36x_1+324=360 $$"
   ]
  },
  {
   "cell_type": "markdown",
   "metadata": {},
   "source": [
    "$$ 10{x_1}^2-360x_1+2880=0 $$"
   ]
  },
  {
   "cell_type": "markdown",
   "metadata": {},
   "source": [
    "$$ {x_1}^2-36x_1+288=0 $$"
   ]
  },
  {
   "cell_type": "markdown",
   "metadata": {},
   "source": [
    "Obtenemos una ecuación cuadrática. La solución de esta ecuación es"
   ]
  },
  {
   "cell_type": "markdown",
   "metadata": {},
   "source": [
    "$$ x_1=\\dfrac{-(-36)\\pm\\sqrt{(-36)^2-4(1)(288)}}{2(1)}=\\dfrac{36\\pm\\sqrt{144}}{2}=\\dfrac{36\\pm12}{2}=18\\pm6 $$"
   ]
  },
  {
   "cell_type": "markdown",
   "metadata": {},
   "source": [
    "Si tomamos el signo negativo $x_1=12$ con lo que\n",
    "$$ y_1=-\\dfrac{1}{3}x_1+11=-\\dfrac{12}{3}+11=-4+11=7 $$"
   ]
  },
  {
   "cell_type": "markdown",
   "metadata": {},
   "source": [
    "Si tomamos el signo positivo $x_1=24$ con lo que\n",
    "$$ y_1=-\\dfrac{1}{3}x_1+11=-\\dfrac{24}{3}+11=-8+11=3 $$"
   ]
  },
  {
   "cell_type": "markdown",
   "metadata": {},
   "source": [
    "El punto correcto es $B_1(12,7)$ ya que es un punto que se acerca hacia Japón."
   ]
  },
  {
   "cell_type": "markdown",
   "metadata": {},
   "source": [
    "La distancia entre $S$ y $B_1$ es"
   ]
  },
  {
   "cell_type": "markdown",
   "metadata": {},
   "source": [
    "$$ d(S,B_1)=\\sqrt{(12-14)^2+(7-3)^2}=\\sqrt{(-2)^2+(4)^2}=\\sqrt{4+16}=\\sqrt{20} $$"
   ]
  },
  {
   "cell_type": "markdown",
   "metadata": {},
   "source": [
    "A. $5344\\sqrt{10}$ km\n",
    "\n",
    "B. $1336\\sqrt{20}$ km\n",
    "\n",
    "C. $1336$ km\n",
    "\n",
    "D. $1336\\sqrt{40}$ km"
   ]
  },
  {
   "cell_type": "markdown",
   "metadata": {},
   "source": [
    "**Solución:** B."
   ]
  },
  {
   "cell_type": "markdown",
   "metadata": {},
   "source": [
    "**15. El submarino envía un ultimátum al barco: \"si no se detienen a la mitad de la distancia entre Perú y Japón, dispararemos un misil en esa dirección.\" En caso de que disparasen, ¿cuál es la ecuación de la recta que describe la trayectoria de este misil?**\n",
    "\n",
    "**(2 puntos)**"
   ]
  },
  {
   "cell_type": "markdown",
   "metadata": {},
   "source": [
    "A. $y=-\\frac{1}{3}x+11$\n",
    "\n",
    "B. $y=-2x+31$\n",
    "\n",
    "C. $y=\\frac{1}{2}x+1$\n",
    "\n",
    "D. $y=3x+24$"
   ]
  },
  {
   "cell_type": "markdown",
   "metadata": {},
   "source": [
    "Llamemos a $B_2(x_2,y_2)$ la posición del barco en el punto medio entre $P$ y $J$. Sus coordenadas son"
   ]
  },
  {
   "cell_type": "markdown",
   "metadata": {},
   "source": [
    "$$ x_2=\\dfrac{18+6}{2}=12 $$"
   ]
  },
  {
   "cell_type": "markdown",
   "metadata": {},
   "source": [
    "$$ y_2=\\dfrac{5+9}{2}=7 $$"
   ]
  },
  {
   "cell_type": "markdown",
   "metadata": {},
   "source": [
    "Entonces el punto es $B_2(12,7)$."
   ]
  },
  {
   "cell_type": "markdown",
   "metadata": {},
   "source": [
    "Buscamos la ecuación de la recta que pasa por esa posición y la de $S$"
   ]
  },
  {
   "cell_type": "markdown",
   "metadata": {},
   "source": [
    "$$ m=\\dfrac{3-7}{14-12}=-2 $$"
   ]
  },
  {
   "cell_type": "markdown",
   "metadata": {},
   "source": [
    "$$ b=y-mx=(7)-(-2)(12)=31 $$"
   ]
  },
  {
   "cell_type": "markdown",
   "metadata": {},
   "source": [
    "La ecuación de la recta es"
   ]
  },
  {
   "cell_type": "markdown",
   "metadata": {},
   "source": [
    "$$ y=-2x+31 $$"
   ]
  },
  {
   "cell_type": "markdown",
   "metadata": {},
   "source": [
    "A. $y=-\\frac{1}{3}x+11$\n",
    "\n",
    "B. $y=-2x+31$\n",
    "\n",
    "C. $y=\\frac{1}{2}x+1$\n",
    "\n",
    "D. $y=3x+24$"
   ]
  },
  {
   "cell_type": "markdown",
   "metadata": {},
   "source": [
    "**Solución:** B."
   ]
  },
  {
   "cell_type": "markdown",
   "metadata": {},
   "source": [
    "**16. Un segundo barco pasa cerca del barco fujimorista. ¿Cuál ecuación corresponde a una trayectoria para la cual los barcos nunca choquen entre sí y bloquee la \"vista\" del submarino?**\n",
    "\n",
    "**(1 punto)**"
   ]
  },
  {
   "cell_type": "markdown",
   "metadata": {},
   "source": [
    "A. $y=-\\dfrac{1}{3}x+9$\n",
    "\n",
    "B. $y=3x-39$\n",
    "\n",
    "C. $y=-\\dfrac{3}{4}x+\\dfrac{27}{2}$\n",
    "\n",
    "D. $y=\\dfrac{1}{2}x-4$"
   ]
  },
  {
   "cell_type": "markdown",
   "metadata": {},
   "source": [
    "Sabemos que para que nunca se crucen, las rectas tienen que ser paralelas y, por lo tanto, sus pendientes deben ser iguales. La ecuación de la recta que pasa por $P$ y $J$ es"
   ]
  },
  {
   "cell_type": "markdown",
   "metadata": {},
   "source": [
    "$$ y=-\\dfrac{1}{3}x+11 $$"
   ]
  },
  {
   "cell_type": "markdown",
   "metadata": {},
   "source": [
    "La pendiente de esta recta es $-\\dfrac{1}{3}$."
   ]
  },
  {
   "cell_type": "markdown",
   "metadata": {},
   "source": [
    "A. $y=3x-39$\n",
    "\n",
    "B. $y=-\\dfrac{1}{3}x+9$\n",
    "\n",
    "C. $y=-\\dfrac{3}{4}x+\\dfrac{27}{2}$\n",
    "\n",
    "D. $y=\\dfrac{1}{2}x-4$"
   ]
  },
  {
   "cell_type": "markdown",
   "metadata": {},
   "source": [
    "**Solución:** B."
   ]
  },
  {
   "cell_type": "markdown",
   "metadata": {},
   "source": [
    "**17. Un tercer barco pasa cerca de los dos en una trayectoria parabólica. ¿Cuál de las siguientes ecuaciones describe esto?**\n",
    "\n",
    "**(2 puntos)**"
   ]
  },
  {
   "cell_type": "markdown",
   "metadata": {},
   "source": [
    "A. $x^{2}+3xy-y^{2}+40x+50=0$\n",
    "\n",
    "B. $x^{2}-2xy+y^{2}-28x+4y+176=0$\n",
    "\n",
    "C. $x^{2}+y^{2}-36x-10y+309=0$\n",
    "\n",
    "D. $4x^{2}+2xy+3y^{2}-10x+14y-450=0$"
   ]
  },
  {
   "cell_type": "markdown",
   "metadata": {},
   "source": [
    "Analizaremos caso por caso:"
   ]
  },
  {
   "cell_type": "markdown",
   "metadata": {},
   "source": [
    "* **A. $x^{2}+3xy-y^{2}+40x+50=0$**\n",
    "\n",
    "Esta ecuación es de la forma"
   ]
  },
  {
   "cell_type": "markdown",
   "metadata": {},
   "source": [
    "$$ Ax^2+Bxy+Cy^2+Dx+Ey+F=0 $$"
   ]
  },
  {
   "cell_type": "markdown",
   "metadata": {},
   "source": [
    "$A=1$, $B=3$, $C=-1$"
   ]
  },
  {
   "cell_type": "markdown",
   "metadata": {},
   "source": [
    "Usamos el indicador"
   ]
  },
  {
   "cell_type": "markdown",
   "metadata": {},
   "source": [
    "$$ I=B^2-4AC=(3)^2-4(1)(-1)=13>0 $$"
   ]
  },
  {
   "cell_type": "markdown",
   "metadata": {},
   "source": [
    "Por lo tanto, esta opción describe una hipérbola."
   ]
  },
  {
   "cell_type": "markdown",
   "metadata": {},
   "source": [
    "* **B. $x^{2}-2xy+y^{2}-28x+4y+176=0$**\n",
    "\n",
    "Esta ecuación es de la forma"
   ]
  },
  {
   "cell_type": "markdown",
   "metadata": {},
   "source": [
    "$$ Ax^2+Bxy+Cy^2+Dx+Ey+F=0 $$"
   ]
  },
  {
   "cell_type": "markdown",
   "metadata": {},
   "source": [
    "$A=1$, $B=-2$, $C=1$"
   ]
  },
  {
   "cell_type": "markdown",
   "metadata": {},
   "source": [
    "Usamos el indicador"
   ]
  },
  {
   "cell_type": "markdown",
   "metadata": {},
   "source": [
    "$$ I=B^2-4AC=(-2)^2-4(1)(1)=0 $$"
   ]
  },
  {
   "cell_type": "markdown",
   "metadata": {},
   "source": [
    "Por lo tanto, esta opción describe una parábola."
   ]
  },
  {
   "cell_type": "markdown",
   "metadata": {},
   "source": [
    "* **C. $x^{2}+y^{2}-36x-10y+309=0$**\n",
    "\n",
    "Esta ecuación es de la forma"
   ]
  },
  {
   "cell_type": "markdown",
   "metadata": {},
   "source": [
    "$$ Ax^2+Cy^2+Dx+Ey+F=0 $$"
   ]
  },
  {
   "cell_type": "markdown",
   "metadata": {},
   "source": [
    "$A=1$, $C=1$"
   ]
  },
  {
   "cell_type": "markdown",
   "metadata": {},
   "source": [
    "* **D. $4x^{2}+2xy+3y^{2}-10x+14y-450=0$**\n",
    "\n",
    "Esta ecuación es de la forma"
   ]
  },
  {
   "cell_type": "markdown",
   "metadata": {},
   "source": [
    "$$ Ax^2+Bxy+Cy^2+Dx+Ey+F=0 $$"
   ]
  },
  {
   "cell_type": "markdown",
   "metadata": {},
   "source": [
    "$A=4$, $B=2$, $C=3$"
   ]
  },
  {
   "cell_type": "markdown",
   "metadata": {},
   "source": [
    "Usamos el indicador"
   ]
  },
  {
   "cell_type": "markdown",
   "metadata": {},
   "source": [
    "$$ I=B^2-4AC=(2)^2-4(4)(3)=-44<0 $$"
   ]
  },
  {
   "cell_type": "markdown",
   "metadata": {},
   "source": [
    "Por lo tanto, esta opción describe una elipse."
   ]
  },
  {
   "cell_type": "markdown",
   "metadata": {},
   "source": [
    "A. $x^{2}+3xy-y^{2}+40x+50=0$\n",
    "\n",
    "B. $x^{2}-2xy+y^{2}-28x+4y+176=0$\n",
    "\n",
    "C. $x^{2}+y^{2}-36x-10y+309=0$\n",
    "\n",
    "D. $4x^{2}+2xy+3y^{2}-10x+14y-450=0$"
   ]
  },
  {
   "cell_type": "markdown",
   "metadata": {},
   "source": [
    "**Solución:** B."
   ]
  },
  {
   "cell_type": "markdown",
   "metadata": {},
   "source": [
    "Tal vez la visualización ayude:\n",
    "https://www.desmos.com/calculator/2jadrik4ty"
   ]
  }
 ],
 "metadata": {
  "@webio": {
   "lastCommId": null,
   "lastKernelId": null
  },
  "kernelspec": {
   "display_name": "Julia 1.1.0",
   "language": "julia",
   "name": "julia-1.1"
  },
  "language_info": {
   "file_extension": ".jl",
   "mimetype": "application/julia",
   "name": "julia",
   "version": "1.1.0"
  }
 },
 "nbformat": 4,
 "nbformat_minor": 2
}
