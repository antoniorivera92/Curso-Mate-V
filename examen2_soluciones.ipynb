{
 "cells": [
  {
   "cell_type": "markdown",
   "metadata": {},
   "source": [
    "# Examen 2"
   ]
  },
  {
   "cell_type": "markdown",
   "metadata": {},
   "source": [
    "## Situación 1"
   ]
  },
  {
   "cell_type": "markdown",
   "metadata": {},
   "source": [
    "Un vuelo transatlántico es el vuelo de una aeronave a través del Océano Atlántico, empezando desde el continente americano y terminando en Europa o África."
   ]
  },
  {
   "cell_type": "markdown",
   "metadata": {},
   "source": [
    "<img src=\"map.png\" align=\"middle\" width=\"800\">"
   ]
  },
  {
   "cell_type": "markdown",
   "metadata": {},
   "source": [
    "**1. Si deseamos realizar un viaje transatlántico desde Estados Unidos a Rusia, pensando que el vuelo toma una trayectoria en línea recta, ¿a cuántos kilómetros se encuentran estos dos países? (Considera que el mapa está a una escala de $3:6011\\ \\rm{km}$.)**"
   ]
  },
  {
   "cell_type": "markdown",
   "metadata": {},
   "source": [
    "Primero notemos que las coordenadas de los puntos que nos dan son:\n",
    "* $\\rm{A}(17,2)$\n",
    "* $\\rm{B}(6,3)$\n",
    "* $\\rm{EU}(4,7)$\n",
    "* $\\rm{R}(11,8)$"
   ]
  },
  {
   "cell_type": "markdown",
   "metadata": {},
   "source": [
    "La distancia entre Estados Unidos (EU) y Rusia (R) es"
   ]
  },
  {
   "cell_type": "markdown",
   "metadata": {},
   "source": [
    "$$ d=\\sqrt{(x_1-x_2)^2+(y_1-y_2)^2} $$"
   ]
  },
  {
   "cell_type": "markdown",
   "metadata": {},
   "source": [
    "$$ =\\sqrt{[(4)-(11)]^2+[(7)-(8)]^2} $$"
   ]
  },
  {
   "cell_type": "markdown",
   "metadata": {},
   "source": [
    "$$ =\\sqrt{(-7)^2+(-1)^2} $$"
   ]
  },
  {
   "cell_type": "markdown",
   "metadata": {},
   "source": [
    "$$ =\\sqrt{49+1} $$"
   ]
  },
  {
   "cell_type": "markdown",
   "metadata": {},
   "source": [
    "$$ =\\sqrt{50} $$"
   ]
  },
  {
   "cell_type": "markdown",
   "metadata": {},
   "source": [
    "Entonces EU y R se encuentran  $\\sqrt{50}=5\\sqrt{2}\\approx7.071$ unidades de distancia (sobre el mapa)."
   ]
  },
  {
   "cell_type": "markdown",
   "metadata": {},
   "source": [
    "Tenemos que hacer regla de tres\n",
    "\\begin{align*}\n",
    "3\\ \\rm{unidades} &\\ \\leftarrow\\ 6011\\ \\rm{km}\\\\\n",
    "&\\ \\nearrow\\\\\n",
    "\\sqrt{50}\\ \\rm{unidades}&\n",
    "\\end{align*}"
   ]
  },
  {
   "cell_type": "markdown",
   "metadata": {},
   "source": [
    "Entonces, la distancia real que tendrá que viajar el avión es"
   ]
  },
  {
   "cell_type": "markdown",
   "metadata": {},
   "source": [
    "$$\\sqrt{50}\\cdot6011\\div3\\ \\rm{km}$$"
   ]
  },
  {
   "cell_type": "markdown",
   "metadata": {},
   "source": [
    "ó"
   ]
  },
  {
   "cell_type": "markdown",
   "metadata": {},
   "source": [
    "$$\\dfrac{6011\\sqrt{50}}{3}\\ \\rm{km}$$"
   ]
  },
  {
   "cell_type": "markdown",
   "metadata": {},
   "source": [
    "A) $\\dfrac{3\\sqrt{18}}{6011}$\n",
    "\n",
    "B) $\\dfrac{3\\sqrt{50}}{6011}$\n",
    "\n",
    "C) $\\dfrac{6011\\sqrt{18}}{3}$\n",
    "\n",
    "D) $\\dfrac{6011\\sqrt{50}}{3}$"
   ]
  },
  {
   "cell_type": "markdown",
   "metadata": {},
   "source": [
    "**Solución:** D)"
   ]
  },
  {
   "cell_type": "markdown",
   "metadata": {},
   "source": [
    "**2. Si un avión vuela en línea recta desde Estados Unidos a Rusia, ¿cuál es la ecuación general de la recta que modela ese viaje?**"
   ]
  },
  {
   "cell_type": "markdown",
   "metadata": {},
   "source": [
    "* $\\rm{EU}(4,7)$\n",
    "* $\\rm{R}(11,8)$"
   ]
  },
  {
   "cell_type": "markdown",
   "metadata": {},
   "source": [
    "Primero obtenemos la pendiente para estos puntos:"
   ]
  },
  {
   "cell_type": "markdown",
   "metadata": {},
   "source": [
    "$$ m=\\dfrac{y_2-y_1}{x_2-x_1} $$"
   ]
  },
  {
   "cell_type": "markdown",
   "metadata": {},
   "source": [
    "$$ =\\dfrac{(8)-(7)}{(11)-(4)} $$"
   ]
  },
  {
   "cell_type": "markdown",
   "metadata": {},
   "source": [
    "$$ =\\dfrac{1}{7} $$"
   ]
  },
  {
   "cell_type": "markdown",
   "metadata": {},
   "source": [
    "Esperamos que la ecuación de la recta tenga la forma:"
   ]
  },
  {
   "cell_type": "markdown",
   "metadata": {},
   "source": [
    "$$ y=mx+b $$"
   ]
  },
  {
   "cell_type": "markdown",
   "metadata": {},
   "source": [
    "Sustituimos el valor calculado de $m$:"
   ]
  },
  {
   "cell_type": "markdown",
   "metadata": {},
   "source": [
    "$$ y=\\frac{1}{7}x+b $$"
   ]
  },
  {
   "cell_type": "markdown",
   "metadata": {},
   "source": [
    "Despejamos $b$:"
   ]
  },
  {
   "cell_type": "markdown",
   "metadata": {},
   "source": [
    "$$ b=y-\\frac{1}{7}x $$"
   ]
  },
  {
   "cell_type": "markdown",
   "metadata": {},
   "source": [
    "Sustituimos las coordenadas de alguno de los dos puntos; por ejemplo, $\\rm{EU}(4,7)$ :"
   ]
  },
  {
   "cell_type": "markdown",
   "metadata": {},
   "source": [
    "$$ b=(7)-\\frac{1}{7}(4) $$"
   ]
  },
  {
   "cell_type": "markdown",
   "metadata": {},
   "source": [
    "$$ =7-\\frac{4}{7} $$"
   ]
  },
  {
   "cell_type": "markdown",
   "metadata": {},
   "source": [
    "$$ =\\dfrac{49}{7}-\\frac{4}{7} $$"
   ]
  },
  {
   "cell_type": "markdown",
   "metadata": {},
   "source": [
    "$$ =\\dfrac{45}{7} $$"
   ]
  },
  {
   "cell_type": "markdown",
   "metadata": {},
   "source": [
    "Entonces, la ecuación de la recta en su forma ordenada-pendiente es:"
   ]
  },
  {
   "cell_type": "markdown",
   "metadata": {},
   "source": [
    "$$ y=\\dfrac{1}{7}x+\\frac{45}{7} $$"
   ]
  },
  {
   "cell_type": "markdown",
   "metadata": {},
   "source": [
    "Como la queremos en su forma general pasamos todo al mismo lado de la ecuación:"
   ]
  },
  {
   "cell_type": "markdown",
   "metadata": {},
   "source": [
    "$$ -\\dfrac{1}{7}x+y-\\frac{45}{7}=0 $$"
   ]
  },
  {
   "cell_type": "markdown",
   "metadata": {},
   "source": [
    "Vemos que ninguna de las opciones tiene fracciones, excepto la D), pero esa no puede ser porque está en la forma ordenada-pendiente, además de que no coincide con nuestro resultado. Entonces, nos deshacemos del denominador multiplicando toda la ecuación anterior por $7$."
   ]
  },
  {
   "cell_type": "markdown",
   "metadata": {},
   "source": [
    "$$ 7\\cdot\\left(-\\dfrac{1}{7}x+y-\\frac{45}{7}=0\\right) $$"
   ]
  },
  {
   "cell_type": "markdown",
   "metadata": {},
   "source": [
    "$$ -x+7y-45=0 $$"
   ]
  },
  {
   "cell_type": "markdown",
   "metadata": {},
   "source": [
    "Lo que acabamos de obtener se parece bastante al inciso C), pero tiene el signo del 45 al revés. Entonces, esa no es la respuesta correcta."
   ]
  },
  {
   "cell_type": "markdown",
   "metadata": {},
   "source": [
    "Puede ser que trate de un múltiplo de la ecuación que obtuvimos. Por ejemplo, podemos multiplicar la ecuación anterior por $2$."
   ]
  },
  {
   "cell_type": "markdown",
   "metadata": {},
   "source": [
    "$$ -2x+14y-90=0 $$"
   ]
  },
  {
   "cell_type": "markdown",
   "metadata": {},
   "source": [
    "Como queremos que el $2x$ sea positivo, pasamos todo para el lado derecho de la ecuación."
   ]
  },
  {
   "cell_type": "markdown",
   "metadata": {},
   "source": [
    "$$ 0=2x-14y+90 $$"
   ]
  },
  {
   "cell_type": "markdown",
   "metadata": {},
   "source": [
    "(Lo mismo se puede lograr si se multiplica toda la ecuación por $-1$. **Recuerden:** esto de multiplicar o dividir una ecuación por algo se puede hacer siempre y cuando realizamos dicha operación a ambos lados de la ecuación.)"
   ]
  },
  {
   "cell_type": "markdown",
   "metadata": {},
   "source": [
    "Como lo que obtuvimos no coincide con la opción A), seguramente se trata de la C). Comprobamos esto:"
   ]
  },
  {
   "cell_type": "markdown",
   "metadata": {},
   "source": [
    "Podemos multiplicar la ecuación\n",
    "$$ -x+7y-45=0 $$\n",
    "por $3$."
   ]
  },
  {
   "cell_type": "markdown",
   "metadata": {},
   "source": [
    "$$ -3x+21y-135=0 $$"
   ]
  },
  {
   "cell_type": "markdown",
   "metadata": {},
   "source": [
    "Como queremos que el $3x$ sea positivo, pasamos todo para el lado derecho de la ecuación."
   ]
  },
  {
   "cell_type": "markdown",
   "metadata": {},
   "source": [
    "$$ 0=3x-21y+135=0 $$"
   ]
  },
  {
   "cell_type": "markdown",
   "metadata": {},
   "source": [
    "A) $2x-14y+6=0$\n",
    "\n",
    "B) $3x-21y+135=0$\n",
    "\n",
    "C) $-x+7y+45=0$\n",
    "\n",
    "D) $y=\\dfrac{1}{7}x-\\dfrac{45}{7}$"
   ]
  },
  {
   "cell_type": "markdown",
   "metadata": {},
   "source": [
    "**Solución:** B)"
   ]
  },
  {
   "cell_type": "markdown",
   "metadata": {},
   "source": [
    "Como extra quisiera decirles que, otra forma de resolver el ejercicio es sustituyendo las coordenadas de los puntos en todas las ecuaciones hasta ver cuál sí se cumple. Por ejemplo:"
   ]
  },
  {
   "cell_type": "markdown",
   "metadata": {},
   "source": [
    "**Sustitución de $\\rm{EU}(4,7)$ en la opción A)**"
   ]
  },
  {
   "cell_type": "markdown",
   "metadata": {},
   "source": [
    "$$2x-14y+6=2(4)-14(7)+6=8-98+6=-84\\neq0$$"
   ]
  },
  {
   "cell_type": "markdown",
   "metadata": {},
   "source": [
    "**Sustitución de $\\rm{R}(11,8)$ en la opción A)**"
   ]
  },
  {
   "cell_type": "markdown",
   "metadata": {},
   "source": [
    "$$2x-14y+6=2(11)-14(8)+6=22-112+6=-84\\neq0$$"
   ]
  },
  {
   "cell_type": "markdown",
   "metadata": {},
   "source": [
    "Ninguna de las dos ecuaciones se cumplen. Por lo tanto, el inciso correcto **NO** es el A)."
   ]
  },
  {
   "cell_type": "markdown",
   "metadata": {},
   "source": [
    "**Sustitución de $\\rm{EU}(4,7)$ en la opción B)**"
   ]
  },
  {
   "cell_type": "markdown",
   "metadata": {},
   "source": [
    "$$3x-21y+135=3(4)-21(7)+135=12-147+135=0$$"
   ]
  },
  {
   "cell_type": "markdown",
   "metadata": {},
   "source": [
    "**Sustitución de $\\rm{R}(11,8)$ en la opción B)**"
   ]
  },
  {
   "cell_type": "markdown",
   "metadata": {},
   "source": [
    "$$3x-21y+135=3(11)-21(8)+135=33-168+135=0$$"
   ]
  },
  {
   "cell_type": "markdown",
   "metadata": {},
   "source": [
    "Ambas ecuaciones se cumplen. Por lo tanto, el inciso correcto **SÍ** es el B)"
   ]
  },
  {
   "cell_type": "markdown",
   "metadata": {},
   "source": [
    "Finalmente agrego la gŕafica de `Desmos` para que vean que efectivamente es la recta correcta:"
   ]
  },
  {
   "cell_type": "markdown",
   "metadata": {},
   "source": [
    "<img src=\"ej2.png\" align=\"middle\" width=\"1000\">"
   ]
  },
  {
   "cell_type": "markdown",
   "metadata": {},
   "source": [
    "**3. ¿Cuál es la ecuación de la recta perpendicular a la recta que modela el viaje entre Estados Unidos y Rusia, y que pasa por Australia?**"
   ]
  },
  {
   "cell_type": "markdown",
   "metadata": {},
   "source": [
    "Como ya sabemos la pendiente de la recta que pasa por Estados Unidos y Rusia ($m=\\dfrac{1}{7}$), la pendiente perpendicular tiene que ser voltear la fracción y cambiar el signo, es decir,"
   ]
  },
  {
   "cell_type": "markdown",
   "metadata": {},
   "source": [
    "$$ -\\dfrac{7}{1} $$"
   ]
  },
  {
   "cell_type": "markdown",
   "metadata": {},
   "source": [
    "Entonces, la pendiente de nuestra recta es $m^\\prime=-7$."
   ]
  },
  {
   "cell_type": "markdown",
   "metadata": {},
   "source": [
    "Si esto no queda tan claro pueden pensarlo con la fórmula"
   ]
  },
  {
   "cell_type": "markdown",
   "metadata": {},
   "source": [
    "$$ mm^\\prime=-1 $$"
   ]
  },
  {
   "cell_type": "markdown",
   "metadata": {},
   "source": [
    "Es esta despejamos la nueva pendiente y sustituimos la pendiente original."
   ]
  },
  {
   "cell_type": "markdown",
   "metadata": {},
   "source": [
    "Esperamos que la ecuación de la recta perpendicular a la anterior tenga la forma:"
   ]
  },
  {
   "cell_type": "markdown",
   "metadata": {},
   "source": [
    "$$ y=m^\\prime x+b^\\prime $$"
   ]
  },
  {
   "cell_type": "markdown",
   "metadata": {},
   "source": [
    "Sustituimos el valor calculado de $m^\\prime$:"
   ]
  },
  {
   "cell_type": "markdown",
   "metadata": {},
   "source": [
    "$$ y=-7x+b^\\prime $$"
   ]
  },
  {
   "cell_type": "markdown",
   "metadata": {},
   "source": [
    "Despejamos $b^\\prime$:"
   ]
  },
  {
   "cell_type": "markdown",
   "metadata": {},
   "source": [
    "$$ b^\\prime=y+7x $$"
   ]
  },
  {
   "cell_type": "markdown",
   "metadata": {},
   "source": [
    "Sustituimos las coordenadas de Australia\n",
    "$$\\rm{A}(17,2)$$\n",
    "ya que sabemos que tiene que pasar por ahí:"
   ]
  },
  {
   "cell_type": "markdown",
   "metadata": {},
   "source": [
    "$$ b=(2)+7(17) $$"
   ]
  },
  {
   "cell_type": "markdown",
   "metadata": {},
   "source": [
    "$$ =2+119 $$"
   ]
  },
  {
   "cell_type": "markdown",
   "metadata": {},
   "source": [
    "$$ =121 $$"
   ]
  },
  {
   "cell_type": "markdown",
   "metadata": {},
   "source": [
    "Entonces, la ecuación de la recta perpendicular en su forma ordenada-pendiente es:"
   ]
  },
  {
   "cell_type": "markdown",
   "metadata": {},
   "source": [
    "$$ y=-7x+121 $$"
   ]
  },
  {
   "cell_type": "markdown",
   "metadata": {},
   "source": [
    "Como la queremos en su forma general pasamos todo al mismo lado de la ecuación:"
   ]
  },
  {
   "cell_type": "markdown",
   "metadata": {},
   "source": [
    "$$ 7x+y-121=0 $$"
   ]
  },
  {
   "cell_type": "markdown",
   "metadata": {},
   "source": [
    "A) $7x+y-117=0$\n",
    "\n",
    "B) $7x-y-117=0$\n",
    "\n",
    "C) $7x-y-121=0$\n",
    "\n",
    "D) $7x+y-121=0$"
   ]
  },
  {
   "cell_type": "markdown",
   "metadata": {},
   "source": [
    "**Solución:** D)"
   ]
  },
  {
   "cell_type": "markdown",
   "metadata": {},
   "source": [
    "Finalmente agrego la gŕafica de `Desmos` para que vean que efectivamente es la recta correcta:"
   ]
  },
  {
   "cell_type": "markdown",
   "metadata": {},
   "source": [
    "<img src=\"ej3.png\" align=\"middle\" width=\"1000\">"
   ]
  },
  {
   "cell_type": "markdown",
   "metadata": {},
   "source": [
    "**4. Si el avión vuela en línea recta desde Estados Unidos hasta Rusia y justo aquí gira para ir hacia Australia en línea recta, ¿cuál es el ángulo que tiene girar?**"
   ]
  },
  {
   "cell_type": "markdown",
   "metadata": {},
   "source": [
    "Lo que queremos es que el vuelo sea de la siguiente forma:"
   ]
  },
  {
   "cell_type": "markdown",
   "metadata": {},
   "source": [
    "<img src=\"vuelo_escala.png\" align=\"middle\" width=\"800\">"
   ]
  },
  {
   "cell_type": "markdown",
   "metadata": {},
   "source": [
    "Y lo que nos interesa es encontrar el ángulo que gira el avión al momento de estar sobre Rusia. Por el dibujo esperamos que el ángulo sea mayor que $90^\\circ$. "
   ]
  },
  {
   "cell_type": "markdown",
   "metadata": {},
   "source": [
    "Podría haber varia maneras de hacer esto. Lo más fácil es obtener ángulo entre rectas. Nos conviene encontrar la pendiente que forma Rusia con Australia:"
   ]
  },
  {
   "cell_type": "markdown",
   "metadata": {},
   "source": [
    "* $\\rm{R}(11,8)$\n",
    "* $\\rm{A}(17,2)$"
   ]
  },
  {
   "cell_type": "markdown",
   "metadata": {},
   "source": [
    "Primero obtenemos la pendiente para estos puntos:"
   ]
  },
  {
   "cell_type": "markdown",
   "metadata": {},
   "source": [
    "$$ m=\\dfrac{y_2-y_1}{x_2-x_1} $$"
   ]
  },
  {
   "cell_type": "markdown",
   "metadata": {},
   "source": [
    "$$ =\\dfrac{(2)-(8)}{(17)-(11)} $$"
   ]
  },
  {
   "cell_type": "markdown",
   "metadata": {},
   "source": [
    "$$ =\\dfrac{-6}{6} $$"
   ]
  },
  {
   "cell_type": "markdown",
   "metadata": {},
   "source": [
    "$$ =-1 $$"
   ]
  },
  {
   "cell_type": "markdown",
   "metadata": {},
   "source": [
    "Como ya sabemos que la pendiente entre Estados Unidos y Rusia es $m=\\dfrac{1}{7}$, podemos usar la fórmula de ángulo entre pendientes:"
   ]
  },
  {
   "cell_type": "markdown",
   "metadata": {},
   "source": [
    "$$ \\theta=\\tan^{-1}\\left(\\dfrac{m_2-m_1}{1+m_2m_1}\\right) $$"
   ]
  },
  {
   "cell_type": "markdown",
   "metadata": {},
   "source": [
    "$$ =\\tan^{-1}\\,\\left[\\dfrac{(-1)-\\left(\\dfrac{1}{7}\\right)}{1+(-1)\\left(\\dfrac{1}{7}\\right)}\\right] $$"
   ]
  },
  {
   "cell_type": "code",
   "execution_count": 1,
   "metadata": {},
   "outputs": [
    {
     "data": {
      "text/plain": [
       "-1.3333333333333333"
      ]
     },
     "execution_count": 1,
     "metadata": {},
     "output_type": "execute_result"
    }
   ],
   "source": [
    "((-1)-(1/7))/(1+(-1)(1/7))"
   ]
  },
  {
   "cell_type": "code",
   "execution_count": 2,
   "metadata": {},
   "outputs": [
    {
     "data": {
      "text/plain": [
       "-53.13010235415598"
      ]
     },
     "execution_count": 2,
     "metadata": {},
     "output_type": "execute_result"
    }
   ],
   "source": [
    "atand(-1.3333333333333333)"
   ]
  },
  {
   "cell_type": "markdown",
   "metadata": {},
   "source": [
    "$$ \\theta\\approx-53.13^\\circ $$"
   ]
  },
  {
   "cell_type": "markdown",
   "metadata": {},
   "source": [
    "Recuerden que ignoramos el signo. Como este ángulo es menor que $90^\\circ$, queremos el suplementario de éste."
   ]
  },
  {
   "cell_type": "code",
   "execution_count": 3,
   "metadata": {},
   "outputs": [
    {
     "data": {
      "text/plain": [
       "126.86989764584402"
      ]
     },
     "execution_count": 3,
     "metadata": {},
     "output_type": "execute_result"
    }
   ],
   "source": [
    "180-53.13010235415598"
   ]
  },
  {
   "cell_type": "markdown",
   "metadata": {},
   "source": [
    "Ahora sí obtuvimos un ángulo que es mayor que $90^\\circ$."
   ]
  },
  {
   "cell_type": "markdown",
   "metadata": {},
   "source": [
    "A) $143.13^\\circ$\n",
    "\n",
    "B) $90^\\circ$\n",
    "\n",
    "C) $135^\\circ$\n",
    "\n",
    "D) $126.87^\\circ$"
   ]
  },
  {
   "cell_type": "markdown",
   "metadata": {},
   "source": [
    "**Solución:** D)"
   ]
  },
  {
   "cell_type": "markdown",
   "metadata": {},
   "source": [
    "**5. Al tomar un vuelo que va a varias partes del mundo y pasa por Brasil, un avión viaja en la forma de la ecuación**\n",
    "\n",
    "$$ \\frac{7x^2+5y^2}{5xy+31x+41y-250}=2 $$\n",
    "\n",
    "**¿Qué tipo de cónica representa la ecuación anterior?**"
   ]
  },
  {
   "cell_type": "markdown",
   "metadata": {},
   "source": [
    "¿Variables en el denominador? Hay que pasarlas para el otro lado."
   ]
  },
  {
   "cell_type": "markdown",
   "metadata": {},
   "source": [
    "$$ 7x^2+5y^2=2(5xy+31x+41y-250) $$"
   ]
  },
  {
   "cell_type": "markdown",
   "metadata": {},
   "source": [
    "Ahora pasamos todo al mismo lado para tener la ecuación en su forma general:"
   ]
  },
  {
   "cell_type": "markdown",
   "metadata": {},
   "source": [
    "$$ 7x^2+5y^2=10xy+62x+82y-500 $$"
   ]
  },
  {
   "cell_type": "markdown",
   "metadata": {},
   "source": [
    "$$ 7x^2-10xy+5y^2-62x-82y+500=0 $$"
   ]
  },
  {
   "cell_type": "markdown",
   "metadata": {},
   "source": [
    "Comparamos la ecuación que obtuvimos con la ecuación general de segundo grado:"
   ]
  },
  {
   "cell_type": "markdown",
   "metadata": {},
   "source": [
    "$$ Ax^2+Bxy+Cy^2+Dx+Ey+F=0 $$"
   ]
  },
  {
   "cell_type": "markdown",
   "metadata": {},
   "source": [
    "Entonces los coeficientes son:\n",
    "\n",
    "$A=7$, $B=-10$, $C=5$, $D=-62$, $E=-82$, $F=500$"
   ]
  },
  {
   "cell_type": "markdown",
   "metadata": {},
   "source": [
    "Realmente sólo me importan los primeros tres coeficientes."
   ]
  },
  {
   "cell_type": "markdown",
   "metadata": {},
   "source": [
    "Como $B$ no es cero, *invocamos el indicador* (el interior de la raíz cuadrada en *Le Chicharronera*):"
   ]
  },
  {
   "cell_type": "markdown",
   "metadata": {},
   "source": [
    "$$ I=B^2-4AC $$"
   ]
  },
  {
   "cell_type": "markdown",
   "metadata": {},
   "source": [
    "Sustituimos"
   ]
  },
  {
   "cell_type": "markdown",
   "metadata": {},
   "source": [
    "$$ I=(-10)^2-4(7)(5)$$"
   ]
  },
  {
   "cell_type": "markdown",
   "metadata": {},
   "source": [
    "$$ =100-140$$"
   ]
  },
  {
   "cell_type": "markdown",
   "metadata": {},
   "source": [
    "$$ =-40$$"
   ]
  },
  {
   "cell_type": "markdown",
   "metadata": {},
   "source": [
    "Como el indicador es negativo, debe tratarse de una elipse."
   ]
  },
  {
   "cell_type": "markdown",
   "metadata": {},
   "source": [
    "A) Elipse \n",
    "\n",
    "B) Hipérbola\n",
    "\n",
    "C) Parábola\n",
    "\n",
    "D) Recta"
   ]
  },
  {
   "cell_type": "markdown",
   "metadata": {},
   "source": [
    "**Solución:** A"
   ]
  },
  {
   "cell_type": "markdown",
   "metadata": {},
   "source": [
    "Finalmente agrego la gŕafica de `Desmos` para que vean que efectivamente es la cónica correcta:"
   ]
  },
  {
   "cell_type": "markdown",
   "metadata": {},
   "source": [
    "<img src=\"ej4_conica.png\" align=\"middle\" width=\"1000\">"
   ]
  },
  {
   "cell_type": "markdown",
   "metadata": {},
   "source": [
    "Finalmente, les dejo la dirección electrónica de mi gráfica de `Desmos` para que jueguen:\n",
    "\n",
    "https://www.desmos.com/calculator/ghag3b70az"
   ]
  },
  {
   "cell_type": "markdown",
   "metadata": {},
   "source": [
    "## Situación 2"
   ]
  },
  {
   "cell_type": "markdown",
   "metadata": {},
   "source": [
    "Los vértices de un triángulo son $A(-8,7)$, $B(9,-9)$, y $C(0,7)$."
   ]
  },
  {
   "cell_type": "markdown",
   "metadata": {},
   "source": [
    "**6. Calcula el perímetro del triángulo.**"
   ]
  },
  {
   "cell_type": "markdown",
   "metadata": {},
   "source": [
    "Tengo que obtener las longitudes de todos los lados del triángulo:\n",
    "* $\\overline{AB}$\n",
    "* $\\overline{BC}$\n",
    "* $\\overline{AC}$"
   ]
  },
  {
   "cell_type": "markdown",
   "metadata": {},
   "source": [
    "$$ \\overline{AB}=\\sqrt{[(9)-(-8)]^2+[(-9)-(7)]^2} $$"
   ]
  },
  {
   "cell_type": "markdown",
   "metadata": {},
   "source": [
    "$$ =\\sqrt{(9+8)^2+(-9-7)^2} $$"
   ]
  },
  {
   "cell_type": "markdown",
   "metadata": {},
   "source": [
    "$$ =\\sqrt{(17)^2+(-16)^2} $$"
   ]
  },
  {
   "cell_type": "code",
   "execution_count": 1,
   "metadata": {},
   "outputs": [
    {
     "data": {
      "text/plain": [
       "545"
      ]
     },
     "execution_count": 1,
     "metadata": {},
     "output_type": "execute_result"
    }
   ],
   "source": [
    "(17)^2+(-16)^2"
   ]
  },
  {
   "cell_type": "markdown",
   "metadata": {},
   "source": [
    "$$ \\overline{AB}=\\sqrt{545} $$"
   ]
  },
  {
   "cell_type": "markdown",
   "metadata": {},
   "source": [
    "$$ \\overline{BC}=\\sqrt{[(0)-(9)]^2+[(7)-(-9)]^2} $$"
   ]
  },
  {
   "cell_type": "markdown",
   "metadata": {},
   "source": [
    "$$ =\\sqrt{(-9)^2+(7+9)^2} $$"
   ]
  },
  {
   "cell_type": "markdown",
   "metadata": {},
   "source": [
    "$$ =\\sqrt{(-9)^2+(16)^2} $$"
   ]
  },
  {
   "cell_type": "code",
   "execution_count": 3,
   "metadata": {},
   "outputs": [
    {
     "data": {
      "text/plain": [
       "337"
      ]
     },
     "execution_count": 3,
     "metadata": {},
     "output_type": "execute_result"
    }
   ],
   "source": [
    "(-9)^2+(16)^2"
   ]
  },
  {
   "cell_type": "markdown",
   "metadata": {},
   "source": [
    "$$ \\overline{BC}=\\sqrt{337} $$"
   ]
  },
  {
   "cell_type": "markdown",
   "metadata": {},
   "source": [
    "$$ \\overline{AC}=\\sqrt{[(0)-(-8)]^2+[(7)-(7)]^2} $$"
   ]
  },
  {
   "cell_type": "markdown",
   "metadata": {},
   "source": [
    "$$ =\\sqrt{(8)^2+(0)^2} $$"
   ]
  },
  {
   "cell_type": "markdown",
   "metadata": {},
   "source": [
    "$$ =\\sqrt{8^2} $$"
   ]
  },
  {
   "cell_type": "markdown",
   "metadata": {},
   "source": [
    "**Recuerden:** Las raíz cuadrada y elevar al cuadrado se cancelan entre sí porque son operaciones contrarias."
   ]
  },
  {
   "cell_type": "markdown",
   "metadata": {},
   "source": [
    "$$ \\overline{AC}=8 $$"
   ]
  },
  {
   "cell_type": "markdown",
   "metadata": {},
   "source": [
    "El perímetro de un triángulo es la suma de todos sus lados"
   ]
  },
  {
   "cell_type": "markdown",
   "metadata": {},
   "source": [
    "$$ P=\\overline{AB}+\\overline{BC}+\\overline{AC}=\\sqrt{545}+\\sqrt{337}+8 $$"
   ]
  },
  {
   "cell_type": "markdown",
   "metadata": {},
   "source": [
    "A) $\\sqrt{274}+\\sqrt{373}+\\sqrt{549}$\n",
    "\n",
    "B) $8+\\sqrt{882}$\n",
    "\n",
    "C) $8+\\sqrt{337}+\\sqrt{545}$\n",
    "\n",
    "D) $8\\sqrt{183665}$"
   ]
  },
  {
   "cell_type": "markdown",
   "metadata": {},
   "source": [
    "**Solución:** C)"
   ]
  },
  {
   "cell_type": "markdown",
   "metadata": {},
   "source": [
    "**7. Encuentra los ángulos internos del triángulo.**"
   ]
  },
  {
   "cell_type": "markdown",
   "metadata": {},
   "source": [
    "<img src=\"triangulo_examen.png\" align=\"middle\" width=\"300\">"
   ]
  },
  {
   "cell_type": "markdown",
   "metadata": {},
   "source": [
    "**Forma 1:**"
   ]
  },
  {
   "cell_type": "markdown",
   "metadata": {},
   "source": [
    "Esperamos que el ángulo:\n",
    "* $B$ sea agudo y el más pequeño de los tres\n",
    "* $A$ sea agudo y el mediano de los tres\n",
    "* $C$ sea obtuso y el más grande de los tres"
   ]
  },
  {
   "cell_type": "markdown",
   "metadata": {},
   "source": [
    "Entre las opciones sólo hay una respuesta así."
   ]
  },
  {
   "cell_type": "markdown",
   "metadata": {},
   "source": [
    "**Solución:** B)"
   ]
  },
  {
   "cell_type": "markdown",
   "metadata": {},
   "source": [
    "**Forma 2:**"
   ]
  },
  {
   "cell_type": "markdown",
   "metadata": {},
   "source": [
    "Vamos a resolver esto usando la fórmula de ángulo entre rectas:"
   ]
  },
  {
   "cell_type": "markdown",
   "metadata": {},
   "source": [
    "$$ \\theta=\\tan^{-1}\\left(\\frac{m_2-m_1}{1+m_2m_1}\\right) $$"
   ]
  },
  {
   "cell_type": "markdown",
   "metadata": {},
   "source": [
    "Para esto necesitamos saber la pendiente de cada segmento."
   ]
  },
  {
   "cell_type": "markdown",
   "metadata": {},
   "source": [
    "$$ m=\\frac{y_2-y_1}{x_2-x_1} $$"
   ]
  },
  {
   "cell_type": "markdown",
   "metadata": {},
   "source": [
    "* **Pendiente del segmento $\\overline{AB}$**"
   ]
  },
  {
   "cell_type": "markdown",
   "metadata": {},
   "source": [
    "$$ m=\\frac{(-9)-(7)}{(9)-(-8)} $$"
   ]
  },
  {
   "cell_type": "markdown",
   "metadata": {},
   "source": [
    "$$ =\\frac{-16}{17} $$"
   ]
  },
  {
   "cell_type": "markdown",
   "metadata": {},
   "source": [
    "* **Pendiente del segmento $\\overline{BC}$**"
   ]
  },
  {
   "cell_type": "markdown",
   "metadata": {},
   "source": [
    "$$ m=\\frac{(7)-(-9)}{(0)-(9)} $$"
   ]
  },
  {
   "cell_type": "markdown",
   "metadata": {},
   "source": [
    "$$ =\\frac{16}{-9} $$"
   ]
  },
  {
   "cell_type": "markdown",
   "metadata": {},
   "source": [
    "* **Pendiente del segmento $\\overline{AC}$**"
   ]
  },
  {
   "cell_type": "markdown",
   "metadata": {},
   "source": [
    "$$ m=\\frac{(7)-(7)}{(0)-(-8)} $$"
   ]
  },
  {
   "cell_type": "markdown",
   "metadata": {},
   "source": [
    "$$ =\\frac{0}{8}=0 $$"
   ]
  },
  {
   "cell_type": "markdown",
   "metadata": {},
   "source": [
    "* **Ángulo $A$ (es el ángulo que se forma entre los segmentos $\\overline{AB}$ y $\\overline{AC}$)**"
   ]
  },
  {
   "cell_type": "markdown",
   "metadata": {},
   "source": [
    "$$ \\tan^{-1}\\,\\left[\\frac{\\left(-\\dfrac{16}{17}\\right)-(0)}{1+\\left(-\\dfrac{16}{17}\\right)(0)}\\right] $$"
   ]
  },
  {
   "cell_type": "markdown",
   "metadata": {},
   "source": [
    "$$ =\\tan^{-1}\\left(-\\dfrac{16}{17}\\right) $$"
   ]
  },
  {
   "cell_type": "code",
   "execution_count": 1,
   "metadata": {},
   "outputs": [
    {
     "data": {
      "text/plain": [
       "-43.264295411071615"
      ]
     },
     "execution_count": 1,
     "metadata": {},
     "output_type": "execute_result"
    }
   ],
   "source": [
    "atand(-16/17)"
   ]
  },
  {
   "cell_type": "markdown",
   "metadata": {},
   "source": [
    "Ignoramos el signo negativo."
   ]
  },
  {
   "cell_type": "markdown",
   "metadata": {},
   "source": [
    "$$ A\\approx43.26^\\circ $$"
   ]
  },
  {
   "cell_type": "markdown",
   "metadata": {},
   "source": [
    "* **Ángulo $B$ (es el ángulo que se forma entre los segmentos $\\overline{AB}$ y $\\overline{BC}$)**"
   ]
  },
  {
   "cell_type": "markdown",
   "metadata": {},
   "source": [
    "$$ \\tan^{-1}\\left(\\frac{\\left(-\\dfrac{16}{17}\\right)-\\left(-\\dfrac{16}{9}\\right)}{1+\\left(-\\dfrac{16}{17}\\right)\\left(-\\dfrac{16}{9}\\right)}\\right) $$"
   ]
  },
  {
   "cell_type": "markdown",
   "metadata": {},
   "source": [
    "Se ve súper feo. Vamos haciéndolo por partes:"
   ]
  },
  {
   "cell_type": "markdown",
   "metadata": {},
   "source": [
    "* numerador"
   ]
  },
  {
   "cell_type": "code",
   "execution_count": 2,
   "metadata": {},
   "outputs": [
    {
     "data": {
      "text/plain": [
       "0.8366013071895424"
      ]
     },
     "execution_count": 2,
     "metadata": {},
     "output_type": "execute_result"
    }
   ],
   "source": [
    "-16/17+16/9"
   ]
  },
  {
   "cell_type": "markdown",
   "metadata": {},
   "source": [
    "* denominador"
   ]
  },
  {
   "cell_type": "code",
   "execution_count": 3,
   "metadata": {},
   "outputs": [
    {
     "data": {
      "text/plain": [
       "2.673202614379085"
      ]
     },
     "execution_count": 3,
     "metadata": {},
     "output_type": "execute_result"
    }
   ],
   "source": [
    "1+(-16/17)*(-16/9)"
   ]
  },
  {
   "cell_type": "markdown",
   "metadata": {},
   "source": [
    "* división"
   ]
  },
  {
   "cell_type": "code",
   "execution_count": 4,
   "metadata": {},
   "outputs": [
    {
     "data": {
      "text/plain": [
       "0.31295843520782396"
      ]
     },
     "execution_count": 4,
     "metadata": {},
     "output_type": "execute_result"
    }
   ],
   "source": [
    "0.8366013071895424/2.673202614379085"
   ]
  },
  {
   "cell_type": "markdown",
   "metadata": {},
   "source": [
    "* lo metemos en la tangente inversa"
   ]
  },
  {
   "cell_type": "code",
   "execution_count": 5,
   "metadata": {},
   "outputs": [
    {
     "data": {
      "text/plain": [
       "17.377951046137117"
      ]
     },
     "execution_count": 5,
     "metadata": {},
     "output_type": "execute_result"
    }
   ],
   "source": [
    "atand(0.31295843520782396)"
   ]
  },
  {
   "cell_type": "markdown",
   "metadata": {},
   "source": [
    "$$ B\\approx17.38^\\circ $$"
   ]
  },
  {
   "cell_type": "markdown",
   "metadata": {},
   "source": [
    "* **Ángulo $C$ (es el ángulo que se forma entre los segmentos $\\overline{BC}$ y $\\overline{AC}$)**"
   ]
  },
  {
   "cell_type": "markdown",
   "metadata": {},
   "source": [
    "Como sabemos que la suma de los ángulos internos de cualquier triángulo debe ser $180^\\circ$, podemos despejar el ángulo que nos falta:"
   ]
  },
  {
   "cell_type": "markdown",
   "metadata": {},
   "source": [
    "$$ A+B+C=180^\\circ $$"
   ]
  },
  {
   "cell_type": "markdown",
   "metadata": {},
   "source": [
    "$$ C=180^\\circ-A-B $$"
   ]
  },
  {
   "cell_type": "code",
   "execution_count": 6,
   "metadata": {},
   "outputs": [
    {
     "data": {
      "text/plain": [
       "119.35775354279129"
      ]
     },
     "execution_count": 6,
     "metadata": {},
     "output_type": "execute_result"
    }
   ],
   "source": [
    "180-43.264295411071615-17.377951046137117"
   ]
  },
  {
   "cell_type": "markdown",
   "metadata": {},
   "source": [
    "$$ C\\approx119.36^\\circ $$"
   ]
  },
  {
   "cell_type": "markdown",
   "metadata": {},
   "source": [
    "También podemos obtenerlo con la fórmula:"
   ]
  },
  {
   "cell_type": "markdown",
   "metadata": {},
   "source": [
    "$$ \\tan^{-1}\\left[\\frac{(0)-\\left(-\\dfrac{16}{9}\\right)}{1+(0)\\left(-\\dfrac{16}{9}\\right)}\\right] $$"
   ]
  },
  {
   "cell_type": "markdown",
   "metadata": {},
   "source": [
    "$$ =\\tan^{-1}\\left(\\dfrac{16}{9}\\right) $$"
   ]
  },
  {
   "cell_type": "code",
   "execution_count": 5,
   "metadata": {},
   "outputs": [
    {
     "data": {
      "text/plain": [
       "60.64224645720873"
      ]
     },
     "execution_count": 5,
     "metadata": {},
     "output_type": "execute_result"
    }
   ],
   "source": [
    "atand(16/9)"
   ]
  },
  {
   "cell_type": "markdown",
   "metadata": {},
   "source": [
    "Pero como queremos que el ángulo sea obtuso:"
   ]
  },
  {
   "cell_type": "code",
   "execution_count": 7,
   "metadata": {},
   "outputs": [
    {
     "data": {
      "text/plain": [
       "119.35775354279127"
      ]
     },
     "execution_count": 7,
     "metadata": {},
     "output_type": "execute_result"
    }
   ],
   "source": [
    "180-60.64224645720873"
   ]
  },
  {
   "cell_type": "markdown",
   "metadata": {},
   "source": [
    "$$ C\\approx119.36^\\circ $$"
   ]
  },
  {
   "cell_type": "markdown",
   "metadata": {},
   "source": [
    "**Forma 3:**"
   ]
  },
  {
   "cell_type": "markdown",
   "metadata": {},
   "source": [
    "Ya conocemos todos los catetos. Como se trata de un triángulo oblicuángulo podemos usar ley de cosenos para encontrar cada ángulo."
   ]
  },
  {
   "cell_type": "markdown",
   "metadata": {},
   "source": [
    "<img src=\"triangulo_examen.png\" align=\"middle\" width=\"300\">"
   ]
  },
  {
   "cell_type": "markdown",
   "metadata": {},
   "source": [
    "Volvamos a usar la notación de que, al cateto opuesto a un ángulo le llamamos con la misma letra que ese ángulo pero minúscula."
   ]
  },
  {
   "cell_type": "markdown",
   "metadata": {},
   "source": [
    "* $\\overline{AB}=\\sqrt{545}=c$\n",
    "* $\\overline{BC}=\\sqrt{337}=a$\n",
    "* $\\overline{AC}=8=b$"
   ]
  },
  {
   "cell_type": "markdown",
   "metadata": {},
   "source": [
    "* **Ángulo $A$**"
   ]
  },
  {
   "cell_type": "markdown",
   "metadata": {},
   "source": [
    "$$ a^2=b^2+c^2-2bc\\,\\cos A $$"
   ]
  },
  {
   "cell_type": "markdown",
   "metadata": {},
   "source": [
    "Despejamos $A$:"
   ]
  },
  {
   "cell_type": "markdown",
   "metadata": {},
   "source": [
    "$$ A=\\cos^{-1}\\left(\\frac{b^2+c^2-a^2}{2bc}\\right)$$"
   ]
  },
  {
   "cell_type": "markdown",
   "metadata": {},
   "source": [
    "$$ =\\cos^{-1}\\left[\\frac{(8)^2+\\left(\\sqrt{545}\\right)^2-\\left(\\sqrt{337}\\right)^2}{2(8)\\left(\\sqrt{545}\\right)}\\right]$$"
   ]
  },
  {
   "cell_type": "markdown",
   "metadata": {},
   "source": [
    "Lo hacemos por partes:"
   ]
  },
  {
   "cell_type": "markdown",
   "metadata": {},
   "source": [
    "* numerador"
   ]
  },
  {
   "cell_type": "code",
   "execution_count": 8,
   "metadata": {},
   "outputs": [
    {
     "data": {
      "text/plain": [
       "272.0"
      ]
     },
     "execution_count": 8,
     "metadata": {},
     "output_type": "execute_result"
    }
   ],
   "source": [
    "8^2+(√545)^2-(√337)^2"
   ]
  },
  {
   "cell_type": "markdown",
   "metadata": {},
   "source": [
    "* denominador"
   ]
  },
  {
   "cell_type": "code",
   "execution_count": 9,
   "metadata": {},
   "outputs": [
    {
     "data": {
      "text/plain": [
       "373.52376095772007"
      ]
     },
     "execution_count": 9,
     "metadata": {},
     "output_type": "execute_result"
    }
   ],
   "source": [
    "2*(8)*(√545)"
   ]
  },
  {
   "cell_type": "markdown",
   "metadata": {},
   "source": [
    "* división"
   ]
  },
  {
   "cell_type": "code",
   "execution_count": 10,
   "metadata": {},
   "outputs": [
    {
     "data": {
      "text/plain": [
       "0.7281999926928029"
      ]
     },
     "execution_count": 10,
     "metadata": {},
     "output_type": "execute_result"
    }
   ],
   "source": [
    "272.0/373.52376095772007"
   ]
  },
  {
   "cell_type": "markdown",
   "metadata": {},
   "source": [
    "* lo metemos en el coseno inverso"
   ]
  },
  {
   "cell_type": "code",
   "execution_count": 11,
   "metadata": {},
   "outputs": [
    {
     "data": {
      "text/plain": [
       "43.26429541107161"
      ]
     },
     "execution_count": 11,
     "metadata": {},
     "output_type": "execute_result"
    }
   ],
   "source": [
    "acosd(0.7281999926928029)"
   ]
  },
  {
   "cell_type": "markdown",
   "metadata": {},
   "source": [
    "$$ A\\approx43.26^\\circ $$"
   ]
  },
  {
   "cell_type": "markdown",
   "metadata": {},
   "source": [
    "* **Ángulo $B$**"
   ]
  },
  {
   "cell_type": "markdown",
   "metadata": {},
   "source": [
    "$$ b^2=a^2+c^2-2ac\\,\\cos B $$"
   ]
  },
  {
   "cell_type": "markdown",
   "metadata": {},
   "source": [
    "Despejamos $B$:"
   ]
  },
  {
   "cell_type": "markdown",
   "metadata": {},
   "source": [
    "$$ B=\\cos^{-1}\\left(\\frac{a^2+c^2-b^2}{2ac}\\right)$$"
   ]
  },
  {
   "cell_type": "markdown",
   "metadata": {},
   "source": [
    "$$ =\\cos^{-1}\\left[\\frac{\\left(\\sqrt{337}\\right)^2+\\left(\\sqrt{545}\\right)^2-(8)^2}{2\\left(\\sqrt{337}\\right)\\left(\\sqrt{545}\\right)}\\right]$$"
   ]
  },
  {
   "cell_type": "markdown",
   "metadata": {},
   "source": [
    "Lo hacemos por partes:"
   ]
  },
  {
   "cell_type": "markdown",
   "metadata": {},
   "source": [
    "* numerador"
   ]
  },
  {
   "cell_type": "code",
   "execution_count": 12,
   "metadata": {},
   "outputs": [
    {
     "data": {
      "text/plain": [
       "818.0"
      ]
     },
     "execution_count": 12,
     "metadata": {},
     "output_type": "execute_result"
    }
   ],
   "source": [
    "(√337)^2+(√545)^2-8^2"
   ]
  },
  {
   "cell_type": "markdown",
   "metadata": {},
   "source": [
    "* denominador"
   ]
  },
  {
   "cell_type": "code",
   "execution_count": 13,
   "metadata": {},
   "outputs": [
    {
     "data": {
      "text/plain": [
       "857.1230950102791"
      ]
     },
     "execution_count": 13,
     "metadata": {},
     "output_type": "execute_result"
    }
   ],
   "source": [
    "2*(√337)*(√545)"
   ]
  },
  {
   "cell_type": "markdown",
   "metadata": {},
   "source": [
    "* división"
   ]
  },
  {
   "cell_type": "code",
   "execution_count": 14,
   "metadata": {},
   "outputs": [
    {
     "data": {
      "text/plain": [
       "0.9543553367794739"
      ]
     },
     "execution_count": 14,
     "metadata": {},
     "output_type": "execute_result"
    }
   ],
   "source": [
    "818.0/857.1230950102791"
   ]
  },
  {
   "cell_type": "markdown",
   "metadata": {},
   "source": [
    "* lo metemos en el coseno inverso"
   ]
  },
  {
   "cell_type": "code",
   "execution_count": 15,
   "metadata": {},
   "outputs": [
    {
     "data": {
      "text/plain": [
       "17.377951046137124"
      ]
     },
     "execution_count": 15,
     "metadata": {},
     "output_type": "execute_result"
    }
   ],
   "source": [
    "acosd(0.9543553367794739)"
   ]
  },
  {
   "cell_type": "markdown",
   "metadata": {},
   "source": [
    "$$ B\\approx17.38^\\circ $$"
   ]
  },
  {
   "cell_type": "markdown",
   "metadata": {},
   "source": [
    "* **Ángulo $C$**"
   ]
  },
  {
   "cell_type": "markdown",
   "metadata": {},
   "source": [
    "$$ c^2=a^2+b^2-2ab\\,\\cos C $$"
   ]
  },
  {
   "cell_type": "markdown",
   "metadata": {},
   "source": [
    "Despejamos $C$:"
   ]
  },
  {
   "cell_type": "markdown",
   "metadata": {},
   "source": [
    "$$ C=\\cos^{-1}\\left(\\frac{a^2+b^2-c^2}{2ab}\\right)$$"
   ]
  },
  {
   "cell_type": "markdown",
   "metadata": {},
   "source": [
    "$$ =\\cos^{-1}\\left[\\frac{\\left(\\sqrt{337}\\right)^2+(8)^2-\\left(\\sqrt{545}\\right)^2}{2\\left(\\sqrt{337}\\right)(8)}\\right]$$"
   ]
  },
  {
   "cell_type": "markdown",
   "metadata": {},
   "source": [
    "Lo hacemos por partes:"
   ]
  },
  {
   "cell_type": "markdown",
   "metadata": {},
   "source": [
    "* numerador"
   ]
  },
  {
   "cell_type": "code",
   "execution_count": 16,
   "metadata": {},
   "outputs": [
    {
     "data": {
      "text/plain": [
       "-144.0"
      ]
     },
     "execution_count": 16,
     "metadata": {},
     "output_type": "execute_result"
    }
   ],
   "source": [
    "(√337)^2+8^2-(√545)^2"
   ]
  },
  {
   "cell_type": "markdown",
   "metadata": {},
   "source": [
    "* denominador"
   ]
  },
  {
   "cell_type": "code",
   "execution_count": 17,
   "metadata": {},
   "outputs": [
    {
     "data": {
      "text/plain": [
       "293.7209560109731"
      ]
     },
     "execution_count": 17,
     "metadata": {},
     "output_type": "execute_result"
    }
   ],
   "source": [
    "2*(√337)*(8)"
   ]
  },
  {
   "cell_type": "markdown",
   "metadata": {},
   "source": [
    "* división"
   ]
  },
  {
   "cell_type": "code",
   "execution_count": 18,
   "metadata": {},
   "outputs": [
    {
     "data": {
      "text/plain": [
       "-0.49026123963255896"
      ]
     },
     "execution_count": 18,
     "metadata": {},
     "output_type": "execute_result"
    }
   ],
   "source": [
    "-144.0/293.7209560109731"
   ]
  },
  {
   "cell_type": "markdown",
   "metadata": {},
   "source": [
    "* lo metemos en el coseno inverso"
   ]
  },
  {
   "cell_type": "code",
   "execution_count": 20,
   "metadata": {},
   "outputs": [
    {
     "data": {
      "text/plain": [
       "119.35775354279127"
      ]
     },
     "execution_count": 20,
     "metadata": {},
     "output_type": "execute_result"
    }
   ],
   "source": [
    "acosd(-0.49026123963255896)"
   ]
  },
  {
   "cell_type": "markdown",
   "metadata": {},
   "source": [
    "$$ C\\approx119.36^\\circ $$"
   ]
  },
  {
   "cell_type": "markdown",
   "metadata": {},
   "source": [
    "**¡Listo!**"
   ]
  },
  {
   "cell_type": "markdown",
   "metadata": {},
   "source": [
    "A) $A=17.38^\\circ$, $B=43.26^\\circ$, $C=119.36^\\circ$ \n",
    "\n",
    "B) $A=43.26^\\circ$, $B=17.38^\\circ$, $C=119.36^\\circ$\n",
    "\n",
    "C) $A=43.27^\\circ$, $B=76.09^\\circ$, $C=60.64^\\circ$\n",
    "\n",
    "D) $A=43.27^\\circ$, $B=60.64^\\circ$, $C=76.09^\\circ$"
   ]
  },
  {
   "cell_type": "markdown",
   "metadata": {},
   "source": [
    "**Solución:** B)"
   ]
  },
  {
   "cell_type": "markdown",
   "metadata": {},
   "source": [
    "**8. Recordemos que la mediana de un triángulo es la recta que va del vértice al punto medio del cateto opuesto. El punto donde se cruzan las tres medianas de un triángulo se conoce como baricentro. ¿Cuáles son las coordenadas del baricentro de este triángulo?**"
   ]
  },
  {
   "cell_type": "markdown",
   "metadata": {},
   "source": [
    "Como tenemos que obtener puntos medios usamos las fórmulas.\n",
    "\n",
    "**Ojo:** sólo es necesario obtener dos puntos medios porque sólo necesitamos encontrar dos rectas para ver dónde se intersectan."
   ]
  },
  {
   "cell_type": "markdown",
   "metadata": {},
   "source": [
    "* **Punto medio del segmento $\\overline{AB}$**"
   ]
  },
  {
   "cell_type": "markdown",
   "metadata": {},
   "source": [
    "$$ x=\\frac{(-8)+(9)}{2}=\\frac{1}{2} $$"
   ]
  },
  {
   "cell_type": "markdown",
   "metadata": {},
   "source": [
    "$$ y=\\frac{(7)+(-9)}{2}=\\frac{-2}{2}=-1 $$"
   ]
  },
  {
   "cell_type": "markdown",
   "metadata": {},
   "source": [
    "Las coordenadas del punto medio del segmento $\\overline{AB}$ son $\\left(\\dfrac{1}{2},-1\\right)$."
   ]
  },
  {
   "cell_type": "markdown",
   "metadata": {},
   "source": [
    "* **Ecuación de la recta (mediana) que pasa por el vértice $C$ y por el punto medio del segmento de $\\overline{AB}$**"
   ]
  },
  {
   "cell_type": "markdown",
   "metadata": {},
   "source": [
    "$$ m=\\frac{(-1)-(7)}{\\left(\\dfrac{1}{2}\\right)-(0)} $$"
   ]
  },
  {
   "cell_type": "markdown",
   "metadata": {},
   "source": [
    "$$ =\\frac{-8}{\\frac{1}{2}} $$"
   ]
  },
  {
   "cell_type": "markdown",
   "metadata": {},
   "source": [
    "$$ =-16 $$"
   ]
  },
  {
   "cell_type": "markdown",
   "metadata": {},
   "source": [
    "Esperamos que la ecuación sea de la forma:"
   ]
  },
  {
   "cell_type": "markdown",
   "metadata": {},
   "source": [
    "$$ y=mx+b $$"
   ]
  },
  {
   "cell_type": "markdown",
   "metadata": {},
   "source": [
    "Sustituimos la pendiente:"
   ]
  },
  {
   "cell_type": "markdown",
   "metadata": {},
   "source": [
    "$$ y=-16x+b $$"
   ]
  },
  {
   "cell_type": "markdown",
   "metadata": {},
   "source": [
    "Despejamos $b$:"
   ]
  },
  {
   "cell_type": "markdown",
   "metadata": {},
   "source": [
    "$$ b=y+16x $$"
   ]
  },
  {
   "cell_type": "markdown",
   "metadata": {},
   "source": [
    "Sustituimos uno de los dos puntos, por ejemplo $C(0,7)$:"
   ]
  },
  {
   "cell_type": "markdown",
   "metadata": {},
   "source": [
    "$$ b=(7)+16(0)=7 $$"
   ]
  },
  {
   "cell_type": "markdown",
   "metadata": {},
   "source": [
    "Entonces la ecuación de la recta tiene la forma"
   ]
  },
  {
   "cell_type": "markdown",
   "metadata": {},
   "source": [
    "$$ y=-16x+7 $$"
   ]
  },
  {
   "cell_type": "markdown",
   "metadata": {},
   "source": [
    "* **Punto medio del segmento $\\overline{BC}$**"
   ]
  },
  {
   "cell_type": "markdown",
   "metadata": {},
   "source": [
    "$$ x=\\frac{(9)+(0)}{2}=\\frac{9}{2} $$"
   ]
  },
  {
   "cell_type": "markdown",
   "metadata": {},
   "source": [
    "$$ y=\\frac{(-9)+(7)}{2}=\\frac{-2}{2}=-1 $$"
   ]
  },
  {
   "cell_type": "markdown",
   "metadata": {},
   "source": [
    "Las coordenadas del punto medio del segmento $\\overline{BC}$ son $\\left(\\dfrac{9}{2},-1\\right)$."
   ]
  },
  {
   "cell_type": "markdown",
   "metadata": {},
   "source": [
    "* **Ecuación de la recta (mediana) que pasa por el vértice $A$ y por el punto medio del segmento de $\\overline{BC}$**"
   ]
  },
  {
   "cell_type": "markdown",
   "metadata": {},
   "source": [
    "$$ m=\\frac{(-1)-(7)}{\\left(\\dfrac{9}{2}\\right)-(-8)} $$"
   ]
  },
  {
   "cell_type": "markdown",
   "metadata": {},
   "source": [
    "$$ =\\frac{-8}{\\frac{9}{2}+\\frac{16}{2}} $$"
   ]
  },
  {
   "cell_type": "markdown",
   "metadata": {},
   "source": [
    "$$ =\\frac{-8}{\\frac{25}{2}} $$"
   ]
  },
  {
   "cell_type": "markdown",
   "metadata": {},
   "source": [
    "$$ =-\\frac{16}{25} $$"
   ]
  },
  {
   "cell_type": "markdown",
   "metadata": {},
   "source": [
    "Esperamos que la ecuación sea de la forma:"
   ]
  },
  {
   "cell_type": "markdown",
   "metadata": {},
   "source": [
    "$$ y=mx+b $$"
   ]
  },
  {
   "cell_type": "markdown",
   "metadata": {},
   "source": [
    "Sustituimos la pendiente:"
   ]
  },
  {
   "cell_type": "markdown",
   "metadata": {},
   "source": [
    "$$ y=-\\frac{16}{25}x+b $$"
   ]
  },
  {
   "cell_type": "markdown",
   "metadata": {},
   "source": [
    "Despejamos $b$:"
   ]
  },
  {
   "cell_type": "markdown",
   "metadata": {},
   "source": [
    "$$ b=y+\\frac{16}{25}x $$"
   ]
  },
  {
   "cell_type": "markdown",
   "metadata": {},
   "source": [
    "Sustituimos uno de los dos puntos, por ejemplo $A(-8,7)$:"
   ]
  },
  {
   "cell_type": "markdown",
   "metadata": {},
   "source": [
    "$$ b=(7)+\\frac{16}{25}(-8) $$"
   ]
  },
  {
   "cell_type": "markdown",
   "metadata": {},
   "source": [
    "$$ =\\frac{175}{25}-\\frac{128}{25} $$"
   ]
  },
  {
   "cell_type": "markdown",
   "metadata": {},
   "source": [
    "$$ =\\frac{47}{25} $$"
   ]
  },
  {
   "cell_type": "markdown",
   "metadata": {},
   "source": [
    "Entonces la ecuación de la recta tiene la forma"
   ]
  },
  {
   "cell_type": "markdown",
   "metadata": {},
   "source": [
    "$$ y=-\\frac{16}{25}\\ x+\\frac{47}{25} $$"
   ]
  },
  {
   "cell_type": "markdown",
   "metadata": {},
   "source": [
    "En la imagen se ve que todo lo calculamos bien."
   ]
  },
  {
   "cell_type": "markdown",
   "metadata": {},
   "source": [
    "<img src=\"triangulo_medianas.png\" align=\"middle\" width=\"800\">"
   ]
  },
  {
   "cell_type": "markdown",
   "metadata": {},
   "source": [
    "* **Sistema de ecuaciones**"
   ]
  },
  {
   "cell_type": "markdown",
   "metadata": {},
   "source": [
    "Obtuvimos las ecuaciones"
   ]
  },
  {
   "cell_type": "markdown",
   "metadata": {},
   "source": [
    "$$ y=-16x+7 $$"
   ]
  },
  {
   "cell_type": "markdown",
   "metadata": {},
   "source": [
    "$$ y=-\\frac{16}{25}\\ x+\\frac{47}{25} $$"
   ]
  },
  {
   "cell_type": "markdown",
   "metadata": {},
   "source": [
    "Para la primera ecuación vamos a pasar todas las variables para el mismo lado:"
   ]
  },
  {
   "cell_type": "markdown",
   "metadata": {},
   "source": [
    "$$ 16x+y=7 $$"
   ]
  },
  {
   "cell_type": "markdown",
   "metadata": {},
   "source": [
    "Para la segunda ecuación vamos a pasar todas las variables para el mismo lado:"
   ]
  },
  {
   "cell_type": "markdown",
   "metadata": {},
   "source": [
    "$$ \\frac{16}{25}\\ x+y=\\frac{47}{25} $$"
   ]
  },
  {
   "cell_type": "markdown",
   "metadata": {},
   "source": [
    "y, además, nos desharemos del $25$ del denominador (es más difícil trabajar con fracciones). Para hacer esto multiplicamos toda la ecuación por $25$:"
   ]
  },
  {
   "cell_type": "markdown",
   "metadata": {},
   "source": [
    "$$ 16x+25y=47 $$"
   ]
  },
  {
   "cell_type": "markdown",
   "metadata": {},
   "source": [
    "Entonces tenemos el sistema de ecuaciones"
   ]
  },
  {
   "cell_type": "markdown",
   "metadata": {},
   "source": [
    "$$\n",
    "\\begin{cases}\n",
    "16x+y=7\\\\\n",
    "16x+25y=47\n",
    "\\end{cases}\n",
    "$$"
   ]
  },
  {
   "cell_type": "markdown",
   "metadata": {},
   "source": [
    "Resolvemos mediante la regla de Cramer (determinantes):"
   ]
  },
  {
   "cell_type": "markdown",
   "metadata": {},
   "source": [
    "\\begin{equation}\n",
    "\\Delta=\n",
    "\\begin{pmatrix}\n",
    "16 & 1\\\\\n",
    "16 & 25\n",
    "\\end{pmatrix}\n",
    "\\end{equation}"
   ]
  },
  {
   "cell_type": "markdown",
   "metadata": {},
   "source": [
    "$$=+(16)(25)-(16)(1)=384$$"
   ]
  },
  {
   "cell_type": "markdown",
   "metadata": {},
   "source": [
    "\\begin{equation}\n",
    "\\Delta_x=\n",
    "\\begin{pmatrix}\n",
    "7 & 1\\\\\n",
    "47 & 25\n",
    "\\end{pmatrix}\n",
    "\\end{equation}"
   ]
  },
  {
   "cell_type": "markdown",
   "metadata": {},
   "source": [
    "$$=+(7)(25)-(47)(1)=128$$"
   ]
  },
  {
   "cell_type": "markdown",
   "metadata": {},
   "source": [
    "\\begin{equation}\n",
    "\\Delta_y=\n",
    "\\begin{pmatrix}\n",
    "16 & 7\\\\\n",
    "16 & 47\n",
    "\\end{pmatrix}\n",
    "\\end{equation}"
   ]
  },
  {
   "cell_type": "markdown",
   "metadata": {},
   "source": [
    "$$=+(16)(47)-(16)(7)=640$$"
   ]
  },
  {
   "cell_type": "markdown",
   "metadata": {},
   "source": [
    "Entonces, las soluciones son:"
   ]
  },
  {
   "cell_type": "markdown",
   "metadata": {},
   "source": [
    "$$ x=\\frac{\\Delta_x}{\\Delta}=\\frac{128}{384}=\\frac{1}{3} $$"
   ]
  },
  {
   "cell_type": "markdown",
   "metadata": {},
   "source": [
    "$$ y=\\frac{\\Delta_y}{\\Delta}=\\frac{640}{384}=\\frac{5}{3} $$"
   ]
  },
  {
   "cell_type": "markdown",
   "metadata": {},
   "source": [
    "$(x,y)=\\left(\\dfrac{1}{3},\\dfrac{5}{3}\\right)$ son la solución del sistema de ecuaciones, es decir, las coordenadas donde las ecuaciones de las medianas se intersectan."
   ]
  },
  {
   "cell_type": "markdown",
   "metadata": {},
   "source": [
    "A) $\\left(-\\dfrac{1}{3},\\dfrac{2}{3}\\right)$\n",
    "\n",
    "B) $\\left(\\dfrac{1}{3},\\dfrac{5}{3}\\right)$\n",
    "\n",
    "C) $\\left(-\\dfrac{16}{25},-\\dfrac{16}{13}\\right)$\n",
    "\n",
    "D) $\\left(\\dfrac{47}{25},\\dfrac{27}{13}\\right)$"
   ]
  },
  {
   "cell_type": "markdown",
   "metadata": {},
   "source": [
    "**Solución:** B)"
   ]
  },
  {
   "cell_type": "markdown",
   "metadata": {},
   "source": [
    "Finalmente agrego la gŕafica de `Desmos` para que vean que son las coordenadas correctas:"
   ]
  },
  {
   "cell_type": "markdown",
   "metadata": {},
   "source": [
    "<img src=\"triangulo_baricentro.png\" align=\"middle\" width=\"1000\">"
   ]
  },
  {
   "cell_type": "markdown",
   "metadata": {},
   "source": [
    "**9. Recordemos que la altura del triángulo es la recta perpendicular a un segmento y que pasa por el vértice opuesto. ¿Cuál es la recta que coincide con la altura que pasa por el vértice $C$?**"
   ]
  },
  {
   "cell_type": "markdown",
   "metadata": {},
   "source": [
    "Nos piden una recta perpendicular al cateto opuesto a $C$. Este cateto es el segmento $\\overline{AB}$, que ya sabemos que tiene pendiente $m=-\\dfrac{16}{17}$."
   ]
  },
  {
   "cell_type": "markdown",
   "metadata": {},
   "source": [
    "También sabemos que la pendiente perpendicular tiene que ser voltear la fracción y cambiar el signo, es decir,"
   ]
  },
  {
   "cell_type": "markdown",
   "metadata": {},
   "source": [
    "$$ +\\dfrac{17}{16} $$"
   ]
  },
  {
   "cell_type": "markdown",
   "metadata": {},
   "source": [
    "Entonces, la pendiente de nuestra recta es $m^\\prime=\\dfrac{17}{16}$."
   ]
  },
  {
   "cell_type": "markdown",
   "metadata": {},
   "source": [
    "Si esto no queda tan claro pueden pensarlo con la fórmula"
   ]
  },
  {
   "cell_type": "markdown",
   "metadata": {},
   "source": [
    "$$ mm^\\prime=-1 $$"
   ]
  },
  {
   "cell_type": "markdown",
   "metadata": {},
   "source": [
    "Es esta despejamos la nueva pendiente y sustituimos la pendiente original."
   ]
  },
  {
   "cell_type": "markdown",
   "metadata": {},
   "source": [
    "Esperamos que la ecuación de la recta perpendicular a la anterior tenga la forma:"
   ]
  },
  {
   "cell_type": "markdown",
   "metadata": {},
   "source": [
    "$$ y=m^\\prime x+b^\\prime $$"
   ]
  },
  {
   "cell_type": "markdown",
   "metadata": {},
   "source": [
    "Sustituimos la pendiente:"
   ]
  },
  {
   "cell_type": "markdown",
   "metadata": {},
   "source": [
    "$$ y=\\dfrac{17}{16}x+b^\\prime $$"
   ]
  },
  {
   "cell_type": "markdown",
   "metadata": {},
   "source": [
    "Despejamos $b^\\prime$:"
   ]
  },
  {
   "cell_type": "markdown",
   "metadata": {},
   "source": [
    "$$ b^\\prime=y-\\dfrac{17}{16}x $$"
   ]
  },
  {
   "cell_type": "markdown",
   "metadata": {},
   "source": [
    "Sustituimos las coordenadas del vértice $C(0,7)$:"
   ]
  },
  {
   "cell_type": "markdown",
   "metadata": {},
   "source": [
    "$$ b^\\prime=(7)-\\dfrac{17}{16}(0)=7 $$"
   ]
  },
  {
   "cell_type": "markdown",
   "metadata": {},
   "source": [
    "Entonces, la ecuación de la recta perpendicular en su forma ordenada-pendiente es:"
   ]
  },
  {
   "cell_type": "markdown",
   "metadata": {},
   "source": [
    "$$ y=\\dfrac{17}{16}x+7 $$"
   ]
  },
  {
   "cell_type": "markdown",
   "metadata": {},
   "source": [
    "A) $y=\\dfrac{17}{16}x+7$\n",
    "\n",
    "B) $y=\\dfrac{17}{16}x-9$\n",
    "\n",
    "C) $y=\\dfrac{9}{16}x+7$\n",
    "\n",
    "D) $y=\\dfrac{9}{16}x-9$"
   ]
  },
  {
   "cell_type": "markdown",
   "metadata": {},
   "source": [
    "**Solución:** A)"
   ]
  },
  {
   "cell_type": "markdown",
   "metadata": {},
   "source": [
    "Finalmente agrego la gŕafica de `Desmos` para que vean que efectivamente es la recta correcta:"
   ]
  },
  {
   "cell_type": "markdown",
   "metadata": {},
   "source": [
    "<img src=\"triangulo_altura.png\" align=\"middle\" width=\"1000\">"
   ]
  },
  {
   "cell_type": "markdown",
   "metadata": {},
   "source": [
    "**10. ¿Cuáles son las coordenadas de la intersección de la recta del ejercicio anterior con la recta que coincide con el segmento $\\overline{AB}$?**"
   ]
  },
  {
   "cell_type": "markdown",
   "metadata": {},
   "source": [
    "Necesitamos encontrar la ecuación de la recta que pasa por el segmento $\\overline{AB}$. Ya tenemos la pendiente."
   ]
  },
  {
   "cell_type": "markdown",
   "metadata": {},
   "source": [
    "Esperamos que la ecuación de la recta tenga la forma:"
   ]
  },
  {
   "cell_type": "markdown",
   "metadata": {},
   "source": [
    "$$ y=mx+b $$"
   ]
  },
  {
   "cell_type": "markdown",
   "metadata": {},
   "source": [
    "Sustituimos la pendiente:"
   ]
  },
  {
   "cell_type": "markdown",
   "metadata": {},
   "source": [
    "$$ y=-\\dfrac{16}{17}x+b^\\prime $$"
   ]
  },
  {
   "cell_type": "markdown",
   "metadata": {},
   "source": [
    "Despejamos $b$:"
   ]
  },
  {
   "cell_type": "markdown",
   "metadata": {},
   "source": [
    "$$ b=y+\\dfrac{16}{17}x $$"
   ]
  },
  {
   "cell_type": "markdown",
   "metadata": {},
   "source": [
    "Sustituimos las coordenadas de alguno de los dos vértices ($A$ ó $B$), por ejemplo $A(-8,7)$:"
   ]
  },
  {
   "cell_type": "markdown",
   "metadata": {},
   "source": [
    "$$ b=(7)+\\dfrac{16}{17}(-8) $$"
   ]
  },
  {
   "cell_type": "markdown",
   "metadata": {},
   "source": [
    "$$ =\\frac{119}{17}-\\dfrac{128}{17} $$"
   ]
  },
  {
   "cell_type": "markdown",
   "metadata": {},
   "source": [
    "$$ =-\\frac{9}{17} $$"
   ]
  },
  {
   "cell_type": "markdown",
   "metadata": {},
   "source": [
    "Entonces, la ecuación de la recta perpendicular en su forma ordenada-pendiente es:"
   ]
  },
  {
   "cell_type": "markdown",
   "metadata": {},
   "source": [
    "$$ y=-\\frac{16}{17}x-\\frac{9}{17} $$"
   ]
  },
  {
   "cell_type": "markdown",
   "metadata": {},
   "source": [
    "* **Sistema de ecuaciones**"
   ]
  },
  {
   "cell_type": "markdown",
   "metadata": {},
   "source": [
    "Obtuvimos las ecuaciones"
   ]
  },
  {
   "cell_type": "markdown",
   "metadata": {},
   "source": [
    "$$ y=\\dfrac{17}{16}x+7 $$"
   ]
  },
  {
   "cell_type": "markdown",
   "metadata": {},
   "source": [
    "$$ y=-\\frac{16}{17}x-\\frac{9}{17} $$"
   ]
  },
  {
   "cell_type": "markdown",
   "metadata": {},
   "source": [
    "Para la segunda ecuación vamos a pasar todas las variables para el mismo lado:"
   ]
  },
  {
   "cell_type": "markdown",
   "metadata": {},
   "source": [
    "$$ -\\dfrac{17}{16}x+y=7 $$"
   ]
  },
  {
   "cell_type": "markdown",
   "metadata": {},
   "source": [
    "y, además, nos desharemos del $16$ del denominador (es más difícil trabajar con fracciones). Para hacer esto multiplicamos toda la ecuación por $16$:"
   ]
  },
  {
   "cell_type": "markdown",
   "metadata": {},
   "source": [
    "$$ -17x+16y=112 $$"
   ]
  },
  {
   "cell_type": "markdown",
   "metadata": {},
   "source": [
    "Para la segunda ecuación vamos a pasar todas las variables para el mismo lado:"
   ]
  },
  {
   "cell_type": "markdown",
   "metadata": {},
   "source": [
    "$$ \\frac{16}{17}x+y=-\\frac{9}{17} $$"
   ]
  },
  {
   "cell_type": "markdown",
   "metadata": {},
   "source": [
    "y, además, nos desharemos del $17$ del denominador (es más difícil trabajar con fracciones). Para hacer esto multiplicamos toda la ecuación por $17$:"
   ]
  },
  {
   "cell_type": "markdown",
   "metadata": {},
   "source": [
    "$$ 16x+17y=-9 $$"
   ]
  },
  {
   "cell_type": "markdown",
   "metadata": {},
   "source": [
    "Entonces tenemos el sistema de ecuaciones"
   ]
  },
  {
   "cell_type": "markdown",
   "metadata": {},
   "source": [
    "$$\n",
    "\\begin{cases}\n",
    "-17x+16y=112\\\\\n",
    "16x+17y=-9\n",
    "\\end{cases}\n",
    "$$"
   ]
  },
  {
   "cell_type": "markdown",
   "metadata": {},
   "source": [
    "Resolvemos mediante la regla de Cramer (determinantes):"
   ]
  },
  {
   "cell_type": "markdown",
   "metadata": {},
   "source": [
    "\\begin{equation}\n",
    "\\Delta=\n",
    "\\begin{pmatrix}\n",
    "-17 & 16\\\\\n",
    "16 & 17\n",
    "\\end{pmatrix}\n",
    "\\end{equation}"
   ]
  },
  {
   "cell_type": "markdown",
   "metadata": {},
   "source": [
    "$$=+(-17)(17)-(16)(16)$$"
   ]
  },
  {
   "cell_type": "code",
   "execution_count": 21,
   "metadata": {},
   "outputs": [
    {
     "data": {
      "text/plain": [
       "-545"
      ]
     },
     "execution_count": 21,
     "metadata": {},
     "output_type": "execute_result"
    }
   ],
   "source": [
    "(-17)*(17)-(16)*(16)"
   ]
  },
  {
   "cell_type": "markdown",
   "metadata": {},
   "source": [
    "$$ \\Delta=-545 $$"
   ]
  },
  {
   "cell_type": "markdown",
   "metadata": {},
   "source": [
    "\\begin{equation}\n",
    "\\Delta_x=\n",
    "\\begin{pmatrix}\n",
    "112 & 16\\\\\n",
    "-9 & 17\n",
    "\\end{pmatrix}\n",
    "\\end{equation}"
   ]
  },
  {
   "cell_type": "markdown",
   "metadata": {},
   "source": [
    "$$=+(112)(17)-(-9)(16)$$"
   ]
  },
  {
   "cell_type": "code",
   "execution_count": 22,
   "metadata": {},
   "outputs": [
    {
     "data": {
      "text/plain": [
       "2048"
      ]
     },
     "execution_count": 22,
     "metadata": {},
     "output_type": "execute_result"
    }
   ],
   "source": [
    "(112)*(17)-(-9)*(16)"
   ]
  },
  {
   "cell_type": "markdown",
   "metadata": {},
   "source": [
    "$$ \\Delta_x=2048 $$"
   ]
  },
  {
   "cell_type": "markdown",
   "metadata": {},
   "source": [
    "\\begin{equation}\n",
    "\\Delta_y=\n",
    "\\begin{pmatrix}\n",
    "-17 & 112\\\\\n",
    "16 & -9\n",
    "\\end{pmatrix}\n",
    "\\end{equation}"
   ]
  },
  {
   "cell_type": "markdown",
   "metadata": {},
   "source": [
    "$$=+(-17)(-9)-(16)(112)$$"
   ]
  },
  {
   "cell_type": "code",
   "execution_count": 23,
   "metadata": {},
   "outputs": [
    {
     "data": {
      "text/plain": [
       "-1639"
      ]
     },
     "execution_count": 23,
     "metadata": {},
     "output_type": "execute_result"
    }
   ],
   "source": [
    "(-17)*(-9)-(16)*(112)"
   ]
  },
  {
   "cell_type": "markdown",
   "metadata": {},
   "source": [
    "$$ \\Delta_y=-1639 $$"
   ]
  },
  {
   "cell_type": "markdown",
   "metadata": {},
   "source": [
    "Entonces, las soluciones son:"
   ]
  },
  {
   "cell_type": "markdown",
   "metadata": {},
   "source": [
    "$$ x=\\frac{\\Delta_x}{\\Delta}=\\frac{2048}{-545}=-\\frac{2048}{545} $$"
   ]
  },
  {
   "cell_type": "markdown",
   "metadata": {},
   "source": [
    "$$ y=\\frac{\\Delta_y}{\\Delta}=\\frac{-1639}{-545}=\\frac{1639}{545} $$"
   ]
  },
  {
   "cell_type": "markdown",
   "metadata": {},
   "source": [
    "$(x,y)=\\left(-\\frac{2048}{545},\\frac{1639}{545}\\right)$ son la solución del sistema de ecuaciones, es decir, las coordenadas donde las ecuaciones de las medianas se intersectan."
   ]
  },
  {
   "cell_type": "markdown",
   "metadata": {},
   "source": [
    "A) $\\left(-\\dfrac{483}{946},\\dfrac{1949}{946}\\right)$\n",
    "\n",
    "B) $\\left(\\dfrac{315}{1988},\\dfrac{413}{1988}\\right)$\n",
    "\n",
    "C) $\\left(-\\dfrac{2048}{545},\\dfrac{1639}{545}\\right)$\n",
    "\n",
    "D) $\\left(-\\dfrac{1748}{1018},-\\dfrac{1108}{1018}\\right)$"
   ]
  },
  {
   "cell_type": "markdown",
   "metadata": {},
   "source": [
    "**Solución:** C)"
   ]
  },
  {
   "cell_type": "markdown",
   "metadata": {},
   "source": [
    "Finalmente agrego la gŕafica de `Desmos` para que vean que efectivamente son las coordenadas correctas:"
   ]
  },
  {
   "cell_type": "markdown",
   "metadata": {},
   "source": [
    "<img src=\"triangulo_altura_interseccion.png\" align=\"middle\" width=\"1000\">"
   ]
  },
  {
   "cell_type": "markdown",
   "metadata": {},
   "source": [
    "**11. Calcula el área del triángulo en unidades cuadradas.**"
   ]
  },
  {
   "cell_type": "markdown",
   "metadata": {},
   "source": [
    "* **Forma 1:**"
   ]
  },
  {
   "cell_type": "markdown",
   "metadata": {},
   "source": [
    "<img src=\"area1.png\" align=\"middle\" width=\"400\">"
   ]
  },
  {
   "cell_type": "markdown",
   "metadata": {},
   "source": [
    "Al punto del ejercicio anterior le llamamos $D\\left(-\\frac{2048}{545},\\frac{1639}{545}\\right)$."
   ]
  },
  {
   "cell_type": "markdown",
   "metadata": {},
   "source": [
    "Recordemos que el área de un triángulo es"
   ]
  },
  {
   "cell_type": "markdown",
   "metadata": {},
   "source": [
    "$$ A=\\frac{\\rm{base}\\cdot\\rm{altura}}{2} $$"
   ]
  },
  {
   "cell_type": "markdown",
   "metadata": {},
   "source": [
    "Así como está dibujado el triángulo, la base es la longitud del segmento $\\overline{AB}$, o sea,"
   ]
  },
  {
   "cell_type": "markdown",
   "metadata": {},
   "source": [
    "$$ \\rm{base}=\\sqrt{545} $$"
   ]
  },
  {
   "cell_type": "markdown",
   "metadata": {},
   "source": [
    "La altura es la longitud del segmento $\\overline{CD}$, o sea,"
   ]
  },
  {
   "cell_type": "markdown",
   "metadata": {},
   "source": [
    "$$ \\overline{CD}=\\sqrt{(x_1-x_2)^2+(y_1-y_2)^2} $$"
   ]
  },
  {
   "cell_type": "markdown",
   "metadata": {},
   "source": [
    "$$ =\\sqrt{\\left[\\left(-\\frac{2048}{545}\\right)-(0)\\right]^2+\\left[\\left(\\frac{1639}{545}\\right)-(7)\\right]^2} $$"
   ]
  },
  {
   "cell_type": "code",
   "execution_count": 24,
   "metadata": {},
   "outputs": [
    {
     "data": {
      "text/plain": [
       "5.482917592039928"
      ]
     },
     "execution_count": 24,
     "metadata": {},
     "output_type": "execute_result"
    }
   ],
   "source": [
    "√((-2048/545)^2+(1639/545-7)^2)"
   ]
  },
  {
   "cell_type": "markdown",
   "metadata": {},
   "source": [
    "$$ \\rm{altura}\\approx5.48 $$"
   ]
  },
  {
   "cell_type": "markdown",
   "metadata": {},
   "source": [
    "Entonces, el área es"
   ]
  },
  {
   "cell_type": "code",
   "execution_count": 25,
   "metadata": {},
   "outputs": [
    {
     "data": {
      "text/plain": [
       "64.0"
      ]
     },
     "execution_count": 25,
     "metadata": {},
     "output_type": "execute_result"
    }
   ],
   "source": [
    "(5.482917592039928)*(√545)/2"
   ]
  },
  {
   "cell_type": "markdown",
   "metadata": {},
   "source": [
    "$$ A=64\\ \\rm{unidades}^2 $$"
   ]
  },
  {
   "cell_type": "markdown",
   "metadata": {},
   "source": [
    "* **Forma 2:**"
   ]
  },
  {
   "cell_type": "markdown",
   "metadata": {},
   "source": [
    "<img src=\"area2.png\" align=\"middle\" width=\"400\">"
   ]
  },
  {
   "cell_type": "markdown",
   "metadata": {},
   "source": [
    "Podemos obtener el área del romboide. Esto es lo mismo que el área de un rectángulo:"
   ]
  },
  {
   "cell_type": "markdown",
   "metadata": {},
   "source": [
    "$$ A=\\rm{base}\\cdot\\rm{altura} $$"
   ]
  },
  {
   "cell_type": "markdown",
   "metadata": {},
   "source": [
    "Del dibujo vemos que la base es"
   ]
  },
  {
   "cell_type": "markdown",
   "metadata": {},
   "source": [
    "$$ \\rm{base}= 8\\ \\rm{unidades} $$"
   ]
  },
  {
   "cell_type": "markdown",
   "metadata": {},
   "source": [
    "Del dibujo vemos que la altura es"
   ]
  },
  {
   "cell_type": "markdown",
   "metadata": {},
   "source": [
    "$$ \\rm{altura}= 16\\ \\rm{unidades} $$"
   ]
  },
  {
   "cell_type": "markdown",
   "metadata": {},
   "source": [
    "Entonces el área es"
   ]
  },
  {
   "cell_type": "markdown",
   "metadata": {},
   "source": [
    "$$ A=(8\\ \\rm{unidades})\\cdot(16\\ \\rm{unidades})=128\\ \\rm{unidades}^2 $$"
   ]
  },
  {
   "cell_type": "markdown",
   "metadata": {},
   "source": [
    "Pero el triángulo es la mitad del romboide. Entonces el área del triángulo es"
   ]
  },
  {
   "cell_type": "markdown",
   "metadata": {},
   "source": [
    "$$ 64\\ \\rm{unidades}^2 $$"
   ]
  },
  {
   "cell_type": "markdown",
   "metadata": {},
   "source": [
    "A) 128\n",
    "\n",
    "B) $\\dfrac{\\sqrt{183665}}{2}$\n",
    "\n",
    "C) $4\\sqrt{337}$\n",
    "\n",
    "D) 64"
   ]
  },
  {
   "cell_type": "markdown",
   "metadata": {},
   "source": [
    "**Solución:** D)"
   ]
  },
  {
   "cell_type": "markdown",
   "metadata": {},
   "source": [
    "Finalmente, les dejo la dirección electrónica de mi gráfica de `Desmos` para que jueguen:\n",
    "\n",
    "https://www.desmos.com/calculator/gkgtweuw7o"
   ]
  }
 ],
 "metadata": {
  "kernelspec": {
   "display_name": "Julia 1.1.0",
   "language": "julia",
   "name": "julia-1.1"
  },
  "language_info": {
   "file_extension": ".jl",
   "mimetype": "application/julia",
   "name": "julia",
   "version": "1.1.0"
  }
 },
 "nbformat": 4,
 "nbformat_minor": 4
}
