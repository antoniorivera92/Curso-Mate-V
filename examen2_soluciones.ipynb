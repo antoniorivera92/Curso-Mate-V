{
 "cells": [
  {
   "cell_type": "markdown",
   "metadata": {},
   "source": [
    "# Examen 2"
   ]
  },
  {
   "cell_type": "markdown",
   "metadata": {},
   "source": [
    "## Situación 1"
   ]
  },
  {
   "cell_type": "markdown",
   "metadata": {},
   "source": [
    "Un vuelo transatlántico es el vuelo de una aeronave a través del Océano Atlántico, empezando desde el continente americano y terminando en Europa o África."
   ]
  },
  {
   "cell_type": "markdown",
   "metadata": {},
   "source": [
    "<img src=\"map.png\" align=\"middle\" width=\"800\">"
   ]
  },
  {
   "cell_type": "markdown",
   "metadata": {},
   "source": [
    "**1. Si deseamos realizar un viaje transatlántico desde Estados Unidos a Rusia, pensando que el vuelo toma una trayectoria en línea recta, ¿a cuántos kilómetros se encuentran estos dos países? (Considera que el mapa está a una escala de $3:6011\\ \\rm{km}$.)**"
   ]
  },
  {
   "cell_type": "markdown",
   "metadata": {},
   "source": [
    "Primero notemos que las coordenadas de los puntos que nos dan son:\n",
    "* $\\rm{A}(17,2)$\n",
    "* $\\rm{B}(6,3)$\n",
    "* $\\rm{EU}(4,7)$\n",
    "* $\\rm{R}(11,8)$"
   ]
  },
  {
   "cell_type": "markdown",
   "metadata": {},
   "source": [
    "La distancia entre Estados Unidos (EU) y Rusia (R) es"
   ]
  },
  {
   "cell_type": "markdown",
   "metadata": {},
   "source": [
    "$$ d=\\sqrt{(x_1-x_2)^2+(y_1-y_2)^2} $$"
   ]
  },
  {
   "cell_type": "markdown",
   "metadata": {},
   "source": [
    "$$ =\\sqrt{[(4)-(11)]^2+[(7)-(8)]^2} $$"
   ]
  },
  {
   "cell_type": "markdown",
   "metadata": {},
   "source": [
    "$$ =\\sqrt{(-7)^2+(-1)^2} $$"
   ]
  },
  {
   "cell_type": "markdown",
   "metadata": {},
   "source": [
    "$$ =\\sqrt{49+1} $$"
   ]
  },
  {
   "cell_type": "markdown",
   "metadata": {},
   "source": [
    "$$ =\\sqrt{50} $$"
   ]
  },
  {
   "cell_type": "markdown",
   "metadata": {},
   "source": [
    "Entonces EU y R se encuentran  $\\sqrt{50}=5\\sqrt{2}\\approx7.071$ unidades de distancia (sobre el mapa)."
   ]
  },
  {
   "cell_type": "markdown",
   "metadata": {},
   "source": [
    "Tenemos que hacer regla de tres\n",
    "\\begin{align*}\n",
    "3\\ \\rm{unidades} &\\ \\leftarrow\\ 6011\\ \\rm{km}\\\\\n",
    "&\\ \\nearrow\\\\\n",
    "\\sqrt{50}\\ \\rm{unidades}&\n",
    "\\end{align*}"
   ]
  },
  {
   "cell_type": "markdown",
   "metadata": {},
   "source": [
    "Entonces, al distancia real que tendrá que viajar el avión es"
   ]
  },
  {
   "cell_type": "markdown",
   "metadata": {},
   "source": [
    "$$\\sqrt{50}\\cdot6011\\div3\\ \\rm{km}$$"
   ]
  },
  {
   "cell_type": "markdown",
   "metadata": {},
   "source": [
    "ó"
   ]
  },
  {
   "cell_type": "markdown",
   "metadata": {},
   "source": [
    "$$\\dfrac{6011\\sqrt{50}}{3}\\ \\rm{km}$$"
   ]
  },
  {
   "cell_type": "markdown",
   "metadata": {},
   "source": [
    "A) $\\dfrac{3\\sqrt{18}}{6011}$\n",
    "\n",
    "B) $\\dfrac{3\\sqrt{50}}{6011}$\n",
    "\n",
    "C) $\\dfrac{6011\\sqrt{18}}{3}$\n",
    "\n",
    "D) $\\dfrac{6011\\sqrt{50}}{3}$"
   ]
  },
  {
   "cell_type": "markdown",
   "metadata": {},
   "source": [
    "**Solución:** D)"
   ]
  },
  {
   "cell_type": "markdown",
   "metadata": {},
   "source": [
    "**2. Si un avión vuela en línea recta desde Estados Unidos a Rusia, ¿cuál es la ecuación general de la recta que modela ese viaje?**"
   ]
  },
  {
   "cell_type": "markdown",
   "metadata": {},
   "source": [
    "* $\\rm{EU}(4,7)$\n",
    "* $\\rm{R}(11,8)$"
   ]
  },
  {
   "cell_type": "markdown",
   "metadata": {},
   "source": [
    "Primero obtenemos la pendiente:"
   ]
  },
  {
   "cell_type": "markdown",
   "metadata": {},
   "source": [
    "$$ m=\\dfrac{y_2-y_1}{x_2-x_1} $$"
   ]
  },
  {
   "cell_type": "markdown",
   "metadata": {},
   "source": [
    "$$ =\\dfrac{(8)-(7)}{(11)-(4)} $$"
   ]
  },
  {
   "cell_type": "markdown",
   "metadata": {},
   "source": [
    "$$ =\\dfrac{1}{7} $$"
   ]
  },
  {
   "cell_type": "markdown",
   "metadata": {},
   "source": [
    "Esperamos que la ecuación de la recta tenga la forma:"
   ]
  },
  {
   "cell_type": "markdown",
   "metadata": {},
   "source": [
    "$$ y=mx+b $$"
   ]
  },
  {
   "cell_type": "markdown",
   "metadata": {},
   "source": [
    "Sustituimos el valor calculado de $m$:"
   ]
  },
  {
   "cell_type": "markdown",
   "metadata": {},
   "source": [
    "$$ y=\\frac{1}{7}x+b $$"
   ]
  },
  {
   "cell_type": "markdown",
   "metadata": {},
   "source": [
    "Despejamos $b$:"
   ]
  },
  {
   "cell_type": "markdown",
   "metadata": {},
   "source": [
    "$$ b=y-\\frac{1}{7}x $$"
   ]
  },
  {
   "cell_type": "markdown",
   "metadata": {},
   "source": [
    "Sustituimos las coordenadas de alguno de los dos puntos; por ejemplo, $\\rm{EU}(4,7)$ :"
   ]
  },
  {
   "cell_type": "markdown",
   "metadata": {},
   "source": [
    "$$ b=(7)-\\frac{1}{7}(4) $$"
   ]
  },
  {
   "cell_type": "markdown",
   "metadata": {},
   "source": [
    "$$ =7-\\frac{4}{7} $$"
   ]
  },
  {
   "cell_type": "markdown",
   "metadata": {},
   "source": [
    "$$ =\\dfrac{49}{7}-\\frac{4}{7} $$"
   ]
  },
  {
   "cell_type": "markdown",
   "metadata": {},
   "source": [
    "$$ =\\dfrac{45}{7} $$"
   ]
  },
  {
   "cell_type": "markdown",
   "metadata": {},
   "source": [
    "Entonces, la ecuación de la recta en su forma ordenada-pendiente es:"
   ]
  },
  {
   "cell_type": "markdown",
   "metadata": {},
   "source": [
    "$$ y=\\dfrac{1}{7}x+\\frac{45}{7} $$"
   ]
  },
  {
   "cell_type": "markdown",
   "metadata": {},
   "source": [
    "Como la queremos en su forma general pasamos todo al mismo lado de la ecuación:"
   ]
  },
  {
   "cell_type": "markdown",
   "metadata": {},
   "source": [
    "$$ -\\dfrac{1}{7}x+y-\\frac{45}{7}=0 $$"
   ]
  },
  {
   "cell_type": "markdown",
   "metadata": {},
   "source": [
    "Vemos que ninguna de las opciones tiene fracciones, excepto la D),pero esa no puede ser porque está en la forma ordenada-pendiente, además de que no coincide con nuestro resultado. Entonces, nos deshacemos de del denominado multiplicando toda la ecuación anterior por $7$."
   ]
  },
  {
   "cell_type": "markdown",
   "metadata": {},
   "source": [
    "$$ 7\\cdot\\left(-\\dfrac{1}{7}x+y-\\frac{45}{7}=0\\right) $$"
   ]
  },
  {
   "cell_type": "markdown",
   "metadata": {},
   "source": [
    "$$ -x+7y-45=0 $$"
   ]
  },
  {
   "cell_type": "markdown",
   "metadata": {},
   "source": [
    "Lo que acabamos de obtener se parece bastante al inciso C), pero tiene el signo del 45 al revés. Entonces, esa no es la respuesta correcta."
   ]
  },
  {
   "cell_type": "markdown",
   "metadata": {},
   "source": [
    "Puede ser que trate de un múltiplo de la ecuación que obtuvimos. Por ejemplo, podemos multiplicar la ecuación anterior por $2$."
   ]
  },
  {
   "cell_type": "markdown",
   "metadata": {},
   "source": [
    "$$ -2x+14y-90=0 $$"
   ]
  },
  {
   "cell_type": "markdown",
   "metadata": {},
   "source": [
    "Como queremos que el $2x$ sea positivo, pasamos todo para el lado derecho de la ecuación."
   ]
  },
  {
   "cell_type": "markdown",
   "metadata": {},
   "source": [
    "$$ 0=2x-14y+90 $$"
   ]
  },
  {
   "cell_type": "markdown",
   "metadata": {},
   "source": [
    "(Lo mismo se puede lograr si se multiplica toda la ecuación por $-1$. **Recuerden:** esto de multiplicar o dividir una ecuación por algo se puede hacer siempre y cuando haga dicha operación a ambos lados de la ecuación.)"
   ]
  },
  {
   "cell_type": "markdown",
   "metadata": {},
   "source": [
    "Como lo que obtuvimos no coincide con la opción A), seguramente se trata de la $C)$. Comprobamos esto:"
   ]
  },
  {
   "cell_type": "markdown",
   "metadata": {},
   "source": [
    "Podemos multiplicar la ecuación\n",
    "$$ -x+7y-45=0 $$\n",
    "por $3$."
   ]
  },
  {
   "cell_type": "markdown",
   "metadata": {},
   "source": [
    "$$ -3x+21y-135=0 $$"
   ]
  },
  {
   "cell_type": "markdown",
   "metadata": {},
   "source": [
    "Como queremos que el $3x$ sea positivo, pasamos todo para el lado derecho de la ecuación."
   ]
  },
  {
   "cell_type": "markdown",
   "metadata": {},
   "source": [
    "$$ 0=3x-21y+135=0 $$"
   ]
  },
  {
   "cell_type": "markdown",
   "metadata": {},
   "source": [
    "A) $2x-14y+6=0$\n",
    "\n",
    "B) $3x-21y+135=0$\n",
    "\n",
    "C) $-x+7y+45=0$\n",
    "\n",
    "D) $y=\\dfrac{1}{7}x-\\dfrac{45}{7}$"
   ]
  },
  {
   "cell_type": "markdown",
   "metadata": {},
   "source": [
    "**Solución:** B)"
   ]
  },
  {
   "cell_type": "markdown",
   "metadata": {},
   "source": [
    "Como extra quisiera decirles que, otra forma de resolver el ejercicio es sustituyendo las coordenadas de los puntos en todas las ecuaciones hasta ver cuál sí se cumple. Por ejemplo:"
   ]
  },
  {
   "cell_type": "markdown",
   "metadata": {},
   "source": [
    "Sustitución de $\\rm{EU}(4,7)$ en la opción A)"
   ]
  },
  {
   "cell_type": "markdown",
   "metadata": {},
   "source": [
    "$$2x-14y+6=2(4)-14(7)+6=8-98+6=-84\\neq0$$"
   ]
  },
  {
   "cell_type": "markdown",
   "metadata": {},
   "source": [
    "Sustitución de $\\rm{R}(11,8)$ en la opción A)"
   ]
  },
  {
   "cell_type": "markdown",
   "metadata": {},
   "source": [
    "$$2x-14y+6=2(11)-14(8)+6=22-112+6=-84\\neq0$$"
   ]
  },
  {
   "cell_type": "markdown",
   "metadata": {},
   "source": [
    "Ninguna de las dos ecuaciones se cumplen. Por lo tanto, el inciso correcto **NO** es el A)"
   ]
  },
  {
   "cell_type": "markdown",
   "metadata": {},
   "source": [
    "Sustitución de $\\rm{EU}(4,7)$ en la opción B)"
   ]
  },
  {
   "cell_type": "markdown",
   "metadata": {},
   "source": [
    "$$3x-21y+135=3(4)-21(7)+135=12-147+135=0$$"
   ]
  },
  {
   "cell_type": "markdown",
   "metadata": {},
   "source": [
    "Sustitución de $\\rm{R}(11,8)$ en la opción B)"
   ]
  },
  {
   "cell_type": "markdown",
   "metadata": {},
   "source": [
    "$$3x-21y+135=3(11)-21(8)+135=33-168+135=0$$"
   ]
  },
  {
   "cell_type": "markdown",
   "metadata": {},
   "source": [
    "Ambas ecuaciones se cumplen. Por lo tanto, el inciso correcto **SÍ** es el B)"
   ]
  },
  {
   "cell_type": "markdown",
   "metadata": {},
   "source": [
    "Finalmente agrego la gŕafica de `Desmos` para que vean que efectivamente es la recta correcta:"
   ]
  },
  {
   "cell_type": "markdown",
   "metadata": {},
   "source": [
    "<img src=\"ej2.png\" align=\"middle\" width=\"1000\">"
   ]
  },
  {
   "cell_type": "markdown",
   "metadata": {},
   "source": [
    "**3. ¿Cuál es la ecuación de la recta perpendicular a la recta que modela el viaje entre Estados Unidos y Rusia, y que pasa por Australia?**"
   ]
  },
  {
   "cell_type": "markdown",
   "metadata": {},
   "source": [
    "Como ya sabemos la pendiente de la recta que pasa por Estados Unidos y Rusia ($m=\\dfrac{1}{7}$), la pendiente perpendicular tiene que ser voltear la fracción y cambiar el signo, es decir,"
   ]
  },
  {
   "cell_type": "markdown",
   "metadata": {},
   "source": [
    "$$ -\\dfrac{7}{1} $$"
   ]
  },
  {
   "cell_type": "markdown",
   "metadata": {},
   "source": [
    "Entonces, la pendiente de nuestra recta es $m^\\prime=-7$."
   ]
  },
  {
   "cell_type": "markdown",
   "metadata": {},
   "source": [
    "Si esto no queda tan claro pueden pensarlo con la fórmula"
   ]
  },
  {
   "cell_type": "markdown",
   "metadata": {},
   "source": [
    "$$ mm^\\prime=-1 $$"
   ]
  },
  {
   "cell_type": "markdown",
   "metadata": {},
   "source": [
    "Es esta despejamos la nueva pendiente y sustituimos la pendiente original."
   ]
  },
  {
   "cell_type": "markdown",
   "metadata": {},
   "source": [
    "Esperamos que la ecuación de la recta perpendicular a la anterior tenga la forma:"
   ]
  },
  {
   "cell_type": "markdown",
   "metadata": {},
   "source": [
    "$$ y=m^\\prime x+b^\\prime $$"
   ]
  },
  {
   "cell_type": "markdown",
   "metadata": {},
   "source": [
    "Sustituimos el valor calculado de $m^\\prime$:"
   ]
  },
  {
   "cell_type": "markdown",
   "metadata": {},
   "source": [
    "$$ y=-7x+b^\\prime $$"
   ]
  },
  {
   "cell_type": "markdown",
   "metadata": {},
   "source": [
    "Despejamos $b^\\prime$:"
   ]
  },
  {
   "cell_type": "markdown",
   "metadata": {},
   "source": [
    "$$ b^\\prime=y+7x $$"
   ]
  },
  {
   "cell_type": "markdown",
   "metadata": {},
   "source": [
    "Sustituimos las coordenadas de Australia\n",
    "$$\\rm{A}(17,2)$$\n",
    "ya que sabemos que tiene que pasar por ahí:"
   ]
  },
  {
   "cell_type": "markdown",
   "metadata": {},
   "source": [
    "$$ b=(2)+7(17) $$"
   ]
  },
  {
   "cell_type": "markdown",
   "metadata": {},
   "source": [
    "$$ =2+119 $$"
   ]
  },
  {
   "cell_type": "markdown",
   "metadata": {},
   "source": [
    "$$ =121 $$"
   ]
  },
  {
   "cell_type": "markdown",
   "metadata": {},
   "source": [
    "Entonces, la ecuación de la recta perpendicular en su forma ordenada-pendiente es:"
   ]
  },
  {
   "cell_type": "markdown",
   "metadata": {},
   "source": [
    "$$ y=-7x+121 $$"
   ]
  },
  {
   "cell_type": "markdown",
   "metadata": {},
   "source": [
    "Como la queremos en su forma general pasamos todo al mismo lado de la ecuación:"
   ]
  },
  {
   "cell_type": "markdown",
   "metadata": {},
   "source": [
    "$$ 7x+y-121=0 $$"
   ]
  },
  {
   "cell_type": "markdown",
   "metadata": {},
   "source": [
    "A) $7x+y-117=0$\n",
    "\n",
    "B) $7x-y-117=0$\n",
    "\n",
    "C) $7x-y-121=0$\n",
    "\n",
    "D) $7x+y-121=0$"
   ]
  },
  {
   "cell_type": "markdown",
   "metadata": {},
   "source": [
    "**Solución:** D)"
   ]
  },
  {
   "cell_type": "markdown",
   "metadata": {},
   "source": [
    "Finalmente agrego la gŕafica de `Desmos` para que vean que efectivamente es la recta correcta:"
   ]
  },
  {
   "cell_type": "markdown",
   "metadata": {},
   "source": [
    "<img src=\"ej3.png\" align=\"middle\" width=\"1000\">"
   ]
  },
  {
   "cell_type": "markdown",
   "metadata": {},
   "source": [
    "**4. Si el avión vuela en línea recta desde Estados Unidos hasta Rusia y justo aquí gira para ir hacia Australia en línea recta, ¿cuál es el ángulo que tiene girar?**"
   ]
  },
  {
   "cell_type": "markdown",
   "metadata": {},
   "source": [
    "Lo que queremos es que el vuelo sea de la siguiente forma:"
   ]
  },
  {
   "cell_type": "markdown",
   "metadata": {},
   "source": [
    "<img src=\"vuelo_escala.png\" align=\"middle\" width=\"800\">"
   ]
  },
  {
   "cell_type": "markdown",
   "metadata": {},
   "source": [
    "Y lo que nos interesa es encontrar el ángulo que gira el avión al momento de estar sobre Rusia. Por el dibujo esperamos que el ángulo sea mayor que $90^\\circ$. "
   ]
  },
  {
   "cell_type": "markdown",
   "metadata": {},
   "source": [
    "Podría haber varia maneras de hacer esto. Lo más fácil es obtener ángulo entre rectas. Nos conviene encontrar la pendiente que forma Rusia con Australia:"
   ]
  },
  {
   "cell_type": "markdown",
   "metadata": {},
   "source": [
    "* $\\rm{R}(11,8)$\n",
    "* $\\rm{A}(17,2)$"
   ]
  },
  {
   "cell_type": "markdown",
   "metadata": {},
   "source": [
    "Primero obtenemos la pendiente:"
   ]
  },
  {
   "cell_type": "markdown",
   "metadata": {},
   "source": [
    "$$ m=\\dfrac{y_2-y_1}{x_2-x_1} $$"
   ]
  },
  {
   "cell_type": "markdown",
   "metadata": {},
   "source": [
    "$$ =\\dfrac{(2)-(8)}{(17)-(11)} $$"
   ]
  },
  {
   "cell_type": "markdown",
   "metadata": {},
   "source": [
    "$$ =\\dfrac{-6}{6} $$"
   ]
  },
  {
   "cell_type": "markdown",
   "metadata": {},
   "source": [
    "$$ =-1 $$"
   ]
  },
  {
   "cell_type": "markdown",
   "metadata": {},
   "source": [
    "Como ya sabemos que la pendiente entre Estados Unidos y Rusia es $m=\\dfrac{1}{7}$, podemos usar la fórmula de ángulo entre pendientes:"
   ]
  },
  {
   "cell_type": "markdown",
   "metadata": {},
   "source": [
    "$$ \\theta=\\tan^{-1}\\left(\\dfrac{m_2-m_1}{1+m_2m_1}\\right) $$"
   ]
  },
  {
   "cell_type": "markdown",
   "metadata": {},
   "source": [
    "$$ =\\tan^{-1}\\,\\left[\\dfrac{(-1)-\\left(\\dfrac{1}{7}\\right)}{1+(-1)\\left(\\dfrac{1}{7}\\right)}\\right] $$"
   ]
  },
  {
   "cell_type": "code",
   "execution_count": 1,
   "metadata": {},
   "outputs": [
    {
     "data": {
      "text/plain": [
       "-1.3333333333333333"
      ]
     },
     "execution_count": 1,
     "metadata": {},
     "output_type": "execute_result"
    }
   ],
   "source": [
    "((-1)-(1/7))/(1+(-1)(1/7))"
   ]
  },
  {
   "cell_type": "code",
   "execution_count": 2,
   "metadata": {},
   "outputs": [
    {
     "data": {
      "text/plain": [
       "-53.13010235415598"
      ]
     },
     "execution_count": 2,
     "metadata": {},
     "output_type": "execute_result"
    }
   ],
   "source": [
    "atand(-1.3333333333333333)"
   ]
  },
  {
   "cell_type": "markdown",
   "metadata": {},
   "source": [
    "$$ \\theta\\approx-53.13^\\circ $$"
   ]
  },
  {
   "cell_type": "markdown",
   "metadata": {},
   "source": [
    "Recuerden que ignoramos el signo. Como este ángulo es menor que $90^\\circ$, queremos el suplementario de éste."
   ]
  },
  {
   "cell_type": "code",
   "execution_count": 3,
   "metadata": {},
   "outputs": [
    {
     "data": {
      "text/plain": [
       "126.86989764584402"
      ]
     },
     "execution_count": 3,
     "metadata": {},
     "output_type": "execute_result"
    }
   ],
   "source": [
    "180-53.13010235415598"
   ]
  },
  {
   "cell_type": "markdown",
   "metadata": {},
   "source": [
    "Ahora sí obtuvimos un ángulo que es mayor que $90^\\circ$."
   ]
  },
  {
   "cell_type": "markdown",
   "metadata": {},
   "source": [
    "A) $143.13^\\circ$\n",
    "\n",
    "B) $90^\\circ$\n",
    "\n",
    "C) $135^\\circ$\n",
    "\n",
    "D) $126.87^\\circ$"
   ]
  },
  {
   "cell_type": "markdown",
   "metadata": {},
   "source": [
    "**Solución:** D)"
   ]
  },
  {
   "cell_type": "markdown",
   "metadata": {},
   "source": [
    "**5. Al tomar un vuelo que va a varias partes del mundo y pasa por Brasil, un avión viaja en la forma de la ecuación**\n",
    "\n",
    "$$ \\frac{7x^2+5y^2}{5xy+31x+41y-250}=2 $$\n",
    "\n",
    "**¿Qué tipo de cónica representa la ecuación anterior?**"
   ]
  },
  {
   "cell_type": "markdown",
   "metadata": {},
   "source": [
    "¿Variables en el denominador? Hay que pasarlas para el otro lado."
   ]
  },
  {
   "cell_type": "markdown",
   "metadata": {},
   "source": [
    "$$ 7x^2+5y^2=2(5xy+31x+41y-250) $$"
   ]
  },
  {
   "cell_type": "markdown",
   "metadata": {},
   "source": [
    "Ahora pasamos todo al mismo lado para tener la ecuación en su forma general:"
   ]
  },
  {
   "cell_type": "markdown",
   "metadata": {},
   "source": [
    "$$ 7x^2+5y^2=10xy+62x+82y-500 $$"
   ]
  },
  {
   "cell_type": "markdown",
   "metadata": {},
   "source": [
    "$$ 7x^2-10xy+5y^2-62x-82y+500=0 $$"
   ]
  },
  {
   "cell_type": "markdown",
   "metadata": {},
   "source": [
    "Comparamos la ecuación que obtuvimos con la ecuación general de segundo grado:"
   ]
  },
  {
   "cell_type": "markdown",
   "metadata": {},
   "source": [
    "$$ Ax^2+Bxy+Cy^2+Dx+Ey+F=0 $$"
   ]
  },
  {
   "cell_type": "markdown",
   "metadata": {},
   "source": [
    "Entonces los coeficientes son:\n",
    "\n",
    "$A=7$, $B=-10$, $C=5$, $D=-62$, $E=-82$, $F=500$"
   ]
  },
  {
   "cell_type": "markdown",
   "metadata": {},
   "source": [
    "Realmente sólo me importan los primeros tres coeficientes."
   ]
  },
  {
   "cell_type": "markdown",
   "metadata": {},
   "source": [
    "Como $B$ no es cero, *invocamos el indicador* (el interior de la raíz cuadrada en *Le Chicharronera*):"
   ]
  },
  {
   "cell_type": "markdown",
   "metadata": {},
   "source": [
    "$$ I=B^2-4AC $$"
   ]
  },
  {
   "cell_type": "markdown",
   "metadata": {},
   "source": [
    "Sustituimos"
   ]
  },
  {
   "cell_type": "markdown",
   "metadata": {},
   "source": [
    "$$ I=(-10)^2-4(7)(5)$$"
   ]
  },
  {
   "cell_type": "markdown",
   "metadata": {},
   "source": [
    "$$ =100-140$$"
   ]
  },
  {
   "cell_type": "markdown",
   "metadata": {},
   "source": [
    "$$ =-40$$"
   ]
  },
  {
   "cell_type": "markdown",
   "metadata": {},
   "source": [
    "Como el indicador es negativo, debe tratarse de una elipse."
   ]
  },
  {
   "cell_type": "markdown",
   "metadata": {},
   "source": [
    "A) Elipse \n",
    "\n",
    "B) Hipérbola\n",
    "\n",
    "C) Parábola\n",
    "\n",
    "D) Recta"
   ]
  },
  {
   "cell_type": "markdown",
   "metadata": {},
   "source": [
    "**Solución:** A"
   ]
  },
  {
   "cell_type": "markdown",
   "metadata": {},
   "source": [
    "Finalmente agrego la gŕafica de `Desmos` para que vean que efectivamente es la cónica correcta:"
   ]
  },
  {
   "cell_type": "markdown",
   "metadata": {},
   "source": [
    "<img src=\"ej4_conica.png\" align=\"middle\" width=\"1000\">"
   ]
  },
  {
   "cell_type": "markdown",
   "metadata": {},
   "source": [
    "Finalmente, les dejo la dirección electrónica de mi gráfica de `Desmos` para que jueguen:\n",
    "\n",
    "https://www.desmos.com/calculator/ghag3b70az"
   ]
  }
 ],
 "metadata": {
  "kernelspec": {
   "display_name": "Julia 1.1.0",
   "language": "julia",
   "name": "julia-1.1"
  },
  "language_info": {
   "file_extension": ".jl",
   "mimetype": "application/julia",
   "name": "julia",
   "version": "1.1.0"
  }
 },
 "nbformat": 4,
 "nbformat_minor": 4
}
