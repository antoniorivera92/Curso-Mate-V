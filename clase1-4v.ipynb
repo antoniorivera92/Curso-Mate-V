{
 "cells": [
  {
   "cell_type": "markdown",
   "metadata": {},
   "source": [
    "# Clase 4"
   ]
  },
  {
   "cell_type": "markdown",
   "metadata": {},
   "source": [
    "## Triángulos rectángulos"
   ]
  },
  {
   "cell_type": "markdown",
   "metadata": {},
   "source": [
    "### Teorema de Pitágoras\n",
    "*La suma de los catetos al cuadrado es igual a la hipotenusa al cuadrado.*\n",
    "$$ a^2+b^2=c^2$$"
   ]
  },
  {
   "cell_type": "markdown",
   "metadata": {},
   "source": [
    "## Funciones trigonométricas"
   ]
  },
  {
   "cell_type": "markdown",
   "metadata": {},
   "source": [
    "Las *funciones trigonométricas* se definen (sólo para triángulos rectángulos) en términos de los catetos y la hipotenusa.\n",
    "\n",
    "$$ \\sin x=\\dfrac{\\text{c.o.}}{\\text{hip.}} $$\n",
    "\n",
    "$$ \\cos x=\\dfrac{\\text{c.a.}}{\\text{hip.}} $$\n",
    "\n",
    "$$ \\tan x=\\dfrac{\\text{c.o.}}{\\text{c.a.}} $$\n",
    "\n",
    "* c.o.: cateto opuesto\n",
    "* c.a.: cateto adyacente\n",
    "* hip.: hipotenusa"
   ]
  },
  {
   "cell_type": "markdown",
   "metadata": {},
   "source": [
    "El *cateto adyacente* es el cateto que se encuentra de lado al ángulo en el que nos fijemos."
   ]
  },
  {
   "cell_type": "markdown",
   "metadata": {},
   "source": [
    "$$ \\sin A=\\dfrac{a}{c}\\qquad\\qquad\\sin B=\\dfrac{b}{c} $$\n",
    "\n",
    "$$ \\cos A=\\dfrac{b}{c}\\qquad\\qquad \\cos B=\\dfrac{a}{c}  $$\n",
    "\n",
    "$$ \\tan A=\\dfrac{a}{b}\\qquad\\qquad \\tan B=\\dfrac{b}{a} $$"
   ]
  },
  {
   "cell_type": "markdown",
   "metadata": {},
   "source": [
    "<img src=\"triangulo_rect.png\" align=\"middle\" width=\"300\">"
   ]
  },
  {
   "cell_type": "markdown",
   "metadata": {},
   "source": [
    "Para el ángulo $A$\n",
    "* c.o.: $a$\n",
    "* c.a.: $b$\n",
    "* hip.: $c$\n",
    "\n",
    "Para el ángulo $B$\n",
    "* c.o.: $b$\n",
    "* c.a.: $a$\n",
    "* hip.: $c$\n",
    "\n",
    "Entonces:"
   ]
  },
  {
   "cell_type": "markdown",
   "metadata": {},
   "source": [
    "$$ \\sin A=\\dfrac{a}{c}\\qquad\\qquad\\sin B=\\dfrac{b}{c} $$\n",
    "\n",
    "$$ \\cos A=\\dfrac{b}{c}\\qquad\\qquad \\cos B=\\dfrac{a}{c}  $$\n",
    "\n",
    "$$ \\tan A=\\dfrac{a}{b}\\qquad\\qquad \\tan B=\\dfrac{b}{a} $$"
   ]
  },
  {
   "cell_type": "markdown",
   "metadata": {},
   "source": [
    "**¿Cómo \"resolver\" un triángulo rectángulo?**"
   ]
  },
  {
   "cell_type": "markdown",
   "metadata": {},
   "source": [
    "**Caso #1:** Si me dan un lado y un ángulo, y me piden encontrar otro lado:\n",
    "1. Necesitamos tener a la mano los datos que nos dan y el dato que piden calcular.\n",
    "2. Necesitamos identificar cuál de las funciones trigonométricas incluyen todos estos datos.\n",
    "3. Despejamos el dato a calcular en la fórmula.\n",
    "4. Sustituir para terminar el cálculo."
   ]
  },
  {
   "cell_type": "markdown",
   "metadata": {},
   "source": [
    "* ***Ejemplo:*** Tenemos un TR que tiene su cateto opuesto de $5\\ \\rm{cm}$ a un ángulo de $35^\\circ$. ¿Cuál es la hipotenusa?"
   ]
  },
  {
   "cell_type": "markdown",
   "metadata": {},
   "source": [
    "* Datos:\n",
    "    * $B=35^\\circ$\n",
    "    * $b=5\\ \\rm{cm}$\n",
    "    * $c=?$"
   ]
  },
  {
   "cell_type": "markdown",
   "metadata": {},
   "source": [
    "* Fórmula:"
   ]
  },
  {
   "cell_type": "markdown",
   "metadata": {},
   "source": [
    "$$ \\sin B=\\frac{b}{c} $$"
   ]
  },
  {
   "cell_type": "markdown",
   "metadata": {},
   "source": [
    "$$ c\\sin B=b $$"
   ]
  },
  {
   "cell_type": "markdown",
   "metadata": {},
   "source": [
    "$$ c=\\frac{b}{\\sin B} $$"
   ]
  },
  {
   "cell_type": "markdown",
   "metadata": {},
   "source": [
    "$$ c=\\frac{5}{\\sin 35} $$"
   ]
  },
  {
   "cell_type": "code",
   "execution_count": 8,
   "metadata": {},
   "outputs": [
    {
     "data": {
      "text/plain": [
       "0.573576436351046"
      ]
     },
     "execution_count": 8,
     "metadata": {},
     "output_type": "execute_result"
    }
   ],
   "source": [
    "sind(35)"
   ]
  },
  {
   "cell_type": "code",
   "execution_count": 7,
   "metadata": {},
   "outputs": [
    {
     "data": {
      "text/plain": [
       "8.71723397810549"
      ]
     },
     "execution_count": 7,
     "metadata": {},
     "output_type": "execute_result"
    }
   ],
   "source": [
    "5/sind(35)"
   ]
  },
  {
   "cell_type": "markdown",
   "metadata": {},
   "source": [
    "* ***Ejemplo:*** Tenemos un TR que tiene su hipotenusa de $7\\ \\rm{cm}$ y un ángulo de $43^\\circ$. ¿Cuál es el cateto adyacente a ese ángulo? ¿Cuál es el cateto opuesto?"
   ]
  },
  {
   "cell_type": "markdown",
   "metadata": {},
   "source": [
    "<img src=\"triangulo_rect.png\" align=\"middle\" width=\"125\">"
   ]
  },
  {
   "cell_type": "markdown",
   "metadata": {},
   "source": [
    "* Datos:\n",
    "    * $A=43^\\circ$\n",
    "    * $c=7\\ \\rm{cm}$\n",
    "    * $b=5.12\\ \\rm{cm}$\n",
    "    * $a=?$"
   ]
  },
  {
   "cell_type": "markdown",
   "metadata": {},
   "source": [
    "* Fórmula:\n",
    "\n",
    "$$ \\cos A = \\frac{b}{c} $$"
   ]
  },
  {
   "cell_type": "markdown",
   "metadata": {},
   "source": [
    "$$ b=c\\,\\cos A$$"
   ]
  },
  {
   "cell_type": "code",
   "execution_count": 9,
   "metadata": {},
   "outputs": [
    {
     "data": {
      "text/plain": [
       "5.119475911334193"
      ]
     },
     "execution_count": 9,
     "metadata": {},
     "output_type": "execute_result"
    }
   ],
   "source": [
    "7*cosd(43)"
   ]
  },
  {
   "cell_type": "markdown",
   "metadata": {},
   "source": [
    "* ***Ejemplo:*** Tenemos un TR que tiene su cateto opuesto de $3\\ \\rm{cm}$ a un ángulo de $70^\\circ$. ¿Cuál es el otro cateto y la hipotenusa?"
   ]
  },
  {
   "cell_type": "markdown",
   "metadata": {},
   "source": [
    "* Fórmula:\n",
    "\n",
    "$$ \\tan A = \\frac{a}{b} $$"
   ]
  },
  {
   "cell_type": "markdown",
   "metadata": {},
   "source": [
    "$$ a=b\\tan A $$"
   ]
  },
  {
   "cell_type": "markdown",
   "metadata": {},
   "source": [
    "$$ a=5.12\\tan 43 $$"
   ]
  },
  {
   "cell_type": "code",
   "execution_count": 13,
   "metadata": {},
   "outputs": [
    {
     "data": {
      "text/plain": [
       "4.774477241024828"
      ]
     },
     "execution_count": 13,
     "metadata": {},
     "output_type": "execute_result"
    }
   ],
   "source": [
    "5.12*tand(43)"
   ]
  },
  {
   "cell_type": "markdown",
   "metadata": {},
   "source": [
    "##### Por Pitágoras"
   ]
  },
  {
   "cell_type": "markdown",
   "metadata": {},
   "source": [
    "$$ a^2+b^2=c^2 $$"
   ]
  },
  {
   "cell_type": "markdown",
   "metadata": {},
   "source": [
    "$$ a^2=c^2-b^2 $$"
   ]
  },
  {
   "cell_type": "markdown",
   "metadata": {},
   "source": [
    "$$ a=\\sqrt{c^2-b^2} $$"
   ]
  },
  {
   "cell_type": "code",
   "execution_count": 12,
   "metadata": {},
   "outputs": [
    {
     "data": {
      "text/plain": [
       "4.773426442294885"
      ]
     },
     "execution_count": 12,
     "metadata": {},
     "output_type": "execute_result"
    }
   ],
   "source": [
    "√(7^2-5.12^2)"
   ]
  },
  {
   "cell_type": "markdown",
   "metadata": {},
   "source": [
    "**Caso #2:** Si me dan dos lados y me piden un ángulo\n",
    "1. Necesitamos tener a la mano los datos que nos dan y el dato que piden calcular.\n",
    "2. Necesitamos identificar cuál de las funciones trigonométricas incluyen todos estos datos.\n",
    "3. Despejamos el dato a calcular en la fórmula usando las funciones trigonométicas inversas.\n",
    "4. Sustituir para terminar el cálculo."
   ]
  },
  {
   "cell_type": "markdown",
   "metadata": {},
   "source": [
    "* ***Ejemplo:*** Tenemos un TR que tienen catetos con valores de $4$ y $5\\ \\rm{cm}$. ¿Cuáles son los ángulos del triángulo?"
   ]
  },
  {
   "cell_type": "markdown",
   "metadata": {},
   "source": [
    "<img src=\"triangulo_rect.png\" align=\"middle\" width=\"125\">"
   ]
  },
  {
   "cell_type": "markdown",
   "metadata": {},
   "source": [
    "* Datos:\n",
    "    * $a=5\\ \\rm{cm}$\n",
    "    * $b=4\\ \\rm{cm}$\n",
    "    * $A=?$"
   ]
  },
  {
   "cell_type": "markdown",
   "metadata": {},
   "source": [
    "* Fórmula:\n",
    "$$ \\tan A=\\frac{a}{b}$$"
   ]
  },
  {
   "cell_type": "markdown",
   "metadata": {},
   "source": [
    "$$ A=\\tan^{-1}\\left(\\frac{a}{b}\\right)$$"
   ]
  },
  {
   "cell_type": "markdown",
   "metadata": {},
   "source": [
    "$$ A=\\tan^{-1}\\left(\\frac{5}{4}\\right)$$"
   ]
  },
  {
   "cell_type": "code",
   "execution_count": 17,
   "metadata": {},
   "outputs": [
    {
     "data": {
      "text/plain": [
       "51.34019174590991"
      ]
     },
     "execution_count": 17,
     "metadata": {},
     "output_type": "execute_result"
    }
   ],
   "source": [
    "atand(5/4)"
   ]
  },
  {
   "cell_type": "markdown",
   "metadata": {},
   "source": [
    "$$ \\tan B=\\frac{b}{a}$$"
   ]
  },
  {
   "cell_type": "markdown",
   "metadata": {},
   "source": [
    "$$ B=\\tan^{-1}\\left(\\frac{b}{a}\\right)$$"
   ]
  },
  {
   "cell_type": "markdown",
   "metadata": {},
   "source": [
    "$$ B=\\tan^{-1}\\left(\\frac{4}{5}\\right)$$"
   ]
  },
  {
   "cell_type": "code",
   "execution_count": 18,
   "metadata": {},
   "outputs": [
    {
     "data": {
      "text/plain": [
       "38.659808254090095"
      ]
     },
     "execution_count": 18,
     "metadata": {},
     "output_type": "execute_result"
    }
   ],
   "source": [
    "atand(4/5)"
   ]
  },
  {
   "cell_type": "markdown",
   "metadata": {},
   "source": [
    "$$ A+B+C=180^\\circ$$"
   ]
  },
  {
   "cell_type": "markdown",
   "metadata": {},
   "source": [
    "$$ B=180^\\circ-A-C$$"
   ]
  },
  {
   "cell_type": "markdown",
   "metadata": {},
   "source": [
    "$$ B=180^\\circ-51.34^\\circ-90^\\circ$$"
   ]
  },
  {
   "cell_type": "code",
   "execution_count": 1,
   "metadata": {},
   "outputs": [
    {
     "data": {
      "text/plain": [
       "38.66"
      ]
     },
     "execution_count": 1,
     "metadata": {},
     "output_type": "execute_result"
    }
   ],
   "source": [
    "180-51.34-90"
   ]
  },
  {
   "cell_type": "markdown",
   "metadata": {},
   "source": [
    "**Caso #3:** Es un problema donde sólo nos dan un dato explícitamente, y otro dato no explícitamente."
   ]
  },
  {
   "cell_type": "markdown",
   "metadata": {},
   "source": [
    "* ***Ejemplo:*** Una persona ve la cima de una montaña cuando le apunta con un telescopio que forma $30^\\circ$ con el piso. Se aleja $2\\ \\rm{km}$ y ahora apunta el telescopio de tal manera que mantenga un ángulo de $25^\\circ$ con el piso. Si la altura del telescopio respecto del piso es de $0.5\\ \\rm{m}$, ¿podemos saber la altura de la montaña?"
   ]
  },
  {
   "cell_type": "markdown",
   "metadata": {},
   "source": [
    "<img src=\"montana.png\" align=\"middle\" width=\"700\">"
   ]
  },
  {
   "cell_type": "markdown",
   "metadata": {},
   "source": [
    "Con el dibujo se debe notar el porqué podemos escribir las siguientes ecuaciones:"
   ]
  },
  {
   "cell_type": "markdown",
   "metadata": {},
   "source": [
    "$$ \\tan 30^\\circ=\\dfrac{x}{d} $$"
   ]
  },
  {
   "cell_type": "markdown",
   "metadata": {},
   "source": [
    "$$ \\tan 25^\\circ=\\dfrac{x}{d+2\\ \\rm{km}} $$"
   ]
  },
  {
   "cell_type": "markdown",
   "metadata": {},
   "source": [
    "Como nos interesa encontrar el valor de $x$ despejaremos $d$ en una de las ecuaciones..."
   ]
  },
  {
   "cell_type": "markdown",
   "metadata": {},
   "source": [
    "$$ d\\tan 30^\\circ=x $$"
   ]
  },
  {
   "cell_type": "markdown",
   "metadata": {},
   "source": [
    "$$ d=\\dfrac{x}{\\tan 30^\\circ} $$"
   ]
  },
  {
   "cell_type": "markdown",
   "metadata": {},
   "source": [
    " ... y la sustituiremos en la otra ecuación:"
   ]
  },
  {
   "cell_type": "markdown",
   "metadata": {},
   "source": [
    "$$ \\tan 25^\\circ=\\dfrac{x}{d+2} $$"
   ]
  },
  {
   "cell_type": "markdown",
   "metadata": {},
   "source": [
    "$$ \\tan 25^\\circ=\\dfrac{x}{\\frac{x}{\\tan 30^\\circ}+2} $$"
   ]
  },
  {
   "cell_type": "markdown",
   "metadata": {},
   "source": [
    "**¡Recuerden que, si una variable que nos interesa aparece en el denominador de una fracción, hay que pasar el denominador multipplicando del otro lado (si es que podemos hacerlo)!**"
   ]
  },
  {
   "cell_type": "markdown",
   "metadata": {},
   "source": [
    "$$ \\left(\\dfrac{x}{\\tan 30^\\circ}+2\\right)\\tan 25^\\circ=x $$"
   ]
  },
  {
   "cell_type": "markdown",
   "metadata": {},
   "source": [
    "$$ \\dfrac{x}{\\tan 30^\\circ}\\,\\tan 25^\\circ+2\\tan 25^\\circ=x $$"
   ]
  },
  {
   "cell_type": "markdown",
   "metadata": {},
   "source": [
    "$$ \\dfrac{\\tan 25^\\circ}{\\tan 30^\\circ}\\,x+2\\tan 25^\\circ=x $$"
   ]
  },
  {
   "cell_type": "markdown",
   "metadata": {},
   "source": [
    "Pasamos la $x$ del mismo lado y las constantes del otro:"
   ]
  },
  {
   "cell_type": "markdown",
   "metadata": {},
   "source": [
    "$$ \\dfrac{\\tan 25^\\circ}{\\tan 30^\\circ}\\,x-x=-2\\tan 25^\\circ $$"
   ]
  },
  {
   "cell_type": "markdown",
   "metadata": {},
   "source": [
    "Factorizamos la $x$:"
   ]
  },
  {
   "cell_type": "markdown",
   "metadata": {},
   "source": [
    "$$ \\left(\\dfrac{\\tan 25^\\circ}{\\tan 30^\\circ}-1\\right)x=-2\\tan 25^\\circ $$"
   ]
  },
  {
   "cell_type": "markdown",
   "metadata": {},
   "source": [
    "$$ x=\\dfrac{-2\\tan 25^\\circ}{\\frac{\\tan 25^\\circ}{\\tan 30^\\circ}-1}=4.849\\ \\rm{km} $$"
   ]
  },
  {
   "cell_type": "code",
   "execution_count": 2,
   "metadata": {},
   "outputs": [
    {
     "data": {
      "text/plain": [
       "4.849000747596234"
      ]
     },
     "execution_count": 2,
     "metadata": {},
     "output_type": "execute_result"
    }
   ],
   "source": [
    "-2*tand(25)/(tand(25)/tand(30)-1)"
   ]
  },
  {
   "cell_type": "markdown",
   "metadata": {},
   "source": [
    "Como esto sólo es la altura por encima de la altura en la cual está ubicado el telescopio, la respuesta correcta sobre la altura de la montaña es:"
   ]
  },
  {
   "cell_type": "markdown",
   "metadata": {},
   "source": [
    "$$ 4.849\\ \\rm{km}+0.5\\rm{m}=4.854\\ \\rm{km} $$"
   ]
  },
  {
   "cell_type": "markdown",
   "metadata": {},
   "source": [
    "Noten que con esta nueva información ya podríamos obtener el valor de la distancia del del telescopio al punto medio de la montaña sobre el piso:"
   ]
  },
  {
   "cell_type": "markdown",
   "metadata": {},
   "source": [
    "$$ d=\\dfrac{x}{\\tan 30^\\circ}=\\dfrac{4.849\\ \\rm{km}}{\\tan 30^\\circ}=8.399\\ \\rm{km} $$"
   ]
  },
  {
   "cell_type": "code",
   "execution_count": 3,
   "metadata": {},
   "outputs": [
    {
     "data": {
      "text/plain": [
       "8.398714365901485"
      ]
     },
     "execution_count": 3,
     "metadata": {},
     "output_type": "execute_result"
    }
   ],
   "source": [
    "4.849/tand(30)"
   ]
  },
  {
   "cell_type": "markdown",
   "metadata": {},
   "source": [
    "## Triángulos oblicuángulos"
   ]
  },
  {
   "cell_type": "markdown",
   "metadata": {},
   "source": [
    "### Ley de senos\n",
    "\n",
    "Ésta nos sirve cuando:\n",
    "* conocemos dos lados y un ángulo opuesto, y queremos conocer el otro ángulo opuesto\n",
    "* conocemos dos ángulos y un lado opuesto, y queremos conocer el otro lado opuesto"
   ]
  },
  {
   "cell_type": "markdown",
   "metadata": {},
   "source": [
    "$$ \\dfrac{\\sin A}{a}=\\dfrac{\\sin B}{b}=\\dfrac{\\sin C}{c} $$"
   ]
  },
  {
   "cell_type": "markdown",
   "metadata": {},
   "source": [
    "$$ \\dfrac{\\sin A}{a}=\\dfrac{\\sin B}{b} $$"
   ]
  },
  {
   "cell_type": "markdown",
   "metadata": {},
   "source": [
    "$$ \\dfrac{\\sin A}{a}=\\dfrac{\\sin C}{c} $$"
   ]
  },
  {
   "cell_type": "markdown",
   "metadata": {},
   "source": [
    "$$ \\dfrac{\\sin B}{b}=\\dfrac{\\sin C}{c} $$"
   ]
  },
  {
   "cell_type": "markdown",
   "metadata": {},
   "source": [
    "<img src=\"triangulo.png\" align=\"middle\" width=\"300\">"
   ]
  },
  {
   "cell_type": "markdown",
   "metadata": {},
   "source": [
    "### Ley de cosenos\n",
    "\n",
    "Ésta nos sirve cuando:\n",
    "* conocemos los tres lados y queremos conocer el ángulo opuesto a cualquiera de los lados\n",
    "* conocemos dos lados y el ángulo entre estos lados, y queremos conocer el lado opuesto a este ángulo."
   ]
  },
  {
   "cell_type": "markdown",
   "metadata": {},
   "source": [
    "*El cuadrado de un lado es igual a la diferencia de la suma de los cuadrados de los otros lados y el doble del producto de los otros lados con el coseno del ángulo opuesto al lado inicial.*"
   ]
  },
  {
   "cell_type": "markdown",
   "metadata": {},
   "source": [
    "$$ a^2=b^2+c^2-2bc\\cos A $$"
   ]
  },
  {
   "cell_type": "markdown",
   "metadata": {},
   "source": [
    "$$ b^2=a^2+c^2-2ac\\cos B $$"
   ]
  },
  {
   "cell_type": "markdown",
   "metadata": {},
   "source": [
    "$$ c^2=a^2+b^2-2ab\\cos C $$"
   ]
  }
 ],
 "metadata": {
  "kernelspec": {
   "display_name": "Julia 1.1.0",
   "language": "julia",
   "name": "julia-1.1"
  },
  "language_info": {
   "file_extension": ".jl",
   "mimetype": "application/julia",
   "name": "julia",
   "version": "1.1.0"
  }
 },
 "nbformat": 4,
 "nbformat_minor": 4
}
