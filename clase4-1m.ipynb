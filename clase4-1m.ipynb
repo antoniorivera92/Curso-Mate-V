{
 "cells": [
  {
   "cell_type": "markdown",
   "metadata": {},
   "source": [
    "# Estadística para interpretar grandes cantidades de datos"
   ]
  },
  {
   "cell_type": "markdown",
   "metadata": {},
   "source": [
    "# Clase 1"
   ]
  },
  {
   "cell_type": "markdown",
   "metadata": {},
   "source": [
    "##  Población y muestra"
   ]
  },
  {
   "cell_type": "markdown",
   "metadata": {},
   "source": [
    "La *población* es el conjunto de individuos que son objeto de estudio. Si la población es muy grande se selecciona al azar un grupo menos numeroso llamado *muestra*. El propósito de la estadística es describir características importantes sobre esta muestra."
   ]
  },
  {
   "cell_type": "markdown",
   "metadata": {},
   "source": [
    "## Tipos de variables estadísticas"
   ]
  },
  {
   "cell_type": "markdown",
   "metadata": {},
   "source": [
    "Llamamos *variable estadística* a cualquier característica que varíe entre los distintos individuos de una población."
   ]
  },
  {
   "cell_type": "markdown",
   "metadata": {},
   "source": [
    "### Variables cuantitativas (cantidades/números)"
   ]
  },
  {
   "cell_type": "markdown",
   "metadata": {},
   "source": [
    "Son las que se describen por números. Pueden ser *continuas* o *discretas*:"
   ]
  },
  {
   "cell_type": "markdown",
   "metadata": {},
   "source": [
    "#### Variable cuantitativa continua\n",
    "\n",
    "Es aquella que puede tomar cualquier valor real."
   ]
  },
  {
   "cell_type": "markdown",
   "metadata": {},
   "source": [
    "* ***Ejemplo:*** \n",
    "    * El peso de un objeto\n",
    "    * El volumen de un líquido.\n",
    "    * Temperatura."
   ]
  },
  {
   "cell_type": "markdown",
   "metadata": {},
   "source": [
    "#### Variable cuantitativa discreta\n",
    "\n",
    "Es aquella relacionada con el conteo y por lo general toma valores enteros."
   ]
  },
  {
   "cell_type": "markdown",
   "metadata": {},
   "source": [
    "* ***Ejemplo:*** \n",
    "    * Número de días de la semana en la que alguien come carne\n",
    "    * Cánicas que tienen infantes de 10 años para abajo en la ciudad de México."
   ]
  },
  {
   "cell_type": "markdown",
   "metadata": {},
   "source": [
    "### Variables cualitativas (cualidades)"
   ]
  },
  {
   "cell_type": "markdown",
   "metadata": {},
   "source": [
    "Son las que se describen mediante nombres o cualidades no numéricas. Pueden ser *ordinales* o *nominales*: "
   ]
  },
  {
   "cell_type": "markdown",
   "metadata": {},
   "source": [
    "#### Variable cualitativa ordinal (orden)\n",
    "\n",
    "Es aquella en la cual podemos establecer un **orden** entre las etiquetas."
   ]
  },
  {
   "cell_type": "markdown",
   "metadata": {},
   "source": [
    "* ***Ejemplo:*** \n",
    "    * Turno en la fila de las tortillas\n",
    "    * Qué tanto nos gusta el mole (\"nada\", \"poco\", \"más o menos\", \"mucho\", \"es lo que más me gusta\")"
   ]
  },
  {
   "cell_type": "markdown",
   "metadata": {},
   "source": [
    "#### Variable cualitativa nominal (nombres)\n",
    "\n",
    "Es aquella en la cual **NO** podemos/queremos establecer un orden entre las etiquetas (nombres)."
   ]
  },
  {
   "cell_type": "markdown",
   "metadata": {},
   "source": [
    "* ***Ejemplo:*** \n",
    "    * Colores que se ven en el cielo\n",
    "    * Tipos de cerveza"
   ]
  },
  {
   "cell_type": "markdown",
   "metadata": {},
   "source": [
    "### Periodo"
   ]
  },
  {
   "cell_type": "markdown",
   "metadata": {},
   "source": [
    "Tiempo que pasa para que una cosa se repita. "
   ]
  },
  {
   "cell_type": "markdown",
   "metadata": {},
   "source": [
    "### Frecuencia"
   ]
  },
  {
   "cell_type": "markdown",
   "metadata": {},
   "source": [
    "Cantidad que nos dice qué tan repetitivo es algo. "
   ]
  },
  {
   "cell_type": "markdown",
   "metadata": {},
   "source": [
    "### Censo"
   ]
  },
  {
   "cell_type": "markdown",
   "metadata": {},
   "source": [
    "Consiste en obtener mediciones de una población mediante diversas técnicas de recuento y se realiza cada determinado periodo."
   ]
  },
  {
   "cell_type": "markdown",
   "metadata": {},
   "source": [
    "### Muestreo"
   ]
  },
  {
   "cell_type": "markdown",
   "metadata": {},
   "source": [
    "Consiste en obtener mediciones de una muestra (significativa) de la población."
   ]
  },
  {
   "cell_type": "markdown",
   "metadata": {},
   "source": [
    "## Sumatoria, $ \\sum $"
   ]
  },
  {
   "cell_type": "markdown",
   "metadata": {},
   "source": [
    "Imaginemos que tenemos un número muy grande de datos y queremos saber la suma de todos ellos. Una manera de expresar esta suma de manera concisa es mediante la *\"sumatoria\"* :"
   ]
  },
  {
   "cell_type": "markdown",
   "metadata": {},
   "source": [
    "$$ \\sum_{i=1}^{n}x_i=x_1+x_2+x_3+\\cdots+x_{n} $$"
   ]
  },
  {
   "cell_type": "markdown",
   "metadata": {},
   "source": [
    "La sumatoria significa la suma de cada uno de los datos que tenemos."
   ]
  },
  {
   "cell_type": "markdown",
   "metadata": {},
   "source": [
    "Lo que está abajo del símbolo $\\sum$ significa en cuál dato empezamos y lo que está arriba significa en cuál dato terminamos. El número de datos totales que se tienen usando esta notación es\n",
    "\n",
    "$$ \\text{Número de dato final}-\\text{Número de dato inicial}+1$$"
   ]
  },
  {
   "cell_type": "markdown",
   "metadata": {},
   "source": [
    "* ***Ejemplo:*** Calificaciones redondeadas de seis materias de estudiante de ENP"
   ]
  },
  {
   "cell_type": "markdown",
   "metadata": {},
   "source": [
    "$C_1=8$, $C_2=6$, $C_3=9$, $C_4=7$, $C_5=8$, $C_6=8$, $C_7=10$"
   ]
  },
  {
   "cell_type": "markdown",
   "metadata": {},
   "source": [
    "La suma de todas las calificaciones se puede expresar como una sumatoria:"
   ]
  },
  {
   "cell_type": "markdown",
   "metadata": {},
   "source": [
    "$$ \\sum_{i=1}^6C_i=C_1+C_2+C_3+C_4+C_5+C_6+C_7 $$"
   ]
  },
  {
   "cell_type": "markdown",
   "metadata": {},
   "source": [
    "Lo de la izquierda significa *\"la suma desde el primer dato hasta el séptimo dato\"*."
   ]
  },
  {
   "cell_type": "markdown",
   "metadata": {},
   "source": [
    "$$ \\sum_{i=1}^6C_i=C_1+C_2+C_3+C_4+C_5+C_6=8+6+9+7+8+8=46 $$"
   ]
  },
  {
   "cell_type": "markdown",
   "metadata": {},
   "source": [
    "* ***Ejemplo:*** La suma de 100 datos:"
   ]
  },
  {
   "cell_type": "markdown",
   "metadata": {},
   "source": [
    "$$ \\sum_{i=1}^{100}x_i=x_1+x_2+x_3+\\dots+x_{98}+x_{99}+x_{100} $$"
   ]
  },
  {
   "cell_type": "markdown",
   "metadata": {},
   "source": [
    "Lo del lado izquierdo se lee como *\"la sumatoria desde 1 hasta 100 de los datos\"*."
   ]
  },
  {
   "cell_type": "markdown",
   "metadata": {},
   "source": [
    "## Medidas de tendencia central"
   ]
  },
  {
   "cell_type": "markdown",
   "metadata": {},
   "source": [
    "Son valores numéricos que representan o resumen el conjunto total de los datos y se ubican en la parte central de la distribución de frecuencia."
   ]
  },
  {
   "cell_type": "markdown",
   "metadata": {},
   "source": [
    "### Media aritmética o media, $\\bar{x}$"
   ]
  },
  {
   "cell_type": "markdown",
   "metadata": {},
   "source": [
    "Es el promedio del conjunto de datos observados. Si tenemos $n$ datos se puede obtener mediante"
   ]
  },
  {
   "cell_type": "markdown",
   "metadata": {},
   "source": [
    "$$ \\bar{x}=\\dfrac{x_1+x_2+x_3+\\dots+x_n}{n}=\\dfrac{\\sum_{i=1}^nx_i}{n} $$"
   ]
  },
  {
   "cell_type": "markdown",
   "metadata": {},
   "source": [
    "* ***Ejemplo:*** Calificaciones redondeadas de seis materias de estudiante de ENP"
   ]
  },
  {
   "cell_type": "markdown",
   "metadata": {},
   "source": [
    "$C_1=8$, $C_2=6$, $C_3=9$, $C_4=7$, $C_5=8$, $C_6=8$, $C_7=10$"
   ]
  },
  {
   "cell_type": "markdown",
   "metadata": {},
   "source": [
    "La suma de todas las calificaciones se puede expresar como una sumatoria:"
   ]
  },
  {
   "cell_type": "markdown",
   "metadata": {},
   "source": [
    "$$ \\bar{C}=\\dfrac{\\sum_{i=1}^7C_i}{7} $$"
   ]
  },
  {
   "cell_type": "markdown",
   "metadata": {},
   "source": [
    "$$ \\bar{C}=\\dfrac{8+6+9+7+8+8+10}{7}=\\dfrac{56}{7}=8 $$"
   ]
  },
  {
   "cell_type": "markdown",
   "metadata": {},
   "source": [
    "* ***Ejemplo:*** Calificaciones redondeadas de seis materias de estudiante de CCH"
   ]
  },
  {
   "cell_type": "markdown",
   "metadata": {},
   "source": [
    "$C_1=8$, $C_2=6$, $C_3=9$, $C_4=7$, $C_5=8$, $C_6=8$"
   ]
  },
  {
   "cell_type": "markdown",
   "metadata": {},
   "source": [
    "La suma de todas las calificaciones se puede expresar como una sumatoria:"
   ]
  },
  {
   "cell_type": "markdown",
   "metadata": {},
   "source": [
    "$$ \\bar{C}=\\dfrac{\\sum_{i=1}^6C_i}{6} $$"
   ]
  },
  {
   "cell_type": "markdown",
   "metadata": {},
   "source": [
    "$$ \\bar{C}=\\dfrac{8+6+9+7+8+8}{6}=\\dfrac{46}{6}=7.6 $$"
   ]
  },
  {
   "cell_type": "markdown",
   "metadata": {},
   "source": [
    "### Mediana, $\\tilde{x}$"
   ]
  },
  {
   "cell_type": "markdown",
   "metadata": {},
   "source": [
    "Es el dato que se encuentra en medio de los datos ordenados. \n",
    "\n",
    "* Si tenemos un número impar de datos la mediana $\\tilde{x}$ se encuentra en la posición $\\dfrac{n+1}{2}$.\n",
    "* Si tenemos un número par de datos la mediana $\\tilde{x}$ es el promedio de los dos datos que se encuentren en las posiciones $\\dfrac{n}{2}$ y $\\dfrac{n}{2}+1$.\n"
   ]
  },
  {
   "cell_type": "markdown",
   "metadata": {},
   "source": [
    "* **Nota**:\n",
    "    * Nuḿeros impares son aquellos números enteros que su último dígito es 1, 3, 5, 7, 9.\n",
    "    * Nuḿeros pares son aquellos números enteros que su último dígito es 2, 4, 6, 8, 0."
   ]
  },
  {
   "cell_type": "markdown",
   "metadata": {},
   "source": [
    "* ***Ejemplo:*** Calificaciones redondeadas de siete materias de estudiante de ENP"
   ]
  },
  {
   "cell_type": "markdown",
   "metadata": {},
   "source": [
    "$C_1=8$, $C_2=6$, $C_3=9$, $C_4=7$, $C_5=8$, $C_6=8$, $C_7=10$"
   ]
  },
  {
   "cell_type": "markdown",
   "metadata": {},
   "source": [
    "Tenemos $n=7$ datos, la posición de la mediana es\n",
    "\n",
    "$$\\dfrac{n+1}{2}=\\dfrac{7+1}{2}=4$$"
   ]
  },
  {
   "cell_type": "markdown",
   "metadata": {},
   "source": [
    "| No de calificación | Valor de calificación |\n",
    "|--------------------|-----------------------|\n",
    "| 1                  | 6                     |\n",
    "| 2                  | 7                     |\n",
    "| 3                  | 8                     |\n",
    "| 4                  | 8                     |\n",
    "| 5                  | 8                     |\n",
    "| 6                  | 9                     |\n",
    "| 7                  | 10                    |"
   ]
  },
  {
   "cell_type": "markdown",
   "metadata": {},
   "source": [
    "La mediana de las calificaciones es\n",
    "$$\\tilde{C}=8$$"
   ]
  },
  {
   "cell_type": "markdown",
   "metadata": {},
   "source": [
    "* ***Ejemplo:*** Calificaciones redondeadas de seis materias de estudiante de ENP"
   ]
  },
  {
   "cell_type": "markdown",
   "metadata": {},
   "source": [
    "$C_1=8$, $C_2=6$, $C_3=9$, $C_4=7$, $C_5=8$, $C_6=8$"
   ]
  },
  {
   "cell_type": "markdown",
   "metadata": {},
   "source": [
    "Tenemos $n=6$ datos. Consideramos los datos de la posición  \n",
    "* $\\dfrac{n}{2}=\\dfrac{6}{2}=3$\n",
    "\n",
    "y\n",
    "* $\\dfrac{n}{2}+1=\\dfrac{6}{2}+1=4$"
   ]
  },
  {
   "cell_type": "markdown",
   "metadata": {},
   "source": [
    "| No de calificación | Valor de calificación |\n",
    "|--------------------|-----------------------|\n",
    "| 1                  | 6                     |\n",
    "| 2                  | 7                     |\n",
    "| 3                  | 8                     |\n",
    "| 4                  | 8                     |\n",
    "| 5                  | 8                     |\n",
    "| 6                  | 9                     |"
   ]
  },
  {
   "cell_type": "markdown",
   "metadata": {},
   "source": [
    "Entonces obtenemos el promedio de los dos datos en esas posiciones:"
   ]
  },
  {
   "cell_type": "markdown",
   "metadata": {},
   "source": [
    "$$\\tilde{C}=\\dfrac{8+8}{2}=8$$"
   ]
  },
  {
   "cell_type": "markdown",
   "metadata": {},
   "source": [
    "### Moda, $\\rm{Mo}$"
   ]
  },
  {
   "cell_type": "markdown",
   "metadata": {},
   "source": [
    " Valor del dato observado con mayor frecuencia."
   ]
  },
  {
   "cell_type": "markdown",
   "metadata": {},
   "source": [
    "* ***Ejemplo:*** Calificaciones redondeadas de seis materias de estudiante de ENP"
   ]
  },
  {
   "cell_type": "markdown",
   "metadata": {},
   "source": [
    "| No de calificación | Valor de calificación |\n",
    "|--------------------|-----------------------|\n",
    "| 1                  | 6                     |\n",
    "| 2                  | 7                     |\n",
    "| 3                  | 8                     |\n",
    "| 4                  | 8                     |\n",
    "| 5                  | 8                     |\n",
    "| 6                  | 9                     |\n",
    "| 7                  | 10                    |"
   ]
  },
  {
   "cell_type": "markdown",
   "metadata": {},
   "source": [
    "$C_1=8$, $C_2=6$, $C_3=9$, $C_4=7$, $C_5=8$, $C_6=8$, $C_7=10$"
   ]
  },
  {
   "cell_type": "markdown",
   "metadata": {},
   "source": [
    "El dato que más se repite es"
   ]
  },
  {
   "cell_type": "markdown",
   "metadata": {},
   "source": [
    "$$ \\rm{Mo}=8$$"
   ]
  },
  {
   "cell_type": "markdown",
   "metadata": {},
   "source": [
    "## Situación. Un problema de salud pública"
   ]
  },
  {
   "cell_type": "markdown",
   "metadata": {},
   "source": [
    "En la asignatura de Educación para la Salud, el grupo 501, debe investigar un problema de salud pública de su entorno. Ana decidió analizar el problema de sobrepeso y obesidad en los alumnos de quinto año de su Plantel (ENP 10). Ellos organizaron un plan para realizar su investigación.\n",
    "\n",
    "En primer lugar, se preguntaron qué variables serían interesantes para su estudio."
   ]
  },
  {
   "cell_type": "markdown",
   "metadata": {},
   "source": [
    "**1. Es una variable cualitativa nominal**"
   ]
  },
  {
   "cell_type": "markdown",
   "metadata": {},
   "source": [
    "A) Alcaldía en la que vive un estudiante (Coyoacán, BJ,...)\n",
    "\n",
    "B) Edad de un estudiante (16, 17, 18,...)\n",
    " \n",
    "C) Índice de masa muscular (4.8, 3.7, 2.6)\n",
    "\n",
    "D) Talla de ropa que usa (P, M o G) (28, 30, 32)"
   ]
  },
  {
   "cell_type": "markdown",
   "metadata": {},
   "source": [
    "**Solución:** A)"
   ]
  },
  {
   "cell_type": "markdown",
   "metadata": {},
   "source": [
    "**2. Los valores de la variable \"frecuencia con la que toma refresco un estudiante\" son: con mucha frecuencia, algunas veces, nunca. ¿Qué tipo de variable es?**"
   ]
  },
  {
   "cell_type": "markdown",
   "metadata": {},
   "source": [
    "A) Cualitativa nominal\n",
    "\n",
    "B) Cualitativa ordinal\n",
    "\n",
    "C) Cuantitativa discreta\n",
    "\n",
    "D) Cuantitativa continua"
   ]
  },
  {
   "cell_type": "markdown",
   "metadata": {},
   "source": [
    "**Solución:** "
   ]
  },
  {
   "cell_type": "markdown",
   "metadata": {},
   "source": [
    "**3. Es una variable numérica discreta**"
   ]
  },
  {
   "cell_type": "markdown",
   "metadata": {},
   "source": [
    "A) Cualitativa nominal\n",
    "\n",
    "B) Cualitativa ordinal\n",
    "\n",
    "C) Cuantitativa discreta\n",
    "\n",
    "D) Cuantitativa continua"
   ]
  },
  {
   "cell_type": "markdown",
   "metadata": {},
   "source": [
    "**Solución:** "
   ]
  },
  {
   "cell_type": "markdown",
   "metadata": {},
   "source": [
    "**4. La variable IMC (índice de masa corporal) es de tipo**"
   ]
  },
  {
   "cell_type": "markdown",
   "metadata": {},
   "source": [
    "A) Cualitativa nominal\n",
    "\n",
    "B) Cualitativa ordinal\n",
    "\n",
    "C) Cuantitativa discreta\n",
    "\n",
    "D) Cuantitativa continua"
   ]
  },
  {
   "cell_type": "markdown",
   "metadata": {},
   "source": [
    "**Solución:** "
   ]
  }
 ],
 "metadata": {
  "kernelspec": {
   "display_name": "Julia 1.1.0",
   "language": "julia",
   "name": "julia-1.1"
  },
  "language_info": {
   "file_extension": ".jl",
   "mimetype": "application/julia",
   "name": "julia",
   "version": "1.1.0"
  }
 },
 "nbformat": 4,
 "nbformat_minor": 4
}
