{
 "cells": [
  {
   "cell_type": "markdown",
   "metadata": {},
   "source": [
    "# Funciones para modelar la relación entre variables"
   ]
  },
  {
   "cell_type": "markdown",
   "metadata": {},
   "source": [
    "$x$ (abscisas, eje horizonal) $\\leftrightarrow$ variable independiente $\\leftrightarrow$ dominio\n",
    "\n",
    "$y$ (ordenadas, eje vertical) $\\leftrightarrow$ variable dependiente $\\leftrightarrow$ rango o codomio (o contradominio)"
   ]
  },
  {
   "cell_type": "markdown",
   "metadata": {},
   "source": [
    "No necesariamente son $x$ y $y$."
   ]
  },
  {
   "cell_type": "markdown",
   "metadata": {},
   "source": [
    "# Clase 6"
   ]
  },
  {
   "cell_type": "markdown",
   "metadata": {},
   "source": [
    "## Logaritmos"
   ]
  },
  {
   "cell_type": "markdown",
   "metadata": {},
   "source": [
    "* $\\log_a(a)=1$\n",
    "\n",
    "* $\\log_a(a)=1$\n",
    "\n",
    "* $\\log_a(x)+\\log_a(y)=\\log_a(xy)$\n",
    "\n",
    "* $\\log_a(x)-\\log_a(y)=\\log_a\\left(\\dfrac{x}{y}\\right)$\n",
    "\n",
    "* $\\log_a(x^n)=n\\log_a(x)$\n",
    "\n",
    "* $\\log_a(b)=\\dfrac{\\log_c(b)}{\\log_c(a)}$"
   ]
  },
  {
   "cell_type": "markdown",
   "metadata": {},
   "source": [
    "$$y=x^2\\quad \\leftrightarrow\\quad\\sqrt{y}=x $$"
   ]
  },
  {
   "cell_type": "markdown",
   "metadata": {},
   "source": [
    "$$y=\\log_a(x)\\quad \\leftrightarrow\\quad a^y=x $$"
   ]
  },
  {
   "cell_type": "markdown",
   "metadata": {},
   "source": [
    "* ***Ejemplo:*** Resuelve la ecuación\n",
    "\n",
    "$$ 3^{x+1}=81 $$"
   ]
  },
  {
   "cell_type": "markdown",
   "metadata": {},
   "source": [
    "Pasamos el $3$ en la base del otro lado de la ecuación. Pasa como logaritmo:"
   ]
  },
  {
   "cell_type": "markdown",
   "metadata": {},
   "source": [
    "$$ x+1=\\log_3(81) $$"
   ]
  },
  {
   "cell_type": "markdown",
   "metadata": {},
   "source": [
    "$$ x+1=4 $$"
   ]
  },
  {
   "cell_type": "markdown",
   "metadata": {},
   "source": [
    "$$ x=4-1 $$"
   ]
  },
  {
   "cell_type": "markdown",
   "metadata": {},
   "source": [
    "$$ x=3 $$"
   ]
  },
  {
   "cell_type": "markdown",
   "metadata": {},
   "source": [
    "* ***Ejemplo:*** Encuentra $t$ de tal forma que"
   ]
  },
  {
   "cell_type": "markdown",
   "metadata": {},
   "source": [
    "$$2^t = 7$$"
   ]
  },
  {
   "cell_type": "markdown",
   "metadata": {},
   "source": [
    "$$t = \\log_2(7)$$"
   ]
  },
  {
   "cell_type": "markdown",
   "metadata": {},
   "source": [
    "* $\\log_a(b)=\\dfrac{\\log_c(b)}{\\log_c(a)}$"
   ]
  },
  {
   "cell_type": "markdown",
   "metadata": {},
   "source": [
    "$a=2$, $b=7$, $c=10$"
   ]
  },
  {
   "cell_type": "markdown",
   "metadata": {},
   "source": [
    "$$\\log_2(7)=\\dfrac{\\log_{10}(7)}{\\log_{10}(2)}=2.80735922...$$"
   ]
  },
  {
   "cell_type": "code",
   "execution_count": 13,
   "metadata": {},
   "outputs": [
    {
     "data": {
      "text/plain": [
       "7.00002085377764"
      ]
     },
     "execution_count": 13,
     "metadata": {},
     "output_type": "execute_result"
    }
   ],
   "source": [
    "2^2.80735922"
   ]
  },
  {
   "cell_type": "markdown",
   "metadata": {},
   "source": [
    "* ***Ejemplo:*** Resuelve la ecuación\n",
    "\n",
    "$$ \\log_2(x^7)=21 $$"
   ]
  },
  {
   "cell_type": "markdown",
   "metadata": {},
   "source": [
    "* $\\log_a(x^n)=n\\log_a(x)$"
   ]
  },
  {
   "cell_type": "markdown",
   "metadata": {},
   "source": [
    "$$ 7\\log_2(x)=21 $$"
   ]
  },
  {
   "cell_type": "markdown",
   "metadata": {},
   "source": [
    "$$ \\log_2(x)=\\dfrac{21}{7}=3 $$"
   ]
  },
  {
   "cell_type": "markdown",
   "metadata": {},
   "source": [
    "$$ x=2^3=8 $$"
   ]
  },
  {
   "cell_type": "markdown",
   "metadata": {},
   "source": [
    "* ***Ejemplo:*** Resuelve la ecuación\n",
    "\n",
    "$$ \\log_2(x+1)+\\log_2(x-1)=4 $$"
   ]
  },
  {
   "cell_type": "markdown",
   "metadata": {},
   "source": [
    "* $\\log_a(x)+\\log_a(y)=\\log_a(xy)$"
   ]
  },
  {
   "cell_type": "markdown",
   "metadata": {},
   "source": [
    "$$ \\log_2[(x+1)(x-1)]=4 $$"
   ]
  },
  {
   "cell_type": "markdown",
   "metadata": {},
   "source": [
    "$$ \\log_2(x^2-1)=4 $$"
   ]
  },
  {
   "cell_type": "markdown",
   "metadata": {},
   "source": [
    "$$ x^2-1=2^4 $$"
   ]
  },
  {
   "cell_type": "markdown",
   "metadata": {},
   "source": [
    "$$ x^2=2^4+1 $$"
   ]
  },
  {
   "cell_type": "markdown",
   "metadata": {},
   "source": [
    "$$ x^2=17 $$"
   ]
  },
  {
   "cell_type": "markdown",
   "metadata": {},
   "source": [
    "$$ x=\\sqrt{17} $$"
   ]
  },
  {
   "cell_type": "markdown",
   "metadata": {},
   "source": [
    "## Funciones exponenciales"
   ]
  },
  {
   "cell_type": "markdown",
   "metadata": {},
   "source": [
    "$$ f(x)=a\\cdot b^x+c $$"
   ]
  },
  {
   "cell_type": "markdown",
   "metadata": {},
   "source": [
    "* Si $b>1$, decimos que se trata de un crecimiento exponencial.\n",
    "* Si $0<b<1$, decimos que se trata de un decaimiento exponencial.\n",
    "* Si $b=1$, línea horizontal (función constante)"
   ]
  },
  {
   "cell_type": "markdown",
   "metadata": {},
   "source": [
    "El dominio máximo de estas funciones es $\\mathbb{R}=(-\\infty,\\infty)$."
   ]
  },
  {
   "cell_type": "markdown",
   "metadata": {},
   "source": [
    "Si $a>0$, el rango de la función es $(c,\\infty)$.\n",
    "\n",
    "Si $a<0$, el rango de la función es $(-\\infty,c)$."
   ]
  },
  {
   "cell_type": "markdown",
   "metadata": {},
   "source": [
    "Las funciones exponenciales presentan una asíntota horizontal en $y=c$."
   ]
  },
  {
   "cell_type": "markdown",
   "metadata": {},
   "source": [
    "* ***Ejemplo:*** $a=1$, $b=2$, $c=0$"
   ]
  },
  {
   "cell_type": "markdown",
   "metadata": {},
   "source": [
    "$$ f(x)=2^x $$"
   ]
  },
  {
   "cell_type": "markdown",
   "metadata": {},
   "source": [
    "### Proporción (tasa de cambio exponencial)"
   ]
  },
  {
   "cell_type": "markdown",
   "metadata": {},
   "source": [
    "Se define como $b-1$:\n",
    "\n",
    "* Si $b-1$ es positivo decimos que la función está creciendo $(b-1)\\cdot100\\%$\n",
    "* Si $b-1$ es negativo decimos que la función está decayendo $(b-1)\\cdot100\\%$"
   ]
  },
  {
   "cell_type": "markdown",
   "metadata": {},
   "source": [
    "### Tasa (media) de cambio (crecimiento o decrecimiento)"
   ]
  },
  {
   "cell_type": "markdown",
   "metadata": {},
   "source": [
    "Se define como una especie de pendiente:"
   ]
  },
  {
   "cell_type": "markdown",
   "metadata": {},
   "source": [
    "$$ \\dfrac{f(x_2)-f(x_1)}{x_2-x_1} $$"
   ]
  },
  {
   "cell_type": "markdown",
   "metadata": {},
   "source": [
    "Esta tasa se puede usar para cualquier función."
   ]
  },
  {
   "cell_type": "markdown",
   "metadata": {},
   "source": [
    "Básicamente obtenemos, la pendiente entre los puntos:\n",
    "* $P_1(x_1,f(x_1))$\n",
    "* $P_2(x_2,f(x_2))$"
   ]
  },
  {
   "cell_type": "markdown",
   "metadata": {},
   "source": [
    "### ¿Cuál tasa usar?"
   ]
  },
  {
   "cell_type": "markdown",
   "metadata": {},
   "source": [
    "Si nos piden una tasa y nos dan dos puntos distintos, se refieren a la tasa media."
   ]
  },
  {
   "cell_type": "markdown",
   "metadata": {},
   "source": [
    "Si nos piden una tasa, estamos trabajando con una función exponencial y **NO** nos dan dos puntos distintos, se refieren a la tasa de cambio exponencial."
   ]
  },
  {
   "cell_type": "markdown",
   "metadata": {},
   "source": [
    "* ***Ejemplo:*** **El ajedrez**\n",
    "\n",
    "\"Si se colocase sobre un tablero de ajedrez (lo suficientemente grande) un grano de trigo en el primer casillero, dos en el segundo, cuatro en el tercero y así sucesivamente, doblando la cantidad de granos en cada casilla, ¿cuántos granos de trigo habría en el tablero al final?\" https://es.wikipedia.org/wiki/Problema_del_trigo_y_del_tablero_de_ajedrez"
   ]
  },
  {
   "cell_type": "markdown",
   "metadata": {},
   "source": [
    "$$ f(x)=2^x $$"
   ]
  },
  {
   "cell_type": "markdown",
   "metadata": {},
   "source": [
    "Para la primera casilla:"
   ]
  },
  {
   "cell_type": "markdown",
   "metadata": {},
   "source": [
    "$$ f(0)=2^0=1 $$"
   ]
  },
  {
   "cell_type": "markdown",
   "metadata": {},
   "source": [
    "Para la segunda casilla:"
   ]
  },
  {
   "cell_type": "markdown",
   "metadata": {},
   "source": [
    "$$ f(1)=2^1=2 $$"
   ]
  },
  {
   "cell_type": "markdown",
   "metadata": {},
   "source": [
    "Para la tercera casilla:"
   ]
  },
  {
   "cell_type": "markdown",
   "metadata": {},
   "source": [
    "$$ f(2)=2^2=4 $$"
   ]
  },
  {
   "cell_type": "markdown",
   "metadata": {},
   "source": [
    "Para la cuarta casilla:"
   ]
  },
  {
   "cell_type": "markdown",
   "metadata": {},
   "source": [
    "$$ f(3)=2^3=8 $$"
   ]
  },
  {
   "cell_type": "markdown",
   "metadata": {},
   "source": [
    "Para la décima casilla:"
   ]
  },
  {
   "cell_type": "markdown",
   "metadata": {},
   "source": [
    "$$ f(10)=2^{10}=1024 $$"
   ]
  },
  {
   "cell_type": "code",
   "execution_count": 13,
   "metadata": {},
   "outputs": [
    {
     "data": {
      "text/plain": [
       "1024"
      ]
     },
     "execution_count": 13,
     "metadata": {},
     "output_type": "execute_result"
    }
   ],
   "source": [
    "2^10"
   ]
  },
  {
   "cell_type": "markdown",
   "metadata": {},
   "source": [
    "Para la sexagésima tercera casilla:"
   ]
  },
  {
   "cell_type": "markdown",
   "metadata": {},
   "source": [
    "$$ f(63)=2^{63}=9223372036854775808 $$"
   ]
  },
  {
   "cell_type": "code",
   "execution_count": 12,
   "metadata": {},
   "outputs": [
    {
     "data": {
      "text/plain": [
       "9223372036854775808"
      ]
     },
     "execution_count": 12,
     "metadata": {},
     "output_type": "execute_result"
    }
   ],
   "source": [
    "big(2)^63"
   ]
  },
  {
   "cell_type": "markdown",
   "metadata": {},
   "source": [
    "O sea que el valor final es más grande que la cantidad de trigo que hay en todo el mundo."
   ]
  },
  {
   "cell_type": "markdown",
   "metadata": {},
   "source": [
    "### Forma alternativa de las funciones exponenciales"
   ]
  },
  {
   "cell_type": "markdown",
   "metadata": {},
   "source": [
    "$$ f(x)=A\\,e^{kx}+c $$"
   ]
  },
  {
   "cell_type": "markdown",
   "metadata": {},
   "source": [
    "* Si $k>0$, decimos que se trata de un crecimiento exponencial.\n",
    "* Si $k<0$, decimos que se trata de un decaimiento exponencial.\n",
    "* Si $k=0$, línea horizontal"
   ]
  },
  {
   "cell_type": "markdown",
   "metadata": {},
   "source": [
    "## Funciones logarítmicas"
   ]
  },
  {
   "cell_type": "markdown",
   "metadata": {},
   "source": [
    "$$ f(x)=a\\cdot\\log(x+b)+c$$"
   ]
  },
  {
   "cell_type": "markdown",
   "metadata": {},
   "source": [
    "El dominio máximo de estas funciones es $(-b,\\infty)$."
   ]
  },
  {
   "cell_type": "markdown",
   "metadata": {},
   "source": [
    "El rango para este dominio máximo es $\\mathbb{R}=(-\\infty,\\infty)$."
   ]
  },
  {
   "cell_type": "markdown",
   "metadata": {},
   "source": [
    "Las funciones logarítmicas presentan una asíntota vertical en $x=-b$."
   ]
  },
  {
   "cell_type": "markdown",
   "metadata": {},
   "source": [
    "## ¿Quién gana?"
   ]
  },
  {
   "cell_type": "markdown",
   "metadata": {},
   "source": [
    "Si te ofrecen una chamba diciéndote que te ofrecerán un sueldo como función del tiempo trabajado, y te dan a escoger entre las siguientes opciones, ¿cuál te conviene elegir?"
   ]
  },
  {
   "cell_type": "markdown",
   "metadata": {},
   "source": [
    "* $ S_1(t)=100t $"
   ]
  },
  {
   "cell_type": "markdown",
   "metadata": {},
   "source": [
    "$$ S_1(8)=100(8)=800 $$"
   ]
  },
  {
   "cell_type": "markdown",
   "metadata": {},
   "source": [
    "* $ S_2(t)=100t^2 $"
   ]
  },
  {
   "cell_type": "markdown",
   "metadata": {},
   "source": [
    "$$ S_2(8)=100(8)^2=6400 $$"
   ]
  },
  {
   "cell_type": "markdown",
   "metadata": {},
   "source": [
    "* $ S_3(t)=100\\ln(t) $"
   ]
  },
  {
   "cell_type": "markdown",
   "metadata": {},
   "source": [
    "$$ S_3(8)=100\\ln(8)=207.94 $$"
   ]
  },
  {
   "cell_type": "code",
   "execution_count": 18,
   "metadata": {},
   "outputs": [
    {
     "data": {
      "text/plain": [
       "207.94415416798358"
      ]
     },
     "execution_count": 18,
     "metadata": {},
     "output_type": "execute_result"
    }
   ],
   "source": [
    "100*log(8)"
   ]
  },
  {
   "cell_type": "markdown",
   "metadata": {},
   "source": [
    "* $ S_4(t)=100\\,e^t $"
   ]
  },
  {
   "cell_type": "markdown",
   "metadata": {},
   "source": [
    "$$ S_4(8)=100\\,e^8=298095.80 $$"
   ]
  },
  {
   "cell_type": "code",
   "execution_count": 19,
   "metadata": {},
   "outputs": [
    {
     "data": {
      "text/plain": [
       "298095.79870417283"
      ]
     },
     "execution_count": 19,
     "metadata": {},
     "output_type": "execute_result"
    }
   ],
   "source": [
    "100*exp(8)"
   ]
  },
  {
   "cell_type": "markdown",
   "metadata": {},
   "source": [
    "https://www.desmos.com/calculator/vse1cmyayl"
   ]
  },
  {
   "cell_type": "markdown",
   "metadata": {},
   "source": [
    "* ***Ejemplo:*** Pensemos que tenemos una función exponencial $f(x)$. Si $f(20)=88.2$ y $f(23)=91.4$, encuentra (a) la base, (b) $f(25)$ y, (c) la tasa de crecimiento (media) entre los puntos del principio."
   ]
  },
  {
   "cell_type": "markdown",
   "metadata": {},
   "source": [
    "**(a)** Buscamos una función de la forma"
   ]
  },
  {
   "cell_type": "markdown",
   "metadata": {},
   "source": [
    "$$ f(x)=a\\cdot b^x $$"
   ]
  },
  {
   "cell_type": "markdown",
   "metadata": {},
   "source": [
    "**Primera ecuación:**"
   ]
  },
  {
   "cell_type": "markdown",
   "metadata": {},
   "source": [
    "$$ f(20)=a\\cdot b^{20}=88.2 $$"
   ]
  },
  {
   "cell_type": "markdown",
   "metadata": {},
   "source": [
    "$$ a\\cdot b^{20}=88.2 $$"
   ]
  },
  {
   "cell_type": "markdown",
   "metadata": {},
   "source": [
    "$$ a=\\dfrac{88.2}{b^{20}} $$"
   ]
  },
  {
   "cell_type": "markdown",
   "metadata": {},
   "source": [
    "**Segunda ecuación:**"
   ]
  },
  {
   "cell_type": "markdown",
   "metadata": {},
   "source": [
    "$$ f(23)=a\\cdot b^{23}=91.4 $$"
   ]
  },
  {
   "cell_type": "markdown",
   "metadata": {},
   "source": [
    "$$ a\\cdot b^{23}=91.4 $$"
   ]
  },
  {
   "cell_type": "markdown",
   "metadata": {},
   "source": [
    "$$ a=\\dfrac{91.4}{b^{23}} $$"
   ]
  },
  {
   "cell_type": "markdown",
   "metadata": {},
   "source": [
    "Igualamos las $a$'s:"
   ]
  },
  {
   "cell_type": "markdown",
   "metadata": {},
   "source": [
    "$$ a=a $$"
   ]
  },
  {
   "cell_type": "markdown",
   "metadata": {},
   "source": [
    "Despejamos la $b$:"
   ]
  },
  {
   "cell_type": "markdown",
   "metadata": {},
   "source": [
    "$$ \\dfrac{88.2}{b^{20}}=\\dfrac{91.4}{b^{23}} $$"
   ]
  },
  {
   "cell_type": "markdown",
   "metadata": {},
   "source": [
    "$$ b^{23}\\dfrac{88.2}{b^{20}}=91.4 $$"
   ]
  },
  {
   "cell_type": "markdown",
   "metadata": {},
   "source": [
    "$$ \\dfrac{b^{23}}{b^{20}}=\\dfrac{91.4}{88.2} $$"
   ]
  },
  {
   "cell_type": "markdown",
   "metadata": {},
   "source": [
    "$$ b^3=\\dfrac{91.4}{88.2} $$"
   ]
  },
  {
   "cell_type": "markdown",
   "metadata": {},
   "source": [
    "$$ b=\\sqrt[3]{\\dfrac{91.4}{88.2}}\\approx1.012 $$"
   ]
  },
  {
   "cell_type": "code",
   "execution_count": 23,
   "metadata": {},
   "outputs": [
    {
     "data": {
      "text/plain": [
       "1.0119503467133988"
      ]
     },
     "execution_count": 23,
     "metadata": {},
     "output_type": "execute_result"
    }
   ],
   "source": [
    "∛(91.4/88.2)"
   ]
  },
  {
   "cell_type": "markdown",
   "metadata": {},
   "source": [
    "**(b)** Queremos encontrar el valor de $f(25)$. Para esto nos conviene obtener el valor de $a$. Podemos obtener esto con cualquiera de los dos despejes:"
   ]
  },
  {
   "cell_type": "markdown",
   "metadata": {},
   "source": [
    "$$ a=\\dfrac{88.2}{b^{20}}\\approx69.548 $$"
   ]
  },
  {
   "cell_type": "markdown",
   "metadata": {},
   "source": [
    "$$ a=\\dfrac{91.4}{b^{23}}\\approx69.548 $$"
   ]
  },
  {
   "cell_type": "code",
   "execution_count": 25,
   "metadata": {},
   "outputs": [
    {
     "data": {
      "text/plain": [
       "69.5479790218789"
      ]
     },
     "execution_count": 25,
     "metadata": {},
     "output_type": "execute_result"
    }
   ],
   "source": [
    "88.2/(1.011950346713399^20)"
   ]
  },
  {
   "cell_type": "code",
   "execution_count": 26,
   "metadata": {},
   "outputs": [
    {
     "data": {
      "text/plain": [
       "69.54797902187889"
      ]
     },
     "execution_count": 26,
     "metadata": {},
     "output_type": "execute_result"
    }
   ],
   "source": [
    "91.4/(1.011950346713399^23)"
   ]
  },
  {
   "cell_type": "markdown",
   "metadata": {},
   "source": [
    "Entonces la función toma los valores encontrados:"
   ]
  },
  {
   "cell_type": "markdown",
   "metadata": {},
   "source": [
    "$$ f(x)=(69.548)\\cdot(1.012)^x $$"
   ]
  },
  {
   "cell_type": "markdown",
   "metadata": {},
   "source": [
    "$$ f(25)=(69.548)\\cdot(1.012)^{25}\\approx93.712 $$"
   ]
  },
  {
   "cell_type": "code",
   "execution_count": 27,
   "metadata": {},
   "outputs": [
    {
     "data": {
      "text/plain": [
       "93.71248579957805"
      ]
     },
     "execution_count": 27,
     "metadata": {},
     "output_type": "execute_result"
    }
   ],
   "source": [
    "(69.548)*(1.012)^25"
   ]
  },
  {
   "cell_type": "markdown",
   "metadata": {},
   "source": [
    "**(c)** Como $f(20)=88.2$ y $f(23)=91.4$ tenemos dos puntos, $(20,88.2)$ y $(23,91.4)$, podemos encontrar la tasa (media) de cambio como una pendiente"
   ]
  },
  {
   "cell_type": "markdown",
   "metadata": {},
   "source": [
    "$$ \\dfrac{91.4-88.2}{23-20}=1.06 $$"
   ]
  },
  {
   "cell_type": "code",
   "execution_count": 28,
   "metadata": {},
   "outputs": [
    {
     "data": {
      "text/plain": [
       "1.0666666666666675"
      ]
     },
     "execution_count": 28,
     "metadata": {},
     "output_type": "execute_result"
    }
   ],
   "source": [
    "(91.4-88.2)/(23-20)"
   ]
  },
  {
   "cell_type": "markdown",
   "metadata": {},
   "source": [
    "¿Qué significa este valor? Es el crecimiento promedio que experimenta la función."
   ]
  },
  {
   "cell_type": "markdown",
   "metadata": {},
   "source": [
    "## Situación. Población de Michoacán"
   ]
  },
  {
   "cell_type": "markdown",
   "metadata": {},
   "source": [
    "En la Tabla se muestra la relación de la población de Michoacán de 1880 a 2010. La tercera\n",
    "columna nos indica la proporción, la cual fue obtenida de dividir la población de determinada\n",
    "década entre la población de la década precedente."
   ]
  },
  {
   "cell_type": "markdown",
   "metadata": {},
   "source": [
    "| Año  | Población (millones) | Proporción |\n",
    "|------|----------------------|------------|\n",
    "| 1880 | 1.48                 |        |\n",
    "| 1890 | 1.84                 | 1.24       |\n",
    "| 1900 | 2.28                 | 1.24       |\n",
    "| 1910 | 2.82                 | 1.24       |\n",
    "| 1920 | 3.49                 | 1.24       |\n",
    "| 1930 | 4.33                 | 1.24       |\n",
    "| 1940 | 5.36                 | 1.24       |\n",
    "| 1950 | 6.64                 | 1.24       |\n",
    "| 1960 | 8.22                 | 1.24       |\n",
    "| 1970 | 10.18                | 1.24       |\n",
    "| 1980 | 12.62                | 1.24       |\n",
    "| 1990 | 15.63                | 1.24       |\n",
    "| 2000 | 19.35                | 1.24       |\n",
    "| 2010 | 23.97                | 1.24       |"
   ]
  },
  {
   "cell_type": "markdown",
   "metadata": {},
   "source": [
    "**1. ¿Cuál de las siguientes afirmaciones es verdadera? [1 punto]**"
   ]
  },
  {
   "cell_type": "markdown",
   "metadata": {},
   "source": [
    "Como la proporción no cambia nos centraremos en la primera y segunda columna. Notamos que la forma en la que cambia la población depende del año.\n",
    "\n",
    "*\"depende de\"* $=$ *\"en función de\"*"
   ]
  },
  {
   "cell_type": "markdown",
   "metadata": {},
   "source": [
    "Población $=$ variable dependiente (porque depende del año)"
   ]
  },
  {
   "cell_type": "markdown",
   "metadata": {},
   "source": [
    "Año $=$ variable independiente"
   ]
  },
  {
   "cell_type": "markdown",
   "metadata": {},
   "source": [
    "La variable independiente se relaciona con el dominio."
   ]
  },
  {
   "cell_type": "markdown",
   "metadata": {},
   "source": [
    "La variable dependiente se relaciona con el rango o codominio."
   ]
  },
  {
   "cell_type": "markdown",
   "metadata": {},
   "source": [
    "A) El año es el dominio y la proporción el codominio de la relación.\n",
    "\n",
    "B) La población es el dominio y la proporción el codominio de la relación.\n",
    "\n",
    "C) El año es el dominio y la población el codominio de la relación.\n",
    "\n",
    "D) La población es el dominio y el año el codominio de la relación."
   ]
  },
  {
   "cell_type": "markdown",
   "metadata": {},
   "source": [
    "**Solución:** C)"
   ]
  },
  {
   "cell_type": "markdown",
   "metadata": {},
   "source": [
    "**2.  La tasa de crecimiento de 1990 al 2010 de la población de Michoacán es: [2 puntos]**"
   ]
  },
  {
   "cell_type": "markdown",
   "metadata": {},
   "source": [
    "**(c)** Como tenemos dos puntos, $(1990,15.63)$ y $(2010,23.97)$, podemos encontrar la tasa (media) de cambio como una pendiente"
   ]
  },
  {
   "cell_type": "markdown",
   "metadata": {},
   "source": [
    "$$ \\dfrac{23.97-15.63}{2010-1990}=0.417 $$"
   ]
  },
  {
   "cell_type": "code",
   "execution_count": 30,
   "metadata": {},
   "outputs": [
    {
     "data": {
      "text/plain": [
       "0.4169999999999999"
      ]
     },
     "execution_count": 30,
     "metadata": {},
     "output_type": "execute_result"
    }
   ],
   "source": [
    "(23.97-15.63)/(2010-1990)"
   ]
  },
  {
   "cell_type": "markdown",
   "metadata": {},
   "source": [
    "A) $1.24$\n",
    "\n",
    "B) $0.417$\n",
    "\n",
    "C) $2.4$\n",
    "\n",
    "D) $0.24$"
   ]
  },
  {
   "cell_type": "markdown",
   "metadata": {},
   "source": [
    "**Solución:** B)"
   ]
  },
  {
   "cell_type": "markdown",
   "metadata": {},
   "source": [
    "**3. Los datos de la tabla 1 se encuentran modelados por una función del tipo $f(x)=Aa^{Bx}$ donde $A$ y $B$ son constantes, la función es: [1 punto]**"
   ]
  },
  {
   "cell_type": "markdown",
   "metadata": {},
   "source": [
    "Como la variable independiente se encuentra como un exponente, debe tratarse de una función exponencial."
   ]
  },
  {
   "cell_type": "markdown",
   "metadata": {},
   "source": [
    "A) Lineal\n",
    "\n",
    "B) Polinomial\n",
    "\n",
    "C) Exponencial\n",
    "\n",
    "D) Logarítmica"
   ]
  },
  {
   "cell_type": "markdown",
   "metadata": {},
   "source": [
    "**Solución:** C)"
   ]
  },
  {
   "cell_type": "markdown",
   "metadata": {},
   "source": [
    "## Situación: Fragmentos de Bosque y Hormigas\n",
    "\n",
    "Como parte de un análisis del efecto de la fragmentación sobre las relaciones\n",
    "especies-área, se registró el número de especies de hormigas para ciertos\n",
    "fragmentos de bosque seco tropical. En el siguiente gráfico se presenta la relación\n",
    "entre el área de los fragmentos de bosque seco tropical en la cuenca media del río\n",
    "Cauca, Colombia, medida en hectáreas (h) , con el número de especies de hormigas\n",
    "encontradas en cada fragmento N (h) .\n"
   ]
  },
  {
   "cell_type": "markdown",
   "metadata": {},
   "source": [
    "**1. Es el tipo de función que mejor describe la asociación entre el área y el número\n",
    "de especies que se representa en la figura.**"
   ]
  },
  {
   "cell_type": "markdown",
   "metadata": {},
   "source": [
    "<img src=\"bosque1.png\" align=\"middle\" width=\"500\">"
   ]
  },
  {
   "cell_type": "markdown",
   "metadata": {},
   "source": [
    "Podemos darnos cuenta de que se trata de una \n",
    "\n",
    "Nos dan una coordenada"
   ]
  },
  {
   "cell_type": "markdown",
   "metadata": {},
   "source": [
    "A) $N(h)=13e^h+76$\n",
    "\n",
    "B) $N(h)=76e^h+13$\n",
    "\n",
    "C) $N(h)=13\\log(h)+76$\n",
    "\n",
    "D) $N(h)=76\\log(h)+13$"
   ]
  },
  {
   "cell_type": "markdown",
   "metadata": {},
   "source": [
    "**Solución:** C)"
   ]
  },
  {
   "cell_type": "markdown",
   "metadata": {},
   "source": [
    "**2. Si el modelo que ajusta a los datos planteados en la situación para otra zona de\n",
    "bosque es $N(h)=7.9\\cdot\\ln(h)+100$, ¿cuál es el dominio máximo de la función?**"
   ]
  },
  {
   "cell_type": "markdown",
   "metadata": {},
   "source": [
    "A) $(0,\\infty)$\n",
    "\n",
    "B) $(-\\infty,\\infty)$\n",
    "\n",
    "C) $[7.9, 100]$\n",
    "\n",
    "D) $[100, \\infty)$"
   ]
  },
  {
   "cell_type": "markdown",
   "metadata": {},
   "source": [
    "**Solución:** A)"
   ]
  },
  {
   "cell_type": "markdown",
   "metadata": {},
   "source": [
    "**3. Si para una zona especial la relación descrita en la situación está dada por $N (h) = 11.37\\cdot\\ln(h ) + 75.9$, ¿cuál es el despeje para poder determinar el número de hectáreas de un fragmento de bosque donde se encuentran $89$ especies de hormigas?**"
   ]
  },
  {
   "cell_type": "markdown",
   "metadata": {},
   "source": [
    "$N$: número de hormigas\n",
    "\n",
    "$h$: número de hectáreas"
   ]
  },
  {
   "cell_type": "markdown",
   "metadata": {},
   "source": [
    "$N (h) = 11.37\\cdot\\ln(h ) + 75.9$"
   ]
  },
  {
   "cell_type": "markdown",
   "metadata": {},
   "source": [
    "$$ 89 = 11.37\\cdot\\ln(h ) + 75.9$$"
   ]
  },
  {
   "cell_type": "markdown",
   "metadata": {},
   "source": [
    "$$ 89-75.9 = 11.37\\cdot\\ln(h )$$"
   ]
  },
  {
   "cell_type": "markdown",
   "metadata": {},
   "source": [
    "$$ \\dfrac{89-75.9}{11.37}=\\ln(h )$$"
   ]
  },
  {
   "cell_type": "markdown",
   "metadata": {},
   "source": [
    "$$ e^{\\dfrac{89-75.9}{11.37}}=h$$"
   ]
  },
  {
   "cell_type": "markdown",
   "metadata": {},
   "source": [
    "A) $h=e^{\\dfrac{89-75.9}{11.37}}$\n",
    "\n",
    "B) $h=\\ln\\left(\\dfrac{89-75.9}{11.37}\\right)$\n",
    "\n",
    "C) $h=\\ln\\left(\\dfrac{11.37}{89-75.9}\\right)$\n",
    "\n",
    "D) $h=e^{\\dfrac{11.37}{89-75.9}}$"
   ]
  },
  {
   "cell_type": "markdown",
   "metadata": {},
   "source": [
    "## Situación. Decaimiento del plomo"
   ]
  },
  {
   "cell_type": "markdown",
   "metadata": {},
   "source": [
    "La radiactiviad es un fenómeno químico en el que el núcleo de un elemento poco estable se modifica en otro núcleo más estable de otro elemento químico. En un laboratorio, una muestra de $250$ gramos de plomo ${}^{210}\\rm{Pb}$ radiactivo se convierte en polonio ${}^{210}\\rm{Po}$. La función $A(t)=250(2^{-0.125\\,t})$ permite determinar la cantidad $A(t)$ de plomo radiactivo restante (en gramos) en función del tiempo $t$, en años."
   ]
  },
  {
   "cell_type": "markdown",
   "metadata": {},
   "source": [
    "**2. Después de $16$ años, ¿cuántos gramos quedarán de la sustancia radiactiva?**"
   ]
  },
  {
   "cell_type": "markdown",
   "metadata": {},
   "source": [
    "A) 62.5 g\n",
    "\n",
    "B) 125 g\n",
    "\n",
    "C) 0.002 g\n",
    "\n",
    "D) 1000 g"
   ]
  },
  {
   "cell_type": "markdown",
   "metadata": {},
   "source": [
    "**Solución:** A) "
   ]
  },
  {
   "cell_type": "markdown",
   "metadata": {},
   "source": [
    "**3. Un parámetro importante para clasificar la velocidad de decaimiento de un elemento radiactio es la vida media, que es el tiempo que tiene que transcurrir para que la masa inicial decaiga la mitad. La vida media del plomo 210, en años, es**"
   ]
  },
  {
   "cell_type": "markdown",
   "metadata": {},
   "source": [
    "A) 2\n",
    "\n",
    "B) 4\n",
    "\n",
    "C) 8\n",
    "\n",
    "D) 16"
   ]
  },
  {
   "cell_type": "markdown",
   "metadata": {},
   "source": [
    "**Solución:** C)"
   ]
  },
  {
   "cell_type": "markdown",
   "metadata": {},
   "source": [
    "**4. En el laboratorio, con frecuencia se requiere determinar el tiempo que debe transcurrir para que reste una cantidad conocida de material radiactivo. La expresión que permite calcular dicho tiempo para la muestra del plomo 210 es**"
   ]
  },
  {
   "cell_type": "markdown",
   "metadata": {},
   "source": [
    "A) $t=\\dfrac{\\ln\\dfrac{A(t)}{250}}{0.125\\ln2}$\n",
    "\n",
    "B) $t=-\\dfrac{\\ln\\left(\\dfrac{A(t)}{250}\\right)}{0.125\\ln(2)}$\n",
    "\n",
    "C) $t=-\\dfrac{\\sqrt{250A(t)}}{0.125}$\n",
    "\n",
    "D) $t=\\dfrac{1}{0.125}\\sqrt{\\dfrac{A(t)}{250}}$"
   ]
  },
  {
   "cell_type": "markdown",
   "metadata": {},
   "source": [
    "**Solución:** B)"
   ]
  },
  {
   "cell_type": "markdown",
   "metadata": {},
   "source": [
    "## Situación. El área de un trapecio rectángulo con vértices en dos circunferencias"
   ]
  },
  {
   "cell_type": "markdown",
   "metadata": {},
   "source": [
    "Si se tienen dos círculos tangentes en el punto $P_T$ con diámetros $\\overline{P_TD}=10\\ \\rm{cm}$ y $\\overline{P_TC}=5\\ \\rm{cm}$, respectivamente, como se muestra en la figura siguiente"
   ]
  },
  {
   "cell_type": "markdown",
   "metadata": {},
   "source": [
    "<img src=\"situacion_circulos.png\" align=\"middle\" width=\"300\">"
   ]
  },
  {
   "cell_type": "markdown",
   "metadata": {},
   "source": [
    "Notemos que el segmento $\\overline{AD}=x$ es paralelo con el segmento $\\overline{BC}=y$, mientras que el segmento es $\\overline{AB}=h$ es perpendicular a estos dos (porque es una altura). "
   ]
  },
  {
   "cell_type": "markdown",
   "metadata": {},
   "source": [
    "**1. Expresar la altura $h$ en términos de la base mayor $x$ del trapecio [3 puntos]**"
   ]
  },
  {
   "cell_type": "markdown",
   "metadata": {},
   "source": [
    "**Forma 1:** Se nos dibuja un trapecio."
   ]
  },
  {
   "cell_type": "markdown",
   "metadata": {},
   "source": [
    "$x$: base mayor\n",
    "\n",
    "$y$: base menor\n",
    "\n",
    "$h$: altura"
   ]
  },
  {
   "cell_type": "markdown",
   "metadata": {},
   "source": [
    "Queremos encontrar la forma de $h(x)$. Tomando los puntos más \"extremos\" que puede tomar la función encontramos que la función correcta debe cumplir: "
   ]
  },
  {
   "cell_type": "markdown",
   "metadata": {},
   "source": [
    "* $h(0)=5$\n",
    "* $h(10)=0$"
   ]
  },
  {
   "cell_type": "markdown",
   "metadata": {},
   "source": [
    "La única opción que cumple con esto es B)."
   ]
  },
  {
   "cell_type": "markdown",
   "metadata": {},
   "source": [
    "**Forma 2:** Teorema de Pitágoras."
   ]
  },
  {
   "cell_type": "markdown",
   "metadata": {},
   "source": [
    "Nos fijamos en el triangulo rectángulo $ADP_T$."
   ]
  },
  {
   "cell_type": "markdown",
   "metadata": {},
   "source": [
    "$$ (2h)^2+(x)^2=(10)^2 $$"
   ]
  },
  {
   "cell_type": "markdown",
   "metadata": {},
   "source": [
    "Desarrollamos y despejamos $h$."
   ]
  },
  {
   "cell_type": "markdown",
   "metadata": {},
   "source": [
    "$$ 4h^2+x^2=100 $$"
   ]
  },
  {
   "cell_type": "markdown",
   "metadata": {},
   "source": [
    "$$ 4h^2=100-x^2 $$"
   ]
  },
  {
   "cell_type": "markdown",
   "metadata": {},
   "source": [
    "$$ h^2=\\dfrac{100-x^2}{4} $$"
   ]
  },
  {
   "cell_type": "markdown",
   "metadata": {},
   "source": [
    "$$ h=\\sqrt{\\dfrac{100-x^2}{4}} $$"
   ]
  },
  {
   "cell_type": "markdown",
   "metadata": {},
   "source": [
    "Hemos encontrado a la altura como función de la base mayor."
   ]
  },
  {
   "cell_type": "markdown",
   "metadata": {},
   "source": [
    "$$ h(x)=\\sqrt{\\dfrac{100-x^2}{4}} $$"
   ]
  },
  {
   "cell_type": "markdown",
   "metadata": {},
   "source": [
    "A) $h(x)=\\dfrac{\\sqrt{100-x^2}}{4}$\n",
    "\n",
    "B) $h(x)=\\sqrt{\\dfrac{100-x^2}{4}}$\n",
    "\n",
    "C) $h(x)=\\dfrac{\\sqrt{100+x^2}}{4}$\n",
    "\n",
    "D) $h(x)=\\sqrt{\\dfrac{100+x^2}{4}}$"
   ]
  },
  {
   "cell_type": "markdown",
   "metadata": {},
   "source": [
    "**Solución:** B)"
   ]
  },
  {
   "cell_type": "markdown",
   "metadata": {},
   "source": [
    " **2. Expresar la base menor y en términos de la base mayor: [1 punto]**"
   ]
  },
  {
   "cell_type": "markdown",
   "metadata": {},
   "source": [
    "A) $y=\\sqrt{\\dfrac{x}{2}}$\n",
    "\n",
    "B) $y=\\dfrac{\\sqrt{x}}{2}$\n",
    "\n",
    "C) $y=\\dfrac{x}{2}$\n",
    "\n",
    "D) $y=\\dfrac{x}{4}$"
   ]
  },
  {
   "cell_type": "markdown",
   "metadata": {},
   "source": [
    "**3. El promedio de las dos bases de trapecio es: [1 punto]**"
   ]
  },
  {
   "cell_type": "markdown",
   "metadata": {},
   "source": [
    "A) $\\dfrac{2x+\\sqrt{x}}{4}$\n",
    "\n",
    "B) $\\dfrac{\\sqrt{2}x+\\sqrt{x}}{2\\sqrt{2}}$\n",
    "\n",
    "C) $\\dfrac{5}{4}x$\n",
    "\n",
    "D) $\\dfrac{3}{4}x$"
   ]
  },
  {
   "cell_type": "markdown",
   "metadata": {},
   "source": [
    "**4. El área del trapecio en términos de la base mayor es: [3 puntos]**"
   ]
  },
  {
   "cell_type": "markdown",
   "metadata": {},
   "source": [
    "A) $A_T(x)=\\dfrac{3x\\sqrt{100-x^2}}{16}$\n",
    "\n",
    "B) $A_T(x)=\\dfrac{3x\\sqrt{100+x^2}}{16}$\n",
    "\n",
    "C) $A_T(x)=\\dfrac{3x\\sqrt{100+x^2}}{4}$\n",
    "\n",
    "D) $A_T(x)=\\dfrac{3x\\sqrt{100-x^2}}{4}$"
   ]
  },
  {
   "cell_type": "markdown",
   "metadata": {},
   "source": [
    "## Situación. Ventana triangular"
   ]
  },
  {
   "cell_type": "markdown",
   "metadata": {},
   "source": [
    "Para un nuevo centro comercial se diseñan ventanas con forma de triángulo isósceles, cuya altura es el doble de la base menos un metro."
   ]
  },
  {
   "cell_type": "markdown",
   "metadata": {},
   "source": [
    "**1. El área del vidrio de cada ventana, expresado en función de la longitud $x$ de la base es**"
   ]
  },
  {
   "cell_type": "markdown",
   "metadata": {},
   "source": [
    "A) $A(x)=\\dfrac{x(x-1)}{2}$\n",
    "\n",
    "B) $A(x)=\\dfrac{x(1-2x)}{2}$\n",
    "\n",
    "C) $A(x)=\\dfrac{x(1-x)}{2}$\n",
    "\n",
    "D) $A(x)=\\dfrac{x(2x-1)}{2}$"
   ]
  },
  {
   "cell_type": "markdown",
   "metadata": {},
   "source": [
    "**2. Al determinar $A(2)$, se obtiene**"
   ]
  },
  {
   "cell_type": "markdown",
   "metadata": {},
   "source": [
    "A) El doble del área de la ventana\n",
    "\n",
    "B) La base de la ventana para un área de $2$ metros cuadrados\n",
    "\n",
    "C) La altura de la ventana para una base de $2$ metros\n",
    "\n",
    "D) El área de la ventana para una base de $2$ metros"
   ]
  },
  {
   "cell_type": "markdown",
   "metadata": {},
   "source": [
    "**3. El valor de $A(2)$ es**"
   ]
  },
  {
   "cell_type": "markdown",
   "metadata": {},
   "source": [
    "A) $3\\ \\rm{m}^2$\n",
    "\n",
    "B) $1\\ \\rm{m}$\n",
    "\n",
    "C) $3\\ \\rm{m}$\n",
    "\n",
    "D) $4\\ \\rm{m}^2$"
   ]
  },
  {
   "cell_type": "markdown",
   "metadata": {},
   "source": [
    "**4. El dominio de la función es**"
   ]
  },
  {
   "cell_type": "markdown",
   "metadata": {},
   "source": [
    "A) $x\\in(-\\infty,\\infty)$\n",
    "\n",
    "B) $x\\in\\mathbb{R},\\ x\\neq0$\n",
    "\n",
    "C) $x\\in[0,\\infty)$\n",
    "\n",
    "D) $x\\in[2,\\infty)$"
   ]
  },
  {
   "cell_type": "markdown",
   "metadata": {},
   "source": [
    "**5. La función $A(x)=\\dfrac{x(2x-1)}{2}$ también se puede expresar como $A(x)=\\left(x-\\dfrac{1}{4}\\right)^2-\\dfrac{1}{16}$. La gráfica de la función es una parábola vertical cuyas características son**"
   ]
  },
  {
   "cell_type": "markdown",
   "metadata": {},
   "source": [
    "A) $V\\left(\\dfrac{1}{4},\\dfrac{1}{16}\\right)$, abre hacia abajo.\n",
    "\n",
    "B) $V\\left(\\dfrac{1}{4},-\\dfrac{1}{16}\\right)$, abre hacia arriba.\n",
    "\n",
    "C) $V\\left(-\\dfrac{1}{4},-\\dfrac{1}{16}\\right)$, abre hacia abajo.\n",
    "\n",
    "D) $V\\left(-\\dfrac{1}{4},\\dfrac{1}{16}\\right)$, abre hacia arriba."
   ]
  }
 ],
 "metadata": {
  "kernelspec": {
   "display_name": "Julia 1.1.0",
   "language": "julia",
   "name": "julia-1.1"
  },
  "language_info": {
   "file_extension": ".jl",
   "mimetype": "application/julia",
   "name": "julia",
   "version": "1.1.0"
  }
 },
 "nbformat": 4,
 "nbformat_minor": 4
}
