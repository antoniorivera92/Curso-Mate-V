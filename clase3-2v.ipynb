{
 "cells": [
  {
   "cell_type": "markdown",
   "metadata": {},
   "source": [
    "# Funciones para modelar la relación entre variables"
   ]
  },
  {
   "cell_type": "markdown",
   "metadata": {},
   "source": [
    "# Clase 2"
   ]
  },
  {
   "cell_type": "markdown",
   "metadata": {},
   "source": [
    "## ¿Qué es una función?"
   ]
  },
  {
   "cell_type": "markdown",
   "metadata": {},
   "source": [
    "<img src=\"salchicha.jpg\" align=\"middle\" width=\"500\">"
   ]
  },
  {
   "cell_type": "markdown",
   "metadata": {},
   "source": [
    "Una *función* es la relación que asigna un elemento de un conjunto con un solo elemento de otro conjunto."
   ]
  },
  {
   "cell_type": "markdown",
   "metadata": {},
   "source": [
    "* ***Ejemplo:*** Analogía con empresas\n",
    "\n",
    "En una empresa una persona no puede tener dos puestos pero dos personas diferentes pueden ocupar el mismo puesto."
   ]
  },
  {
   "cell_type": "markdown",
   "metadata": {},
   "source": [
    "<img src=\"organigrama.png\" align=\"middle\" width=\"200\">"
   ]
  },
  {
   "cell_type": "markdown",
   "metadata": {},
   "source": [
    "| Persona   | Puesto         |\n",
    "|-----------|----------------|\n",
    "| Martha    | Jefe/Jefa      |\n",
    "| Ricardo   | Finanzas       |\n",
    "| Héctor    | Redes sociales |\n",
    "| Elizabeth | Conserje       |\n",
    "| Mónica  |  Jefe/Jefa              |\n",
    "| Antonio    |  Conserje              |"
   ]
  },
  {
   "cell_type": "markdown",
   "metadata": {},
   "source": [
    "En este sentido decimos que el puesto dentro de la empresa *\"está en función\"* de la persona de la que hablemos."
   ]
  },
  {
   "cell_type": "markdown",
   "metadata": {},
   "source": [
    "¿Por qué?"
   ]
  },
  {
   "cell_type": "markdown",
   "metadata": {},
   "source": [
    "Porque si te pregunto: ¿Quién es el jefe?\n",
    "\n",
    "me puedes responder: hay dos"
   ]
  },
  {
   "cell_type": "markdown",
   "metadata": {},
   "source": [
    "Pero si te pregunto: ¿Qué hace Martha?\n",
    "\n",
    "me puedes responder: es una de las jefas."
   ]
  },
  {
   "cell_type": "markdown",
   "metadata": {},
   "source": [
    "$$ f(\\rm{Martha})=Jefa $$"
   ]
  },
  {
   "cell_type": "markdown",
   "metadata": {},
   "source": [
    "$$ f(\\rm{Mónica})=Jefa $$"
   ]
  },
  {
   "cell_type": "markdown",
   "metadata": {},
   "source": [
    "$$ f(\\rm{Antonio})=Conserje $$"
   ]
  },
  {
   "cell_type": "markdown",
   "metadata": {},
   "source": [
    "* ***Ejemplo:*** Fútbol\n",
    "\n",
    "La pelota de fútbol sólo puede estar en un solo lugar a la vez en la cancha. Si hubiera dos pelotas en la cancha a la vez es *tranza*."
   ]
  },
  {
   "cell_type": "markdown",
   "metadata": {},
   "source": [
    "| Tiempo del partido | Posición del balón en la cancha |\n",
    "|:------------------:|---------------------------------|\n",
    "|        0 min       | Media cancha                    |\n",
    "|       10 min       | Zona del Real Madrid            |\n",
    "|       30 min       | Zona del Barcelona              |\n",
    "|       45 min       | Media cancha                    |\n",
    "|       70 min       | Zona del Real Madrid            |\n",
    "|       80 min       | Portería del Barcelona          |\n",
    "|       81 min       | Media cancha                    |\n",
    "|       87 min       | Portería del Real Madrid        |\n",
    "|       88 min       | Media Cancha                    |"
   ]
  },
  {
   "cell_type": "markdown",
   "metadata": {},
   "source": [
    "En este sentido decimos que la posición del balón *\"está en función\"* del tiempo del partido."
   ]
  },
  {
   "cell_type": "markdown",
   "metadata": {},
   "source": [
    "$$p(10\\ \\rm{min})=\\text{Zona del Real Madrid}$$"
   ]
  },
  {
   "cell_type": "markdown",
   "metadata": {},
   "source": [
    "## Variable independiente y dependiente"
   ]
  },
  {
   "cell_type": "markdown",
   "metadata": {},
   "source": [
    "* ***Ejemplo:***"
   ]
  },
  {
   "cell_type": "markdown",
   "metadata": {},
   "source": [
    "$$ y=\\dfrac{x^2-2}{7} $$"
   ]
  },
  {
   "cell_type": "markdown",
   "metadata": {},
   "source": [
    "Cuando $x=-3$"
   ]
  },
  {
   "cell_type": "markdown",
   "metadata": {},
   "source": [
    "$$ y=\\dfrac{(-3)^2-2}{7}=\\dfrac{9-2}{7}=\\dfrac{7}{7}=1 $$"
   ]
  },
  {
   "cell_type": "markdown",
   "metadata": {},
   "source": [
    "Esto nos da las coordenadas:"
   ]
  },
  {
   "cell_type": "markdown",
   "metadata": {},
   "source": [
    "$$ (-3,1) $$"
   ]
  },
  {
   "cell_type": "markdown",
   "metadata": {},
   "source": [
    "Hacemos tabulación:"
   ]
  },
  {
   "cell_type": "markdown",
   "metadata": {},
   "source": [
    "|  $ x $ | $ y=\\dfrac{x^2-2}{7} $ |\n",
    "|:------:|------------------------|\n",
    "| $ -3 $ | $ 1 $                   |\n",
    "| $ -2 $ | $  $                   |\n",
    "| $ -1 $ | $  $                   |\n",
    "|  $ 0 $ | $  $                   |\n",
    "|  $ 1 $ | $  $                   |\n",
    "|  $ 2 $ | $  $                   |\n",
    "|  $ 3 $ | $  $                   |"
   ]
  },
  {
   "cell_type": "markdown",
   "metadata": {},
   "source": [
    "Esto quiere decir que $x$ y $y$ no pueden tomar cualquier valor que se nos dé la gana. \n",
    "\n",
    "**$y$ depende del valor de $x$.**\n",
    "\n",
    "**$y$ está en función de $x$.**"
   ]
  },
  {
   "cell_type": "markdown",
   "metadata": {},
   "source": [
    "La manera en que la variable dependiente depende de la variable independiente le llamamos *regla de correspondencia*."
   ]
  },
  {
   "cell_type": "markdown",
   "metadata": {},
   "source": [
    "Decimos que una ecuación de dos o más variables es una ecuación *implícita* cuando sus variables están mezcladas con operaciones."
   ]
  },
  {
   "cell_type": "markdown",
   "metadata": {},
   "source": [
    "* ***Ejemplo:***"
   ]
  },
  {
   "cell_type": "markdown",
   "metadata": {},
   "source": [
    "$$ x^2-7y=2 $$"
   ]
  },
  {
   "cell_type": "markdown",
   "metadata": {},
   "source": [
    "Decimos que una ecuación de dos o más variables es *explícita* cuando algunas de sus variables está despejada. Por ejemplo:"
   ]
  },
  {
   "cell_type": "markdown",
   "metadata": {},
   "source": [
    "* ***Ejemplo:***"
   ]
  },
  {
   "cell_type": "markdown",
   "metadata": {},
   "source": [
    "$$ y=\\dfrac{x^2-2}{7} $$"
   ]
  },
  {
   "cell_type": "markdown",
   "metadata": {},
   "source": [
    "$$ y=f(x)=\\dfrac{x^2-2}{7} $$"
   ]
  },
  {
   "cell_type": "markdown",
   "metadata": {},
   "source": [
    "* ***Ejemplo:***"
   ]
  },
  {
   "cell_type": "markdown",
   "metadata": {},
   "source": [
    "$$ x^2=2+7y $$"
   ]
  },
  {
   "cell_type": "markdown",
   "metadata": {},
   "source": [
    "$$ x=\\sqrt{2+7y} $$"
   ]
  },
  {
   "cell_type": "markdown",
   "metadata": {},
   "source": [
    "$$ x=g(y)=\\sqrt{2+7y} $$"
   ]
  },
  {
   "cell_type": "markdown",
   "metadata": {},
   "source": [
    "Cuando tenemos una ecuación implícita, decimos que la variable despejada es *la variable dependiente*, mientras que la variable **no** despejada es la *variable independiente*."
   ]
  },
  {
   "cell_type": "markdown",
   "metadata": {},
   "source": [
    "¿Por qué? Porque aunque no sabemos los valores de cualquiera de las dos variables, podemos ver qué le pasa a $y$ cuando $x$ toma cierto valor."
   ]
  },
  {
   "cell_type": "markdown",
   "metadata": {},
   "source": [
    "* ***Ejemplo:***"
   ]
  },
  {
   "cell_type": "markdown",
   "metadata": {},
   "source": [
    "$$ y=\\dfrac{x^2-2}{7} $$"
   ]
  },
  {
   "cell_type": "markdown",
   "metadata": {},
   "source": [
    "En ese sentido podemos escribir"
   ]
  },
  {
   "cell_type": "markdown",
   "metadata": {},
   "source": [
    "$$ y=f(x)=\\dfrac{x^2-2}{7} $$"
   ]
  },
  {
   "cell_type": "markdown",
   "metadata": {},
   "source": [
    "De hecho, en general diremos que la variable dependiente es la función."
   ]
  },
  {
   "cell_type": "markdown",
   "metadata": {},
   "source": [
    "* ***Ejemplo:*** Cuadrado del examen 1."
   ]
  },
  {
   "cell_type": "markdown",
   "metadata": {},
   "source": [
    "****1. La diagonal de un cuadrado mide $x$ unidades. Su área, en unidades cuadradas, es****"
   ]
  },
  {
   "cell_type": "markdown",
   "metadata": {},
   "source": [
    "$$ A=L\\cdot L=L^2=\\dfrac{x^2}{2} $$"
   ]
  },
  {
   "cell_type": "markdown",
   "metadata": {},
   "source": [
    "Tenemos un cuadrado cuya diagonal mide $5\\ \\rm{cm}$."
   ]
  },
  {
   "cell_type": "markdown",
   "metadata": {},
   "source": [
    "Entonces el área del cuadrado es"
   ]
  },
  {
   "cell_type": "markdown",
   "metadata": {},
   "source": [
    "$$ A=\\dfrac{(5\\ \\rm{cm})^2}{2}=12.5\\ \\rm{cm}^2 $$"
   ]
  },
  {
   "cell_type": "markdown",
   "metadata": {},
   "source": [
    "<img src=\"fractal1.png\" align=\"middle\" width=\"160\">"
   ]
  },
  {
   "cell_type": "markdown",
   "metadata": {},
   "source": [
    "$$ A(x)=\\dfrac{x^2}{2} $$"
   ]
  },
  {
   "cell_type": "markdown",
   "metadata": {},
   "source": [
    "En funciones se escribe"
   ]
  },
  {
   "cell_type": "markdown",
   "metadata": {},
   "source": [
    "$$ A(5\\ \\rm{cm})=12.5\\ \\rm{cm}^2 $$"
   ]
  },
  {
   "cell_type": "markdown",
   "metadata": {},
   "source": [
    "## ¿Cómo graficar funciones?"
   ]
  },
  {
   "cell_type": "markdown",
   "metadata": {},
   "source": [
    "Para graficar tenemos que irnos a un plano cartesiano."
   ]
  },
  {
   "cell_type": "markdown",
   "metadata": {},
   "source": [
    "Tenemos que evaluar la función en un cierto valor: \n",
    "\n",
    "* El valor que damos a la variable independiente será la abscisa\n",
    "* El valor que adquiere la variable dependiente será la ordenada"
   ]
  },
  {
   "cell_type": "markdown",
   "metadata": {},
   "source": [
    "* ***Ejemplo:***"
   ]
  },
  {
   "cell_type": "markdown",
   "metadata": {},
   "source": [
    "$$ y=f(x)=\\dfrac{x^2-2}{7} $$"
   ]
  },
  {
   "cell_type": "code",
   "execution_count": 1,
   "metadata": {},
   "outputs": [
    {
     "data": {
      "text/plain": [
       "0.2857142857142857"
      ]
     },
     "execution_count": 1,
     "metadata": {},
     "output_type": "execute_result"
    }
   ],
   "source": [
    "((-2)^2-2)/7"
   ]
  },
  {
   "cell_type": "code",
   "execution_count": 2,
   "metadata": {},
   "outputs": [
    {
     "data": {
      "text/plain": [
       "-0.14285714285714285"
      ]
     },
     "execution_count": 2,
     "metadata": {},
     "output_type": "execute_result"
    }
   ],
   "source": [
    "((-1)^2-2)/7"
   ]
  },
  {
   "cell_type": "code",
   "execution_count": 4,
   "metadata": {},
   "outputs": [
    {
     "data": {
      "text/plain": [
       "-0.2857142857142857"
      ]
     },
     "execution_count": 4,
     "metadata": {},
     "output_type": "execute_result"
    }
   ],
   "source": [
    "((0)^2-2)/7"
   ]
  },
  {
   "cell_type": "code",
   "execution_count": 5,
   "metadata": {},
   "outputs": [
    {
     "data": {
      "text/plain": [
       "-0.14285714285714285"
      ]
     },
     "execution_count": 5,
     "metadata": {},
     "output_type": "execute_result"
    }
   ],
   "source": [
    "((1)^2-2)/7"
   ]
  },
  {
   "cell_type": "code",
   "execution_count": 6,
   "metadata": {},
   "outputs": [
    {
     "data": {
      "text/plain": [
       "0.2857142857142857"
      ]
     },
     "execution_count": 6,
     "metadata": {},
     "output_type": "execute_result"
    }
   ],
   "source": [
    "((2)^2-2)/7"
   ]
  },
  {
   "cell_type": "code",
   "execution_count": 7,
   "metadata": {},
   "outputs": [
    {
     "data": {
      "text/plain": [
       "1.0"
      ]
     },
     "execution_count": 7,
     "metadata": {},
     "output_type": "execute_result"
    }
   ],
   "source": [
    "((3)^2-2)/7"
   ]
  },
  {
   "cell_type": "markdown",
   "metadata": {},
   "source": [
    "|  $ x $ | $ f(x)=\\dfrac{x^2-2}{7} $ |\n",
    "|:------:|------------------------|\n",
    "| $ -3 $ | $ 1 $                   |\n",
    "| $ -2 $ | $ 0.285 $                   |\n",
    "| $ -1 $ | $ -0.142 $                   |\n",
    "|  $ 0 $ | $ -0.285 $                   |\n",
    "|  $ 1 $ | $ -0.142 $                   |\n",
    "|  $ 2 $ | $ 0.285 $                   |\n",
    "|  $ 3 $ | $ 1 $                   |"
   ]
  },
  {
   "cell_type": "markdown",
   "metadata": {},
   "source": [
    "Al tabular obtenemos las coordenadas:"
   ]
  },
  {
   "cell_type": "markdown",
   "metadata": {},
   "source": [
    "$$ f(0)=-0.285 $$"
   ]
  },
  {
   "cell_type": "markdown",
   "metadata": {},
   "source": [
    "Estas son las coordenadas para ese valor de la función:\n",
    "$$ (0,-0.285) $$"
   ]
  },
  {
   "cell_type": "markdown",
   "metadata": {},
   "source": [
    "$$ f(-2)=0.285 $$"
   ]
  },
  {
   "cell_type": "markdown",
   "metadata": {},
   "source": [
    "Estas son las coordenadas para ese valor de la función:\n",
    "$$ (-2,0.285) $$"
   ]
  },
  {
   "cell_type": "markdown",
   "metadata": {},
   "source": [
    "$$ f(20)=\\frac{20^2-2}{7}=56.857 $$"
   ]
  },
  {
   "cell_type": "markdown",
   "metadata": {},
   "source": [
    "Estas son las coordenadas para ese valor de la función:\n",
    "$$ (20,56.857) $$"
   ]
  },
  {
   "cell_type": "markdown",
   "metadata": {},
   "source": [
    "## ¿Qué significa que una función *\"esté bien definida\"*?"
   ]
  },
  {
   "cell_type": "markdown",
   "metadata": {},
   "source": [
    "Significa que al momento de evaluar una función sea posible definir su valor."
   ]
  },
  {
   "cell_type": "markdown",
   "metadata": {},
   "source": [
    "* ***Ejemplo:*** $f(x)=\\dfrac{x-3}{x+3}$"
   ]
  },
  {
   "cell_type": "markdown",
   "metadata": {},
   "source": [
    "$$ f(1)=\\frac{1-3}{1+3} $$"
   ]
  },
  {
   "cell_type": "markdown",
   "metadata": {},
   "source": [
    "$$ =\\frac{-2}{4} $$"
   ]
  },
  {
   "cell_type": "markdown",
   "metadata": {},
   "source": [
    "$$ f(3)=\\dfrac{3-3}{3+3} $$"
   ]
  },
  {
   "cell_type": "markdown",
   "metadata": {},
   "source": [
    "$$ =\\dfrac{0}{6}=0 $$"
   ]
  },
  {
   "cell_type": "markdown",
   "metadata": {},
   "source": [
    "$$ f(-3)=\\frac{-3-3}{-3+3} $$"
   ]
  },
  {
   "cell_type": "markdown",
   "metadata": {},
   "source": [
    "$$ =\\frac{-6}{0}=\\rm{N.D.} $$"
   ]
  },
  {
   "cell_type": "markdown",
   "metadata": {},
   "source": [
    "Que no esté bien definida significa que hemos llegado a una operación aritmética que **no** sabemos hacer. Pero no se sientan mal. **Nadie** sabe cómo hacer estas operaciones."
   ]
  },
  {
   "cell_type": "markdown",
   "metadata": {},
   "source": [
    "Operaciones aritméticas que nadie sabe cómo hacer:\n",
    "\n",
    "* Dividir entre cero\n",
    "* Obtener la raíz cuadrada de un número negativo\n",
    "* Obtener la tangente de $90^\\circ$ y $270^\\circ$\n",
    "* Obtener el logaritmo de cero o de un número negativo"
   ]
  },
  {
   "cell_type": "markdown",
   "metadata": {},
   "source": [
    "## Dominio máximo"
   ]
  },
  {
   "cell_type": "markdown",
   "metadata": {},
   "source": [
    "*Son los valores de la variable independiente para los que la función está bien definida.*"
   ]
  },
  {
   "cell_type": "markdown",
   "metadata": {},
   "source": [
    "Con lamparita: El dominio máximo de una función son las sombras que se forman en el eje horizontal al poner linternas por arriba y por abajo de mi gráfica."
   ]
  },
  {
   "cell_type": "markdown",
   "metadata": {},
   "source": [
    "## Contradominio o codominio"
   ]
  },
  {
   "cell_type": "markdown",
   "metadata": {},
   "source": [
    "*Son los valores posible que puede tomar mi función.*"
   ]
  },
  {
   "cell_type": "markdown",
   "metadata": {},
   "source": [
    "## Rango o imagen"
   ]
  },
  {
   "cell_type": "markdown",
   "metadata": {},
   "source": [
    "*Son los valores que la variable dependiente puede tomar para el dominio que le damos.*"
   ]
  },
  {
   "cell_type": "markdown",
   "metadata": {},
   "source": [
    "Con lamparita: El rango de una función son las sombras que se forman en el eje vertical al poner linternas por la izquiera y por la derecha de mi gráfica."
   ]
  },
  {
   "cell_type": "markdown",
   "metadata": {},
   "source": [
    "<img src=\"dominio1.png\" align=\"middle\" width=\"500\">"
   ]
  },
  {
   "cell_type": "markdown",
   "metadata": {},
   "source": [
    "<img src=\"dominio2.png\" align=\"middle\" width=\"500\">"
   ]
  },
  {
   "cell_type": "markdown",
   "metadata": {},
   "source": [
    "* ***Ejemplo:*** $f(x)=\\dfrac{x-3}{x+3}$"
   ]
  },
  {
   "cell_type": "markdown",
   "metadata": {},
   "source": [
    "$$ f(1)=-0.5 $$"
   ]
  },
  {
   "cell_type": "markdown",
   "metadata": {},
   "source": [
    "$$ f(3)=0 $$"
   ]
  },
  {
   "cell_type": "markdown",
   "metadata": {},
   "source": [
    "$$ f(-3)=\\rm{N.D.} $$"
   ]
  },
  {
   "cell_type": "markdown",
   "metadata": {},
   "source": [
    "$$\\text{Dominio}=\\{1,3\\}$$"
   ]
  },
  {
   "cell_type": "markdown",
   "metadata": {},
   "source": [
    "$$\\text{Codominio}=\\mathbb{R}$$"
   ]
  },
  {
   "cell_type": "markdown",
   "metadata": {},
   "source": [
    "$$\\text{Rango}=\\{-0.5,0\\}$$"
   ]
  },
  {
   "cell_type": "markdown",
   "metadata": {},
   "source": [
    "* ***Ejemplo:*** $f(x)=x^2$"
   ]
  },
  {
   "cell_type": "markdown",
   "metadata": {},
   "source": [
    "$$ f(-2)=4 $$"
   ]
  },
  {
   "cell_type": "markdown",
   "metadata": {},
   "source": [
    "$$ f(-1)=1 $$"
   ]
  },
  {
   "cell_type": "markdown",
   "metadata": {},
   "source": [
    "$$ f(0)=0 $$"
   ]
  },
  {
   "cell_type": "markdown",
   "metadata": {},
   "source": [
    "$$ f(1)=1 $$"
   ]
  },
  {
   "cell_type": "markdown",
   "metadata": {},
   "source": [
    "$$ f(2)=4 $$"
   ]
  },
  {
   "cell_type": "markdown",
   "metadata": {},
   "source": [
    "$$\\text{Dominio}=\\{-2,-1,0,1,2\\}$$"
   ]
  },
  {
   "cell_type": "markdown",
   "metadata": {},
   "source": [
    "$$\\text{Codominio}=\\mathbb{R}$$"
   ]
  },
  {
   "cell_type": "markdown",
   "metadata": {},
   "source": [
    "$$\\text{Rango}=\\{0,1,4\\}$$"
   ]
  },
  {
   "cell_type": "markdown",
   "metadata": {},
   "source": [
    "* ***Ejemplo:*** $f(t)=\\sin(t)$"
   ]
  },
  {
   "cell_type": "markdown",
   "metadata": {},
   "source": [
    "$$\\text{Dominio}=\\mathbb{R}=(-\\infty,\\infty)$$"
   ]
  },
  {
   "cell_type": "markdown",
   "metadata": {},
   "source": [
    "$$\\text{Rango}=[-1,1] $$"
   ]
  },
  {
   "cell_type": "markdown",
   "metadata": {},
   "source": [
    "* ***Ejemplo:*** $f(z)=z^{2}-2z+1$"
   ]
  },
  {
   "cell_type": "markdown",
   "metadata": {},
   "source": [
    "$$\\text{Dominio}=\\mathbb{R}=(-\\infty,\\infty)$$"
   ]
  },
  {
   "cell_type": "markdown",
   "metadata": {},
   "source": [
    "$$\\text{Rango}=[0,\\infty) $$"
   ]
  },
  {
   "cell_type": "markdown",
   "metadata": {},
   "source": [
    "$$\\text{Codominio}=\\mathbb{R}$$"
   ]
  },
  {
   "cell_type": "markdown",
   "metadata": {},
   "source": [
    "## Asíntota"
   ]
  },
  {
   "cell_type": "markdown",
   "metadata": {},
   "source": [
    "*Recta a la cual una función se aproxima pero nunca toca.*"
   ]
  },
  {
   "cell_type": "markdown",
   "metadata": {},
   "source": [
    "* ***Ejemplo:*** $f(t)=\\dfrac{2+t}{t}$"
   ]
  },
  {
   "cell_type": "markdown",
   "metadata": {},
   "source": [
    "$$\\text{Dominio}=\\mathbb{R}-\\{0\\}=(-\\infty,0)\\cup(0,\\infty)$$"
   ]
  },
  {
   "cell_type": "markdown",
   "metadata": {},
   "source": [
    "$$\\text{Rango}=\\mathbb{R}-\\{1\\}=(-\\infty,1)\\cup(1,\\infty)$$"
   ]
  },
  {
   "cell_type": "markdown",
   "metadata": {},
   "source": [
    "$$\\text{Codominio}=\\mathbb{R}$$"
   ]
  },
  {
   "cell_type": "markdown",
   "metadata": {},
   "source": [
    "## Función polinomial"
   ]
  },
  {
   "cell_type": "markdown",
   "metadata": {},
   "source": [
    "Recordemos que un polinomio es la suma de términos de que tiene una variable elevada a una potencia entera positiva."
   ]
  },
  {
   "cell_type": "markdown",
   "metadata": {},
   "source": [
    "$$ x^5-6x^4+19x^2-x+109 $$"
   ]
  },
  {
   "cell_type": "markdown",
   "metadata": {},
   "source": [
    "Una función polinomial tiene la forma"
   ]
  },
  {
   "cell_type": "markdown",
   "metadata": {},
   "source": [
    "$$ f(x)=ax^4+bx^3+cx^2+dx+e $$"
   ]
  },
  {
   "cell_type": "markdown",
   "metadata": {},
   "source": [
    "El dominio máximo de cualquier función polinomial es $\\mathbb{R}$."
   ]
  },
  {
   "cell_type": "markdown",
   "metadata": {},
   "source": [
    "### Función lineal (de primer grado)"
   ]
  },
  {
   "cell_type": "markdown",
   "metadata": {},
   "source": [
    "$$ f(x)=ax+b $$"
   ]
  },
  {
   "cell_type": "markdown",
   "metadata": {},
   "source": [
    "**¿A qué se parece?** A la ecuación de la recta"
   ]
  },
  {
   "cell_type": "markdown",
   "metadata": {},
   "source": [
    "* ***Ejemplo:*** $f(x)=-4x+7$"
   ]
  },
  {
   "cell_type": "markdown",
   "metadata": {},
   "source": [
    "* ***Ejemplo:*** $g(t)=\\dfrac{3}{2}-\\dfrac{5}{2}t$"
   ]
  },
  {
   "cell_type": "markdown",
   "metadata": {},
   "source": [
    "## Dominio natural"
   ]
  },
  {
   "cell_type": "markdown",
   "metadata": {},
   "source": [
    "*Son los valores de la variable independiente para los que la función está bien definida y tienen sentido.*"
   ]
  },
  {
   "cell_type": "markdown",
   "metadata": {},
   "source": [
    "* ***Ejemplo:*** La función \n",
    "\n",
    "$$\\rm{Chamba}\\,(t)=1-\\frac{1}{24}t$$ \n",
    "\n",
    "nos dice que tan eficientes somos al chambear en un día entero. Si la variable independiente $t$ representa el tiempo que ha pasado al comenzar un día en horas, ¿cuál es su dominio máximo y su dominio natural?"
   ]
  },
  {
   "cell_type": "markdown",
   "metadata": {},
   "source": [
    "$$\\text{Dominio máximo}=\\mathbb{R}$$"
   ]
  },
  {
   "cell_type": "markdown",
   "metadata": {},
   "source": [
    "$$\\text{Dominio natural}=[0,24]$$"
   ]
  },
  {
   "cell_type": "markdown",
   "metadata": {},
   "source": [
    "* ***Ejemplo:*** Cuadrado del examen 1."
   ]
  },
  {
   "cell_type": "markdown",
   "metadata": {},
   "source": [
    "La diagonal de un cuadrado mide $x$ unidades. Su área, en unidades cuadradas, es"
   ]
  },
  {
   "cell_type": "markdown",
   "metadata": {},
   "source": [
    "$$ A(x)=\\dfrac{x^2}{2} $$"
   ]
  },
  {
   "cell_type": "markdown",
   "metadata": {},
   "source": [
    "¿Cuál es el dominio máximo y el dominio natural de la función $A(x)$?"
   ]
  },
  {
   "cell_type": "markdown",
   "metadata": {},
   "source": [
    "$$\\text{Dominio máximo}=\\mathbb{R}$$"
   ]
  },
  {
   "cell_type": "markdown",
   "metadata": {},
   "source": [
    "$$\\text{Dominio natural}=(0,\\infty)$$"
   ]
  },
  {
   "cell_type": "markdown",
   "metadata": {},
   "source": [
    "<img src=\"fractal1.png\" align=\"middle\" width=\"160\">"
   ]
  },
  {
   "cell_type": "markdown",
   "metadata": {},
   "source": [
    "### Situación: Cantidad de combustible en una moto"
   ]
  },
  {
   "cell_type": "markdown",
   "metadata": {},
   "source": [
    "El rendimiento de un vehículo expresado como la cantidad de litros de gasolina que\n",
    "consume por kilómetro es una medida útil para saber el gasto necesario derivado\n",
    "del uso de éste. Mientras mayor es el rendimiento se obtiene un ahorro mayor de\n",
    "combustible, en consecuencia, su uso resulta menos costoso y puede tener un\n",
    "impacto menor en el ambiente. En general, las motocicletas presentan un\n",
    "rendimiento mayor en relación con un automóvil cuando se trata de transportar a\n",
    "uno o dos pasajeros. Existe un modelo de motocicleta con un tanque con capacidad\n",
    "de 15 litros, que cuenta con un rendimiento de 24 kilómetros por litro."
   ]
  },
  {
   "cell_type": "markdown",
   "metadata": {},
   "source": [
    "Se desea conocer la cantidad de gasolina en el tanque, a partir de la distancia en\n",
    "kilómetros recorrida, indicada por la variable $k$, al iniciar un viaje con tanque lleno y sin recargar éste.\n"
   ]
  },
  {
   "cell_type": "markdown",
   "metadata": {},
   "source": [
    "**1. A partir de la información de la cantidad de gasolina en el tanque y los kilómetros recorridos mostrada en la siguiente tabla. ¿Cuál es la función que relaciona ambas variables?**\n"
   ]
  },
  {
   "cell_type": "markdown",
   "metadata": {},
   "source": [
    "| Kilómetros | Cantidad de gasolina consumida | Cantidad de gasolina en el tanque |\n",
    "|------------|--------------------------------|-----------------------------------|\n",
    "| $ 0 $      | $ 0 $                          | $ 15 $                            |\n",
    "| $ 12 $     | $ 0.5 $                        | $ 14.5 $                          |\n",
    "| $ 30.6 $   | $ 1.275 $                      | $ 13.725 $                        |\n",
    "| $ 60 $     | $ 2.5 $                        | $ 12.5 $                          |\n",
    "| $ 250.2 $  | $ 10.425 $                     | $ 4.575 $                         |\n",
    "| $ 360 $    | $ 15 $                         | $ 0 $                             |"
   ]
  },
  {
   "cell_type": "markdown",
   "metadata": {},
   "source": [
    "A) $G(k)=15+\\dfrac{1}{24}k$\n",
    "\n",
    "B) $G(k)=15+24k$\n",
    "\n",
    "C) $G(k)=15-\\dfrac{1}{24}k$\n",
    "\n",
    "D) $G(k)=15-24k$"
   ]
  },
  {
   "cell_type": "markdown",
   "metadata": {},
   "source": [
    "**Solución:** "
   ]
  },
  {
   "cell_type": "markdown",
   "metadata": {},
   "source": [
    "**2. Es la cantidad en litros que quedan en el tanque cuando la moto ha recorrido 48\n",
    "kilómetros:**"
   ]
  },
  {
   "cell_type": "markdown",
   "metadata": {},
   "source": [
    "A) $17$\n",
    "\n",
    "B) $2$\n",
    "\n",
    "C) $13$\n",
    "\n",
    "D) $6$"
   ]
  },
  {
   "cell_type": "markdown",
   "metadata": {},
   "source": [
    "**Solución:** "
   ]
  },
  {
   "cell_type": "markdown",
   "metadata": {},
   "source": [
    "**3. ¿Cuántos kilómetros ha recorrido la motocicleta si hay 7 litros de gasolina restantes en el tanque?**\n"
   ]
  },
  {
   "cell_type": "markdown",
   "metadata": {},
   "source": [
    "A) $14.9$\n",
    "\n",
    "B) $360$\n",
    "\n",
    "C) $192$\n",
    "\n",
    "D) $353$"
   ]
  },
  {
   "cell_type": "markdown",
   "metadata": {},
   "source": [
    "**Solución:** "
   ]
  }
 ],
 "metadata": {
  "kernelspec": {
   "display_name": "Julia 1.1.0",
   "language": "julia",
   "name": "julia-1.1"
  },
  "language_info": {
   "file_extension": ".jl",
   "mimetype": "application/julia",
   "name": "julia",
   "version": "1.1.0"
  }
 },
 "nbformat": 4,
 "nbformat_minor": 4
}
